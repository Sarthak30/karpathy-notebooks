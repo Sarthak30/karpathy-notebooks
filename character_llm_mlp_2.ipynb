{
  "nbformat": 4,
  "nbformat_minor": 0,
  "metadata": {
    "colab": {
      "provenance": [],
      "authorship_tag": "ABX9TyNwrMFXHOb0vXngOq3jEx8l"
    },
    "kernelspec": {
      "name": "python3",
      "display_name": "Python 3"
    },
    "language_info": {
      "name": "python"
    }
  },
  "cells": [
    {
      "cell_type": "code",
      "execution_count": 1,
      "metadata": {
        "id": "3ywVEHOhkZcb"
      },
      "outputs": [],
      "source": [
        "import torch\n",
        "import torch.nn.functional as F\n",
        "import matplotlib.pyplot as plt\n",
        "%matplotlib inline"
      ]
    },
    {
      "cell_type": "code",
      "source": [
        "words = open('names.txt', 'r').read().splitlines()\n",
        "words[:8]"
      ],
      "metadata": {
        "colab": {
          "base_uri": "https://localhost:8080/"
        },
        "id": "cNloYtLVk330",
        "outputId": "447c0f2e-80f5-4e77-e110-0b755c2bc6a9"
      },
      "execution_count": 2,
      "outputs": [
        {
          "output_type": "execute_result",
          "data": {
            "text/plain": [
              "['emma', 'olivia', 'ava', 'isabella', 'sophia', 'charlotte', 'mia', 'amelia']"
            ]
          },
          "metadata": {},
          "execution_count": 2
        }
      ]
    },
    {
      "cell_type": "code",
      "source": [
        "len(words)"
      ],
      "metadata": {
        "colab": {
          "base_uri": "https://localhost:8080/"
        },
        "id": "MpUDIy0ck7wN",
        "outputId": "bb95aed1-8f32-4d9a-e9ec-d9b58f6839f6"
      },
      "execution_count": 3,
      "outputs": [
        {
          "output_type": "execute_result",
          "data": {
            "text/plain": [
              "32033"
            ]
          },
          "metadata": {},
          "execution_count": 3
        }
      ]
    },
    {
      "cell_type": "code",
      "source": [
        "chars = sorted(list(set(''.join(words))))\n",
        "stoi = {s:i+1 for i, s in enumerate(chars)}\n",
        "stoi['.'] = 0\n",
        "itos = {i:s for s, i in stoi.items()}\n",
        "vocab_size = len(itos)\n",
        "print(itos)\n",
        "print(vocab_size)"
      ],
      "metadata": {
        "colab": {
          "base_uri": "https://localhost:8080/"
        },
        "id": "G0H0LaV0k9Bc",
        "outputId": "fdaba2da-b0c0-4a8d-ee38-5e7ad4ee00af"
      },
      "execution_count": 4,
      "outputs": [
        {
          "output_type": "stream",
          "name": "stdout",
          "text": [
            "{1: 'a', 2: 'b', 3: 'c', 4: 'd', 5: 'e', 6: 'f', 7: 'g', 8: 'h', 9: 'i', 10: 'j', 11: 'k', 12: 'l', 13: 'm', 14: 'n', 15: 'o', 16: 'p', 17: 'q', 18: 'r', 19: 's', 20: 't', 21: 'u', 22: 'v', 23: 'w', 24: 'x', 25: 'y', 26: 'z', 0: '.'}\n",
            "27\n"
          ]
        }
      ]
    },
    {
      "cell_type": "code",
      "source": [
        " block_size = 3\n",
        "\n",
        " def build_dataset(words):\n",
        "  X, Y = [], []\n",
        "\n",
        "  for w in words:\n",
        "    context = [0] * block_size\n",
        "    for ch in w + '.':\n",
        "      ix = stoi[ch]\n",
        "      X.append(context)\n",
        "      Y.append(ix)\n",
        "      context = context[1:] + [ix]\n",
        "\n",
        "  X = torch.tensor(X)\n",
        "  Y = torch.tensor(Y)\n",
        "  print(X.shape, Y.shape)\n",
        "  return X, Y\n",
        "\n",
        "import random\n",
        "random.seed(42)\n",
        "random.shuffle(words)\n",
        "n1 = int(0.8*len(words))\n",
        "n2 = int(0.9*len(words))\n",
        "\n",
        "n1 = int(0.8*len(words))\n",
        "n2 = int(0.9*len(words))\n",
        "\n",
        "Xtr, Ytr = build_dataset(words[:n1])\n",
        "Xdev, Ydev = build_dataset(words[n1:n2])\n",
        "Xte, Yte = build_dataset(words[n2:])"
      ],
      "metadata": {
        "colab": {
          "base_uri": "https://localhost:8080/"
        },
        "id": "nQZiGNpklNl4",
        "outputId": "d4c77c3a-ec96-4d0f-f302-5b278217961f"
      },
      "execution_count": 6,
      "outputs": [
        {
          "output_type": "stream",
          "name": "stdout",
          "text": [
            "torch.Size([182580, 3]) torch.Size([182580])\n",
            "torch.Size([22767, 3]) torch.Size([22767])\n",
            "torch.Size([22799, 3]) torch.Size([22799])\n"
          ]
        }
      ]
    },
    {
      "cell_type": "code",
      "source": [
        " # MLP revisited\n",
        "n_embed = 10 # the dimensionality of the character embedding vectors\n",
        "n_hidden = 200 # the number of neurons in the hidden layer of the MLP\n",
        "\n",
        "C = torch.randn((vocab_size, n_embed))\n",
        "W1 = torch.randn((n_embed * block_size, n_hidden)) * 0.01\n",
        "b1 = torch.randn(n_hidden) * 0.01\n",
        "W2 = torch.randn((n_hidden, vocab_size)) * 0.01\n",
        "b2 = torch.randn(vocab_size) * 0\n",
        "\n",
        "parameters = [C, W1, b1, W2, b2]\n",
        "print(sum(p.nelement() for p in parameters)) # number of parameters in total\n",
        "\n",
        "for p in parameters:\n",
        "  p.requires_grad = True"
      ],
      "metadata": {
        "colab": {
          "base_uri": "https://localhost:8080/"
        },
        "id": "df_RB-YZlq4d",
        "outputId": "3e354ab7-0cb6-4ae8-9d5f-bed0d1b55ac3"
      },
      "execution_count": 38,
      "outputs": [
        {
          "output_type": "stream",
          "name": "stdout",
          "text": [
            "11897\n"
          ]
        }
      ]
    },
    {
      "cell_type": "code",
      "source": [
        "max_steps = 200_000\n",
        "batch_size = 32\n",
        "i_loss = []\n",
        "\n",
        "for i in range(max_steps):\n",
        "  ix = torch.randint(0, Xtr.shape[0], (batch_size,))\n",
        "  Xb, Yb = Xtr[ix], Ytr[ix]\n",
        "\n",
        "  # forward pass\n",
        "  emb = C[Xb] # embed the characters into vectors\n",
        "  emb_cat = emb.view(emb.shape[0], -1) # concatenate the vectors\n",
        "  h_pre_act = emb_cat @ W1 + b1\n",
        "  h = torch.tanh(h_pre_act) # hidden layer\n",
        "  logits = h @ W2 + b2 # output layer\n",
        "  loss = F.cross_entropy(logits, Yb) # loss function\n",
        "\n",
        "  # backward pass\n",
        "  for p in parameters:\n",
        "    p.grad = None\n",
        "  loss.backward()\n",
        "\n",
        "  # update\n",
        "  lr = 0.1 if i < 10000 else 0.01 # learning rate annealing\n",
        "  for p in parameters:\n",
        "    p.data += -lr * p.grad\n",
        "\n",
        "  # track stats\n",
        "  if i % 10_000 == 0:\n",
        "    print(\"{} / {} : {}\".format(i, max_steps, loss.item()))\n",
        "  i_loss.append(loss.item())\n",
        "\n",
        "  # break\n"
      ],
      "metadata": {
        "colab": {
          "base_uri": "https://localhost:8080/"
        },
        "id": "Bp3n_0-zmP7G",
        "outputId": "916ac7f2-70a1-4e96-bf2a-cb630f4bb5b2"
      },
      "execution_count": 39,
      "outputs": [
        {
          "output_type": "stream",
          "name": "stdout",
          "text": [
            "0 / 200000 : 3.2954342365264893\n",
            "10000 / 200000 : 2.175281524658203\n",
            "20000 / 200000 : 2.5318760871887207\n",
            "30000 / 200000 : 2.409273147583008\n",
            "40000 / 200000 : 1.9229906797409058\n",
            "50000 / 200000 : 2.019253969192505\n",
            "60000 / 200000 : 2.04001784324646\n",
            "70000 / 200000 : 2.338615655899048\n",
            "80000 / 200000 : 2.153740167617798\n",
            "90000 / 200000 : 2.6049628257751465\n",
            "100000 / 200000 : 2.0579795837402344\n",
            "110000 / 200000 : 2.4780349731445312\n",
            "120000 / 200000 : 2.155325174331665\n",
            "130000 / 200000 : 2.437579393386841\n",
            "140000 / 200000 : 1.766351580619812\n",
            "150000 / 200000 : 1.9618061780929565\n",
            "160000 / 200000 : 1.8861325979232788\n",
            "170000 / 200000 : 2.1793432235717773\n",
            "180000 / 200000 : 2.0067620277404785\n",
            "190000 / 200000 : 2.318237066268921\n"
          ]
        }
      ]
    },
    {
      "cell_type": "code",
      "source": [
        "# plt.hist(h.view(-1).tolist(), 50);\n",
        "# plt.hist(h_pre_act.view(-1).tolist(), 50);\n",
        "# plt.imshow(h.abs() > 0.99, cmap='gray', interpolation='nearest', aspect='auto')"
      ],
      "metadata": {
        "id": "tnds-u87sxen"
      },
      "execution_count": null,
      "outputs": []
    },
    {
      "cell_type": "code",
      "source": [
        "plt.plot(i_loss)"
      ],
      "metadata": {
        "colab": {
          "base_uri": "https://localhost:8080/",
          "height": 447
        },
        "id": "ZGWM04_ZnWUu",
        "outputId": "30c6911c-ddf3-4614-c2ce-2303b07e3cbe"
      },
      "execution_count": 40,
      "outputs": [
        {
          "output_type": "execute_result",
          "data": {
            "text/plain": [
              "[<matplotlib.lines.Line2D at 0x7a93a4b1fd90>]"
            ]
          },
          "metadata": {},
          "execution_count": 40
        },
        {
          "output_type": "display_data",
          "data": {
            "text/plain": [
              "<Figure size 640x480 with 1 Axes>"
            ],
            "image/png": "[encoded data removed]"
          },
          "metadata": {}
        }
      ]
    },
    {
      "cell_type": "code",
      "source": [
        "@torch.no_grad()\n",
        "def split_loss(split):\n",
        "  x, y = {\n",
        "      'train': (Xtr, Ytr),\n",
        "      'val': (Xdev, Ydev),\n",
        "      'test': (Xte, Yte),\n",
        "  }[split]\n",
        "  emb = C[x] # (N, block_size, n_embed)\n",
        "  emb_cat = emb.view(emb.shape[0], -1) # concat into (N, block_size * n_embed)\n",
        "  h_pre_act = emb_cat @ W1 + b1\n",
        "  h = torch.tanh(h_pre_act)\n",
        "  logits = h @ W2 + b2\n",
        "  loss = F.cross_entropy(logits, y)\n",
        "  print(split, loss.item())\n",
        "\n",
        "split_loss('train')\n",
        "split_loss('val')"
      ],
      "metadata": {
        "colab": {
          "base_uri": "https://localhost:8080/"
        },
        "id": "ll0PWxK6nlMT",
        "outputId": "bc0ecdad-24c0-4090-b6b6-2d2340dea7b5"
      },
      "execution_count": 41,
      "outputs": [
        {
          "output_type": "stream",
          "name": "stdout",
          "text": [
            "train 2.1389732360839844\n",
            "val 2.160442352294922\n"
          ]
        }
      ]
    },
    {
      "cell_type": "code",
      "source": [
        "for _ in range(20):\n",
        "  out = []\n",
        "  context  = [0] * block_size\n",
        "  while True:\n",
        "    emb = C[torch.tensor([context])]\n",
        "    emb_cat = emb.view(emb.shape[0], -1)\n",
        "    h_pre_act = emb_cat @ W1 + b1\n",
        "    h = torch.tanh(h_pre_act)\n",
        "    logits = h @ W2 + b2\n",
        "    probs = F.softmax(logits, dim=1)\n",
        "    ix = torch.multinomial(probs, num_samples=1).item()\n",
        "    context = context[1:] + [ix]\n",
        "    out.append(ix)\n",
        "    if ix == 0:\n",
        "      break\n",
        "  print(''.join(itos[i] for i in out))"
      ],
      "metadata": {
        "colab": {
          "base_uri": "https://localhost:8080/"
        },
        "id": "s81dBswJoemj",
        "outputId": "cc2172ef-e767-409b-ade3-ee17596e5d3d"
      },
      "execution_count": 18,
      "outputs": [
        {
          "output_type": "stream",
          "name": "stdout",
          "text": [
            "brystte.\n",
            "vinsleyone.\n",
            "aliman.\n",
            "comylen.\n",
            "bryah.\n",
            "divyn.\n",
            "kexlelah.\n",
            "jerettazelah.\n",
            "ari.\n",
            "marvontailer.\n",
            "anicherin.\n",
            "harekstelah.\n",
            "lexghan.\n",
            "kdwa.\n",
            "elin.\n",
            "shauan.\n",
            "nikaide.\n",
            "maiaraison.\n",
            "melait.\n",
            "elenet.\n"
          ]
        }
      ]
    },
    {
      "cell_type": "markdown",
      "source": [
        "There are few things wrong with things here.\n",
        "\n",
        "- Our initilisation is wrong. We start with high error which decreases way too quickly\n",
        " - When we start we can roughly estimate the loss.\n",
        " - For example in this case, we can expect that all characters have equal probability to occur in beginning. And this would give low loss\n",
        " - ```\n",
        " logits = torch.tensor([1.0, 5.0, 0.0, 10.0])\n",
        " probs = torch.softmax(logits, dim = 0)\n",
        " loss = -probs[2].log\n",
        " logits, probs, loss\n",
        " ```\n",
        " - We can't set Ws to be zero. You want them to be small but not zero. Things can go wrong\n",
        " - Doing this and our loss won't look like hockey stick. This is true for all NNs\n",
        " - **Fix** : We removed bias by multip;ying to zero. We multiplied Ws by 0.1 to reduce them.\n",
        "- If we visualise `h` we see that we have too many 1s and -1s and that is because our `h` is tanh and it acts as squashing force.\n",
        " - Way to check: `plt.hist(h.view(-1).tolist(), 50);`\n",
        " - It is very active. Look at h_pre_act and you see it is very broad.\n",
        " - This is \"sweating\" situation for person who is training method.\n",
        " - Backward prop for tanh is `(1-t**2) * out.grad`. If outputs for t are very close to 1 or -1; we will get zero. No matter what out.grad is we are killing and basically stopping the propagation here.\n",
        " - Change input is not going to impact the output too much because if it is in flat region of tanh; there is no impact on the loss.\n",
        " - The gradient flowing through tanh can only ever decrease.\n",
        " - ```\n",
        " plt.imshow(h.abs() > 0.99, cmap='gray', interpolation='nearest', aspect='auto')\n",
        " ```\n",
        " - In above code you should see no column which is completely white. That represents dead neuron since you are just passing the out.grad and nothing is happening there.\n",
        " - So both of above cases, makes it that neuron never learns from here.\n",
        " - This is true for a lot of activation functions.\n",
        " - If it happens during learning, think of it as some permanent brain damage in network\n",
        " - This is happening because `h_pre_act` has very diverse values.\n",
        " - **Fix**: Same as above. We squash our inital weights and biases.\n",
        "\n",
        "**Deeper the network is, more complex the network is the less forgiving initialisation is. The inconsistency keeps stacking up and may almost result in non-traning of network**\n",
        "\n",
        "\n",
        "_But how do I come with this squashing magic numbers?_"
      ],
      "metadata": {
        "id": "jXMsSL-zpP7r"
      }
    },
    {
      "cell_type": "code",
      "source": [],
      "metadata": {
        "id": "JcXznLOPo1Mu"
      },
      "execution_count": 13,
      "outputs": []
    }
  ]
}