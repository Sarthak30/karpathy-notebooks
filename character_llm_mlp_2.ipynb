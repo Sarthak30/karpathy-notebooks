{
  "nbformat": 4,
  "nbformat_minor": 0,
  "metadata": {
    "colab": {
      "provenance": [],
      "authorship_tag": "ABX9TyPjbIiw7iuuvp9yUpymNxRs"
    },
    "kernelspec": {
      "name": "python3",
      "display_name": "Python 3"
    },
    "language_info": {
      "name": "python"
    }
  },
  "cells": [
    {
      "cell_type": "code",
      "execution_count": 1,
      "metadata": {
        "id": "3ywVEHOhkZcb"
      },
      "outputs": [],
      "source": [
        "import torch\n",
        "import torch.nn.functional as F\n",
        "import matplotlib.pyplot as plt\n",
        "%matplotlib inline"
      ]
    },
    {
      "cell_type": "code",
      "source": [
        "words = open('names.txt', 'r').read().splitlines()\n",
        "words[:8]"
      ],
      "metadata": {
        "colab": {
          "base_uri": "https://localhost:8080/"
        },
        "id": "cNloYtLVk330",
        "outputId": "447c0f2e-80f5-4e77-e110-0b755c2bc6a9"
      },
      "execution_count": 2,
      "outputs": [
        {
          "output_type": "execute_result",
          "data": {
            "text/plain": [
              "['emma', 'olivia', 'ava', 'isabella', 'sophia', 'charlotte', 'mia', 'amelia']"
            ]
          },
          "metadata": {},
          "execution_count": 2
        }
      ]
    },
    {
      "cell_type": "code",
      "source": [
        "len(words)"
      ],
      "metadata": {
        "colab": {
          "base_uri": "https://localhost:8080/"
        },
        "id": "MpUDIy0ck7wN",
        "outputId": "bb95aed1-8f32-4d9a-e9ec-d9b58f6839f6"
      },
      "execution_count": 3,
      "outputs": [
        {
          "output_type": "execute_result",
          "data": {
            "text/plain": [
              "32033"
            ]
          },
          "metadata": {},
          "execution_count": 3
        }
      ]
    },
    {
      "cell_type": "code",
      "source": [
        "chars = sorted(list(set(''.join(words))))\n",
        "stoi = {s:i+1 for i, s in enumerate(chars)}\n",
        "stoi['.'] = 0\n",
        "itos = {i:s for s, i in stoi.items()}\n",
        "vocab_size = len(itos)\n",
        "print(itos)\n",
        "print(vocab_size)"
      ],
      "metadata": {
        "colab": {
          "base_uri": "https://localhost:8080/"
        },
        "id": "G0H0LaV0k9Bc",
        "outputId": "fdaba2da-b0c0-4a8d-ee38-5e7ad4ee00af"
      },
      "execution_count": 4,
      "outputs": [
        {
          "output_type": "stream",
          "name": "stdout",
          "text": [
            "{1: 'a', 2: 'b', 3: 'c', 4: 'd', 5: 'e', 6: 'f', 7: 'g', 8: 'h', 9: 'i', 10: 'j', 11: 'k', 12: 'l', 13: 'm', 14: 'n', 15: 'o', 16: 'p', 17: 'q', 18: 'r', 19: 's', 20: 't', 21: 'u', 22: 'v', 23: 'w', 24: 'x', 25: 'y', 26: 'z', 0: '.'}\n",
            "27\n"
          ]
        }
      ]
    },
    {
      "cell_type": "code",
      "source": [
        " block_size = 3\n",
        "\n",
        " def build_dataset(words):\n",
        "  X, Y = [], []\n",
        "\n",
        "  for w in words:\n",
        "    context = [0] * block_size\n",
        "    for ch in w + '.':\n",
        "      ix = stoi[ch]\n",
        "      X.append(context)\n",
        "      Y.append(ix)\n",
        "      context = context[1:] + [ix]\n",
        "\n",
        "  X = torch.tensor(X)\n",
        "  Y = torch.tensor(Y)\n",
        "  print(X.shape, Y.shape)\n",
        "  return X, Y\n",
        "\n",
        "import random\n",
        "random.seed(42)\n",
        "random.shuffle(words)\n",
        "n1 = int(0.8*len(words))\n",
        "n2 = int(0.9*len(words))\n",
        "\n",
        "n1 = int(0.8*len(words))\n",
        "n2 = int(0.9*len(words))\n",
        "\n",
        "Xtr, Ytr = build_dataset(words[:n1])\n",
        "Xdev, Ydev = build_dataset(words[n1:n2])\n",
        "Xte, Yte = build_dataset(words[n2:])"
      ],
      "metadata": {
        "colab": {
          "base_uri": "https://localhost:8080/"
        },
        "id": "nQZiGNpklNl4",
        "outputId": "d4c77c3a-ec96-4d0f-f302-5b278217961f"
      },
      "execution_count": 6,
      "outputs": [
        {
          "output_type": "stream",
          "name": "stdout",
          "text": [
            "torch.Size([182580, 3]) torch.Size([182580])\n",
            "torch.Size([22767, 3]) torch.Size([22767])\n",
            "torch.Size([22799, 3]) torch.Size([22799])\n"
          ]
        }
      ]
    },
    {
      "cell_type": "code",
      "source": [
        " # MLP revisited\n",
        "n_embed = 10 # the dimensionality of the character embedding vectors\n",
        "n_hidden = 200 # the number of neurons in the hidden layer of the MLP\n",
        "\n",
        "C = torch.randn((vocab_size, n_embed))\n",
        "W1 = torch.randn((n_embed * block_size, n_hidden)) * 0.01\n",
        "b1 = torch.randn(n_hidden) * 0.01\n",
        "W2 = torch.randn((n_hidden, vocab_size)) * 0.01\n",
        "b2 = torch.randn(vocab_size) * 0\n",
        "\n",
        "parameters = [C, W1, b1, W2, b2]\n",
        "print(sum(p.nelement() for p in parameters)) # number of parameters in total\n",
        "\n",
        "for p in parameters:\n",
        "  p.requires_grad = True"
      ],
      "metadata": {
        "colab": {
          "base_uri": "https://localhost:8080/"
        },
        "id": "df_RB-YZlq4d",
        "outputId": "3e354ab7-0cb6-4ae8-9d5f-bed0d1b55ac3"
      },
      "execution_count": 38,
      "outputs": [
        {
          "output_type": "stream",
          "name": "stdout",
          "text": [
            "11897\n"
          ]
        }
      ]
    },
    {
      "cell_type": "code",
      "source": [
        "max_steps = 200_000\n",
        "batch_size = 32\n",
        "i_loss = []\n",
        "\n",
        "for i in range(max_steps):\n",
        "  ix = torch.randint(0, Xtr.shape[0], (batch_size,))\n",
        "  Xb, Yb = Xtr[ix], Ytr[ix]\n",
        "\n",
        "  # forward pass\n",
        "  emb = C[Xb] # embed the characters into vectors\n",
        "  emb_cat = emb.view(emb.shape[0], -1) # concatenate the vectors\n",
        "  h_pre_act = emb_cat @ W1 + b1\n",
        "  h = torch.tanh(h_pre_act) # hidden layer\n",
        "  logits = h @ W2 + b2 # output layer\n",
        "  loss = F.cross_entropy(logits, Yb) # loss function\n",
        "\n",
        "  # backward pass\n",
        "  for p in parameters:\n",
        "    p.grad = None\n",
        "  loss.backward()\n",
        "\n",
        "  # update\n",
        "  lr = 0.1 if i < 10000 else 0.01 # learning rate annealing\n",
        "  for p in parameters:\n",
        "    p.data += -lr * p.grad\n",
        "\n",
        "  # track stats\n",
        "  if i % 10_000 == 0:\n",
        "    print(\"{} / {} : {}\".format(i, max_steps, loss.item()))\n",
        "  i_loss.append(loss.item())\n",
        "\n",
        "  # break\n"
      ],
      "metadata": {
        "colab": {
          "base_uri": "https://localhost:8080/"
        },
        "id": "Bp3n_0-zmP7G",
        "outputId": "916ac7f2-70a1-4e96-bf2a-cb630f4bb5b2"
      },
      "execution_count": 39,
      "outputs": [
        {
          "output_type": "stream",
          "name": "stdout",
          "text": [
            "0 / 200000 : 3.2954342365264893\n",
            "10000 / 200000 : 2.175281524658203\n",
            "20000 / 200000 : 2.5318760871887207\n",
            "30000 / 200000 : 2.409273147583008\n",
            "40000 / 200000 : 1.9229906797409058\n",
            "50000 / 200000 : 2.019253969192505\n",
            "60000 / 200000 : 2.04001784324646\n",
            "70000 / 200000 : 2.338615655899048\n",
            "80000 / 200000 : 2.153740167617798\n",
            "90000 / 200000 : 2.6049628257751465\n",
            "100000 / 200000 : 2.0579795837402344\n",
            "110000 / 200000 : 2.4780349731445312\n",
            "120000 / 200000 : 2.155325174331665\n",
            "130000 / 200000 : 2.437579393386841\n",
            "140000 / 200000 : 1.766351580619812\n",
            "150000 / 200000 : 1.9618061780929565\n",
            "160000 / 200000 : 1.8861325979232788\n",
            "170000 / 200000 : 2.1793432235717773\n",
            "180000 / 200000 : 2.0067620277404785\n",
            "190000 / 200000 : 2.318237066268921\n"
          ]
        }
      ]
    },
    {
      "cell_type": "code",
      "source": [
        "# plt.hist(h.view(-1).tolist(), 50);\n",
        "# plt.hist(h_pre_act.view(-1).tolist(), 50);\n",
        "# plt.imshow(h.abs() > 0.99, cmap='gray', interpolation='nearest', aspect='auto')"
      ],
      "metadata": {
        "id": "tnds-u87sxen"
      },
      "execution_count": null,
      "outputs": []
    },
    {
      "cell_type": "code",
      "source": [
        "plt.plot(i_loss)"
      ],
      "metadata": {
        "colab": {
          "base_uri": "https://localhost:8080/",
          "height": 447
        },
        "id": "ZGWM04_ZnWUu",
        "outputId": "30c6911c-ddf3-4614-c2ce-2303b07e3cbe"
      },
      "execution_count": 40,
      "outputs": [
        {
          "output_type": "execute_result",
          "data": {
            "text/plain": [
              "[<matplotlib.lines.Line2D at 0x7a93a4b1fd90>]"
            ]
          },
          "metadata": {},
          "execution_count": 40
        },
        {
          "output_type": "display_data",
          "data": {
            "text/plain": [
              "<Figure size 640x480 with 1 Axes>"
            ],
            "image/png": "[encoded data removed]"
          },
          "metadata": {}
        }
      ]
    },
    {
      "cell_type": "code",
      "source": [
        "@torch.no_grad()\n",
        "def split_loss(split):\n",
        "  x, y = {\n",
        "      'train': (Xtr, Ytr),\n",
        "      'val': (Xdev, Ydev),\n",
        "      'test': (Xte, Yte),\n",
        "  }[split]\n",
        "  emb = C[x] # (N, block_size, n_embed)\n",
        "  emb_cat = emb.view(emb.shape[0], -1) # concat into (N, block_size * n_embed)\n",
        "  h_pre_act = emb_cat @ W1 + b1\n",
        "  h = torch.tanh(h_pre_act)\n",
        "  logits = h @ W2 + b2\n",
        "  loss = F.cross_entropy(logits, y)\n",
        "  print(split, loss.item())\n",
        "\n",
        "split_loss('train')\n",
        "split_loss('val')"
      ],
      "metadata": {
        "colab": {
          "base_uri": "https://localhost:8080/"
        },
        "id": "ll0PWxK6nlMT",
        "outputId": "bc0ecdad-24c0-4090-b6b6-2d2340dea7b5"
      },
      "execution_count": 41,
      "outputs": [
        {
          "output_type": "stream",
          "name": "stdout",
          "text": [
            "train 2.1389732360839844\n",
            "val 2.160442352294922\n"
          ]
        }
      ]
    },
    {
      "cell_type": "code",
      "source": [
        "for _ in range(20):\n",
        "  out = []\n",
        "  context  = [0] * block_size\n",
        "  while True:\n",
        "    emb = C[torch.tensor([context])]\n",
        "    emb_cat = emb.view(emb.shape[0], -1)\n",
        "    h_pre_act = emb_cat @ W1 + b1\n",
        "    h = torch.tanh(h_pre_act)\n",
        "    logits = h @ W2 + b2\n",
        "    probs = F.softmax(logits, dim=1)\n",
        "    ix = torch.multinomial(probs, num_samples=1).item()\n",
        "    context = context[1:] + [ix]\n",
        "    out.append(ix)\n",
        "    if ix == 0:\n",
        "      break\n",
        "  print(''.join(itos[i] for i in out))"
      ],
      "metadata": {
        "colab": {
          "base_uri": "https://localhost:8080/"
        },
        "id": "s81dBswJoemj",
        "outputId": "cc2172ef-e767-409b-ade3-ee17596e5d3d"
      },
      "execution_count": 18,
      "outputs": [
        {
          "output_type": "stream",
          "name": "stdout",
          "text": [
            "brystte.\n",
            "vinsleyone.\n",
            "aliman.\n",
            "comylen.\n",
            "bryah.\n",
            "divyn.\n",
            "kexlelah.\n",
            "jerettazelah.\n",
            "ari.\n",
            "marvontailer.\n",
            "anicherin.\n",
            "harekstelah.\n",
            "lexghan.\n",
            "kdwa.\n",
            "elin.\n",
            "shauan.\n",
            "nikaide.\n",
            "maiaraison.\n",
            "melait.\n",
            "elenet.\n"
          ]
        }
      ]
    },
    {
      "cell_type": "markdown",
      "source": [
        "There are few things wrong with things here.\n",
        "\n",
        "- Our initilisation is wrong. We start with high error which decreases way too quickly\n",
        " - When we start we can roughly estimate the loss.\n",
        " - For example in this case, we can expect that all characters have equal probability to occur in beginning. And this would give low loss\n",
        " - ```\n",
        " logits = torch.tensor([1.0, 5.0, 0.0, 10.0])\n",
        " probs = torch.softmax(logits, dim = 0)\n",
        " loss = -probs[2].log\n",
        " logits, probs, loss\n",
        " ```\n",
        " - We can't set Ws to be zero. You want them to be small but not zero. Things can go wrong\n",
        " - Doing this and our loss won't look like hockey stick. This is true for all NNs\n",
        " - **Fix** : We removed bias by multip;ying to zero. We multiplied Ws by 0.1 to reduce them.\n",
        "- If we visualise `h` we see that we have too many 1s and -1s and that is because our `h` is tanh and it acts as squashing force.\n",
        " - Way to check: `plt.hist(h.view(-1).tolist(), 50);`\n",
        " - It is very active. Look at h_pre_act and you see it is very broad.\n",
        " - This is \"sweating\" situation for person who is training method.\n",
        " - Backward prop for tanh is `(1-t**2) * out.grad`. If outputs for t are very close to 1 or -1; we will get zero. No matter what out.grad is we are killing and basically stopping the propagation here.\n",
        " - Change input is not going to impact the output too much because if it is in flat region of tanh; there is no impact on the loss.\n",
        " - The gradient flowing through tanh can only ever decrease.\n",
        " - ```\n",
        " plt.imshow(h.abs() > 0.99, cmap='gray', interpolation='nearest', aspect='auto')\n",
        " ```\n",
        " - In above code you should see no column which is completely white. That represents dead neuron since you are just passing the out.grad and nothing is happening there.\n",
        " - So both of above cases, makes it that neuron never learns from here.\n",
        " - This is true for a lot of activation functions.\n",
        " - If it happens during learning, think of it as some permanent brain damage in network\n",
        " - This is happening because `h_pre_act` has very diverse values.\n",
        " - **Fix**: Same as above. We squash our inital weights and biases.\n",
        "\n",
        "**Deeper the network is, more complex the network is the less forgiving initialisation is. The inconsistency keeps stacking up and may almost result in non-traning of network**\n",
        "\n",
        "\n",
        "_But how do I come with this squashing magic numbers?_"
      ],
      "metadata": {
        "id": "jXMsSL-zpP7r"
      }
    },
    {
      "cell_type": "code",
      "source": [
        "x = torch.randn(1000, 10)\n",
        "w = torch.randn(10, 200)\n",
        "y = x @ w\n",
        "print(x.mean(), x.std())\n",
        "print(y.mean(), y.std())\n",
        "plt.figure(figsize=(20, 5))\n",
        "plt.subplot(121)\n",
        "plt.hist(x.view(-1).tolist(), 50, density=True);\n",
        "plt.subplot(122)\n",
        "plt.hist(y.view(-1).tolist(), 50, density=True);\n",
        "\n",
        "# the correct answer if we do the maths for y and work backwards is\n",
        "# dividing by square_root(fan_in) where fan_in is number of inputs.\n",
        "\n",
        "x = torch.randn(1000, 10)\n",
        "w = torch.randn(10, 200) / 10**0.5\n",
        "y = x @ w\n",
        "print(x.mean(), x.std())\n",
        "print(y.mean(), y.std())\n",
        "plt.figure(figsize=(20, 5))\n",
        "plt.subplot(121)\n",
        "plt.hist(x.view(-1).tolist(), 50, density=True);\n",
        "plt.subplot(122)\n",
        "plt.hist(y.view(-1).tolist(), 50, density=True);\n",
        "\n",
        "\n",
        "# Read: https://arxiv.org/pdf/1502.01852\n",
        "# https://pytorch.org/docs/stable/nn.init.html#torch.nn.init.kaiming_normal_\n",
        "# probably the most used init for nns"
      ],
      "metadata": {
        "colab": {
          "base_uri": "https://localhost:8080/",
          "height": 882
        },
        "id": "JcXznLOPo1Mu",
        "outputId": "2ac8be42-fdc3-4ff8-9a48-1a6f24c9d8d5"
      },
      "execution_count": 55,
      "outputs": [
        {
          "output_type": "stream",
          "name": "stdout",
          "text": [
            "tensor(-0.0057) tensor(1.0005)\n",
            "tensor(0.0097) tensor(3.1856)\n",
            "tensor(-0.0138) tensor(0.9932)\n",
            "tensor(0.0004) tensor(1.0047)\n"
          ]
        },
        {
          "output_type": "display_data",
          "data": {
            "text/plain": [
              "<Figure size 2000x500 with 2 Axes>"
            ],
            "image/png": "[encoded data removed]"
          },
          "metadata": {}
        },
        {
          "output_type": "display_data",
          "data": {
            "text/plain": [
              "<Figure size 2000x500 with 2 Axes>"
            ],
            "image/png": "[encoded data removed]"
          },
          "metadata": {}
        }
      ]
    },
    {
      "cell_type": "markdown",
      "source": [
        "# Batch Normalisation\n",
        "https://arxiv.org/pdf/1502.03167"
      ],
      "metadata": {
        "id": "wG4uZ58WNEJA"
      }
    },
    {
      "cell_type": "code",
      "source": [
        "n_embed = 10 # the dimensionality of the character embedding vectors\n",
        "n_hidden = 200 # the number of neurons in the hidden layer of the MLP\n",
        "\n",
        "C = torch.randn((vocab_size, n_embed))\n",
        "W1 = torch.randn((n_embed * block_size, n_hidden)) * (5/3) / (n_embed * block_size)**0.5\n",
        "b1 = torch.randn(n_hidden) * 0.01\n",
        "W2 = torch.randn((n_hidden, vocab_size)) * (5/3) / (n_hidden + vocab_size)**0.5\n",
        "b2 = torch.randn(vocab_size) * 0\n",
        "\n",
        "bngain = torch.ones((1, n_hidden))\n",
        "bnbias = torch.zeros((1, n_hidden))\n",
        "\n",
        "# declare this after understanding about running mean and standard deviation\n",
        "bnmean_running = torch.zeros((1, n_hidden))\n",
        "bnstd_running = torch.ones((1, n_hidden))\n",
        "\n",
        "parameters = [C, W1, b1, W2, b2, bngain, bnbias]\n",
        "print(sum(p.nelement() for p in parameters)) # number of parameters in total\n",
        "\n",
        "for p in parameters:\n",
        "  p.requires_grad = True"
      ],
      "metadata": {
        "colab": {
          "base_uri": "https://localhost:8080/"
        },
        "id": "raodhrcZHvy_",
        "outputId": "33d4390f-1233-4ee2-ba09-c79176876d44"
      },
      "execution_count": 67,
      "outputs": [
        {
          "output_type": "stream",
          "name": "stdout",
          "text": [
            "12297\n"
          ]
        }
      ]
    },
    {
      "cell_type": "code",
      "source": [
        "max_steps = 200_000\n",
        "batch_size = 32\n",
        "i_loss = []\n",
        "\n",
        "for i in range(max_steps):\n",
        "  ix = torch.randint(0, Xtr.shape[0], (batch_size,))\n",
        "  Xb, Yb = Xtr[ix], Ytr[ix]\n",
        "\n",
        "  # forward pass\n",
        "  emb = C[Xb] # embed the characters into vectors\n",
        "  emb_cat = emb.view(emb.shape[0], -1) # concatenate the vectors\n",
        "  h_pre_act = emb_cat @ W1 + b1\n",
        "  h_pre_act = bngain * (h_pre_act - h_pre_act.mean(0, keepdim=True)) / h_pre_act.std(0, keepdim=True) + bnbias # normalise\n",
        "  h = torch.tanh(h_pre_act) # hidden layer\n",
        "  logits = h @ W2 + b2 # output layer\n",
        "  loss = F.cross_entropy(logits, Yb) # loss function\n",
        "\n",
        "  # backward pass\n",
        "  for p in parameters:\n",
        "    p.grad = None\n",
        "  loss.backward()\n",
        "\n",
        "  # update\n",
        "  lr = 0.1 if i < 10000 else 0.01 # learning rate annealing\n",
        "  for p in parameters:\n",
        "    p.data += -lr * p.grad\n",
        "\n",
        "  # track stats\n",
        "  if i % 10_000 == 0:\n",
        "    print(\"{} / {} : {}\".format(i, max_steps, loss.item()))\n",
        "  i_loss.append(loss.item())\n",
        "\n",
        "  # break"
      ],
      "metadata": {
        "colab": {
          "base_uri": "https://localhost:8080/"
        },
        "id": "BJapqlGyJUMQ",
        "outputId": "1544fc8d-fd03-4b95-dda2-7e6aac68d166"
      },
      "execution_count": 60,
      "outputs": [
        {
          "output_type": "stream",
          "name": "stdout",
          "text": [
            "0 / 200000 : 2.246737241744995\n",
            "10000 / 200000 : 2.679832696914673\n",
            "20000 / 200000 : 2.090082883834839\n",
            "30000 / 200000 : 2.1935770511627197\n",
            "40000 / 200000 : 2.174522876739502\n",
            "50000 / 200000 : 2.4708635807037354\n",
            "60000 / 200000 : 2.5366809368133545\n",
            "70000 / 200000 : 2.245142936706543\n",
            "80000 / 200000 : 2.43045711517334\n",
            "90000 / 200000 : 1.8612818717956543\n",
            "100000 / 200000 : 2.324138879776001\n",
            "110000 / 200000 : 2.0268876552581787\n",
            "120000 / 200000 : 1.79447603225708\n",
            "130000 / 200000 : 2.053830862045288\n",
            "140000 / 200000 : 2.2734222412109375\n",
            "150000 / 200000 : 2.249128818511963\n",
            "160000 / 200000 : 2.6241798400878906\n",
            "170000 / 200000 : 2.369774341583252\n",
            "180000 / 200000 : 1.9502475261688232\n",
            "190000 / 200000 : 2.153608798980713\n"
          ]
        }
      ]
    },
    {
      "cell_type": "code",
      "source": [
        "plt.plot(i_loss)"
      ],
      "metadata": {
        "colab": {
          "base_uri": "https://localhost:8080/",
          "height": 447
        },
        "id": "6yZyCA-6Qx5-",
        "outputId": "96e6c02a-5eb1-4e3f-9c67-b1935b03fa64"
      },
      "execution_count": 61,
      "outputs": [
        {
          "output_type": "execute_result",
          "data": {
            "text/plain": [
              "[<matplotlib.lines.Line2D at 0x7a939ce6e310>]"
            ]
          },
          "metadata": {},
          "execution_count": 61
        },
        {
          "output_type": "display_data",
          "data": {
            "text/plain": [
              "<Figure size 640x480 with 1 Axes>"
            ],
            "image/png": "[encoded data removed]"
          },
          "metadata": {}
        }
      ]
    },
    {
      "cell_type": "code",
      "source": [
        "@torch.no_grad()\n",
        "def split_loss(split):\n",
        "  x, y = {\n",
        "      'train': (Xtr, Ytr),\n",
        "      'val': (Xdev, Ydev),\n",
        "      'test': (Xte, Yte),\n",
        "  }[split]\n",
        "  emb = C[x] # (N, block_size, n_embed)\n",
        "  emb_cat = emb.view(emb.shape[0], -1) # concat into (N, block_size * n_embed)\n",
        "  h_pre_act = emb_cat @ W1 + b1\n",
        "  h_pre_act = bngain * (h_pre_act - h_pre_act.mean(0, keepdim=True)) / h_pre_act.std(0, keepdim=True) + bnbias # normalise\n",
        "  h = torch.tanh(h_pre_act)\n",
        "  logits = h @ W2 + b2\n",
        "  loss = F.cross_entropy(logits, y)\n",
        "  print(split, loss.item())\n",
        "\n",
        "split_loss('train')\n",
        "split_loss('val')"
      ],
      "metadata": {
        "colab": {
          "base_uri": "https://localhost:8080/"
        },
        "id": "1snfBFLiQ-CD",
        "outputId": "68754a96-2aa2-4fa1-ac05-cc32594623b2"
      },
      "execution_count": 62,
      "outputs": [
        {
          "output_type": "stream",
          "name": "stdout",
          "text": [
            "train 2.105800151824951\n",
            "val 2.136655569076538\n"
          ]
        }
      ]
    },
    {
      "cell_type": "markdown",
      "source": [
        "The stability provided by batch normalization comes with certain trade-offs and introduces an unconventional dynamic to the neural network's behavior. Traditionally, when processing a single example through a neural network, we calculate activations and logits independently. To enhance efficiency, we began processing examples in batches, treating these batches as independent collections purely for computational optimization.\n",
        "\n",
        "However, batch normalization changes this paradigm by mathematically coupling examples within a batch during both the forward and backward passes of the network. As a result, the hidden state activations (h_pre_act) and logits for any single input are no longer solely determined by that input alone. Instead, they are influenced by the other examples present in the same batch, which are typically selected randomly.\n",
        "\n",
        "This means the value of h_pre_act, which feeds into the hidden state activations, will vary slightly depending on the composition of the batch. This might initially seem counterintuitive or even like a flaw in the design. However, this coupling acts as a form of implicit regularization, preventing the network from overfitting by encouraging it to generalize across varied batch compositions.\n",
        "\n",
        "In essence, while batch normalization introduces a dependency between examples in a batch, this interaction turns out to be beneficial for the network's performance and robustness."
      ],
      "metadata": {
        "id": "9SzIJOzNRurh"
      }
    },
    {
      "cell_type": "code",
      "source": [
        "# Since, in production when model is deployed we need to run a single set of input\n",
        "# but our model expects batch which is not true, we set it once.\n",
        "\n",
        "# calibrating the batch norm at the end of training\n",
        "with torch.no_grad():\n",
        "  emb = C[Xtr]\n",
        "  emb_cat = emb.view(emb.shape[0], -1)\n",
        "  h_pre_act = emb_cat @ W1 + b1\n",
        "  bnmean = h_pre_act.mean(0, keepdim=True)\n",
        "  bnstd = h_pre_act.std(0, keepdim=True)\n",
        "\n",
        "# nobody wants to do above\n",
        "# no-one wants to have an additional step after training\n",
        "# we can do this in running manner"
      ],
      "metadata": {
        "id": "qfWv6b5oUmJT"
      },
      "execution_count": 64,
      "outputs": []
    },
    {
      "cell_type": "code",
      "source": [
        "max_steps = 200_000\n",
        "batch_size = 32\n",
        "i_loss = []\n",
        "\n",
        "for i in range(max_steps):\n",
        "  ix = torch.randint(0, Xtr.shape[0], (batch_size,))\n",
        "  Xb, Yb = Xtr[ix], Ytr[ix]\n",
        "\n",
        "  # forward pass\n",
        "  emb = C[Xb] # embed the characters into vectors\n",
        "  emb_cat = emb.view(emb.shape[0], -1) # concatenate the vectors\n",
        "  h_pre_act = emb_cat @ W1 + b1\n",
        "  bnmeani = h_pre_act.mean(0, keepdim=True)\n",
        "  bnstdi = h_pre_act.std(0, keepdim=True)\n",
        "  h_pre_act = bngain * (h_pre_act - bnmeani) / bnstdi + bnbias # normalise\n",
        "\n",
        "  with torch.no_grad():\n",
        "    bnmean_running = 0.999 * bnmean_running + 0.001 * bnmeani\n",
        "    bnstd_running = 0.999 * bnstd_running + 0.001 * bnstdi\n",
        "\n",
        "  h = torch.tanh(h_pre_act) # hidden layer\n",
        "  logits = h @ W2 + b2 # output layer\n",
        "  loss = F.cross_entropy(logits, Yb) # loss function\n",
        "\n",
        "  # backward pass\n",
        "  for p in parameters:\n",
        "    p.grad = None\n",
        "  loss.backward()\n",
        "\n",
        "  # update\n",
        "  lr = 0.1 if i < 10000 else 0.01 # learning rate annealing\n",
        "  for p in parameters:\n",
        "    p.data += -lr * p.grad\n",
        "\n",
        "  # track stats\n",
        "  if i % 10_000 == 0:\n",
        "    print(\"{} / {} : {}\".format(i, max_steps, loss.item()))\n",
        "  i_loss.append(loss.item())\n",
        "\n",
        "  # break"
      ],
      "metadata": {
        "colab": {
          "base_uri": "https://localhost:8080/"
        },
        "id": "c0Pu1M9SVu2d",
        "outputId": "281a2f68-1493-4efa-9c58-2d18792f1eab"
      },
      "execution_count": 68,
      "outputs": [
        {
          "output_type": "stream",
          "name": "stdout",
          "text": [
            "0 / 200000 : 3.6758697032928467\n",
            "10000 / 200000 : 1.9920707941055298\n",
            "20000 / 200000 : 2.081444263458252\n",
            "30000 / 200000 : 2.271984338760376\n",
            "40000 / 200000 : 2.0654330253601074\n",
            "50000 / 200000 : 2.3667960166931152\n",
            "60000 / 200000 : 2.216306447982788\n",
            "70000 / 200000 : 2.2240469455718994\n",
            "80000 / 200000 : 2.1883115768432617\n",
            "90000 / 200000 : 2.345648765563965\n",
            "100000 / 200000 : 2.002955436706543\n",
            "110000 / 200000 : 1.6948912143707275\n",
            "120000 / 200000 : 2.281456470489502\n",
            "130000 / 200000 : 1.630223035812378\n",
            "140000 / 200000 : 2.3099172115325928\n",
            "150000 / 200000 : 1.9094103574752808\n",
            "160000 / 200000 : 2.0723037719726562\n",
            "170000 / 200000 : 1.9338960647583008\n",
            "180000 / 200000 : 2.182166814804077\n",
            "190000 / 200000 : 2.186692237854004\n"
          ]
        }
      ]
    },
    {
      "cell_type": "code",
      "source": [
        "@torch.no_grad()\n",
        "def split_loss(split):\n",
        "  x, y = {\n",
        "      'train': (Xtr, Ytr),\n",
        "      'val': (Xdev, Ydev),\n",
        "      'test': (Xte, Yte),\n",
        "  }[split]\n",
        "  emb = C[x] # (N, block_size, n_embed)\n",
        "  emb_cat = emb.view(emb.shape[0], -1) # concat into (N, block_size * n_embed)\n",
        "  h_pre_act = emb_cat @ W1 + b1\n",
        "  # h_pre_act = bngain * (h_pre_act - h_pre_act.mean(0, keepdim=True)) / h_pre_act.std(0, keepdim=True) + bnbias # normalise\n",
        "  h_pre_act = bngain * (h_pre_act - bnmean_running) / bnstd_running + bnbias\n",
        "  h = torch.tanh(h_pre_act)\n",
        "  logits = h @ W2 + b2\n",
        "  loss = F.cross_entropy(logits, y)\n",
        "  print(split, loss.item())\n",
        "\n",
        "split_loss('train')\n",
        "split_loss('val')"
      ],
      "metadata": {
        "colab": {
          "base_uri": "https://localhost:8080/"
        },
        "id": "zDr-hpoOVPpT",
        "outputId": "5e7f8fca-25a5-47b2-b195-09d80b871137"
      },
      "execution_count": 69,
      "outputs": [
        {
          "output_type": "stream",
          "name": "stdout",
          "text": [
            "train 2.6475167274475098\n",
            "val 2.6560721397399902\n"
          ]
        }
      ]
    },
    {
      "cell_type": "code",
      "source": [
        "for _ in range(20):\n",
        "  out = []\n",
        "  context  = [0] * block_size\n",
        "  while True:\n",
        "    emb = C[torch.tensor([context])]\n",
        "    emb_cat = emb.view(emb.shape[0], -1)\n",
        "    h_pre_act = emb_cat @ W1 + b1\n",
        "    h_pre_act = bngain * (h_pre_act - bnmean) / bnstd + bnbias\n",
        "    h = torch.tanh(h_pre_act)\n",
        "    logits = h @ W2 + b2\n",
        "    probs = F.softmax(logits, dim=1)\n",
        "    ix = torch.multinomial(probs, num_samples=1).item()\n",
        "    context = context[1:] + [ix]\n",
        "    out.append(ix)\n",
        "    if ix == 0:\n",
        "      break\n",
        "  print(''.join(itos[i] for i in out))"
      ],
      "metadata": {
        "id": "0AlIpftqQ-zr"
      },
      "execution_count": null,
      "outputs": []
    },
    {
      "cell_type": "markdown",
      "source": [
        "We are being little wasteful here.\n",
        "\n",
        "`h_pre_act = emb_cat @ W1 + b1`\n",
        "\n",
        "b1 aka the bias is useless here. We are takeing a mean later and subtracing it.\n",
        "It has not effect. If you look at b1.grad(); it will be zero.\n",
        "bnbias is actually taking care of bias now."
      ],
      "metadata": {
        "id": "_yrpMR4vXY3S"
      }
    },
    {
      "cell_type": "code",
      "source": [
        "# Bringing everything together till now\n",
        "\n",
        "n_embed = 10 # the dimensionality of the character embedding vectors\n",
        "n_hidden = 200 # the number of neurons in the hidden layer of the MLP\n",
        "\n",
        "C = torch.randn((vocab_size, n_embed))\n",
        "W1 = torch.randn((n_embed * block_size, n_hidden)) * (5/3) / (n_embed * block_size)**0.5\n",
        "W2 = torch.randn((n_hidden, vocab_size)) * (5/3) / (n_hidden + vocab_size)**0.5\n",
        "\n",
        "bngain = torch.ones((1, n_hidden))\n",
        "bnbias = torch.zeros((1, n_hidden))\n",
        "\n",
        "# declare this after understanding about running mean and standard deviation\n",
        "bnmean_running = torch.zeros((1, n_hidden))\n",
        "bnstd_running = torch.ones((1, n_hidden))\n",
        "\n",
        "parameters = [C, W1, W2, bngain, bnbias]\n",
        "print(sum(p.nelement() for p in parameters)) # number of parameters in total\n",
        "\n",
        "for p in parameters:\n",
        "  p.requires_grad = True\n",
        "\n",
        "max_steps = 200_000\n",
        "batch_size = 32\n",
        "i_loss = []\n",
        "\n",
        "for i in range(max_steps):\n",
        "\n",
        "  # mini batch construct\n",
        "  ix = torch.randint(0, Xtr.shape[0], (batch_size,))\n",
        "  Xb, Yb = Xtr[ix], Ytr[ix] # batch X, Y\n",
        "\n",
        "\n",
        "  # forward pass\n",
        "  emb = C[Xb] # embed the characters into vectors\n",
        "  emb_cat = emb.view(emb.shape[0], -1) # concatenate the vectors\n",
        "  # linear layer\n",
        "  h_pre_act = emb_cat @ W1\n",
        "  # batch norm layer\n",
        "  bnmeani = h_pre_act.mean(0, keepdim=True)\n",
        "  bnstdi = h_pre_act.std(0, keepdim=True)\n",
        "  h_pre_act = bngain * (h_pre_act - bnmeani) / bnstdi + bnbias\n",
        "  with torch.no_grad():\n",
        "    bnmean_running = 0.999 * bnmean_running + 0.001 * bnmeani\n",
        "    bnstd_running = 0.999 * bnstd_running + 0.001 * bnstdi\n",
        "  # end of batch norm\n",
        "  # non linearity\n",
        "  h = torch.tanh(h_pre_act) # hidden layer\n",
        "  logits = h @ W2 # output layer\n",
        "  loss = F.cross_entropy(logits, Yb) # loss function\n",
        "\n",
        "\n",
        "  # backward pass\n",
        "  for p in parameters:\n",
        "    p.grad = None\n",
        "  loss.backward()\n",
        "\n",
        "  # update\n",
        "  lr = 0.1 if i < 10000 else 0.01 # learning rate annealing\n",
        "  for p in parameters:\n",
        "    p.data += -lr * p.grad\n",
        "\n",
        "  # track stats\n",
        "  if i % 10_000 == 0:\n",
        "    print(\"{} / {} : {}\".format(i, max_steps, loss.item()))\n",
        "  i_loss.append(loss.item())\n",
        "\n",
        "@torch.no_grad()\n",
        "def split_loss(split):\n",
        "  x, y = {\n",
        "      'train': (Xtr, Ytr),\n",
        "      'val': (Xdev, Ydev),\n",
        "      'test': (Xte, Yte),\n",
        "  }[split]\n",
        "  emb = C[x] # (N, block_size, n_embed)\n",
        "  emb_cat = emb.view(emb.shape[0], -1) # concat into (N, block_size * n_embed)\n",
        "  h_pre_act = emb_cat @ W1\n",
        "  h_pre_act = bngain * (h_pre_act - bnmean_running) / bnstd_running + bnbias\n",
        "  h = torch.tanh(h_pre_act)\n",
        "  logits = h @ W2\n",
        "  loss = F.cross_entropy(logits, y)\n",
        "  print(split, loss.item())\n",
        "\n",
        "split_loss('train')\n",
        "split_loss('val')"
      ],
      "metadata": {
        "colab": {
          "base_uri": "https://localhost:8080/"
        },
        "id": "-Brf_aflX-Vl",
        "outputId": "9ad4c4d5-e737-4d46-cad6-172cf1270f8c"
      },
      "execution_count": 74,
      "outputs": [
        {
          "output_type": "stream",
          "name": "stdout",
          "text": [
            "12070\n",
            "0 / 200000 : 3.8489348888397217\n",
            "10000 / 200000 : 2.4847822189331055\n",
            "20000 / 200000 : 2.3307785987854004\n",
            "30000 / 200000 : 2.357933759689331\n",
            "40000 / 200000 : 2.4387691020965576\n",
            "50000 / 200000 : 2.263943910598755\n",
            "60000 / 200000 : 2.284675359725952\n",
            "70000 / 200000 : 2.069038152694702\n",
            "80000 / 200000 : 2.3860034942626953\n",
            "90000 / 200000 : 2.2932052612304688\n",
            "100000 / 200000 : 2.5758824348449707\n",
            "110000 / 200000 : 2.099641799926758\n",
            "120000 / 200000 : 2.485262632369995\n",
            "130000 / 200000 : 1.9963202476501465\n",
            "140000 / 200000 : 2.3044440746307373\n",
            "150000 / 200000 : 1.9987417459487915\n",
            "160000 / 200000 : 2.051795482635498\n",
            "170000 / 200000 : 2.172508716583252\n",
            "180000 / 200000 : 2.413754463195801\n",
            "190000 / 200000 : 2.16469407081604\n",
            "train 2.1151325702667236\n",
            "val 2.1458492279052734\n"
          ]
        }
      ]
    },
    {
      "cell_type": "code",
      "source": [],
      "metadata": {
        "id": "eKQBHXq_Zl6u"
      },
      "execution_count": null,
      "outputs": []
    }
  ]
}