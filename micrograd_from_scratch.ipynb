{
  "nbformat": 4,
  "nbformat_minor": 0,
  "metadata": {
    "colab": {
      "provenance": [],
      "authorship_tag": "ABX9TyPOj+cegayAEs7p4K2T5c6D"
    },
    "kernelspec": {
      "name": "python3",
      "display_name": "Python 3"
    },
    "language_info": {
      "name": "python"
    }
  },
  "cells": [
    {
      "cell_type": "code",
      "execution_count": 1,
      "metadata": {
        "id": "lPBG4q5FfqvD"
      },
      "outputs": [],
      "source": [
        "import math\n",
        "import numpy as np\n",
        "import matplotlib.pyplot as plt\n",
        "%matplotlib inline"
      ]
    },
    {
      "cell_type": "code",
      "source": [
        "def f(x):\n",
        "  return 3*x**2 - 4*x + 5"
      ],
      "metadata": {
        "id": "Gx7olnpef72f"
      },
      "execution_count": 2,
      "outputs": []
    },
    {
      "cell_type": "code",
      "source": [
        "f(3.0)"
      ],
      "metadata": {
        "colab": {
          "base_uri": "https://localhost:8080/"
        },
        "id": "TI1e2-b6gI26",
        "outputId": "c40bdd53-8d68-446c-a863-cac0cd7587e3"
      },
      "execution_count": 3,
      "outputs": [
        {
          "output_type": "execute_result",
          "data": {
            "text/plain": [
              "20.0"
            ]
          },
          "metadata": {},
          "execution_count": 3
        }
      ]
    },
    {
      "cell_type": "code",
      "source": [
        "# generate numbers from -5 to 5 (not including) with step size of 0.25\n",
        "xs = np.arange(-5, 5, 0.25)\n",
        "xs"
      ],
      "metadata": {
        "colab": {
          "base_uri": "https://localhost:8080/"
        },
        "id": "TLDigy_kgKGX",
        "outputId": "745d50eb-a0c5-4f45-d8dd-170999865de9"
      },
      "execution_count": 4,
      "outputs": [
        {
          "output_type": "execute_result",
          "data": {
            "text/plain": [
              "array([-5.  , -4.75, -4.5 , -4.25, -4.  , -3.75, -3.5 , -3.25, -3.  ,\n",
              "       -2.75, -2.5 , -2.25, -2.  , -1.75, -1.5 , -1.25, -1.  , -0.75,\n",
              "       -0.5 , -0.25,  0.  ,  0.25,  0.5 ,  0.75,  1.  ,  1.25,  1.5 ,\n",
              "        1.75,  2.  ,  2.25,  2.5 ,  2.75,  3.  ,  3.25,  3.5 ,  3.75,\n",
              "        4.  ,  4.25,  4.5 ,  4.75])"
            ]
          },
          "metadata": {},
          "execution_count": 4
        }
      ]
    },
    {
      "cell_type": "code",
      "source": [
        "# apply function to generated value\n",
        "ys = f(xs)\n",
        "ys"
      ],
      "metadata": {
        "colab": {
          "base_uri": "https://localhost:8080/"
        },
        "id": "ayzsv_VwgSCh",
        "outputId": "550ff6e0-6501-4542-b57b-f46b4a8c6c04"
      },
      "execution_count": 5,
      "outputs": [
        {
          "output_type": "execute_result",
          "data": {
            "text/plain": [
              "array([100.    ,  91.6875,  83.75  ,  76.1875,  69.    ,  62.1875,\n",
              "        55.75  ,  49.6875,  44.    ,  38.6875,  33.75  ,  29.1875,\n",
              "        25.    ,  21.1875,  17.75  ,  14.6875,  12.    ,   9.6875,\n",
              "         7.75  ,   6.1875,   5.    ,   4.1875,   3.75  ,   3.6875,\n",
              "         4.    ,   4.6875,   5.75  ,   7.1875,   9.    ,  11.1875,\n",
              "        13.75  ,  16.6875,  20.    ,  23.6875,  27.75  ,  32.1875,\n",
              "        37.    ,  42.1875,  47.75  ,  53.6875])"
            ]
          },
          "metadata": {},
          "execution_count": 5
        }
      ]
    },
    {
      "cell_type": "code",
      "source": [
        "# plot x and y\n",
        "plt.plot(xs, ys)\n",
        "# we basically get a parabola. Parabolas are defined as the graph of equations\n",
        "# of the form y = ax^2 + bx + c,"
      ],
      "metadata": {
        "colab": {
          "base_uri": "https://localhost:8080/",
          "height": 447
        },
        "id": "AAoASKZ0gb8B",
        "outputId": "c9439e46-0320-41de-cf57-f81cf7542a77"
      },
      "execution_count": 6,
      "outputs": [
        {
          "output_type": "execute_result",
          "data": {
            "text/plain": [
              "[<matplotlib.lines.Line2D at 0x7c5f32c9cbb0>]"
            ]
          },
          "metadata": {},
          "execution_count": 6
        },
        {
          "output_type": "display_data",
          "data": {
            "text/plain": [
              "<Figure size 640x480 with 1 Axes>"
            ],
            "image/png": "[encoded data removed]"
          },
          "metadata": {}
        }
      ]
    },
    {
      "cell_type": "code",
      "source": [
        "# Derivatives. We can't use things like product rules to differentiate equations.\n",
        "# What is derivate. It is slope at given point i.e.\n",
        "# how will the value change with very small nudge.\n",
        "h = 0.00000001\n",
        "x = 3.0\n",
        "(f(x+h) - f(x)) / h"
      ],
      "metadata": {
        "colab": {
          "base_uri": "https://localhost:8080/"
        },
        "id": "-oxEG69Agfch",
        "outputId": "b2fe3406-d4e8-4bfd-a3e9-798437f10ef3"
      },
      "execution_count": 7,
      "outputs": [
        {
          "output_type": "execute_result",
          "data": {
            "text/plain": [
              "14.00000009255109"
            ]
          },
          "metadata": {},
          "execution_count": 7
        }
      ]
    },
    {
      "cell_type": "code",
      "source": [
        "h = 0.00000001\n",
        "x = -3.0\n",
        "(f(x+h) - f(x)) / h"
      ],
      "metadata": {
        "colab": {
          "base_uri": "https://localhost:8080/"
        },
        "id": "-R_4g_b7g-zr",
        "outputId": "b2fa25ee-9ad2-472b-fd25-fa2e98896515"
      },
      "execution_count": 8,
      "outputs": [
        {
          "output_type": "execute_result",
          "data": {
            "text/plain": [
              "-22.00000039920269"
            ]
          },
          "metadata": {},
          "execution_count": 8
        }
      ]
    },
    {
      "cell_type": "code",
      "source": [
        "# slope is zero i.e. line is parallel\n",
        "h = 0.00000001\n",
        "x = 2/3\n",
        "(f(x+h) - f(x)) / h"
      ],
      "metadata": {
        "colab": {
          "base_uri": "https://localhost:8080/"
        },
        "id": "MvRnHPgehbSd",
        "outputId": "36d9e769-b37e-4ab3-8e66-6e31cbf09070"
      },
      "execution_count": 9,
      "outputs": [
        {
          "output_type": "execute_result",
          "data": {
            "text/plain": [
              "0.0"
            ]
          },
          "metadata": {},
          "execution_count": 9
        }
      ]
    },
    {
      "cell_type": "code",
      "source": [
        "a = 2.0\n",
        "b = -3.0\n",
        "c = 10.0\n",
        "d = a*b + c\n",
        "print(d)"
      ],
      "metadata": {
        "colab": {
          "base_uri": "https://localhost:8080/"
        },
        "id": "BXzbauDdhdfO",
        "outputId": "680f03e0-fb56-4bc2-addf-78309bd7ef7a"
      },
      "execution_count": 10,
      "outputs": [
        {
          "output_type": "stream",
          "name": "stdout",
          "text": [
            "4.0\n"
          ]
        }
      ]
    },
    {
      "cell_type": "code",
      "source": [
        "# let us again look at derivates wrt a, b, c"
      ],
      "metadata": {
        "id": "6IvgUm9rikWa"
      },
      "execution_count": 11,
      "outputs": []
    },
    {
      "cell_type": "code",
      "source": [
        "h = 0.0001\n",
        "\n",
        "# inputs\n",
        "a = 2.0\n",
        "b = -3.0\n",
        "c = 10.0\n",
        "\n",
        "d1 = a*b + c\n",
        "a += h\n",
        "d2 = a*b + c\n",
        "\n",
        "print('d1: {}'.format(d1))\n",
        "# think if d2 is more or less than d1. this will tell us sign of derivative\n",
        "print('d2: {}'.format(d2))\n",
        "print('slope: {}'.format((d2 - d1) / h))\n",
        "\n",
        "# how to read it:\n",
        "# (d2 - d1) is how much did it marginally moved\n",
        "# remember h is tending to zero.\n",
        "# and then we divide by h (again tending to zero) to normalise\n",
        "# If we differentiate it mathermatically; we are left with 'b' with is -3"
      ],
      "metadata": {
        "colab": {
          "base_uri": "https://localhost:8080/"
        },
        "id": "Efnlw290itJx",
        "outputId": "c69245e1-6818-40aa-b633-b243923583f6"
      },
      "execution_count": 12,
      "outputs": [
        {
          "output_type": "stream",
          "name": "stdout",
          "text": [
            "d1: 4.0\n",
            "d2: 3.999699999999999\n",
            "slope: -3.000000000010772\n"
          ]
        }
      ]
    },
    {
      "cell_type": "code",
      "source": [
        "# let us try differentiating it wrt b\n",
        "\n",
        "h = 0.0001\n",
        "\n",
        "# inputs\n",
        "a = 2.0\n",
        "b = -3.0\n",
        "c = 10.0\n",
        "\n",
        "d1 = a*b + c\n",
        "b += h\n",
        "d2 = a*b + c\n",
        "\n",
        "print('d1: {}'.format(d1))\n",
        "# think if d2 is more or less than d1. this will tell us sign of derivative\n",
        "print('d2: {}'.format(d2))\n",
        "print('slope: {}'.format((d2 - d1) / h))"
      ],
      "metadata": {
        "colab": {
          "base_uri": "https://localhost:8080/"
        },
        "id": "L0-PRQnIjMCF",
        "outputId": "1f0e716d-9789-43cc-9cb1-3b468868cbeb"
      },
      "execution_count": 13,
      "outputs": [
        {
          "output_type": "stream",
          "name": "stdout",
          "text": [
            "d1: 4.0\n",
            "d2: 4.0002\n",
            "slope: 2.0000000000042206\n"
          ]
        }
      ]
    },
    {
      "cell_type": "code",
      "source": [
        "# let us try differentiating it wrt c\n",
        "\n",
        "h = 0.0001\n",
        "\n",
        "# inputs\n",
        "a = 2.0\n",
        "b = -3.0\n",
        "c = 10.0\n",
        "\n",
        "d1 = a*b + c\n",
        "c += h\n",
        "d2 = a*b + c\n",
        "\n",
        "print('d1: {}'.format(d1))\n",
        "# think if d2 is more or less than d1. this will tell us sign of derivative\n",
        "print('d2: {}'.format(d2))\n",
        "print('slope: {}'.format((d2 - d1) / h))"
      ],
      "metadata": {
        "colab": {
          "base_uri": "https://localhost:8080/"
        },
        "id": "XbfLKieOkKcG",
        "outputId": "7040bb6d-e25b-482e-9fbd-87d7bdb7b6bc"
      },
      "execution_count": 14,
      "outputs": [
        {
          "output_type": "stream",
          "name": "stdout",
          "text": [
            "d1: 4.0\n",
            "d2: 4.0001\n",
            "slope: 0.9999999999976694\n"
          ]
        }
      ]
    },
    {
      "cell_type": "code",
      "source": [
        "# To build a neural network (NN), we need a data structure\n",
        "# Since, we would be doing derivative i.e. backpropagation a lot\n",
        "\n",
        "class Value:\n",
        "\n",
        "  def __init__(self, data, _children = (), _op = '', label = ''):\n",
        "    self.data = data\n",
        "    self._prev = set(_children)\n",
        "    self._op = _op\n",
        "    self.label = label\n",
        "\n",
        "  def __repr__(self):\n",
        "    return \"Value(data={})\".format(self.data)\n",
        "\n",
        "  # after showing __repr__ let us show add\n",
        "  def __add__(self, other):\n",
        "    return Value(self.data + other.data, (self, other), '+')\n",
        "\n",
        "  def __mul__(self, other):\n",
        "    return Value(self.data * other.data, (self, other), '*')\n",
        "\n",
        "a = Value(2, label = 'a')\n",
        "b = Value(-3, label = 'b')\n",
        "c = Value(10.0, label = 'c')\n",
        "# a, b\n",
        "# a + b # this will internally call a.__add__(b)\n",
        "# a * b\n",
        "# a * b + c # we implemented the expression from above cell\n",
        "# d = a*b + c\n",
        "# d\n",
        "# e = a * b; e.label = 'e'\n",
        "# d = c + e; d.label = 'd'\n",
        "# d\n",
        "\n",
        "e = a * b; e.label = 'e'\n",
        "d = c + e; d.label = 'd'\n",
        "f = Value(-2, label = 'f')\n",
        "L = d * f; L.label = 'L'\n",
        "L"
      ],
      "metadata": {
        "colab": {
          "base_uri": "https://localhost:8080/"
        },
        "id": "-2NxtL_2kXSq",
        "outputId": "2de131a7-96cf-4559-87d3-bc714ee3eb56"
      },
      "execution_count": 15,
      "outputs": [
        {
          "output_type": "execute_result",
          "data": {
            "text/plain": [
              "Value(data=-8.0)"
            ]
          },
          "metadata": {},
          "execution_count": 15
        }
      ]
    },
    {
      "cell_type": "code",
      "source": [
        "d._prev, d._op, d.label"
      ],
      "metadata": {
        "colab": {
          "base_uri": "https://localhost:8080/"
        },
        "id": "U5ILsYwHk4oH",
        "outputId": "85adf5ae-8630-45c5-fc4e-86e61e896b4b"
      },
      "execution_count": 16,
      "outputs": [
        {
          "output_type": "execute_result",
          "data": {
            "text/plain": [
              "({Value(data=-6), Value(data=10.0)}, '+', 'd')"
            ]
          },
          "metadata": {},
          "execution_count": 16
        }
      ]
    },
    {
      "cell_type": "code",
      "source": [
        "from graphviz import Digraph\n",
        "\n",
        "def trace(root):\n",
        "  nodes, edges = set(), set()\n",
        "  def build(v):\n",
        "    if v not in nodes:\n",
        "      nodes.add(v)\n",
        "      for child in v._prev:\n",
        "        edges.add((child, v))\n",
        "        build(child)\n",
        "  build(root)\n",
        "  return nodes, edges\n",
        "\n",
        "def draw_dot(root):\n",
        "  dot = Digraph(format='svg', graph_attr={'rankdir': 'LR'})\n",
        "  nodes, edges = trace(root)\n",
        "  for n in nodes:\n",
        "    uid = str(id(n))\n",
        "    dot.node(name = uid, label = \"{} | {}\".format(n.label, n.data), shape = 'record')\n",
        "    if n._op:\n",
        "      dot.node(name = uid + n._op, label = n._op)\n",
        "      dot.edge(uid + n._op, uid)\n",
        "\n",
        "  for n1, n2 in edges:\n",
        "    dot.edge(str(id(n1)), str(id(n2)) + n2._op)\n",
        "\n",
        "  return dot"
      ],
      "metadata": {
        "id": "kMD0ccyrm0EU"
      },
      "execution_count": 17,
      "outputs": []
    },
    {
      "cell_type": "code",
      "source": [
        "draw_dot(L)\n",
        "# this is visualising forward pass where value turns out to be -8"
      ],
      "metadata": {
        "colab": {
          "base_uri": "https://localhost:8080/",
          "height": 267
        },
        "id": "Zib0U9vXnHnj",
        "outputId": "3c0c4a6b-bb25-4f04-b54d-fb9407452310"
      },
      "execution_count": 18,
      "outputs": [
        {
          "output_type": "execute_result",
          "data": {
            "image/svg+xml": "<?xml version=\"1.0\" encoding=\"UTF-8\" standalone=\"no\"?>\n<!DOCTYPE svg PUBLIC \"-//W3C//DTD SVG 1.1//EN\"\n \"http://www.w3.org/Graphics/SVG/1.1/DTD/svg11.dtd\">\n<!-- Generated by graphviz version 2.43.0 (0)\n -->\n<!-- Title: %3 Pages: 1 -->\n<svg width=\"602pt\" height=\"184pt\"\n viewBox=\"0.00 0.00 602.00 184.00\" xmlns=\"http://www.w3.org/2000/svg\" xmlns:xlink=\"http://www.w3.org/1999/xlink\">\n<g id=\"graph0\" class=\"graph\" transform=\"scale(1 1) rotate(0) translate(4 180)\">\n<title>%3</title>\n<polygon fill=\"white\" stroke=\"transparent\" points=\"-4,4 -4,-180 598,-180 598,4 -4,4\"/>\n<!-- 136748325499472 -->\n<g id=\"node1\" class=\"node\">\n<title>136748325499472</title>\n<polygon fill=\"none\" stroke=\"black\" points=\"360,-64.5 360,-110.5 414,-110.5 414,-64.5 360,-64.5\"/>\n<text text-anchor=\"middle\" x=\"387\" y=\"-95.3\" font-family=\"Times,serif\" font-size=\"14.00\">d</text>\n<polyline fill=\"none\" stroke=\"black\" points=\"360,-87.5 414,-87.5 \"/>\n<text text-anchor=\"middle\" x=\"387\" y=\"-72.3\" font-family=\"Times,serif\" font-size=\"14.00\">4.0</text>\n</g>\n<!-- 136748325494144* -->\n<g id=\"node7\" class=\"node\">\n<title>136748325494144*</title>\n<ellipse fill=\"none\" stroke=\"black\" cx=\"477\" cy=\"-119.5\" rx=\"27\" ry=\"18\"/>\n<text text-anchor=\"middle\" x=\"477\" y=\"-115.8\" font-family=\"Times,serif\" font-size=\"14.00\">*</text>\n</g>\n<!-- 136748325499472&#45;&gt;136748325494144* -->\n<g id=\"edge5\" class=\"edge\">\n<title>136748325499472&#45;&gt;136748325494144*</title>\n<path fill=\"none\" stroke=\"black\" d=\"M414.4,-97.1C423.5,-100.41 433.79,-104.15 443.32,-107.62\"/>\n<polygon fill=\"black\" stroke=\"black\" points=\"442.3,-110.97 452.9,-111.1 444.7,-104.39 442.3,-110.97\"/>\n</g>\n<!-- 136748325499472+ -->\n<g id=\"node2\" class=\"node\">\n<title>136748325499472+</title>\n<ellipse fill=\"none\" stroke=\"black\" cx=\"297\" cy=\"-87.5\" rx=\"27\" ry=\"18\"/>\n<text text-anchor=\"middle\" x=\"297\" y=\"-83.8\" font-family=\"Times,serif\" font-size=\"14.00\">+</text>\n</g>\n<!-- 136748325499472+&#45;&gt;136748325499472 -->\n<g id=\"edge1\" class=\"edge\">\n<title>136748325499472+&#45;&gt;136748325499472</title>\n<path fill=\"none\" stroke=\"black\" d=\"M324.4,-87.5C332.39,-87.5 341.31,-87.5 349.82,-87.5\"/>\n<polygon fill=\"black\" stroke=\"black\" points=\"349.92,-91 359.92,-87.5 349.92,-84 349.92,-91\"/>\n</g>\n<!-- 136748325489296 -->\n<g id=\"node3\" class=\"node\">\n<title>136748325489296</title>\n<polygon fill=\"none\" stroke=\"black\" points=\"360,-129.5 360,-175.5 414,-175.5 414,-129.5 360,-129.5\"/>\n<text text-anchor=\"middle\" x=\"387\" y=\"-160.3\" font-family=\"Times,serif\" font-size=\"14.00\">f</text>\n<polyline fill=\"none\" stroke=\"black\" points=\"360,-152.5 414,-152.5 \"/>\n<text text-anchor=\"middle\" x=\"387\" y=\"-137.3\" font-family=\"Times,serif\" font-size=\"14.00\">&#45;2</text>\n</g>\n<!-- 136748325489296&#45;&gt;136748325494144* -->\n<g id=\"edge6\" class=\"edge\">\n<title>136748325489296&#45;&gt;136748325494144*</title>\n<path fill=\"none\" stroke=\"black\" d=\"M414.4,-142.6C423.57,-139.16 433.96,-135.27 443.56,-131.67\"/>\n<polygon fill=\"black\" stroke=\"black\" points=\"445.06,-134.84 453.19,-128.05 442.6,-128.29 445.06,-134.84\"/>\n</g>\n<!-- 136748325487328 -->\n<g id=\"node4\" class=\"node\">\n<title>136748325487328</title>\n<polygon fill=\"none\" stroke=\"black\" points=\"180,-97.5 180,-143.5 234,-143.5 234,-97.5 180,-97.5\"/>\n<text text-anchor=\"middle\" x=\"207\" y=\"-128.3\" font-family=\"Times,serif\" font-size=\"14.00\">c</text>\n<polyline fill=\"none\" stroke=\"black\" points=\"180,-120.5 234,-120.5 \"/>\n<text text-anchor=\"middle\" x=\"207\" y=\"-105.3\" font-family=\"Times,serif\" font-size=\"14.00\">10.0</text>\n</g>\n<!-- 136748325487328&#45;&gt;136748325499472+ -->\n<g id=\"edge9\" class=\"edge\">\n<title>136748325487328&#45;&gt;136748325499472+</title>\n<path fill=\"none\" stroke=\"black\" d=\"M234.4,-110.6C243.57,-107.16 253.96,-103.27 263.56,-99.67\"/>\n<polygon fill=\"black\" stroke=\"black\" points=\"265.06,-102.84 273.19,-96.05 262.6,-96.29 265.06,-102.84\"/>\n</g>\n<!-- 136748325490976 -->\n<g id=\"node5\" class=\"node\">\n<title>136748325490976</title>\n<polygon fill=\"none\" stroke=\"black\" points=\"0,-65.5 0,-111.5 54,-111.5 54,-65.5 0,-65.5\"/>\n<text text-anchor=\"middle\" x=\"27\" y=\"-96.3\" font-family=\"Times,serif\" font-size=\"14.00\">b</text>\n<polyline fill=\"none\" stroke=\"black\" points=\"0,-88.5 54,-88.5 \"/>\n<text text-anchor=\"middle\" x=\"27\" y=\"-73.3\" font-family=\"Times,serif\" font-size=\"14.00\">&#45;3</text>\n</g>\n<!-- 136748325488048* -->\n<g id=\"node9\" class=\"node\">\n<title>136748325488048*</title>\n<ellipse fill=\"none\" stroke=\"black\" cx=\"117\" cy=\"-55.5\" rx=\"27\" ry=\"18\"/>\n<text text-anchor=\"middle\" x=\"117\" y=\"-51.8\" font-family=\"Times,serif\" font-size=\"14.00\">*</text>\n</g>\n<!-- 136748325490976&#45;&gt;136748325488048* -->\n<g id=\"edge7\" class=\"edge\">\n<title>136748325490976&#45;&gt;136748325488048*</title>\n<path fill=\"none\" stroke=\"black\" d=\"M54.4,-78.6C63.57,-75.16 73.96,-71.27 83.56,-67.67\"/>\n<polygon fill=\"black\" stroke=\"black\" points=\"85.06,-70.84 93.19,-64.05 82.6,-64.29 85.06,-70.84\"/>\n</g>\n<!-- 136748325494144 -->\n<g id=\"node6\" class=\"node\">\n<title>136748325494144</title>\n<polygon fill=\"none\" stroke=\"black\" points=\"540,-96.5 540,-142.5 594,-142.5 594,-96.5 540,-96.5\"/>\n<text text-anchor=\"middle\" x=\"567\" y=\"-127.3\" font-family=\"Times,serif\" font-size=\"14.00\">L</text>\n<polyline fill=\"none\" stroke=\"black\" points=\"540,-119.5 594,-119.5 \"/>\n<text text-anchor=\"middle\" x=\"567\" y=\"-104.3\" font-family=\"Times,serif\" font-size=\"14.00\">&#45;8.0</text>\n</g>\n<!-- 136748325494144*&#45;&gt;136748325494144 -->\n<g id=\"edge2\" class=\"edge\">\n<title>136748325494144*&#45;&gt;136748325494144</title>\n<path fill=\"none\" stroke=\"black\" d=\"M504.4,-119.5C512.39,-119.5 521.31,-119.5 529.82,-119.5\"/>\n<polygon fill=\"black\" stroke=\"black\" points=\"529.92,-123 539.92,-119.5 529.92,-116 529.92,-123\"/>\n</g>\n<!-- 136748325488048 -->\n<g id=\"node8\" class=\"node\">\n<title>136748325488048</title>\n<polygon fill=\"none\" stroke=\"black\" points=\"180,-32.5 180,-78.5 234,-78.5 234,-32.5 180,-32.5\"/>\n<text text-anchor=\"middle\" x=\"207\" y=\"-63.3\" font-family=\"Times,serif\" font-size=\"14.00\">e</text>\n<polyline fill=\"none\" stroke=\"black\" points=\"180,-55.5 234,-55.5 \"/>\n<text text-anchor=\"middle\" x=\"207\" y=\"-40.3\" font-family=\"Times,serif\" font-size=\"14.00\">&#45;6</text>\n</g>\n<!-- 136748325488048&#45;&gt;136748325499472+ -->\n<g id=\"edge4\" class=\"edge\">\n<title>136748325488048&#45;&gt;136748325499472+</title>\n<path fill=\"none\" stroke=\"black\" d=\"M234.4,-65.1C243.5,-68.41 253.79,-72.15 263.32,-75.62\"/>\n<polygon fill=\"black\" stroke=\"black\" points=\"262.3,-78.97 272.9,-79.1 264.7,-72.39 262.3,-78.97\"/>\n</g>\n<!-- 136748325488048*&#45;&gt;136748325488048 -->\n<g id=\"edge3\" class=\"edge\">\n<title>136748325488048*&#45;&gt;136748325488048</title>\n<path fill=\"none\" stroke=\"black\" d=\"M144.4,-55.5C152.39,-55.5 161.31,-55.5 169.82,-55.5\"/>\n<polygon fill=\"black\" stroke=\"black\" points=\"169.92,-59 179.92,-55.5 169.92,-52 169.92,-59\"/>\n</g>\n<!-- 136748325502928 -->\n<g id=\"node10\" class=\"node\">\n<title>136748325502928</title>\n<polygon fill=\"none\" stroke=\"black\" points=\"0,-0.5 0,-46.5 54,-46.5 54,-0.5 0,-0.5\"/>\n<text text-anchor=\"middle\" x=\"27\" y=\"-31.3\" font-family=\"Times,serif\" font-size=\"14.00\">a</text>\n<polyline fill=\"none\" stroke=\"black\" points=\"0,-23.5 54,-23.5 \"/>\n<text text-anchor=\"middle\" x=\"27\" y=\"-8.3\" font-family=\"Times,serif\" font-size=\"14.00\">2</text>\n</g>\n<!-- 136748325502928&#45;&gt;136748325488048* -->\n<g id=\"edge8\" class=\"edge\">\n<title>136748325502928&#45;&gt;136748325488048*</title>\n<path fill=\"none\" stroke=\"black\" d=\"M54.4,-33.1C63.5,-36.41 73.79,-40.15 83.32,-43.62\"/>\n<polygon fill=\"black\" stroke=\"black\" points=\"82.3,-46.97 92.9,-47.1 84.7,-40.39 82.3,-46.97\"/>\n</g>\n</g>\n</svg>\n",
            "text/plain": [
              "<graphviz.graphs.Digraph at 0x7c5f335b46a0>"
            ]
          },
          "metadata": {},
          "execution_count": 18
        }
      ]
    },
    {
      "cell_type": "code",
      "source": [
        "# Now we want to run backpropagation (back pass) i.e. finding derivate at each node wrt L\n",
        "# we will create a new variable called 'grad'.\n",
        "# It defaults to zero i.e. it has no change at all\n",
        "class Value:\n",
        "\n",
        "  def __init__(self, data, _children = (), _op = '', label = ''):\n",
        "    self.data = data\n",
        "    self.grad = 0.0\n",
        "    self._prev = set(_children)\n",
        "    self._op = _op\n",
        "    self.label = label\n",
        "\n",
        "  def __repr__(self):\n",
        "    return \"Value(data={})\".format(self.data)\n",
        "\n",
        "  # after showing __repr__ let us show add\n",
        "  def __add__(self, other):\n",
        "    return Value(self.data + other.data, (self, other), '+')\n",
        "\n",
        "  def __mul__(self, other):\n",
        "    return Value(self.data * other.data, (self, other), '*')\n",
        "\n",
        "  # add this function when doing NN\n",
        "  def tanh(self):\n",
        "    x = self.data\n",
        "    t = (math.exp(2*x) - 1) / (math.exp(2*x) + 1) # look at wikipedia to verify\n",
        "    out = Value(t, (self, ), 'tanh')\n",
        "    return out"
      ],
      "metadata": {
        "id": "MRJwDOL0nqYH"
      },
      "execution_count": 19,
      "outputs": []
    },
    {
      "cell_type": "code",
      "source": [
        "from graphviz import Digraph\n",
        "\n",
        "def trace(root):\n",
        "  nodes, edges = set(), set()\n",
        "  def build(v):\n",
        "    if v not in nodes:\n",
        "      nodes.add(v)\n",
        "      for child in v._prev:\n",
        "        edges.add((child, v))\n",
        "        build(child)\n",
        "  build(root)\n",
        "  return nodes, edges\n",
        "\n",
        "def draw_dot(root):\n",
        "  dot = Digraph(format='svg', graph_attr={'rankdir': 'LR'})\n",
        "  nodes, edges = trace(root)\n",
        "  for n in nodes:\n",
        "    uid = str(id(n))\n",
        "    dot.node(name = uid, label = \"{} | {} | {}\".format(n.label, n.data, n.grad), shape = 'record')\n",
        "    if n._op:\n",
        "      dot.node(name = uid + n._op, label = n._op)\n",
        "      dot.edge(uid + n._op, uid)\n",
        "\n",
        "  for n1, n2 in edges:\n",
        "    dot.edge(str(id(n1)), str(id(n2)) + n2._op)\n",
        "\n",
        "  return dot"
      ],
      "metadata": {
        "id": "7HXDXouIqQgw"
      },
      "execution_count": 20,
      "outputs": []
    },
    {
      "cell_type": "code",
      "source": [
        "a = Value(2, label = 'a')\n",
        "b = Value(-3, label = 'b')\n",
        "c = Value(10.0, label = 'c')\n",
        "e = a * b; e.label = 'e'\n",
        "d = c + e; d.label = 'd'\n",
        "f = Value(-2, label = 'f')\n",
        "L = d * f; L.label = 'L'\n",
        "L"
      ],
      "metadata": {
        "colab": {
          "base_uri": "https://localhost:8080/"
        },
        "id": "XSKR08dGqZtm",
        "outputId": "5036b95b-d266-4bd9-fe26-20490220f5a4"
      },
      "execution_count": 21,
      "outputs": [
        {
          "output_type": "execute_result",
          "data": {
            "text/plain": [
              "Value(data=-8.0)"
            ]
          },
          "metadata": {},
          "execution_count": 21
        }
      ]
    },
    {
      "cell_type": "code",
      "source": [
        "draw_dot(L)"
      ],
      "metadata": {
        "colab": {
          "base_uri": "https://localhost:8080/",
          "height": 302
        },
        "id": "YSK1W-N7qeVs",
        "outputId": "512d2d0a-7d0e-47ad-a8c4-7b1d796a3ef2"
      },
      "execution_count": 22,
      "outputs": [
        {
          "output_type": "execute_result",
          "data": {
            "image/svg+xml": "<?xml version=\"1.0\" encoding=\"UTF-8\" standalone=\"no\"?>\n<!DOCTYPE svg PUBLIC \"-//W3C//DTD SVG 1.1//EN\"\n \"http://www.w3.org/Graphics/SVG/1.1/DTD/svg11.dtd\">\n<!-- Generated by graphviz version 2.43.0 (0)\n -->\n<!-- Title: %3 Pages: 1 -->\n<svg width=\"602pt\" height=\"210pt\"\n viewBox=\"0.00 0.00 602.00 210.00\" xmlns=\"http://www.w3.org/2000/svg\" xmlns:xlink=\"http://www.w3.org/1999/xlink\">\n<g id=\"graph0\" class=\"graph\" transform=\"scale(1 1) rotate(0) translate(4 206)\">\n<title>%3</title>\n<polygon fill=\"white\" stroke=\"transparent\" points=\"-4,4 -4,-206 598,-206 598,4 -4,4\"/>\n<!-- 136748315707568 -->\n<g id=\"node1\" class=\"node\">\n<title>136748315707568</title>\n<polygon fill=\"none\" stroke=\"black\" points=\"540,-44.5 540,-113.5 594,-113.5 594,-44.5 540,-44.5\"/>\n<text text-anchor=\"middle\" x=\"567\" y=\"-98.3\" font-family=\"Times,serif\" font-size=\"14.00\">L</text>\n<polyline fill=\"none\" stroke=\"black\" points=\"540,-90.5 594,-90.5 \"/>\n<text text-anchor=\"middle\" x=\"567\" y=\"-75.3\" font-family=\"Times,serif\" font-size=\"14.00\">&#45;8.0</text>\n<polyline fill=\"none\" stroke=\"black\" points=\"540,-67.5 594,-67.5 \"/>\n<text text-anchor=\"middle\" x=\"567\" y=\"-52.3\" font-family=\"Times,serif\" font-size=\"14.00\">0.0</text>\n</g>\n<!-- 136748315707568* -->\n<g id=\"node2\" class=\"node\">\n<title>136748315707568*</title>\n<ellipse fill=\"none\" stroke=\"black\" cx=\"477\" cy=\"-79\" rx=\"27\" ry=\"18\"/>\n<text text-anchor=\"middle\" x=\"477\" y=\"-75.3\" font-family=\"Times,serif\" font-size=\"14.00\">*</text>\n</g>\n<!-- 136748315707568*&#45;&gt;136748315707568 -->\n<g id=\"edge1\" class=\"edge\">\n<title>136748315707568*&#45;&gt;136748315707568</title>\n<path fill=\"none\" stroke=\"black\" d=\"M504.4,-79C512.39,-79 521.31,-79 529.82,-79\"/>\n<polygon fill=\"black\" stroke=\"black\" points=\"529.92,-82.5 539.92,-79 529.92,-75.5 529.92,-82.5\"/>\n</g>\n<!-- 136748315710688 -->\n<g id=\"node3\" class=\"node\">\n<title>136748315710688</title>\n<polygon fill=\"none\" stroke=\"black\" points=\"0,-88.5 0,-157.5 54,-157.5 54,-88.5 0,-88.5\"/>\n<text text-anchor=\"middle\" x=\"27\" y=\"-142.3\" font-family=\"Times,serif\" font-size=\"14.00\">b</text>\n<polyline fill=\"none\" stroke=\"black\" points=\"0,-134.5 54,-134.5 \"/>\n<text text-anchor=\"middle\" x=\"27\" y=\"-119.3\" font-family=\"Times,serif\" font-size=\"14.00\">&#45;3</text>\n<polyline fill=\"none\" stroke=\"black\" points=\"0,-111.5 54,-111.5 \"/>\n<text text-anchor=\"middle\" x=\"27\" y=\"-96.3\" font-family=\"Times,serif\" font-size=\"14.00\">0.0</text>\n</g>\n<!-- 136748315713952* -->\n<g id=\"node8\" class=\"node\">\n<title>136748315713952*</title>\n<ellipse fill=\"none\" stroke=\"black\" cx=\"117\" cy=\"-79\" rx=\"27\" ry=\"18\"/>\n<text text-anchor=\"middle\" x=\"117\" y=\"-75.3\" font-family=\"Times,serif\" font-size=\"14.00\">*</text>\n</g>\n<!-- 136748315710688&#45;&gt;136748315713952* -->\n<g id=\"edge8\" class=\"edge\">\n<title>136748315710688&#45;&gt;136748315713952*</title>\n<path fill=\"none\" stroke=\"black\" d=\"M54.4,-109.8C64.33,-104.84 75.68,-99.16 85.91,-94.04\"/>\n<polygon fill=\"black\" stroke=\"black\" points=\"87.54,-97.14 94.92,-89.54 84.41,-90.88 87.54,-97.14\"/>\n</g>\n<!-- 136748315710736 -->\n<g id=\"node4\" class=\"node\">\n<title>136748315710736</title>\n<polygon fill=\"none\" stroke=\"black\" points=\"360,-88.5 360,-157.5 414,-157.5 414,-88.5 360,-88.5\"/>\n<text text-anchor=\"middle\" x=\"387\" y=\"-142.3\" font-family=\"Times,serif\" font-size=\"14.00\">d</text>\n<polyline fill=\"none\" stroke=\"black\" points=\"360,-134.5 414,-134.5 \"/>\n<text text-anchor=\"middle\" x=\"387\" y=\"-119.3\" font-family=\"Times,serif\" font-size=\"14.00\">4.0</text>\n<polyline fill=\"none\" stroke=\"black\" points=\"360,-111.5 414,-111.5 \"/>\n<text text-anchor=\"middle\" x=\"387\" y=\"-96.3\" font-family=\"Times,serif\" font-size=\"14.00\">0.0</text>\n</g>\n<!-- 136748315710736&#45;&gt;136748315707568* -->\n<g id=\"edge7\" class=\"edge\">\n<title>136748315710736&#45;&gt;136748315707568*</title>\n<path fill=\"none\" stroke=\"black\" d=\"M414.4,-109.8C424.33,-104.84 435.68,-99.16 445.91,-94.04\"/>\n<polygon fill=\"black\" stroke=\"black\" points=\"447.54,-97.14 454.92,-89.54 444.41,-90.88 447.54,-97.14\"/>\n</g>\n<!-- 136748315710736+ -->\n<g id=\"node5\" class=\"node\">\n<title>136748315710736+</title>\n<ellipse fill=\"none\" stroke=\"black\" cx=\"297\" cy=\"-123\" rx=\"27\" ry=\"18\"/>\n<text text-anchor=\"middle\" x=\"297\" y=\"-119.3\" font-family=\"Times,serif\" font-size=\"14.00\">+</text>\n</g>\n<!-- 136748315710736+&#45;&gt;136748315710736 -->\n<g id=\"edge2\" class=\"edge\">\n<title>136748315710736+&#45;&gt;136748315710736</title>\n<path fill=\"none\" stroke=\"black\" d=\"M324.4,-123C332.39,-123 341.31,-123 349.82,-123\"/>\n<polygon fill=\"black\" stroke=\"black\" points=\"349.92,-126.5 359.92,-123 349.92,-119.5 349.92,-126.5\"/>\n</g>\n<!-- 136748315720048 -->\n<g id=\"node6\" class=\"node\">\n<title>136748315720048</title>\n<polygon fill=\"none\" stroke=\"black\" points=\"180,-132.5 180,-201.5 234,-201.5 234,-132.5 180,-132.5\"/>\n<text text-anchor=\"middle\" x=\"207\" y=\"-186.3\" font-family=\"Times,serif\" font-size=\"14.00\">c</text>\n<polyline fill=\"none\" stroke=\"black\" points=\"180,-178.5 234,-178.5 \"/>\n<text text-anchor=\"middle\" x=\"207\" y=\"-163.3\" font-family=\"Times,serif\" font-size=\"14.00\">10.0</text>\n<polyline fill=\"none\" stroke=\"black\" points=\"180,-155.5 234,-155.5 \"/>\n<text text-anchor=\"middle\" x=\"207\" y=\"-140.3\" font-family=\"Times,serif\" font-size=\"14.00\">0.0</text>\n</g>\n<!-- 136748315720048&#45;&gt;136748315710736+ -->\n<g id=\"edge4\" class=\"edge\">\n<title>136748315720048&#45;&gt;136748315710736+</title>\n<path fill=\"none\" stroke=\"black\" d=\"M234.4,-153.8C244.33,-148.84 255.68,-143.16 265.91,-138.04\"/>\n<polygon fill=\"black\" stroke=\"black\" points=\"267.54,-141.14 274.92,-133.54 264.41,-134.88 267.54,-141.14\"/>\n</g>\n<!-- 136748315713952 -->\n<g id=\"node7\" class=\"node\">\n<title>136748315713952</title>\n<polygon fill=\"none\" stroke=\"black\" points=\"180,-44.5 180,-113.5 234,-113.5 234,-44.5 180,-44.5\"/>\n<text text-anchor=\"middle\" x=\"207\" y=\"-98.3\" font-family=\"Times,serif\" font-size=\"14.00\">e</text>\n<polyline fill=\"none\" stroke=\"black\" points=\"180,-90.5 234,-90.5 \"/>\n<text text-anchor=\"middle\" x=\"207\" y=\"-75.3\" font-family=\"Times,serif\" font-size=\"14.00\">&#45;6</text>\n<polyline fill=\"none\" stroke=\"black\" points=\"180,-67.5 234,-67.5 \"/>\n<text text-anchor=\"middle\" x=\"207\" y=\"-52.3\" font-family=\"Times,serif\" font-size=\"14.00\">0.0</text>\n</g>\n<!-- 136748315713952&#45;&gt;136748315710736+ -->\n<g id=\"edge9\" class=\"edge\">\n<title>136748315713952&#45;&gt;136748315710736+</title>\n<path fill=\"none\" stroke=\"black\" d=\"M234.4,-92.2C244.33,-97.16 255.68,-102.84 265.91,-107.96\"/>\n<polygon fill=\"black\" stroke=\"black\" points=\"264.41,-111.12 274.92,-112.46 267.54,-104.86 264.41,-111.12\"/>\n</g>\n<!-- 136748315713952*&#45;&gt;136748315713952 -->\n<g id=\"edge3\" class=\"edge\">\n<title>136748315713952*&#45;&gt;136748315713952</title>\n<path fill=\"none\" stroke=\"black\" d=\"M144.4,-79C152.39,-79 161.31,-79 169.82,-79\"/>\n<polygon fill=\"black\" stroke=\"black\" points=\"169.92,-82.5 179.92,-79 169.92,-75.5 169.92,-82.5\"/>\n</g>\n<!-- 136748315717552 -->\n<g id=\"node9\" class=\"node\">\n<title>136748315717552</title>\n<polygon fill=\"none\" stroke=\"black\" points=\"0,-0.5 0,-69.5 54,-69.5 54,-0.5 0,-0.5\"/>\n<text text-anchor=\"middle\" x=\"27\" y=\"-54.3\" font-family=\"Times,serif\" font-size=\"14.00\">a</text>\n<polyline fill=\"none\" stroke=\"black\" points=\"0,-46.5 54,-46.5 \"/>\n<text text-anchor=\"middle\" x=\"27\" y=\"-31.3\" font-family=\"Times,serif\" font-size=\"14.00\">2</text>\n<polyline fill=\"none\" stroke=\"black\" points=\"0,-23.5 54,-23.5 \"/>\n<text text-anchor=\"middle\" x=\"27\" y=\"-8.3\" font-family=\"Times,serif\" font-size=\"14.00\">0.0</text>\n</g>\n<!-- 136748315717552&#45;&gt;136748315713952* -->\n<g id=\"edge6\" class=\"edge\">\n<title>136748315717552&#45;&gt;136748315713952*</title>\n<path fill=\"none\" stroke=\"black\" d=\"M54.4,-48.2C64.33,-53.16 75.68,-58.84 85.91,-63.96\"/>\n<polygon fill=\"black\" stroke=\"black\" points=\"84.41,-67.12 94.92,-68.46 87.54,-60.86 84.41,-67.12\"/>\n</g>\n<!-- 136748315707376 -->\n<g id=\"node10\" class=\"node\">\n<title>136748315707376</title>\n<polygon fill=\"none\" stroke=\"black\" points=\"360,-0.5 360,-69.5 414,-69.5 414,-0.5 360,-0.5\"/>\n<text text-anchor=\"middle\" x=\"387\" y=\"-54.3\" font-family=\"Times,serif\" font-size=\"14.00\">f</text>\n<polyline fill=\"none\" stroke=\"black\" points=\"360,-46.5 414,-46.5 \"/>\n<text text-anchor=\"middle\" x=\"387\" y=\"-31.3\" font-family=\"Times,serif\" font-size=\"14.00\">&#45;2</text>\n<polyline fill=\"none\" stroke=\"black\" points=\"360,-23.5 414,-23.5 \"/>\n<text text-anchor=\"middle\" x=\"387\" y=\"-8.3\" font-family=\"Times,serif\" font-size=\"14.00\">0.0</text>\n</g>\n<!-- 136748315707376&#45;&gt;136748315707568* -->\n<g id=\"edge5\" class=\"edge\">\n<title>136748315707376&#45;&gt;136748315707568*</title>\n<path fill=\"none\" stroke=\"black\" d=\"M414.4,-48.2C424.33,-53.16 435.68,-58.84 445.91,-63.96\"/>\n<polygon fill=\"black\" stroke=\"black\" points=\"444.41,-67.12 454.92,-68.46 447.54,-60.86 444.41,-67.12\"/>\n</g>\n</g>\n</svg>\n",
            "text/plain": [
              "<graphviz.graphs.Digraph at 0x7c5f32c82080>"
            ]
          },
          "metadata": {},
          "execution_count": 22
        }
      ]
    },
    {
      "cell_type": "code",
      "source": [
        "L.grad = 1\n",
        "f.grad = 4\n",
        "d.grad = -2\n",
        "c.grad = -2\n",
        "e.grad = -2\n",
        "a.grad = -2.0 * -3.0\n",
        "b.grad = -2.0 * 2.0"
      ],
      "metadata": {
        "id": "Pibn9tqgrlxD"
      },
      "execution_count": 23,
      "outputs": []
    },
    {
      "cell_type": "code",
      "source": [
        "# let us start by filling derivative\n",
        "# derivative of L wrt L will be 1.\n",
        "\n",
        "# let us try it by staging\n",
        "\n",
        "# we are going to do this mathematically\n",
        "# add h (which is almost zero) to each variable and normalise\n",
        "\n",
        "# L = d * f\n",
        "# dL/dd = f\n",
        "\n",
        "# by definition\n",
        "# dL/dd = (f(x + h) - f(x)) / h\n",
        "#((d + h) * f - d*f) / h\n",
        "# (d*f + d*h - d*f) / h = h*f / h = f\n",
        "\n",
        "# now most important is dL/dc\n",
        "# we know how dL/dd but how would dL/dc impact which goes through 'd'\n",
        "# intution: dd/ dc = ?\n",
        "# d = c + e\n",
        "# (f(x + h) - f(x)) / h\n",
        "# ((c + h + e) - (c + e)) / h\n",
        "# (c + h + e - c - e) / h\n",
        "# h / h = 1\n",
        "\n",
        "# hence, dd/dc = 1 and dd/de = 1\n",
        "\n",
        "# think about chain rule in calculus\n",
        "# dL/dc = ?\n",
        "# we know that dl/dd and we know dd/dc\n",
        "# by chain rule: dL/dc = (dL / dd) * (dd / dc)\n",
        "\n",
        "# dl / de = -2\n",
        "# dL / da = (dL/de) * (de/da)\n",
        "# e = a * b; de/da = 1\n",
        "\n",
        "# we can check using this function quickly\n",
        "# this is estimation based on small step size\n",
        "def rofl():\n",
        "  h = 0.0001\n",
        "\n",
        "  a = Value(2, label = 'a')\n",
        "  b = Value(-3, label = 'b')\n",
        "  c = Value(10.0, label = 'c')\n",
        "  e = a * b; e.label = 'e'\n",
        "  d = c + e; d.label = 'd'\n",
        "  f = Value(-2, label = 'f')\n",
        "  L = d * f; L.label = 'L'\n",
        "  L1 = L.data\n",
        "\n",
        "  a = Value(2, label = 'a')\n",
        "  b = Value(-3 + h, label = 'b')\n",
        "  c = Value(10.0, label = 'c')\n",
        "  e = a * b; e.label = 'e'\n",
        "  d = c + e; d.label = 'd'\n",
        "  f = Value(-2, label = 'f')\n",
        "  L = d * f; L.label = 'L'\n",
        "  L2 = L.data\n",
        "\n",
        "  print((L2 - L1) / h)\n",
        "\n",
        "rofl()"
      ],
      "metadata": {
        "colab": {
          "base_uri": "https://localhost:8080/"
        },
        "id": "Fw4U5YzOqgLU",
        "outputId": "3d0072c5-cb7c-428e-b824-9bd0e3070631"
      },
      "execution_count": 24,
      "outputs": [
        {
          "output_type": "stream",
          "name": "stdout",
          "text": [
            "-4.000000000008441\n"
          ]
        }
      ]
    },
    {
      "cell_type": "code",
      "source": [
        "# backpropagation is basically finding derivate in computational graph"
      ],
      "metadata": {
        "id": "U1koUdV7rPGj"
      },
      "execution_count": 25,
      "outputs": []
    },
    {
      "cell_type": "code",
      "source": [
        "# let us try to nudge L in postive direction\n",
        "\n",
        "a.data += 0.01 * a.grad\n",
        "b.data += 0.01 * b.grad\n",
        "c.data += 0.01 * c.grad\n",
        "f.data += 0.01 * f.grad\n",
        "\n",
        "e = a * b;\n",
        "d = c + e;\n",
        "L = d * f;\n",
        "L"
      ],
      "metadata": {
        "colab": {
          "base_uri": "https://localhost:8080/"
        },
        "id": "MosVu4rswkvc",
        "outputId": "ebc829f8-c340-42b4-fc38-d9813167a967"
      },
      "execution_count": 26,
      "outputs": [
        {
          "output_type": "execute_result",
          "data": {
            "text/plain": [
              "Value(data=-7.286496)"
            ]
          },
          "metadata": {},
          "execution_count": 26
        }
      ]
    },
    {
      "cell_type": "code",
      "source": [
        "# what is activation function? It is kind of squashing function\n",
        "plt.plot(np.arange(-5, 5, 0.2), np.tanh(np.arange(-5, 5, 0.2)))\n",
        "plt.grid()"
      ],
      "metadata": {
        "colab": {
          "base_uri": "https://localhost:8080/",
          "height": 430
        },
        "id": "EUiOJF0mw-nh",
        "outputId": "d5ca3e55-6c93-48cf-e7ae-c2c0c63c9f18"
      },
      "execution_count": 27,
      "outputs": [
        {
          "output_type": "display_data",
          "data": {
            "text/plain": [
              "<Figure size 640x480 with 1 Axes>"
            ],
            "image/png": "[encoded data removed]"
          },
          "metadata": {}
        }
      ]
    },
    {
      "cell_type": "code",
      "source": [
        "# let us run back propagation on an NN manually to understand\n",
        "\n",
        "# inputs x1, x2\n",
        "x1 = Value(2.0, label='x1')\n",
        "x2 = Value(0.0, label='x2')\n",
        "\n",
        "# weights w1, w2\n",
        "w1 = Value(-3.0, label='w1')\n",
        "w2 = Value(1.0, label='w2')\n",
        "\n",
        "# bias of the neuron\n",
        "b = Value(6.8813735870195432, label='b')\n",
        "\n",
        "x1w1 = x1*w1; x1w1.label = 'x1*w1'\n",
        "x2w2 = x2*w2; x2w2.label = 'x2*w2'\n",
        "x1w1x2w2 = x1w1 + x2w2; x1w1x2w2.label = 'x1*w1 + x2*w2'\n",
        "n = x1w1x2w2 + b; n.label = 'n'\n",
        "\n",
        "# first run with out tanh\n",
        "o = n.tanh(); o.label = 'o'\n",
        "\n",
        "# draw_dot(n)\n",
        "# draw_dot(o)\n",
        "\n",
        "# play with values to show use of squashing function\n",
        "# then replace b with 6.8813735870195432"
      ],
      "metadata": {
        "id": "Z89tTBntyK-4"
      },
      "execution_count": 28,
      "outputs": []
    },
    {
      "cell_type": "code",
      "source": [
        "draw_dot(o)"
      ],
      "metadata": {
        "colab": {
          "base_uri": "https://localhost:8080/",
          "height": 478
        },
        "id": "f6uNWdgD00_r",
        "outputId": "161a5b66-9853-4691-c129-73d36bf5710d"
      },
      "execution_count": 29,
      "outputs": [
        {
          "output_type": "execute_result",
          "data": {
            "image/svg+xml": "<?xml version=\"1.0\" encoding=\"UTF-8\" standalone=\"no\"?>\n<!DOCTYPE svg PUBLIC \"-//W3C//DTD SVG 1.1//EN\"\n \"http://www.w3.org/Graphics/SVG/1.1/DTD/svg11.dtd\">\n<!-- Generated by graphviz version 2.43.0 (0)\n -->\n<!-- Title: %3 Pages: 1 -->\n<svg width=\"1018pt\" height=\"342pt\"\n viewBox=\"0.00 0.00 1018.00 342.00\" xmlns=\"http://www.w3.org/2000/svg\" xmlns:xlink=\"http://www.w3.org/1999/xlink\">\n<g id=\"graph0\" class=\"graph\" transform=\"scale(1 1) rotate(0) translate(4 338)\">\n<title>%3</title>\n<polygon fill=\"white\" stroke=\"transparent\" points=\"-4,4 -4,-338 1014,-338 1014,4 -4,4\"/>\n<!-- 136748310188032 -->\n<g id=\"node1\" class=\"node\">\n<title>136748310188032</title>\n<polygon fill=\"none\" stroke=\"black\" points=\"180,-88.5 180,-157.5 234,-157.5 234,-88.5 180,-88.5\"/>\n<text text-anchor=\"middle\" x=\"207\" y=\"-142.3\" font-family=\"Times,serif\" font-size=\"14.00\">x2*w2</text>\n<polyline fill=\"none\" stroke=\"black\" points=\"180,-134.5 234,-134.5 \"/>\n<text text-anchor=\"middle\" x=\"207\" y=\"-119.3\" font-family=\"Times,serif\" font-size=\"14.00\">0.0</text>\n<polyline fill=\"none\" stroke=\"black\" points=\"180,-111.5 234,-111.5 \"/>\n<text text-anchor=\"middle\" x=\"207\" y=\"-96.3\" font-family=\"Times,serif\" font-size=\"14.00\">0.0</text>\n</g>\n<!-- 136748310188128+ -->\n<g id=\"node5\" class=\"node\">\n<title>136748310188128+</title>\n<ellipse fill=\"none\" stroke=\"black\" cx=\"297\" cy=\"-167\" rx=\"27\" ry=\"18\"/>\n<text text-anchor=\"middle\" x=\"297\" y=\"-163.3\" font-family=\"Times,serif\" font-size=\"14.00\">+</text>\n</g>\n<!-- 136748310188032&#45;&gt;136748310188128+ -->\n<g id=\"edge7\" class=\"edge\">\n<title>136748310188032&#45;&gt;136748310188128+</title>\n<path fill=\"none\" stroke=\"black\" d=\"M234.4,-136.2C244.33,-141.16 255.68,-146.84 265.91,-151.96\"/>\n<polygon fill=\"black\" stroke=\"black\" points=\"264.41,-155.12 274.92,-156.46 267.54,-148.86 264.41,-155.12\"/>\n</g>\n<!-- 136748310188032* -->\n<g id=\"node2\" class=\"node\">\n<title>136748310188032*</title>\n<ellipse fill=\"none\" stroke=\"black\" cx=\"117\" cy=\"-123\" rx=\"27\" ry=\"18\"/>\n<text text-anchor=\"middle\" x=\"117\" y=\"-119.3\" font-family=\"Times,serif\" font-size=\"14.00\">*</text>\n</g>\n<!-- 136748310188032*&#45;&gt;136748310188032 -->\n<g id=\"edge1\" class=\"edge\">\n<title>136748310188032*&#45;&gt;136748310188032</title>\n<path fill=\"none\" stroke=\"black\" d=\"M144.4,-123C152.39,-123 161.31,-123 169.82,-123\"/>\n<polygon fill=\"black\" stroke=\"black\" points=\"169.92,-126.5 179.92,-123 169.92,-119.5 169.92,-126.5\"/>\n</g>\n<!-- 136748315717120 -->\n<g id=\"node3\" class=\"node\">\n<title>136748315717120</title>\n<polygon fill=\"none\" stroke=\"black\" points=\"0,-88.5 0,-157.5 54,-157.5 54,-88.5 0,-88.5\"/>\n<text text-anchor=\"middle\" x=\"27\" y=\"-142.3\" font-family=\"Times,serif\" font-size=\"14.00\">x2</text>\n<polyline fill=\"none\" stroke=\"black\" points=\"0,-134.5 54,-134.5 \"/>\n<text text-anchor=\"middle\" x=\"27\" y=\"-119.3\" font-family=\"Times,serif\" font-size=\"14.00\">0.0</text>\n<polyline fill=\"none\" stroke=\"black\" points=\"0,-111.5 54,-111.5 \"/>\n<text text-anchor=\"middle\" x=\"27\" y=\"-96.3\" font-family=\"Times,serif\" font-size=\"14.00\">0.0</text>\n</g>\n<!-- 136748315717120&#45;&gt;136748310188032* -->\n<g id=\"edge9\" class=\"edge\">\n<title>136748315717120&#45;&gt;136748310188032*</title>\n<path fill=\"none\" stroke=\"black\" d=\"M54.4,-123C62.39,-123 71.31,-123 79.82,-123\"/>\n<polygon fill=\"black\" stroke=\"black\" points=\"79.92,-126.5 89.92,-123 79.92,-119.5 79.92,-126.5\"/>\n</g>\n<!-- 136748310188128 -->\n<g id=\"node4\" class=\"node\">\n<title>136748310188128</title>\n<polygon fill=\"none\" stroke=\"black\" points=\"371,-132.5 371,-201.5 477,-201.5 477,-132.5 371,-132.5\"/>\n<text text-anchor=\"middle\" x=\"424\" y=\"-186.3\" font-family=\"Times,serif\" font-size=\"14.00\">x1*w1 + x2*w2</text>\n<polyline fill=\"none\" stroke=\"black\" points=\"371,-178.5 477,-178.5 \"/>\n<text text-anchor=\"middle\" x=\"424\" y=\"-163.3\" font-family=\"Times,serif\" font-size=\"14.00\">&#45;6.0</text>\n<polyline fill=\"none\" stroke=\"black\" points=\"371,-155.5 477,-155.5 \"/>\n<text text-anchor=\"middle\" x=\"424\" y=\"-140.3\" font-family=\"Times,serif\" font-size=\"14.00\">0.0</text>\n</g>\n<!-- 136748310188224+ -->\n<g id=\"node9\" class=\"node\">\n<title>136748310188224+</title>\n<ellipse fill=\"none\" stroke=\"black\" cx=\"551\" cy=\"-211\" rx=\"27\" ry=\"18\"/>\n<text text-anchor=\"middle\" x=\"551\" y=\"-207.3\" font-family=\"Times,serif\" font-size=\"14.00\">+</text>\n</g>\n<!-- 136748310188128&#45;&gt;136748310188224+ -->\n<g id=\"edge8\" class=\"edge\">\n<title>136748310188128&#45;&gt;136748310188224+</title>\n<path fill=\"none\" stroke=\"black\" d=\"M477.29,-185.41C490.77,-190.15 504.91,-195.13 517.09,-199.42\"/>\n<polygon fill=\"black\" stroke=\"black\" points=\"516.22,-202.82 526.81,-202.84 518.54,-196.22 516.22,-202.82\"/>\n</g>\n<!-- 136748310188128+&#45;&gt;136748310188128 -->\n<g id=\"edge2\" class=\"edge\">\n<title>136748310188128+&#45;&gt;136748310188128</title>\n<path fill=\"none\" stroke=\"black\" d=\"M324.2,-167C334.88,-167 347.72,-167 360.56,-167\"/>\n<polygon fill=\"black\" stroke=\"black\" points=\"360.81,-170.5 370.81,-167 360.81,-163.5 360.81,-170.5\"/>\n</g>\n<!-- 136748315719280 -->\n<g id=\"node6\" class=\"node\">\n<title>136748315719280</title>\n<polygon fill=\"none\" stroke=\"black\" points=\"0,-264.5 0,-333.5 54,-333.5 54,-264.5 0,-264.5\"/>\n<text text-anchor=\"middle\" x=\"27\" y=\"-318.3\" font-family=\"Times,serif\" font-size=\"14.00\">w1</text>\n<polyline fill=\"none\" stroke=\"black\" points=\"0,-310.5 54,-310.5 \"/>\n<text text-anchor=\"middle\" x=\"27\" y=\"-295.3\" font-family=\"Times,serif\" font-size=\"14.00\">&#45;3.0</text>\n<polyline fill=\"none\" stroke=\"black\" points=\"0,-287.5 54,-287.5 \"/>\n<text text-anchor=\"middle\" x=\"27\" y=\"-272.3\" font-family=\"Times,serif\" font-size=\"14.00\">0.0</text>\n</g>\n<!-- 136748316177648* -->\n<g id=\"node11\" class=\"node\">\n<title>136748316177648*</title>\n<ellipse fill=\"none\" stroke=\"black\" cx=\"117\" cy=\"-211\" rx=\"27\" ry=\"18\"/>\n<text text-anchor=\"middle\" x=\"117\" y=\"-207.3\" font-family=\"Times,serif\" font-size=\"14.00\">*</text>\n</g>\n<!-- 136748315719280&#45;&gt;136748316177648* -->\n<g id=\"edge11\" class=\"edge\">\n<title>136748315719280&#45;&gt;136748316177648*</title>\n<path fill=\"none\" stroke=\"black\" d=\"M54.4,-272.6C66.94,-260.06 81.77,-245.23 93.73,-233.27\"/>\n<polygon fill=\"black\" stroke=\"black\" points=\"96.53,-235.42 101.13,-225.87 91.58,-230.47 96.53,-235.42\"/>\n</g>\n<!-- 136748316167856 -->\n<g id=\"node7\" class=\"node\">\n<title>136748316167856</title>\n<polygon fill=\"none\" stroke=\"black\" points=\"0,-176.5 0,-245.5 54,-245.5 54,-176.5 0,-176.5\"/>\n<text text-anchor=\"middle\" x=\"27\" y=\"-230.3\" font-family=\"Times,serif\" font-size=\"14.00\">x1</text>\n<polyline fill=\"none\" stroke=\"black\" points=\"0,-222.5 54,-222.5 \"/>\n<text text-anchor=\"middle\" x=\"27\" y=\"-207.3\" font-family=\"Times,serif\" font-size=\"14.00\">2.0</text>\n<polyline fill=\"none\" stroke=\"black\" points=\"0,-199.5 54,-199.5 \"/>\n<text text-anchor=\"middle\" x=\"27\" y=\"-184.3\" font-family=\"Times,serif\" font-size=\"14.00\">0.0</text>\n</g>\n<!-- 136748316167856&#45;&gt;136748316177648* -->\n<g id=\"edge13\" class=\"edge\">\n<title>136748316167856&#45;&gt;136748316177648*</title>\n<path fill=\"none\" stroke=\"black\" d=\"M54.4,-211C62.39,-211 71.31,-211 79.82,-211\"/>\n<polygon fill=\"black\" stroke=\"black\" points=\"79.92,-214.5 89.92,-211 79.92,-207.5 79.92,-214.5\"/>\n</g>\n<!-- 136748310188224 -->\n<g id=\"node8\" class=\"node\">\n<title>136748310188224</title>\n<polygon fill=\"none\" stroke=\"black\" points=\"614,-176.5 614,-245.5 749,-245.5 749,-176.5 614,-176.5\"/>\n<text text-anchor=\"middle\" x=\"681.5\" y=\"-230.3\" font-family=\"Times,serif\" font-size=\"14.00\">n</text>\n<polyline fill=\"none\" stroke=\"black\" points=\"614,-222.5 749,-222.5 \"/>\n<text text-anchor=\"middle\" x=\"681.5\" y=\"-207.3\" font-family=\"Times,serif\" font-size=\"14.00\">0.8813735870195432</text>\n<polyline fill=\"none\" stroke=\"black\" points=\"614,-199.5 749,-199.5 \"/>\n<text text-anchor=\"middle\" x=\"681.5\" y=\"-184.3\" font-family=\"Times,serif\" font-size=\"14.00\">0.0</text>\n</g>\n<!-- 136748310188320tanh -->\n<g id=\"node15\" class=\"node\">\n<title>136748310188320tanh</title>\n<ellipse fill=\"none\" stroke=\"black\" cx=\"812\" cy=\"-211\" rx=\"27\" ry=\"18\"/>\n<text text-anchor=\"middle\" x=\"812\" y=\"-207.3\" font-family=\"Times,serif\" font-size=\"14.00\">tanh</text>\n</g>\n<!-- 136748310188224&#45;&gt;136748310188320tanh -->\n<g id=\"edge10\" class=\"edge\">\n<title>136748310188224&#45;&gt;136748310188320tanh</title>\n<path fill=\"none\" stroke=\"black\" d=\"M749.01,-211C757.87,-211 766.66,-211 774.73,-211\"/>\n<polygon fill=\"black\" stroke=\"black\" points=\"774.86,-214.5 784.86,-211 774.86,-207.5 774.86,-214.5\"/>\n</g>\n<!-- 136748310188224+&#45;&gt;136748310188224 -->\n<g id=\"edge3\" class=\"edge\">\n<title>136748310188224+&#45;&gt;136748310188224</title>\n<path fill=\"none\" stroke=\"black\" d=\"M578,-211C585.71,-211 594.56,-211 603.77,-211\"/>\n<polygon fill=\"black\" stroke=\"black\" points=\"603.87,-214.5 613.87,-211 603.87,-207.5 603.87,-214.5\"/>\n</g>\n<!-- 136748316177648 -->\n<g id=\"node10\" class=\"node\">\n<title>136748316177648</title>\n<polygon fill=\"none\" stroke=\"black\" points=\"180,-176.5 180,-245.5 234,-245.5 234,-176.5 180,-176.5\"/>\n<text text-anchor=\"middle\" x=\"207\" y=\"-230.3\" font-family=\"Times,serif\" font-size=\"14.00\">x1*w1</text>\n<polyline fill=\"none\" stroke=\"black\" points=\"180,-222.5 234,-222.5 \"/>\n<text text-anchor=\"middle\" x=\"207\" y=\"-207.3\" font-family=\"Times,serif\" font-size=\"14.00\">&#45;6.0</text>\n<polyline fill=\"none\" stroke=\"black\" points=\"180,-199.5 234,-199.5 \"/>\n<text text-anchor=\"middle\" x=\"207\" y=\"-184.3\" font-family=\"Times,serif\" font-size=\"14.00\">0.0</text>\n</g>\n<!-- 136748316177648&#45;&gt;136748310188128+ -->\n<g id=\"edge12\" class=\"edge\">\n<title>136748316177648&#45;&gt;136748310188128+</title>\n<path fill=\"none\" stroke=\"black\" d=\"M234.4,-197.8C244.33,-192.84 255.68,-187.16 265.91,-182.04\"/>\n<polygon fill=\"black\" stroke=\"black\" points=\"267.54,-185.14 274.92,-177.54 264.41,-178.88 267.54,-185.14\"/>\n</g>\n<!-- 136748316177648*&#45;&gt;136748316177648 -->\n<g id=\"edge4\" class=\"edge\">\n<title>136748316177648*&#45;&gt;136748316177648</title>\n<path fill=\"none\" stroke=\"black\" d=\"M144.4,-211C152.39,-211 161.31,-211 169.82,-211\"/>\n<polygon fill=\"black\" stroke=\"black\" points=\"169.92,-214.5 179.92,-211 169.92,-207.5 169.92,-214.5\"/>\n</g>\n<!-- 136748316178176 -->\n<g id=\"node12\" class=\"node\">\n<title>136748316178176</title>\n<polygon fill=\"none\" stroke=\"black\" points=\"360,-220.5 360,-289.5 488,-289.5 488,-220.5 360,-220.5\"/>\n<text text-anchor=\"middle\" x=\"424\" y=\"-274.3\" font-family=\"Times,serif\" font-size=\"14.00\">b</text>\n<polyline fill=\"none\" stroke=\"black\" points=\"360,-266.5 488,-266.5 \"/>\n<text text-anchor=\"middle\" x=\"424\" y=\"-251.3\" font-family=\"Times,serif\" font-size=\"14.00\">6.881373587019543</text>\n<polyline fill=\"none\" stroke=\"black\" points=\"360,-243.5 488,-243.5 \"/>\n<text text-anchor=\"middle\" x=\"424\" y=\"-228.3\" font-family=\"Times,serif\" font-size=\"14.00\">0.0</text>\n</g>\n<!-- 136748316178176&#45;&gt;136748310188224+ -->\n<g id=\"edge6\" class=\"edge\">\n<title>136748316178176&#45;&gt;136748310188224+</title>\n<path fill=\"none\" stroke=\"black\" d=\"M488.23,-232.74C498.26,-229.21 508.27,-225.69 517.22,-222.54\"/>\n<polygon fill=\"black\" stroke=\"black\" points=\"518.54,-225.78 526.81,-219.16 516.22,-219.18 518.54,-225.78\"/>\n</g>\n<!-- 136748316164880 -->\n<g id=\"node13\" class=\"node\">\n<title>136748316164880</title>\n<polygon fill=\"none\" stroke=\"black\" points=\"0,-0.5 0,-69.5 54,-69.5 54,-0.5 0,-0.5\"/>\n<text text-anchor=\"middle\" x=\"27\" y=\"-54.3\" font-family=\"Times,serif\" font-size=\"14.00\">w2</text>\n<polyline fill=\"none\" stroke=\"black\" points=\"0,-46.5 54,-46.5 \"/>\n<text text-anchor=\"middle\" x=\"27\" y=\"-31.3\" font-family=\"Times,serif\" font-size=\"14.00\">1.0</text>\n<polyline fill=\"none\" stroke=\"black\" points=\"0,-23.5 54,-23.5 \"/>\n<text text-anchor=\"middle\" x=\"27\" y=\"-8.3\" font-family=\"Times,serif\" font-size=\"14.00\">0.0</text>\n</g>\n<!-- 136748316164880&#45;&gt;136748310188032* -->\n<g id=\"edge14\" class=\"edge\">\n<title>136748316164880&#45;&gt;136748310188032*</title>\n<path fill=\"none\" stroke=\"black\" d=\"M54.4,-61.4C66.94,-73.94 81.77,-88.77 93.73,-100.73\"/>\n<polygon fill=\"black\" stroke=\"black\" points=\"91.58,-103.53 101.13,-108.13 96.53,-98.58 91.58,-103.53\"/>\n</g>\n<!-- 136748310188320 -->\n<g id=\"node14\" class=\"node\">\n<title>136748310188320</title>\n<polygon fill=\"none\" stroke=\"black\" points=\"875,-176.5 875,-245.5 1010,-245.5 1010,-176.5 875,-176.5\"/>\n<text text-anchor=\"middle\" x=\"942.5\" y=\"-230.3\" font-family=\"Times,serif\" font-size=\"14.00\">o</text>\n<polyline fill=\"none\" stroke=\"black\" points=\"875,-222.5 1010,-222.5 \"/>\n<text text-anchor=\"middle\" x=\"942.5\" y=\"-207.3\" font-family=\"Times,serif\" font-size=\"14.00\">0.7071067811865476</text>\n<polyline fill=\"none\" stroke=\"black\" points=\"875,-199.5 1010,-199.5 \"/>\n<text text-anchor=\"middle\" x=\"942.5\" y=\"-184.3\" font-family=\"Times,serif\" font-size=\"14.00\">0.0</text>\n</g>\n<!-- 136748310188320tanh&#45;&gt;136748310188320 -->\n<g id=\"edge5\" class=\"edge\">\n<title>136748310188320tanh&#45;&gt;136748310188320</title>\n<path fill=\"none\" stroke=\"black\" d=\"M839,-211C846.71,-211 855.56,-211 864.77,-211\"/>\n<polygon fill=\"black\" stroke=\"black\" points=\"864.87,-214.5 874.87,-211 864.87,-207.5 864.87,-214.5\"/>\n</g>\n</g>\n</svg>\n",
            "text/plain": [
              "<graphviz.graphs.Digraph at 0x7c5f32cf18a0>"
            ]
          },
          "metadata": {},
          "execution_count": 29
        }
      ]
    },
    {
      "cell_type": "code",
      "source": [
        "# we really care about w(s) since we care about optimising these.\n",
        "\n",
        "\n",
        "\n",
        "o.grad = 1 # always true\n",
        "\n",
        "# do / dn = 1 - o**2 ; look at wikipedia\n",
        "n.grad = 1 - o.data**2\n",
        "\n",
        "# plus is just a distributor of gradient and we can just keep it\n",
        "x1w1x2w2.grad = n.grad * 1\n",
        "b.grad = n.grad * 1\n",
        "\n",
        "# similarly\n",
        "x1w1.grad = x1w1x2w2.grad * 1\n",
        "x2w2.grad = x1w1x2w2.grad * 1\n",
        "\n",
        "x2.grad = w2.data * x2w2.grad\n",
        "w2.grad = x2w2.grad * x2.data\n",
        "\n",
        "x1.grad = w1.data * x1w1.grad\n",
        "w1.grad = x1w1.grad * x1.data"
      ],
      "metadata": {
        "id": "cS_15x1UzNI2"
      },
      "execution_count": 30,
      "outputs": []
    },
    {
      "cell_type": "code",
      "source": [
        "class Value:\n",
        "\n",
        "  def __init__(self, data, _children = (), _op = '', label = ''):\n",
        "    self.data = data\n",
        "    self.grad = 0.0\n",
        "    self._backward = lambda: None\n",
        "    self._prev = set(_children)\n",
        "    self._op = _op\n",
        "    self.label = label\n",
        "\n",
        "  def __repr__(self):\n",
        "    return \"Value(data={})\".format(self.data)\n",
        "\n",
        "  # after showing __repr__ let us show add\n",
        "  def __add__(self, other):\n",
        "    out = Value(self.data + other.data, (self, other), '+')\n",
        "    def _backward():\n",
        "      self.grad += 1.0 * out.grad\n",
        "      other.grad += 1.0 * out.grad\n",
        "    out._backward = _backward\n",
        "    return out\n",
        "\n",
        "  def __mul__(self, other):\n",
        "    out = Value(self.data * other.data, (self, other), '*')\n",
        "    def _backward():\n",
        "      #add the '+' after figuring why it is required\n",
        "      self.grad += other.data * out.grad\n",
        "      other.grad += self.data * out.grad\n",
        "    self._backward = _backward\n",
        "    return out\n",
        "\n",
        "  def tanh(self):\n",
        "    x = self.data\n",
        "    t = (math.exp(2*x) - 1) / (math.exp(2*x) + 1) # look at wikipedia to verify\n",
        "    out = Value(t, (self, ), 'tanh')\n",
        "    def _backward():\n",
        "      self.grad = (1 - t**2) * out.grad\n",
        "    out._backward = _backward\n",
        "    return out\n",
        "\n",
        "  # implement this after calling _backward() on all variables\n",
        "  def backward(self):\n",
        "    topo = []\n",
        "    visited = set()\n",
        "    def build_topo(v):\n",
        "      if v not in visited:\n",
        "        visited.add(v)\n",
        "        for child in v._prev:\n",
        "          build_topo(child)\n",
        "        topo.append(v)\n",
        "    build_topo(self)\n",
        "    self.grad = 1.0\n",
        "    for node in reversed(topo):\n",
        "      node._backward()"
      ],
      "metadata": {
        "id": "IT_59RIR0xHu"
      },
      "execution_count": 49,
      "outputs": []
    },
    {
      "cell_type": "code",
      "source": [
        "# let us run back propagation on an NN manually to understand\n",
        "\n",
        "# inputs x1, x2\n",
        "x1 = Value(2.0, label='x1')\n",
        "x2 = Value(0.0, label='x2')\n",
        "\n",
        "# weights w1, w2\n",
        "w1 = Value(-3.0, label='w1')\n",
        "w2 = Value(1.0, label='w2')\n",
        "\n",
        "# bias of the neuron\n",
        "b = Value(6.8813735870195432, label='b')\n",
        "\n",
        "x1w1 = x1*w1; x1w1.label = 'x1*w1'\n",
        "x2w2 = x2*w2; x2w2.label = 'x2*w2'\n",
        "x1w1x2w2 = x1w1 + x2w2; x1w1x2w2.label = 'x1*w1 + x2*w2'\n",
        "n = x1w1x2w2 + b; n.label = 'n'\n",
        "\n",
        "# first run with out tanh\n",
        "o = n.tanh(); o.label = 'o'\n",
        "\n",
        "# draw_dot(n)\n",
        "# draw_dot(o)\n",
        "\n",
        "# play with values to show use of squashing function\n",
        "# then replace b with 6.8813735870195432"
      ],
      "metadata": {
        "id": "I3_xidoUhvQu"
      },
      "execution_count": 50,
      "outputs": []
    },
    {
      "cell_type": "code",
      "source": [
        "draw_dot(o)"
      ],
      "metadata": {
        "colab": {
          "base_uri": "https://localhost:8080/",
          "height": 478
        },
        "id": "HatpMHa3h91J",
        "outputId": "e2f7e1eb-66ac-4e89-aebb-6770fa4c46fb"
      },
      "execution_count": 53,
      "outputs": [
        {
          "output_type": "execute_result",
          "data": {
            "image/svg+xml": "<?xml version=\"1.0\" encoding=\"UTF-8\" standalone=\"no\"?>\n<!DOCTYPE svg PUBLIC \"-//W3C//DTD SVG 1.1//EN\"\n \"http://www.w3.org/Graphics/SVG/1.1/DTD/svg11.dtd\">\n<!-- Generated by graphviz version 2.43.0 (0)\n -->\n<!-- Title: %3 Pages: 1 -->\n<svg width=\"1192pt\" height=\"342pt\"\n viewBox=\"0.00 0.00 1192.00 342.00\" xmlns=\"http://www.w3.org/2000/svg\" xmlns:xlink=\"http://www.w3.org/1999/xlink\">\n<g id=\"graph0\" class=\"graph\" transform=\"scale(1 1) rotate(0) translate(4 338)\">\n<title>%3</title>\n<polygon fill=\"white\" stroke=\"transparent\" points=\"-4,4 -4,-338 1188,-338 1188,4 -4,4\"/>\n<!-- 136748309722160 -->\n<g id=\"node1\" class=\"node\">\n<title>136748309722160</title>\n<polygon fill=\"none\" stroke=\"black\" points=\"788,-88.5 788,-157.5 923,-157.5 923,-88.5 788,-88.5\"/>\n<text text-anchor=\"middle\" x=\"855.5\" y=\"-142.3\" font-family=\"Times,serif\" font-size=\"14.00\">n</text>\n<polyline fill=\"none\" stroke=\"black\" points=\"788,-134.5 923,-134.5 \"/>\n<text text-anchor=\"middle\" x=\"855.5\" y=\"-119.3\" font-family=\"Times,serif\" font-size=\"14.00\">0.8813735870195432</text>\n<polyline fill=\"none\" stroke=\"black\" points=\"788,-111.5 923,-111.5 \"/>\n<text text-anchor=\"middle\" x=\"855.5\" y=\"-96.3\" font-family=\"Times,serif\" font-size=\"14.00\">0.4999999999999999</text>\n</g>\n<!-- 136748309719904tanh -->\n<g id=\"node13\" class=\"node\">\n<title>136748309719904tanh</title>\n<ellipse fill=\"none\" stroke=\"black\" cx=\"986\" cy=\"-123\" rx=\"27\" ry=\"18\"/>\n<text text-anchor=\"middle\" x=\"986\" y=\"-119.3\" font-family=\"Times,serif\" font-size=\"14.00\">tanh</text>\n</g>\n<!-- 136748309722160&#45;&gt;136748309719904tanh -->\n<g id=\"edge14\" class=\"edge\">\n<title>136748309722160&#45;&gt;136748309719904tanh</title>\n<path fill=\"none\" stroke=\"black\" d=\"M923.01,-123C931.87,-123 940.66,-123 948.73,-123\"/>\n<polygon fill=\"black\" stroke=\"black\" points=\"948.86,-126.5 958.86,-123 948.86,-119.5 948.86,-126.5\"/>\n</g>\n<!-- 136748309722160+ -->\n<g id=\"node2\" class=\"node\">\n<title>136748309722160+</title>\n<ellipse fill=\"none\" stroke=\"black\" cx=\"725\" cy=\"-123\" rx=\"27\" ry=\"18\"/>\n<text text-anchor=\"middle\" x=\"725\" y=\"-119.3\" font-family=\"Times,serif\" font-size=\"14.00\">+</text>\n</g>\n<!-- 136748309722160+&#45;&gt;136748309722160 -->\n<g id=\"edge1\" class=\"edge\">\n<title>136748309722160+&#45;&gt;136748309722160</title>\n<path fill=\"none\" stroke=\"black\" d=\"M752,-123C759.71,-123 768.56,-123 777.77,-123\"/>\n<polygon fill=\"black\" stroke=\"black\" points=\"777.87,-126.5 787.87,-123 777.87,-119.5 777.87,-126.5\"/>\n</g>\n<!-- 136748309724224 -->\n<g id=\"node3\" class=\"node\">\n<title>136748309724224</title>\n<polygon fill=\"none\" stroke=\"black\" points=\"266,-176.5 266,-245.5 401,-245.5 401,-176.5 266,-176.5\"/>\n<text text-anchor=\"middle\" x=\"333.5\" y=\"-230.3\" font-family=\"Times,serif\" font-size=\"14.00\">x2*w2</text>\n<polyline fill=\"none\" stroke=\"black\" points=\"266,-222.5 401,-222.5 \"/>\n<text text-anchor=\"middle\" x=\"333.5\" y=\"-207.3\" font-family=\"Times,serif\" font-size=\"14.00\">0.0</text>\n<polyline fill=\"none\" stroke=\"black\" points=\"266,-199.5 401,-199.5 \"/>\n<text text-anchor=\"middle\" x=\"333.5\" y=\"-184.3\" font-family=\"Times,serif\" font-size=\"14.00\">0.4999999999999999</text>\n</g>\n<!-- 136748309723792+ -->\n<g id=\"node9\" class=\"node\">\n<title>136748309723792+</title>\n<ellipse fill=\"none\" stroke=\"black\" cx=\"464\" cy=\"-167\" rx=\"27\" ry=\"18\"/>\n<text text-anchor=\"middle\" x=\"464\" y=\"-163.3\" font-family=\"Times,serif\" font-size=\"14.00\">+</text>\n</g>\n<!-- 136748309724224&#45;&gt;136748309723792+ -->\n<g id=\"edge7\" class=\"edge\">\n<title>136748309724224&#45;&gt;136748309723792+</title>\n<path fill=\"none\" stroke=\"black\" d=\"M401.01,-188.23C411.06,-184.78 421.05,-181.37 429.97,-178.31\"/>\n<polygon fill=\"black\" stroke=\"black\" points=\"431.21,-181.59 439.54,-175.03 428.94,-174.96 431.21,-181.59\"/>\n</g>\n<!-- 136748309724224* -->\n<g id=\"node4\" class=\"node\">\n<title>136748309724224*</title>\n<ellipse fill=\"none\" stroke=\"black\" cx=\"203\" cy=\"-211\" rx=\"27\" ry=\"18\"/>\n<text text-anchor=\"middle\" x=\"203\" y=\"-207.3\" font-family=\"Times,serif\" font-size=\"14.00\">*</text>\n</g>\n<!-- 136748309724224*&#45;&gt;136748309724224 -->\n<g id=\"edge2\" class=\"edge\">\n<title>136748309724224*&#45;&gt;136748309724224</title>\n<path fill=\"none\" stroke=\"black\" d=\"M230,-211C237.71,-211 246.56,-211 255.77,-211\"/>\n<polygon fill=\"black\" stroke=\"black\" points=\"255.87,-214.5 265.87,-211 255.87,-207.5 255.87,-214.5\"/>\n</g>\n<!-- 136748309718080 -->\n<g id=\"node5\" class=\"node\">\n<title>136748309718080</title>\n<polygon fill=\"none\" stroke=\"black\" points=\"43,-264.5 43,-333.5 97,-333.5 97,-264.5 43,-264.5\"/>\n<text text-anchor=\"middle\" x=\"70\" y=\"-318.3\" font-family=\"Times,serif\" font-size=\"14.00\">w2</text>\n<polyline fill=\"none\" stroke=\"black\" points=\"43,-310.5 97,-310.5 \"/>\n<text text-anchor=\"middle\" x=\"70\" y=\"-295.3\" font-family=\"Times,serif\" font-size=\"14.00\">1.0</text>\n<polyline fill=\"none\" stroke=\"black\" points=\"43,-287.5 97,-287.5 \"/>\n<text text-anchor=\"middle\" x=\"70\" y=\"-272.3\" font-family=\"Times,serif\" font-size=\"14.00\">0.0</text>\n</g>\n<!-- 136748309718080&#45;&gt;136748309724224* -->\n<g id=\"edge13\" class=\"edge\">\n<title>136748309718080&#45;&gt;136748309724224*</title>\n<path fill=\"none\" stroke=\"black\" d=\"M97.08,-282.79C110.08,-274.61 125.97,-264.44 140,-255 151.84,-247.03 164.73,-237.95 175.68,-230.11\"/>\n<polygon fill=\"black\" stroke=\"black\" points=\"177.91,-232.82 183.99,-224.14 173.83,-227.13 177.91,-232.82\"/>\n</g>\n<!-- 136748309709872 -->\n<g id=\"node6\" class=\"node\">\n<title>136748309709872</title>\n<polygon fill=\"none\" stroke=\"black\" points=\"2.5,-88.5 2.5,-157.5 137.5,-157.5 137.5,-88.5 2.5,-88.5\"/>\n<text text-anchor=\"middle\" x=\"70\" y=\"-142.3\" font-family=\"Times,serif\" font-size=\"14.00\">w1</text>\n<polyline fill=\"none\" stroke=\"black\" points=\"2.5,-134.5 137.5,-134.5 \"/>\n<text text-anchor=\"middle\" x=\"70\" y=\"-119.3\" font-family=\"Times,serif\" font-size=\"14.00\">&#45;3.0</text>\n<polyline fill=\"none\" stroke=\"black\" points=\"2.5,-111.5 137.5,-111.5 \"/>\n<text text-anchor=\"middle\" x=\"70\" y=\"-96.3\" font-family=\"Times,serif\" font-size=\"14.00\">0.9999999999999998</text>\n</g>\n<!-- 136748309717984* -->\n<g id=\"node15\" class=\"node\">\n<title>136748309717984*</title>\n<ellipse fill=\"none\" stroke=\"black\" cx=\"203\" cy=\"-123\" rx=\"27\" ry=\"18\"/>\n<text text-anchor=\"middle\" x=\"203\" y=\"-119.3\" font-family=\"Times,serif\" font-size=\"14.00\">*</text>\n</g>\n<!-- 136748309709872&#45;&gt;136748309717984* -->\n<g id=\"edge10\" class=\"edge\">\n<title>136748309709872&#45;&gt;136748309717984*</title>\n<path fill=\"none\" stroke=\"black\" d=\"M137.65,-123C147.27,-123 156.85,-123 165.57,-123\"/>\n<polygon fill=\"black\" stroke=\"black\" points=\"165.73,-126.5 175.73,-123 165.73,-119.5 165.73,-126.5\"/>\n</g>\n<!-- 136748309724800 -->\n<g id=\"node7\" class=\"node\">\n<title>136748309724800</title>\n<polygon fill=\"none\" stroke=\"black\" points=\"2.5,-176.5 2.5,-245.5 137.5,-245.5 137.5,-176.5 2.5,-176.5\"/>\n<text text-anchor=\"middle\" x=\"70\" y=\"-230.3\" font-family=\"Times,serif\" font-size=\"14.00\">x2</text>\n<polyline fill=\"none\" stroke=\"black\" points=\"2.5,-222.5 137.5,-222.5 \"/>\n<text text-anchor=\"middle\" x=\"70\" y=\"-207.3\" font-family=\"Times,serif\" font-size=\"14.00\">0.0</text>\n<polyline fill=\"none\" stroke=\"black\" points=\"2.5,-199.5 137.5,-199.5 \"/>\n<text text-anchor=\"middle\" x=\"70\" y=\"-184.3\" font-family=\"Times,serif\" font-size=\"14.00\">0.4999999999999999</text>\n</g>\n<!-- 136748309724800&#45;&gt;136748309724224* -->\n<g id=\"edge6\" class=\"edge\">\n<title>136748309724800&#45;&gt;136748309724224*</title>\n<path fill=\"none\" stroke=\"black\" d=\"M137.65,-211C147.27,-211 156.85,-211 165.57,-211\"/>\n<polygon fill=\"black\" stroke=\"black\" points=\"165.73,-214.5 175.73,-211 165.73,-207.5 165.73,-214.5\"/>\n</g>\n<!-- 136748309723792 -->\n<g id=\"node8\" class=\"node\">\n<title>136748309723792</title>\n<polygon fill=\"none\" stroke=\"black\" points=\"527,-132.5 527,-201.5 662,-201.5 662,-132.5 527,-132.5\"/>\n<text text-anchor=\"middle\" x=\"594.5\" y=\"-186.3\" font-family=\"Times,serif\" font-size=\"14.00\">x1*w1 + x2*w2</text>\n<polyline fill=\"none\" stroke=\"black\" points=\"527,-178.5 662,-178.5 \"/>\n<text text-anchor=\"middle\" x=\"594.5\" y=\"-163.3\" font-family=\"Times,serif\" font-size=\"14.00\">&#45;6.0</text>\n<polyline fill=\"none\" stroke=\"black\" points=\"527,-155.5 662,-155.5 \"/>\n<text text-anchor=\"middle\" x=\"594.5\" y=\"-140.3\" font-family=\"Times,serif\" font-size=\"14.00\">0.4999999999999999</text>\n</g>\n<!-- 136748309723792&#45;&gt;136748309722160+ -->\n<g id=\"edge9\" class=\"edge\">\n<title>136748309723792&#45;&gt;136748309722160+</title>\n<path fill=\"none\" stroke=\"black\" d=\"M662.01,-144.23C672.06,-140.78 682.05,-137.37 690.97,-134.31\"/>\n<polygon fill=\"black\" stroke=\"black\" points=\"692.21,-137.59 700.54,-131.03 689.94,-130.96 692.21,-137.59\"/>\n</g>\n<!-- 136748309723792+&#45;&gt;136748309723792 -->\n<g id=\"edge3\" class=\"edge\">\n<title>136748309723792+&#45;&gt;136748309723792</title>\n<path fill=\"none\" stroke=\"black\" d=\"M491,-167C498.71,-167 507.56,-167 516.77,-167\"/>\n<polygon fill=\"black\" stroke=\"black\" points=\"516.87,-170.5 526.87,-167 516.87,-163.5 516.87,-170.5\"/>\n</g>\n<!-- 136748309714096 -->\n<g id=\"node10\" class=\"node\">\n<title>136748309714096</title>\n<polygon fill=\"none\" stroke=\"black\" points=\"527,-44.5 527,-113.5 662,-113.5 662,-44.5 527,-44.5\"/>\n<text text-anchor=\"middle\" x=\"594.5\" y=\"-98.3\" font-family=\"Times,serif\" font-size=\"14.00\">b</text>\n<polyline fill=\"none\" stroke=\"black\" points=\"527,-90.5 662,-90.5 \"/>\n<text text-anchor=\"middle\" x=\"594.5\" y=\"-75.3\" font-family=\"Times,serif\" font-size=\"14.00\">6.881373587019543</text>\n<polyline fill=\"none\" stroke=\"black\" points=\"527,-67.5 662,-67.5 \"/>\n<text text-anchor=\"middle\" x=\"594.5\" y=\"-52.3\" font-family=\"Times,serif\" font-size=\"14.00\">0.4999999999999999</text>\n</g>\n<!-- 136748309714096&#45;&gt;136748309722160+ -->\n<g id=\"edge8\" class=\"edge\">\n<title>136748309714096&#45;&gt;136748309722160+</title>\n<path fill=\"none\" stroke=\"black\" d=\"M662.01,-101.77C672.06,-105.22 682.05,-108.63 690.97,-111.69\"/>\n<polygon fill=\"black\" stroke=\"black\" points=\"689.94,-115.04 700.54,-114.97 692.21,-108.41 689.94,-115.04\"/>\n</g>\n<!-- 136748309709632 -->\n<g id=\"node11\" class=\"node\">\n<title>136748309709632</title>\n<polygon fill=\"none\" stroke=\"black\" points=\"0,-0.5 0,-69.5 140,-69.5 140,-0.5 0,-0.5\"/>\n<text text-anchor=\"middle\" x=\"70\" y=\"-54.3\" font-family=\"Times,serif\" font-size=\"14.00\">x1</text>\n<polyline fill=\"none\" stroke=\"black\" points=\"0,-46.5 140,-46.5 \"/>\n<text text-anchor=\"middle\" x=\"70\" y=\"-31.3\" font-family=\"Times,serif\" font-size=\"14.00\">2.0</text>\n<polyline fill=\"none\" stroke=\"black\" points=\"0,-23.5 140,-23.5 \"/>\n<text text-anchor=\"middle\" x=\"70\" y=\"-8.3\" font-family=\"Times,serif\" font-size=\"14.00\">&#45;1.4999999999999996</text>\n</g>\n<!-- 136748309709632&#45;&gt;136748309717984* -->\n<g id=\"edge11\" class=\"edge\">\n<title>136748309709632&#45;&gt;136748309717984*</title>\n<path fill=\"none\" stroke=\"black\" d=\"M125.78,-69.58C130.61,-72.73 135.4,-75.91 140,-79 151.84,-86.97 164.73,-96.05 175.68,-103.89\"/>\n<polygon fill=\"black\" stroke=\"black\" points=\"173.83,-106.87 183.99,-109.86 177.91,-101.18 173.83,-106.87\"/>\n</g>\n<!-- 136748309719904 -->\n<g id=\"node12\" class=\"node\">\n<title>136748309719904</title>\n<polygon fill=\"none\" stroke=\"black\" points=\"1049,-88.5 1049,-157.5 1184,-157.5 1184,-88.5 1049,-88.5\"/>\n<text text-anchor=\"middle\" x=\"1116.5\" y=\"-142.3\" font-family=\"Times,serif\" font-size=\"14.00\">o</text>\n<polyline fill=\"none\" stroke=\"black\" points=\"1049,-134.5 1184,-134.5 \"/>\n<text text-anchor=\"middle\" x=\"1116.5\" y=\"-119.3\" font-family=\"Times,serif\" font-size=\"14.00\">0.7071067811865476</text>\n<polyline fill=\"none\" stroke=\"black\" points=\"1049,-111.5 1184,-111.5 \"/>\n<text text-anchor=\"middle\" x=\"1116.5\" y=\"-96.3\" font-family=\"Times,serif\" font-size=\"14.00\">1.0</text>\n</g>\n<!-- 136748309719904tanh&#45;&gt;136748309719904 -->\n<g id=\"edge4\" class=\"edge\">\n<title>136748309719904tanh&#45;&gt;136748309719904</title>\n<path fill=\"none\" stroke=\"black\" d=\"M1013,-123C1020.71,-123 1029.56,-123 1038.77,-123\"/>\n<polygon fill=\"black\" stroke=\"black\" points=\"1038.87,-126.5 1048.87,-123 1038.87,-119.5 1038.87,-126.5\"/>\n</g>\n<!-- 136748309717984 -->\n<g id=\"node14\" class=\"node\">\n<title>136748309717984</title>\n<polygon fill=\"none\" stroke=\"black\" points=\"266,-88.5 266,-157.5 401,-157.5 401,-88.5 266,-88.5\"/>\n<text text-anchor=\"middle\" x=\"333.5\" y=\"-142.3\" font-family=\"Times,serif\" font-size=\"14.00\">x1*w1</text>\n<polyline fill=\"none\" stroke=\"black\" points=\"266,-134.5 401,-134.5 \"/>\n<text text-anchor=\"middle\" x=\"333.5\" y=\"-119.3\" font-family=\"Times,serif\" font-size=\"14.00\">&#45;6.0</text>\n<polyline fill=\"none\" stroke=\"black\" points=\"266,-111.5 401,-111.5 \"/>\n<text text-anchor=\"middle\" x=\"333.5\" y=\"-96.3\" font-family=\"Times,serif\" font-size=\"14.00\">0.4999999999999999</text>\n</g>\n<!-- 136748309717984&#45;&gt;136748309723792+ -->\n<g id=\"edge12\" class=\"edge\">\n<title>136748309717984&#45;&gt;136748309723792+</title>\n<path fill=\"none\" stroke=\"black\" d=\"M401.01,-145.77C411.06,-149.22 421.05,-152.63 429.97,-155.69\"/>\n<polygon fill=\"black\" stroke=\"black\" points=\"428.94,-159.04 439.54,-158.97 431.21,-152.41 428.94,-159.04\"/>\n</g>\n<!-- 136748309717984*&#45;&gt;136748309717984 -->\n<g id=\"edge5\" class=\"edge\">\n<title>136748309717984*&#45;&gt;136748309717984</title>\n<path fill=\"none\" stroke=\"black\" d=\"M230,-123C237.71,-123 246.56,-123 255.77,-123\"/>\n<polygon fill=\"black\" stroke=\"black\" points=\"255.87,-126.5 265.87,-123 255.87,-119.5 255.87,-126.5\"/>\n</g>\n</g>\n</svg>\n",
            "text/plain": [
              "<graphviz.graphs.Digraph at 0x7c5f326c9120>"
            ]
          },
          "metadata": {},
          "execution_count": 53
        }
      ]
    },
    {
      "cell_type": "code",
      "source": [
        " # for base case we initialise it with 1.\n",
        "# because self.grad = 0.0\n",
        "o.grad = 1\n",
        "o._backward()\n",
        "n._backward()\n",
        "b._backward()\n",
        "x1w1x2w2._backward()\n",
        "x1w1._backward()\n",
        "x2w2._backward()\n",
        "x2._backward()\n",
        "w2._backward()\n",
        "x1._backward()\n",
        "w1._backward()"
      ],
      "metadata": {
        "id": "e2cSjYb2iEck"
      },
      "execution_count": 34,
      "outputs": []
    },
    {
      "cell_type": "code",
      "source": [
        "o.backward()"
      ],
      "metadata": {
        "id": "Sq9_he7IiM_Q"
      },
      "execution_count": 52,
      "outputs": []
    },
    {
      "cell_type": "code",
      "source": [
        "# there is a bug in current implementation\n",
        "# in the below example: the gradient for a should be two not one.\n",
        "a = Value(2, label = 'a')\n",
        "b = a + a; b.label = 'b'\n",
        "b.backward()\n",
        "draw_dot(b)"
      ],
      "metadata": {
        "colab": {
          "base_uri": "https://localhost:8080/",
          "height": 126
        },
        "id": "5GcwcsXXkA3Y",
        "outputId": "cfa6edd0-ab73-4f56-fdfb-7a849c450897"
      },
      "execution_count": 36,
      "outputs": [
        {
          "output_type": "execute_result",
          "data": {
            "image/svg+xml": "<?xml version=\"1.0\" encoding=\"UTF-8\" standalone=\"no\"?>\n<!DOCTYPE svg PUBLIC \"-//W3C//DTD SVG 1.1//EN\"\n \"http://www.w3.org/Graphics/SVG/1.1/DTD/svg11.dtd\">\n<!-- Generated by graphviz version 2.43.0 (0)\n -->\n<!-- Title: %3 Pages: 1 -->\n<svg width=\"242pt\" height=\"78pt\"\n viewBox=\"0.00 0.00 242.00 78.00\" xmlns=\"http://www.w3.org/2000/svg\" xmlns:xlink=\"http://www.w3.org/1999/xlink\">\n<g id=\"graph0\" class=\"graph\" transform=\"scale(1 1) rotate(0) translate(4 74)\">\n<title>%3</title>\n<polygon fill=\"white\" stroke=\"transparent\" points=\"-4,4 -4,-74 238,-74 238,4 -4,4\"/>\n<!-- 136748309712656 -->\n<g id=\"node1\" class=\"node\">\n<title>136748309712656</title>\n<polygon fill=\"none\" stroke=\"black\" points=\"180,-0.5 180,-69.5 234,-69.5 234,-0.5 180,-0.5\"/>\n<text text-anchor=\"middle\" x=\"207\" y=\"-54.3\" font-family=\"Times,serif\" font-size=\"14.00\">b</text>\n<polyline fill=\"none\" stroke=\"black\" points=\"180,-46.5 234,-46.5 \"/>\n<text text-anchor=\"middle\" x=\"207\" y=\"-31.3\" font-family=\"Times,serif\" font-size=\"14.00\">4</text>\n<polyline fill=\"none\" stroke=\"black\" points=\"180,-23.5 234,-23.5 \"/>\n<text text-anchor=\"middle\" x=\"207\" y=\"-8.3\" font-family=\"Times,serif\" font-size=\"14.00\">1.0</text>\n</g>\n<!-- 136748309712656+ -->\n<g id=\"node2\" class=\"node\">\n<title>136748309712656+</title>\n<ellipse fill=\"none\" stroke=\"black\" cx=\"117\" cy=\"-35\" rx=\"27\" ry=\"18\"/>\n<text text-anchor=\"middle\" x=\"117\" y=\"-31.3\" font-family=\"Times,serif\" font-size=\"14.00\">+</text>\n</g>\n<!-- 136748309712656+&#45;&gt;136748309712656 -->\n<g id=\"edge1\" class=\"edge\">\n<title>136748309712656+&#45;&gt;136748309712656</title>\n<path fill=\"none\" stroke=\"black\" d=\"M144.4,-35C152.39,-35 161.31,-35 169.82,-35\"/>\n<polygon fill=\"black\" stroke=\"black\" points=\"169.92,-38.5 179.92,-35 169.92,-31.5 169.92,-38.5\"/>\n</g>\n<!-- 136748309712752 -->\n<g id=\"node3\" class=\"node\">\n<title>136748309712752</title>\n<polygon fill=\"none\" stroke=\"black\" points=\"0,-0.5 0,-69.5 54,-69.5 54,-0.5 0,-0.5\"/>\n<text text-anchor=\"middle\" x=\"27\" y=\"-54.3\" font-family=\"Times,serif\" font-size=\"14.00\">a</text>\n<polyline fill=\"none\" stroke=\"black\" points=\"0,-46.5 54,-46.5 \"/>\n<text text-anchor=\"middle\" x=\"27\" y=\"-31.3\" font-family=\"Times,serif\" font-size=\"14.00\">2</text>\n<polyline fill=\"none\" stroke=\"black\" points=\"0,-23.5 54,-23.5 \"/>\n<text text-anchor=\"middle\" x=\"27\" y=\"-8.3\" font-family=\"Times,serif\" font-size=\"14.00\">2.0</text>\n</g>\n<!-- 136748309712752&#45;&gt;136748309712656+ -->\n<g id=\"edge2\" class=\"edge\">\n<title>136748309712752&#45;&gt;136748309712656+</title>\n<path fill=\"none\" stroke=\"black\" d=\"M54.4,-35C62.39,-35 71.31,-35 79.82,-35\"/>\n<polygon fill=\"black\" stroke=\"black\" points=\"79.92,-38.5 89.92,-35 79.92,-31.5 79.92,-38.5\"/>\n</g>\n</g>\n</svg>\n",
            "text/plain": [
              "<graphviz.graphs.Digraph at 0x7c5f326c9b40>"
            ]
          },
          "metadata": {},
          "execution_count": 36
        }
      ]
    },
    {
      "cell_type": "code",
      "source": [
        "# We can not do a+1 as 1 is not Value\n",
        "\n",
        "class Value:\n",
        "\n",
        "  def __init__(self, data, _children = (), _op = '', label = ''):\n",
        "    self.data = data\n",
        "    self.grad = 0.0\n",
        "    self._backward = lambda: None\n",
        "    self._prev = set(_children)\n",
        "    self._op = _op\n",
        "    self.label = label\n",
        "\n",
        "  def __add__(self, other):\n",
        "    other = other if isinstance(other, Value) else Value(other)\n",
        "    out = Value(self.data + other.data, (self, other), '+')\n",
        "    def _backward():\n",
        "      self.grad += out.grad\n",
        "      other.grad += out.grad\n",
        "    out._backward = _backward\n",
        "    return out\n",
        "\n",
        "  def __mul__(self, other):\n",
        "    other = other if isinstance(other, Value) else Value(other)\n",
        "    out = Value(self.data * other.data, (self, other), '*')\n",
        "    def _backward():\n",
        "      #add the '+' after figuring why it is required\n",
        "      self.grad += other.data * out.grad\n",
        "      other.grad += self.data * out.grad\n",
        "    out._backward = _backward\n",
        "    return out\n",
        "\n",
        "  def __pow__(self, other):\n",
        "    assert isinstance(other, (int, float)), \"only supports int and float\"\n",
        "    out = Value(self.data**other, (self, ), f'**{other}')\n",
        "    def _backward():\n",
        "      self.grad += other * (self.data ** (other - 1)) * out.grad\n",
        "    out._backward = _backward\n",
        "    return out\n",
        "\n",
        "  def tanh(self):\n",
        "    x = self.data\n",
        "    t = (math.exp(2*x) - 1) / (math.exp(2*x) + 1)\n",
        "    out = Value(t, (self, ), 'tanh')\n",
        "    def _backward():\n",
        "      self.grad = (1 - t**2) * out.grad\n",
        "    out._backward = _backward\n",
        "    return out\n",
        "\n",
        "  def exp(self):\n",
        "    x = self.data\n",
        "    out = Value(math.exp(x), (self, ), 'exp')\n",
        "    def _backward():\n",
        "      self.grad += out.data * out.grad\n",
        "    out._backward = _backward\n",
        "    return out\n",
        "\n",
        "  def backward(self):\n",
        "    topo = []\n",
        "    visited = set()\n",
        "    def build_topo(v):\n",
        "      if v not in visited:\n",
        "        visited.add(v)\n",
        "        for child in v._prev:\n",
        "          build_topo(child)\n",
        "        topo.append(v)\n",
        "    build_topo(self)\n",
        "    self.grad = 1.0\n",
        "    for node in reversed(topo):\n",
        "      node._backward()\n",
        "\n",
        "  def __truediv__(self, other):\n",
        "    out = self * other**-1\n",
        "    return out\n",
        "\n",
        "  def __neg__(self):\n",
        "    return self * -1\n",
        "\n",
        "  def __rmul__(self, other):\n",
        "    return self * other\n",
        "\n",
        "  def __sub__(self, other):\n",
        "    return self + (-other)\n",
        "\n",
        "  def __repr__(self):\n",
        "    return \"Value(data={})\".format(self.data)"
      ],
      "metadata": {
        "id": "y_6-LB9LlB-r"
      },
      "execution_count": 68,
      "outputs": []
    },
    {
      "cell_type": "code",
      "source": [
        "a = Value(2)\n",
        "\n",
        "2 * a"
      ],
      "metadata": {
        "colab": {
          "base_uri": "https://localhost:8080/"
        },
        "id": "rLM2G7NaTE7k",
        "outputId": "67f0f065-1e42-4363-afec-280f10ab71d6"
      },
      "execution_count": 38,
      "outputs": [
        {
          "output_type": "execute_result",
          "data": {
            "text/plain": [
              "Value(data=4)"
            ]
          },
          "metadata": {},
          "execution_count": 38
        }
      ]
    },
    {
      "cell_type": "code",
      "source": [
        "# let us define division in a slightly smarter manner to make it more generic\n",
        "# a / b = a *(1/b) = a * (b ** 1)\n",
        "# we can define '**' and can write grad for it."
      ],
      "metadata": {
        "id": "rluGsZG1TIuT"
      },
      "execution_count": 40,
      "outputs": []
    },
    {
      "cell_type": "code",
      "source": [
        "x1 = Value(2.0, label='x1')\n",
        "x2 = Value(0.0, label='x2')\n",
        "\n",
        "# weights w1, w2\n",
        "w1 = Value(-3.0, label='w1')\n",
        "w2 = Value(1.0, label='w2')\n",
        "\n",
        "# bias of the neuron\n",
        "b = Value(6.8813735870195432, label='b')\n",
        "\n",
        "x1w1 = x1*w1; x1w1.label = 'x1*w1'\n",
        "x2w2 = x2*w2; x2w2.label = 'x2*w2'\n",
        "x1w1x2w2 = x1w1 + x2w2; x1w1x2w2.label = 'x1*w1 + x2*w2'\n",
        "n = x1w1x2w2 + b; n.label = 'n'\n",
        "\n",
        "# first run with out tanh\n",
        "# o = n.tanh(); o.label = 'o'\n",
        "\n",
        "# instead let us use tanh with exp formular\n",
        "e = (2*n).exp()\n",
        "o = (e - 1) / (e + 1)\n",
        "o.label = 'o'\n",
        "o.backward()\n",
        "draw_dot(o)"
      ],
      "metadata": {
        "colab": {
          "base_uri": "https://localhost:8080/",
          "height": 557
        },
        "id": "bHdb1DpjTz22",
        "outputId": "a19332b3-d758-4710-81a5-4c1a7ab983cd"
      },
      "execution_count": 69,
      "outputs": [
        {
          "output_type": "execute_result",
          "data": {
            "image/svg+xml": "<?xml version=\"1.0\" encoding=\"UTF-8\" standalone=\"no\"?>\n<!DOCTYPE svg PUBLIC \"-//W3C//DTD SVG 1.1//EN\"\n \"http://www.w3.org/Graphics/SVG/1.1/DTD/svg11.dtd\">\n<!-- Generated by graphviz version 2.43.0 (0)\n -->\n<!-- Title: %3 Pages: 1 -->\n<svg width=\"2165pt\" height=\"386pt\"\n viewBox=\"0.00 0.00 2165.00 386.00\" xmlns=\"http://www.w3.org/2000/svg\" xmlns:xlink=\"http://www.w3.org/1999/xlink\">\n<g id=\"graph0\" class=\"graph\" transform=\"scale(1 1) rotate(0) translate(4 382)\">\n<title>%3</title>\n<polygon fill=\"white\" stroke=\"transparent\" points=\"-4,4 -4,-382 2161,-382 2161,4 -4,4\"/>\n<!-- 136748313366528 -->\n<g id=\"node1\" class=\"node\">\n<title>136748313366528</title>\n<polygon fill=\"none\" stroke=\"black\" points=\"2022,-219.5 2022,-288.5 2157,-288.5 2157,-219.5 2022,-219.5\"/>\n<text text-anchor=\"middle\" x=\"2089.5\" y=\"-273.3\" font-family=\"Times,serif\" font-size=\"14.00\">o</text>\n<polyline fill=\"none\" stroke=\"black\" points=\"2022,-265.5 2157,-265.5 \"/>\n<text text-anchor=\"middle\" x=\"2089.5\" y=\"-250.3\" font-family=\"Times,serif\" font-size=\"14.00\">0.7071067811865477</text>\n<polyline fill=\"none\" stroke=\"black\" points=\"2022,-242.5 2157,-242.5 \"/>\n<text text-anchor=\"middle\" x=\"2089.5\" y=\"-227.3\" font-family=\"Times,serif\" font-size=\"14.00\">1.0</text>\n</g>\n<!-- 136748313366528* -->\n<g id=\"node2\" class=\"node\">\n<title>136748313366528*</title>\n<ellipse fill=\"none\" stroke=\"black\" cx=\"1959\" cy=\"-254\" rx=\"27\" ry=\"18\"/>\n<text text-anchor=\"middle\" x=\"1959\" y=\"-250.3\" font-family=\"Times,serif\" font-size=\"14.00\">*</text>\n</g>\n<!-- 136748313366528*&#45;&gt;136748313366528 -->\n<g id=\"edge1\" class=\"edge\">\n<title>136748313366528*&#45;&gt;136748313366528</title>\n<path fill=\"none\" stroke=\"black\" d=\"M1986,-254C1993.71,-254 2002.56,-254 2011.77,-254\"/>\n<polygon fill=\"black\" stroke=\"black\" points=\"2011.87,-257.5 2021.87,-254 2011.87,-250.5 2011.87,-257.5\"/>\n</g>\n<!-- 136748325500432 -->\n<g id=\"node3\" class=\"node\">\n<title>136748325500432</title>\n<polygon fill=\"none\" stroke=\"black\" points=\"360,-220.5 360,-289.5 488,-289.5 488,-220.5 360,-220.5\"/>\n<text text-anchor=\"middle\" x=\"424\" y=\"-274.3\" font-family=\"Times,serif\" font-size=\"14.00\">b</text>\n<polyline fill=\"none\" stroke=\"black\" points=\"360,-266.5 488,-266.5 \"/>\n<text text-anchor=\"middle\" x=\"424\" y=\"-251.3\" font-family=\"Times,serif\" font-size=\"14.00\">6.881373587019543</text>\n<polyline fill=\"none\" stroke=\"black\" points=\"360,-243.5 488,-243.5 \"/>\n<text text-anchor=\"middle\" x=\"424\" y=\"-228.3\" font-family=\"Times,serif\" font-size=\"14.00\">0.5</text>\n</g>\n<!-- 136748325496160+ -->\n<g id=\"node13\" class=\"node\">\n<title>136748325496160+</title>\n<ellipse fill=\"none\" stroke=\"black\" cx=\"551\" cy=\"-211\" rx=\"27\" ry=\"18\"/>\n<text text-anchor=\"middle\" x=\"551\" y=\"-207.3\" font-family=\"Times,serif\" font-size=\"14.00\">+</text>\n</g>\n<!-- 136748325500432&#45;&gt;136748325496160+ -->\n<g id=\"edge15\" class=\"edge\">\n<title>136748325500432&#45;&gt;136748325496160+</title>\n<path fill=\"none\" stroke=\"black\" d=\"M488.23,-232.74C498.26,-229.21 508.27,-225.69 517.22,-222.54\"/>\n<polygon fill=\"black\" stroke=\"black\" points=\"518.54,-225.78 526.81,-219.16 516.22,-219.18 518.54,-225.78\"/>\n</g>\n<!-- 136748314806880 -->\n<g id=\"node4\" class=\"node\">\n<title>136748314806880</title>\n<polygon fill=\"none\" stroke=\"black\" points=\"0,-264.5 0,-333.5 54,-333.5 54,-264.5 0,-264.5\"/>\n<text text-anchor=\"middle\" x=\"27\" y=\"-318.3\" font-family=\"Times,serif\" font-size=\"14.00\">w1</text>\n<polyline fill=\"none\" stroke=\"black\" points=\"0,-310.5 54,-310.5 \"/>\n<text text-anchor=\"middle\" x=\"27\" y=\"-295.3\" font-family=\"Times,serif\" font-size=\"14.00\">&#45;3.0</text>\n<polyline fill=\"none\" stroke=\"black\" points=\"0,-287.5 54,-287.5 \"/>\n<text text-anchor=\"middle\" x=\"27\" y=\"-272.3\" font-family=\"Times,serif\" font-size=\"14.00\">1.0</text>\n</g>\n<!-- 136748325499712* -->\n<g id=\"node10\" class=\"node\">\n<title>136748325499712*</title>\n<ellipse fill=\"none\" stroke=\"black\" cx=\"117\" cy=\"-211\" rx=\"27\" ry=\"18\"/>\n<text text-anchor=\"middle\" x=\"117\" y=\"-207.3\" font-family=\"Times,serif\" font-size=\"14.00\">*</text>\n</g>\n<!-- 136748314806880&#45;&gt;136748325499712* -->\n<g id=\"edge16\" class=\"edge\">\n<title>136748314806880&#45;&gt;136748325499712*</title>\n<path fill=\"none\" stroke=\"black\" d=\"M54.4,-272.6C66.94,-260.06 81.77,-245.23 93.73,-233.27\"/>\n<polygon fill=\"black\" stroke=\"black\" points=\"96.53,-235.42 101.13,-225.87 91.58,-230.47 96.53,-235.42\"/>\n</g>\n<!-- 136748313369216 -->\n<g id=\"node5\" class=\"node\">\n<title>136748313369216</title>\n<polygon fill=\"none\" stroke=\"black\" points=\"614,-264.5 614,-333.5 749,-333.5 749,-264.5 614,-264.5\"/>\n<text text-anchor=\"middle\" x=\"681.5\" y=\"-318.3\" font-family=\"Times,serif\" font-size=\"14.00\"> </text>\n<polyline fill=\"none\" stroke=\"black\" points=\"614,-310.5 749,-310.5 \"/>\n<text text-anchor=\"middle\" x=\"681.5\" y=\"-295.3\" font-family=\"Times,serif\" font-size=\"14.00\">2</text>\n<polyline fill=\"none\" stroke=\"black\" points=\"614,-287.5 749,-287.5 \"/>\n<text text-anchor=\"middle\" x=\"681.5\" y=\"-272.3\" font-family=\"Times,serif\" font-size=\"14.00\">0.2203433967548858</text>\n</g>\n<!-- 136748313365376* -->\n<g id=\"node17\" class=\"node\">\n<title>136748313365376*</title>\n<ellipse fill=\"none\" stroke=\"black\" cx=\"812\" cy=\"-255\" rx=\"27\" ry=\"18\"/>\n<text text-anchor=\"middle\" x=\"812\" y=\"-251.3\" font-family=\"Times,serif\" font-size=\"14.00\">*</text>\n</g>\n<!-- 136748313369216&#45;&gt;136748313365376* -->\n<g id=\"edge11\" class=\"edge\">\n<title>136748313369216&#45;&gt;136748313365376*</title>\n<path fill=\"none\" stroke=\"black\" d=\"M749.01,-276.23C759.06,-272.78 769.05,-269.37 777.97,-266.31\"/>\n<polygon fill=\"black\" stroke=\"black\" points=\"779.21,-269.59 787.54,-263.03 776.94,-262.96 779.21,-269.59\"/>\n</g>\n<!-- 136748314814608 -->\n<g id=\"node6\" class=\"node\">\n<title>136748314814608</title>\n<polygon fill=\"none\" stroke=\"black\" points=\"0,-88.5 0,-157.5 54,-157.5 54,-88.5 0,-88.5\"/>\n<text text-anchor=\"middle\" x=\"27\" y=\"-142.3\" font-family=\"Times,serif\" font-size=\"14.00\">x2</text>\n<polyline fill=\"none\" stroke=\"black\" points=\"0,-134.5 54,-134.5 \"/>\n<text text-anchor=\"middle\" x=\"27\" y=\"-119.3\" font-family=\"Times,serif\" font-size=\"14.00\">0.0</text>\n<polyline fill=\"none\" stroke=\"black\" points=\"0,-111.5 54,-111.5 \"/>\n<text text-anchor=\"middle\" x=\"27\" y=\"-96.3\" font-family=\"Times,serif\" font-size=\"14.00\">0.5</text>\n</g>\n<!-- 136748325490640* -->\n<g id=\"node24\" class=\"node\">\n<title>136748325490640*</title>\n<ellipse fill=\"none\" stroke=\"black\" cx=\"117\" cy=\"-123\" rx=\"27\" ry=\"18\"/>\n<text text-anchor=\"middle\" x=\"117\" y=\"-119.3\" font-family=\"Times,serif\" font-size=\"14.00\">*</text>\n</g>\n<!-- 136748314814608&#45;&gt;136748325490640* -->\n<g id=\"edge17\" class=\"edge\">\n<title>136748314814608&#45;&gt;136748325490640*</title>\n<path fill=\"none\" stroke=\"black\" d=\"M54.4,-123C62.39,-123 71.31,-123 79.82,-123\"/>\n<polygon fill=\"black\" stroke=\"black\" points=\"79.92,-126.5 89.92,-123 79.92,-119.5 79.92,-126.5\"/>\n</g>\n<!-- 136748313370800 -->\n<g id=\"node7\" class=\"node\">\n<title>136748313370800</title>\n<polygon fill=\"none\" stroke=\"black\" points=\"1761,-253.5 1761,-322.5 1896,-322.5 1896,-253.5 1761,-253.5\"/>\n<text text-anchor=\"middle\" x=\"1828.5\" y=\"-307.3\" font-family=\"Times,serif\" font-size=\"14.00\"> </text>\n<polyline fill=\"none\" stroke=\"black\" points=\"1761,-299.5 1896,-299.5 \"/>\n<text text-anchor=\"middle\" x=\"1828.5\" y=\"-284.3\" font-family=\"Times,serif\" font-size=\"14.00\">0.1464466094067262</text>\n<polyline fill=\"none\" stroke=\"black\" points=\"1761,-276.5 1896,-276.5 \"/>\n<text text-anchor=\"middle\" x=\"1828.5\" y=\"-261.3\" font-family=\"Times,serif\" font-size=\"14.00\">4.828427124746192</text>\n</g>\n<!-- 136748313370800&#45;&gt;136748313366528* -->\n<g id=\"edge24\" class=\"edge\">\n<title>136748313370800&#45;&gt;136748313366528*</title>\n<path fill=\"none\" stroke=\"black\" d=\"M1896.01,-270.4C1905.69,-267.84 1915.31,-265.3 1923.97,-263\"/>\n<polygon fill=\"black\" stroke=\"black\" points=\"1924.88,-266.38 1933.66,-260.44 1923.09,-259.62 1924.88,-266.38\"/>\n</g>\n<!-- 136748313370800**&#45;1 -->\n<g id=\"node8\" class=\"node\">\n<title>136748313370800**&#45;1</title>\n<ellipse fill=\"none\" stroke=\"black\" cx=\"1657.5\" cy=\"-290\" rx=\"27\" ry=\"18\"/>\n<text text-anchor=\"middle\" x=\"1657.5\" y=\"-286.3\" font-family=\"Times,serif\" font-size=\"14.00\">**&#45;1</text>\n</g>\n<!-- 136748313370800**&#45;1&#45;&gt;136748313370800 -->\n<g id=\"edge2\" class=\"edge\">\n<title>136748313370800**&#45;1&#45;&gt;136748313370800</title>\n<path fill=\"none\" stroke=\"black\" d=\"M1684.54,-289.69C1702.36,-289.48 1726.99,-289.19 1750.79,-288.91\"/>\n<polygon fill=\"black\" stroke=\"black\" points=\"1750.96,-292.41 1760.92,-288.79 1750.87,-285.41 1750.96,-292.41\"/>\n</g>\n<!-- 136748325499712 -->\n<g id=\"node9\" class=\"node\">\n<title>136748325499712</title>\n<polygon fill=\"none\" stroke=\"black\" points=\"180,-176.5 180,-245.5 234,-245.5 234,-176.5 180,-176.5\"/>\n<text text-anchor=\"middle\" x=\"207\" y=\"-230.3\" font-family=\"Times,serif\" font-size=\"14.00\">x1*w1</text>\n<polyline fill=\"none\" stroke=\"black\" points=\"180,-222.5 234,-222.5 \"/>\n<text text-anchor=\"middle\" x=\"207\" y=\"-207.3\" font-family=\"Times,serif\" font-size=\"14.00\">&#45;6.0</text>\n<polyline fill=\"none\" stroke=\"black\" points=\"180,-199.5 234,-199.5 \"/>\n<text text-anchor=\"middle\" x=\"207\" y=\"-184.3\" font-family=\"Times,serif\" font-size=\"14.00\">0.5</text>\n</g>\n<!-- 136748325488480+ -->\n<g id=\"node15\" class=\"node\">\n<title>136748325488480+</title>\n<ellipse fill=\"none\" stroke=\"black\" cx=\"297\" cy=\"-167\" rx=\"27\" ry=\"18\"/>\n<text text-anchor=\"middle\" x=\"297\" y=\"-163.3\" font-family=\"Times,serif\" font-size=\"14.00\">+</text>\n</g>\n<!-- 136748325499712&#45;&gt;136748325488480+ -->\n<g id=\"edge21\" class=\"edge\">\n<title>136748325499712&#45;&gt;136748325488480+</title>\n<path fill=\"none\" stroke=\"black\" d=\"M234.4,-197.8C244.33,-192.84 255.68,-187.16 265.91,-182.04\"/>\n<polygon fill=\"black\" stroke=\"black\" points=\"267.54,-185.14 274.92,-177.54 264.41,-178.88 267.54,-185.14\"/>\n</g>\n<!-- 136748325499712*&#45;&gt;136748325499712 -->\n<g id=\"edge3\" class=\"edge\">\n<title>136748325499712*&#45;&gt;136748325499712</title>\n<path fill=\"none\" stroke=\"black\" d=\"M144.4,-211C152.39,-211 161.31,-211 169.82,-211\"/>\n<polygon fill=\"black\" stroke=\"black\" points=\"169.92,-214.5 179.92,-211 169.92,-207.5 169.92,-214.5\"/>\n</g>\n<!-- 136748325501920 -->\n<g id=\"node11\" class=\"node\">\n<title>136748325501920</title>\n<polygon fill=\"none\" stroke=\"black\" points=\"0,-176.5 0,-245.5 54,-245.5 54,-176.5 0,-176.5\"/>\n<text text-anchor=\"middle\" x=\"27\" y=\"-230.3\" font-family=\"Times,serif\" font-size=\"14.00\">x1</text>\n<polyline fill=\"none\" stroke=\"black\" points=\"0,-222.5 54,-222.5 \"/>\n<text text-anchor=\"middle\" x=\"27\" y=\"-207.3\" font-family=\"Times,serif\" font-size=\"14.00\">2.0</text>\n<polyline fill=\"none\" stroke=\"black\" points=\"0,-199.5 54,-199.5 \"/>\n<text text-anchor=\"middle\" x=\"27\" y=\"-184.3\" font-family=\"Times,serif\" font-size=\"14.00\">&#45;1.5</text>\n</g>\n<!-- 136748325501920&#45;&gt;136748325499712* -->\n<g id=\"edge13\" class=\"edge\">\n<title>136748325501920&#45;&gt;136748325499712*</title>\n<path fill=\"none\" stroke=\"black\" d=\"M54.4,-211C62.39,-211 71.31,-211 79.82,-211\"/>\n<polygon fill=\"black\" stroke=\"black\" points=\"79.92,-214.5 89.92,-211 79.92,-207.5 79.92,-214.5\"/>\n</g>\n<!-- 136748325496160 -->\n<g id=\"node12\" class=\"node\">\n<title>136748325496160</title>\n<polygon fill=\"none\" stroke=\"black\" points=\"614,-176.5 614,-245.5 749,-245.5 749,-176.5 614,-176.5\"/>\n<text text-anchor=\"middle\" x=\"681.5\" y=\"-230.3\" font-family=\"Times,serif\" font-size=\"14.00\">n</text>\n<polyline fill=\"none\" stroke=\"black\" points=\"614,-222.5 749,-222.5 \"/>\n<text text-anchor=\"middle\" x=\"681.5\" y=\"-207.3\" font-family=\"Times,serif\" font-size=\"14.00\">0.8813735870195432</text>\n<polyline fill=\"none\" stroke=\"black\" points=\"614,-199.5 749,-199.5 \"/>\n<text text-anchor=\"middle\" x=\"681.5\" y=\"-184.3\" font-family=\"Times,serif\" font-size=\"14.00\">0.5</text>\n</g>\n<!-- 136748325496160&#45;&gt;136748313365376* -->\n<g id=\"edge26\" class=\"edge\">\n<title>136748325496160&#45;&gt;136748313365376*</title>\n<path fill=\"none\" stroke=\"black\" d=\"M749.01,-233.77C759.06,-237.22 769.05,-240.63 777.97,-243.69\"/>\n<polygon fill=\"black\" stroke=\"black\" points=\"776.94,-247.04 787.54,-246.97 779.21,-240.41 776.94,-247.04\"/>\n</g>\n<!-- 136748325496160+&#45;&gt;136748325496160 -->\n<g id=\"edge4\" class=\"edge\">\n<title>136748325496160+&#45;&gt;136748325496160</title>\n<path fill=\"none\" stroke=\"black\" d=\"M578,-211C585.71,-211 594.56,-211 603.77,-211\"/>\n<polygon fill=\"black\" stroke=\"black\" points=\"603.87,-214.5 613.87,-211 603.87,-207.5 603.87,-214.5\"/>\n</g>\n<!-- 136748325488480 -->\n<g id=\"node14\" class=\"node\">\n<title>136748325488480</title>\n<polygon fill=\"none\" stroke=\"black\" points=\"371,-132.5 371,-201.5 477,-201.5 477,-132.5 371,-132.5\"/>\n<text text-anchor=\"middle\" x=\"424\" y=\"-186.3\" font-family=\"Times,serif\" font-size=\"14.00\">x1*w1 + x2*w2</text>\n<polyline fill=\"none\" stroke=\"black\" points=\"371,-178.5 477,-178.5 \"/>\n<text text-anchor=\"middle\" x=\"424\" y=\"-163.3\" font-family=\"Times,serif\" font-size=\"14.00\">&#45;6.0</text>\n<polyline fill=\"none\" stroke=\"black\" points=\"371,-155.5 477,-155.5 \"/>\n<text text-anchor=\"middle\" x=\"424\" y=\"-140.3\" font-family=\"Times,serif\" font-size=\"14.00\">0.5</text>\n</g>\n<!-- 136748325488480&#45;&gt;136748325496160+ -->\n<g id=\"edge14\" class=\"edge\">\n<title>136748325488480&#45;&gt;136748325496160+</title>\n<path fill=\"none\" stroke=\"black\" d=\"M477.29,-185.41C490.77,-190.15 504.91,-195.13 517.09,-199.42\"/>\n<polygon fill=\"black\" stroke=\"black\" points=\"516.22,-202.82 526.81,-202.84 518.54,-196.22 516.22,-202.82\"/>\n</g>\n<!-- 136748325488480+&#45;&gt;136748325488480 -->\n<g id=\"edge5\" class=\"edge\">\n<title>136748325488480+&#45;&gt;136748325488480</title>\n<path fill=\"none\" stroke=\"black\" d=\"M324.2,-167C334.88,-167 347.72,-167 360.56,-167\"/>\n<polygon fill=\"black\" stroke=\"black\" points=\"360.81,-170.5 370.81,-167 360.81,-163.5 360.81,-170.5\"/>\n</g>\n<!-- 136748313365376 -->\n<g id=\"node16\" class=\"node\">\n<title>136748313365376</title>\n<polygon fill=\"none\" stroke=\"black\" points=\"875,-220.5 875,-289.5 1010,-289.5 1010,-220.5 875,-220.5\"/>\n<text text-anchor=\"middle\" x=\"942.5\" y=\"-274.3\" font-family=\"Times,serif\" font-size=\"14.00\"> </text>\n<polyline fill=\"none\" stroke=\"black\" points=\"875,-266.5 1010,-266.5 \"/>\n<text text-anchor=\"middle\" x=\"942.5\" y=\"-251.3\" font-family=\"Times,serif\" font-size=\"14.00\">1.7627471740390863</text>\n<polyline fill=\"none\" stroke=\"black\" points=\"875,-243.5 1010,-243.5 \"/>\n<text text-anchor=\"middle\" x=\"942.5\" y=\"-228.3\" font-family=\"Times,serif\" font-size=\"14.00\">0.25</text>\n</g>\n<!-- 136748313362832exp -->\n<g id=\"node26\" class=\"node\">\n<title>136748313362832exp</title>\n<ellipse fill=\"none\" stroke=\"black\" cx=\"1073\" cy=\"-255\" rx=\"27\" ry=\"18\"/>\n<text text-anchor=\"middle\" x=\"1073\" y=\"-251.3\" font-family=\"Times,serif\" font-size=\"14.00\">exp</text>\n</g>\n<!-- 136748313365376&#45;&gt;136748313362832exp -->\n<g id=\"edge22\" class=\"edge\">\n<title>136748313365376&#45;&gt;136748313362832exp</title>\n<path fill=\"none\" stroke=\"black\" d=\"M1010.01,-255C1018.87,-255 1027.66,-255 1035.73,-255\"/>\n<polygon fill=\"black\" stroke=\"black\" points=\"1035.86,-258.5 1045.86,-255 1035.86,-251.5 1035.86,-258.5\"/>\n</g>\n<!-- 136748313365376*&#45;&gt;136748313365376 -->\n<g id=\"edge6\" class=\"edge\">\n<title>136748313365376*&#45;&gt;136748313365376</title>\n<path fill=\"none\" stroke=\"black\" d=\"M839,-255C846.71,-255 855.56,-255 864.77,-255\"/>\n<polygon fill=\"black\" stroke=\"black\" points=\"864.87,-258.5 874.87,-255 864.87,-251.5 864.87,-258.5\"/>\n</g>\n<!-- 136748313375120 -->\n<g id=\"node18\" class=\"node\">\n<title>136748313375120</title>\n<polygon fill=\"none\" stroke=\"black\" points=\"1590,-184.5 1590,-253.5 1725,-253.5 1725,-184.5 1590,-184.5\"/>\n<text text-anchor=\"middle\" x=\"1657.5\" y=\"-238.3\" font-family=\"Times,serif\" font-size=\"14.00\"> </text>\n<polyline fill=\"none\" stroke=\"black\" points=\"1590,-230.5 1725,-230.5 \"/>\n<text text-anchor=\"middle\" x=\"1657.5\" y=\"-215.3\" font-family=\"Times,serif\" font-size=\"14.00\">4.828427124746192</text>\n<polyline fill=\"none\" stroke=\"black\" points=\"1590,-207.5 1725,-207.5 \"/>\n<text text-anchor=\"middle\" x=\"1657.5\" y=\"-192.3\" font-family=\"Times,serif\" font-size=\"14.00\">0.1464466094067262</text>\n</g>\n<!-- 136748313375120&#45;&gt;136748313366528* -->\n<g id=\"edge25\" class=\"edge\">\n<title>136748313375120&#45;&gt;136748313366528*</title>\n<path fill=\"none\" stroke=\"black\" d=\"M1725.16,-225.03C1772.83,-229.58 1838.46,-236.34 1896,-244 1904.7,-245.16 1914.06,-246.58 1922.8,-247.98\"/>\n<polygon fill=\"black\" stroke=\"black\" points=\"1922.27,-251.44 1932.71,-249.6 1923.4,-244.53 1922.27,-251.44\"/>\n</g>\n<!-- 136748313375120+ -->\n<g id=\"node19\" class=\"node\">\n<title>136748313375120+</title>\n<ellipse fill=\"none\" stroke=\"black\" cx=\"1345\" cy=\"-219\" rx=\"27\" ry=\"18\"/>\n<text text-anchor=\"middle\" x=\"1345\" y=\"-215.3\" font-family=\"Times,serif\" font-size=\"14.00\">+</text>\n</g>\n<!-- 136748313375120+&#45;&gt;136748313375120 -->\n<g id=\"edge7\" class=\"edge\">\n<title>136748313375120+&#45;&gt;136748313375120</title>\n<path fill=\"none\" stroke=\"black\" d=\"M1372.21,-219C1417.47,-219 1511.95,-219 1579.57,-219\"/>\n<polygon fill=\"black\" stroke=\"black\" points=\"1579.76,-222.5 1589.76,-219 1579.76,-215.5 1579.76,-222.5\"/>\n</g>\n<!-- 136748325493088 -->\n<g id=\"node20\" class=\"node\">\n<title>136748325493088</title>\n<polygon fill=\"none\" stroke=\"black\" points=\"0,-0.5 0,-69.5 54,-69.5 54,-0.5 0,-0.5\"/>\n<text text-anchor=\"middle\" x=\"27\" y=\"-54.3\" font-family=\"Times,serif\" font-size=\"14.00\">w2</text>\n<polyline fill=\"none\" stroke=\"black\" points=\"0,-46.5 54,-46.5 \"/>\n<text text-anchor=\"middle\" x=\"27\" y=\"-31.3\" font-family=\"Times,serif\" font-size=\"14.00\">1.0</text>\n<polyline fill=\"none\" stroke=\"black\" points=\"0,-23.5 54,-23.5 \"/>\n<text text-anchor=\"middle\" x=\"27\" y=\"-8.3\" font-family=\"Times,serif\" font-size=\"14.00\">0.0</text>\n</g>\n<!-- 136748325493088&#45;&gt;136748325490640* -->\n<g id=\"edge23\" class=\"edge\">\n<title>136748325493088&#45;&gt;136748325490640*</title>\n<path fill=\"none\" stroke=\"black\" d=\"M54.4,-61.4C66.94,-73.94 81.77,-88.77 93.73,-100.73\"/>\n<polygon fill=\"black\" stroke=\"black\" points=\"91.58,-103.53 101.13,-108.13 96.53,-98.58 91.58,-103.53\"/>\n</g>\n<!-- 136748313362784 -->\n<g id=\"node21\" class=\"node\">\n<title>136748313362784</title>\n<polygon fill=\"none\" stroke=\"black\" points=\"1141.5,-132.5 1141.5,-201.5 1276.5,-201.5 1276.5,-132.5 1141.5,-132.5\"/>\n<text text-anchor=\"middle\" x=\"1209\" y=\"-186.3\" font-family=\"Times,serif\" font-size=\"14.00\"> </text>\n<polyline fill=\"none\" stroke=\"black\" points=\"1141.5,-178.5 1276.5,-178.5 \"/>\n<text text-anchor=\"middle\" x=\"1209\" y=\"-163.3\" font-family=\"Times,serif\" font-size=\"14.00\">&#45;1</text>\n<polyline fill=\"none\" stroke=\"black\" points=\"1141.5,-155.5 1276.5,-155.5 \"/>\n<text text-anchor=\"middle\" x=\"1209\" y=\"-140.3\" font-family=\"Times,serif\" font-size=\"14.00\">0.1464466094067262</text>\n</g>\n<!-- 136748313362784&#45;&gt;136748313375120+ -->\n<g id=\"edge27\" class=\"edge\">\n<title>136748313362784&#45;&gt;136748313375120+</title>\n<path fill=\"none\" stroke=\"black\" d=\"M1276.61,-192.85C1288.98,-197.65 1301.37,-202.46 1312.09,-206.62\"/>\n<polygon fill=\"black\" stroke=\"black\" points=\"1310.83,-209.88 1321.41,-210.24 1313.36,-203.35 1310.83,-209.88\"/>\n</g>\n<!-- 136748313376704 -->\n<g id=\"node22\" class=\"node\">\n<title>136748313376704</title>\n<polygon fill=\"none\" stroke=\"black\" points=\"1136,-308.5 1136,-377.5 1282,-377.5 1282,-308.5 1136,-308.5\"/>\n<text text-anchor=\"middle\" x=\"1209\" y=\"-362.3\" font-family=\"Times,serif\" font-size=\"14.00\"> </text>\n<polyline fill=\"none\" stroke=\"black\" points=\"1136,-354.5 1282,-354.5 \"/>\n<text text-anchor=\"middle\" x=\"1209\" y=\"-339.3\" font-family=\"Times,serif\" font-size=\"14.00\">1</text>\n<polyline fill=\"none\" stroke=\"black\" points=\"1136,-331.5 1282,-331.5 \"/>\n<text text-anchor=\"middle\" x=\"1209\" y=\"-316.3\" font-family=\"Times,serif\" font-size=\"14.00\">&#45;0.10355339059327374</text>\n</g>\n<!-- 136748313376752+ -->\n<g id=\"node28\" class=\"node\">\n<title>136748313376752+</title>\n<ellipse fill=\"none\" stroke=\"black\" cx=\"1345\" cy=\"-290\" rx=\"27\" ry=\"18\"/>\n<text text-anchor=\"middle\" x=\"1345\" y=\"-286.3\" font-family=\"Times,serif\" font-size=\"14.00\">+</text>\n</g>\n<!-- 136748313376704&#45;&gt;136748313376752+ -->\n<g id=\"edge28\" class=\"edge\">\n<title>136748313376704&#45;&gt;136748313376752+</title>\n<path fill=\"none\" stroke=\"black\" d=\"M1282.1,-314.48C1292.56,-310.34 1302.86,-306.27 1311.96,-302.67\"/>\n<polygon fill=\"black\" stroke=\"black\" points=\"1313.31,-305.9 1321.32,-298.97 1310.73,-299.39 1313.31,-305.9\"/>\n</g>\n<!-- 136748325490640 -->\n<g id=\"node23\" class=\"node\">\n<title>136748325490640</title>\n<polygon fill=\"none\" stroke=\"black\" points=\"180,-88.5 180,-157.5 234,-157.5 234,-88.5 180,-88.5\"/>\n<text text-anchor=\"middle\" x=\"207\" y=\"-142.3\" font-family=\"Times,serif\" font-size=\"14.00\">x2*w2</text>\n<polyline fill=\"none\" stroke=\"black\" points=\"180,-134.5 234,-134.5 \"/>\n<text text-anchor=\"middle\" x=\"207\" y=\"-119.3\" font-family=\"Times,serif\" font-size=\"14.00\">0.0</text>\n<polyline fill=\"none\" stroke=\"black\" points=\"180,-111.5 234,-111.5 \"/>\n<text text-anchor=\"middle\" x=\"207\" y=\"-96.3\" font-family=\"Times,serif\" font-size=\"14.00\">0.5</text>\n</g>\n<!-- 136748325490640&#45;&gt;136748325488480+ -->\n<g id=\"edge18\" class=\"edge\">\n<title>136748325490640&#45;&gt;136748325488480+</title>\n<path fill=\"none\" stroke=\"black\" d=\"M234.4,-136.2C244.33,-141.16 255.68,-146.84 265.91,-151.96\"/>\n<polygon fill=\"black\" stroke=\"black\" points=\"264.41,-155.12 274.92,-156.46 267.54,-148.86 264.41,-155.12\"/>\n</g>\n<!-- 136748325490640*&#45;&gt;136748325490640 -->\n<g id=\"edge8\" class=\"edge\">\n<title>136748325490640*&#45;&gt;136748325490640</title>\n<path fill=\"none\" stroke=\"black\" d=\"M144.4,-123C152.39,-123 161.31,-123 169.82,-123\"/>\n<polygon fill=\"black\" stroke=\"black\" points=\"169.92,-126.5 179.92,-123 169.92,-119.5 169.92,-126.5\"/>\n</g>\n<!-- 136748313362832 -->\n<g id=\"node25\" class=\"node\">\n<title>136748313362832</title>\n<polygon fill=\"none\" stroke=\"black\" points=\"1138,-220.5 1138,-289.5 1280,-289.5 1280,-220.5 1138,-220.5\"/>\n<text text-anchor=\"middle\" x=\"1209\" y=\"-274.3\" font-family=\"Times,serif\" font-size=\"14.00\"> </text>\n<polyline fill=\"none\" stroke=\"black\" points=\"1138,-266.5 1280,-266.5 \"/>\n<text text-anchor=\"middle\" x=\"1209\" y=\"-251.3\" font-family=\"Times,serif\" font-size=\"14.00\">5.828427124746192</text>\n<polyline fill=\"none\" stroke=\"black\" points=\"1138,-243.5 1280,-243.5 \"/>\n<text text-anchor=\"middle\" x=\"1209\" y=\"-228.3\" font-family=\"Times,serif\" font-size=\"14.00\">0.04289321881345247</text>\n</g>\n<!-- 136748313362832&#45;&gt;136748313375120+ -->\n<g id=\"edge12\" class=\"edge\">\n<title>136748313362832&#45;&gt;136748313375120+</title>\n<path fill=\"none\" stroke=\"black\" d=\"M1280.14,-236.16C1290.45,-233.39 1300.65,-230.65 1309.78,-228.19\"/>\n<polygon fill=\"black\" stroke=\"black\" points=\"1310.83,-231.54 1319.58,-225.56 1309.01,-224.78 1310.83,-231.54\"/>\n</g>\n<!-- 136748313362832&#45;&gt;136748313376752+ -->\n<g id=\"edge19\" class=\"edge\">\n<title>136748313362832&#45;&gt;136748313376752+</title>\n<path fill=\"none\" stroke=\"black\" d=\"M1280.14,-273.32C1290.45,-276.01 1300.65,-278.68 1309.78,-281.06\"/>\n<polygon fill=\"black\" stroke=\"black\" points=\"1309.02,-284.48 1319.58,-283.62 1310.79,-277.71 1309.02,-284.48\"/>\n</g>\n<!-- 136748313362832exp&#45;&gt;136748313362832 -->\n<g id=\"edge9\" class=\"edge\">\n<title>136748313362832exp&#45;&gt;136748313362832</title>\n<path fill=\"none\" stroke=\"black\" d=\"M1100.15,-255C1108.38,-255 1117.93,-255 1127.89,-255\"/>\n<polygon fill=\"black\" stroke=\"black\" points=\"1127.95,-258.5 1137.95,-255 1127.95,-251.5 1127.95,-258.5\"/>\n</g>\n<!-- 136748313376752 -->\n<g id=\"node27\" class=\"node\">\n<title>136748313376752</title>\n<polygon fill=\"none\" stroke=\"black\" points=\"1408,-255.5 1408,-324.5 1554,-324.5 1554,-255.5 1408,-255.5\"/>\n<text text-anchor=\"middle\" x=\"1481\" y=\"-309.3\" font-family=\"Times,serif\" font-size=\"14.00\"> </text>\n<polyline fill=\"none\" stroke=\"black\" points=\"1408,-301.5 1554,-301.5 \"/>\n<text text-anchor=\"middle\" x=\"1481\" y=\"-286.3\" font-family=\"Times,serif\" font-size=\"14.00\">6.828427124746192</text>\n<polyline fill=\"none\" stroke=\"black\" points=\"1408,-278.5 1554,-278.5 \"/>\n<text text-anchor=\"middle\" x=\"1481\" y=\"-263.3\" font-family=\"Times,serif\" font-size=\"14.00\">&#45;0.10355339059327374</text>\n</g>\n<!-- 136748313376752&#45;&gt;136748313370800**&#45;1 -->\n<g id=\"edge20\" class=\"edge\">\n<title>136748313376752&#45;&gt;136748313370800**&#45;1</title>\n<path fill=\"none\" stroke=\"black\" d=\"M1554.24,-290C1577.02,-290 1601.21,-290 1620.34,-290\"/>\n<polygon fill=\"black\" stroke=\"black\" points=\"1620.41,-293.5 1630.41,-290 1620.41,-286.5 1620.41,-293.5\"/>\n</g>\n<!-- 136748313376752+&#45;&gt;136748313376752 -->\n<g id=\"edge10\" class=\"edge\">\n<title>136748313376752+&#45;&gt;136748313376752</title>\n<path fill=\"none\" stroke=\"black\" d=\"M1372.15,-290C1379.82,-290 1388.63,-290 1397.85,-290\"/>\n<polygon fill=\"black\" stroke=\"black\" points=\"1397.98,-293.5 1407.98,-290 1397.98,-286.5 1397.98,-293.5\"/>\n</g>\n</g>\n</svg>\n",
            "text/plain": [
              "<graphviz.graphs.Digraph at 0x7c5f335d7640>"
            ]
          },
          "metadata": {},
          "execution_count": 69
        }
      ]
    },
    {
      "cell_type": "code",
      "source": [
        "x1 = Value(2.0, label='x1')\n",
        "x2 = Value(0.0, label='x2')\n",
        "\n",
        "# weights w1, w2\n",
        "w1 = Value(-3.0, label='w1')\n",
        "w2 = Value(1.0, label='w2')\n",
        "\n",
        "# bias of the neuron\n",
        "b = Value(6.8813735870195432, label='b')\n",
        "\n",
        "x1w1 = x1*w1; x1w1.label = 'x1*w1'\n",
        "x2w2 = x2*w2; x2w2.label = 'x2*w2'\n",
        "x1w1x2w2 = x1w1 + x2w2; x1w1x2w2.label = 'x1*w1 + x2*w2'\n",
        "n = x1w1x2w2 + b; n.label = 'n'\n",
        "\n",
        "# first run with out tanh\n",
        "o = n.tanh(); o.label = 'o'\n",
        "o.backward()\n",
        "draw_dot(o)"
      ],
      "metadata": {
        "colab": {
          "base_uri": "https://localhost:8080/",
          "height": 478
        },
        "id": "VBJw9tpKWwOp",
        "outputId": "70313cf5-c4f3-4267-d72b-6c0b4cd9ab46"
      },
      "execution_count": 70,
      "outputs": [
        {
          "output_type": "execute_result",
          "data": {
            "image/svg+xml": "<?xml version=\"1.0\" encoding=\"UTF-8\" standalone=\"no\"?>\n<!DOCTYPE svg PUBLIC \"-//W3C//DTD SVG 1.1//EN\"\n \"http://www.w3.org/Graphics/SVG/1.1/DTD/svg11.dtd\">\n<!-- Generated by graphviz version 2.43.0 (0)\n -->\n<!-- Title: %3 Pages: 1 -->\n<svg width=\"1192pt\" height=\"342pt\"\n viewBox=\"0.00 0.00 1192.00 342.00\" xmlns=\"http://www.w3.org/2000/svg\" xmlns:xlink=\"http://www.w3.org/1999/xlink\">\n<g id=\"graph0\" class=\"graph\" transform=\"scale(1 1) rotate(0) translate(4 338)\">\n<title>%3</title>\n<polygon fill=\"white\" stroke=\"transparent\" points=\"-4,4 -4,-338 1188,-338 1188,4 -4,4\"/>\n<!-- 136748313375744 -->\n<g id=\"node1\" class=\"node\">\n<title>136748313375744</title>\n<polygon fill=\"none\" stroke=\"black\" points=\"1049,-88.5 1049,-157.5 1184,-157.5 1184,-88.5 1049,-88.5\"/>\n<text text-anchor=\"middle\" x=\"1116.5\" y=\"-142.3\" font-family=\"Times,serif\" font-size=\"14.00\">o</text>\n<polyline fill=\"none\" stroke=\"black\" points=\"1049,-134.5 1184,-134.5 \"/>\n<text text-anchor=\"middle\" x=\"1116.5\" y=\"-119.3\" font-family=\"Times,serif\" font-size=\"14.00\">0.7071067811865476</text>\n<polyline fill=\"none\" stroke=\"black\" points=\"1049,-111.5 1184,-111.5 \"/>\n<text text-anchor=\"middle\" x=\"1116.5\" y=\"-96.3\" font-family=\"Times,serif\" font-size=\"14.00\">1.0</text>\n</g>\n<!-- 136748313375744tanh -->\n<g id=\"node2\" class=\"node\">\n<title>136748313375744tanh</title>\n<ellipse fill=\"none\" stroke=\"black\" cx=\"986\" cy=\"-123\" rx=\"27\" ry=\"18\"/>\n<text text-anchor=\"middle\" x=\"986\" y=\"-119.3\" font-family=\"Times,serif\" font-size=\"14.00\">tanh</text>\n</g>\n<!-- 136748313375744tanh&#45;&gt;136748313375744 -->\n<g id=\"edge1\" class=\"edge\">\n<title>136748313375744tanh&#45;&gt;136748313375744</title>\n<path fill=\"none\" stroke=\"black\" d=\"M1013,-123C1020.71,-123 1029.56,-123 1038.77,-123\"/>\n<polygon fill=\"black\" stroke=\"black\" points=\"1038.87,-126.5 1048.87,-123 1038.87,-119.5 1038.87,-126.5\"/>\n</g>\n<!-- 136748314808848 -->\n<g id=\"node3\" class=\"node\">\n<title>136748314808848</title>\n<polygon fill=\"none\" stroke=\"black\" points=\"266,-176.5 266,-245.5 401,-245.5 401,-176.5 266,-176.5\"/>\n<text text-anchor=\"middle\" x=\"333.5\" y=\"-230.3\" font-family=\"Times,serif\" font-size=\"14.00\">x2*w2</text>\n<polyline fill=\"none\" stroke=\"black\" points=\"266,-222.5 401,-222.5 \"/>\n<text text-anchor=\"middle\" x=\"333.5\" y=\"-207.3\" font-family=\"Times,serif\" font-size=\"14.00\">0.0</text>\n<polyline fill=\"none\" stroke=\"black\" points=\"266,-199.5 401,-199.5 \"/>\n<text text-anchor=\"middle\" x=\"333.5\" y=\"-184.3\" font-family=\"Times,serif\" font-size=\"14.00\">0.4999999999999999</text>\n</g>\n<!-- 136748314806832+ -->\n<g id=\"node6\" class=\"node\">\n<title>136748314806832+</title>\n<ellipse fill=\"none\" stroke=\"black\" cx=\"464\" cy=\"-167\" rx=\"27\" ry=\"18\"/>\n<text text-anchor=\"middle\" x=\"464\" y=\"-163.3\" font-family=\"Times,serif\" font-size=\"14.00\">+</text>\n</g>\n<!-- 136748314808848&#45;&gt;136748314806832+ -->\n<g id=\"edge12\" class=\"edge\">\n<title>136748314808848&#45;&gt;136748314806832+</title>\n<path fill=\"none\" stroke=\"black\" d=\"M401.01,-188.23C411.06,-184.78 421.05,-181.37 429.97,-178.31\"/>\n<polygon fill=\"black\" stroke=\"black\" points=\"431.21,-181.59 439.54,-175.03 428.94,-174.96 431.21,-181.59\"/>\n</g>\n<!-- 136748314808848* -->\n<g id=\"node4\" class=\"node\">\n<title>136748314808848*</title>\n<ellipse fill=\"none\" stroke=\"black\" cx=\"203\" cy=\"-211\" rx=\"27\" ry=\"18\"/>\n<text text-anchor=\"middle\" x=\"203\" y=\"-207.3\" font-family=\"Times,serif\" font-size=\"14.00\">*</text>\n</g>\n<!-- 136748314808848*&#45;&gt;136748314808848 -->\n<g id=\"edge2\" class=\"edge\">\n<title>136748314808848*&#45;&gt;136748314808848</title>\n<path fill=\"none\" stroke=\"black\" d=\"M230,-211C237.71,-211 246.56,-211 255.77,-211\"/>\n<polygon fill=\"black\" stroke=\"black\" points=\"255.87,-214.5 265.87,-211 255.87,-207.5 255.87,-214.5\"/>\n</g>\n<!-- 136748314806832 -->\n<g id=\"node5\" class=\"node\">\n<title>136748314806832</title>\n<polygon fill=\"none\" stroke=\"black\" points=\"527,-132.5 527,-201.5 662,-201.5 662,-132.5 527,-132.5\"/>\n<text text-anchor=\"middle\" x=\"594.5\" y=\"-186.3\" font-family=\"Times,serif\" font-size=\"14.00\">x1*w1 + x2*w2</text>\n<polyline fill=\"none\" stroke=\"black\" points=\"527,-178.5 662,-178.5 \"/>\n<text text-anchor=\"middle\" x=\"594.5\" y=\"-163.3\" font-family=\"Times,serif\" font-size=\"14.00\">&#45;6.0</text>\n<polyline fill=\"none\" stroke=\"black\" points=\"527,-155.5 662,-155.5 \"/>\n<text text-anchor=\"middle\" x=\"594.5\" y=\"-140.3\" font-family=\"Times,serif\" font-size=\"14.00\">0.4999999999999999</text>\n</g>\n<!-- 136748313367008+ -->\n<g id=\"node14\" class=\"node\">\n<title>136748313367008+</title>\n<ellipse fill=\"none\" stroke=\"black\" cx=\"725\" cy=\"-123\" rx=\"27\" ry=\"18\"/>\n<text text-anchor=\"middle\" x=\"725\" y=\"-119.3\" font-family=\"Times,serif\" font-size=\"14.00\">+</text>\n</g>\n<!-- 136748314806832&#45;&gt;136748313367008+ -->\n<g id=\"edge14\" class=\"edge\">\n<title>136748314806832&#45;&gt;136748313367008+</title>\n<path fill=\"none\" stroke=\"black\" d=\"M662.01,-144.23C672.06,-140.78 682.05,-137.37 690.97,-134.31\"/>\n<polygon fill=\"black\" stroke=\"black\" points=\"692.21,-137.59 700.54,-131.03 689.94,-130.96 692.21,-137.59\"/>\n</g>\n<!-- 136748314806832+&#45;&gt;136748314806832 -->\n<g id=\"edge3\" class=\"edge\">\n<title>136748314806832+&#45;&gt;136748314806832</title>\n<path fill=\"none\" stroke=\"black\" d=\"M491,-167C498.71,-167 507.56,-167 516.77,-167\"/>\n<polygon fill=\"black\" stroke=\"black\" points=\"516.87,-170.5 526.87,-167 516.87,-163.5 516.87,-170.5\"/>\n</g>\n<!-- 136748325486752 -->\n<g id=\"node7\" class=\"node\">\n<title>136748325486752</title>\n<polygon fill=\"none\" stroke=\"black\" points=\"266,-88.5 266,-157.5 401,-157.5 401,-88.5 266,-88.5\"/>\n<text text-anchor=\"middle\" x=\"333.5\" y=\"-142.3\" font-family=\"Times,serif\" font-size=\"14.00\">x1*w1</text>\n<polyline fill=\"none\" stroke=\"black\" points=\"266,-134.5 401,-134.5 \"/>\n<text text-anchor=\"middle\" x=\"333.5\" y=\"-119.3\" font-family=\"Times,serif\" font-size=\"14.00\">&#45;6.0</text>\n<polyline fill=\"none\" stroke=\"black\" points=\"266,-111.5 401,-111.5 \"/>\n<text text-anchor=\"middle\" x=\"333.5\" y=\"-96.3\" font-family=\"Times,serif\" font-size=\"14.00\">0.4999999999999999</text>\n</g>\n<!-- 136748325486752&#45;&gt;136748314806832+ -->\n<g id=\"edge13\" class=\"edge\">\n<title>136748325486752&#45;&gt;136748314806832+</title>\n<path fill=\"none\" stroke=\"black\" d=\"M401.01,-145.77C411.06,-149.22 421.05,-152.63 429.97,-155.69\"/>\n<polygon fill=\"black\" stroke=\"black\" points=\"428.94,-159.04 439.54,-158.97 431.21,-152.41 428.94,-159.04\"/>\n</g>\n<!-- 136748325486752* -->\n<g id=\"node8\" class=\"node\">\n<title>136748325486752*</title>\n<ellipse fill=\"none\" stroke=\"black\" cx=\"203\" cy=\"-123\" rx=\"27\" ry=\"18\"/>\n<text text-anchor=\"middle\" x=\"203\" y=\"-119.3\" font-family=\"Times,serif\" font-size=\"14.00\">*</text>\n</g>\n<!-- 136748325486752*&#45;&gt;136748325486752 -->\n<g id=\"edge4\" class=\"edge\">\n<title>136748325486752*&#45;&gt;136748325486752</title>\n<path fill=\"none\" stroke=\"black\" d=\"M230,-123C237.71,-123 246.56,-123 255.77,-123\"/>\n<polygon fill=\"black\" stroke=\"black\" points=\"255.87,-126.5 265.87,-123 255.87,-119.5 255.87,-126.5\"/>\n</g>\n<!-- 136748325499088 -->\n<g id=\"node9\" class=\"node\">\n<title>136748325499088</title>\n<polygon fill=\"none\" stroke=\"black\" points=\"0,-88.5 0,-157.5 140,-157.5 140,-88.5 0,-88.5\"/>\n<text text-anchor=\"middle\" x=\"70\" y=\"-142.3\" font-family=\"Times,serif\" font-size=\"14.00\">x1</text>\n<polyline fill=\"none\" stroke=\"black\" points=\"0,-134.5 140,-134.5 \"/>\n<text text-anchor=\"middle\" x=\"70\" y=\"-119.3\" font-family=\"Times,serif\" font-size=\"14.00\">2.0</text>\n<polyline fill=\"none\" stroke=\"black\" points=\"0,-111.5 140,-111.5 \"/>\n<text text-anchor=\"middle\" x=\"70\" y=\"-96.3\" font-family=\"Times,serif\" font-size=\"14.00\">&#45;1.4999999999999996</text>\n</g>\n<!-- 136748325499088&#45;&gt;136748325486752* -->\n<g id=\"edge8\" class=\"edge\">\n<title>136748325499088&#45;&gt;136748325486752*</title>\n<path fill=\"none\" stroke=\"black\" d=\"M140.34,-123C149.13,-123 157.82,-123 165.79,-123\"/>\n<polygon fill=\"black\" stroke=\"black\" points=\"165.8,-126.5 175.8,-123 165.8,-119.5 165.8,-126.5\"/>\n</g>\n<!-- 136748325494000 -->\n<g id=\"node10\" class=\"node\">\n<title>136748325494000</title>\n<polygon fill=\"none\" stroke=\"black\" points=\"527,-44.5 527,-113.5 662,-113.5 662,-44.5 527,-44.5\"/>\n<text text-anchor=\"middle\" x=\"594.5\" y=\"-98.3\" font-family=\"Times,serif\" font-size=\"14.00\">b</text>\n<polyline fill=\"none\" stroke=\"black\" points=\"527,-90.5 662,-90.5 \"/>\n<text text-anchor=\"middle\" x=\"594.5\" y=\"-75.3\" font-family=\"Times,serif\" font-size=\"14.00\">6.881373587019543</text>\n<polyline fill=\"none\" stroke=\"black\" points=\"527,-67.5 662,-67.5 \"/>\n<text text-anchor=\"middle\" x=\"594.5\" y=\"-52.3\" font-family=\"Times,serif\" font-size=\"14.00\">0.4999999999999999</text>\n</g>\n<!-- 136748325494000&#45;&gt;136748313367008+ -->\n<g id=\"edge7\" class=\"edge\">\n<title>136748325494000&#45;&gt;136748313367008+</title>\n<path fill=\"none\" stroke=\"black\" d=\"M662.01,-101.77C672.06,-105.22 682.05,-108.63 690.97,-111.69\"/>\n<polygon fill=\"black\" stroke=\"black\" points=\"689.94,-115.04 700.54,-114.97 692.21,-108.41 689.94,-115.04\"/>\n</g>\n<!-- 136748325487376 -->\n<g id=\"node11\" class=\"node\">\n<title>136748325487376</title>\n<polygon fill=\"none\" stroke=\"black\" points=\"2.5,-264.5 2.5,-333.5 137.5,-333.5 137.5,-264.5 2.5,-264.5\"/>\n<text text-anchor=\"middle\" x=\"70\" y=\"-318.3\" font-family=\"Times,serif\" font-size=\"14.00\">x2</text>\n<polyline fill=\"none\" stroke=\"black\" points=\"2.5,-310.5 137.5,-310.5 \"/>\n<text text-anchor=\"middle\" x=\"70\" y=\"-295.3\" font-family=\"Times,serif\" font-size=\"14.00\">0.0</text>\n<polyline fill=\"none\" stroke=\"black\" points=\"2.5,-287.5 137.5,-287.5 \"/>\n<text text-anchor=\"middle\" x=\"70\" y=\"-272.3\" font-family=\"Times,serif\" font-size=\"14.00\">0.4999999999999999</text>\n</g>\n<!-- 136748325487376&#45;&gt;136748314808848* -->\n<g id=\"edge11\" class=\"edge\">\n<title>136748325487376&#45;&gt;136748314808848*</title>\n<path fill=\"none\" stroke=\"black\" d=\"M125.78,-264.42C130.61,-261.27 135.4,-258.09 140,-255 151.84,-247.03 164.73,-237.95 175.68,-230.11\"/>\n<polygon fill=\"black\" stroke=\"black\" points=\"177.91,-232.82 183.99,-224.14 173.83,-227.13 177.91,-232.82\"/>\n</g>\n<!-- 136748325500768 -->\n<g id=\"node12\" class=\"node\">\n<title>136748325500768</title>\n<polygon fill=\"none\" stroke=\"black\" points=\"2.5,-0.5 2.5,-69.5 137.5,-69.5 137.5,-0.5 2.5,-0.5\"/>\n<text text-anchor=\"middle\" x=\"70\" y=\"-54.3\" font-family=\"Times,serif\" font-size=\"14.00\">w1</text>\n<polyline fill=\"none\" stroke=\"black\" points=\"2.5,-46.5 137.5,-46.5 \"/>\n<text text-anchor=\"middle\" x=\"70\" y=\"-31.3\" font-family=\"Times,serif\" font-size=\"14.00\">&#45;3.0</text>\n<polyline fill=\"none\" stroke=\"black\" points=\"2.5,-23.5 137.5,-23.5 \"/>\n<text text-anchor=\"middle\" x=\"70\" y=\"-8.3\" font-family=\"Times,serif\" font-size=\"14.00\">0.9999999999999998</text>\n</g>\n<!-- 136748325500768&#45;&gt;136748325486752* -->\n<g id=\"edge6\" class=\"edge\">\n<title>136748325500768&#45;&gt;136748325486752*</title>\n<path fill=\"none\" stroke=\"black\" d=\"M125.78,-69.58C130.61,-72.73 135.4,-75.91 140,-79 151.84,-86.97 164.73,-96.05 175.68,-103.89\"/>\n<polygon fill=\"black\" stroke=\"black\" points=\"173.83,-106.87 183.99,-109.86 177.91,-101.18 173.83,-106.87\"/>\n</g>\n<!-- 136748313367008 -->\n<g id=\"node13\" class=\"node\">\n<title>136748313367008</title>\n<polygon fill=\"none\" stroke=\"black\" points=\"788,-88.5 788,-157.5 923,-157.5 923,-88.5 788,-88.5\"/>\n<text text-anchor=\"middle\" x=\"855.5\" y=\"-142.3\" font-family=\"Times,serif\" font-size=\"14.00\">n</text>\n<polyline fill=\"none\" stroke=\"black\" points=\"788,-134.5 923,-134.5 \"/>\n<text text-anchor=\"middle\" x=\"855.5\" y=\"-119.3\" font-family=\"Times,serif\" font-size=\"14.00\">0.8813735870195432</text>\n<polyline fill=\"none\" stroke=\"black\" points=\"788,-111.5 923,-111.5 \"/>\n<text text-anchor=\"middle\" x=\"855.5\" y=\"-96.3\" font-family=\"Times,serif\" font-size=\"14.00\">0.4999999999999999</text>\n</g>\n<!-- 136748313367008&#45;&gt;136748313375744tanh -->\n<g id=\"edge10\" class=\"edge\">\n<title>136748313367008&#45;&gt;136748313375744tanh</title>\n<path fill=\"none\" stroke=\"black\" d=\"M923.01,-123C931.87,-123 940.66,-123 948.73,-123\"/>\n<polygon fill=\"black\" stroke=\"black\" points=\"948.86,-126.5 958.86,-123 948.86,-119.5 948.86,-126.5\"/>\n</g>\n<!-- 136748313367008+&#45;&gt;136748313367008 -->\n<g id=\"edge5\" class=\"edge\">\n<title>136748313367008+&#45;&gt;136748313367008</title>\n<path fill=\"none\" stroke=\"black\" d=\"M752,-123C759.71,-123 768.56,-123 777.77,-123\"/>\n<polygon fill=\"black\" stroke=\"black\" points=\"777.87,-126.5 787.87,-123 777.87,-119.5 777.87,-126.5\"/>\n</g>\n<!-- 136748325496304 -->\n<g id=\"node15\" class=\"node\">\n<title>136748325496304</title>\n<polygon fill=\"none\" stroke=\"black\" points=\"43,-176.5 43,-245.5 97,-245.5 97,-176.5 43,-176.5\"/>\n<text text-anchor=\"middle\" x=\"70\" y=\"-230.3\" font-family=\"Times,serif\" font-size=\"14.00\">w2</text>\n<polyline fill=\"none\" stroke=\"black\" points=\"43,-222.5 97,-222.5 \"/>\n<text text-anchor=\"middle\" x=\"70\" y=\"-207.3\" font-family=\"Times,serif\" font-size=\"14.00\">1.0</text>\n<polyline fill=\"none\" stroke=\"black\" points=\"43,-199.5 97,-199.5 \"/>\n<text text-anchor=\"middle\" x=\"70\" y=\"-184.3\" font-family=\"Times,serif\" font-size=\"14.00\">0.0</text>\n</g>\n<!-- 136748325496304&#45;&gt;136748314808848* -->\n<g id=\"edge9\" class=\"edge\">\n<title>136748325496304&#45;&gt;136748314808848*</title>\n<path fill=\"none\" stroke=\"black\" d=\"M97.19,-211C116.83,-211 143.94,-211 165.67,-211\"/>\n<polygon fill=\"black\" stroke=\"black\" points=\"165.85,-214.5 175.85,-211 165.85,-207.5 165.85,-214.5\"/>\n</g>\n</g>\n</svg>\n",
            "text/plain": [
              "<graphviz.graphs.Digraph at 0x7c5f335d7b50>"
            ]
          },
          "metadata": {},
          "execution_count": 70
        }
      ]
    },
    {
      "cell_type": "code",
      "source": [
        " # doing this in modern way i.e. pytorch\n",
        " import torch\n",
        "\n",
        " x1 = torch.Tensor([2.0]).double(); x1.requires_grad = True\n",
        " x2 = torch.Tensor([0.0]).double(); x2.requires_grad = True\n",
        "\n",
        " w1 = torch.Tensor([-3.0]).double(); w1.requires_grad = True\n",
        " w2 = torch.Tensor([1.0]).double(); w2.requires_grad = True\n",
        "\n",
        " b = torch.Tensor([6.8813735870195432]).double(); b.requires_grad = True\n",
        "\n",
        " n = x1*w1 + x2*w2 + b\n",
        " o = torch.tanh(n)\n",
        "\n",
        " print(o.data.item())\n",
        " o.backward()\n",
        "\n",
        " print('---')\n",
        " print('x2', x2.grad.item())\n",
        " print('w2', w2.grad.item())\n",
        " print('x1', x1.grad.item())\n",
        " print('w1', w1.grad.item())"
      ],
      "metadata": {
        "colab": {
          "base_uri": "https://localhost:8080/"
        },
        "id": "ojQ9C189aQ8L",
        "outputId": "ccaa0f57-65d0-4169-a54c-54584767be06"
      },
      "execution_count": 72,
      "outputs": [
        {
          "output_type": "stream",
          "name": "stdout",
          "text": [
            "0.7071066904050358\n",
            "---\n",
            "x2 0.5000001283844369\n",
            "w2 0.0\n",
            "x1 -1.5000003851533106\n",
            "w1 1.0000002567688737\n"
          ]
        }
      ]
    },
    {
      "cell_type": "code",
      "source": [],
      "metadata": {
        "id": "RqsMH1aYdMS9"
      },
      "execution_count": null,
      "outputs": []
    }
  ]
}