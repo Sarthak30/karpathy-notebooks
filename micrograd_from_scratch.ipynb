{
  "nbformat": 4,
  "nbformat_minor": 0,
  "metadata": {
    "colab": {
      "provenance": [],
      "authorship_tag": "ABX9TyNn1aTQZuu4wUG0zm7nXRNY"
    },
    "kernelspec": {
      "name": "python3",
      "display_name": "Python 3"
    },
    "language_info": {
      "name": "python"
    }
  },
  "cells": [
    {
      "cell_type": "code",
      "execution_count": 1,
      "metadata": {
        "id": "lPBG4q5FfqvD"
      },
      "outputs": [],
      "source": [
        "import math\n",
        "import numpy as np\n",
        "import matplotlib.pyplot as plt\n",
        "%matplotlib inline"
      ]
    },
    {
      "cell_type": "code",
      "source": [
        "def f(x):\n",
        "  return 3*x**2 - 4*x + 5"
      ],
      "metadata": {
        "id": "Gx7olnpef72f"
      },
      "execution_count": 2,
      "outputs": []
    },
    {
      "cell_type": "code",
      "source": [
        "f(3.0)"
      ],
      "metadata": {
        "colab": {
          "base_uri": "https://localhost:8080/"
        },
        "id": "TI1e2-b6gI26",
        "outputId": "c40bdd53-8d68-446c-a863-cac0cd7587e3"
      },
      "execution_count": 3,
      "outputs": [
        {
          "output_type": "execute_result",
          "data": {
            "text/plain": [
              "20.0"
            ]
          },
          "metadata": {},
          "execution_count": 3
        }
      ]
    },
    {
      "cell_type": "code",
      "source": [
        "# generate numbers from -5 to 5 (not including) with step size of 0.25\n",
        "xs = np.arange(-5, 5, 0.25)\n",
        "xs"
      ],
      "metadata": {
        "colab": {
          "base_uri": "https://localhost:8080/"
        },
        "id": "TLDigy_kgKGX",
        "outputId": "745d50eb-a0c5-4f45-d8dd-170999865de9"
      },
      "execution_count": 4,
      "outputs": [
        {
          "output_type": "execute_result",
          "data": {
            "text/plain": [
              "array([-5.  , -4.75, -4.5 , -4.25, -4.  , -3.75, -3.5 , -3.25, -3.  ,\n",
              "       -2.75, -2.5 , -2.25, -2.  , -1.75, -1.5 , -1.25, -1.  , -0.75,\n",
              "       -0.5 , -0.25,  0.  ,  0.25,  0.5 ,  0.75,  1.  ,  1.25,  1.5 ,\n",
              "        1.75,  2.  ,  2.25,  2.5 ,  2.75,  3.  ,  3.25,  3.5 ,  3.75,\n",
              "        4.  ,  4.25,  4.5 ,  4.75])"
            ]
          },
          "metadata": {},
          "execution_count": 4
        }
      ]
    },
    {
      "cell_type": "code",
      "source": [
        "# apply function to generated value\n",
        "ys = f(xs)\n",
        "ys"
      ],
      "metadata": {
        "colab": {
          "base_uri": "https://localhost:8080/"
        },
        "id": "ayzsv_VwgSCh",
        "outputId": "550ff6e0-6501-4542-b57b-f46b4a8c6c04"
      },
      "execution_count": 5,
      "outputs": [
        {
          "output_type": "execute_result",
          "data": {
            "text/plain": [
              "array([100.    ,  91.6875,  83.75  ,  76.1875,  69.    ,  62.1875,\n",
              "        55.75  ,  49.6875,  44.    ,  38.6875,  33.75  ,  29.1875,\n",
              "        25.    ,  21.1875,  17.75  ,  14.6875,  12.    ,   9.6875,\n",
              "         7.75  ,   6.1875,   5.    ,   4.1875,   3.75  ,   3.6875,\n",
              "         4.    ,   4.6875,   5.75  ,   7.1875,   9.    ,  11.1875,\n",
              "        13.75  ,  16.6875,  20.    ,  23.6875,  27.75  ,  32.1875,\n",
              "        37.    ,  42.1875,  47.75  ,  53.6875])"
            ]
          },
          "metadata": {},
          "execution_count": 5
        }
      ]
    },
    {
      "cell_type": "code",
      "source": [
        "# plot x and y\n",
        "plt.plot(xs, ys)\n",
        "# we basically get a parabola. Parabolas are defined as the graph of equations\n",
        "# of the form y = ax^2 + bx + c,"
      ],
      "metadata": {
        "colab": {
          "base_uri": "https://localhost:8080/",
          "height": 447
        },
        "id": "AAoASKZ0gb8B",
        "outputId": "c9439e46-0320-41de-cf57-f81cf7542a77"
      },
      "execution_count": 6,
      "outputs": [
        {
          "output_type": "execute_result",
          "data": {
            "text/plain": [
              "[<matplotlib.lines.Line2D at 0x7c5f32c9cbb0>]"
            ]
          },
          "metadata": {},
          "execution_count": 6
        },
        {
          "output_type": "display_data",
          "data": {
            "text/plain": [
              "<Figure size 640x480 with 1 Axes>"
            ],
            "image/png": "[encoded data removed]"
          },
          "metadata": {}
        }
      ]
    },
    {
      "cell_type": "code",
      "source": [
        "# Derivatives. We can't use things like product rules to differentiate equations.\n",
        "# What is derivate. It is slope at given point i.e.\n",
        "# how will the value change with very small nudge.\n",
        "h = 0.00000001\n",
        "x = 3.0\n",
        "(f(x+h) - f(x)) / h"
      ],
      "metadata": {
        "colab": {
          "base_uri": "https://localhost:8080/"
        },
        "id": "-oxEG69Agfch",
        "outputId": "b2fe3406-d4e8-4bfd-a3e9-798437f10ef3"
      },
      "execution_count": 7,
      "outputs": [
        {
          "output_type": "execute_result",
          "data": {
            "text/plain": [
              "14.00000009255109"
            ]
          },
          "metadata": {},
          "execution_count": 7
        }
      ]
    },
    {
      "cell_type": "code",
      "source": [
        "h = 0.00000001\n",
        "x = -3.0\n",
        "(f(x+h) - f(x)) / h"
      ],
      "metadata": {
        "colab": {
          "base_uri": "https://localhost:8080/"
        },
        "id": "-R_4g_b7g-zr",
        "outputId": "b2fa25ee-9ad2-472b-fd25-fa2e98896515"
      },
      "execution_count": 8,
      "outputs": [
        {
          "output_type": "execute_result",
          "data": {
            "text/plain": [
              "-22.00000039920269"
            ]
          },
          "metadata": {},
          "execution_count": 8
        }
      ]
    },
    {
      "cell_type": "code",
      "source": [
        "# slope is zero i.e. line is parallel\n",
        "h = 0.00000001\n",
        "x = 2/3\n",
        "(f(x+h) - f(x)) / h"
      ],
      "metadata": {
        "colab": {
          "base_uri": "https://localhost:8080/"
        },
        "id": "MvRnHPgehbSd",
        "outputId": "36d9e769-b37e-4ab3-8e66-6e31cbf09070"
      },
      "execution_count": 9,
      "outputs": [
        {
          "output_type": "execute_result",
          "data": {
            "text/plain": [
              "0.0"
            ]
          },
          "metadata": {},
          "execution_count": 9
        }
      ]
    },
    {
      "cell_type": "code",
      "source": [
        "a = 2.0\n",
        "b = -3.0\n",
        "c = 10.0\n",
        "d = a*b + c\n",
        "print(d)"
      ],
      "metadata": {
        "colab": {
          "base_uri": "https://localhost:8080/"
        },
        "id": "BXzbauDdhdfO",
        "outputId": "680f03e0-fb56-4bc2-addf-78309bd7ef7a"
      },
      "execution_count": 10,
      "outputs": [
        {
          "output_type": "stream",
          "name": "stdout",
          "text": [
            "4.0\n"
          ]
        }
      ]
    },
    {
      "cell_type": "code",
      "source": [
        "# let us again look at derivates wrt a, b, c"
      ],
      "metadata": {
        "id": "6IvgUm9rikWa"
      },
      "execution_count": 11,
      "outputs": []
    },
    {
      "cell_type": "code",
      "source": [
        "h = 0.0001\n",
        "\n",
        "# inputs\n",
        "a = 2.0\n",
        "b = -3.0\n",
        "c = 10.0\n",
        "\n",
        "d1 = a*b + c\n",
        "a += h\n",
        "d2 = a*b + c\n",
        "\n",
        "print('d1: {}'.format(d1))\n",
        "# think if d2 is more or less than d1. this will tell us sign of derivative\n",
        "print('d2: {}'.format(d2))\n",
        "print('slope: {}'.format((d2 - d1) / h))\n",
        "\n",
        "# how to read it:\n",
        "# (d2 - d1) is how much did it marginally moved\n",
        "# remember h is tending to zero.\n",
        "# and then we divide by h (again tending to zero) to normalise\n",
        "# If we differentiate it mathermatically; we are left with 'b' with is -3"
      ],
      "metadata": {
        "colab": {
          "base_uri": "https://localhost:8080/"
        },
        "id": "Efnlw290itJx",
        "outputId": "c69245e1-6818-40aa-b633-b243923583f6"
      },
      "execution_count": 12,
      "outputs": [
        {
          "output_type": "stream",
          "name": "stdout",
          "text": [
            "d1: 4.0\n",
            "d2: 3.999699999999999\n",
            "slope: -3.000000000010772\n"
          ]
        }
      ]
    },
    {
      "cell_type": "code",
      "source": [
        "# let us try differentiating it wrt b\n",
        "\n",
        "h = 0.0001\n",
        "\n",
        "# inputs\n",
        "a = 2.0\n",
        "b = -3.0\n",
        "c = 10.0\n",
        "\n",
        "d1 = a*b + c\n",
        "b += h\n",
        "d2 = a*b + c\n",
        "\n",
        "print('d1: {}'.format(d1))\n",
        "# think if d2 is more or less than d1. this will tell us sign of derivative\n",
        "print('d2: {}'.format(d2))\n",
        "print('slope: {}'.format((d2 - d1) / h))"
      ],
      "metadata": {
        "colab": {
          "base_uri": "https://localhost:8080/"
        },
        "id": "L0-PRQnIjMCF",
        "outputId": "1f0e716d-9789-43cc-9cb1-3b468868cbeb"
      },
      "execution_count": 13,
      "outputs": [
        {
          "output_type": "stream",
          "name": "stdout",
          "text": [
            "d1: 4.0\n",
            "d2: 4.0002\n",
            "slope: 2.0000000000042206\n"
          ]
        }
      ]
    },
    {
      "cell_type": "code",
      "source": [
        "# let us try differentiating it wrt c\n",
        "\n",
        "h = 0.0001\n",
        "\n",
        "# inputs\n",
        "a = 2.0\n",
        "b = -3.0\n",
        "c = 10.0\n",
        "\n",
        "d1 = a*b + c\n",
        "c += h\n",
        "d2 = a*b + c\n",
        "\n",
        "print('d1: {}'.format(d1))\n",
        "# think if d2 is more or less than d1. this will tell us sign of derivative\n",
        "print('d2: {}'.format(d2))\n",
        "print('slope: {}'.format((d2 - d1) / h))"
      ],
      "metadata": {
        "colab": {
          "base_uri": "https://localhost:8080/"
        },
        "id": "XbfLKieOkKcG",
        "outputId": "7040bb6d-e25b-482e-9fbd-87d7bdb7b6bc"
      },
      "execution_count": 14,
      "outputs": [
        {
          "output_type": "stream",
          "name": "stdout",
          "text": [
            "d1: 4.0\n",
            "d2: 4.0001\n",
            "slope: 0.9999999999976694\n"
          ]
        }
      ]
    },
    {
      "cell_type": "code",
      "source": [
        "# To build a neural network (NN), we need a data structure\n",
        "# Since, we would be doing derivative i.e. backpropagation a lot\n",
        "\n",
        "class Value:\n",
        "\n",
        "  def __init__(self, data, _children = (), _op = '', label = ''):\n",
        "    self.data = data\n",
        "    self._prev = set(_children)\n",
        "    self._op = _op\n",
        "    self.label = label\n",
        "\n",
        "  def __repr__(self):\n",
        "    return \"Value(data={})\".format(self.data)\n",
        "\n",
        "  # after showing __repr__ let us show add\n",
        "  def __add__(self, other):\n",
        "    return Value(self.data + other.data, (self, other), '+')\n",
        "\n",
        "  def __mul__(self, other):\n",
        "    return Value(self.data * other.data, (self, other), '*')\n",
        "\n",
        "a = Value(2, label = 'a')\n",
        "b = Value(-3, label = 'b')\n",
        "c = Value(10.0, label = 'c')\n",
        "# a, b\n",
        "# a + b # this will internally call a.__add__(b)\n",
        "# a * b\n",
        "# a * b + c # we implemented the expression from above cell\n",
        "# d = a*b + c\n",
        "# d\n",
        "# e = a * b; e.label = 'e'\n",
        "# d = c + e; d.label = 'd'\n",
        "# d\n",
        "\n",
        "e = a * b; e.label = 'e'\n",
        "d = c + e; d.label = 'd'\n",
        "f = Value(-2, label = 'f')\n",
        "L = d * f; L.label = 'L'\n",
        "L"
      ],
      "metadata": {
        "colab": {
          "base_uri": "https://localhost:8080/"
        },
        "id": "-2NxtL_2kXSq",
        "outputId": "2de131a7-96cf-4559-87d3-bc714ee3eb56"
      },
      "execution_count": 15,
      "outputs": [
        {
          "output_type": "execute_result",
          "data": {
            "text/plain": [
              "Value(data=-8.0)"
            ]
          },
          "metadata": {},
          "execution_count": 15
        }
      ]
    },
    {
      "cell_type": "code",
      "source": [
        "d._prev, d._op, d.label"
      ],
      "metadata": {
        "colab": {
          "base_uri": "https://localhost:8080/"
        },
        "id": "U5ILsYwHk4oH",
        "outputId": "85adf5ae-8630-45c5-fc4e-86e61e896b4b"
      },
      "execution_count": 16,
      "outputs": [
        {
          "output_type": "execute_result",
          "data": {
            "text/plain": [
              "({Value(data=-6), Value(data=10.0)}, '+', 'd')"
            ]
          },
          "metadata": {},
          "execution_count": 16
        }
      ]
    },
    {
      "cell_type": "code",
      "source": [
        "from graphviz import Digraph\n",
        "\n",
        "def trace(root):\n",
        "  nodes, edges = set(), set()\n",
        "  def build(v):\n",
        "    if v not in nodes:\n",
        "      nodes.add(v)\n",
        "      for child in v._prev:\n",
        "        edges.add((child, v))\n",
        "        build(child)\n",
        "  build(root)\n",
        "  return nodes, edges\n",
        "\n",
        "def draw_dot(root):\n",
        "  dot = Digraph(format='svg', graph_attr={'rankdir': 'LR'})\n",
        "  nodes, edges = trace(root)\n",
        "  for n in nodes:\n",
        "    uid = str(id(n))\n",
        "    dot.node(name = uid, label = \"{} | {}\".format(n.label, n.data), shape = 'record')\n",
        "    if n._op:\n",
        "      dot.node(name = uid + n._op, label = n._op)\n",
        "      dot.edge(uid + n._op, uid)\n",
        "\n",
        "  for n1, n2 in edges:\n",
        "    dot.edge(str(id(n1)), str(id(n2)) + n2._op)\n",
        "\n",
        "  return dot"
      ],
      "metadata": {
        "id": "kMD0ccyrm0EU"
      },
      "execution_count": 17,
      "outputs": []
    },
    {
      "cell_type": "code",
      "source": [
        "draw_dot(L)\n",
        "# this is visualising forward pass where value turns out to be -8"
      ],
      "metadata": {
        "colab": {
          "base_uri": "https://localhost:8080/",
          "height": 267
        },
        "id": "Zib0U9vXnHnj",
        "outputId": "3c0c4a6b-bb25-4f04-b54d-fb9407452310"
      },
      "execution_count": 18,
      "outputs": [
        {
          "output_type": "execute_result",
          "data": {
            "image/svg+xml": "<?xml version=\"1.0\" encoding=\"UTF-8\" standalone=\"no\"?>\n<!DOCTYPE svg PUBLIC \"-//W3C//DTD SVG 1.1//EN\"\n \"http://www.w3.org/Graphics/SVG/1.1/DTD/svg11.dtd\">\n<!-- Generated by graphviz version 2.43.0 (0)\n -->\n<!-- Title: %3 Pages: 1 -->\n<svg width=\"602pt\" height=\"184pt\"\n viewBox=\"0.00 0.00 602.00 184.00\" xmlns=\"http://www.w3.org/2000/svg\" xmlns:xlink=\"http://www.w3.org/1999/xlink\">\n<g id=\"graph0\" class=\"graph\" transform=\"scale(1 1) rotate(0) translate(4 180)\">\n<title>%3</title>\n<polygon fill=\"white\" stroke=\"transparent\" points=\"-4,4 -4,-180 598,-180 598,4 -4,4\"/>\n<!-- 136748325499472 -->\n<g id=\"node1\" class=\"node\">\n<title>136748325499472</title>\n<polygon fill=\"none\" stroke=\"black\" points=\"360,-64.5 360,-110.5 414,-110.5 414,-64.5 360,-64.5\"/>\n<text text-anchor=\"middle\" x=\"387\" y=\"-95.3\" font-family=\"Times,serif\" font-size=\"14.00\">d</text>\n<polyline fill=\"none\" stroke=\"black\" points=\"360,-87.5 414,-87.5 \"/>\n<text text-anchor=\"middle\" x=\"387\" y=\"-72.3\" font-family=\"Times,serif\" font-size=\"14.00\">4.0</text>\n</g>\n<!-- 136748325494144* -->\n<g id=\"node7\" class=\"node\">\n<title>136748325494144*</title>\n<ellipse fill=\"none\" stroke=\"black\" cx=\"477\" cy=\"-119.5\" rx=\"27\" ry=\"18\"/>\n<text text-anchor=\"middle\" x=\"477\" y=\"-115.8\" font-family=\"Times,serif\" font-size=\"14.00\">*</text>\n</g>\n<!-- 136748325499472&#45;&gt;136748325494144* -->\n<g id=\"edge5\" class=\"edge\">\n<title>136748325499472&#45;&gt;136748325494144*</title>\n<path fill=\"none\" stroke=\"black\" d=\"M414.4,-97.1C423.5,-100.41 433.79,-104.15 443.32,-107.62\"/>\n<polygon fill=\"black\" stroke=\"black\" points=\"442.3,-110.97 452.9,-111.1 444.7,-104.39 442.3,-110.97\"/>\n</g>\n<!-- 136748325499472+ -->\n<g id=\"node2\" class=\"node\">\n<title>136748325499472+</title>\n<ellipse fill=\"none\" stroke=\"black\" cx=\"297\" cy=\"-87.5\" rx=\"27\" ry=\"18\"/>\n<text text-anchor=\"middle\" x=\"297\" y=\"-83.8\" font-family=\"Times,serif\" font-size=\"14.00\">+</text>\n</g>\n<!-- 136748325499472+&#45;&gt;136748325499472 -->\n<g id=\"edge1\" class=\"edge\">\n<title>136748325499472+&#45;&gt;136748325499472</title>\n<path fill=\"none\" stroke=\"black\" d=\"M324.4,-87.5C332.39,-87.5 341.31,-87.5 349.82,-87.5\"/>\n<polygon fill=\"black\" stroke=\"black\" points=\"349.92,-91 359.92,-87.5 349.92,-84 349.92,-91\"/>\n</g>\n<!-- 136748325489296 -->\n<g id=\"node3\" class=\"node\">\n<title>136748325489296</title>\n<polygon fill=\"none\" stroke=\"black\" points=\"360,-129.5 360,-175.5 414,-175.5 414,-129.5 360,-129.5\"/>\n<text text-anchor=\"middle\" x=\"387\" y=\"-160.3\" font-family=\"Times,serif\" font-size=\"14.00\">f</text>\n<polyline fill=\"none\" stroke=\"black\" points=\"360,-152.5 414,-152.5 \"/>\n<text text-anchor=\"middle\" x=\"387\" y=\"-137.3\" font-family=\"Times,serif\" font-size=\"14.00\">&#45;2</text>\n</g>\n<!-- 136748325489296&#45;&gt;136748325494144* -->\n<g id=\"edge6\" class=\"edge\">\n<title>136748325489296&#45;&gt;136748325494144*</title>\n<path fill=\"none\" stroke=\"black\" d=\"M414.4,-142.6C423.57,-139.16 433.96,-135.27 443.56,-131.67\"/>\n<polygon fill=\"black\" stroke=\"black\" points=\"445.06,-134.84 453.19,-128.05 442.6,-128.29 445.06,-134.84\"/>\n</g>\n<!-- 136748325487328 -->\n<g id=\"node4\" class=\"node\">\n<title>136748325487328</title>\n<polygon fill=\"none\" stroke=\"black\" points=\"180,-97.5 180,-143.5 234,-143.5 234,-97.5 180,-97.5\"/>\n<text text-anchor=\"middle\" x=\"207\" y=\"-128.3\" font-family=\"Times,serif\" font-size=\"14.00\">c</text>\n<polyline fill=\"none\" stroke=\"black\" points=\"180,-120.5 234,-120.5 \"/>\n<text text-anchor=\"middle\" x=\"207\" y=\"-105.3\" font-family=\"Times,serif\" font-size=\"14.00\">10.0</text>\n</g>\n<!-- 136748325487328&#45;&gt;136748325499472+ -->\n<g id=\"edge9\" class=\"edge\">\n<title>136748325487328&#45;&gt;136748325499472+</title>\n<path fill=\"none\" stroke=\"black\" d=\"M234.4,-110.6C243.57,-107.16 253.96,-103.27 263.56,-99.67\"/>\n<polygon fill=\"black\" stroke=\"black\" points=\"265.06,-102.84 273.19,-96.05 262.6,-96.29 265.06,-102.84\"/>\n</g>\n<!-- 136748325490976 -->\n<g id=\"node5\" class=\"node\">\n<title>136748325490976</title>\n<polygon fill=\"none\" stroke=\"black\" points=\"0,-65.5 0,-111.5 54,-111.5 54,-65.5 0,-65.5\"/>\n<text text-anchor=\"middle\" x=\"27\" y=\"-96.3\" font-family=\"Times,serif\" font-size=\"14.00\">b</text>\n<polyline fill=\"none\" stroke=\"black\" points=\"0,-88.5 54,-88.5 \"/>\n<text text-anchor=\"middle\" x=\"27\" y=\"-73.3\" font-family=\"Times,serif\" font-size=\"14.00\">&#45;3</text>\n</g>\n<!-- 136748325488048* -->\n<g id=\"node9\" class=\"node\">\n<title>136748325488048*</title>\n<ellipse fill=\"none\" stroke=\"black\" cx=\"117\" cy=\"-55.5\" rx=\"27\" ry=\"18\"/>\n<text text-anchor=\"middle\" x=\"117\" y=\"-51.8\" font-family=\"Times,serif\" font-size=\"14.00\">*</text>\n</g>\n<!-- 136748325490976&#45;&gt;136748325488048* -->\n<g id=\"edge7\" class=\"edge\">\n<title>136748325490976&#45;&gt;136748325488048*</title>\n<path fill=\"none\" stroke=\"black\" d=\"M54.4,-78.6C63.57,-75.16 73.96,-71.27 83.56,-67.67\"/>\n<polygon fill=\"black\" stroke=\"black\" points=\"85.06,-70.84 93.19,-64.05 82.6,-64.29 85.06,-70.84\"/>\n</g>\n<!-- 136748325494144 -->\n<g id=\"node6\" class=\"node\">\n<title>136748325494144</title>\n<polygon fill=\"none\" stroke=\"black\" points=\"540,-96.5 540,-142.5 594,-142.5 594,-96.5 540,-96.5\"/>\n<text text-anchor=\"middle\" x=\"567\" y=\"-127.3\" font-family=\"Times,serif\" font-size=\"14.00\">L</text>\n<polyline fill=\"none\" stroke=\"black\" points=\"540,-119.5 594,-119.5 \"/>\n<text text-anchor=\"middle\" x=\"567\" y=\"-104.3\" font-family=\"Times,serif\" font-size=\"14.00\">&#45;8.0</text>\n</g>\n<!-- 136748325494144*&#45;&gt;136748325494144 -->\n<g id=\"edge2\" class=\"edge\">\n<title>136748325494144*&#45;&gt;136748325494144</title>\n<path fill=\"none\" stroke=\"black\" d=\"M504.4,-119.5C512.39,-119.5 521.31,-119.5 529.82,-119.5\"/>\n<polygon fill=\"black\" stroke=\"black\" points=\"529.92,-123 539.92,-119.5 529.92,-116 529.92,-123\"/>\n</g>\n<!-- 136748325488048 -->\n<g id=\"node8\" class=\"node\">\n<title>136748325488048</title>\n<polygon fill=\"none\" stroke=\"black\" points=\"180,-32.5 180,-78.5 234,-78.5 234,-32.5 180,-32.5\"/>\n<text text-anchor=\"middle\" x=\"207\" y=\"-63.3\" font-family=\"Times,serif\" font-size=\"14.00\">e</text>\n<polyline fill=\"none\" stroke=\"black\" points=\"180,-55.5 234,-55.5 \"/>\n<text text-anchor=\"middle\" x=\"207\" y=\"-40.3\" font-family=\"Times,serif\" font-size=\"14.00\">&#45;6</text>\n</g>\n<!-- 136748325488048&#45;&gt;136748325499472+ -->\n<g id=\"edge4\" class=\"edge\">\n<title>136748325488048&#45;&gt;136748325499472+</title>\n<path fill=\"none\" stroke=\"black\" d=\"M234.4,-65.1C243.5,-68.41 253.79,-72.15 263.32,-75.62\"/>\n<polygon fill=\"black\" stroke=\"black\" points=\"262.3,-78.97 272.9,-79.1 264.7,-72.39 262.3,-78.97\"/>\n</g>\n<!-- 136748325488048*&#45;&gt;136748325488048 -->\n<g id=\"edge3\" class=\"edge\">\n<title>136748325488048*&#45;&gt;136748325488048</title>\n<path fill=\"none\" stroke=\"black\" d=\"M144.4,-55.5C152.39,-55.5 161.31,-55.5 169.82,-55.5\"/>\n<polygon fill=\"black\" stroke=\"black\" points=\"169.92,-59 179.92,-55.5 169.92,-52 169.92,-59\"/>\n</g>\n<!-- 136748325502928 -->\n<g id=\"node10\" class=\"node\">\n<title>136748325502928</title>\n<polygon fill=\"none\" stroke=\"black\" points=\"0,-0.5 0,-46.5 54,-46.5 54,-0.5 0,-0.5\"/>\n<text text-anchor=\"middle\" x=\"27\" y=\"-31.3\" font-family=\"Times,serif\" font-size=\"14.00\">a</text>\n<polyline fill=\"none\" stroke=\"black\" points=\"0,-23.5 54,-23.5 \"/>\n<text text-anchor=\"middle\" x=\"27\" y=\"-8.3\" font-family=\"Times,serif\" font-size=\"14.00\">2</text>\n</g>\n<!-- 136748325502928&#45;&gt;136748325488048* -->\n<g id=\"edge8\" class=\"edge\">\n<title>136748325502928&#45;&gt;136748325488048*</title>\n<path fill=\"none\" stroke=\"black\" d=\"M54.4,-33.1C63.5,-36.41 73.79,-40.15 83.32,-43.62\"/>\n<polygon fill=\"black\" stroke=\"black\" points=\"82.3,-46.97 92.9,-47.1 84.7,-40.39 82.3,-46.97\"/>\n</g>\n</g>\n</svg>\n",
            "text/plain": [
              "<graphviz.graphs.Digraph at 0x7c5f335b46a0>"
            ]
          },
          "metadata": {},
          "execution_count": 18
        }
      ]
    },
    {
      "cell_type": "code",
      "source": [
        "# Now we want to run backpropagation (back pass) i.e. finding derivate at each node wrt L\n",
        "# we will create a new variable called 'grad'.\n",
        "# It defaults to zero i.e. it has no change at all\n",
        "class Value:\n",
        "\n",
        "  def __init__(self, data, _children = (), _op = '', label = ''):\n",
        "    self.data = data\n",
        "    self.grad = 0.0\n",
        "    self._prev = set(_children)\n",
        "    self._op = _op\n",
        "    self.label = label\n",
        "\n",
        "  def __repr__(self):\n",
        "    return \"Value(data={})\".format(self.data)\n",
        "\n",
        "  # after showing __repr__ let us show add\n",
        "  def __add__(self, other):\n",
        "    return Value(self.data + other.data, (self, other), '+')\n",
        "\n",
        "  def __mul__(self, other):\n",
        "    return Value(self.data * other.data, (self, other), '*')\n",
        "\n",
        "  # add this function when doing NN\n",
        "  def tanh(self):\n",
        "    x = self.data\n",
        "    t = (math.exp(2*x) - 1) / (math.exp(2*x) + 1) # look at wikipedia to verify\n",
        "    out = Value(t, (self, ), 'tanh')\n",
        "    return out"
      ],
      "metadata": {
        "id": "MRJwDOL0nqYH"
      },
      "execution_count": 19,
      "outputs": []
    },
    {
      "cell_type": "code",
      "source": [
        "from graphviz import Digraph\n",
        "\n",
        "def trace(root):\n",
        "  nodes, edges = set(), set()\n",
        "  def build(v):\n",
        "    if v not in nodes:\n",
        "      nodes.add(v)\n",
        "      for child in v._prev:\n",
        "        edges.add((child, v))\n",
        "        build(child)\n",
        "  build(root)\n",
        "  return nodes, edges\n",
        "\n",
        "def draw_dot(root):\n",
        "  dot = Digraph(format='svg', graph_attr={'rankdir': 'LR'})\n",
        "  nodes, edges = trace(root)\n",
        "  for n in nodes:\n",
        "    uid = str(id(n))\n",
        "    dot.node(name = uid, label = \"{} | {} | {}\".format(n.label, n.data, n.grad), shape = 'record')\n",
        "    if n._op:\n",
        "      dot.node(name = uid + n._op, label = n._op)\n",
        "      dot.edge(uid + n._op, uid)\n",
        "\n",
        "  for n1, n2 in edges:\n",
        "    dot.edge(str(id(n1)), str(id(n2)) + n2._op)\n",
        "\n",
        "  return dot"
      ],
      "metadata": {
        "id": "7HXDXouIqQgw"
      },
      "execution_count": 20,
      "outputs": []
    },
    {
      "cell_type": "code",
      "source": [
        "a = Value(2, label = 'a')\n",
        "b = Value(-3, label = 'b')\n",
        "c = Value(10.0, label = 'c')\n",
        "e = a * b; e.label = 'e'\n",
        "d = c + e; d.label = 'd'\n",
        "f = Value(-2, label = 'f')\n",
        "L = d * f; L.label = 'L'\n",
        "L"
      ],
      "metadata": {
        "colab": {
          "base_uri": "https://localhost:8080/"
        },
        "id": "XSKR08dGqZtm",
        "outputId": "5036b95b-d266-4bd9-fe26-20490220f5a4"
      },
      "execution_count": 21,
      "outputs": [
        {
          "output_type": "execute_result",
          "data": {
            "text/plain": [
              "Value(data=-8.0)"
            ]
          },
          "metadata": {},
          "execution_count": 21
        }
      ]
    },
    {
      "cell_type": "code",
      "source": [
        "draw_dot(L)"
      ],
      "metadata": {
        "colab": {
          "base_uri": "https://localhost:8080/",
          "height": 302
        },
        "id": "YSK1W-N7qeVs",
        "outputId": "512d2d0a-7d0e-47ad-a8c4-7b1d796a3ef2"
      },
      "execution_count": 22,
      "outputs": [
        {
          "output_type": "execute_result",
          "data": {
            "image/svg+xml": "<?xml version=\"1.0\" encoding=\"UTF-8\" standalone=\"no\"?>\n<!DOCTYPE svg PUBLIC \"-//W3C//DTD SVG 1.1//EN\"\n \"http://www.w3.org/Graphics/SVG/1.1/DTD/svg11.dtd\">\n<!-- Generated by graphviz version 2.43.0 (0)\n -->\n<!-- Title: %3 Pages: 1 -->\n<svg width=\"602pt\" height=\"210pt\"\n viewBox=\"0.00 0.00 602.00 210.00\" xmlns=\"http://www.w3.org/2000/svg\" xmlns:xlink=\"http://www.w3.org/1999/xlink\">\n<g id=\"graph0\" class=\"graph\" transform=\"scale(1 1) rotate(0) translate(4 206)\">\n<title>%3</title>\n<polygon fill=\"white\" stroke=\"transparent\" points=\"-4,4 -4,-206 598,-206 598,4 -4,4\"/>\n<!-- 136748315707568 -->\n<g id=\"node1\" class=\"node\">\n<title>136748315707568</title>\n<polygon fill=\"none\" stroke=\"black\" points=\"540,-44.5 540,-113.5 594,-113.5 594,-44.5 540,-44.5\"/>\n<text text-anchor=\"middle\" x=\"567\" y=\"-98.3\" font-family=\"Times,serif\" font-size=\"14.00\">L</text>\n<polyline fill=\"none\" stroke=\"black\" points=\"540,-90.5 594,-90.5 \"/>\n<text text-anchor=\"middle\" x=\"567\" y=\"-75.3\" font-family=\"Times,serif\" font-size=\"14.00\">&#45;8.0</text>\n<polyline fill=\"none\" stroke=\"black\" points=\"540,-67.5 594,-67.5 \"/>\n<text text-anchor=\"middle\" x=\"567\" y=\"-52.3\" font-family=\"Times,serif\" font-size=\"14.00\">0.0</text>\n</g>\n<!-- 136748315707568* -->\n<g id=\"node2\" class=\"node\">\n<title>136748315707568*</title>\n<ellipse fill=\"none\" stroke=\"black\" cx=\"477\" cy=\"-79\" rx=\"27\" ry=\"18\"/>\n<text text-anchor=\"middle\" x=\"477\" y=\"-75.3\" font-family=\"Times,serif\" font-size=\"14.00\">*</text>\n</g>\n<!-- 136748315707568*&#45;&gt;136748315707568 -->\n<g id=\"edge1\" class=\"edge\">\n<title>136748315707568*&#45;&gt;136748315707568</title>\n<path fill=\"none\" stroke=\"black\" d=\"M504.4,-79C512.39,-79 521.31,-79 529.82,-79\"/>\n<polygon fill=\"black\" stroke=\"black\" points=\"529.92,-82.5 539.92,-79 529.92,-75.5 529.92,-82.5\"/>\n</g>\n<!-- 136748315710688 -->\n<g id=\"node3\" class=\"node\">\n<title>136748315710688</title>\n<polygon fill=\"none\" stroke=\"black\" points=\"0,-88.5 0,-157.5 54,-157.5 54,-88.5 0,-88.5\"/>\n<text text-anchor=\"middle\" x=\"27\" y=\"-142.3\" font-family=\"Times,serif\" font-size=\"14.00\">b</text>\n<polyline fill=\"none\" stroke=\"black\" points=\"0,-134.5 54,-134.5 \"/>\n<text text-anchor=\"middle\" x=\"27\" y=\"-119.3\" font-family=\"Times,serif\" font-size=\"14.00\">&#45;3</text>\n<polyline fill=\"none\" stroke=\"black\" points=\"0,-111.5 54,-111.5 \"/>\n<text text-anchor=\"middle\" x=\"27\" y=\"-96.3\" font-family=\"Times,serif\" font-size=\"14.00\">0.0</text>\n</g>\n<!-- 136748315713952* -->\n<g id=\"node8\" class=\"node\">\n<title>136748315713952*</title>\n<ellipse fill=\"none\" stroke=\"black\" cx=\"117\" cy=\"-79\" rx=\"27\" ry=\"18\"/>\n<text text-anchor=\"middle\" x=\"117\" y=\"-75.3\" font-family=\"Times,serif\" font-size=\"14.00\">*</text>\n</g>\n<!-- 136748315710688&#45;&gt;136748315713952* -->\n<g id=\"edge8\" class=\"edge\">\n<title>136748315710688&#45;&gt;136748315713952*</title>\n<path fill=\"none\" stroke=\"black\" d=\"M54.4,-109.8C64.33,-104.84 75.68,-99.16 85.91,-94.04\"/>\n<polygon fill=\"black\" stroke=\"black\" points=\"87.54,-97.14 94.92,-89.54 84.41,-90.88 87.54,-97.14\"/>\n</g>\n<!-- 136748315710736 -->\n<g id=\"node4\" class=\"node\">\n<title>136748315710736</title>\n<polygon fill=\"none\" stroke=\"black\" points=\"360,-88.5 360,-157.5 414,-157.5 414,-88.5 360,-88.5\"/>\n<text text-anchor=\"middle\" x=\"387\" y=\"-142.3\" font-family=\"Times,serif\" font-size=\"14.00\">d</text>\n<polyline fill=\"none\" stroke=\"black\" points=\"360,-134.5 414,-134.5 \"/>\n<text text-anchor=\"middle\" x=\"387\" y=\"-119.3\" font-family=\"Times,serif\" font-size=\"14.00\">4.0</text>\n<polyline fill=\"none\" stroke=\"black\" points=\"360,-111.5 414,-111.5 \"/>\n<text text-anchor=\"middle\" x=\"387\" y=\"-96.3\" font-family=\"Times,serif\" font-size=\"14.00\">0.0</text>\n</g>\n<!-- 136748315710736&#45;&gt;136748315707568* -->\n<g id=\"edge7\" class=\"edge\">\n<title>136748315710736&#45;&gt;136748315707568*</title>\n<path fill=\"none\" stroke=\"black\" d=\"M414.4,-109.8C424.33,-104.84 435.68,-99.16 445.91,-94.04\"/>\n<polygon fill=\"black\" stroke=\"black\" points=\"447.54,-97.14 454.92,-89.54 444.41,-90.88 447.54,-97.14\"/>\n</g>\n<!-- 136748315710736+ -->\n<g id=\"node5\" class=\"node\">\n<title>136748315710736+</title>\n<ellipse fill=\"none\" stroke=\"black\" cx=\"297\" cy=\"-123\" rx=\"27\" ry=\"18\"/>\n<text text-anchor=\"middle\" x=\"297\" y=\"-119.3\" font-family=\"Times,serif\" font-size=\"14.00\">+</text>\n</g>\n<!-- 136748315710736+&#45;&gt;136748315710736 -->\n<g id=\"edge2\" class=\"edge\">\n<title>136748315710736+&#45;&gt;136748315710736</title>\n<path fill=\"none\" stroke=\"black\" d=\"M324.4,-123C332.39,-123 341.31,-123 349.82,-123\"/>\n<polygon fill=\"black\" stroke=\"black\" points=\"349.92,-126.5 359.92,-123 349.92,-119.5 349.92,-126.5\"/>\n</g>\n<!-- 136748315720048 -->\n<g id=\"node6\" class=\"node\">\n<title>136748315720048</title>\n<polygon fill=\"none\" stroke=\"black\" points=\"180,-132.5 180,-201.5 234,-201.5 234,-132.5 180,-132.5\"/>\n<text text-anchor=\"middle\" x=\"207\" y=\"-186.3\" font-family=\"Times,serif\" font-size=\"14.00\">c</text>\n<polyline fill=\"none\" stroke=\"black\" points=\"180,-178.5 234,-178.5 \"/>\n<text text-anchor=\"middle\" x=\"207\" y=\"-163.3\" font-family=\"Times,serif\" font-size=\"14.00\">10.0</text>\n<polyline fill=\"none\" stroke=\"black\" points=\"180,-155.5 234,-155.5 \"/>\n<text text-anchor=\"middle\" x=\"207\" y=\"-140.3\" font-family=\"Times,serif\" font-size=\"14.00\">0.0</text>\n</g>\n<!-- 136748315720048&#45;&gt;136748315710736+ -->\n<g id=\"edge4\" class=\"edge\">\n<title>136748315720048&#45;&gt;136748315710736+</title>\n<path fill=\"none\" stroke=\"black\" d=\"M234.4,-153.8C244.33,-148.84 255.68,-143.16 265.91,-138.04\"/>\n<polygon fill=\"black\" stroke=\"black\" points=\"267.54,-141.14 274.92,-133.54 264.41,-134.88 267.54,-141.14\"/>\n</g>\n<!-- 136748315713952 -->\n<g id=\"node7\" class=\"node\">\n<title>136748315713952</title>\n<polygon fill=\"none\" stroke=\"black\" points=\"180,-44.5 180,-113.5 234,-113.5 234,-44.5 180,-44.5\"/>\n<text text-anchor=\"middle\" x=\"207\" y=\"-98.3\" font-family=\"Times,serif\" font-size=\"14.00\">e</text>\n<polyline fill=\"none\" stroke=\"black\" points=\"180,-90.5 234,-90.5 \"/>\n<text text-anchor=\"middle\" x=\"207\" y=\"-75.3\" font-family=\"Times,serif\" font-size=\"14.00\">&#45;6</text>\n<polyline fill=\"none\" stroke=\"black\" points=\"180,-67.5 234,-67.5 \"/>\n<text text-anchor=\"middle\" x=\"207\" y=\"-52.3\" font-family=\"Times,serif\" font-size=\"14.00\">0.0</text>\n</g>\n<!-- 136748315713952&#45;&gt;136748315710736+ -->\n<g id=\"edge9\" class=\"edge\">\n<title>136748315713952&#45;&gt;136748315710736+</title>\n<path fill=\"none\" stroke=\"black\" d=\"M234.4,-92.2C244.33,-97.16 255.68,-102.84 265.91,-107.96\"/>\n<polygon fill=\"black\" stroke=\"black\" points=\"264.41,-111.12 274.92,-112.46 267.54,-104.86 264.41,-111.12\"/>\n</g>\n<!-- 136748315713952*&#45;&gt;136748315713952 -->\n<g id=\"edge3\" class=\"edge\">\n<title>136748315713952*&#45;&gt;136748315713952</title>\n<path fill=\"none\" stroke=\"black\" d=\"M144.4,-79C152.39,-79 161.31,-79 169.82,-79\"/>\n<polygon fill=\"black\" stroke=\"black\" points=\"169.92,-82.5 179.92,-79 169.92,-75.5 169.92,-82.5\"/>\n</g>\n<!-- 136748315717552 -->\n<g id=\"node9\" class=\"node\">\n<title>136748315717552</title>\n<polygon fill=\"none\" stroke=\"black\" points=\"0,-0.5 0,-69.5 54,-69.5 54,-0.5 0,-0.5\"/>\n<text text-anchor=\"middle\" x=\"27\" y=\"-54.3\" font-family=\"Times,serif\" font-size=\"14.00\">a</text>\n<polyline fill=\"none\" stroke=\"black\" points=\"0,-46.5 54,-46.5 \"/>\n<text text-anchor=\"middle\" x=\"27\" y=\"-31.3\" font-family=\"Times,serif\" font-size=\"14.00\">2</text>\n<polyline fill=\"none\" stroke=\"black\" points=\"0,-23.5 54,-23.5 \"/>\n<text text-anchor=\"middle\" x=\"27\" y=\"-8.3\" font-family=\"Times,serif\" font-size=\"14.00\">0.0</text>\n</g>\n<!-- 136748315717552&#45;&gt;136748315713952* -->\n<g id=\"edge6\" class=\"edge\">\n<title>136748315717552&#45;&gt;136748315713952*</title>\n<path fill=\"none\" stroke=\"black\" d=\"M54.4,-48.2C64.33,-53.16 75.68,-58.84 85.91,-63.96\"/>\n<polygon fill=\"black\" stroke=\"black\" points=\"84.41,-67.12 94.92,-68.46 87.54,-60.86 84.41,-67.12\"/>\n</g>\n<!-- 136748315707376 -->\n<g id=\"node10\" class=\"node\">\n<title>136748315707376</title>\n<polygon fill=\"none\" stroke=\"black\" points=\"360,-0.5 360,-69.5 414,-69.5 414,-0.5 360,-0.5\"/>\n<text text-anchor=\"middle\" x=\"387\" y=\"-54.3\" font-family=\"Times,serif\" font-size=\"14.00\">f</text>\n<polyline fill=\"none\" stroke=\"black\" points=\"360,-46.5 414,-46.5 \"/>\n<text text-anchor=\"middle\" x=\"387\" y=\"-31.3\" font-family=\"Times,serif\" font-size=\"14.00\">&#45;2</text>\n<polyline fill=\"none\" stroke=\"black\" points=\"360,-23.5 414,-23.5 \"/>\n<text text-anchor=\"middle\" x=\"387\" y=\"-8.3\" font-family=\"Times,serif\" font-size=\"14.00\">0.0</text>\n</g>\n<!-- 136748315707376&#45;&gt;136748315707568* -->\n<g id=\"edge5\" class=\"edge\">\n<title>136748315707376&#45;&gt;136748315707568*</title>\n<path fill=\"none\" stroke=\"black\" d=\"M414.4,-48.2C424.33,-53.16 435.68,-58.84 445.91,-63.96\"/>\n<polygon fill=\"black\" stroke=\"black\" points=\"444.41,-67.12 454.92,-68.46 447.54,-60.86 444.41,-67.12\"/>\n</g>\n</g>\n</svg>\n",
            "text/plain": [
              "<graphviz.graphs.Digraph at 0x7c5f32c82080>"
            ]
          },
          "metadata": {},
          "execution_count": 22
        }
      ]
    },
    {
      "cell_type": "code",
      "source": [
        "L.grad = 1\n",
        "f.grad = 4\n",
        "d.grad = -2\n",
        "c.grad = -2\n",
        "e.grad = -2\n",
        "a.grad = -2.0 * -3.0\n",
        "b.grad = -2.0 * 2.0"
      ],
      "metadata": {
        "id": "Pibn9tqgrlxD"
      },
      "execution_count": 23,
      "outputs": []
    },
    {
      "cell_type": "code",
      "source": [
        "# let us start by filling derivative\n",
        "# derivative of L wrt L will be 1.\n",
        "\n",
        "# let us try it by staging\n",
        "\n",
        "# we are going to do this mathematically\n",
        "# add h (which is almost zero) to each variable and normalise\n",
        "\n",
        "# L = d * f\n",
        "# dL/dd = f\n",
        "\n",
        "# by definition\n",
        "# dL/dd = (f(x + h) - f(x)) / h\n",
        "#((d + h) * f - d*f) / h\n",
        "# (d*f + d*h - d*f) / h = h*f / h = f\n",
        "\n",
        "# now most important is dL/dc\n",
        "# we know how dL/dd but how would dL/dc impact which goes through 'd'\n",
        "# intution: dd/ dc = ?\n",
        "# d = c + e\n",
        "# (f(x + h) - f(x)) / h\n",
        "# ((c + h + e) - (c + e)) / h\n",
        "# (c + h + e - c - e) / h\n",
        "# h / h = 1\n",
        "\n",
        "# hence, dd/dc = 1 and dd/de = 1\n",
        "\n",
        "# think about chain rule in calculus\n",
        "# dL/dc = ?\n",
        "# we know that dl/dd and we know dd/dc\n",
        "# by chain rule: dL/dc = (dL / dd) * (dd / dc)\n",
        "\n",
        "# dl / de = -2\n",
        "# dL / da = (dL/de) * (de/da)\n",
        "# e = a * b; de/da = 1\n",
        "\n",
        "# we can check using this function quickly\n",
        "# this is estimation based on small step size\n",
        "def rofl():\n",
        "  h = 0.0001\n",
        "\n",
        "  a = Value(2, label = 'a')\n",
        "  b = Value(-3, label = 'b')\n",
        "  c = Value(10.0, label = 'c')\n",
        "  e = a * b; e.label = 'e'\n",
        "  d = c + e; d.label = 'd'\n",
        "  f = Value(-2, label = 'f')\n",
        "  L = d * f; L.label = 'L'\n",
        "  L1 = L.data\n",
        "\n",
        "  a = Value(2, label = 'a')\n",
        "  b = Value(-3 + h, label = 'b')\n",
        "  c = Value(10.0, label = 'c')\n",
        "  e = a * b; e.label = 'e'\n",
        "  d = c + e; d.label = 'd'\n",
        "  f = Value(-2, label = 'f')\n",
        "  L = d * f; L.label = 'L'\n",
        "  L2 = L.data\n",
        "\n",
        "  print((L2 - L1) / h)\n",
        "\n",
        "rofl()"
      ],
      "metadata": {
        "colab": {
          "base_uri": "https://localhost:8080/"
        },
        "id": "Fw4U5YzOqgLU",
        "outputId": "3d0072c5-cb7c-428e-b824-9bd0e3070631"
      },
      "execution_count": 24,
      "outputs": [
        {
          "output_type": "stream",
          "name": "stdout",
          "text": [
            "-4.000000000008441\n"
          ]
        }
      ]
    },
    {
      "cell_type": "code",
      "source": [
        "# backpropagation is basically finding derivate in computational graph"
      ],
      "metadata": {
        "id": "U1koUdV7rPGj"
      },
      "execution_count": 25,
      "outputs": []
    },
    {
      "cell_type": "code",
      "source": [
        "# let us try to nudge L in postive direction\n",
        "\n",
        "a.data += 0.01 * a.grad\n",
        "b.data += 0.01 * b.grad\n",
        "c.data += 0.01 * c.grad\n",
        "f.data += 0.01 * f.grad\n",
        "\n",
        "e = a * b;\n",
        "d = c + e;\n",
        "L = d * f;\n",
        "L"
      ],
      "metadata": {
        "colab": {
          "base_uri": "https://localhost:8080/"
        },
        "id": "MosVu4rswkvc",
        "outputId": "ebc829f8-c340-42b4-fc38-d9813167a967"
      },
      "execution_count": 26,
      "outputs": [
        {
          "output_type": "execute_result",
          "data": {
            "text/plain": [
              "Value(data=-7.286496)"
            ]
          },
          "metadata": {},
          "execution_count": 26
        }
      ]
    },
    {
      "cell_type": "code",
      "source": [
        "# what is activation function? It is kind of squashing function\n",
        "plt.plot(np.arange(-5, 5, 0.2), np.tanh(np.arange(-5, 5, 0.2)))\n",
        "plt.grid()"
      ],
      "metadata": {
        "colab": {
          "base_uri": "https://localhost:8080/",
          "height": 430
        },
        "id": "EUiOJF0mw-nh",
        "outputId": "d5ca3e55-6c93-48cf-e7ae-c2c0c63c9f18"
      },
      "execution_count": 27,
      "outputs": [
        {
          "output_type": "display_data",
          "data": {
            "text/plain": [
              "<Figure size 640x480 with 1 Axes>"
            ],
            "image/png": "[encoded data removed]"
          },
          "metadata": {}
        }
      ]
    },
    {
      "cell_type": "code",
      "source": [
        "# let us run back propagation on an NN manually to understand\n",
        "\n",
        "# inputs x1, x2\n",
        "x1 = Value(2.0, label='x1')\n",
        "x2 = Value(0.0, label='x2')\n",
        "\n",
        "# weights w1, w2\n",
        "w1 = Value(-3.0, label='w1')\n",
        "w2 = Value(1.0, label='w2')\n",
        "\n",
        "# bias of the neuron\n",
        "b = Value(6.8813735870195432, label='b')\n",
        "\n",
        "x1w1 = x1*w1; x1w1.label = 'x1*w1'\n",
        "x2w2 = x2*w2; x2w2.label = 'x2*w2'\n",
        "x1w1x2w2 = x1w1 + x2w2; x1w1x2w2.label = 'x1*w1 + x2*w2'\n",
        "n = x1w1x2w2 + b; n.label = 'n'\n",
        "\n",
        "# first run with out tanh\n",
        "o = n.tanh(); o.label = 'o'\n",
        "\n",
        "# draw_dot(n)\n",
        "# draw_dot(o)\n",
        "\n",
        "# play with values to show use of squashing function\n",
        "# then replace b with 6.8813735870195432"
      ],
      "metadata": {
        "id": "Z89tTBntyK-4"
      },
      "execution_count": 28,
      "outputs": []
    },
    {
      "cell_type": "code",
      "source": [
        "draw_dot(o)"
      ],
      "metadata": {
        "colab": {
          "base_uri": "https://localhost:8080/",
          "height": 478
        },
        "id": "f6uNWdgD00_r",
        "outputId": "161a5b66-9853-4691-c129-73d36bf5710d"
      },
      "execution_count": 29,
      "outputs": [
        {
          "output_type": "execute_result",
          "data": {
            "image/svg+xml": "<?xml version=\"1.0\" encoding=\"UTF-8\" standalone=\"no\"?>\n<!DOCTYPE svg PUBLIC \"-//W3C//DTD SVG 1.1//EN\"\n \"http://www.w3.org/Graphics/SVG/1.1/DTD/svg11.dtd\">\n<!-- Generated by graphviz version 2.43.0 (0)\n -->\n<!-- Title: %3 Pages: 1 -->\n<svg width=\"1018pt\" height=\"342pt\"\n viewBox=\"0.00 0.00 1018.00 342.00\" xmlns=\"http://www.w3.org/2000/svg\" xmlns:xlink=\"http://www.w3.org/1999/xlink\">\n<g id=\"graph0\" class=\"graph\" transform=\"scale(1 1) rotate(0) translate(4 338)\">\n<title>%3</title>\n<polygon fill=\"white\" stroke=\"transparent\" points=\"-4,4 -4,-338 1014,-338 1014,4 -4,4\"/>\n<!-- 136748310188032 -->\n<g id=\"node1\" class=\"node\">\n<title>136748310188032</title>\n<polygon fill=\"none\" stroke=\"black\" points=\"180,-88.5 180,-157.5 234,-157.5 234,-88.5 180,-88.5\"/>\n<text text-anchor=\"middle\" x=\"207\" y=\"-142.3\" font-family=\"Times,serif\" font-size=\"14.00\">x2*w2</text>\n<polyline fill=\"none\" stroke=\"black\" points=\"180,-134.5 234,-134.5 \"/>\n<text text-anchor=\"middle\" x=\"207\" y=\"-119.3\" font-family=\"Times,serif\" font-size=\"14.00\">0.0</text>\n<polyline fill=\"none\" stroke=\"black\" points=\"180,-111.5 234,-111.5 \"/>\n<text text-anchor=\"middle\" x=\"207\" y=\"-96.3\" font-family=\"Times,serif\" font-size=\"14.00\">0.0</text>\n</g>\n<!-- 136748310188128+ -->\n<g id=\"node5\" class=\"node\">\n<title>136748310188128+</title>\n<ellipse fill=\"none\" stroke=\"black\" cx=\"297\" cy=\"-167\" rx=\"27\" ry=\"18\"/>\n<text text-anchor=\"middle\" x=\"297\" y=\"-163.3\" font-family=\"Times,serif\" font-size=\"14.00\">+</text>\n</g>\n<!-- 136748310188032&#45;&gt;136748310188128+ -->\n<g id=\"edge7\" class=\"edge\">\n<title>136748310188032&#45;&gt;136748310188128+</title>\n<path fill=\"none\" stroke=\"black\" d=\"M234.4,-136.2C244.33,-141.16 255.68,-146.84 265.91,-151.96\"/>\n<polygon fill=\"black\" stroke=\"black\" points=\"264.41,-155.12 274.92,-156.46 267.54,-148.86 264.41,-155.12\"/>\n</g>\n<!-- 136748310188032* -->\n<g id=\"node2\" class=\"node\">\n<title>136748310188032*</title>\n<ellipse fill=\"none\" stroke=\"black\" cx=\"117\" cy=\"-123\" rx=\"27\" ry=\"18\"/>\n<text text-anchor=\"middle\" x=\"117\" y=\"-119.3\" font-family=\"Times,serif\" font-size=\"14.00\">*</text>\n</g>\n<!-- 136748310188032*&#45;&gt;136748310188032 -->\n<g id=\"edge1\" class=\"edge\">\n<title>136748310188032*&#45;&gt;136748310188032</title>\n<path fill=\"none\" stroke=\"black\" d=\"M144.4,-123C152.39,-123 161.31,-123 169.82,-123\"/>\n<polygon fill=\"black\" stroke=\"black\" points=\"169.92,-126.5 179.92,-123 169.92,-119.5 169.92,-126.5\"/>\n</g>\n<!-- 136748315717120 -->\n<g id=\"node3\" class=\"node\">\n<title>136748315717120</title>\n<polygon fill=\"none\" stroke=\"black\" points=\"0,-88.5 0,-157.5 54,-157.5 54,-88.5 0,-88.5\"/>\n<text text-anchor=\"middle\" x=\"27\" y=\"-142.3\" font-family=\"Times,serif\" font-size=\"14.00\">x2</text>\n<polyline fill=\"none\" stroke=\"black\" points=\"0,-134.5 54,-134.5 \"/>\n<text text-anchor=\"middle\" x=\"27\" y=\"-119.3\" font-family=\"Times,serif\" font-size=\"14.00\">0.0</text>\n<polyline fill=\"none\" stroke=\"black\" points=\"0,-111.5 54,-111.5 \"/>\n<text text-anchor=\"middle\" x=\"27\" y=\"-96.3\" font-family=\"Times,serif\" font-size=\"14.00\">0.0</text>\n</g>\n<!-- 136748315717120&#45;&gt;136748310188032* -->\n<g id=\"edge9\" class=\"edge\">\n<title>136748315717120&#45;&gt;136748310188032*</title>\n<path fill=\"none\" stroke=\"black\" d=\"M54.4,-123C62.39,-123 71.31,-123 79.82,-123\"/>\n<polygon fill=\"black\" stroke=\"black\" points=\"79.92,-126.5 89.92,-123 79.92,-119.5 79.92,-126.5\"/>\n</g>\n<!-- 136748310188128 -->\n<g id=\"node4\" class=\"node\">\n<title>136748310188128</title>\n<polygon fill=\"none\" stroke=\"black\" points=\"371,-132.5 371,-201.5 477,-201.5 477,-132.5 371,-132.5\"/>\n<text text-anchor=\"middle\" x=\"424\" y=\"-186.3\" font-family=\"Times,serif\" font-size=\"14.00\">x1*w1 + x2*w2</text>\n<polyline fill=\"none\" stroke=\"black\" points=\"371,-178.5 477,-178.5 \"/>\n<text text-anchor=\"middle\" x=\"424\" y=\"-163.3\" font-family=\"Times,serif\" font-size=\"14.00\">&#45;6.0</text>\n<polyline fill=\"none\" stroke=\"black\" points=\"371,-155.5 477,-155.5 \"/>\n<text text-anchor=\"middle\" x=\"424\" y=\"-140.3\" font-family=\"Times,serif\" font-size=\"14.00\">0.0</text>\n</g>\n<!-- 136748310188224+ -->\n<g id=\"node9\" class=\"node\">\n<title>136748310188224+</title>\n<ellipse fill=\"none\" stroke=\"black\" cx=\"551\" cy=\"-211\" rx=\"27\" ry=\"18\"/>\n<text text-anchor=\"middle\" x=\"551\" y=\"-207.3\" font-family=\"Times,serif\" font-size=\"14.00\">+</text>\n</g>\n<!-- 136748310188128&#45;&gt;136748310188224+ -->\n<g id=\"edge8\" class=\"edge\">\n<title>136748310188128&#45;&gt;136748310188224+</title>\n<path fill=\"none\" stroke=\"black\" d=\"M477.29,-185.41C490.77,-190.15 504.91,-195.13 517.09,-199.42\"/>\n<polygon fill=\"black\" stroke=\"black\" points=\"516.22,-202.82 526.81,-202.84 518.54,-196.22 516.22,-202.82\"/>\n</g>\n<!-- 136748310188128+&#45;&gt;136748310188128 -->\n<g id=\"edge2\" class=\"edge\">\n<title>136748310188128+&#45;&gt;136748310188128</title>\n<path fill=\"none\" stroke=\"black\" d=\"M324.2,-167C334.88,-167 347.72,-167 360.56,-167\"/>\n<polygon fill=\"black\" stroke=\"black\" points=\"360.81,-170.5 370.81,-167 360.81,-163.5 360.81,-170.5\"/>\n</g>\n<!-- 136748315719280 -->\n<g id=\"node6\" class=\"node\">\n<title>136748315719280</title>\n<polygon fill=\"none\" stroke=\"black\" points=\"0,-264.5 0,-333.5 54,-333.5 54,-264.5 0,-264.5\"/>\n<text text-anchor=\"middle\" x=\"27\" y=\"-318.3\" font-family=\"Times,serif\" font-size=\"14.00\">w1</text>\n<polyline fill=\"none\" stroke=\"black\" points=\"0,-310.5 54,-310.5 \"/>\n<text text-anchor=\"middle\" x=\"27\" y=\"-295.3\" font-family=\"Times,serif\" font-size=\"14.00\">&#45;3.0</text>\n<polyline fill=\"none\" stroke=\"black\" points=\"0,-287.5 54,-287.5 \"/>\n<text text-anchor=\"middle\" x=\"27\" y=\"-272.3\" font-family=\"Times,serif\" font-size=\"14.00\">0.0</text>\n</g>\n<!-- 136748316177648* -->\n<g id=\"node11\" class=\"node\">\n<title>136748316177648*</title>\n<ellipse fill=\"none\" stroke=\"black\" cx=\"117\" cy=\"-211\" rx=\"27\" ry=\"18\"/>\n<text text-anchor=\"middle\" x=\"117\" y=\"-207.3\" font-family=\"Times,serif\" font-size=\"14.00\">*</text>\n</g>\n<!-- 136748315719280&#45;&gt;136748316177648* -->\n<g id=\"edge11\" class=\"edge\">\n<title>136748315719280&#45;&gt;136748316177648*</title>\n<path fill=\"none\" stroke=\"black\" d=\"M54.4,-272.6C66.94,-260.06 81.77,-245.23 93.73,-233.27\"/>\n<polygon fill=\"black\" stroke=\"black\" points=\"96.53,-235.42 101.13,-225.87 91.58,-230.47 96.53,-235.42\"/>\n</g>\n<!-- 136748316167856 -->\n<g id=\"node7\" class=\"node\">\n<title>136748316167856</title>\n<polygon fill=\"none\" stroke=\"black\" points=\"0,-176.5 0,-245.5 54,-245.5 54,-176.5 0,-176.5\"/>\n<text text-anchor=\"middle\" x=\"27\" y=\"-230.3\" font-family=\"Times,serif\" font-size=\"14.00\">x1</text>\n<polyline fill=\"none\" stroke=\"black\" points=\"0,-222.5 54,-222.5 \"/>\n<text text-anchor=\"middle\" x=\"27\" y=\"-207.3\" font-family=\"Times,serif\" font-size=\"14.00\">2.0</text>\n<polyline fill=\"none\" stroke=\"black\" points=\"0,-199.5 54,-199.5 \"/>\n<text text-anchor=\"middle\" x=\"27\" y=\"-184.3\" font-family=\"Times,serif\" font-size=\"14.00\">0.0</text>\n</g>\n<!-- 136748316167856&#45;&gt;136748316177648* -->\n<g id=\"edge13\" class=\"edge\">\n<title>136748316167856&#45;&gt;136748316177648*</title>\n<path fill=\"none\" stroke=\"black\" d=\"M54.4,-211C62.39,-211 71.31,-211 79.82,-211\"/>\n<polygon fill=\"black\" stroke=\"black\" points=\"79.92,-214.5 89.92,-211 79.92,-207.5 79.92,-214.5\"/>\n</g>\n<!-- 136748310188224 -->\n<g id=\"node8\" class=\"node\">\n<title>136748310188224</title>\n<polygon fill=\"none\" stroke=\"black\" points=\"614,-176.5 614,-245.5 749,-245.5 749,-176.5 614,-176.5\"/>\n<text text-anchor=\"middle\" x=\"681.5\" y=\"-230.3\" font-family=\"Times,serif\" font-size=\"14.00\">n</text>\n<polyline fill=\"none\" stroke=\"black\" points=\"614,-222.5 749,-222.5 \"/>\n<text text-anchor=\"middle\" x=\"681.5\" y=\"-207.3\" font-family=\"Times,serif\" font-size=\"14.00\">0.8813735870195432</text>\n<polyline fill=\"none\" stroke=\"black\" points=\"614,-199.5 749,-199.5 \"/>\n<text text-anchor=\"middle\" x=\"681.5\" y=\"-184.3\" font-family=\"Times,serif\" font-size=\"14.00\">0.0</text>\n</g>\n<!-- 136748310188320tanh -->\n<g id=\"node15\" class=\"node\">\n<title>136748310188320tanh</title>\n<ellipse fill=\"none\" stroke=\"black\" cx=\"812\" cy=\"-211\" rx=\"27\" ry=\"18\"/>\n<text text-anchor=\"middle\" x=\"812\" y=\"-207.3\" font-family=\"Times,serif\" font-size=\"14.00\">tanh</text>\n</g>\n<!-- 136748310188224&#45;&gt;136748310188320tanh -->\n<g id=\"edge10\" class=\"edge\">\n<title>136748310188224&#45;&gt;136748310188320tanh</title>\n<path fill=\"none\" stroke=\"black\" d=\"M749.01,-211C757.87,-211 766.66,-211 774.73,-211\"/>\n<polygon fill=\"black\" stroke=\"black\" points=\"774.86,-214.5 784.86,-211 774.86,-207.5 774.86,-214.5\"/>\n</g>\n<!-- 136748310188224+&#45;&gt;136748310188224 -->\n<g id=\"edge3\" class=\"edge\">\n<title>136748310188224+&#45;&gt;136748310188224</title>\n<path fill=\"none\" stroke=\"black\" d=\"M578,-211C585.71,-211 594.56,-211 603.77,-211\"/>\n<polygon fill=\"black\" stroke=\"black\" points=\"603.87,-214.5 613.87,-211 603.87,-207.5 603.87,-214.5\"/>\n</g>\n<!-- 136748316177648 -->\n<g id=\"node10\" class=\"node\">\n<title>136748316177648</title>\n<polygon fill=\"none\" stroke=\"black\" points=\"180,-176.5 180,-245.5 234,-245.5 234,-176.5 180,-176.5\"/>\n<text text-anchor=\"middle\" x=\"207\" y=\"-230.3\" font-family=\"Times,serif\" font-size=\"14.00\">x1*w1</text>\n<polyline fill=\"none\" stroke=\"black\" points=\"180,-222.5 234,-222.5 \"/>\n<text text-anchor=\"middle\" x=\"207\" y=\"-207.3\" font-family=\"Times,serif\" font-size=\"14.00\">&#45;6.0</text>\n<polyline fill=\"none\" stroke=\"black\" points=\"180,-199.5 234,-199.5 \"/>\n<text text-anchor=\"middle\" x=\"207\" y=\"-184.3\" font-family=\"Times,serif\" font-size=\"14.00\">0.0</text>\n</g>\n<!-- 136748316177648&#45;&gt;136748310188128+ -->\n<g id=\"edge12\" class=\"edge\">\n<title>136748316177648&#45;&gt;136748310188128+</title>\n<path fill=\"none\" stroke=\"black\" d=\"M234.4,-197.8C244.33,-192.84 255.68,-187.16 265.91,-182.04\"/>\n<polygon fill=\"black\" stroke=\"black\" points=\"267.54,-185.14 274.92,-177.54 264.41,-178.88 267.54,-185.14\"/>\n</g>\n<!-- 136748316177648*&#45;&gt;136748316177648 -->\n<g id=\"edge4\" class=\"edge\">\n<title>136748316177648*&#45;&gt;136748316177648</title>\n<path fill=\"none\" stroke=\"black\" d=\"M144.4,-211C152.39,-211 161.31,-211 169.82,-211\"/>\n<polygon fill=\"black\" stroke=\"black\" points=\"169.92,-214.5 179.92,-211 169.92,-207.5 169.92,-214.5\"/>\n</g>\n<!-- 136748316178176 -->\n<g id=\"node12\" class=\"node\">\n<title>136748316178176</title>\n<polygon fill=\"none\" stroke=\"black\" points=\"360,-220.5 360,-289.5 488,-289.5 488,-220.5 360,-220.5\"/>\n<text text-anchor=\"middle\" x=\"424\" y=\"-274.3\" font-family=\"Times,serif\" font-size=\"14.00\">b</text>\n<polyline fill=\"none\" stroke=\"black\" points=\"360,-266.5 488,-266.5 \"/>\n<text text-anchor=\"middle\" x=\"424\" y=\"-251.3\" font-family=\"Times,serif\" font-size=\"14.00\">6.881373587019543</text>\n<polyline fill=\"none\" stroke=\"black\" points=\"360,-243.5 488,-243.5 \"/>\n<text text-anchor=\"middle\" x=\"424\" y=\"-228.3\" font-family=\"Times,serif\" font-size=\"14.00\">0.0</text>\n</g>\n<!-- 136748316178176&#45;&gt;136748310188224+ -->\n<g id=\"edge6\" class=\"edge\">\n<title>136748316178176&#45;&gt;136748310188224+</title>\n<path fill=\"none\" stroke=\"black\" d=\"M488.23,-232.74C498.26,-229.21 508.27,-225.69 517.22,-222.54\"/>\n<polygon fill=\"black\" stroke=\"black\" points=\"518.54,-225.78 526.81,-219.16 516.22,-219.18 518.54,-225.78\"/>\n</g>\n<!-- 136748316164880 -->\n<g id=\"node13\" class=\"node\">\n<title>136748316164880</title>\n<polygon fill=\"none\" stroke=\"black\" points=\"0,-0.5 0,-69.5 54,-69.5 54,-0.5 0,-0.5\"/>\n<text text-anchor=\"middle\" x=\"27\" y=\"-54.3\" font-family=\"Times,serif\" font-size=\"14.00\">w2</text>\n<polyline fill=\"none\" stroke=\"black\" points=\"0,-46.5 54,-46.5 \"/>\n<text text-anchor=\"middle\" x=\"27\" y=\"-31.3\" font-family=\"Times,serif\" font-size=\"14.00\">1.0</text>\n<polyline fill=\"none\" stroke=\"black\" points=\"0,-23.5 54,-23.5 \"/>\n<text text-anchor=\"middle\" x=\"27\" y=\"-8.3\" font-family=\"Times,serif\" font-size=\"14.00\">0.0</text>\n</g>\n<!-- 136748316164880&#45;&gt;136748310188032* -->\n<g id=\"edge14\" class=\"edge\">\n<title>136748316164880&#45;&gt;136748310188032*</title>\n<path fill=\"none\" stroke=\"black\" d=\"M54.4,-61.4C66.94,-73.94 81.77,-88.77 93.73,-100.73\"/>\n<polygon fill=\"black\" stroke=\"black\" points=\"91.58,-103.53 101.13,-108.13 96.53,-98.58 91.58,-103.53\"/>\n</g>\n<!-- 136748310188320 -->\n<g id=\"node14\" class=\"node\">\n<title>136748310188320</title>\n<polygon fill=\"none\" stroke=\"black\" points=\"875,-176.5 875,-245.5 1010,-245.5 1010,-176.5 875,-176.5\"/>\n<text text-anchor=\"middle\" x=\"942.5\" y=\"-230.3\" font-family=\"Times,serif\" font-size=\"14.00\">o</text>\n<polyline fill=\"none\" stroke=\"black\" points=\"875,-222.5 1010,-222.5 \"/>\n<text text-anchor=\"middle\" x=\"942.5\" y=\"-207.3\" font-family=\"Times,serif\" font-size=\"14.00\">0.7071067811865476</text>\n<polyline fill=\"none\" stroke=\"black\" points=\"875,-199.5 1010,-199.5 \"/>\n<text text-anchor=\"middle\" x=\"942.5\" y=\"-184.3\" font-family=\"Times,serif\" font-size=\"14.00\">0.0</text>\n</g>\n<!-- 136748310188320tanh&#45;&gt;136748310188320 -->\n<g id=\"edge5\" class=\"edge\">\n<title>136748310188320tanh&#45;&gt;136748310188320</title>\n<path fill=\"none\" stroke=\"black\" d=\"M839,-211C846.71,-211 855.56,-211 864.77,-211\"/>\n<polygon fill=\"black\" stroke=\"black\" points=\"864.87,-214.5 874.87,-211 864.87,-207.5 864.87,-214.5\"/>\n</g>\n</g>\n</svg>\n",
            "text/plain": [
              "<graphviz.graphs.Digraph at 0x7c5f32cf18a0>"
            ]
          },
          "metadata": {},
          "execution_count": 29
        }
      ]
    },
    {
      "cell_type": "code",
      "source": [
        "# we really care about w(s) since we care about optimising these.\n",
        "\n",
        "\n",
        "\n",
        "o.grad = 1 # always true\n",
        "\n",
        "# do / dn = 1 - o**2 ; look at wikipedia\n",
        "n.grad = 1 - o.data**2\n",
        "\n",
        "# plus is just a distributor of gradient and we can just keep it\n",
        "x1w1x2w2.grad = n.grad * 1\n",
        "b.grad = n.grad * 1\n",
        "\n",
        "# similarly\n",
        "x1w1.grad = x1w1x2w2.grad * 1\n",
        "x2w2.grad = x1w1x2w2.grad * 1\n",
        "\n",
        "x2.grad = w2.data * x2w2.grad\n",
        "w2.grad = x2w2.grad * x2.data\n",
        "\n",
        "x1.grad = w1.data * x1w1.grad\n",
        "w1.grad = x1w1.grad * x1.data"
      ],
      "metadata": {
        "id": "cS_15x1UzNI2"
      },
      "execution_count": 30,
      "outputs": []
    },
    {
      "cell_type": "code",
      "source": [
        "class Value:\n",
        "\n",
        "  def __init__(self, data, _children = (), _op = '', label = ''):\n",
        "    self.data = data\n",
        "    self.grad = 0.0\n",
        "    self._backward = lambda: None\n",
        "    self._prev = set(_children)\n",
        "    self._op = _op\n",
        "    self.label = label\n",
        "\n",
        "  def __repr__(self):\n",
        "    return \"Value(data={})\".format(self.data)\n",
        "\n",
        "  # after showing __repr__ let us show add\n",
        "  def __add__(self, other):\n",
        "    out = Value(self.data + other.data, (self, other), '+')\n",
        "    def _backward():\n",
        "      self.grad += 1.0 * out.grad\n",
        "      other.grad += 1.0 * out.grad\n",
        "    out._backward = _backward\n",
        "    return out\n",
        "\n",
        "  def __mul__(self, other):\n",
        "    out = Value(self.data * other.data, (self, other), '*')\n",
        "    def _backward():\n",
        "      #add the '+' after figuring why it is required\n",
        "      self.grad += other.data * out.grad\n",
        "      other.grad += self.data * out.grad\n",
        "    self._backward = _backward\n",
        "    return out\n",
        "\n",
        "  def tanh(self):\n",
        "    x = self.data\n",
        "    t = (math.exp(2*x) - 1) / (math.exp(2*x) + 1) # look at wikipedia to verify\n",
        "    out = Value(t, (self, ), 'tanh')\n",
        "    def _backward():\n",
        "      self.grad = (1 - t**2) * out.grad\n",
        "    out._backward = _backward\n",
        "    return out\n",
        "\n",
        "  # implement this after calling _backward() on all variables\n",
        "  def backward(self):\n",
        "    topo = []\n",
        "    visited = set()\n",
        "    def build_topo(v):\n",
        "      if v not in visited:\n",
        "        visited.add(v)\n",
        "        for child in v._prev:\n",
        "          build_topo(child)\n",
        "        topo.append(v)\n",
        "    build_topo(self)\n",
        "    self.grad = 1.0\n",
        "    for node in reversed(topo):\n",
        "      node._backward()"
      ],
      "metadata": {
        "id": "IT_59RIR0xHu"
      },
      "execution_count": 49,
      "outputs": []
    },
    {
      "cell_type": "code",
      "source": [
        "# let us run back propagation on an NN manually to understand\n",
        "\n",
        "# inputs x1, x2\n",
        "x1 = Value(2.0, label='x1')\n",
        "x2 = Value(0.0, label='x2')\n",
        "\n",
        "# weights w1, w2\n",
        "w1 = Value(-3.0, label='w1')\n",
        "w2 = Value(1.0, label='w2')\n",
        "\n",
        "# bias of the neuron\n",
        "b = Value(6.8813735870195432, label='b')\n",
        "\n",
        "x1w1 = x1*w1; x1w1.label = 'x1*w1'\n",
        "x2w2 = x2*w2; x2w2.label = 'x2*w2'\n",
        "x1w1x2w2 = x1w1 + x2w2; x1w1x2w2.label = 'x1*w1 + x2*w2'\n",
        "n = x1w1x2w2 + b; n.label = 'n'\n",
        "\n",
        "# first run with out tanh\n",
        "o = n.tanh(); o.label = 'o'\n",
        "\n",
        "# draw_dot(n)\n",
        "# draw_dot(o)\n",
        "\n",
        "# play with values to show use of squashing function\n",
        "# then replace b with 6.8813735870195432"
      ],
      "metadata": {
        "id": "I3_xidoUhvQu"
      },
      "execution_count": 50,
      "outputs": []
    },
    {
      "cell_type": "code",
      "source": [
        "draw_dot(o)"
      ],
      "metadata": {
        "colab": {
          "base_uri": "https://localhost:8080/",
          "height": 478
        },
        "id": "HatpMHa3h91J",
        "outputId": "e2f7e1eb-66ac-4e89-aebb-6770fa4c46fb"
      },
      "execution_count": 53,
      "outputs": [
        {
          "output_type": "execute_result",
          "data": {
            "image/svg+xml": "<?xml version=\"1.0\" encoding=\"UTF-8\" standalone=\"no\"?>\n<!DOCTYPE svg PUBLIC \"-//W3C//DTD SVG 1.1//EN\"\n \"http://www.w3.org/Graphics/SVG/1.1/DTD/svg11.dtd\">\n<!-- Generated by graphviz version 2.43.0 (0)\n -->\n<!-- Title: %3 Pages: 1 -->\n<svg width=\"1192pt\" height=\"342pt\"\n viewBox=\"0.00 0.00 1192.00 342.00\" xmlns=\"http://www.w3.org/2000/svg\" xmlns:xlink=\"http://www.w3.org/1999/xlink\">\n<g id=\"graph0\" class=\"graph\" transform=\"scale(1 1) rotate(0) translate(4 338)\">\n<title>%3</title>\n<polygon fill=\"white\" stroke=\"transparent\" points=\"-4,4 -4,-338 1188,-338 1188,4 -4,4\"/>\n<!-- 136748309722160 -->\n<g id=\"node1\" class=\"node\">\n<title>136748309722160</title>\n<polygon fill=\"none\" stroke=\"black\" points=\"788,-88.5 788,-157.5 923,-157.5 923,-88.5 788,-88.5\"/>\n<text text-anchor=\"middle\" x=\"855.5\" y=\"-142.3\" font-family=\"Times,serif\" font-size=\"14.00\">n</text>\n<polyline fill=\"none\" stroke=\"black\" points=\"788,-134.5 923,-134.5 \"/>\n<text text-anchor=\"middle\" x=\"855.5\" y=\"-119.3\" font-family=\"Times,serif\" font-size=\"14.00\">0.8813735870195432</text>\n<polyline fill=\"none\" stroke=\"black\" points=\"788,-111.5 923,-111.5 \"/>\n<text text-anchor=\"middle\" x=\"855.5\" y=\"-96.3\" font-family=\"Times,serif\" font-size=\"14.00\">0.4999999999999999</text>\n</g>\n<!-- 136748309719904tanh -->\n<g id=\"node13\" class=\"node\">\n<title>136748309719904tanh</title>\n<ellipse fill=\"none\" stroke=\"black\" cx=\"986\" cy=\"-123\" rx=\"27\" ry=\"18\"/>\n<text text-anchor=\"middle\" x=\"986\" y=\"-119.3\" font-family=\"Times,serif\" font-size=\"14.00\">tanh</text>\n</g>\n<!-- 136748309722160&#45;&gt;136748309719904tanh -->\n<g id=\"edge14\" class=\"edge\">\n<title>136748309722160&#45;&gt;136748309719904tanh</title>\n<path fill=\"none\" stroke=\"black\" d=\"M923.01,-123C931.87,-123 940.66,-123 948.73,-123\"/>\n<polygon fill=\"black\" stroke=\"black\" points=\"948.86,-126.5 958.86,-123 948.86,-119.5 948.86,-126.5\"/>\n</g>\n<!-- 136748309722160+ -->\n<g id=\"node2\" class=\"node\">\n<title>136748309722160+</title>\n<ellipse fill=\"none\" stroke=\"black\" cx=\"725\" cy=\"-123\" rx=\"27\" ry=\"18\"/>\n<text text-anchor=\"middle\" x=\"725\" y=\"-119.3\" font-family=\"Times,serif\" font-size=\"14.00\">+</text>\n</g>\n<!-- 136748309722160+&#45;&gt;136748309722160 -->\n<g id=\"edge1\" class=\"edge\">\n<title>136748309722160+&#45;&gt;136748309722160</title>\n<path fill=\"none\" stroke=\"black\" d=\"M752,-123C759.71,-123 768.56,-123 777.77,-123\"/>\n<polygon fill=\"black\" stroke=\"black\" points=\"777.87,-126.5 787.87,-123 777.87,-119.5 777.87,-126.5\"/>\n</g>\n<!-- 136748309724224 -->\n<g id=\"node3\" class=\"node\">\n<title>136748309724224</title>\n<polygon fill=\"none\" stroke=\"black\" points=\"266,-176.5 266,-245.5 401,-245.5 401,-176.5 266,-176.5\"/>\n<text text-anchor=\"middle\" x=\"333.5\" y=\"-230.3\" font-family=\"Times,serif\" font-size=\"14.00\">x2*w2</text>\n<polyline fill=\"none\" stroke=\"black\" points=\"266,-222.5 401,-222.5 \"/>\n<text text-anchor=\"middle\" x=\"333.5\" y=\"-207.3\" font-family=\"Times,serif\" font-size=\"14.00\">0.0</text>\n<polyline fill=\"none\" stroke=\"black\" points=\"266,-199.5 401,-199.5 \"/>\n<text text-anchor=\"middle\" x=\"333.5\" y=\"-184.3\" font-family=\"Times,serif\" font-size=\"14.00\">0.4999999999999999</text>\n</g>\n<!-- 136748309723792+ -->\n<g id=\"node9\" class=\"node\">\n<title>136748309723792+</title>\n<ellipse fill=\"none\" stroke=\"black\" cx=\"464\" cy=\"-167\" rx=\"27\" ry=\"18\"/>\n<text text-anchor=\"middle\" x=\"464\" y=\"-163.3\" font-family=\"Times,serif\" font-size=\"14.00\">+</text>\n</g>\n<!-- 136748309724224&#45;&gt;136748309723792+ -->\n<g id=\"edge7\" class=\"edge\">\n<title>136748309724224&#45;&gt;136748309723792+</title>\n<path fill=\"none\" stroke=\"black\" d=\"M401.01,-188.23C411.06,-184.78 421.05,-181.37 429.97,-178.31\"/>\n<polygon fill=\"black\" stroke=\"black\" points=\"431.21,-181.59 439.54,-175.03 428.94,-174.96 431.21,-181.59\"/>\n</g>\n<!-- 136748309724224* -->\n<g id=\"node4\" class=\"node\">\n<title>136748309724224*</title>\n<ellipse fill=\"none\" stroke=\"black\" cx=\"203\" cy=\"-211\" rx=\"27\" ry=\"18\"/>\n<text text-anchor=\"middle\" x=\"203\" y=\"-207.3\" font-family=\"Times,serif\" font-size=\"14.00\">*</text>\n</g>\n<!-- 136748309724224*&#45;&gt;136748309724224 -->\n<g id=\"edge2\" class=\"edge\">\n<title>136748309724224*&#45;&gt;136748309724224</title>\n<path fill=\"none\" stroke=\"black\" d=\"M230,-211C237.71,-211 246.56,-211 255.77,-211\"/>\n<polygon fill=\"black\" stroke=\"black\" points=\"255.87,-214.5 265.87,-211 255.87,-207.5 255.87,-214.5\"/>\n</g>\n<!-- 136748309718080 -->\n<g id=\"node5\" class=\"node\">\n<title>136748309718080</title>\n<polygon fill=\"none\" stroke=\"black\" points=\"43,-264.5 43,-333.5 97,-333.5 97,-264.5 43,-264.5\"/>\n<text text-anchor=\"middle\" x=\"70\" y=\"-318.3\" font-family=\"Times,serif\" font-size=\"14.00\">w2</text>\n<polyline fill=\"none\" stroke=\"black\" points=\"43,-310.5 97,-310.5 \"/>\n<text text-anchor=\"middle\" x=\"70\" y=\"-295.3\" font-family=\"Times,serif\" font-size=\"14.00\">1.0</text>\n<polyline fill=\"none\" stroke=\"black\" points=\"43,-287.5 97,-287.5 \"/>\n<text text-anchor=\"middle\" x=\"70\" y=\"-272.3\" font-family=\"Times,serif\" font-size=\"14.00\">0.0</text>\n</g>\n<!-- 136748309718080&#45;&gt;136748309724224* -->\n<g id=\"edge13\" class=\"edge\">\n<title>136748309718080&#45;&gt;136748309724224*</title>\n<path fill=\"none\" stroke=\"black\" d=\"M97.08,-282.79C110.08,-274.61 125.97,-264.44 140,-255 151.84,-247.03 164.73,-237.95 175.68,-230.11\"/>\n<polygon fill=\"black\" stroke=\"black\" points=\"177.91,-232.82 183.99,-224.14 173.83,-227.13 177.91,-232.82\"/>\n</g>\n<!-- 136748309709872 -->\n<g id=\"node6\" class=\"node\">\n<title>136748309709872</title>\n<polygon fill=\"none\" stroke=\"black\" points=\"2.5,-88.5 2.5,-157.5 137.5,-157.5 137.5,-88.5 2.5,-88.5\"/>\n<text text-anchor=\"middle\" x=\"70\" y=\"-142.3\" font-family=\"Times,serif\" font-size=\"14.00\">w1</text>\n<polyline fill=\"none\" stroke=\"black\" points=\"2.5,-134.5 137.5,-134.5 \"/>\n<text text-anchor=\"middle\" x=\"70\" y=\"-119.3\" font-family=\"Times,serif\" font-size=\"14.00\">&#45;3.0</text>\n<polyline fill=\"none\" stroke=\"black\" points=\"2.5,-111.5 137.5,-111.5 \"/>\n<text text-anchor=\"middle\" x=\"70\" y=\"-96.3\" font-family=\"Times,serif\" font-size=\"14.00\">0.9999999999999998</text>\n</g>\n<!-- 136748309717984* -->\n<g id=\"node15\" class=\"node\">\n<title>136748309717984*</title>\n<ellipse fill=\"none\" stroke=\"black\" cx=\"203\" cy=\"-123\" rx=\"27\" ry=\"18\"/>\n<text text-anchor=\"middle\" x=\"203\" y=\"-119.3\" font-family=\"Times,serif\" font-size=\"14.00\">*</text>\n</g>\n<!-- 136748309709872&#45;&gt;136748309717984* -->\n<g id=\"edge10\" class=\"edge\">\n<title>136748309709872&#45;&gt;136748309717984*</title>\n<path fill=\"none\" stroke=\"black\" d=\"M137.65,-123C147.27,-123 156.85,-123 165.57,-123\"/>\n<polygon fill=\"black\" stroke=\"black\" points=\"165.73,-126.5 175.73,-123 165.73,-119.5 165.73,-126.5\"/>\n</g>\n<!-- 136748309724800 -->\n<g id=\"node7\" class=\"node\">\n<title>136748309724800</title>\n<polygon fill=\"none\" stroke=\"black\" points=\"2.5,-176.5 2.5,-245.5 137.5,-245.5 137.5,-176.5 2.5,-176.5\"/>\n<text text-anchor=\"middle\" x=\"70\" y=\"-230.3\" font-family=\"Times,serif\" font-size=\"14.00\">x2</text>\n<polyline fill=\"none\" stroke=\"black\" points=\"2.5,-222.5 137.5,-222.5 \"/>\n<text text-anchor=\"middle\" x=\"70\" y=\"-207.3\" font-family=\"Times,serif\" font-size=\"14.00\">0.0</text>\n<polyline fill=\"none\" stroke=\"black\" points=\"2.5,-199.5 137.5,-199.5 \"/>\n<text text-anchor=\"middle\" x=\"70\" y=\"-184.3\" font-family=\"Times,serif\" font-size=\"14.00\">0.4999999999999999</text>\n</g>\n<!-- 136748309724800&#45;&gt;136748309724224* -->\n<g id=\"edge6\" class=\"edge\">\n<title>136748309724800&#45;&gt;136748309724224*</title>\n<path fill=\"none\" stroke=\"black\" d=\"M137.65,-211C147.27,-211 156.85,-211 165.57,-211\"/>\n<polygon fill=\"black\" stroke=\"black\" points=\"165.73,-214.5 175.73,-211 165.73,-207.5 165.73,-214.5\"/>\n</g>\n<!-- 136748309723792 -->\n<g id=\"node8\" class=\"node\">\n<title>136748309723792</title>\n<polygon fill=\"none\" stroke=\"black\" points=\"527,-132.5 527,-201.5 662,-201.5 662,-132.5 527,-132.5\"/>\n<text text-anchor=\"middle\" x=\"594.5\" y=\"-186.3\" font-family=\"Times,serif\" font-size=\"14.00\">x1*w1 + x2*w2</text>\n<polyline fill=\"none\" stroke=\"black\" points=\"527,-178.5 662,-178.5 \"/>\n<text text-anchor=\"middle\" x=\"594.5\" y=\"-163.3\" font-family=\"Times,serif\" font-size=\"14.00\">&#45;6.0</text>\n<polyline fill=\"none\" stroke=\"black\" points=\"527,-155.5 662,-155.5 \"/>\n<text text-anchor=\"middle\" x=\"594.5\" y=\"-140.3\" font-family=\"Times,serif\" font-size=\"14.00\">0.4999999999999999</text>\n</g>\n<!-- 136748309723792&#45;&gt;136748309722160+ -->\n<g id=\"edge9\" class=\"edge\">\n<title>136748309723792&#45;&gt;136748309722160+</title>\n<path fill=\"none\" stroke=\"black\" d=\"M662.01,-144.23C672.06,-140.78 682.05,-137.37 690.97,-134.31\"/>\n<polygon fill=\"black\" stroke=\"black\" points=\"692.21,-137.59 700.54,-131.03 689.94,-130.96 692.21,-137.59\"/>\n</g>\n<!-- 136748309723792+&#45;&gt;136748309723792 -->\n<g id=\"edge3\" class=\"edge\">\n<title>136748309723792+&#45;&gt;136748309723792</title>\n<path fill=\"none\" stroke=\"black\" d=\"M491,-167C498.71,-167 507.56,-167 516.77,-167\"/>\n<polygon fill=\"black\" stroke=\"black\" points=\"516.87,-170.5 526.87,-167 516.87,-163.5 516.87,-170.5\"/>\n</g>\n<!-- 136748309714096 -->\n<g id=\"node10\" class=\"node\">\n<title>136748309714096</title>\n<polygon fill=\"none\" stroke=\"black\" points=\"527,-44.5 527,-113.5 662,-113.5 662,-44.5 527,-44.5\"/>\n<text text-anchor=\"middle\" x=\"594.5\" y=\"-98.3\" font-family=\"Times,serif\" font-size=\"14.00\">b</text>\n<polyline fill=\"none\" stroke=\"black\" points=\"527,-90.5 662,-90.5 \"/>\n<text text-anchor=\"middle\" x=\"594.5\" y=\"-75.3\" font-family=\"Times,serif\" font-size=\"14.00\">6.881373587019543</text>\n<polyline fill=\"none\" stroke=\"black\" points=\"527,-67.5 662,-67.5 \"/>\n<text text-anchor=\"middle\" x=\"594.5\" y=\"-52.3\" font-family=\"Times,serif\" font-size=\"14.00\">0.4999999999999999</text>\n</g>\n<!-- 136748309714096&#45;&gt;136748309722160+ -->\n<g id=\"edge8\" class=\"edge\">\n<title>136748309714096&#45;&gt;136748309722160+</title>\n<path fill=\"none\" stroke=\"black\" d=\"M662.01,-101.77C672.06,-105.22 682.05,-108.63 690.97,-111.69\"/>\n<polygon fill=\"black\" stroke=\"black\" points=\"689.94,-115.04 700.54,-114.97 692.21,-108.41 689.94,-115.04\"/>\n</g>\n<!-- 136748309709632 -->\n<g id=\"node11\" class=\"node\">\n<title>136748309709632</title>\n<polygon fill=\"none\" stroke=\"black\" points=\"0,-0.5 0,-69.5 140,-69.5 140,-0.5 0,-0.5\"/>\n<text text-anchor=\"middle\" x=\"70\" y=\"-54.3\" font-family=\"Times,serif\" font-size=\"14.00\">x1</text>\n<polyline fill=\"none\" stroke=\"black\" points=\"0,-46.5 140,-46.5 \"/>\n<text text-anchor=\"middle\" x=\"70\" y=\"-31.3\" font-family=\"Times,serif\" font-size=\"14.00\">2.0</text>\n<polyline fill=\"none\" stroke=\"black\" points=\"0,-23.5 140,-23.5 \"/>\n<text text-anchor=\"middle\" x=\"70\" y=\"-8.3\" font-family=\"Times,serif\" font-size=\"14.00\">&#45;1.4999999999999996</text>\n</g>\n<!-- 136748309709632&#45;&gt;136748309717984* -->\n<g id=\"edge11\" class=\"edge\">\n<title>136748309709632&#45;&gt;136748309717984*</title>\n<path fill=\"none\" stroke=\"black\" d=\"M125.78,-69.58C130.61,-72.73 135.4,-75.91 140,-79 151.84,-86.97 164.73,-96.05 175.68,-103.89\"/>\n<polygon fill=\"black\" stroke=\"black\" points=\"173.83,-106.87 183.99,-109.86 177.91,-101.18 173.83,-106.87\"/>\n</g>\n<!-- 136748309719904 -->\n<g id=\"node12\" class=\"node\">\n<title>136748309719904</title>\n<polygon fill=\"none\" stroke=\"black\" points=\"1049,-88.5 1049,-157.5 1184,-157.5 1184,-88.5 1049,-88.5\"/>\n<text text-anchor=\"middle\" x=\"1116.5\" y=\"-142.3\" font-family=\"Times,serif\" font-size=\"14.00\">o</text>\n<polyline fill=\"none\" stroke=\"black\" points=\"1049,-134.5 1184,-134.5 \"/>\n<text text-anchor=\"middle\" x=\"1116.5\" y=\"-119.3\" font-family=\"Times,serif\" font-size=\"14.00\">0.7071067811865476</text>\n<polyline fill=\"none\" stroke=\"black\" points=\"1049,-111.5 1184,-111.5 \"/>\n<text text-anchor=\"middle\" x=\"1116.5\" y=\"-96.3\" font-family=\"Times,serif\" font-size=\"14.00\">1.0</text>\n</g>\n<!-- 136748309719904tanh&#45;&gt;136748309719904 -->\n<g id=\"edge4\" class=\"edge\">\n<title>136748309719904tanh&#45;&gt;136748309719904</title>\n<path fill=\"none\" stroke=\"black\" d=\"M1013,-123C1020.71,-123 1029.56,-123 1038.77,-123\"/>\n<polygon fill=\"black\" stroke=\"black\" points=\"1038.87,-126.5 1048.87,-123 1038.87,-119.5 1038.87,-126.5\"/>\n</g>\n<!-- 136748309717984 -->\n<g id=\"node14\" class=\"node\">\n<title>136748309717984</title>\n<polygon fill=\"none\" stroke=\"black\" points=\"266,-88.5 266,-157.5 401,-157.5 401,-88.5 266,-88.5\"/>\n<text text-anchor=\"middle\" x=\"333.5\" y=\"-142.3\" font-family=\"Times,serif\" font-size=\"14.00\">x1*w1</text>\n<polyline fill=\"none\" stroke=\"black\" points=\"266,-134.5 401,-134.5 \"/>\n<text text-anchor=\"middle\" x=\"333.5\" y=\"-119.3\" font-family=\"Times,serif\" font-size=\"14.00\">&#45;6.0</text>\n<polyline fill=\"none\" stroke=\"black\" points=\"266,-111.5 401,-111.5 \"/>\n<text text-anchor=\"middle\" x=\"333.5\" y=\"-96.3\" font-family=\"Times,serif\" font-size=\"14.00\">0.4999999999999999</text>\n</g>\n<!-- 136748309717984&#45;&gt;136748309723792+ -->\n<g id=\"edge12\" class=\"edge\">\n<title>136748309717984&#45;&gt;136748309723792+</title>\n<path fill=\"none\" stroke=\"black\" d=\"M401.01,-145.77C411.06,-149.22 421.05,-152.63 429.97,-155.69\"/>\n<polygon fill=\"black\" stroke=\"black\" points=\"428.94,-159.04 439.54,-158.97 431.21,-152.41 428.94,-159.04\"/>\n</g>\n<!-- 136748309717984*&#45;&gt;136748309717984 -->\n<g id=\"edge5\" class=\"edge\">\n<title>136748309717984*&#45;&gt;136748309717984</title>\n<path fill=\"none\" stroke=\"black\" d=\"M230,-123C237.71,-123 246.56,-123 255.77,-123\"/>\n<polygon fill=\"black\" stroke=\"black\" points=\"255.87,-126.5 265.87,-123 255.87,-119.5 255.87,-126.5\"/>\n</g>\n</g>\n</svg>\n",
            "text/plain": [
              "<graphviz.graphs.Digraph at 0x7c5f326c9120>"
            ]
          },
          "metadata": {},
          "execution_count": 53
        }
      ]
    },
    {
      "cell_type": "code",
      "source": [
        " # for base case we initialise it with 1.\n",
        "# because self.grad = 0.0\n",
        "o.grad = 1\n",
        "o._backward()\n",
        "n._backward()\n",
        "b._backward()\n",
        "x1w1x2w2._backward()\n",
        "x1w1._backward()\n",
        "x2w2._backward()\n",
        "x2._backward()\n",
        "w2._backward()\n",
        "x1._backward()\n",
        "w1._backward()"
      ],
      "metadata": {
        "id": "e2cSjYb2iEck"
      },
      "execution_count": 34,
      "outputs": []
    },
    {
      "cell_type": "code",
      "source": [
        "o.backward()"
      ],
      "metadata": {
        "id": "Sq9_he7IiM_Q"
      },
      "execution_count": 52,
      "outputs": []
    },
    {
      "cell_type": "code",
      "source": [
        "# there is a bug in current implementation\n",
        "# in the below example: the gradient for a should be two not one.\n",
        "a = Value(2, label = 'a')\n",
        "b = a + a; b.label = 'b'\n",
        "b.backward()\n",
        "draw_dot(b)"
      ],
      "metadata": {
        "colab": {
          "base_uri": "https://localhost:8080/",
          "height": 126
        },
        "id": "5GcwcsXXkA3Y",
        "outputId": "cfa6edd0-ab73-4f56-fdfb-7a849c450897"
      },
      "execution_count": 36,
      "outputs": [
        {
          "output_type": "execute_result",
          "data": {
            "image/svg+xml": "<?xml version=\"1.0\" encoding=\"UTF-8\" standalone=\"no\"?>\n<!DOCTYPE svg PUBLIC \"-//W3C//DTD SVG 1.1//EN\"\n \"http://www.w3.org/Graphics/SVG/1.1/DTD/svg11.dtd\">\n<!-- Generated by graphviz version 2.43.0 (0)\n -->\n<!-- Title: %3 Pages: 1 -->\n<svg width=\"242pt\" height=\"78pt\"\n viewBox=\"0.00 0.00 242.00 78.00\" xmlns=\"http://www.w3.org/2000/svg\" xmlns:xlink=\"http://www.w3.org/1999/xlink\">\n<g id=\"graph0\" class=\"graph\" transform=\"scale(1 1) rotate(0) translate(4 74)\">\n<title>%3</title>\n<polygon fill=\"white\" stroke=\"transparent\" points=\"-4,4 -4,-74 238,-74 238,4 -4,4\"/>\n<!-- 136748309712656 -->\n<g id=\"node1\" class=\"node\">\n<title>136748309712656</title>\n<polygon fill=\"none\" stroke=\"black\" points=\"180,-0.5 180,-69.5 234,-69.5 234,-0.5 180,-0.5\"/>\n<text text-anchor=\"middle\" x=\"207\" y=\"-54.3\" font-family=\"Times,serif\" font-size=\"14.00\">b</text>\n<polyline fill=\"none\" stroke=\"black\" points=\"180,-46.5 234,-46.5 \"/>\n<text text-anchor=\"middle\" x=\"207\" y=\"-31.3\" font-family=\"Times,serif\" font-size=\"14.00\">4</text>\n<polyline fill=\"none\" stroke=\"black\" points=\"180,-23.5 234,-23.5 \"/>\n<text text-anchor=\"middle\" x=\"207\" y=\"-8.3\" font-family=\"Times,serif\" font-size=\"14.00\">1.0</text>\n</g>\n<!-- 136748309712656+ -->\n<g id=\"node2\" class=\"node\">\n<title>136748309712656+</title>\n<ellipse fill=\"none\" stroke=\"black\" cx=\"117\" cy=\"-35\" rx=\"27\" ry=\"18\"/>\n<text text-anchor=\"middle\" x=\"117\" y=\"-31.3\" font-family=\"Times,serif\" font-size=\"14.00\">+</text>\n</g>\n<!-- 136748309712656+&#45;&gt;136748309712656 -->\n<g id=\"edge1\" class=\"edge\">\n<title>136748309712656+&#45;&gt;136748309712656</title>\n<path fill=\"none\" stroke=\"black\" d=\"M144.4,-35C152.39,-35 161.31,-35 169.82,-35\"/>\n<polygon fill=\"black\" stroke=\"black\" points=\"169.92,-38.5 179.92,-35 169.92,-31.5 169.92,-38.5\"/>\n</g>\n<!-- 136748309712752 -->\n<g id=\"node3\" class=\"node\">\n<title>136748309712752</title>\n<polygon fill=\"none\" stroke=\"black\" points=\"0,-0.5 0,-69.5 54,-69.5 54,-0.5 0,-0.5\"/>\n<text text-anchor=\"middle\" x=\"27\" y=\"-54.3\" font-family=\"Times,serif\" font-size=\"14.00\">a</text>\n<polyline fill=\"none\" stroke=\"black\" points=\"0,-46.5 54,-46.5 \"/>\n<text text-anchor=\"middle\" x=\"27\" y=\"-31.3\" font-family=\"Times,serif\" font-size=\"14.00\">2</text>\n<polyline fill=\"none\" stroke=\"black\" points=\"0,-23.5 54,-23.5 \"/>\n<text text-anchor=\"middle\" x=\"27\" y=\"-8.3\" font-family=\"Times,serif\" font-size=\"14.00\">2.0</text>\n</g>\n<!-- 136748309712752&#45;&gt;136748309712656+ -->\n<g id=\"edge2\" class=\"edge\">\n<title>136748309712752&#45;&gt;136748309712656+</title>\n<path fill=\"none\" stroke=\"black\" d=\"M54.4,-35C62.39,-35 71.31,-35 79.82,-35\"/>\n<polygon fill=\"black\" stroke=\"black\" points=\"79.92,-38.5 89.92,-35 79.92,-31.5 79.92,-38.5\"/>\n</g>\n</g>\n</svg>\n",
            "text/plain": [
              "<graphviz.graphs.Digraph at 0x7c5f326c9b40>"
            ]
          },
          "metadata": {},
          "execution_count": 36
        }
      ]
    },
    {
      "cell_type": "code",
      "source": [
        "# We can not do a+1 as 1 is not Value\n",
        "\n",
        "class Value:\n",
        "\n",
        "  def __init__(self, data, _children = (), _op = '', label = ''):\n",
        "    self.data = data\n",
        "    self.grad = 0.0\n",
        "    self._backward = lambda: None\n",
        "    self._prev = set(_children)\n",
        "    self._op = _op\n",
        "    self.label = label\n",
        "\n",
        "  def __add__(self, other):\n",
        "    other = other if isinstance(other, Value) else Value(other)\n",
        "    out = Value(self.data + other.data, (self, other), '+')\n",
        "    def _backward():\n",
        "      self.grad += out.grad\n",
        "      other.grad += out.grad\n",
        "    out._backward = _backward\n",
        "    return out\n",
        "\n",
        "  def __mul__(self, other):\n",
        "    other = other if isinstance(other, Value) else Value(other)\n",
        "    out = Value(self.data * other.data, (self, other), '*')\n",
        "    def _backward():\n",
        "      self.grad += other.data * out.grad\n",
        "      other.grad += self.data * out.grad\n",
        "    out._backward = _backward\n",
        "    return out\n",
        "\n",
        "  def __pow__(self, other):\n",
        "    assert isinstance(other, (int, float)), \"only supports int and float\"\n",
        "    out = Value(self.data**other, (self, ), f'**{other}')\n",
        "    def _backward():\n",
        "      self.grad += other * (self.data ** (other - 1)) * out.grad\n",
        "    out._backward = _backward\n",
        "    return out\n",
        "\n",
        "  def tanh(self):\n",
        "    x = self.data\n",
        "    t = (math.exp(2*x) - 1) / (math.exp(2*x) + 1)\n",
        "    out = Value(t, (self, ), 'tanh')\n",
        "    def _backward():\n",
        "      self.grad = (1 - t**2) * out.grad\n",
        "    out._backward = _backward\n",
        "    return out\n",
        "\n",
        "  def exp(self):\n",
        "    x = self.data\n",
        "    out = Value(math.exp(x), (self, ), 'exp')\n",
        "    def _backward():\n",
        "      self.grad += out.data * out.grad\n",
        "    out._backward = _backward\n",
        "    return out\n",
        "\n",
        "  def backward(self):\n",
        "    topo = []\n",
        "    visited = set()\n",
        "    def build_topo(v):\n",
        "      if v not in visited:\n",
        "        visited.add(v)\n",
        "        for child in v._prev:\n",
        "          build_topo(child)\n",
        "        topo.append(v)\n",
        "    build_topo(self)\n",
        "    self.grad = 1.0\n",
        "    for node in reversed(topo):\n",
        "      node._backward()\n",
        "\n",
        "  def __truediv__(self, other):\n",
        "    out = self * other**-1\n",
        "    return out\n",
        "\n",
        "  def __neg__(self):\n",
        "    return self * -1\n",
        "\n",
        "  def __radd__(self, other):\n",
        "    return self + other\n",
        "\n",
        "  def __rmul__(self, other):\n",
        "    return self * other\n",
        "\n",
        "  def __sub__(self, other):\n",
        "    return self + (-other)\n",
        "\n",
        "  def __repr__(self):\n",
        "    return \"Value(data={})\".format(self.data)"
      ],
      "metadata": {
        "id": "y_6-LB9LlB-r"
      },
      "execution_count": 114,
      "outputs": []
    },
    {
      "cell_type": "code",
      "source": [
        "a = Value(2)\n",
        "\n",
        "2 * a"
      ],
      "metadata": {
        "colab": {
          "base_uri": "https://localhost:8080/"
        },
        "id": "rLM2G7NaTE7k",
        "outputId": "67f0f065-1e42-4363-afec-280f10ab71d6"
      },
      "execution_count": 38,
      "outputs": [
        {
          "output_type": "execute_result",
          "data": {
            "text/plain": [
              "Value(data=4)"
            ]
          },
          "metadata": {},
          "execution_count": 38
        }
      ]
    },
    {
      "cell_type": "code",
      "source": [
        "# let us define division in a slightly smarter manner to make it more generic\n",
        "# a / b = a *(1/b) = a * (b ** 1)\n",
        "# we can define '**' and can write grad for it."
      ],
      "metadata": {
        "id": "rluGsZG1TIuT"
      },
      "execution_count": 40,
      "outputs": []
    },
    {
      "cell_type": "code",
      "source": [
        "x1 = Value(2.0, label='x1')\n",
        "x2 = Value(0.0, label='x2')\n",
        "\n",
        "# weights w1, w2\n",
        "w1 = Value(-3.0, label='w1')\n",
        "w2 = Value(1.0, label='w2')\n",
        "\n",
        "# bias of the neuron\n",
        "b = Value(6.8813735870195432, label='b')\n",
        "\n",
        "x1w1 = x1*w1; x1w1.label = 'x1*w1'\n",
        "x2w2 = x2*w2; x2w2.label = 'x2*w2'\n",
        "x1w1x2w2 = x1w1 + x2w2; x1w1x2w2.label = 'x1*w1 + x2*w2'\n",
        "n = x1w1x2w2 + b; n.label = 'n'\n",
        "\n",
        "# first run with out tanh\n",
        "# o = n.tanh(); o.label = 'o'\n",
        "\n",
        "# instead let us use tanh with exp formular\n",
        "e = (2*n).exp()\n",
        "o = (e - 1) / (e + 1)\n",
        "o.label = 'o'\n",
        "o.backward()\n",
        "draw_dot(o)"
      ],
      "metadata": {
        "colab": {
          "base_uri": "https://localhost:8080/",
          "height": 557
        },
        "id": "bHdb1DpjTz22",
        "outputId": "a19332b3-d758-4710-81a5-4c1a7ab983cd"
      },
      "execution_count": 69,
      "outputs": [
        {
          "output_type": "execute_result",
          "data": {
            "image/svg+xml": "<?xml version=\"1.0\" encoding=\"UTF-8\" standalone=\"no\"?>\n<!DOCTYPE svg PUBLIC \"-//W3C//DTD SVG 1.1//EN\"\n \"http://www.w3.org/Graphics/SVG/1.1/DTD/svg11.dtd\">\n<!-- Generated by graphviz version 2.43.0 (0)\n -->\n<!-- Title: %3 Pages: 1 -->\n<svg width=\"2165pt\" height=\"386pt\"\n viewBox=\"0.00 0.00 2165.00 386.00\" xmlns=\"http://www.w3.org/2000/svg\" xmlns:xlink=\"http://www.w3.org/1999/xlink\">\n<g id=\"graph0\" class=\"graph\" transform=\"scale(1 1) rotate(0) translate(4 382)\">\n<title>%3</title>\n<polygon fill=\"white\" stroke=\"transparent\" points=\"-4,4 -4,-382 2161,-382 2161,4 -4,4\"/>\n<!-- 136748313366528 -->\n<g id=\"node1\" class=\"node\">\n<title>136748313366528</title>\n<polygon fill=\"none\" stroke=\"black\" points=\"2022,-219.5 2022,-288.5 2157,-288.5 2157,-219.5 2022,-219.5\"/>\n<text text-anchor=\"middle\" x=\"2089.5\" y=\"-273.3\" font-family=\"Times,serif\" font-size=\"14.00\">o</text>\n<polyline fill=\"none\" stroke=\"black\" points=\"2022,-265.5 2157,-265.5 \"/>\n<text text-anchor=\"middle\" x=\"2089.5\" y=\"-250.3\" font-family=\"Times,serif\" font-size=\"14.00\">0.7071067811865477</text>\n<polyline fill=\"none\" stroke=\"black\" points=\"2022,-242.5 2157,-242.5 \"/>\n<text text-anchor=\"middle\" x=\"2089.5\" y=\"-227.3\" font-family=\"Times,serif\" font-size=\"14.00\">1.0</text>\n</g>\n<!-- 136748313366528* -->\n<g id=\"node2\" class=\"node\">\n<title>136748313366528*</title>\n<ellipse fill=\"none\" stroke=\"black\" cx=\"1959\" cy=\"-254\" rx=\"27\" ry=\"18\"/>\n<text text-anchor=\"middle\" x=\"1959\" y=\"-250.3\" font-family=\"Times,serif\" font-size=\"14.00\">*</text>\n</g>\n<!-- 136748313366528*&#45;&gt;136748313366528 -->\n<g id=\"edge1\" class=\"edge\">\n<title>136748313366528*&#45;&gt;136748313366528</title>\n<path fill=\"none\" stroke=\"black\" d=\"M1986,-254C1993.71,-254 2002.56,-254 2011.77,-254\"/>\n<polygon fill=\"black\" stroke=\"black\" points=\"2011.87,-257.5 2021.87,-254 2011.87,-250.5 2011.87,-257.5\"/>\n</g>\n<!-- 136748325500432 -->\n<g id=\"node3\" class=\"node\">\n<title>136748325500432</title>\n<polygon fill=\"none\" stroke=\"black\" points=\"360,-220.5 360,-289.5 488,-289.5 488,-220.5 360,-220.5\"/>\n<text text-anchor=\"middle\" x=\"424\" y=\"-274.3\" font-family=\"Times,serif\" font-size=\"14.00\">b</text>\n<polyline fill=\"none\" stroke=\"black\" points=\"360,-266.5 488,-266.5 \"/>\n<text text-anchor=\"middle\" x=\"424\" y=\"-251.3\" font-family=\"Times,serif\" font-size=\"14.00\">6.881373587019543</text>\n<polyline fill=\"none\" stroke=\"black\" points=\"360,-243.5 488,-243.5 \"/>\n<text text-anchor=\"middle\" x=\"424\" y=\"-228.3\" font-family=\"Times,serif\" font-size=\"14.00\">0.5</text>\n</g>\n<!-- 136748325496160+ -->\n<g id=\"node13\" class=\"node\">\n<title>136748325496160+</title>\n<ellipse fill=\"none\" stroke=\"black\" cx=\"551\" cy=\"-211\" rx=\"27\" ry=\"18\"/>\n<text text-anchor=\"middle\" x=\"551\" y=\"-207.3\" font-family=\"Times,serif\" font-size=\"14.00\">+</text>\n</g>\n<!-- 136748325500432&#45;&gt;136748325496160+ -->\n<g id=\"edge15\" class=\"edge\">\n<title>136748325500432&#45;&gt;136748325496160+</title>\n<path fill=\"none\" stroke=\"black\" d=\"M488.23,-232.74C498.26,-229.21 508.27,-225.69 517.22,-222.54\"/>\n<polygon fill=\"black\" stroke=\"black\" points=\"518.54,-225.78 526.81,-219.16 516.22,-219.18 518.54,-225.78\"/>\n</g>\n<!-- 136748314806880 -->\n<g id=\"node4\" class=\"node\">\n<title>136748314806880</title>\n<polygon fill=\"none\" stroke=\"black\" points=\"0,-264.5 0,-333.5 54,-333.5 54,-264.5 0,-264.5\"/>\n<text text-anchor=\"middle\" x=\"27\" y=\"-318.3\" font-family=\"Times,serif\" font-size=\"14.00\">w1</text>\n<polyline fill=\"none\" stroke=\"black\" points=\"0,-310.5 54,-310.5 \"/>\n<text text-anchor=\"middle\" x=\"27\" y=\"-295.3\" font-family=\"Times,serif\" font-size=\"14.00\">&#45;3.0</text>\n<polyline fill=\"none\" stroke=\"black\" points=\"0,-287.5 54,-287.5 \"/>\n<text text-anchor=\"middle\" x=\"27\" y=\"-272.3\" font-family=\"Times,serif\" font-size=\"14.00\">1.0</text>\n</g>\n<!-- 136748325499712* -->\n<g id=\"node10\" class=\"node\">\n<title>136748325499712*</title>\n<ellipse fill=\"none\" stroke=\"black\" cx=\"117\" cy=\"-211\" rx=\"27\" ry=\"18\"/>\n<text text-anchor=\"middle\" x=\"117\" y=\"-207.3\" font-family=\"Times,serif\" font-size=\"14.00\">*</text>\n</g>\n<!-- 136748314806880&#45;&gt;136748325499712* -->\n<g id=\"edge16\" class=\"edge\">\n<title>136748314806880&#45;&gt;136748325499712*</title>\n<path fill=\"none\" stroke=\"black\" d=\"M54.4,-272.6C66.94,-260.06 81.77,-245.23 93.73,-233.27\"/>\n<polygon fill=\"black\" stroke=\"black\" points=\"96.53,-235.42 101.13,-225.87 91.58,-230.47 96.53,-235.42\"/>\n</g>\n<!-- 136748313369216 -->\n<g id=\"node5\" class=\"node\">\n<title>136748313369216</title>\n<polygon fill=\"none\" stroke=\"black\" points=\"614,-264.5 614,-333.5 749,-333.5 749,-264.5 614,-264.5\"/>\n<text text-anchor=\"middle\" x=\"681.5\" y=\"-318.3\" font-family=\"Times,serif\" font-size=\"14.00\"> </text>\n<polyline fill=\"none\" stroke=\"black\" points=\"614,-310.5 749,-310.5 \"/>\n<text text-anchor=\"middle\" x=\"681.5\" y=\"-295.3\" font-family=\"Times,serif\" font-size=\"14.00\">2</text>\n<polyline fill=\"none\" stroke=\"black\" points=\"614,-287.5 749,-287.5 \"/>\n<text text-anchor=\"middle\" x=\"681.5\" y=\"-272.3\" font-family=\"Times,serif\" font-size=\"14.00\">0.2203433967548858</text>\n</g>\n<!-- 136748313365376* -->\n<g id=\"node17\" class=\"node\">\n<title>136748313365376*</title>\n<ellipse fill=\"none\" stroke=\"black\" cx=\"812\" cy=\"-255\" rx=\"27\" ry=\"18\"/>\n<text text-anchor=\"middle\" x=\"812\" y=\"-251.3\" font-family=\"Times,serif\" font-size=\"14.00\">*</text>\n</g>\n<!-- 136748313369216&#45;&gt;136748313365376* -->\n<g id=\"edge11\" class=\"edge\">\n<title>136748313369216&#45;&gt;136748313365376*</title>\n<path fill=\"none\" stroke=\"black\" d=\"M749.01,-276.23C759.06,-272.78 769.05,-269.37 777.97,-266.31\"/>\n<polygon fill=\"black\" stroke=\"black\" points=\"779.21,-269.59 787.54,-263.03 776.94,-262.96 779.21,-269.59\"/>\n</g>\n<!-- 136748314814608 -->\n<g id=\"node6\" class=\"node\">\n<title>136748314814608</title>\n<polygon fill=\"none\" stroke=\"black\" points=\"0,-88.5 0,-157.5 54,-157.5 54,-88.5 0,-88.5\"/>\n<text text-anchor=\"middle\" x=\"27\" y=\"-142.3\" font-family=\"Times,serif\" font-size=\"14.00\">x2</text>\n<polyline fill=\"none\" stroke=\"black\" points=\"0,-134.5 54,-134.5 \"/>\n<text text-anchor=\"middle\" x=\"27\" y=\"-119.3\" font-family=\"Times,serif\" font-size=\"14.00\">0.0</text>\n<polyline fill=\"none\" stroke=\"black\" points=\"0,-111.5 54,-111.5 \"/>\n<text text-anchor=\"middle\" x=\"27\" y=\"-96.3\" font-family=\"Times,serif\" font-size=\"14.00\">0.5</text>\n</g>\n<!-- 136748325490640* -->\n<g id=\"node24\" class=\"node\">\n<title>136748325490640*</title>\n<ellipse fill=\"none\" stroke=\"black\" cx=\"117\" cy=\"-123\" rx=\"27\" ry=\"18\"/>\n<text text-anchor=\"middle\" x=\"117\" y=\"-119.3\" font-family=\"Times,serif\" font-size=\"14.00\">*</text>\n</g>\n<!-- 136748314814608&#45;&gt;136748325490640* -->\n<g id=\"edge17\" class=\"edge\">\n<title>136748314814608&#45;&gt;136748325490640*</title>\n<path fill=\"none\" stroke=\"black\" d=\"M54.4,-123C62.39,-123 71.31,-123 79.82,-123\"/>\n<polygon fill=\"black\" stroke=\"black\" points=\"79.92,-126.5 89.92,-123 79.92,-119.5 79.92,-126.5\"/>\n</g>\n<!-- 136748313370800 -->\n<g id=\"node7\" class=\"node\">\n<title>136748313370800</title>\n<polygon fill=\"none\" stroke=\"black\" points=\"1761,-253.5 1761,-322.5 1896,-322.5 1896,-253.5 1761,-253.5\"/>\n<text text-anchor=\"middle\" x=\"1828.5\" y=\"-307.3\" font-family=\"Times,serif\" font-size=\"14.00\"> </text>\n<polyline fill=\"none\" stroke=\"black\" points=\"1761,-299.5 1896,-299.5 \"/>\n<text text-anchor=\"middle\" x=\"1828.5\" y=\"-284.3\" font-family=\"Times,serif\" font-size=\"14.00\">0.1464466094067262</text>\n<polyline fill=\"none\" stroke=\"black\" points=\"1761,-276.5 1896,-276.5 \"/>\n<text text-anchor=\"middle\" x=\"1828.5\" y=\"-261.3\" font-family=\"Times,serif\" font-size=\"14.00\">4.828427124746192</text>\n</g>\n<!-- 136748313370800&#45;&gt;136748313366528* -->\n<g id=\"edge24\" class=\"edge\">\n<title>136748313370800&#45;&gt;136748313366528*</title>\n<path fill=\"none\" stroke=\"black\" d=\"M1896.01,-270.4C1905.69,-267.84 1915.31,-265.3 1923.97,-263\"/>\n<polygon fill=\"black\" stroke=\"black\" points=\"1924.88,-266.38 1933.66,-260.44 1923.09,-259.62 1924.88,-266.38\"/>\n</g>\n<!-- 136748313370800**&#45;1 -->\n<g id=\"node8\" class=\"node\">\n<title>136748313370800**&#45;1</title>\n<ellipse fill=\"none\" stroke=\"black\" cx=\"1657.5\" cy=\"-290\" rx=\"27\" ry=\"18\"/>\n<text text-anchor=\"middle\" x=\"1657.5\" y=\"-286.3\" font-family=\"Times,serif\" font-size=\"14.00\">**&#45;1</text>\n</g>\n<!-- 136748313370800**&#45;1&#45;&gt;136748313370800 -->\n<g id=\"edge2\" class=\"edge\">\n<title>136748313370800**&#45;1&#45;&gt;136748313370800</title>\n<path fill=\"none\" stroke=\"black\" d=\"M1684.54,-289.69C1702.36,-289.48 1726.99,-289.19 1750.79,-288.91\"/>\n<polygon fill=\"black\" stroke=\"black\" points=\"1750.96,-292.41 1760.92,-288.79 1750.87,-285.41 1750.96,-292.41\"/>\n</g>\n<!-- 136748325499712 -->\n<g id=\"node9\" class=\"node\">\n<title>136748325499712</title>\n<polygon fill=\"none\" stroke=\"black\" points=\"180,-176.5 180,-245.5 234,-245.5 234,-176.5 180,-176.5\"/>\n<text text-anchor=\"middle\" x=\"207\" y=\"-230.3\" font-family=\"Times,serif\" font-size=\"14.00\">x1*w1</text>\n<polyline fill=\"none\" stroke=\"black\" points=\"180,-222.5 234,-222.5 \"/>\n<text text-anchor=\"middle\" x=\"207\" y=\"-207.3\" font-family=\"Times,serif\" font-size=\"14.00\">&#45;6.0</text>\n<polyline fill=\"none\" stroke=\"black\" points=\"180,-199.5 234,-199.5 \"/>\n<text text-anchor=\"middle\" x=\"207\" y=\"-184.3\" font-family=\"Times,serif\" font-size=\"14.00\">0.5</text>\n</g>\n<!-- 136748325488480+ -->\n<g id=\"node15\" class=\"node\">\n<title>136748325488480+</title>\n<ellipse fill=\"none\" stroke=\"black\" cx=\"297\" cy=\"-167\" rx=\"27\" ry=\"18\"/>\n<text text-anchor=\"middle\" x=\"297\" y=\"-163.3\" font-family=\"Times,serif\" font-size=\"14.00\">+</text>\n</g>\n<!-- 136748325499712&#45;&gt;136748325488480+ -->\n<g id=\"edge21\" class=\"edge\">\n<title>136748325499712&#45;&gt;136748325488480+</title>\n<path fill=\"none\" stroke=\"black\" d=\"M234.4,-197.8C244.33,-192.84 255.68,-187.16 265.91,-182.04\"/>\n<polygon fill=\"black\" stroke=\"black\" points=\"267.54,-185.14 274.92,-177.54 264.41,-178.88 267.54,-185.14\"/>\n</g>\n<!-- 136748325499712*&#45;&gt;136748325499712 -->\n<g id=\"edge3\" class=\"edge\">\n<title>136748325499712*&#45;&gt;136748325499712</title>\n<path fill=\"none\" stroke=\"black\" d=\"M144.4,-211C152.39,-211 161.31,-211 169.82,-211\"/>\n<polygon fill=\"black\" stroke=\"black\" points=\"169.92,-214.5 179.92,-211 169.92,-207.5 169.92,-214.5\"/>\n</g>\n<!-- 136748325501920 -->\n<g id=\"node11\" class=\"node\">\n<title>136748325501920</title>\n<polygon fill=\"none\" stroke=\"black\" points=\"0,-176.5 0,-245.5 54,-245.5 54,-176.5 0,-176.5\"/>\n<text text-anchor=\"middle\" x=\"27\" y=\"-230.3\" font-family=\"Times,serif\" font-size=\"14.00\">x1</text>\n<polyline fill=\"none\" stroke=\"black\" points=\"0,-222.5 54,-222.5 \"/>\n<text text-anchor=\"middle\" x=\"27\" y=\"-207.3\" font-family=\"Times,serif\" font-size=\"14.00\">2.0</text>\n<polyline fill=\"none\" stroke=\"black\" points=\"0,-199.5 54,-199.5 \"/>\n<text text-anchor=\"middle\" x=\"27\" y=\"-184.3\" font-family=\"Times,serif\" font-size=\"14.00\">&#45;1.5</text>\n</g>\n<!-- 136748325501920&#45;&gt;136748325499712* -->\n<g id=\"edge13\" class=\"edge\">\n<title>136748325501920&#45;&gt;136748325499712*</title>\n<path fill=\"none\" stroke=\"black\" d=\"M54.4,-211C62.39,-211 71.31,-211 79.82,-211\"/>\n<polygon fill=\"black\" stroke=\"black\" points=\"79.92,-214.5 89.92,-211 79.92,-207.5 79.92,-214.5\"/>\n</g>\n<!-- 136748325496160 -->\n<g id=\"node12\" class=\"node\">\n<title>136748325496160</title>\n<polygon fill=\"none\" stroke=\"black\" points=\"614,-176.5 614,-245.5 749,-245.5 749,-176.5 614,-176.5\"/>\n<text text-anchor=\"middle\" x=\"681.5\" y=\"-230.3\" font-family=\"Times,serif\" font-size=\"14.00\">n</text>\n<polyline fill=\"none\" stroke=\"black\" points=\"614,-222.5 749,-222.5 \"/>\n<text text-anchor=\"middle\" x=\"681.5\" y=\"-207.3\" font-family=\"Times,serif\" font-size=\"14.00\">0.8813735870195432</text>\n<polyline fill=\"none\" stroke=\"black\" points=\"614,-199.5 749,-199.5 \"/>\n<text text-anchor=\"middle\" x=\"681.5\" y=\"-184.3\" font-family=\"Times,serif\" font-size=\"14.00\">0.5</text>\n</g>\n<!-- 136748325496160&#45;&gt;136748313365376* -->\n<g id=\"edge26\" class=\"edge\">\n<title>136748325496160&#45;&gt;136748313365376*</title>\n<path fill=\"none\" stroke=\"black\" d=\"M749.01,-233.77C759.06,-237.22 769.05,-240.63 777.97,-243.69\"/>\n<polygon fill=\"black\" stroke=\"black\" points=\"776.94,-247.04 787.54,-246.97 779.21,-240.41 776.94,-247.04\"/>\n</g>\n<!-- 136748325496160+&#45;&gt;136748325496160 -->\n<g id=\"edge4\" class=\"edge\">\n<title>136748325496160+&#45;&gt;136748325496160</title>\n<path fill=\"none\" stroke=\"black\" d=\"M578,-211C585.71,-211 594.56,-211 603.77,-211\"/>\n<polygon fill=\"black\" stroke=\"black\" points=\"603.87,-214.5 613.87,-211 603.87,-207.5 603.87,-214.5\"/>\n</g>\n<!-- 136748325488480 -->\n<g id=\"node14\" class=\"node\">\n<title>136748325488480</title>\n<polygon fill=\"none\" stroke=\"black\" points=\"371,-132.5 371,-201.5 477,-201.5 477,-132.5 371,-132.5\"/>\n<text text-anchor=\"middle\" x=\"424\" y=\"-186.3\" font-family=\"Times,serif\" font-size=\"14.00\">x1*w1 + x2*w2</text>\n<polyline fill=\"none\" stroke=\"black\" points=\"371,-178.5 477,-178.5 \"/>\n<text text-anchor=\"middle\" x=\"424\" y=\"-163.3\" font-family=\"Times,serif\" font-size=\"14.00\">&#45;6.0</text>\n<polyline fill=\"none\" stroke=\"black\" points=\"371,-155.5 477,-155.5 \"/>\n<text text-anchor=\"middle\" x=\"424\" y=\"-140.3\" font-family=\"Times,serif\" font-size=\"14.00\">0.5</text>\n</g>\n<!-- 136748325488480&#45;&gt;136748325496160+ -->\n<g id=\"edge14\" class=\"edge\">\n<title>136748325488480&#45;&gt;136748325496160+</title>\n<path fill=\"none\" stroke=\"black\" d=\"M477.29,-185.41C490.77,-190.15 504.91,-195.13 517.09,-199.42\"/>\n<polygon fill=\"black\" stroke=\"black\" points=\"516.22,-202.82 526.81,-202.84 518.54,-196.22 516.22,-202.82\"/>\n</g>\n<!-- 136748325488480+&#45;&gt;136748325488480 -->\n<g id=\"edge5\" class=\"edge\">\n<title>136748325488480+&#45;&gt;136748325488480</title>\n<path fill=\"none\" stroke=\"black\" d=\"M324.2,-167C334.88,-167 347.72,-167 360.56,-167\"/>\n<polygon fill=\"black\" stroke=\"black\" points=\"360.81,-170.5 370.81,-167 360.81,-163.5 360.81,-170.5\"/>\n</g>\n<!-- 136748313365376 -->\n<g id=\"node16\" class=\"node\">\n<title>136748313365376</title>\n<polygon fill=\"none\" stroke=\"black\" points=\"875,-220.5 875,-289.5 1010,-289.5 1010,-220.5 875,-220.5\"/>\n<text text-anchor=\"middle\" x=\"942.5\" y=\"-274.3\" font-family=\"Times,serif\" font-size=\"14.00\"> </text>\n<polyline fill=\"none\" stroke=\"black\" points=\"875,-266.5 1010,-266.5 \"/>\n<text text-anchor=\"middle\" x=\"942.5\" y=\"-251.3\" font-family=\"Times,serif\" font-size=\"14.00\">1.7627471740390863</text>\n<polyline fill=\"none\" stroke=\"black\" points=\"875,-243.5 1010,-243.5 \"/>\n<text text-anchor=\"middle\" x=\"942.5\" y=\"-228.3\" font-family=\"Times,serif\" font-size=\"14.00\">0.25</text>\n</g>\n<!-- 136748313362832exp -->\n<g id=\"node26\" class=\"node\">\n<title>136748313362832exp</title>\n<ellipse fill=\"none\" stroke=\"black\" cx=\"1073\" cy=\"-255\" rx=\"27\" ry=\"18\"/>\n<text text-anchor=\"middle\" x=\"1073\" y=\"-251.3\" font-family=\"Times,serif\" font-size=\"14.00\">exp</text>\n</g>\n<!-- 136748313365376&#45;&gt;136748313362832exp -->\n<g id=\"edge22\" class=\"edge\">\n<title>136748313365376&#45;&gt;136748313362832exp</title>\n<path fill=\"none\" stroke=\"black\" d=\"M1010.01,-255C1018.87,-255 1027.66,-255 1035.73,-255\"/>\n<polygon fill=\"black\" stroke=\"black\" points=\"1035.86,-258.5 1045.86,-255 1035.86,-251.5 1035.86,-258.5\"/>\n</g>\n<!-- 136748313365376*&#45;&gt;136748313365376 -->\n<g id=\"edge6\" class=\"edge\">\n<title>136748313365376*&#45;&gt;136748313365376</title>\n<path fill=\"none\" stroke=\"black\" d=\"M839,-255C846.71,-255 855.56,-255 864.77,-255\"/>\n<polygon fill=\"black\" stroke=\"black\" points=\"864.87,-258.5 874.87,-255 864.87,-251.5 864.87,-258.5\"/>\n</g>\n<!-- 136748313375120 -->\n<g id=\"node18\" class=\"node\">\n<title>136748313375120</title>\n<polygon fill=\"none\" stroke=\"black\" points=\"1590,-184.5 1590,-253.5 1725,-253.5 1725,-184.5 1590,-184.5\"/>\n<text text-anchor=\"middle\" x=\"1657.5\" y=\"-238.3\" font-family=\"Times,serif\" font-size=\"14.00\"> </text>\n<polyline fill=\"none\" stroke=\"black\" points=\"1590,-230.5 1725,-230.5 \"/>\n<text text-anchor=\"middle\" x=\"1657.5\" y=\"-215.3\" font-family=\"Times,serif\" font-size=\"14.00\">4.828427124746192</text>\n<polyline fill=\"none\" stroke=\"black\" points=\"1590,-207.5 1725,-207.5 \"/>\n<text text-anchor=\"middle\" x=\"1657.5\" y=\"-192.3\" font-family=\"Times,serif\" font-size=\"14.00\">0.1464466094067262</text>\n</g>\n<!-- 136748313375120&#45;&gt;136748313366528* -->\n<g id=\"edge25\" class=\"edge\">\n<title>136748313375120&#45;&gt;136748313366528*</title>\n<path fill=\"none\" stroke=\"black\" d=\"M1725.16,-225.03C1772.83,-229.58 1838.46,-236.34 1896,-244 1904.7,-245.16 1914.06,-246.58 1922.8,-247.98\"/>\n<polygon fill=\"black\" stroke=\"black\" points=\"1922.27,-251.44 1932.71,-249.6 1923.4,-244.53 1922.27,-251.44\"/>\n</g>\n<!-- 136748313375120+ -->\n<g id=\"node19\" class=\"node\">\n<title>136748313375120+</title>\n<ellipse fill=\"none\" stroke=\"black\" cx=\"1345\" cy=\"-219\" rx=\"27\" ry=\"18\"/>\n<text text-anchor=\"middle\" x=\"1345\" y=\"-215.3\" font-family=\"Times,serif\" font-size=\"14.00\">+</text>\n</g>\n<!-- 136748313375120+&#45;&gt;136748313375120 -->\n<g id=\"edge7\" class=\"edge\">\n<title>136748313375120+&#45;&gt;136748313375120</title>\n<path fill=\"none\" stroke=\"black\" d=\"M1372.21,-219C1417.47,-219 1511.95,-219 1579.57,-219\"/>\n<polygon fill=\"black\" stroke=\"black\" points=\"1579.76,-222.5 1589.76,-219 1579.76,-215.5 1579.76,-222.5\"/>\n</g>\n<!-- 136748325493088 -->\n<g id=\"node20\" class=\"node\">\n<title>136748325493088</title>\n<polygon fill=\"none\" stroke=\"black\" points=\"0,-0.5 0,-69.5 54,-69.5 54,-0.5 0,-0.5\"/>\n<text text-anchor=\"middle\" x=\"27\" y=\"-54.3\" font-family=\"Times,serif\" font-size=\"14.00\">w2</text>\n<polyline fill=\"none\" stroke=\"black\" points=\"0,-46.5 54,-46.5 \"/>\n<text text-anchor=\"middle\" x=\"27\" y=\"-31.3\" font-family=\"Times,serif\" font-size=\"14.00\">1.0</text>\n<polyline fill=\"none\" stroke=\"black\" points=\"0,-23.5 54,-23.5 \"/>\n<text text-anchor=\"middle\" x=\"27\" y=\"-8.3\" font-family=\"Times,serif\" font-size=\"14.00\">0.0</text>\n</g>\n<!-- 136748325493088&#45;&gt;136748325490640* -->\n<g id=\"edge23\" class=\"edge\">\n<title>136748325493088&#45;&gt;136748325490640*</title>\n<path fill=\"none\" stroke=\"black\" d=\"M54.4,-61.4C66.94,-73.94 81.77,-88.77 93.73,-100.73\"/>\n<polygon fill=\"black\" stroke=\"black\" points=\"91.58,-103.53 101.13,-108.13 96.53,-98.58 91.58,-103.53\"/>\n</g>\n<!-- 136748313362784 -->\n<g id=\"node21\" class=\"node\">\n<title>136748313362784</title>\n<polygon fill=\"none\" stroke=\"black\" points=\"1141.5,-132.5 1141.5,-201.5 1276.5,-201.5 1276.5,-132.5 1141.5,-132.5\"/>\n<text text-anchor=\"middle\" x=\"1209\" y=\"-186.3\" font-family=\"Times,serif\" font-size=\"14.00\"> </text>\n<polyline fill=\"none\" stroke=\"black\" points=\"1141.5,-178.5 1276.5,-178.5 \"/>\n<text text-anchor=\"middle\" x=\"1209\" y=\"-163.3\" font-family=\"Times,serif\" font-size=\"14.00\">&#45;1</text>\n<polyline fill=\"none\" stroke=\"black\" points=\"1141.5,-155.5 1276.5,-155.5 \"/>\n<text text-anchor=\"middle\" x=\"1209\" y=\"-140.3\" font-family=\"Times,serif\" font-size=\"14.00\">0.1464466094067262</text>\n</g>\n<!-- 136748313362784&#45;&gt;136748313375120+ -->\n<g id=\"edge27\" class=\"edge\">\n<title>136748313362784&#45;&gt;136748313375120+</title>\n<path fill=\"none\" stroke=\"black\" d=\"M1276.61,-192.85C1288.98,-197.65 1301.37,-202.46 1312.09,-206.62\"/>\n<polygon fill=\"black\" stroke=\"black\" points=\"1310.83,-209.88 1321.41,-210.24 1313.36,-203.35 1310.83,-209.88\"/>\n</g>\n<!-- 136748313376704 -->\n<g id=\"node22\" class=\"node\">\n<title>136748313376704</title>\n<polygon fill=\"none\" stroke=\"black\" points=\"1136,-308.5 1136,-377.5 1282,-377.5 1282,-308.5 1136,-308.5\"/>\n<text text-anchor=\"middle\" x=\"1209\" y=\"-362.3\" font-family=\"Times,serif\" font-size=\"14.00\"> </text>\n<polyline fill=\"none\" stroke=\"black\" points=\"1136,-354.5 1282,-354.5 \"/>\n<text text-anchor=\"middle\" x=\"1209\" y=\"-339.3\" font-family=\"Times,serif\" font-size=\"14.00\">1</text>\n<polyline fill=\"none\" stroke=\"black\" points=\"1136,-331.5 1282,-331.5 \"/>\n<text text-anchor=\"middle\" x=\"1209\" y=\"-316.3\" font-family=\"Times,serif\" font-size=\"14.00\">&#45;0.10355339059327374</text>\n</g>\n<!-- 136748313376752+ -->\n<g id=\"node28\" class=\"node\">\n<title>136748313376752+</title>\n<ellipse fill=\"none\" stroke=\"black\" cx=\"1345\" cy=\"-290\" rx=\"27\" ry=\"18\"/>\n<text text-anchor=\"middle\" x=\"1345\" y=\"-286.3\" font-family=\"Times,serif\" font-size=\"14.00\">+</text>\n</g>\n<!-- 136748313376704&#45;&gt;136748313376752+ -->\n<g id=\"edge28\" class=\"edge\">\n<title>136748313376704&#45;&gt;136748313376752+</title>\n<path fill=\"none\" stroke=\"black\" d=\"M1282.1,-314.48C1292.56,-310.34 1302.86,-306.27 1311.96,-302.67\"/>\n<polygon fill=\"black\" stroke=\"black\" points=\"1313.31,-305.9 1321.32,-298.97 1310.73,-299.39 1313.31,-305.9\"/>\n</g>\n<!-- 136748325490640 -->\n<g id=\"node23\" class=\"node\">\n<title>136748325490640</title>\n<polygon fill=\"none\" stroke=\"black\" points=\"180,-88.5 180,-157.5 234,-157.5 234,-88.5 180,-88.5\"/>\n<text text-anchor=\"middle\" x=\"207\" y=\"-142.3\" font-family=\"Times,serif\" font-size=\"14.00\">x2*w2</text>\n<polyline fill=\"none\" stroke=\"black\" points=\"180,-134.5 234,-134.5 \"/>\n<text text-anchor=\"middle\" x=\"207\" y=\"-119.3\" font-family=\"Times,serif\" font-size=\"14.00\">0.0</text>\n<polyline fill=\"none\" stroke=\"black\" points=\"180,-111.5 234,-111.5 \"/>\n<text text-anchor=\"middle\" x=\"207\" y=\"-96.3\" font-family=\"Times,serif\" font-size=\"14.00\">0.5</text>\n</g>\n<!-- 136748325490640&#45;&gt;136748325488480+ -->\n<g id=\"edge18\" class=\"edge\">\n<title>136748325490640&#45;&gt;136748325488480+</title>\n<path fill=\"none\" stroke=\"black\" d=\"M234.4,-136.2C244.33,-141.16 255.68,-146.84 265.91,-151.96\"/>\n<polygon fill=\"black\" stroke=\"black\" points=\"264.41,-155.12 274.92,-156.46 267.54,-148.86 264.41,-155.12\"/>\n</g>\n<!-- 136748325490640*&#45;&gt;136748325490640 -->\n<g id=\"edge8\" class=\"edge\">\n<title>136748325490640*&#45;&gt;136748325490640</title>\n<path fill=\"none\" stroke=\"black\" d=\"M144.4,-123C152.39,-123 161.31,-123 169.82,-123\"/>\n<polygon fill=\"black\" stroke=\"black\" points=\"169.92,-126.5 179.92,-123 169.92,-119.5 169.92,-126.5\"/>\n</g>\n<!-- 136748313362832 -->\n<g id=\"node25\" class=\"node\">\n<title>136748313362832</title>\n<polygon fill=\"none\" stroke=\"black\" points=\"1138,-220.5 1138,-289.5 1280,-289.5 1280,-220.5 1138,-220.5\"/>\n<text text-anchor=\"middle\" x=\"1209\" y=\"-274.3\" font-family=\"Times,serif\" font-size=\"14.00\"> </text>\n<polyline fill=\"none\" stroke=\"black\" points=\"1138,-266.5 1280,-266.5 \"/>\n<text text-anchor=\"middle\" x=\"1209\" y=\"-251.3\" font-family=\"Times,serif\" font-size=\"14.00\">5.828427124746192</text>\n<polyline fill=\"none\" stroke=\"black\" points=\"1138,-243.5 1280,-243.5 \"/>\n<text text-anchor=\"middle\" x=\"1209\" y=\"-228.3\" font-family=\"Times,serif\" font-size=\"14.00\">0.04289321881345247</text>\n</g>\n<!-- 136748313362832&#45;&gt;136748313375120+ -->\n<g id=\"edge12\" class=\"edge\">\n<title>136748313362832&#45;&gt;136748313375120+</title>\n<path fill=\"none\" stroke=\"black\" d=\"M1280.14,-236.16C1290.45,-233.39 1300.65,-230.65 1309.78,-228.19\"/>\n<polygon fill=\"black\" stroke=\"black\" points=\"1310.83,-231.54 1319.58,-225.56 1309.01,-224.78 1310.83,-231.54\"/>\n</g>\n<!-- 136748313362832&#45;&gt;136748313376752+ -->\n<g id=\"edge19\" class=\"edge\">\n<title>136748313362832&#45;&gt;136748313376752+</title>\n<path fill=\"none\" stroke=\"black\" d=\"M1280.14,-273.32C1290.45,-276.01 1300.65,-278.68 1309.78,-281.06\"/>\n<polygon fill=\"black\" stroke=\"black\" points=\"1309.02,-284.48 1319.58,-283.62 1310.79,-277.71 1309.02,-284.48\"/>\n</g>\n<!-- 136748313362832exp&#45;&gt;136748313362832 -->\n<g id=\"edge9\" class=\"edge\">\n<title>136748313362832exp&#45;&gt;136748313362832</title>\n<path fill=\"none\" stroke=\"black\" d=\"M1100.15,-255C1108.38,-255 1117.93,-255 1127.89,-255\"/>\n<polygon fill=\"black\" stroke=\"black\" points=\"1127.95,-258.5 1137.95,-255 1127.95,-251.5 1127.95,-258.5\"/>\n</g>\n<!-- 136748313376752 -->\n<g id=\"node27\" class=\"node\">\n<title>136748313376752</title>\n<polygon fill=\"none\" stroke=\"black\" points=\"1408,-255.5 1408,-324.5 1554,-324.5 1554,-255.5 1408,-255.5\"/>\n<text text-anchor=\"middle\" x=\"1481\" y=\"-309.3\" font-family=\"Times,serif\" font-size=\"14.00\"> </text>\n<polyline fill=\"none\" stroke=\"black\" points=\"1408,-301.5 1554,-301.5 \"/>\n<text text-anchor=\"middle\" x=\"1481\" y=\"-286.3\" font-family=\"Times,serif\" font-size=\"14.00\">6.828427124746192</text>\n<polyline fill=\"none\" stroke=\"black\" points=\"1408,-278.5 1554,-278.5 \"/>\n<text text-anchor=\"middle\" x=\"1481\" y=\"-263.3\" font-family=\"Times,serif\" font-size=\"14.00\">&#45;0.10355339059327374</text>\n</g>\n<!-- 136748313376752&#45;&gt;136748313370800**&#45;1 -->\n<g id=\"edge20\" class=\"edge\">\n<title>136748313376752&#45;&gt;136748313370800**&#45;1</title>\n<path fill=\"none\" stroke=\"black\" d=\"M1554.24,-290C1577.02,-290 1601.21,-290 1620.34,-290\"/>\n<polygon fill=\"black\" stroke=\"black\" points=\"1620.41,-293.5 1630.41,-290 1620.41,-286.5 1620.41,-293.5\"/>\n</g>\n<!-- 136748313376752+&#45;&gt;136748313376752 -->\n<g id=\"edge10\" class=\"edge\">\n<title>136748313376752+&#45;&gt;136748313376752</title>\n<path fill=\"none\" stroke=\"black\" d=\"M1372.15,-290C1379.82,-290 1388.63,-290 1397.85,-290\"/>\n<polygon fill=\"black\" stroke=\"black\" points=\"1397.98,-293.5 1407.98,-290 1397.98,-286.5 1397.98,-293.5\"/>\n</g>\n</g>\n</svg>\n",
            "text/plain": [
              "<graphviz.graphs.Digraph at 0x7c5f335d7640>"
            ]
          },
          "metadata": {},
          "execution_count": 69
        }
      ]
    },
    {
      "cell_type": "code",
      "source": [
        "x1 = Value(2.0, label='x1')\n",
        "x2 = Value(0.0, label='x2')\n",
        "\n",
        "# weights w1, w2\n",
        "w1 = Value(-3.0, label='w1')\n",
        "w2 = Value(1.0, label='w2')\n",
        "\n",
        "# bias of the neuron\n",
        "b = Value(6.8813735870195432, label='b')\n",
        "\n",
        "x1w1 = x1*w1; x1w1.label = 'x1*w1'\n",
        "x2w2 = x2*w2; x2w2.label = 'x2*w2'\n",
        "x1w1x2w2 = x1w1 + x2w2; x1w1x2w2.label = 'x1*w1 + x2*w2'\n",
        "n = x1w1x2w2 + b; n.label = 'n'\n",
        "\n",
        "# first run with out tanh\n",
        "o = n.tanh(); o.label = 'o'\n",
        "o.backward()\n",
        "draw_dot(o)"
      ],
      "metadata": {
        "colab": {
          "base_uri": "https://localhost:8080/",
          "height": 478
        },
        "id": "VBJw9tpKWwOp",
        "outputId": "70313cf5-c4f3-4267-d72b-6c0b4cd9ab46"
      },
      "execution_count": 70,
      "outputs": [
        {
          "output_type": "execute_result",
          "data": {
            "image/svg+xml": "<?xml version=\"1.0\" encoding=\"UTF-8\" standalone=\"no\"?>\n<!DOCTYPE svg PUBLIC \"-//W3C//DTD SVG 1.1//EN\"\n \"http://www.w3.org/Graphics/SVG/1.1/DTD/svg11.dtd\">\n<!-- Generated by graphviz version 2.43.0 (0)\n -->\n<!-- Title: %3 Pages: 1 -->\n<svg width=\"1192pt\" height=\"342pt\"\n viewBox=\"0.00 0.00 1192.00 342.00\" xmlns=\"http://www.w3.org/2000/svg\" xmlns:xlink=\"http://www.w3.org/1999/xlink\">\n<g id=\"graph0\" class=\"graph\" transform=\"scale(1 1) rotate(0) translate(4 338)\">\n<title>%3</title>\n<polygon fill=\"white\" stroke=\"transparent\" points=\"-4,4 -4,-338 1188,-338 1188,4 -4,4\"/>\n<!-- 136748313375744 -->\n<g id=\"node1\" class=\"node\">\n<title>136748313375744</title>\n<polygon fill=\"none\" stroke=\"black\" points=\"1049,-88.5 1049,-157.5 1184,-157.5 1184,-88.5 1049,-88.5\"/>\n<text text-anchor=\"middle\" x=\"1116.5\" y=\"-142.3\" font-family=\"Times,serif\" font-size=\"14.00\">o</text>\n<polyline fill=\"none\" stroke=\"black\" points=\"1049,-134.5 1184,-134.5 \"/>\n<text text-anchor=\"middle\" x=\"1116.5\" y=\"-119.3\" font-family=\"Times,serif\" font-size=\"14.00\">0.7071067811865476</text>\n<polyline fill=\"none\" stroke=\"black\" points=\"1049,-111.5 1184,-111.5 \"/>\n<text text-anchor=\"middle\" x=\"1116.5\" y=\"-96.3\" font-family=\"Times,serif\" font-size=\"14.00\">1.0</text>\n</g>\n<!-- 136748313375744tanh -->\n<g id=\"node2\" class=\"node\">\n<title>136748313375744tanh</title>\n<ellipse fill=\"none\" stroke=\"black\" cx=\"986\" cy=\"-123\" rx=\"27\" ry=\"18\"/>\n<text text-anchor=\"middle\" x=\"986\" y=\"-119.3\" font-family=\"Times,serif\" font-size=\"14.00\">tanh</text>\n</g>\n<!-- 136748313375744tanh&#45;&gt;136748313375744 -->\n<g id=\"edge1\" class=\"edge\">\n<title>136748313375744tanh&#45;&gt;136748313375744</title>\n<path fill=\"none\" stroke=\"black\" d=\"M1013,-123C1020.71,-123 1029.56,-123 1038.77,-123\"/>\n<polygon fill=\"black\" stroke=\"black\" points=\"1038.87,-126.5 1048.87,-123 1038.87,-119.5 1038.87,-126.5\"/>\n</g>\n<!-- 136748314808848 -->\n<g id=\"node3\" class=\"node\">\n<title>136748314808848</title>\n<polygon fill=\"none\" stroke=\"black\" points=\"266,-176.5 266,-245.5 401,-245.5 401,-176.5 266,-176.5\"/>\n<text text-anchor=\"middle\" x=\"333.5\" y=\"-230.3\" font-family=\"Times,serif\" font-size=\"14.00\">x2*w2</text>\n<polyline fill=\"none\" stroke=\"black\" points=\"266,-222.5 401,-222.5 \"/>\n<text text-anchor=\"middle\" x=\"333.5\" y=\"-207.3\" font-family=\"Times,serif\" font-size=\"14.00\">0.0</text>\n<polyline fill=\"none\" stroke=\"black\" points=\"266,-199.5 401,-199.5 \"/>\n<text text-anchor=\"middle\" x=\"333.5\" y=\"-184.3\" font-family=\"Times,serif\" font-size=\"14.00\">0.4999999999999999</text>\n</g>\n<!-- 136748314806832+ -->\n<g id=\"node6\" class=\"node\">\n<title>136748314806832+</title>\n<ellipse fill=\"none\" stroke=\"black\" cx=\"464\" cy=\"-167\" rx=\"27\" ry=\"18\"/>\n<text text-anchor=\"middle\" x=\"464\" y=\"-163.3\" font-family=\"Times,serif\" font-size=\"14.00\">+</text>\n</g>\n<!-- 136748314808848&#45;&gt;136748314806832+ -->\n<g id=\"edge12\" class=\"edge\">\n<title>136748314808848&#45;&gt;136748314806832+</title>\n<path fill=\"none\" stroke=\"black\" d=\"M401.01,-188.23C411.06,-184.78 421.05,-181.37 429.97,-178.31\"/>\n<polygon fill=\"black\" stroke=\"black\" points=\"431.21,-181.59 439.54,-175.03 428.94,-174.96 431.21,-181.59\"/>\n</g>\n<!-- 136748314808848* -->\n<g id=\"node4\" class=\"node\">\n<title>136748314808848*</title>\n<ellipse fill=\"none\" stroke=\"black\" cx=\"203\" cy=\"-211\" rx=\"27\" ry=\"18\"/>\n<text text-anchor=\"middle\" x=\"203\" y=\"-207.3\" font-family=\"Times,serif\" font-size=\"14.00\">*</text>\n</g>\n<!-- 136748314808848*&#45;&gt;136748314808848 -->\n<g id=\"edge2\" class=\"edge\">\n<title>136748314808848*&#45;&gt;136748314808848</title>\n<path fill=\"none\" stroke=\"black\" d=\"M230,-211C237.71,-211 246.56,-211 255.77,-211\"/>\n<polygon fill=\"black\" stroke=\"black\" points=\"255.87,-214.5 265.87,-211 255.87,-207.5 255.87,-214.5\"/>\n</g>\n<!-- 136748314806832 -->\n<g id=\"node5\" class=\"node\">\n<title>136748314806832</title>\n<polygon fill=\"none\" stroke=\"black\" points=\"527,-132.5 527,-201.5 662,-201.5 662,-132.5 527,-132.5\"/>\n<text text-anchor=\"middle\" x=\"594.5\" y=\"-186.3\" font-family=\"Times,serif\" font-size=\"14.00\">x1*w1 + x2*w2</text>\n<polyline fill=\"none\" stroke=\"black\" points=\"527,-178.5 662,-178.5 \"/>\n<text text-anchor=\"middle\" x=\"594.5\" y=\"-163.3\" font-family=\"Times,serif\" font-size=\"14.00\">&#45;6.0</text>\n<polyline fill=\"none\" stroke=\"black\" points=\"527,-155.5 662,-155.5 \"/>\n<text text-anchor=\"middle\" x=\"594.5\" y=\"-140.3\" font-family=\"Times,serif\" font-size=\"14.00\">0.4999999999999999</text>\n</g>\n<!-- 136748313367008+ -->\n<g id=\"node14\" class=\"node\">\n<title>136748313367008+</title>\n<ellipse fill=\"none\" stroke=\"black\" cx=\"725\" cy=\"-123\" rx=\"27\" ry=\"18\"/>\n<text text-anchor=\"middle\" x=\"725\" y=\"-119.3\" font-family=\"Times,serif\" font-size=\"14.00\">+</text>\n</g>\n<!-- 136748314806832&#45;&gt;136748313367008+ -->\n<g id=\"edge14\" class=\"edge\">\n<title>136748314806832&#45;&gt;136748313367008+</title>\n<path fill=\"none\" stroke=\"black\" d=\"M662.01,-144.23C672.06,-140.78 682.05,-137.37 690.97,-134.31\"/>\n<polygon fill=\"black\" stroke=\"black\" points=\"692.21,-137.59 700.54,-131.03 689.94,-130.96 692.21,-137.59\"/>\n</g>\n<!-- 136748314806832+&#45;&gt;136748314806832 -->\n<g id=\"edge3\" class=\"edge\">\n<title>136748314806832+&#45;&gt;136748314806832</title>\n<path fill=\"none\" stroke=\"black\" d=\"M491,-167C498.71,-167 507.56,-167 516.77,-167\"/>\n<polygon fill=\"black\" stroke=\"black\" points=\"516.87,-170.5 526.87,-167 516.87,-163.5 516.87,-170.5\"/>\n</g>\n<!-- 136748325486752 -->\n<g id=\"node7\" class=\"node\">\n<title>136748325486752</title>\n<polygon fill=\"none\" stroke=\"black\" points=\"266,-88.5 266,-157.5 401,-157.5 401,-88.5 266,-88.5\"/>\n<text text-anchor=\"middle\" x=\"333.5\" y=\"-142.3\" font-family=\"Times,serif\" font-size=\"14.00\">x1*w1</text>\n<polyline fill=\"none\" stroke=\"black\" points=\"266,-134.5 401,-134.5 \"/>\n<text text-anchor=\"middle\" x=\"333.5\" y=\"-119.3\" font-family=\"Times,serif\" font-size=\"14.00\">&#45;6.0</text>\n<polyline fill=\"none\" stroke=\"black\" points=\"266,-111.5 401,-111.5 \"/>\n<text text-anchor=\"middle\" x=\"333.5\" y=\"-96.3\" font-family=\"Times,serif\" font-size=\"14.00\">0.4999999999999999</text>\n</g>\n<!-- 136748325486752&#45;&gt;136748314806832+ -->\n<g id=\"edge13\" class=\"edge\">\n<title>136748325486752&#45;&gt;136748314806832+</title>\n<path fill=\"none\" stroke=\"black\" d=\"M401.01,-145.77C411.06,-149.22 421.05,-152.63 429.97,-155.69\"/>\n<polygon fill=\"black\" stroke=\"black\" points=\"428.94,-159.04 439.54,-158.97 431.21,-152.41 428.94,-159.04\"/>\n</g>\n<!-- 136748325486752* -->\n<g id=\"node8\" class=\"node\">\n<title>136748325486752*</title>\n<ellipse fill=\"none\" stroke=\"black\" cx=\"203\" cy=\"-123\" rx=\"27\" ry=\"18\"/>\n<text text-anchor=\"middle\" x=\"203\" y=\"-119.3\" font-family=\"Times,serif\" font-size=\"14.00\">*</text>\n</g>\n<!-- 136748325486752*&#45;&gt;136748325486752 -->\n<g id=\"edge4\" class=\"edge\">\n<title>136748325486752*&#45;&gt;136748325486752</title>\n<path fill=\"none\" stroke=\"black\" d=\"M230,-123C237.71,-123 246.56,-123 255.77,-123\"/>\n<polygon fill=\"black\" stroke=\"black\" points=\"255.87,-126.5 265.87,-123 255.87,-119.5 255.87,-126.5\"/>\n</g>\n<!-- 136748325499088 -->\n<g id=\"node9\" class=\"node\">\n<title>136748325499088</title>\n<polygon fill=\"none\" stroke=\"black\" points=\"0,-88.5 0,-157.5 140,-157.5 140,-88.5 0,-88.5\"/>\n<text text-anchor=\"middle\" x=\"70\" y=\"-142.3\" font-family=\"Times,serif\" font-size=\"14.00\">x1</text>\n<polyline fill=\"none\" stroke=\"black\" points=\"0,-134.5 140,-134.5 \"/>\n<text text-anchor=\"middle\" x=\"70\" y=\"-119.3\" font-family=\"Times,serif\" font-size=\"14.00\">2.0</text>\n<polyline fill=\"none\" stroke=\"black\" points=\"0,-111.5 140,-111.5 \"/>\n<text text-anchor=\"middle\" x=\"70\" y=\"-96.3\" font-family=\"Times,serif\" font-size=\"14.00\">&#45;1.4999999999999996</text>\n</g>\n<!-- 136748325499088&#45;&gt;136748325486752* -->\n<g id=\"edge8\" class=\"edge\">\n<title>136748325499088&#45;&gt;136748325486752*</title>\n<path fill=\"none\" stroke=\"black\" d=\"M140.34,-123C149.13,-123 157.82,-123 165.79,-123\"/>\n<polygon fill=\"black\" stroke=\"black\" points=\"165.8,-126.5 175.8,-123 165.8,-119.5 165.8,-126.5\"/>\n</g>\n<!-- 136748325494000 -->\n<g id=\"node10\" class=\"node\">\n<title>136748325494000</title>\n<polygon fill=\"none\" stroke=\"black\" points=\"527,-44.5 527,-113.5 662,-113.5 662,-44.5 527,-44.5\"/>\n<text text-anchor=\"middle\" x=\"594.5\" y=\"-98.3\" font-family=\"Times,serif\" font-size=\"14.00\">b</text>\n<polyline fill=\"none\" stroke=\"black\" points=\"527,-90.5 662,-90.5 \"/>\n<text text-anchor=\"middle\" x=\"594.5\" y=\"-75.3\" font-family=\"Times,serif\" font-size=\"14.00\">6.881373587019543</text>\n<polyline fill=\"none\" stroke=\"black\" points=\"527,-67.5 662,-67.5 \"/>\n<text text-anchor=\"middle\" x=\"594.5\" y=\"-52.3\" font-family=\"Times,serif\" font-size=\"14.00\">0.4999999999999999</text>\n</g>\n<!-- 136748325494000&#45;&gt;136748313367008+ -->\n<g id=\"edge7\" class=\"edge\">\n<title>136748325494000&#45;&gt;136748313367008+</title>\n<path fill=\"none\" stroke=\"black\" d=\"M662.01,-101.77C672.06,-105.22 682.05,-108.63 690.97,-111.69\"/>\n<polygon fill=\"black\" stroke=\"black\" points=\"689.94,-115.04 700.54,-114.97 692.21,-108.41 689.94,-115.04\"/>\n</g>\n<!-- 136748325487376 -->\n<g id=\"node11\" class=\"node\">\n<title>136748325487376</title>\n<polygon fill=\"none\" stroke=\"black\" points=\"2.5,-264.5 2.5,-333.5 137.5,-333.5 137.5,-264.5 2.5,-264.5\"/>\n<text text-anchor=\"middle\" x=\"70\" y=\"-318.3\" font-family=\"Times,serif\" font-size=\"14.00\">x2</text>\n<polyline fill=\"none\" stroke=\"black\" points=\"2.5,-310.5 137.5,-310.5 \"/>\n<text text-anchor=\"middle\" x=\"70\" y=\"-295.3\" font-family=\"Times,serif\" font-size=\"14.00\">0.0</text>\n<polyline fill=\"none\" stroke=\"black\" points=\"2.5,-287.5 137.5,-287.5 \"/>\n<text text-anchor=\"middle\" x=\"70\" y=\"-272.3\" font-family=\"Times,serif\" font-size=\"14.00\">0.4999999999999999</text>\n</g>\n<!-- 136748325487376&#45;&gt;136748314808848* -->\n<g id=\"edge11\" class=\"edge\">\n<title>136748325487376&#45;&gt;136748314808848*</title>\n<path fill=\"none\" stroke=\"black\" d=\"M125.78,-264.42C130.61,-261.27 135.4,-258.09 140,-255 151.84,-247.03 164.73,-237.95 175.68,-230.11\"/>\n<polygon fill=\"black\" stroke=\"black\" points=\"177.91,-232.82 183.99,-224.14 173.83,-227.13 177.91,-232.82\"/>\n</g>\n<!-- 136748325500768 -->\n<g id=\"node12\" class=\"node\">\n<title>136748325500768</title>\n<polygon fill=\"none\" stroke=\"black\" points=\"2.5,-0.5 2.5,-69.5 137.5,-69.5 137.5,-0.5 2.5,-0.5\"/>\n<text text-anchor=\"middle\" x=\"70\" y=\"-54.3\" font-family=\"Times,serif\" font-size=\"14.00\">w1</text>\n<polyline fill=\"none\" stroke=\"black\" points=\"2.5,-46.5 137.5,-46.5 \"/>\n<text text-anchor=\"middle\" x=\"70\" y=\"-31.3\" font-family=\"Times,serif\" font-size=\"14.00\">&#45;3.0</text>\n<polyline fill=\"none\" stroke=\"black\" points=\"2.5,-23.5 137.5,-23.5 \"/>\n<text text-anchor=\"middle\" x=\"70\" y=\"-8.3\" font-family=\"Times,serif\" font-size=\"14.00\">0.9999999999999998</text>\n</g>\n<!-- 136748325500768&#45;&gt;136748325486752* -->\n<g id=\"edge6\" class=\"edge\">\n<title>136748325500768&#45;&gt;136748325486752*</title>\n<path fill=\"none\" stroke=\"black\" d=\"M125.78,-69.58C130.61,-72.73 135.4,-75.91 140,-79 151.84,-86.97 164.73,-96.05 175.68,-103.89\"/>\n<polygon fill=\"black\" stroke=\"black\" points=\"173.83,-106.87 183.99,-109.86 177.91,-101.18 173.83,-106.87\"/>\n</g>\n<!-- 136748313367008 -->\n<g id=\"node13\" class=\"node\">\n<title>136748313367008</title>\n<polygon fill=\"none\" stroke=\"black\" points=\"788,-88.5 788,-157.5 923,-157.5 923,-88.5 788,-88.5\"/>\n<text text-anchor=\"middle\" x=\"855.5\" y=\"-142.3\" font-family=\"Times,serif\" font-size=\"14.00\">n</text>\n<polyline fill=\"none\" stroke=\"black\" points=\"788,-134.5 923,-134.5 \"/>\n<text text-anchor=\"middle\" x=\"855.5\" y=\"-119.3\" font-family=\"Times,serif\" font-size=\"14.00\">0.8813735870195432</text>\n<polyline fill=\"none\" stroke=\"black\" points=\"788,-111.5 923,-111.5 \"/>\n<text text-anchor=\"middle\" x=\"855.5\" y=\"-96.3\" font-family=\"Times,serif\" font-size=\"14.00\">0.4999999999999999</text>\n</g>\n<!-- 136748313367008&#45;&gt;136748313375744tanh -->\n<g id=\"edge10\" class=\"edge\">\n<title>136748313367008&#45;&gt;136748313375744tanh</title>\n<path fill=\"none\" stroke=\"black\" d=\"M923.01,-123C931.87,-123 940.66,-123 948.73,-123\"/>\n<polygon fill=\"black\" stroke=\"black\" points=\"948.86,-126.5 958.86,-123 948.86,-119.5 948.86,-126.5\"/>\n</g>\n<!-- 136748313367008+&#45;&gt;136748313367008 -->\n<g id=\"edge5\" class=\"edge\">\n<title>136748313367008+&#45;&gt;136748313367008</title>\n<path fill=\"none\" stroke=\"black\" d=\"M752,-123C759.71,-123 768.56,-123 777.77,-123\"/>\n<polygon fill=\"black\" stroke=\"black\" points=\"777.87,-126.5 787.87,-123 777.87,-119.5 777.87,-126.5\"/>\n</g>\n<!-- 136748325496304 -->\n<g id=\"node15\" class=\"node\">\n<title>136748325496304</title>\n<polygon fill=\"none\" stroke=\"black\" points=\"43,-176.5 43,-245.5 97,-245.5 97,-176.5 43,-176.5\"/>\n<text text-anchor=\"middle\" x=\"70\" y=\"-230.3\" font-family=\"Times,serif\" font-size=\"14.00\">w2</text>\n<polyline fill=\"none\" stroke=\"black\" points=\"43,-222.5 97,-222.5 \"/>\n<text text-anchor=\"middle\" x=\"70\" y=\"-207.3\" font-family=\"Times,serif\" font-size=\"14.00\">1.0</text>\n<polyline fill=\"none\" stroke=\"black\" points=\"43,-199.5 97,-199.5 \"/>\n<text text-anchor=\"middle\" x=\"70\" y=\"-184.3\" font-family=\"Times,serif\" font-size=\"14.00\">0.0</text>\n</g>\n<!-- 136748325496304&#45;&gt;136748314808848* -->\n<g id=\"edge9\" class=\"edge\">\n<title>136748325496304&#45;&gt;136748314808848*</title>\n<path fill=\"none\" stroke=\"black\" d=\"M97.19,-211C116.83,-211 143.94,-211 165.67,-211\"/>\n<polygon fill=\"black\" stroke=\"black\" points=\"165.85,-214.5 175.85,-211 165.85,-207.5 165.85,-214.5\"/>\n</g>\n</g>\n</svg>\n",
            "text/plain": [
              "<graphviz.graphs.Digraph at 0x7c5f335d7b50>"
            ]
          },
          "metadata": {},
          "execution_count": 70
        }
      ]
    },
    {
      "cell_type": "code",
      "source": [
        " # doing this in modern way i.e. pytorch\n",
        " import torch\n",
        "\n",
        " x1 = torch.Tensor([2.0]).double(); x1.requires_grad = True\n",
        " x2 = torch.Tensor([0.0]).double(); x2.requires_grad = True\n",
        "\n",
        " w1 = torch.Tensor([-3.0]).double(); w1.requires_grad = True\n",
        " w2 = torch.Tensor([1.0]).double(); w2.requires_grad = True\n",
        "\n",
        " b = torch.Tensor([6.8813735870195432]).double(); b.requires_grad = True\n",
        "\n",
        " n = x1*w1 + x2*w2 + b\n",
        " o = torch.tanh(n)\n",
        "\n",
        " print(o.data.item())\n",
        " o.backward()\n",
        "\n",
        " print('---')\n",
        " print('x2', x2.grad.item())\n",
        " print('w2', w2.grad.item())\n",
        " print('x1', x1.grad.item())\n",
        " print('w1', w1.grad.item())"
      ],
      "metadata": {
        "colab": {
          "base_uri": "https://localhost:8080/"
        },
        "id": "ojQ9C189aQ8L",
        "outputId": "ccaa0f57-65d0-4169-a54c-54584767be06"
      },
      "execution_count": 72,
      "outputs": [
        {
          "output_type": "stream",
          "name": "stdout",
          "text": [
            "0.7071066904050358\n",
            "---\n",
            "x2 0.5000001283844369\n",
            "w2 0.0\n",
            "x1 -1.5000003851533106\n",
            "w1 1.0000002567688737\n"
          ]
        }
      ]
    },
    {
      "cell_type": "code",
      "source": [
        "import random\n",
        "\n",
        "class Neuron:\n",
        "  def __init__(self, nin):\n",
        "    self.w = [Value(random.uniform(-1, 1)) for _ in range(nin)]\n",
        "    self.b = Value(random.uniform(-1, 1))\n",
        "\n",
        "  def __call__(self, x):\n",
        "    #zip(self.w, x) to get pairs\n",
        "    act = sum((wi*xi for wi, xi in zip(self.w, x)), self.b)\n",
        "    out = act.tanh()\n",
        "    return out\n",
        "\n",
        "  def parameters(self): # torch as same API\n",
        "    return self.w + [self.b]\n",
        "\n",
        "class Layer:\n",
        "  def __init__(self, nin, nout):\n",
        "    self.neurons = [Neuron(nin) for _ in range(nout)]\n",
        "\n",
        "  def __call__(self, x):\n",
        "    outs = [n(x) for n in self.neurons]\n",
        "    return outs[0] if len(outs) == 1 else outs\n",
        "\n",
        "  def parameters(self):\n",
        "    return [p for neuron in self.neurons for p in neuron.parameters()]\n",
        "\n",
        "class MLP:\n",
        "\n",
        "  def __init__(self, nin, nouts):\n",
        "    sz = [nin] + nouts\n",
        "    self.layers = [Layer(sz[i], sz[i+1]) for i in range(len(nouts))]\n",
        "\n",
        "  def __call__(self, x):\n",
        "    for layer in self.layers:\n",
        "      x = layer(x)\n",
        "    return x\n",
        "\n",
        "  def parameters(self):\n",
        "    return [p for layer in self.layers for p in layer.parameters()]\n",
        "\n",
        "# start by implementing neuron, then add Layer, then add MLP\n",
        "# x = [2.0, 3.0]\n",
        "# n = Layer(2, 3)\n",
        "# n(x) # keep playing because we have random\n",
        "\n",
        "# example for MLP\n",
        "# x = [2.0, 3.0, -1.0]\n",
        "# n = MLP(3, [4, 4, 1])\n",
        "# n(x)"
      ],
      "metadata": {
        "id": "RqsMH1aYdMS9"
      },
      "execution_count": 117,
      "outputs": []
    },
    {
      "cell_type": "code",
      "source": [
        "x = [2.0, 3.0, -1.0]\n",
        "n = MLP(3, [4, 4, 1])\n",
        "n(x)"
      ],
      "metadata": {
        "colab": {
          "base_uri": "https://localhost:8080/"
        },
        "id": "jqyD_XK6m9q6",
        "outputId": "612c58d3-eabc-4745-962a-5ef0fd656a90"
      },
      "execution_count": 118,
      "outputs": [
        {
          "output_type": "execute_result",
          "data": {
            "text/plain": [
              "Value(data=0.9676098360002678)"
            ]
          },
          "metadata": {},
          "execution_count": 118
        }
      ]
    },
    {
      "cell_type": "code",
      "source": [
        "# n.parameters()\n",
        "len(n.parameters())"
      ],
      "metadata": {
        "colab": {
          "base_uri": "https://localhost:8080/"
        },
        "id": "eDztUv0hnUnX",
        "outputId": "8cafa71d-b0d5-4f84-ad27-753af1d02280"
      },
      "execution_count": 120,
      "outputs": [
        {
          "output_type": "execute_result",
          "data": {
            "text/plain": [
              "41"
            ]
          },
          "metadata": {},
          "execution_count": 120
        }
      ]
    },
    {
      "cell_type": "code",
      "source": [
        "draw_dot(n(x))"
      ],
      "metadata": {
        "colab": {
          "base_uri": "https://localhost:8080/",
          "height": 1000
        },
        "id": "j3FysAw7gDaT",
        "outputId": "c1f9ff0d-08a5-481b-d446-9420ba3633e6"
      },
      "execution_count": 97,
      "outputs": [
        {
          "output_type": "execute_result",
          "data": {
            "image/svg+xml": "<?xml version=\"1.0\" encoding=\"UTF-8\" standalone=\"no\"?>\n<!DOCTYPE svg PUBLIC \"-//W3C//DTD SVG 1.1//EN\"\n \"http://www.w3.org/Graphics/SVG/1.1/DTD/svg11.dtd\">\n<!-- Generated by graphviz version 2.43.0 (0)\n -->\n<!-- Title: %3 Pages: 1 -->\n<svg width=\"4831pt\" height=\"1706pt\"\n viewBox=\"0.00 0.00 4831.00 1706.00\" xmlns=\"http://www.w3.org/2000/svg\" xmlns:xlink=\"http://www.w3.org/1999/xlink\">\n<g id=\"graph0\" class=\"graph\" transform=\"scale(1 1) rotate(0) translate(4 1702)\">\n<title>%3</title>\n<polygon fill=\"white\" stroke=\"transparent\" points=\"-4,4 -4,-1702 4827,-1702 4827,4 -4,4\"/>\n<!-- 136744902238240 -->\n<g id=\"node1\" class=\"node\">\n<title>136744902238240</title>\n<polygon fill=\"none\" stroke=\"black\" points=\"1629,-748.5 1629,-817.5 1769,-817.5 1769,-748.5 1629,-748.5\"/>\n<text text-anchor=\"middle\" x=\"1699\" y=\"-802.3\" font-family=\"Times,serif\" font-size=\"14.00\"> </text>\n<polyline fill=\"none\" stroke=\"black\" points=\"1629,-794.5 1769,-794.5 \"/>\n<text text-anchor=\"middle\" x=\"1699\" y=\"-779.3\" font-family=\"Times,serif\" font-size=\"14.00\">&#45;0.9842727694985456</text>\n<polyline fill=\"none\" stroke=\"black\" points=\"1629,-771.5 1769,-771.5 \"/>\n<text text-anchor=\"middle\" x=\"1699\" y=\"-756.3\" font-family=\"Times,serif\" font-size=\"14.00\">0.0</text>\n</g>\n<!-- 136744901833536* -->\n<g id=\"node86\" class=\"node\">\n<title>136744901833536*</title>\n<ellipse fill=\"none\" stroke=\"black\" cx=\"1835\" cy=\"-783\" rx=\"27\" ry=\"18\"/>\n<text text-anchor=\"middle\" x=\"1835\" y=\"-779.3\" font-family=\"Times,serif\" font-size=\"14.00\">*</text>\n</g>\n<!-- 136744902238240&#45;&gt;136744901833536* -->\n<g id=\"edge82\" class=\"edge\">\n<title>136744902238240&#45;&gt;136744901833536*</title>\n<path fill=\"none\" stroke=\"black\" d=\"M1769.36,-783C1779.16,-783 1788.9,-783 1797.73,-783\"/>\n<polygon fill=\"black\" stroke=\"black\" points=\"1797.99,-786.5 1807.99,-783 1797.99,-779.5 1797.99,-786.5\"/>\n</g>\n<!-- 136744902244000* -->\n<g id=\"node115\" class=\"node\">\n<title>136744902244000*</title>\n<ellipse fill=\"none\" stroke=\"black\" cx=\"1835\" cy=\"-959\" rx=\"27\" ry=\"18\"/>\n<text text-anchor=\"middle\" x=\"1835\" y=\"-955.3\" font-family=\"Times,serif\" font-size=\"14.00\">*</text>\n</g>\n<!-- 136744902238240&#45;&gt;136744902244000* -->\n<g id=\"edge161\" class=\"edge\">\n<title>136744902238240&#45;&gt;136744902244000*</title>\n<path fill=\"none\" stroke=\"black\" d=\"M1762.41,-817.68C1765.83,-820.62 1769.07,-823.73 1772,-827 1779.53,-835.4 1806.63,-896.09 1822.4,-932.19\"/>\n<polygon fill=\"black\" stroke=\"black\" points=\"1819.32,-933.88 1826.52,-941.65 1825.74,-931.09 1819.32,-933.88\"/>\n</g>\n<!-- 136744903923392* -->\n<g id=\"node117\" class=\"node\">\n<title>136744903923392*</title>\n<ellipse fill=\"none\" stroke=\"black\" cx=\"1835\" cy=\"-1047\" rx=\"27\" ry=\"18\"/>\n<text text-anchor=\"middle\" x=\"1835\" y=\"-1043.3\" font-family=\"Times,serif\" font-size=\"14.00\">*</text>\n</g>\n<!-- 136744902238240&#45;&gt;136744903923392* -->\n<g id=\"edge84\" class=\"edge\">\n<title>136744902238240&#45;&gt;136744903923392*</title>\n<path fill=\"none\" stroke=\"black\" d=\"M1763.91,-817.61C1766.88,-820.54 1769.61,-823.67 1772,-827 1814.24,-885.87 1785.7,-917.06 1808,-986 1811.77,-997.66 1816.9,-1010.16 1821.6,-1020.8\"/>\n<polygon fill=\"black\" stroke=\"black\" points=\"1818.44,-1022.3 1825.76,-1029.96 1824.82,-1019.41 1818.44,-1022.3\"/>\n</g>\n<!-- 136744902646976* -->\n<g id=\"node177\" class=\"node\">\n<title>136744902646976*</title>\n<ellipse fill=\"none\" stroke=\"black\" cx=\"1835\" cy=\"-519\" rx=\"27\" ry=\"18\"/>\n<text text-anchor=\"middle\" x=\"1835\" y=\"-515.3\" font-family=\"Times,serif\" font-size=\"14.00\">*</text>\n</g>\n<!-- 136744902238240&#45;&gt;136744902646976* -->\n<g id=\"edge186\" class=\"edge\">\n<title>136744902238240&#45;&gt;136744902646976*</title>\n<path fill=\"none\" stroke=\"black\" d=\"M1763.71,-748.24C1766.73,-745.35 1769.52,-742.27 1772,-739 1816.17,-680.71 1828.88,-592.32 1832.53,-547.39\"/>\n<polygon fill=\"black\" stroke=\"black\" points=\"1836.04,-547.42 1833.26,-537.2 1829.05,-546.92 1836.04,-547.42\"/>\n</g>\n<!-- 136744902238240tanh -->\n<g id=\"node2\" class=\"node\">\n<title>136744902238240tanh</title>\n<ellipse fill=\"none\" stroke=\"black\" cx=\"1563\" cy=\"-783\" rx=\"27\" ry=\"18\"/>\n<text text-anchor=\"middle\" x=\"1563\" y=\"-779.3\" font-family=\"Times,serif\" font-size=\"14.00\">tanh</text>\n</g>\n<!-- 136744902238240tanh&#45;&gt;136744902238240 -->\n<g id=\"edge1\" class=\"edge\">\n<title>136744902238240tanh&#45;&gt;136744902238240</title>\n<path fill=\"none\" stroke=\"black\" d=\"M1590.15,-783C1598.55,-783 1608.33,-783 1618.51,-783\"/>\n<polygon fill=\"black\" stroke=\"black\" points=\"1618.79,-786.5 1628.79,-783 1618.79,-779.5 1618.79,-786.5\"/>\n</g>\n<!-- 136744902238288 -->\n<g id=\"node3\" class=\"node\">\n<title>136744902238288</title>\n<polygon fill=\"none\" stroke=\"black\" points=\"590,-132.5 590,-201.5 644,-201.5 644,-132.5 590,-132.5\"/>\n<text text-anchor=\"middle\" x=\"617\" y=\"-186.3\" font-family=\"Times,serif\" font-size=\"14.00\"> </text>\n<polyline fill=\"none\" stroke=\"black\" points=\"590,-178.5 644,-178.5 \"/>\n<text text-anchor=\"middle\" x=\"617\" y=\"-163.3\" font-family=\"Times,serif\" font-size=\"14.00\">2.0</text>\n<polyline fill=\"none\" stroke=\"black\" points=\"590,-155.5 644,-155.5 \"/>\n<text text-anchor=\"middle\" x=\"617\" y=\"-140.3\" font-family=\"Times,serif\" font-size=\"14.00\">0.0</text>\n</g>\n<!-- 136744902238384* -->\n<g id=\"node7\" class=\"node\">\n<title>136744902238384*</title>\n<ellipse fill=\"none\" stroke=\"black\" cx=\"753\" cy=\"-123\" rx=\"27\" ry=\"18\"/>\n<text text-anchor=\"middle\" x=\"753\" y=\"-119.3\" font-family=\"Times,serif\" font-size=\"14.00\">*</text>\n</g>\n<!-- 136744902238288&#45;&gt;136744902238384* -->\n<g id=\"edge141\" class=\"edge\">\n<title>136744902238288&#45;&gt;136744902238384*</title>\n<path fill=\"none\" stroke=\"black\" d=\"M644.15,-158.41C665.39,-151.44 695.47,-141.56 718.47,-134.01\"/>\n<polygon fill=\"black\" stroke=\"black\" points=\"719.75,-137.27 728.16,-130.83 717.57,-130.62 719.75,-137.27\"/>\n</g>\n<!-- 136744902647936 -->\n<g id=\"node4\" class=\"node\">\n<title>136744902647936</title>\n<polygon fill=\"none\" stroke=\"black\" points=\"2719.5,-636.5 2719.5,-705.5 2854.5,-705.5 2854.5,-636.5 2719.5,-636.5\"/>\n<text text-anchor=\"middle\" x=\"2787\" y=\"-690.3\" font-family=\"Times,serif\" font-size=\"14.00\"> </text>\n<polyline fill=\"none\" stroke=\"black\" points=\"2719.5,-682.5 2854.5,-682.5 \"/>\n<text text-anchor=\"middle\" x=\"2787\" y=\"-667.3\" font-family=\"Times,serif\" font-size=\"14.00\">1.7062931727192057</text>\n<polyline fill=\"none\" stroke=\"black\" points=\"2719.5,-659.5 2854.5,-659.5 \"/>\n<text text-anchor=\"middle\" x=\"2787\" y=\"-644.3\" font-family=\"Times,serif\" font-size=\"14.00\">0.0</text>\n</g>\n<!-- 136744902648032tanh -->\n<g id=\"node9\" class=\"node\">\n<title>136744902648032tanh</title>\n<ellipse fill=\"none\" stroke=\"black\" cx=\"2920\" cy=\"-671\" rx=\"27\" ry=\"18\"/>\n<text text-anchor=\"middle\" x=\"2920\" y=\"-667.3\" font-family=\"Times,serif\" font-size=\"14.00\">tanh</text>\n</g>\n<!-- 136744902647936&#45;&gt;136744902648032tanh -->\n<g id=\"edge145\" class=\"edge\">\n<title>136744902647936&#45;&gt;136744902648032tanh</title>\n<path fill=\"none\" stroke=\"black\" d=\"M2854.65,-671C2864.27,-671 2873.85,-671 2882.57,-671\"/>\n<polygon fill=\"black\" stroke=\"black\" points=\"2882.73,-674.5 2892.73,-671 2882.73,-667.5 2882.73,-674.5\"/>\n</g>\n<!-- 136744902647936+ -->\n<g id=\"node5\" class=\"node\">\n<title>136744902647936+</title>\n<ellipse fill=\"none\" stroke=\"black\" cx=\"2654\" cy=\"-671\" rx=\"27\" ry=\"18\"/>\n<text text-anchor=\"middle\" x=\"2654\" y=\"-667.3\" font-family=\"Times,serif\" font-size=\"14.00\">+</text>\n</g>\n<!-- 136744902647936+&#45;&gt;136744902647936 -->\n<g id=\"edge2\" class=\"edge\">\n<title>136744902647936+&#45;&gt;136744902647936</title>\n<path fill=\"none\" stroke=\"black\" d=\"M2681.19,-671C2689.54,-671 2699.23,-671 2709.29,-671\"/>\n<polygon fill=\"black\" stroke=\"black\" points=\"2709.43,-674.5 2719.43,-671 2709.43,-667.5 2709.43,-674.5\"/>\n</g>\n<!-- 136744902238384 -->\n<g id=\"node6\" class=\"node\">\n<title>136744902238384</title>\n<polygon fill=\"none\" stroke=\"black\" points=\"816,-88.5 816,-157.5 962,-157.5 962,-88.5 816,-88.5\"/>\n<text text-anchor=\"middle\" x=\"889\" y=\"-142.3\" font-family=\"Times,serif\" font-size=\"14.00\"> </text>\n<polyline fill=\"none\" stroke=\"black\" points=\"816,-134.5 962,-134.5 \"/>\n<text text-anchor=\"middle\" x=\"889\" y=\"-119.3\" font-family=\"Times,serif\" font-size=\"14.00\">&#45;0.33322741158281755</text>\n<polyline fill=\"none\" stroke=\"black\" points=\"816,-111.5 962,-111.5 \"/>\n<text text-anchor=\"middle\" x=\"889\" y=\"-96.3\" font-family=\"Times,serif\" font-size=\"14.00\">0.0</text>\n</g>\n<!-- 136744902239200+ -->\n<g id=\"node25\" class=\"node\">\n<title>136744902239200+</title>\n<ellipse fill=\"none\" stroke=\"black\" cx=\"1025\" cy=\"-123\" rx=\"27\" ry=\"18\"/>\n<text text-anchor=\"middle\" x=\"1025\" y=\"-119.3\" font-family=\"Times,serif\" font-size=\"14.00\">+</text>\n</g>\n<!-- 136744902238384&#45;&gt;136744902239200+ -->\n<g id=\"edge196\" class=\"edge\">\n<title>136744902238384&#45;&gt;136744902239200+</title>\n<path fill=\"none\" stroke=\"black\" d=\"M962.1,-123C970.97,-123 979.73,-123 987.73,-123\"/>\n<polygon fill=\"black\" stroke=\"black\" points=\"987.77,-126.5 997.77,-123 987.77,-119.5 987.77,-126.5\"/>\n</g>\n<!-- 136744902238384*&#45;&gt;136744902238384 -->\n<g id=\"edge3\" class=\"edge\">\n<title>136744902238384*&#45;&gt;136744902238384</title>\n<path fill=\"none\" stroke=\"black\" d=\"M780.15,-123C787.82,-123 796.63,-123 805.85,-123\"/>\n<polygon fill=\"black\" stroke=\"black\" points=\"805.98,-126.5 815.98,-123 805.98,-119.5 805.98,-126.5\"/>\n</g>\n<!-- 136744902648032 -->\n<g id=\"node8\" class=\"node\">\n<title>136744902648032</title>\n<polygon fill=\"none\" stroke=\"black\" points=\"2988.5,-636.5 2988.5,-705.5 3123.5,-705.5 3123.5,-636.5 2988.5,-636.5\"/>\n<text text-anchor=\"middle\" x=\"3056\" y=\"-690.3\" font-family=\"Times,serif\" font-size=\"14.00\"> </text>\n<polyline fill=\"none\" stroke=\"black\" points=\"2988.5,-682.5 3123.5,-682.5 \"/>\n<text text-anchor=\"middle\" x=\"3056\" y=\"-667.3\" font-family=\"Times,serif\" font-size=\"14.00\">0.9361911650377847</text>\n<polyline fill=\"none\" stroke=\"black\" points=\"2988.5,-659.5 3123.5,-659.5 \"/>\n<text text-anchor=\"middle\" x=\"3056\" y=\"-644.3\" font-family=\"Times,serif\" font-size=\"14.00\">0.0</text>\n</g>\n<!-- 136744902649472* -->\n<g id=\"node44\" class=\"node\">\n<title>136744902649472*</title>\n<ellipse fill=\"none\" stroke=\"black\" cx=\"3192\" cy=\"-671\" rx=\"27\" ry=\"18\"/>\n<text text-anchor=\"middle\" x=\"3192\" y=\"-667.3\" font-family=\"Times,serif\" font-size=\"14.00\">*</text>\n</g>\n<!-- 136744902648032&#45;&gt;136744902649472* -->\n<g id=\"edge204\" class=\"edge\">\n<title>136744902648032&#45;&gt;136744902649472*</title>\n<path fill=\"none\" stroke=\"black\" d=\"M3123.61,-671C3134.41,-671 3145.23,-671 3154.94,-671\"/>\n<polygon fill=\"black\" stroke=\"black\" points=\"3154.98,-674.5 3164.98,-671 3154.98,-667.5 3154.98,-674.5\"/>\n</g>\n<!-- 136744902648032tanh&#45;&gt;136744902648032 -->\n<g id=\"edge4\" class=\"edge\">\n<title>136744902648032tanh&#45;&gt;136744902648032</title>\n<path fill=\"none\" stroke=\"black\" d=\"M2947.15,-671C2956.25,-671 2966.97,-671 2978.07,-671\"/>\n<polygon fill=\"black\" stroke=\"black\" points=\"2978.32,-674.5 2988.32,-671 2978.32,-667.5 2978.32,-674.5\"/>\n</g>\n<!-- 136744902648320 -->\n<g id=\"node10\" class=\"node\">\n<title>136744902648320</title>\n<polygon fill=\"none\" stroke=\"black\" points=\"3255,-957.5 3255,-1026.5 3401,-1026.5 3401,-957.5 3255,-957.5\"/>\n<text text-anchor=\"middle\" x=\"3328\" y=\"-1011.3\" font-family=\"Times,serif\" font-size=\"14.00\"> </text>\n<polyline fill=\"none\" stroke=\"black\" points=\"3255,-1003.5 3401,-1003.5 \"/>\n<text text-anchor=\"middle\" x=\"3328\" y=\"-988.3\" font-family=\"Times,serif\" font-size=\"14.00\">&#45;0.07371231833423313</text>\n<polyline fill=\"none\" stroke=\"black\" points=\"3255,-980.5 3401,-980.5 \"/>\n<text text-anchor=\"middle\" x=\"3328\" y=\"-965.3\" font-family=\"Times,serif\" font-size=\"14.00\">0.0</text>\n</g>\n<!-- 136744902648512+ -->\n<g id=\"node18\" class=\"node\">\n<title>136744902648512+</title>\n<ellipse fill=\"none\" stroke=\"black\" cx=\"3510\" cy=\"-912\" rx=\"27\" ry=\"18\"/>\n<text text-anchor=\"middle\" x=\"3510\" y=\"-908.3\" font-family=\"Times,serif\" font-size=\"14.00\">+</text>\n</g>\n<!-- 136744902648320&#45;&gt;136744902648512+ -->\n<g id=\"edge156\" class=\"edge\">\n<title>136744902648320&#45;&gt;136744902648512+</title>\n<path fill=\"none\" stroke=\"black\" d=\"M3401.18,-959.92C3427.69,-948.14 3456.35,-935.4 3477.46,-926.02\"/>\n<polygon fill=\"black\" stroke=\"black\" points=\"3479.16,-929.09 3486.87,-921.83 3476.32,-922.7 3479.16,-929.09\"/>\n</g>\n<!-- 136744902648320* -->\n<g id=\"node11\" class=\"node\">\n<title>136744902648320*</title>\n<ellipse fill=\"none\" stroke=\"black\" cx=\"3192\" cy=\"-992\" rx=\"27\" ry=\"18\"/>\n<text text-anchor=\"middle\" x=\"3192\" y=\"-988.3\" font-family=\"Times,serif\" font-size=\"14.00\">*</text>\n</g>\n<!-- 136744902648320*&#45;&gt;136744902648320 -->\n<g id=\"edge5\" class=\"edge\">\n<title>136744902648320*&#45;&gt;136744902648320</title>\n<path fill=\"none\" stroke=\"black\" d=\"M3219.15,-992C3226.82,-992 3235.63,-992 3244.85,-992\"/>\n<polygon fill=\"black\" stroke=\"black\" points=\"3244.98,-995.5 3254.98,-992 3244.98,-988.5 3244.98,-995.5\"/>\n</g>\n<!-- 136744902230560 -->\n<g id=\"node12\" class=\"node\">\n<title>136744902230560</title>\n<polygon fill=\"none\" stroke=\"black\" points=\"46,-1144.5 46,-1213.5 100,-1213.5 100,-1144.5 46,-1144.5\"/>\n<text text-anchor=\"middle\" x=\"73\" y=\"-1198.3\" font-family=\"Times,serif\" font-size=\"14.00\"> </text>\n<polyline fill=\"none\" stroke=\"black\" points=\"46,-1190.5 100,-1190.5 \"/>\n<text text-anchor=\"middle\" x=\"73\" y=\"-1175.3\" font-family=\"Times,serif\" font-size=\"14.00\">2.0</text>\n<polyline fill=\"none\" stroke=\"black\" points=\"46,-1167.5 100,-1167.5 \"/>\n<text text-anchor=\"middle\" x=\"73\" y=\"-1152.3\" font-family=\"Times,serif\" font-size=\"14.00\">0.0</text>\n</g>\n<!-- 136744902230608* -->\n<g id=\"node14\" class=\"node\">\n<title>136744902230608*</title>\n<ellipse fill=\"none\" stroke=\"black\" cx=\"209\" cy=\"-1135\" rx=\"27\" ry=\"18\"/>\n<text text-anchor=\"middle\" x=\"209\" y=\"-1131.3\" font-family=\"Times,serif\" font-size=\"14.00\">*</text>\n</g>\n<!-- 136744902230560&#45;&gt;136744902230608* -->\n<g id=\"edge173\" class=\"edge\">\n<title>136744902230560&#45;&gt;136744902230608*</title>\n<path fill=\"none\" stroke=\"black\" d=\"M100.15,-1170.41C121.39,-1163.44 151.47,-1153.56 174.47,-1146.01\"/>\n<polygon fill=\"black\" stroke=\"black\" points=\"175.75,-1149.27 184.16,-1142.83 173.57,-1142.62 175.75,-1149.27\"/>\n</g>\n<!-- 136744902230608 -->\n<g id=\"node13\" class=\"node\">\n<title>136744902230608</title>\n<polygon fill=\"none\" stroke=\"black\" points=\"275,-1100.5 275,-1169.5 415,-1169.5 415,-1100.5 275,-1100.5\"/>\n<text text-anchor=\"middle\" x=\"345\" y=\"-1154.3\" font-family=\"Times,serif\" font-size=\"14.00\"> </text>\n<polyline fill=\"none\" stroke=\"black\" points=\"275,-1146.5 415,-1146.5 \"/>\n<text text-anchor=\"middle\" x=\"345\" y=\"-1131.3\" font-family=\"Times,serif\" font-size=\"14.00\">&#45;0.7268590135117523</text>\n<polyline fill=\"none\" stroke=\"black\" points=\"275,-1123.5 415,-1123.5 \"/>\n<text text-anchor=\"middle\" x=\"345\" y=\"-1108.3\" font-family=\"Times,serif\" font-size=\"14.00\">0.0</text>\n</g>\n<!-- 136744902232384+ -->\n<g id=\"node65\" class=\"node\">\n<title>136744902232384+</title>\n<ellipse fill=\"none\" stroke=\"black\" cx=\"481\" cy=\"-1047\" rx=\"27\" ry=\"18\"/>\n<text text-anchor=\"middle\" x=\"481\" y=\"-1043.3\" font-family=\"Times,serif\" font-size=\"14.00\">+</text>\n</g>\n<!-- 136744902230608&#45;&gt;136744902232384+ -->\n<g id=\"edge77\" class=\"edge\">\n<title>136744902230608&#45;&gt;136744902232384+</title>\n<path fill=\"none\" stroke=\"black\" d=\"M403.6,-1100.29C408.5,-1097.19 413.35,-1094.06 418,-1091 430,-1083.09 443.01,-1073.95 454,-1066.05\"/>\n<polygon fill=\"black\" stroke=\"black\" points=\"456.26,-1068.73 462.32,-1060.04 452.16,-1063.06 456.26,-1068.73\"/>\n</g>\n<!-- 136744902230608*&#45;&gt;136744902230608 -->\n<g id=\"edge6\" class=\"edge\">\n<title>136744902230608*&#45;&gt;136744902230608</title>\n<path fill=\"none\" stroke=\"black\" d=\"M236.15,-1135C244.55,-1135 254.33,-1135 264.51,-1135\"/>\n<polygon fill=\"black\" stroke=\"black\" points=\"264.79,-1138.5 274.79,-1135 264.79,-1131.5 264.79,-1138.5\"/>\n</g>\n<!-- 136744902238912 -->\n<g id=\"node15\" class=\"node\">\n<title>136744902238912</title>\n<polygon fill=\"none\" stroke=\"black\" points=\"1362.5,-176.5 1362.5,-245.5 1497.5,-245.5 1497.5,-176.5 1362.5,-176.5\"/>\n<text text-anchor=\"middle\" x=\"1430\" y=\"-230.3\" font-family=\"Times,serif\" font-size=\"14.00\"> </text>\n<polyline fill=\"none\" stroke=\"black\" points=\"1362.5,-222.5 1497.5,-222.5 \"/>\n<text text-anchor=\"middle\" x=\"1430\" y=\"-207.3\" font-family=\"Times,serif\" font-size=\"14.00\">1.9275381051946394</text>\n<polyline fill=\"none\" stroke=\"black\" points=\"1362.5,-199.5 1497.5,-199.5 \"/>\n<text text-anchor=\"middle\" x=\"1430\" y=\"-184.3\" font-family=\"Times,serif\" font-size=\"14.00\">0.0</text>\n</g>\n<!-- 136744902239776+ -->\n<g id=\"node42\" class=\"node\">\n<title>136744902239776+</title>\n<ellipse fill=\"none\" stroke=\"black\" cx=\"1563\" cy=\"-255\" rx=\"27\" ry=\"18\"/>\n<text text-anchor=\"middle\" x=\"1563\" y=\"-251.3\" font-family=\"Times,serif\" font-size=\"14.00\">+</text>\n</g>\n<!-- 136744902238912&#45;&gt;136744902239776+ -->\n<g id=\"edge174\" class=\"edge\">\n<title>136744902238912&#45;&gt;136744902239776+</title>\n<path fill=\"none\" stroke=\"black\" d=\"M1497.65,-233.39C1508.53,-237.04 1519.38,-240.68 1528.97,-243.91\"/>\n<polygon fill=\"black\" stroke=\"black\" points=\"1527.88,-247.23 1538.47,-247.1 1530.11,-240.6 1527.88,-247.23\"/>\n</g>\n<!-- 136744902238912+ -->\n<g id=\"node16\" class=\"node\">\n<title>136744902238912+</title>\n<ellipse fill=\"none\" stroke=\"black\" cx=\"1297\" cy=\"-211\" rx=\"27\" ry=\"18\"/>\n<text text-anchor=\"middle\" x=\"1297\" y=\"-207.3\" font-family=\"Times,serif\" font-size=\"14.00\">+</text>\n</g>\n<!-- 136744902238912+&#45;&gt;136744902238912 -->\n<g id=\"edge7\" class=\"edge\">\n<title>136744902238912+&#45;&gt;136744902238912</title>\n<path fill=\"none\" stroke=\"black\" d=\"M1324.19,-211C1332.54,-211 1342.23,-211 1352.29,-211\"/>\n<polygon fill=\"black\" stroke=\"black\" points=\"1352.43,-214.5 1362.43,-211 1352.43,-207.5 1352.43,-214.5\"/>\n</g>\n<!-- 136744902648512 -->\n<g id=\"node17\" class=\"node\">\n<title>136744902648512</title>\n<polygon fill=\"none\" stroke=\"black\" points=\"3619,-877.5 3619,-946.5 3759,-946.5 3759,-877.5 3619,-877.5\"/>\n<text text-anchor=\"middle\" x=\"3689\" y=\"-931.3\" font-family=\"Times,serif\" font-size=\"14.00\"> </text>\n<polyline fill=\"none\" stroke=\"black\" points=\"3619,-923.5 3759,-923.5 \"/>\n<text text-anchor=\"middle\" x=\"3689\" y=\"-908.3\" font-family=\"Times,serif\" font-size=\"14.00\">&#45;0.8578965999308422</text>\n<polyline fill=\"none\" stroke=\"black\" points=\"3619,-900.5 3759,-900.5 \"/>\n<text text-anchor=\"middle\" x=\"3689\" y=\"-885.3\" font-family=\"Times,serif\" font-size=\"14.00\">0.0</text>\n</g>\n<!-- 136744902648896+ -->\n<g id=\"node29\" class=\"node\">\n<title>136744902648896+</title>\n<ellipse fill=\"none\" stroke=\"black\" cx=\"3822\" cy=\"-912\" rx=\"27\" ry=\"18\"/>\n<text text-anchor=\"middle\" x=\"3822\" y=\"-908.3\" font-family=\"Times,serif\" font-size=\"14.00\">+</text>\n</g>\n<!-- 136744902648512&#45;&gt;136744902648896+ -->\n<g id=\"edge184\" class=\"edge\">\n<title>136744902648512&#45;&gt;136744902648896+</title>\n<path fill=\"none\" stroke=\"black\" d=\"M3759.34,-912C3768.13,-912 3776.82,-912 3784.79,-912\"/>\n<polygon fill=\"black\" stroke=\"black\" points=\"3784.8,-915.5 3794.8,-912 3784.8,-908.5 3784.8,-915.5\"/>\n</g>\n<!-- 136744902648512+&#45;&gt;136744902648512 -->\n<g id=\"edge8\" class=\"edge\">\n<title>136744902648512+&#45;&gt;136744902648512</title>\n<path fill=\"none\" stroke=\"black\" d=\"M3537.12,-912C3556.13,-912 3582.97,-912 3608.75,-912\"/>\n<polygon fill=\"black\" stroke=\"black\" points=\"3608.93,-915.5 3618.93,-912 3608.93,-908.5 3608.93,-915.5\"/>\n</g>\n<!-- 136744902239056 -->\n<g id=\"node19\" class=\"node\">\n<title>136744902239056</title>\n<polygon fill=\"none\" stroke=\"black\" points=\"1093.5,-176.5 1093.5,-245.5 1228.5,-245.5 1228.5,-176.5 1093.5,-176.5\"/>\n<text text-anchor=\"middle\" x=\"1161\" y=\"-230.3\" font-family=\"Times,serif\" font-size=\"14.00\"> </text>\n<polyline fill=\"none\" stroke=\"black\" points=\"1093.5,-222.5 1228.5,-222.5 \"/>\n<text text-anchor=\"middle\" x=\"1161\" y=\"-207.3\" font-family=\"Times,serif\" font-size=\"14.00\">2.3520197640894676</text>\n<polyline fill=\"none\" stroke=\"black\" points=\"1093.5,-199.5 1228.5,-199.5 \"/>\n<text text-anchor=\"middle\" x=\"1161\" y=\"-184.3\" font-family=\"Times,serif\" font-size=\"14.00\">0.0</text>\n</g>\n<!-- 136744902239056&#45;&gt;136744902238912+ -->\n<g id=\"edge119\" class=\"edge\">\n<title>136744902239056&#45;&gt;136744902238912+</title>\n<path fill=\"none\" stroke=\"black\" d=\"M1228.61,-211C1239.41,-211 1250.23,-211 1259.94,-211\"/>\n<polygon fill=\"black\" stroke=\"black\" points=\"1259.98,-214.5 1269.98,-211 1259.98,-207.5 1259.98,-214.5\"/>\n</g>\n<!-- 136744902239056* -->\n<g id=\"node20\" class=\"node\">\n<title>136744902239056*</title>\n<ellipse fill=\"none\" stroke=\"black\" cx=\"1025\" cy=\"-211\" rx=\"27\" ry=\"18\"/>\n<text text-anchor=\"middle\" x=\"1025\" y=\"-207.3\" font-family=\"Times,serif\" font-size=\"14.00\">*</text>\n</g>\n<!-- 136744902239056*&#45;&gt;136744902239056 -->\n<g id=\"edge9\" class=\"edge\">\n<title>136744902239056*&#45;&gt;136744902239056</title>\n<path fill=\"none\" stroke=\"black\" d=\"M1052.15,-211C1061.25,-211 1071.97,-211 1083.07,-211\"/>\n<polygon fill=\"black\" stroke=\"black\" points=\"1083.32,-214.5 1093.32,-211 1083.32,-207.5 1083.32,-214.5\"/>\n</g>\n<!-- 136744902239104 -->\n<g id=\"node21\" class=\"node\">\n<title>136744902239104</title>\n<polygon fill=\"none\" stroke=\"black\" points=\"862,-264.5 862,-333.5 916,-333.5 916,-264.5 862,-264.5\"/>\n<text text-anchor=\"middle\" x=\"889\" y=\"-318.3\" font-family=\"Times,serif\" font-size=\"14.00\"> </text>\n<polyline fill=\"none\" stroke=\"black\" points=\"862,-310.5 916,-310.5 \"/>\n<text text-anchor=\"middle\" x=\"889\" y=\"-295.3\" font-family=\"Times,serif\" font-size=\"14.00\">3.0</text>\n<polyline fill=\"none\" stroke=\"black\" points=\"862,-287.5 916,-287.5 \"/>\n<text text-anchor=\"middle\" x=\"889\" y=\"-272.3\" font-family=\"Times,serif\" font-size=\"14.00\">0.0</text>\n</g>\n<!-- 136744902239104&#45;&gt;136744902239056* -->\n<g id=\"edge110\" class=\"edge\">\n<title>136744902239104&#45;&gt;136744902239056*</title>\n<path fill=\"none\" stroke=\"black\" d=\"M916.26,-283.54C930.03,-275.29 947.08,-264.84 962,-255 974,-247.09 987.01,-237.95 998,-230.05\"/>\n<polygon fill=\"black\" stroke=\"black\" points=\"1000.26,-232.73 1006.32,-224.04 996.16,-227.06 1000.26,-232.73\"/>\n</g>\n<!-- 136744902648704 -->\n<g id=\"node22\" class=\"node\">\n<title>136744902648704</title>\n<polygon fill=\"none\" stroke=\"black\" points=\"3440,-988.5 3440,-1057.5 3580,-1057.5 3580,-988.5 3440,-988.5\"/>\n<text text-anchor=\"middle\" x=\"3510\" y=\"-1042.3\" font-family=\"Times,serif\" font-size=\"14.00\"> </text>\n<polyline fill=\"none\" stroke=\"black\" points=\"3440,-1034.5 3580,-1034.5 \"/>\n<text text-anchor=\"middle\" x=\"3510\" y=\"-1019.3\" font-family=\"Times,serif\" font-size=\"14.00\">&#45;0.4782418704319992</text>\n<polyline fill=\"none\" stroke=\"black\" points=\"3440,-1011.5 3580,-1011.5 \"/>\n<text text-anchor=\"middle\" x=\"3510\" y=\"-996.3\" font-family=\"Times,serif\" font-size=\"14.00\">0.0</text>\n</g>\n<!-- 136744902648704&#45;&gt;136744902648896+ -->\n<g id=\"edge127\" class=\"edge\">\n<title>136744902648704&#45;&gt;136744902648896+</title>\n<path fill=\"none\" stroke=\"black\" d=\"M3580.12,-1011.15C3631.18,-1000.79 3701.51,-983.1 3759,-956 3772.19,-949.78 3785.54,-940.74 3796.46,-932.46\"/>\n<polygon fill=\"black\" stroke=\"black\" points=\"3798.92,-934.98 3804.64,-926.06 3794.61,-929.47 3798.92,-934.98\"/>\n</g>\n<!-- 136744902648704* -->\n<g id=\"node23\" class=\"node\">\n<title>136744902648704*</title>\n<ellipse fill=\"none\" stroke=\"black\" cx=\"3192\" cy=\"-1111\" rx=\"27\" ry=\"18\"/>\n<text text-anchor=\"middle\" x=\"3192\" y=\"-1107.3\" font-family=\"Times,serif\" font-size=\"14.00\">*</text>\n</g>\n<!-- 136744902648704*&#45;&gt;136744902648704 -->\n<g id=\"edge10\" class=\"edge\">\n<title>136744902648704*&#45;&gt;136744902648704</title>\n<path fill=\"none\" stroke=\"black\" d=\"M3217.27,-1104.24C3262.2,-1091.73 3360.12,-1064.46 3430.12,-1044.97\"/>\n<polygon fill=\"black\" stroke=\"black\" points=\"3431.11,-1048.33 3439.8,-1042.27 3429.23,-1041.58 3431.11,-1048.33\"/>\n</g>\n<!-- 136744902239200 -->\n<g id=\"node24\" class=\"node\">\n<title>136744902239200</title>\n<polygon fill=\"none\" stroke=\"black\" points=\"1088,-88.5 1088,-157.5 1234,-157.5 1234,-88.5 1088,-88.5\"/>\n<text text-anchor=\"middle\" x=\"1161\" y=\"-142.3\" font-family=\"Times,serif\" font-size=\"14.00\"> </text>\n<polyline fill=\"none\" stroke=\"black\" points=\"1088,-134.5 1234,-134.5 \"/>\n<text text-anchor=\"middle\" x=\"1161\" y=\"-119.3\" font-family=\"Times,serif\" font-size=\"14.00\">&#45;0.42448165889482814</text>\n<polyline fill=\"none\" stroke=\"black\" points=\"1088,-111.5 1234,-111.5 \"/>\n<text text-anchor=\"middle\" x=\"1161\" y=\"-96.3\" font-family=\"Times,serif\" font-size=\"14.00\">0.0</text>\n</g>\n<!-- 136744902239200&#45;&gt;136744902238912+ -->\n<g id=\"edge149\" class=\"edge\">\n<title>136744902239200&#45;&gt;136744902238912+</title>\n<path fill=\"none\" stroke=\"black\" d=\"M1219.6,-157.71C1224.5,-160.81 1229.35,-163.94 1234,-167 1246,-174.91 1259.01,-184.05 1270,-191.95\"/>\n<polygon fill=\"black\" stroke=\"black\" points=\"1268.16,-194.94 1278.32,-197.96 1272.26,-189.27 1268.16,-194.94\"/>\n</g>\n<!-- 136744902239200+&#45;&gt;136744902239200 -->\n<g id=\"edge11\" class=\"edge\">\n<title>136744902239200+&#45;&gt;136744902239200</title>\n<path fill=\"none\" stroke=\"black\" d=\"M1052.15,-123C1059.82,-123 1068.63,-123 1077.85,-123\"/>\n<polygon fill=\"black\" stroke=\"black\" points=\"1077.98,-126.5 1087.98,-123 1077.98,-119.5 1077.98,-126.5\"/>\n</g>\n<!-- 136744902239248 -->\n<g id=\"node26\" class=\"node\">\n<title>136744902239248</title>\n<polygon fill=\"none\" stroke=\"black\" points=\"1362.5,-264.5 1362.5,-333.5 1497.5,-333.5 1497.5,-264.5 1362.5,-264.5\"/>\n<text text-anchor=\"middle\" x=\"1430\" y=\"-318.3\" font-family=\"Times,serif\" font-size=\"14.00\"> </text>\n<polyline fill=\"none\" stroke=\"black\" points=\"1362.5,-310.5 1497.5,-310.5 \"/>\n<text text-anchor=\"middle\" x=\"1430\" y=\"-295.3\" font-family=\"Times,serif\" font-size=\"14.00\">0.5128158996071026</text>\n<polyline fill=\"none\" stroke=\"black\" points=\"1362.5,-287.5 1497.5,-287.5 \"/>\n<text text-anchor=\"middle\" x=\"1430\" y=\"-272.3\" font-family=\"Times,serif\" font-size=\"14.00\">0.0</text>\n</g>\n<!-- 136744902239248&#45;&gt;136744902239776+ -->\n<g id=\"edge146\" class=\"edge\">\n<title>136744902239248&#45;&gt;136744902239776+</title>\n<path fill=\"none\" stroke=\"black\" d=\"M1497.65,-276.61C1508.53,-272.96 1519.38,-269.32 1528.97,-266.09\"/>\n<polygon fill=\"black\" stroke=\"black\" points=\"1530.11,-269.4 1538.47,-262.9 1527.88,-262.77 1530.11,-269.4\"/>\n</g>\n<!-- 136744902239248* -->\n<g id=\"node27\" class=\"node\">\n<title>136744902239248*</title>\n<ellipse fill=\"none\" stroke=\"black\" cx=\"1297\" cy=\"-299\" rx=\"27\" ry=\"18\"/>\n<text text-anchor=\"middle\" x=\"1297\" y=\"-295.3\" font-family=\"Times,serif\" font-size=\"14.00\">*</text>\n</g>\n<!-- 136744902239248*&#45;&gt;136744902239248 -->\n<g id=\"edge12\" class=\"edge\">\n<title>136744902239248*&#45;&gt;136744902239248</title>\n<path fill=\"none\" stroke=\"black\" d=\"M1324.19,-299C1332.54,-299 1342.23,-299 1352.29,-299\"/>\n<polygon fill=\"black\" stroke=\"black\" points=\"1352.43,-302.5 1362.43,-299 1352.43,-295.5 1352.43,-302.5\"/>\n</g>\n<!-- 136744902648896 -->\n<g id=\"node28\" class=\"node\">\n<title>136744902648896</title>\n<polygon fill=\"none\" stroke=\"black\" points=\"3885,-865.5 3885,-934.5 4025,-934.5 4025,-865.5 3885,-865.5\"/>\n<text text-anchor=\"middle\" x=\"3955\" y=\"-919.3\" font-family=\"Times,serif\" font-size=\"14.00\"> </text>\n<polyline fill=\"none\" stroke=\"black\" points=\"3885,-911.5 4025,-911.5 \"/>\n<text text-anchor=\"middle\" x=\"3955\" y=\"-896.3\" font-family=\"Times,serif\" font-size=\"14.00\">&#45;1.3361384703628414</text>\n<polyline fill=\"none\" stroke=\"black\" points=\"3885,-888.5 4025,-888.5 \"/>\n<text text-anchor=\"middle\" x=\"3955\" y=\"-873.3\" font-family=\"Times,serif\" font-size=\"14.00\">0.0</text>\n</g>\n<!-- 136744902649280+ -->\n<g id=\"node38\" class=\"node\">\n<title>136744902649280+</title>\n<ellipse fill=\"none\" stroke=\"black\" cx=\"4088\" cy=\"-833\" rx=\"27\" ry=\"18\"/>\n<text text-anchor=\"middle\" x=\"4088\" y=\"-829.3\" font-family=\"Times,serif\" font-size=\"14.00\">+</text>\n</g>\n<!-- 136744902648896&#45;&gt;136744902649280+ -->\n<g id=\"edge193\" class=\"edge\">\n<title>136744902648896&#45;&gt;136744902649280+</title>\n<path fill=\"none\" stroke=\"black\" d=\"M4023.8,-865.32C4035.44,-859.37 4046.98,-853.47 4056.95,-848.37\"/>\n<polygon fill=\"black\" stroke=\"black\" points=\"4058.68,-851.42 4065.99,-843.75 4055.49,-845.18 4058.68,-851.42\"/>\n</g>\n<!-- 136744902648896+&#45;&gt;136744902648896 -->\n<g id=\"edge13\" class=\"edge\">\n<title>136744902648896+&#45;&gt;136744902648896</title>\n<path fill=\"none\" stroke=\"black\" d=\"M3848.88,-909.63C3856.6,-908.92 3865.5,-908.11 3874.78,-907.26\"/>\n<polygon fill=\"black\" stroke=\"black\" points=\"3875.33,-910.72 3884.97,-906.32 3874.69,-903.75 3875.33,-910.72\"/>\n</g>\n<!-- 136744902239344 -->\n<g id=\"node30\" class=\"node\">\n<title>136744902239344</title>\n<polygon fill=\"none\" stroke=\"black\" points=\"1403,-1188.5 1403,-1257.5 1457,-1257.5 1457,-1188.5 1403,-1188.5\"/>\n<text text-anchor=\"middle\" x=\"1430\" y=\"-1242.3\" font-family=\"Times,serif\" font-size=\"14.00\"> </text>\n<polyline fill=\"none\" stroke=\"black\" points=\"1403,-1234.5 1457,-1234.5 \"/>\n<text text-anchor=\"middle\" x=\"1430\" y=\"-1219.3\" font-family=\"Times,serif\" font-size=\"14.00\">&#45;1.0</text>\n<polyline fill=\"none\" stroke=\"black\" points=\"1403,-1211.5 1457,-1211.5 \"/>\n<text text-anchor=\"middle\" x=\"1430\" y=\"-1196.3\" font-family=\"Times,serif\" font-size=\"14.00\">0.0</text>\n</g>\n<!-- 136744902239392* -->\n<g id=\"node34\" class=\"node\">\n<title>136744902239392*</title>\n<ellipse fill=\"none\" stroke=\"black\" cx=\"1563\" cy=\"-1311\" rx=\"27\" ry=\"18\"/>\n<text text-anchor=\"middle\" x=\"1563\" y=\"-1307.3\" font-family=\"Times,serif\" font-size=\"14.00\">*</text>\n</g>\n<!-- 136744902239344&#45;&gt;136744902239392* -->\n<g id=\"edge194\" class=\"edge\">\n<title>136744902239344&#45;&gt;136744902239392*</title>\n<path fill=\"none\" stroke=\"black\" d=\"M1457.08,-1239.21C1470.08,-1247.39 1485.97,-1257.56 1500,-1267 1511.84,-1274.97 1524.73,-1284.05 1535.68,-1291.89\"/>\n<polygon fill=\"black\" stroke=\"black\" points=\"1533.83,-1294.87 1543.99,-1297.86 1537.91,-1289.18 1533.83,-1294.87\"/>\n</g>\n<!-- 136744903550064 -->\n<g id=\"node31\" class=\"node\">\n<title>136744903550064</title>\n<polygon fill=\"none\" stroke=\"black\" points=\"2445,-1274.5 2445,-1343.5 2591,-1343.5 2591,-1274.5 2445,-1274.5\"/>\n<text text-anchor=\"middle\" x=\"2518\" y=\"-1328.3\" font-family=\"Times,serif\" font-size=\"14.00\"> </text>\n<polyline fill=\"none\" stroke=\"black\" points=\"2445,-1320.5 2591,-1320.5 \"/>\n<text text-anchor=\"middle\" x=\"2518\" y=\"-1305.3\" font-family=\"Times,serif\" font-size=\"14.00\">&#45;0.49931706533987597</text>\n<polyline fill=\"none\" stroke=\"black\" points=\"2445,-1297.5 2591,-1297.5 \"/>\n<text text-anchor=\"middle\" x=\"2518\" y=\"-1282.3\" font-family=\"Times,serif\" font-size=\"14.00\">0.0</text>\n</g>\n<!-- 136744902308912+ -->\n<g id=\"node95\" class=\"node\">\n<title>136744902308912+</title>\n<ellipse fill=\"none\" stroke=\"black\" cx=\"2654\" cy=\"-1111\" rx=\"27\" ry=\"18\"/>\n<text text-anchor=\"middle\" x=\"2654\" y=\"-1107.3\" font-family=\"Times,serif\" font-size=\"14.00\">+</text>\n</g>\n<!-- 136744903550064&#45;&gt;136744902308912+ -->\n<g id=\"edge195\" class=\"edge\">\n<title>136744903550064&#45;&gt;136744902308912+</title>\n<path fill=\"none\" stroke=\"black\" d=\"M2581.96,-1274.21C2585.21,-1271.31 2588.26,-1268.24 2591,-1265 2622.59,-1227.68 2639.54,-1172.2 2647.38,-1139.01\"/>\n<polygon fill=\"black\" stroke=\"black\" points=\"2650.83,-1139.59 2649.61,-1129.07 2644,-1138.06 2650.83,-1139.59\"/>\n</g>\n<!-- 136744903550064* -->\n<g id=\"node32\" class=\"node\">\n<title>136744903550064*</title>\n<ellipse fill=\"none\" stroke=\"black\" cx=\"2382\" cy=\"-1309\" rx=\"27\" ry=\"18\"/>\n<text text-anchor=\"middle\" x=\"2382\" y=\"-1305.3\" font-family=\"Times,serif\" font-size=\"14.00\">*</text>\n</g>\n<!-- 136744903550064*&#45;&gt;136744903550064 -->\n<g id=\"edge14\" class=\"edge\">\n<title>136744903550064*&#45;&gt;136744903550064</title>\n<path fill=\"none\" stroke=\"black\" d=\"M2409.15,-1309C2416.82,-1309 2425.63,-1309 2434.85,-1309\"/>\n<polygon fill=\"black\" stroke=\"black\" points=\"2434.98,-1312.5 2444.98,-1309 2434.98,-1305.5 2434.98,-1312.5\"/>\n</g>\n<!-- 136744902239392 -->\n<g id=\"node33\" class=\"node\">\n<title>136744902239392</title>\n<polygon fill=\"none\" stroke=\"black\" points=\"1631.5,-1276.5 1631.5,-1345.5 1766.5,-1345.5 1766.5,-1276.5 1631.5,-1276.5\"/>\n<text text-anchor=\"middle\" x=\"1699\" y=\"-1330.3\" font-family=\"Times,serif\" font-size=\"14.00\"> </text>\n<polyline fill=\"none\" stroke=\"black\" points=\"1631.5,-1322.5 1766.5,-1322.5 \"/>\n<text text-anchor=\"middle\" x=\"1699\" y=\"-1307.3\" font-family=\"Times,serif\" font-size=\"14.00\">0.3567997777627807</text>\n<polyline fill=\"none\" stroke=\"black\" points=\"1631.5,-1299.5 1766.5,-1299.5 \"/>\n<text text-anchor=\"middle\" x=\"1699\" y=\"-1284.3\" font-family=\"Times,serif\" font-size=\"14.00\">0.0</text>\n</g>\n<!-- 136744902243328+ -->\n<g id=\"node93\" class=\"node\">\n<title>136744902243328+</title>\n<ellipse fill=\"none\" stroke=\"black\" cx=\"1835\" cy=\"-1311\" rx=\"27\" ry=\"18\"/>\n<text text-anchor=\"middle\" x=\"1835\" y=\"-1307.3\" font-family=\"Times,serif\" font-size=\"14.00\">+</text>\n</g>\n<!-- 136744902239392&#45;&gt;136744902243328+ -->\n<g id=\"edge154\" class=\"edge\">\n<title>136744902239392&#45;&gt;136744902243328+</title>\n<path fill=\"none\" stroke=\"black\" d=\"M1766.61,-1311C1777.41,-1311 1788.23,-1311 1797.94,-1311\"/>\n<polygon fill=\"black\" stroke=\"black\" points=\"1797.98,-1314.5 1807.98,-1311 1797.98,-1307.5 1797.98,-1314.5\"/>\n</g>\n<!-- 136744902239392*&#45;&gt;136744902239392 -->\n<g id=\"edge15\" class=\"edge\">\n<title>136744902239392*&#45;&gt;136744902239392</title>\n<path fill=\"none\" stroke=\"black\" d=\"M1590.15,-1311C1599.25,-1311 1609.97,-1311 1621.07,-1311\"/>\n<polygon fill=\"black\" stroke=\"black\" points=\"1621.32,-1314.5 1631.32,-1311 1621.32,-1307.5 1621.32,-1314.5\"/>\n</g>\n<!-- 136744902649088 -->\n<g id=\"node35\" class=\"node\">\n<title>136744902649088</title>\n<polygon fill=\"none\" stroke=\"black\" points=\"3437,-798.5 3437,-867.5 3583,-867.5 3583,-798.5 3437,-798.5\"/>\n<text text-anchor=\"middle\" x=\"3510\" y=\"-852.3\" font-family=\"Times,serif\" font-size=\"14.00\"> </text>\n<polyline fill=\"none\" stroke=\"black\" points=\"3437,-844.5 3583,-844.5 \"/>\n<text text-anchor=\"middle\" x=\"3510\" y=\"-829.3\" font-family=\"Times,serif\" font-size=\"14.00\">&#45;0.18877579031670313</text>\n<polyline fill=\"none\" stroke=\"black\" points=\"3437,-821.5 3583,-821.5 \"/>\n<text text-anchor=\"middle\" x=\"3510\" y=\"-806.3\" font-family=\"Times,serif\" font-size=\"14.00\">0.0</text>\n</g>\n<!-- 136744902649088&#45;&gt;136744902649280+ -->\n<g id=\"edge137\" class=\"edge\">\n<title>136744902649088&#45;&gt;136744902649280+</title>\n<path fill=\"none\" stroke=\"black\" d=\"M3583.08,-833C3707.33,-833 3957.52,-833 4050.83,-833\"/>\n<polygon fill=\"black\" stroke=\"black\" points=\"4050.9,-836.5 4060.9,-833 4050.9,-829.5 4050.9,-836.5\"/>\n</g>\n<!-- 136744902649088* -->\n<g id=\"node36\" class=\"node\">\n<title>136744902649088*</title>\n<ellipse fill=\"none\" stroke=\"black\" cx=\"3192\" cy=\"-833\" rx=\"27\" ry=\"18\"/>\n<text text-anchor=\"middle\" x=\"3192\" y=\"-829.3\" font-family=\"Times,serif\" font-size=\"14.00\">*</text>\n</g>\n<!-- 136744902649088*&#45;&gt;136744902649088 -->\n<g id=\"edge16\" class=\"edge\">\n<title>136744902649088*&#45;&gt;136744902649088</title>\n<path fill=\"none\" stroke=\"black\" d=\"M3219.13,-833C3264.07,-833 3357.78,-833 3426.54,-833\"/>\n<polygon fill=\"black\" stroke=\"black\" points=\"3426.92,-836.5 3436.92,-833 3426.92,-829.5 3426.92,-836.5\"/>\n</g>\n<!-- 136744902649280 -->\n<g id=\"node37\" class=\"node\">\n<title>136744902649280</title>\n<polygon fill=\"none\" stroke=\"black\" points=\"4151,-770.5 4151,-839.5 4291,-839.5 4291,-770.5 4151,-770.5\"/>\n<text text-anchor=\"middle\" x=\"4221\" y=\"-824.3\" font-family=\"Times,serif\" font-size=\"14.00\"> </text>\n<polyline fill=\"none\" stroke=\"black\" points=\"4151,-816.5 4291,-816.5 \"/>\n<text text-anchor=\"middle\" x=\"4221\" y=\"-801.3\" font-family=\"Times,serif\" font-size=\"14.00\">&#45;1.5249142606795445</text>\n<polyline fill=\"none\" stroke=\"black\" points=\"4151,-793.5 4291,-793.5 \"/>\n<text text-anchor=\"middle\" x=\"4221\" y=\"-778.3\" font-family=\"Times,serif\" font-size=\"14.00\">0.0</text>\n</g>\n<!-- 136744902649664+ -->\n<g id=\"node46\" class=\"node\">\n<title>136744902649664+</title>\n<ellipse fill=\"none\" stroke=\"black\" cx=\"4354\" cy=\"-773\" rx=\"27\" ry=\"18\"/>\n<text text-anchor=\"middle\" x=\"4354\" y=\"-769.3\" font-family=\"Times,serif\" font-size=\"14.00\">+</text>\n</g>\n<!-- 136744902649280&#45;&gt;136744902649664+ -->\n<g id=\"edge164\" class=\"edge\">\n<title>136744902649280&#45;&gt;136744902649664+</title>\n<path fill=\"none\" stroke=\"black\" d=\"M4291.34,-788.06C4300.76,-785.76 4310.08,-783.48 4318.51,-781.43\"/>\n<polygon fill=\"black\" stroke=\"black\" points=\"4319.41,-784.81 4328.29,-779.04 4317.75,-778.01 4319.41,-784.81\"/>\n</g>\n<!-- 136744902649280+&#45;&gt;136744902649280 -->\n<g id=\"edge17\" class=\"edge\">\n<title>136744902649280+&#45;&gt;136744902649280</title>\n<path fill=\"none\" stroke=\"black\" d=\"M4113.95,-827.67C4121.97,-825.95 4131.32,-823.95 4141.09,-821.87\"/>\n<polygon fill=\"black\" stroke=\"black\" points=\"4141.92,-825.27 4150.96,-819.76 4140.45,-818.42 4141.92,-825.27\"/>\n</g>\n<!-- 136744902239728 -->\n<g id=\"node39\" class=\"node\">\n<title>136744902239728</title>\n<polygon fill=\"none\" stroke=\"black\" points=\"1905,-308.5 1905,-377.5 2040,-377.5 2040,-308.5 1905,-308.5\"/>\n<text text-anchor=\"middle\" x=\"1972.5\" y=\"-362.3\" font-family=\"Times,serif\" font-size=\"14.00\"> </text>\n<polyline fill=\"none\" stroke=\"black\" points=\"1905,-354.5 2040,-354.5 \"/>\n<text text-anchor=\"middle\" x=\"1972.5\" y=\"-339.3\" font-family=\"Times,serif\" font-size=\"14.00\">0.9849311231013187</text>\n<polyline fill=\"none\" stroke=\"black\" points=\"1905,-331.5 2040,-331.5 \"/>\n<text text-anchor=\"middle\" x=\"1972.5\" y=\"-316.3\" font-family=\"Times,serif\" font-size=\"14.00\">0.0</text>\n</g>\n<!-- 136744903553760* -->\n<g id=\"node82\" class=\"node\">\n<title>136744903553760*</title>\n<ellipse fill=\"none\" stroke=\"black\" cx=\"2110\" cy=\"-695\" rx=\"27\" ry=\"18\"/>\n<text text-anchor=\"middle\" x=\"2110\" y=\"-691.3\" font-family=\"Times,serif\" font-size=\"14.00\">*</text>\n</g>\n<!-- 136744902239728&#45;&gt;136744903553760* -->\n<g id=\"edge148\" class=\"edge\">\n<title>136744902239728&#45;&gt;136744903553760*</title>\n<path fill=\"none\" stroke=\"black\" d=\"M2039.37,-377.62C2042.19,-380.54 2044.77,-383.66 2047,-387 2108.11,-478.54 2053.79,-525.89 2083,-632 2086.43,-644.44 2091.65,-657.71 2096.52,-668.85\"/>\n<polygon fill=\"black\" stroke=\"black\" points=\"2093.35,-670.34 2100.65,-678.02 2099.73,-667.47 2093.35,-670.34\"/>\n</g>\n<!-- 136744902645728* -->\n<g id=\"node129\" class=\"node\">\n<title>136744902645728*</title>\n<ellipse fill=\"none\" stroke=\"black\" cx=\"2110\" cy=\"-345\" rx=\"27\" ry=\"18\"/>\n<text text-anchor=\"middle\" x=\"2110\" y=\"-341.3\" font-family=\"Times,serif\" font-size=\"14.00\">*</text>\n</g>\n<!-- 136744902239728&#45;&gt;136744902645728* -->\n<g id=\"edge116\" class=\"edge\">\n<title>136744902239728&#45;&gt;136744902645728*</title>\n<path fill=\"none\" stroke=\"black\" d=\"M2040.06,-343.98C2051.38,-344.15 2062.75,-344.32 2072.9,-344.47\"/>\n<polygon fill=\"black\" stroke=\"black\" points=\"2072.93,-347.97 2082.98,-344.62 2073.03,-340.97 2072.93,-347.97\"/>\n</g>\n<!-- 136744902244432* -->\n<g id=\"node134\" class=\"node\">\n<title>136744902244432*</title>\n<ellipse fill=\"none\" stroke=\"black\" cx=\"2110\" cy=\"-605\" rx=\"27\" ry=\"18\"/>\n<text text-anchor=\"middle\" x=\"2110\" y=\"-601.3\" font-family=\"Times,serif\" font-size=\"14.00\">*</text>\n</g>\n<!-- 136744902239728&#45;&gt;136744902244432* -->\n<g id=\"edge117\" class=\"edge\">\n<title>136744902239728&#45;&gt;136744902244432*</title>\n<path fill=\"none\" stroke=\"black\" d=\"M2038.71,-377.53C2041.75,-380.48 2044.54,-383.64 2047,-387 2088.44,-443.77 2061.71,-474.01 2083,-541 2086.99,-553.55 2092.34,-567.11 2097.15,-578.51\"/>\n<polygon fill=\"black\" stroke=\"black\" points=\"2094.02,-580.09 2101.19,-587.88 2100.45,-577.32 2094.02,-580.09\"/>\n</g>\n<!-- 136744902647360* -->\n<g id=\"node187\" class=\"node\">\n<title>136744902647360*</title>\n<ellipse fill=\"none\" stroke=\"black\" cx=\"2110\" cy=\"-291\" rx=\"27\" ry=\"18\"/>\n<text text-anchor=\"middle\" x=\"2110\" y=\"-287.3\" font-family=\"Times,serif\" font-size=\"14.00\">*</text>\n</g>\n<!-- 136744902239728&#45;&gt;136744902647360* -->\n<g id=\"edge176\" class=\"edge\">\n<title>136744902239728&#45;&gt;136744902647360*</title>\n<path fill=\"none\" stroke=\"black\" d=\"M2040.06,-317.46C2052.77,-312.58 2065.53,-307.68 2076.56,-303.45\"/>\n<polygon fill=\"black\" stroke=\"black\" points=\"2078.07,-306.62 2086.15,-299.77 2075.56,-300.08 2078.07,-306.62\"/>\n</g>\n<!-- 136744902239728tanh -->\n<g id=\"node40\" class=\"node\">\n<title>136744902239728tanh</title>\n<ellipse fill=\"none\" stroke=\"black\" cx=\"1835\" cy=\"-299\" rx=\"27\" ry=\"18\"/>\n<text text-anchor=\"middle\" x=\"1835\" y=\"-295.3\" font-family=\"Times,serif\" font-size=\"14.00\">tanh</text>\n</g>\n<!-- 136744902239728tanh&#45;&gt;136744902239728 -->\n<g id=\"edge18\" class=\"edge\">\n<title>136744902239728tanh&#45;&gt;136744902239728</title>\n<path fill=\"none\" stroke=\"black\" d=\"M1859.6,-306.66C1869.69,-309.94 1882.1,-313.97 1894.93,-318.14\"/>\n<polygon fill=\"black\" stroke=\"black\" points=\"1894.21,-321.58 1904.8,-321.34 1896.37,-314.92 1894.21,-321.58\"/>\n</g>\n<!-- 136744902239776 -->\n<g id=\"node41\" class=\"node\">\n<title>136744902239776</title>\n<polygon fill=\"none\" stroke=\"black\" points=\"1631.5,-220.5 1631.5,-289.5 1766.5,-289.5 1766.5,-220.5 1631.5,-220.5\"/>\n<text text-anchor=\"middle\" x=\"1699\" y=\"-274.3\" font-family=\"Times,serif\" font-size=\"14.00\"> </text>\n<polyline fill=\"none\" stroke=\"black\" points=\"1631.5,-266.5 1766.5,-266.5 \"/>\n<text text-anchor=\"middle\" x=\"1699\" y=\"-251.3\" font-family=\"Times,serif\" font-size=\"14.00\">2.4403540048017422</text>\n<polyline fill=\"none\" stroke=\"black\" points=\"1631.5,-243.5 1766.5,-243.5 \"/>\n<text text-anchor=\"middle\" x=\"1699\" y=\"-228.3\" font-family=\"Times,serif\" font-size=\"14.00\">0.0</text>\n</g>\n<!-- 136744902239776&#45;&gt;136744902239728tanh -->\n<g id=\"edge151\" class=\"edge\">\n<title>136744902239776&#45;&gt;136744902239728tanh</title>\n<path fill=\"none\" stroke=\"black\" d=\"M1766.61,-276.87C1778.55,-280.79 1790.52,-284.72 1800.98,-288.16\"/>\n<polygon fill=\"black\" stroke=\"black\" points=\"1799.9,-291.49 1810.5,-291.28 1802.09,-284.84 1799.9,-291.49\"/>\n</g>\n<!-- 136744902239776+&#45;&gt;136744902239776 -->\n<g id=\"edge19\" class=\"edge\">\n<title>136744902239776+&#45;&gt;136744902239776</title>\n<path fill=\"none\" stroke=\"black\" d=\"M1590.15,-255C1599.25,-255 1609.97,-255 1621.07,-255\"/>\n<polygon fill=\"black\" stroke=\"black\" points=\"1621.32,-258.5 1631.32,-255 1621.32,-251.5 1621.32,-258.5\"/>\n</g>\n<!-- 136744902649472 -->\n<g id=\"node43\" class=\"node\">\n<title>136744902649472</title>\n<polygon fill=\"none\" stroke=\"black\" points=\"3621.5,-707.5 3621.5,-776.5 3756.5,-776.5 3756.5,-707.5 3621.5,-707.5\"/>\n<text text-anchor=\"middle\" x=\"3689\" y=\"-761.3\" font-family=\"Times,serif\" font-size=\"14.00\"> </text>\n<polyline fill=\"none\" stroke=\"black\" points=\"3621.5,-753.5 3756.5,-753.5 \"/>\n<text text-anchor=\"middle\" x=\"3689\" y=\"-738.3\" font-family=\"Times,serif\" font-size=\"14.00\">0.8929000467535761</text>\n<polyline fill=\"none\" stroke=\"black\" points=\"3621.5,-730.5 3756.5,-730.5 \"/>\n<text text-anchor=\"middle\" x=\"3689\" y=\"-715.3\" font-family=\"Times,serif\" font-size=\"14.00\">0.0</text>\n</g>\n<!-- 136744902649472&#45;&gt;136744902649664+ -->\n<g id=\"edge107\" class=\"edge\">\n<title>136744902649472&#45;&gt;136744902649664+</title>\n<path fill=\"none\" stroke=\"black\" d=\"M3756.73,-742C3810.1,-742 3886.85,-742 3954,-742 3954,-742 3954,-742 4089,-742 4179.17,-742 4201.74,-748.2 4291,-761 4299.81,-762.26 4309.28,-763.93 4318.09,-765.63\"/>\n<polygon fill=\"black\" stroke=\"black\" points=\"4317.57,-769.09 4328.06,-767.6 4318.92,-762.22 4317.57,-769.09\"/>\n</g>\n<!-- 136744902649472*&#45;&gt;136744902649472 -->\n<g id=\"edge20\" class=\"edge\">\n<title>136744902649472*&#45;&gt;136744902649472</title>\n<path fill=\"none\" stroke=\"black\" d=\"M3218.57,-674.67C3290.64,-685 3497.51,-714.68 3611.08,-730.97\"/>\n<polygon fill=\"black\" stroke=\"black\" points=\"3610.71,-734.45 3621.1,-732.4 3611.7,-727.52 3610.71,-734.45\"/>\n</g>\n<!-- 136744902649664 -->\n<g id=\"node45\" class=\"node\">\n<title>136744902649664</title>\n<polygon fill=\"none\" stroke=\"black\" points=\"4417,-738.5 4417,-807.5 4557,-807.5 4557,-738.5 4417,-738.5\"/>\n<text text-anchor=\"middle\" x=\"4487\" y=\"-792.3\" font-family=\"Times,serif\" font-size=\"14.00\"> </text>\n<polyline fill=\"none\" stroke=\"black\" points=\"4417,-784.5 4557,-784.5 \"/>\n<text text-anchor=\"middle\" x=\"4487\" y=\"-769.3\" font-family=\"Times,serif\" font-size=\"14.00\">&#45;0.6320142139259683</text>\n<polyline fill=\"none\" stroke=\"black\" points=\"4417,-761.5 4557,-761.5 \"/>\n<text text-anchor=\"middle\" x=\"4487\" y=\"-746.3\" font-family=\"Times,serif\" font-size=\"14.00\">0.0</text>\n</g>\n<!-- 136744902649760tanh -->\n<g id=\"node48\" class=\"node\">\n<title>136744902649760tanh</title>\n<ellipse fill=\"none\" stroke=\"black\" cx=\"4620\" cy=\"-773\" rx=\"27\" ry=\"18\"/>\n<text text-anchor=\"middle\" x=\"4620\" y=\"-769.3\" font-family=\"Times,serif\" font-size=\"14.00\">tanh</text>\n</g>\n<!-- 136744902649664&#45;&gt;136744902649760tanh -->\n<g id=\"edge94\" class=\"edge\">\n<title>136744902649664&#45;&gt;136744902649760tanh</title>\n<path fill=\"none\" stroke=\"black\" d=\"M4557.34,-773C4566.13,-773 4574.82,-773 4582.79,-773\"/>\n<polygon fill=\"black\" stroke=\"black\" points=\"4582.8,-776.5 4592.8,-773 4582.8,-769.5 4582.8,-776.5\"/>\n</g>\n<!-- 136744902649664+&#45;&gt;136744902649664 -->\n<g id=\"edge21\" class=\"edge\">\n<title>136744902649664+&#45;&gt;136744902649664</title>\n<path fill=\"none\" stroke=\"black\" d=\"M4381.19,-773C4388.87,-773 4397.69,-773 4406.89,-773\"/>\n<polygon fill=\"black\" stroke=\"black\" points=\"4406.97,-776.5 4416.97,-773 4406.97,-769.5 4406.97,-776.5\"/>\n</g>\n<!-- 136744902649760 -->\n<g id=\"node47\" class=\"node\">\n<title>136744902649760</title>\n<polygon fill=\"none\" stroke=\"black\" points=\"4683,-738.5 4683,-807.5 4823,-807.5 4823,-738.5 4683,-738.5\"/>\n<text text-anchor=\"middle\" x=\"4753\" y=\"-792.3\" font-family=\"Times,serif\" font-size=\"14.00\"> </text>\n<polyline fill=\"none\" stroke=\"black\" points=\"4683,-784.5 4823,-784.5 \"/>\n<text text-anchor=\"middle\" x=\"4753\" y=\"-769.3\" font-family=\"Times,serif\" font-size=\"14.00\">&#45;0.5594375993063592</text>\n<polyline fill=\"none\" stroke=\"black\" points=\"4683,-761.5 4823,-761.5 \"/>\n<text text-anchor=\"middle\" x=\"4753\" y=\"-746.3\" font-family=\"Times,serif\" font-size=\"14.00\">0.0</text>\n</g>\n<!-- 136744902649760tanh&#45;&gt;136744902649760 -->\n<g id=\"edge22\" class=\"edge\">\n<title>136744902649760tanh&#45;&gt;136744902649760</title>\n<path fill=\"none\" stroke=\"black\" d=\"M4647.19,-773C4654.87,-773 4663.69,-773 4672.89,-773\"/>\n<polygon fill=\"black\" stroke=\"black\" points=\"4672.97,-776.5 4682.97,-773 4672.97,-769.5 4672.97,-776.5\"/>\n</g>\n<!-- 136744902240160 -->\n<g id=\"node49\" class=\"node\">\n<title>136744902240160</title>\n<polygon fill=\"none\" stroke=\"black\" points=\"1134,-1628.5 1134,-1697.5 1188,-1697.5 1188,-1628.5 1134,-1628.5\"/>\n<text text-anchor=\"middle\" x=\"1161\" y=\"-1682.3\" font-family=\"Times,serif\" font-size=\"14.00\"> </text>\n<polyline fill=\"none\" stroke=\"black\" points=\"1134,-1674.5 1188,-1674.5 \"/>\n<text text-anchor=\"middle\" x=\"1161\" y=\"-1659.3\" font-family=\"Times,serif\" font-size=\"14.00\">3.0</text>\n<polyline fill=\"none\" stroke=\"black\" points=\"1134,-1651.5 1188,-1651.5 \"/>\n<text text-anchor=\"middle\" x=\"1161\" y=\"-1636.3\" font-family=\"Times,serif\" font-size=\"14.00\">0.0</text>\n</g>\n<!-- 136744902240256* -->\n<g id=\"node55\" class=\"node\">\n<title>136744902240256*</title>\n<ellipse fill=\"none\" stroke=\"black\" cx=\"1297\" cy=\"-1575\" rx=\"27\" ry=\"18\"/>\n<text text-anchor=\"middle\" x=\"1297\" y=\"-1571.3\" font-family=\"Times,serif\" font-size=\"14.00\">*</text>\n</g>\n<!-- 136744902240160&#45;&gt;136744902240256* -->\n<g id=\"edge126\" class=\"edge\">\n<title>136744902240160&#45;&gt;136744902240256*</title>\n<path fill=\"none\" stroke=\"black\" d=\"M1188.26,-1647.54C1202.03,-1639.29 1219.08,-1628.84 1234,-1619 1246,-1611.09 1259.01,-1601.95 1270,-1594.05\"/>\n<polygon fill=\"black\" stroke=\"black\" points=\"1272.26,-1596.73 1278.32,-1588.04 1268.16,-1591.06 1272.26,-1596.73\"/>\n</g>\n<!-- 136744901830560 -->\n<g id=\"node50\" class=\"node\">\n<title>136744901830560</title>\n<polygon fill=\"none\" stroke=\"black\" points=\"2178.5,-834.5 2178.5,-903.5 2313.5,-903.5 2313.5,-834.5 2178.5,-834.5\"/>\n<text text-anchor=\"middle\" x=\"2246\" y=\"-888.3\" font-family=\"Times,serif\" font-size=\"14.00\"> </text>\n<polyline fill=\"none\" stroke=\"black\" points=\"2178.5,-880.5 2313.5,-880.5 \"/>\n<text text-anchor=\"middle\" x=\"2246\" y=\"-865.3\" font-family=\"Times,serif\" font-size=\"14.00\">0.1538582036065166</text>\n<polyline fill=\"none\" stroke=\"black\" points=\"2178.5,-857.5 2313.5,-857.5 \"/>\n<text text-anchor=\"middle\" x=\"2246\" y=\"-842.3\" font-family=\"Times,serif\" font-size=\"14.00\">0.0</text>\n</g>\n<!-- 136744902645824+ -->\n<g id=\"node132\" class=\"node\">\n<title>136744902645824+</title>\n<ellipse fill=\"none\" stroke=\"black\" cx=\"2382\" cy=\"-781\" rx=\"27\" ry=\"18\"/>\n<text text-anchor=\"middle\" x=\"2382\" y=\"-777.3\" font-family=\"Times,serif\" font-size=\"14.00\">+</text>\n</g>\n<!-- 136744901830560&#45;&gt;136744902645824+ -->\n<g id=\"edge167\" class=\"edge\">\n<title>136744901830560&#45;&gt;136744902645824+</title>\n<path fill=\"none\" stroke=\"black\" d=\"M2304.6,-834.29C2309.5,-831.19 2314.35,-828.06 2319,-825 2331,-817.09 2344.01,-807.95 2355,-800.05\"/>\n<polygon fill=\"black\" stroke=\"black\" points=\"2357.26,-802.73 2363.32,-794.04 2353.16,-797.06 2357.26,-802.73\"/>\n</g>\n<!-- 136744901830560+ -->\n<g id=\"node51\" class=\"node\">\n<title>136744901830560+</title>\n<ellipse fill=\"none\" stroke=\"black\" cx=\"2110\" cy=\"-869\" rx=\"27\" ry=\"18\"/>\n<text text-anchor=\"middle\" x=\"2110\" y=\"-865.3\" font-family=\"Times,serif\" font-size=\"14.00\">+</text>\n</g>\n<!-- 136744901830560+&#45;&gt;136744901830560 -->\n<g id=\"edge23\" class=\"edge\">\n<title>136744901830560+&#45;&gt;136744901830560</title>\n<path fill=\"none\" stroke=\"black\" d=\"M2137.15,-869C2146.25,-869 2156.97,-869 2168.07,-869\"/>\n<polygon fill=\"black\" stroke=\"black\" points=\"2168.32,-872.5 2178.32,-869 2168.32,-865.5 2168.32,-872.5\"/>\n</g>\n<!-- 136744903919600 -->\n<g id=\"node52\" class=\"node\">\n<title>136744903919600</title>\n<polygon fill=\"none\" stroke=\"black\" points=\"1898,-1342.5 1898,-1411.5 2047,-1411.5 2047,-1342.5 1898,-1342.5\"/>\n<text text-anchor=\"middle\" x=\"1972.5\" y=\"-1396.3\" font-family=\"Times,serif\" font-size=\"14.00\"> </text>\n<polyline fill=\"none\" stroke=\"black\" points=\"1898,-1388.5 2047,-1388.5 \"/>\n<text text-anchor=\"middle\" x=\"1972.5\" y=\"-1373.3\" font-family=\"Times,serif\" font-size=\"14.00\">0.014909649638330413</text>\n<polyline fill=\"none\" stroke=\"black\" points=\"1898,-1365.5 2047,-1365.5 \"/>\n<text text-anchor=\"middle\" x=\"1972.5\" y=\"-1350.3\" font-family=\"Times,serif\" font-size=\"14.00\">0.0</text>\n</g>\n<!-- 136744903923296+ -->\n<g id=\"node112\" class=\"node\">\n<title>136744903923296+</title>\n<ellipse fill=\"none\" stroke=\"black\" cx=\"2110\" cy=\"-1047\" rx=\"27\" ry=\"18\"/>\n<text text-anchor=\"middle\" x=\"2110\" y=\"-1043.3\" font-family=\"Times,serif\" font-size=\"14.00\">+</text>\n</g>\n<!-- 136744903919600&#45;&gt;136744903923296+ -->\n<g id=\"edge85\" class=\"edge\">\n<title>136744903919600&#45;&gt;136744903923296+</title>\n<path fill=\"none\" stroke=\"black\" d=\"M2020.8,-1342.34C2030.69,-1333.13 2040.18,-1322.51 2047,-1311 2070.78,-1270.87 2094.89,-1134.68 2104.58,-1075.19\"/>\n<polygon fill=\"black\" stroke=\"black\" points=\"2108.08,-1075.44 2106.21,-1065.01 2101.17,-1074.33 2108.08,-1075.44\"/>\n</g>\n<!-- 136744903919600+ -->\n<g id=\"node53\" class=\"node\">\n<title>136744903919600+</title>\n<ellipse fill=\"none\" stroke=\"black\" cx=\"1835\" cy=\"-1399\" rx=\"27\" ry=\"18\"/>\n<text text-anchor=\"middle\" x=\"1835\" y=\"-1395.3\" font-family=\"Times,serif\" font-size=\"14.00\">+</text>\n</g>\n<!-- 136744903919600+&#45;&gt;136744903919600 -->\n<g id=\"edge24\" class=\"edge\">\n<title>136744903919600+&#45;&gt;136744903919600</title>\n<path fill=\"none\" stroke=\"black\" d=\"M1861.49,-1394.86C1869.28,-1393.6 1878.32,-1392.13 1887.8,-1390.59\"/>\n<polygon fill=\"black\" stroke=\"black\" points=\"1888.49,-1394.02 1897.8,-1388.97 1887.37,-1387.11 1888.49,-1394.02\"/>\n</g>\n<!-- 136744902240256 -->\n<g id=\"node54\" class=\"node\">\n<title>136744902240256</title>\n<polygon fill=\"none\" stroke=\"black\" points=\"1362.5,-1540.5 1362.5,-1609.5 1497.5,-1609.5 1497.5,-1540.5 1362.5,-1540.5\"/>\n<text text-anchor=\"middle\" x=\"1430\" y=\"-1594.3\" font-family=\"Times,serif\" font-size=\"14.00\"> </text>\n<polyline fill=\"none\" stroke=\"black\" points=\"1362.5,-1586.5 1497.5,-1586.5 \"/>\n<text text-anchor=\"middle\" x=\"1430\" y=\"-1571.3\" font-family=\"Times,serif\" font-size=\"14.00\">1.6478926092409982</text>\n<polyline fill=\"none\" stroke=\"black\" points=\"1362.5,-1563.5 1497.5,-1563.5 \"/>\n<text text-anchor=\"middle\" x=\"1430\" y=\"-1548.3\" font-family=\"Times,serif\" font-size=\"14.00\">0.0</text>\n</g>\n<!-- 136744902240304+ -->\n<g id=\"node57\" class=\"node\">\n<title>136744902240304+</title>\n<ellipse fill=\"none\" stroke=\"black\" cx=\"1563\" cy=\"-1487\" rx=\"27\" ry=\"18\"/>\n<text text-anchor=\"middle\" x=\"1563\" y=\"-1483.3\" font-family=\"Times,serif\" font-size=\"14.00\">+</text>\n</g>\n<!-- 136744902240256&#45;&gt;136744902240304+ -->\n<g id=\"edge132\" class=\"edge\">\n<title>136744902240256&#45;&gt;136744902240304+</title>\n<path fill=\"none\" stroke=\"black\" d=\"M1485.78,-1540.42C1490.61,-1537.27 1495.4,-1534.09 1500,-1531 1511.84,-1523.03 1524.73,-1513.95 1535.68,-1506.11\"/>\n<polygon fill=\"black\" stroke=\"black\" points=\"1537.91,-1508.82 1543.99,-1500.14 1533.83,-1503.13 1537.91,-1508.82\"/>\n</g>\n<!-- 136744902240256*&#45;&gt;136744902240256 -->\n<g id=\"edge25\" class=\"edge\">\n<title>136744902240256*&#45;&gt;136744902240256</title>\n<path fill=\"none\" stroke=\"black\" d=\"M1324.19,-1575C1332.54,-1575 1342.23,-1575 1352.29,-1575\"/>\n<polygon fill=\"black\" stroke=\"black\" points=\"1352.43,-1578.5 1362.43,-1575 1352.43,-1571.5 1352.43,-1578.5\"/>\n</g>\n<!-- 136744902240304 -->\n<g id=\"node56\" class=\"node\">\n<title>136744902240304</title>\n<polygon fill=\"none\" stroke=\"black\" points=\"1635,-1452.5 1635,-1521.5 1763,-1521.5 1763,-1452.5 1635,-1452.5\"/>\n<text text-anchor=\"middle\" x=\"1699\" y=\"-1506.3\" font-family=\"Times,serif\" font-size=\"14.00\"> </text>\n<polyline fill=\"none\" stroke=\"black\" points=\"1635,-1498.5 1763,-1498.5 \"/>\n<text text-anchor=\"middle\" x=\"1699\" y=\"-1483.3\" font-family=\"Times,serif\" font-size=\"14.00\">2.815877453699967</text>\n<polyline fill=\"none\" stroke=\"black\" points=\"1635,-1475.5 1763,-1475.5 \"/>\n<text text-anchor=\"middle\" x=\"1699\" y=\"-1460.3\" font-family=\"Times,serif\" font-size=\"14.00\">0.0</text>\n</g>\n<!-- 136744902240304&#45;&gt;136744902243328+ -->\n<g id=\"edge163\" class=\"edge\">\n<title>136744902240304&#45;&gt;136744902243328+</title>\n<path fill=\"none\" stroke=\"black\" d=\"M1762.41,-1452.32C1765.83,-1449.38 1769.07,-1446.27 1772,-1443 1779.53,-1434.6 1806.63,-1373.91 1822.4,-1337.81\"/>\n<polygon fill=\"black\" stroke=\"black\" points=\"1825.74,-1338.91 1826.52,-1328.35 1819.32,-1336.12 1825.74,-1338.91\"/>\n</g>\n<!-- 136744902240304+&#45;&gt;136744902240304 -->\n<g id=\"edge26\" class=\"edge\">\n<title>136744902240304+&#45;&gt;136744902240304</title>\n<path fill=\"none\" stroke=\"black\" d=\"M1590.15,-1487C1600.31,-1487 1612.49,-1487 1624.96,-1487\"/>\n<polygon fill=\"black\" stroke=\"black\" points=\"1624.98,-1490.5 1634.98,-1487 1624.98,-1483.5 1624.98,-1490.5\"/>\n</g>\n<!-- 136744902232144 -->\n<g id=\"node58\" class=\"node\">\n<title>136744902232144</title>\n<polygon fill=\"none\" stroke=\"black\" points=\"547,-748.5 547,-817.5 687,-817.5 687,-748.5 547,-748.5\"/>\n<text text-anchor=\"middle\" x=\"617\" y=\"-802.3\" font-family=\"Times,serif\" font-size=\"14.00\"> </text>\n<polyline fill=\"none\" stroke=\"black\" points=\"547,-794.5 687,-794.5 \"/>\n<text text-anchor=\"middle\" x=\"617\" y=\"-779.3\" font-family=\"Times,serif\" font-size=\"14.00\">&#45;0.4179691339176883</text>\n<polyline fill=\"none\" stroke=\"black\" points=\"547,-771.5 687,-771.5 \"/>\n<text text-anchor=\"middle\" x=\"617\" y=\"-756.3\" font-family=\"Times,serif\" font-size=\"14.00\">0.0</text>\n</g>\n<!-- 136744902237088+ -->\n<g id=\"node170\" class=\"node\">\n<title>136744902237088+</title>\n<ellipse fill=\"none\" stroke=\"black\" cx=\"753\" cy=\"-695\" rx=\"27\" ry=\"18\"/>\n<text text-anchor=\"middle\" x=\"753\" y=\"-691.3\" font-family=\"Times,serif\" font-size=\"14.00\">+</text>\n</g>\n<!-- 136744902232144&#45;&gt;136744902237088+ -->\n<g id=\"edge109\" class=\"edge\">\n<title>136744902232144&#45;&gt;136744902237088+</title>\n<path fill=\"none\" stroke=\"black\" d=\"M675.6,-748.29C680.5,-745.19 685.35,-742.06 690,-739 702,-731.09 715.01,-721.95 726,-714.05\"/>\n<polygon fill=\"black\" stroke=\"black\" points=\"728.26,-716.73 734.32,-708.04 724.16,-711.06 728.26,-716.73\"/>\n</g>\n<!-- 136744902232144* -->\n<g id=\"node59\" class=\"node\">\n<title>136744902232144*</title>\n<ellipse fill=\"none\" stroke=\"black\" cx=\"481\" cy=\"-783\" rx=\"27\" ry=\"18\"/>\n<text text-anchor=\"middle\" x=\"481\" y=\"-779.3\" font-family=\"Times,serif\" font-size=\"14.00\">*</text>\n</g>\n<!-- 136744902232144*&#45;&gt;136744902232144 -->\n<g id=\"edge27\" class=\"edge\">\n<title>136744902232144*&#45;&gt;136744902232144</title>\n<path fill=\"none\" stroke=\"black\" d=\"M508.15,-783C516.55,-783 526.33,-783 536.51,-783\"/>\n<polygon fill=\"black\" stroke=\"black\" points=\"536.79,-786.5 546.79,-783 536.79,-779.5 536.79,-786.5\"/>\n</g>\n<!-- 136744902232336 -->\n<g id=\"node60\" class=\"node\">\n<title>136744902232336</title>\n<polygon fill=\"none\" stroke=\"black\" points=\"1091,-1012.5 1091,-1081.5 1231,-1081.5 1231,-1012.5 1091,-1012.5\"/>\n<text text-anchor=\"middle\" x=\"1161\" y=\"-1066.3\" font-family=\"Times,serif\" font-size=\"14.00\"> </text>\n<polyline fill=\"none\" stroke=\"black\" points=\"1091,-1058.5 1231,-1058.5 \"/>\n<text text-anchor=\"middle\" x=\"1161\" y=\"-1043.3\" font-family=\"Times,serif\" font-size=\"14.00\">&#45;1.2165639657981397</text>\n<polyline fill=\"none\" stroke=\"black\" points=\"1091,-1035.5 1231,-1035.5 \"/>\n<text text-anchor=\"middle\" x=\"1161\" y=\"-1020.3\" font-family=\"Times,serif\" font-size=\"14.00\">0.0</text>\n</g>\n<!-- 136744902234496tanh -->\n<g id=\"node75\" class=\"node\">\n<title>136744902234496tanh</title>\n<ellipse fill=\"none\" stroke=\"black\" cx=\"1297\" cy=\"-1047\" rx=\"27\" ry=\"18\"/>\n<text text-anchor=\"middle\" x=\"1297\" y=\"-1043.3\" font-family=\"Times,serif\" font-size=\"14.00\">tanh</text>\n</g>\n<!-- 136744902232336&#45;&gt;136744902234496tanh -->\n<g id=\"edge203\" class=\"edge\">\n<title>136744902232336&#45;&gt;136744902234496tanh</title>\n<path fill=\"none\" stroke=\"black\" d=\"M1231.36,-1047C1241.16,-1047 1250.9,-1047 1259.73,-1047\"/>\n<polygon fill=\"black\" stroke=\"black\" points=\"1259.99,-1050.5 1269.99,-1047 1259.99,-1043.5 1259.99,-1050.5\"/>\n</g>\n<!-- 136744902232336+ -->\n<g id=\"node61\" class=\"node\">\n<title>136744902232336+</title>\n<ellipse fill=\"none\" stroke=\"black\" cx=\"1025\" cy=\"-1047\" rx=\"27\" ry=\"18\"/>\n<text text-anchor=\"middle\" x=\"1025\" y=\"-1043.3\" font-family=\"Times,serif\" font-size=\"14.00\">+</text>\n</g>\n<!-- 136744902232336+&#45;&gt;136744902232336 -->\n<g id=\"edge28\" class=\"edge\">\n<title>136744902232336+&#45;&gt;136744902232336</title>\n<path fill=\"none\" stroke=\"black\" d=\"M1052.15,-1047C1060.55,-1047 1070.33,-1047 1080.51,-1047\"/>\n<polygon fill=\"black\" stroke=\"black\" points=\"1080.79,-1050.5 1090.79,-1047 1080.79,-1043.5 1080.79,-1050.5\"/>\n</g>\n<!-- 136744902240544 -->\n<g id=\"node62\" class=\"node\">\n<title>136744902240544</title>\n<polygon fill=\"none\" stroke=\"black\" points=\"1362.5,-1452.5 1362.5,-1521.5 1497.5,-1521.5 1497.5,-1452.5 1362.5,-1452.5\"/>\n<text text-anchor=\"middle\" x=\"1430\" y=\"-1506.3\" font-family=\"Times,serif\" font-size=\"14.00\"> </text>\n<polyline fill=\"none\" stroke=\"black\" points=\"1362.5,-1498.5 1497.5,-1498.5 \"/>\n<text text-anchor=\"middle\" x=\"1430\" y=\"-1483.3\" font-family=\"Times,serif\" font-size=\"14.00\">1.1679848444589689</text>\n<polyline fill=\"none\" stroke=\"black\" points=\"1362.5,-1475.5 1497.5,-1475.5 \"/>\n<text text-anchor=\"middle\" x=\"1430\" y=\"-1460.3\" font-family=\"Times,serif\" font-size=\"14.00\">0.0</text>\n</g>\n<!-- 136744902240544&#45;&gt;136744902240304+ -->\n<g id=\"edge93\" class=\"edge\">\n<title>136744902240544&#45;&gt;136744902240304+</title>\n<path fill=\"none\" stroke=\"black\" d=\"M1497.65,-1487C1507.27,-1487 1516.85,-1487 1525.57,-1487\"/>\n<polygon fill=\"black\" stroke=\"black\" points=\"1525.73,-1490.5 1535.73,-1487 1525.73,-1483.5 1525.73,-1490.5\"/>\n</g>\n<!-- 136744902240544+ -->\n<g id=\"node63\" class=\"node\">\n<title>136744902240544+</title>\n<ellipse fill=\"none\" stroke=\"black\" cx=\"1297\" cy=\"-1487\" rx=\"27\" ry=\"18\"/>\n<text text-anchor=\"middle\" x=\"1297\" y=\"-1483.3\" font-family=\"Times,serif\" font-size=\"14.00\">+</text>\n</g>\n<!-- 136744902240544+&#45;&gt;136744902240544 -->\n<g id=\"edge29\" class=\"edge\">\n<title>136744902240544+&#45;&gt;136744902240544</title>\n<path fill=\"none\" stroke=\"black\" d=\"M1324.19,-1487C1332.54,-1487 1342.23,-1487 1352.29,-1487\"/>\n<polygon fill=\"black\" stroke=\"black\" points=\"1352.43,-1490.5 1362.43,-1487 1352.43,-1483.5 1352.43,-1490.5\"/>\n</g>\n<!-- 136744902232384 -->\n<g id=\"node64\" class=\"node\">\n<title>136744902232384</title>\n<polygon fill=\"none\" stroke=\"black\" points=\"547,-1012.5 547,-1081.5 687,-1081.5 687,-1012.5 547,-1012.5\"/>\n<text text-anchor=\"middle\" x=\"617\" y=\"-1066.3\" font-family=\"Times,serif\" font-size=\"14.00\"> </text>\n<polyline fill=\"none\" stroke=\"black\" points=\"547,-1058.5 687,-1058.5 \"/>\n<text text-anchor=\"middle\" x=\"617\" y=\"-1043.3\" font-family=\"Times,serif\" font-size=\"14.00\">&#45;1.1928251739936695</text>\n<polyline fill=\"none\" stroke=\"black\" points=\"547,-1035.5 687,-1035.5 \"/>\n<text text-anchor=\"middle\" x=\"617\" y=\"-1020.3\" font-family=\"Times,serif\" font-size=\"14.00\">0.0</text>\n</g>\n<!-- 136744902232720+ -->\n<g id=\"node70\" class=\"node\">\n<title>136744902232720+</title>\n<ellipse fill=\"none\" stroke=\"black\" cx=\"753\" cy=\"-1047\" rx=\"27\" ry=\"18\"/>\n<text text-anchor=\"middle\" x=\"753\" y=\"-1043.3\" font-family=\"Times,serif\" font-size=\"14.00\">+</text>\n</g>\n<!-- 136744902232384&#45;&gt;136744902232720+ -->\n<g id=\"edge170\" class=\"edge\">\n<title>136744902232384&#45;&gt;136744902232720+</title>\n<path fill=\"none\" stroke=\"black\" d=\"M687.36,-1047C697.16,-1047 706.9,-1047 715.73,-1047\"/>\n<polygon fill=\"black\" stroke=\"black\" points=\"715.99,-1050.5 725.99,-1047 715.99,-1043.5 715.99,-1050.5\"/>\n</g>\n<!-- 136744902232384+&#45;&gt;136744902232384 -->\n<g id=\"edge30\" class=\"edge\">\n<title>136744902232384+&#45;&gt;136744902232384</title>\n<path fill=\"none\" stroke=\"black\" d=\"M508.15,-1047C516.55,-1047 526.33,-1047 536.51,-1047\"/>\n<polygon fill=\"black\" stroke=\"black\" points=\"536.79,-1050.5 546.79,-1047 536.79,-1043.5 536.79,-1050.5\"/>\n</g>\n<!-- 136744902232576 -->\n<g id=\"node66\" class=\"node\">\n<title>136744902232576</title>\n<polygon fill=\"none\" stroke=\"black\" points=\"819,-1100.5 819,-1169.5 959,-1169.5 959,-1100.5 819,-1100.5\"/>\n<text text-anchor=\"middle\" x=\"889\" y=\"-1154.3\" font-family=\"Times,serif\" font-size=\"14.00\"> </text>\n<polyline fill=\"none\" stroke=\"black\" points=\"819,-1146.5 959,-1146.5 \"/>\n<text text-anchor=\"middle\" x=\"889\" y=\"-1131.3\" font-family=\"Times,serif\" font-size=\"14.00\">&#45;0.7253134684147151</text>\n<polyline fill=\"none\" stroke=\"black\" points=\"819,-1123.5 959,-1123.5 \"/>\n<text text-anchor=\"middle\" x=\"889\" y=\"-1108.3\" font-family=\"Times,serif\" font-size=\"14.00\">0.0</text>\n</g>\n<!-- 136744902232576&#45;&gt;136744902232336+ -->\n<g id=\"edge182\" class=\"edge\">\n<title>136744902232576&#45;&gt;136744902232336+</title>\n<path fill=\"none\" stroke=\"black\" d=\"M947.6,-1100.29C952.5,-1097.19 957.35,-1094.06 962,-1091 974,-1083.09 987.01,-1073.95 998,-1066.05\"/>\n<polygon fill=\"black\" stroke=\"black\" points=\"1000.26,-1068.73 1006.32,-1060.04 996.16,-1063.06 1000.26,-1068.73\"/>\n</g>\n<!-- 136744902232576* -->\n<g id=\"node67\" class=\"node\">\n<title>136744902232576*</title>\n<ellipse fill=\"none\" stroke=\"black\" cx=\"753\" cy=\"-1135\" rx=\"27\" ry=\"18\"/>\n<text text-anchor=\"middle\" x=\"753\" y=\"-1131.3\" font-family=\"Times,serif\" font-size=\"14.00\">*</text>\n</g>\n<!-- 136744902232576*&#45;&gt;136744902232576 -->\n<g id=\"edge31\" class=\"edge\">\n<title>136744902232576*&#45;&gt;136744902232576</title>\n<path fill=\"none\" stroke=\"black\" d=\"M780.15,-1135C788.55,-1135 798.33,-1135 808.51,-1135\"/>\n<polygon fill=\"black\" stroke=\"black\" points=\"808.79,-1138.5 818.79,-1135 808.79,-1131.5 808.79,-1138.5\"/>\n</g>\n<!-- 136744902232624 -->\n<g id=\"node68\" class=\"node\">\n<title>136744902232624</title>\n<polygon fill=\"none\" stroke=\"black\" points=\"590,-1188.5 590,-1257.5 644,-1257.5 644,-1188.5 590,-1188.5\"/>\n<text text-anchor=\"middle\" x=\"617\" y=\"-1242.3\" font-family=\"Times,serif\" font-size=\"14.00\"> </text>\n<polyline fill=\"none\" stroke=\"black\" points=\"590,-1234.5 644,-1234.5 \"/>\n<text text-anchor=\"middle\" x=\"617\" y=\"-1219.3\" font-family=\"Times,serif\" font-size=\"14.00\">&#45;1.0</text>\n<polyline fill=\"none\" stroke=\"black\" points=\"590,-1211.5 644,-1211.5 \"/>\n<text text-anchor=\"middle\" x=\"617\" y=\"-1196.3\" font-family=\"Times,serif\" font-size=\"14.00\">0.0</text>\n</g>\n<!-- 136744902232624&#45;&gt;136744902232576* -->\n<g id=\"edge207\" class=\"edge\">\n<title>136744902232624&#45;&gt;136744902232576*</title>\n<path fill=\"none\" stroke=\"black\" d=\"M644.26,-1207.54C658.03,-1199.29 675.08,-1188.84 690,-1179 702,-1171.09 715.01,-1161.95 726,-1154.05\"/>\n<polygon fill=\"black\" stroke=\"black\" points=\"728.26,-1156.73 734.32,-1148.04 724.16,-1151.06 728.26,-1156.73\"/>\n</g>\n<!-- 136744902232720 -->\n<g id=\"node69\" class=\"node\">\n<title>136744902232720</title>\n<polygon fill=\"none\" stroke=\"black\" points=\"816,-1012.5 816,-1081.5 962,-1081.5 962,-1012.5 816,-1012.5\"/>\n<text text-anchor=\"middle\" x=\"889\" y=\"-1066.3\" font-family=\"Times,serif\" font-size=\"14.00\"> </text>\n<polyline fill=\"none\" stroke=\"black\" points=\"816,-1058.5 962,-1058.5 \"/>\n<text text-anchor=\"middle\" x=\"889\" y=\"-1043.3\" font-family=\"Times,serif\" font-size=\"14.00\">&#45;0.49125049738342463</text>\n<polyline fill=\"none\" stroke=\"black\" points=\"816,-1035.5 962,-1035.5 \"/>\n<text text-anchor=\"middle\" x=\"889\" y=\"-1020.3\" font-family=\"Times,serif\" font-size=\"14.00\">0.0</text>\n</g>\n<!-- 136744902232720&#45;&gt;136744902232336+ -->\n<g id=\"edge74\" class=\"edge\">\n<title>136744902232720&#45;&gt;136744902232336+</title>\n<path fill=\"none\" stroke=\"black\" d=\"M962.1,-1047C970.97,-1047 979.73,-1047 987.73,-1047\"/>\n<polygon fill=\"black\" stroke=\"black\" points=\"987.77,-1050.5 997.77,-1047 987.77,-1043.5 987.77,-1050.5\"/>\n</g>\n<!-- 136744902232720+&#45;&gt;136744902232720 -->\n<g id=\"edge32\" class=\"edge\">\n<title>136744902232720+&#45;&gt;136744902232720</title>\n<path fill=\"none\" stroke=\"black\" d=\"M780.15,-1047C787.82,-1047 796.63,-1047 805.85,-1047\"/>\n<polygon fill=\"black\" stroke=\"black\" points=\"805.98,-1050.5 815.98,-1047 805.98,-1043.5 805.98,-1050.5\"/>\n</g>\n<!-- 136744902232912 -->\n<g id=\"node71\" class=\"node\">\n<title>136744902232912</title>\n<polygon fill=\"none\" stroke=\"black\" points=\"318,-924.5 318,-993.5 372,-993.5 372,-924.5 318,-924.5\"/>\n<text text-anchor=\"middle\" x=\"345\" y=\"-978.3\" font-family=\"Times,serif\" font-size=\"14.00\"> </text>\n<polyline fill=\"none\" stroke=\"black\" points=\"318,-970.5 372,-970.5 \"/>\n<text text-anchor=\"middle\" x=\"345\" y=\"-955.3\" font-family=\"Times,serif\" font-size=\"14.00\">3.0</text>\n<polyline fill=\"none\" stroke=\"black\" points=\"318,-947.5 372,-947.5 \"/>\n<text text-anchor=\"middle\" x=\"345\" y=\"-932.3\" font-family=\"Times,serif\" font-size=\"14.00\">0.0</text>\n</g>\n<!-- 136744902233008* -->\n<g id=\"node73\" class=\"node\">\n<title>136744902233008*</title>\n<ellipse fill=\"none\" stroke=\"black\" cx=\"481\" cy=\"-959\" rx=\"27\" ry=\"18\"/>\n<text text-anchor=\"middle\" x=\"481\" y=\"-955.3\" font-family=\"Times,serif\" font-size=\"14.00\">*</text>\n</g>\n<!-- 136744902232912&#45;&gt;136744902233008* -->\n<g id=\"edge135\" class=\"edge\">\n<title>136744902232912&#45;&gt;136744902233008*</title>\n<path fill=\"none\" stroke=\"black\" d=\"M372.15,-959C392.54,-959 421.08,-959 443.68,-959\"/>\n<polygon fill=\"black\" stroke=\"black\" points=\"443.91,-962.5 453.91,-959 443.91,-955.5 443.91,-962.5\"/>\n</g>\n<!-- 136744902233008 -->\n<g id=\"node72\" class=\"node\">\n<title>136744902233008</title>\n<polygon fill=\"none\" stroke=\"black\" points=\"549.5,-924.5 549.5,-993.5 684.5,-993.5 684.5,-924.5 549.5,-924.5\"/>\n<text text-anchor=\"middle\" x=\"617\" y=\"-978.3\" font-family=\"Times,serif\" font-size=\"14.00\"> </text>\n<polyline fill=\"none\" stroke=\"black\" points=\"549.5,-970.5 684.5,-970.5 \"/>\n<text text-anchor=\"middle\" x=\"617\" y=\"-955.3\" font-family=\"Times,serif\" font-size=\"14.00\">0.7015746766102449</text>\n<polyline fill=\"none\" stroke=\"black\" points=\"549.5,-947.5 684.5,-947.5 \"/>\n<text text-anchor=\"middle\" x=\"617\" y=\"-932.3\" font-family=\"Times,serif\" font-size=\"14.00\">0.0</text>\n</g>\n<!-- 136744902233008&#45;&gt;136744902232720+ -->\n<g id=\"edge78\" class=\"edge\">\n<title>136744902233008&#45;&gt;136744902232720+</title>\n<path fill=\"none\" stroke=\"black\" d=\"M675.6,-993.71C680.5,-996.81 685.35,-999.94 690,-1003 702,-1010.91 715.01,-1020.05 726,-1027.95\"/>\n<polygon fill=\"black\" stroke=\"black\" points=\"724.16,-1030.94 734.32,-1033.96 728.26,-1025.27 724.16,-1030.94\"/>\n</g>\n<!-- 136744902233008*&#45;&gt;136744902233008 -->\n<g id=\"edge33\" class=\"edge\">\n<title>136744902233008*&#45;&gt;136744902233008</title>\n<path fill=\"none\" stroke=\"black\" d=\"M508.15,-959C517.25,-959 527.97,-959 539.07,-959\"/>\n<polygon fill=\"black\" stroke=\"black\" points=\"539.32,-962.5 549.32,-959 539.32,-955.5 539.32,-962.5\"/>\n</g>\n<!-- 136744902234496 -->\n<g id=\"node74\" class=\"node\">\n<title>136744902234496</title>\n<polygon fill=\"none\" stroke=\"black\" points=\"1360,-1012.5 1360,-1081.5 1500,-1081.5 1500,-1012.5 1360,-1012.5\"/>\n<text text-anchor=\"middle\" x=\"1430\" y=\"-1066.3\" font-family=\"Times,serif\" font-size=\"14.00\"> </text>\n<polyline fill=\"none\" stroke=\"black\" points=\"1360,-1058.5 1500,-1058.5 \"/>\n<text text-anchor=\"middle\" x=\"1430\" y=\"-1043.3\" font-family=\"Times,serif\" font-size=\"14.00\">&#45;0.8386376826485225</text>\n<polyline fill=\"none\" stroke=\"black\" points=\"1360,-1035.5 1500,-1035.5 \"/>\n<text text-anchor=\"middle\" x=\"1430\" y=\"-1020.3\" font-family=\"Times,serif\" font-size=\"14.00\">0.0</text>\n</g>\n<!-- 136744902243376* -->\n<g id=\"node97\" class=\"node\">\n<title>136744902243376*</title>\n<ellipse fill=\"none\" stroke=\"black\" cx=\"1563\" cy=\"-1135\" rx=\"27\" ry=\"18\"/>\n<text text-anchor=\"middle\" x=\"1563\" y=\"-1131.3\" font-family=\"Times,serif\" font-size=\"14.00\">*</text>\n</g>\n<!-- 136744902234496&#45;&gt;136744902243376* -->\n<g id=\"edge162\" class=\"edge\">\n<title>136744902234496&#45;&gt;136744902243376*</title>\n<path fill=\"none\" stroke=\"black\" d=\"M1485.78,-1081.58C1490.61,-1084.73 1495.4,-1087.91 1500,-1091 1511.84,-1098.97 1524.73,-1108.05 1535.68,-1115.89\"/>\n<polygon fill=\"black\" stroke=\"black\" points=\"1533.83,-1118.87 1543.99,-1121.86 1537.91,-1113.18 1533.83,-1118.87\"/>\n</g>\n<!-- 136744903923488* -->\n<g id=\"node120\" class=\"node\">\n<title>136744903923488*</title>\n<ellipse fill=\"none\" stroke=\"black\" cx=\"1563\" cy=\"-1399\" rx=\"27\" ry=\"18\"/>\n<text text-anchor=\"middle\" x=\"1563\" y=\"-1395.3\" font-family=\"Times,serif\" font-size=\"14.00\">*</text>\n</g>\n<!-- 136744902234496&#45;&gt;136744903923488* -->\n<g id=\"edge175\" class=\"edge\">\n<title>136744902234496&#45;&gt;136744903923488*</title>\n<path fill=\"none\" stroke=\"black\" d=\"M1492.56,-1081.59C1495.33,-1084.52 1497.84,-1087.66 1500,-1091 1560.23,-1184.16 1506,-1231.2 1536,-1338 1539.31,-1349.79 1544.36,-1362.33 1549.14,-1372.94\"/>\n<polygon fill=\"black\" stroke=\"black\" points=\"1545.99,-1374.48 1553.38,-1382.08 1552.34,-1371.53 1545.99,-1374.48\"/>\n</g>\n<!-- 136744901827344* -->\n<g id=\"node163\" class=\"node\">\n<title>136744901827344*</title>\n<ellipse fill=\"none\" stroke=\"black\" cx=\"1563\" cy=\"-915\" rx=\"27\" ry=\"18\"/>\n<text text-anchor=\"middle\" x=\"1563\" y=\"-911.3\" font-family=\"Times,serif\" font-size=\"14.00\">*</text>\n</g>\n<!-- 136744902234496&#45;&gt;136744901827344* -->\n<g id=\"edge123\" class=\"edge\">\n<title>136744902234496&#45;&gt;136744901827344*</title>\n<path fill=\"none\" stroke=\"black\" d=\"M1465.42,-1012.32C1488.95,-988.61 1519.44,-957.89 1539.81,-937.36\"/>\n<polygon fill=\"black\" stroke=\"black\" points=\"1542.52,-939.6 1547.08,-930.03 1537.55,-934.67 1542.52,-939.6\"/>\n</g>\n<!-- 136744902646592* -->\n<g id=\"node167\" class=\"node\">\n<title>136744902646592*</title>\n<ellipse fill=\"none\" stroke=\"black\" cx=\"1563\" cy=\"-563\" rx=\"27\" ry=\"18\"/>\n<text text-anchor=\"middle\" x=\"1563\" y=\"-559.3\" font-family=\"Times,serif\" font-size=\"14.00\">*</text>\n</g>\n<!-- 136744902234496&#45;&gt;136744902646592* -->\n<g id=\"edge118\" class=\"edge\">\n<title>136744902234496&#45;&gt;136744902646592*</title>\n<path fill=\"none\" stroke=\"black\" d=\"M1464.78,-1012.47C1477.8,-997.24 1491.56,-978.41 1500,-959 1507.39,-942 1545.44,-678.88 1557.98,-591.19\"/>\n<polygon fill=\"black\" stroke=\"black\" points=\"1561.47,-591.56 1559.42,-581.16 1554.54,-590.57 1561.47,-591.56\"/>\n</g>\n<!-- 136744902234496tanh&#45;&gt;136744902234496 -->\n<g id=\"edge34\" class=\"edge\">\n<title>136744902234496tanh&#45;&gt;136744902234496</title>\n<path fill=\"none\" stroke=\"black\" d=\"M1324.19,-1047C1331.87,-1047 1340.69,-1047 1349.89,-1047\"/>\n<polygon fill=\"black\" stroke=\"black\" points=\"1349.97,-1050.5 1359.97,-1047 1349.97,-1043.5 1349.97,-1050.5\"/>\n</g>\n<!-- 136744902242800 -->\n<g id=\"node76\" class=\"node\">\n<title>136744902242800</title>\n<polygon fill=\"none\" stroke=\"black\" points=\"0,-1056.5 0,-1125.5 146,-1125.5 146,-1056.5 0,-1056.5\"/>\n<text text-anchor=\"middle\" x=\"73\" y=\"-1110.3\" font-family=\"Times,serif\" font-size=\"14.00\"> </text>\n<polyline fill=\"none\" stroke=\"black\" points=\"0,-1102.5 146,-1102.5 \"/>\n<text text-anchor=\"middle\" x=\"73\" y=\"-1087.3\" font-family=\"Times,serif\" font-size=\"14.00\">&#45;0.36342950675587615</text>\n<polyline fill=\"none\" stroke=\"black\" points=\"0,-1079.5 146,-1079.5 \"/>\n<text text-anchor=\"middle\" x=\"73\" y=\"-1064.3\" font-family=\"Times,serif\" font-size=\"14.00\">0.0</text>\n</g>\n<!-- 136744902242800&#45;&gt;136744902230608* -->\n<g id=\"edge144\" class=\"edge\">\n<title>136744902242800&#45;&gt;136744902230608*</title>\n<path fill=\"none\" stroke=\"black\" d=\"M146.1,-1114.67C156.07,-1117.95 165.89,-1121.17 174.67,-1124.06\"/>\n<polygon fill=\"black\" stroke=\"black\" points=\"173.86,-1127.47 184.45,-1127.27 176.04,-1120.82 173.86,-1127.47\"/>\n</g>\n<!-- 136744902234688 -->\n<g id=\"node77\" class=\"node\">\n<title>136744902234688</title>\n<polygon fill=\"none\" stroke=\"black\" points=\"318,-748.5 318,-817.5 372,-817.5 372,-748.5 318,-748.5\"/>\n<text text-anchor=\"middle\" x=\"345\" y=\"-802.3\" font-family=\"Times,serif\" font-size=\"14.00\"> </text>\n<polyline fill=\"none\" stroke=\"black\" points=\"318,-794.5 372,-794.5 \"/>\n<text text-anchor=\"middle\" x=\"345\" y=\"-779.3\" font-family=\"Times,serif\" font-size=\"14.00\">2.0</text>\n<polyline fill=\"none\" stroke=\"black\" points=\"318,-771.5 372,-771.5 \"/>\n<text text-anchor=\"middle\" x=\"345\" y=\"-756.3\" font-family=\"Times,serif\" font-size=\"14.00\">0.0</text>\n</g>\n<!-- 136744902234688&#45;&gt;136744902232144* -->\n<g id=\"edge112\" class=\"edge\">\n<title>136744902234688&#45;&gt;136744902232144*</title>\n<path fill=\"none\" stroke=\"black\" d=\"M372.15,-783C392.54,-783 421.08,-783 443.68,-783\"/>\n<polygon fill=\"black\" stroke=\"black\" points=\"443.91,-786.5 453.91,-783 443.91,-779.5 443.91,-786.5\"/>\n</g>\n<!-- 136744902242896 -->\n<g id=\"node78\" class=\"node\">\n<title>136744902242896</title>\n<polygon fill=\"none\" stroke=\"black\" points=\"862,-1496.5 862,-1565.5 916,-1565.5 916,-1496.5 862,-1496.5\"/>\n<text text-anchor=\"middle\" x=\"889\" y=\"-1550.3\" font-family=\"Times,serif\" font-size=\"14.00\"> </text>\n<polyline fill=\"none\" stroke=\"black\" points=\"862,-1542.5 916,-1542.5 \"/>\n<text text-anchor=\"middle\" x=\"889\" y=\"-1527.3\" font-family=\"Times,serif\" font-size=\"14.00\">2.0</text>\n<polyline fill=\"none\" stroke=\"black\" points=\"862,-1519.5 916,-1519.5 \"/>\n<text text-anchor=\"middle\" x=\"889\" y=\"-1504.3\" font-family=\"Times,serif\" font-size=\"14.00\">0.0</text>\n</g>\n<!-- 136744902242992* -->\n<g id=\"node80\" class=\"node\">\n<title>136744902242992*</title>\n<ellipse fill=\"none\" stroke=\"black\" cx=\"1025\" cy=\"-1487\" rx=\"27\" ry=\"18\"/>\n<text text-anchor=\"middle\" x=\"1025\" y=\"-1483.3\" font-family=\"Times,serif\" font-size=\"14.00\">*</text>\n</g>\n<!-- 136744902242896&#45;&gt;136744902242992* -->\n<g id=\"edge201\" class=\"edge\">\n<title>136744902242896&#45;&gt;136744902242992*</title>\n<path fill=\"none\" stroke=\"black\" d=\"M916.15,-1522.41C937.39,-1515.44 967.47,-1505.56 990.47,-1498.01\"/>\n<polygon fill=\"black\" stroke=\"black\" points=\"991.75,-1501.27 1000.16,-1494.83 989.57,-1494.62 991.75,-1501.27\"/>\n</g>\n<!-- 136744902242992 -->\n<g id=\"node79\" class=\"node\">\n<title>136744902242992</title>\n<polygon fill=\"none\" stroke=\"black\" points=\"1093.5,-1452.5 1093.5,-1521.5 1228.5,-1521.5 1228.5,-1452.5 1093.5,-1452.5\"/>\n<text text-anchor=\"middle\" x=\"1161\" y=\"-1506.3\" font-family=\"Times,serif\" font-size=\"14.00\"> </text>\n<polyline fill=\"none\" stroke=\"black\" points=\"1093.5,-1498.5 1228.5,-1498.5 \"/>\n<text text-anchor=\"middle\" x=\"1161\" y=\"-1483.3\" font-family=\"Times,serif\" font-size=\"14.00\">0.7028564848318837</text>\n<polyline fill=\"none\" stroke=\"black\" points=\"1093.5,-1475.5 1228.5,-1475.5 \"/>\n<text text-anchor=\"middle\" x=\"1161\" y=\"-1460.3\" font-family=\"Times,serif\" font-size=\"14.00\">0.0</text>\n</g>\n<!-- 136744902242992&#45;&gt;136744902240544+ -->\n<g id=\"edge111\" class=\"edge\">\n<title>136744902242992&#45;&gt;136744902240544+</title>\n<path fill=\"none\" stroke=\"black\" d=\"M1228.61,-1487C1239.41,-1487 1250.23,-1487 1259.94,-1487\"/>\n<polygon fill=\"black\" stroke=\"black\" points=\"1259.98,-1490.5 1269.98,-1487 1259.98,-1483.5 1259.98,-1490.5\"/>\n</g>\n<!-- 136744902242992*&#45;&gt;136744902242992 -->\n<g id=\"edge35\" class=\"edge\">\n<title>136744902242992*&#45;&gt;136744902242992</title>\n<path fill=\"none\" stroke=\"black\" d=\"M1052.15,-1487C1061.25,-1487 1071.97,-1487 1083.07,-1487\"/>\n<polygon fill=\"black\" stroke=\"black\" points=\"1083.32,-1490.5 1093.32,-1487 1083.32,-1483.5 1083.32,-1490.5\"/>\n</g>\n<!-- 136744903553760 -->\n<g id=\"node81\" class=\"node\">\n<title>136744903553760</title>\n<polygon fill=\"none\" stroke=\"black\" points=\"2173,-746.5 2173,-815.5 2319,-815.5 2319,-746.5 2173,-746.5\"/>\n<text text-anchor=\"middle\" x=\"2246\" y=\"-800.3\" font-family=\"Times,serif\" font-size=\"14.00\"> </text>\n<polyline fill=\"none\" stroke=\"black\" points=\"2173,-792.5 2319,-792.5 \"/>\n<text text-anchor=\"middle\" x=\"2246\" y=\"-777.3\" font-family=\"Times,serif\" font-size=\"14.00\">&#45;0.39919893303658854</text>\n<polyline fill=\"none\" stroke=\"black\" points=\"2173,-769.5 2319,-769.5 \"/>\n<text text-anchor=\"middle\" x=\"2246\" y=\"-754.3\" font-family=\"Times,serif\" font-size=\"14.00\">0.0</text>\n</g>\n<!-- 136744903547232+ -->\n<g id=\"node146\" class=\"node\">\n<title>136744903547232+</title>\n<ellipse fill=\"none\" stroke=\"black\" cx=\"2382\" cy=\"-1045\" rx=\"27\" ry=\"18\"/>\n<text text-anchor=\"middle\" x=\"2382\" y=\"-1041.3\" font-family=\"Times,serif\" font-size=\"14.00\">+</text>\n</g>\n<!-- 136744903553760&#45;&gt;136744903547232+ -->\n<g id=\"edge188\" class=\"edge\">\n<title>136744903553760&#45;&gt;136744903547232+</title>\n<path fill=\"none\" stroke=\"black\" d=\"M2310.91,-815.61C2313.88,-818.54 2316.61,-821.67 2319,-825 2361.24,-883.87 2332.7,-915.06 2355,-984 2358.77,-995.66 2363.9,-1008.16 2368.6,-1018.8\"/>\n<polygon fill=\"black\" stroke=\"black\" points=\"2365.44,-1020.3 2372.76,-1027.96 2371.82,-1017.41 2365.44,-1020.3\"/>\n</g>\n<!-- 136744903553760*&#45;&gt;136744903553760 -->\n<g id=\"edge36\" class=\"edge\">\n<title>136744903553760*&#45;&gt;136744903553760</title>\n<path fill=\"none\" stroke=\"black\" d=\"M2129.3,-707.72C2141.56,-716.17 2158.13,-727.43 2173,-737 2174.95,-738.26 2176.94,-739.53 2178.95,-740.8\"/>\n<polygon fill=\"black\" stroke=\"black\" points=\"2177.53,-744.05 2187.86,-746.42 2181.26,-738.13 2177.53,-744.05\"/>\n</g>\n<!-- 136744902234880 -->\n<g id=\"node83\" class=\"node\">\n<title>136744902234880</title>\n<polygon fill=\"none\" stroke=\"black\" points=\"1631.5,-308.5 1631.5,-377.5 1766.5,-377.5 1766.5,-308.5 1631.5,-308.5\"/>\n<text text-anchor=\"middle\" x=\"1699\" y=\"-362.3\" font-family=\"Times,serif\" font-size=\"14.00\"> </text>\n<polyline fill=\"none\" stroke=\"black\" points=\"1631.5,-354.5 1766.5,-354.5 \"/>\n<text text-anchor=\"middle\" x=\"1699\" y=\"-339.3\" font-family=\"Times,serif\" font-size=\"14.00\">0.4893200753771072</text>\n<polyline fill=\"none\" stroke=\"black\" points=\"1631.5,-331.5 1766.5,-331.5 \"/>\n<text text-anchor=\"middle\" x=\"1699\" y=\"-316.3\" font-family=\"Times,serif\" font-size=\"14.00\">0.0</text>\n</g>\n<!-- 136744902646784+ -->\n<g id=\"node174\" class=\"node\">\n<title>136744902646784+</title>\n<ellipse fill=\"none\" stroke=\"black\" cx=\"1835\" cy=\"-431\" rx=\"27\" ry=\"18\"/>\n<text text-anchor=\"middle\" x=\"1835\" y=\"-427.3\" font-family=\"Times,serif\" font-size=\"14.00\">+</text>\n</g>\n<!-- 136744902234880&#45;&gt;136744902646784+ -->\n<g id=\"edge121\" class=\"edge\">\n<title>136744902234880&#45;&gt;136744902646784+</title>\n<path fill=\"none\" stroke=\"black\" d=\"M1757.6,-377.71C1762.5,-380.81 1767.35,-383.94 1772,-387 1784,-394.91 1797.01,-404.05 1808,-411.95\"/>\n<polygon fill=\"black\" stroke=\"black\" points=\"1806.16,-414.94 1816.32,-417.96 1810.26,-409.27 1806.16,-414.94\"/>\n</g>\n<!-- 136744902234928 -->\n<g id=\"node84\" class=\"node\">\n<title>136744902234928</title>\n<polygon fill=\"none\" stroke=\"black\" points=\"2176,-658.5 2176,-727.5 2316,-727.5 2316,-658.5 2176,-658.5\"/>\n<text text-anchor=\"middle\" x=\"2246\" y=\"-712.3\" font-family=\"Times,serif\" font-size=\"14.00\"> </text>\n<polyline fill=\"none\" stroke=\"black\" points=\"2176,-704.5 2316,-704.5 \"/>\n<text text-anchor=\"middle\" x=\"2246\" y=\"-689.3\" font-family=\"Times,serif\" font-size=\"14.00\">&#45;0.2168049274886703</text>\n<polyline fill=\"none\" stroke=\"black\" points=\"2176,-681.5 2316,-681.5 \"/>\n<text text-anchor=\"middle\" x=\"2246\" y=\"-666.3\" font-family=\"Times,serif\" font-size=\"14.00\">0.0</text>\n</g>\n<!-- 136744902647744* -->\n<g id=\"node197\" class=\"node\">\n<title>136744902647744*</title>\n<ellipse fill=\"none\" stroke=\"black\" cx=\"2382\" cy=\"-957\" rx=\"27\" ry=\"18\"/>\n<text text-anchor=\"middle\" x=\"2382\" y=\"-953.3\" font-family=\"Times,serif\" font-size=\"14.00\">*</text>\n</g>\n<!-- 136744902234928&#45;&gt;136744902647744* -->\n<g id=\"edge115\" class=\"edge\">\n<title>136744902234928&#45;&gt;136744902647744*</title>\n<path fill=\"none\" stroke=\"black\" d=\"M2310.91,-727.61C2313.88,-730.54 2316.61,-733.67 2319,-737 2361.24,-795.87 2332.7,-827.06 2355,-896 2358.77,-907.66 2363.9,-920.16 2368.6,-930.8\"/>\n<polygon fill=\"black\" stroke=\"black\" points=\"2365.44,-932.3 2372.76,-939.96 2371.82,-929.41 2365.44,-932.3\"/>\n</g>\n<!-- 136744901833536 -->\n<g id=\"node85\" class=\"node\">\n<title>136744901833536</title>\n<polygon fill=\"none\" stroke=\"black\" points=\"1902.5,-748.5 1902.5,-817.5 2042.5,-817.5 2042.5,-748.5 1902.5,-748.5\"/>\n<text text-anchor=\"middle\" x=\"1972.5\" y=\"-802.3\" font-family=\"Times,serif\" font-size=\"14.00\"> </text>\n<polyline fill=\"none\" stroke=\"black\" points=\"1902.5,-794.5 2042.5,-794.5 \"/>\n<text text-anchor=\"middle\" x=\"1972.5\" y=\"-779.3\" font-family=\"Times,serif\" font-size=\"14.00\">&#45;0.1632618958177575</text>\n<polyline fill=\"none\" stroke=\"black\" points=\"1902.5,-771.5 2042.5,-771.5 \"/>\n<text text-anchor=\"middle\" x=\"1972.5\" y=\"-756.3\" font-family=\"Times,serif\" font-size=\"14.00\">0.0</text>\n</g>\n<!-- 136744901833536&#45;&gt;136744901830560+ -->\n<g id=\"edge88\" class=\"edge\">\n<title>136744901833536&#45;&gt;136744901830560+</title>\n<path fill=\"none\" stroke=\"black\" d=\"M2031.86,-817.53C2037,-820.69 2042.11,-823.88 2047,-827 2058.77,-834.5 2071.56,-843.09 2082.46,-850.54\"/>\n<polygon fill=\"black\" stroke=\"black\" points=\"2080.51,-853.45 2090.73,-856.23 2084.47,-847.68 2080.51,-853.45\"/>\n</g>\n<!-- 136744901833536*&#45;&gt;136744901833536 -->\n<g id=\"edge37\" class=\"edge\">\n<title>136744901833536*&#45;&gt;136744901833536</title>\n<path fill=\"none\" stroke=\"black\" d=\"M1862.13,-783C1871.02,-783 1881.47,-783 1892.32,-783\"/>\n<polygon fill=\"black\" stroke=\"black\" points=\"1892.37,-786.5 1902.37,-783 1892.37,-779.5 1892.37,-786.5\"/>\n</g>\n<!-- 136744902234976 -->\n<g id=\"node87\" class=\"node\">\n<title>136744902234976</title>\n<polygon fill=\"none\" stroke=\"black\" points=\"1905,-132.5 1905,-201.5 2040,-201.5 2040,-132.5 1905,-132.5\"/>\n<text text-anchor=\"middle\" x=\"1972.5\" y=\"-186.3\" font-family=\"Times,serif\" font-size=\"14.00\"> </text>\n<polyline fill=\"none\" stroke=\"black\" points=\"1905,-178.5 2040,-178.5 \"/>\n<text text-anchor=\"middle\" x=\"1972.5\" y=\"-163.3\" font-family=\"Times,serif\" font-size=\"14.00\">0.5429235958969589</text>\n<polyline fill=\"none\" stroke=\"black\" points=\"1905,-155.5 2040,-155.5 \"/>\n<text text-anchor=\"middle\" x=\"1972.5\" y=\"-140.3\" font-family=\"Times,serif\" font-size=\"14.00\">0.0</text>\n</g>\n<!-- 136744902234976&#45;&gt;136744902647360* -->\n<g id=\"edge96\" class=\"edge\">\n<title>136744902234976&#45;&gt;136744902647360*</title>\n<path fill=\"none\" stroke=\"black\" d=\"M2035.29,-201.58C2039.38,-204.6 2043.33,-207.74 2047,-211 2065.08,-227.03 2081.63,-248.93 2093.07,-265.76\"/>\n<polygon fill=\"black\" stroke=\"black\" points=\"2090.44,-268.12 2098.88,-274.52 2096.27,-264.25 2090.44,-268.12\"/>\n</g>\n<!-- 136744902243184 -->\n<g id=\"node88\" class=\"node\">\n<title>136744902243184</title>\n<polygon fill=\"none\" stroke=\"black\" points=\"1902.5,-1100.5 1902.5,-1169.5 2042.5,-1169.5 2042.5,-1100.5 1902.5,-1100.5\"/>\n<text text-anchor=\"middle\" x=\"1972.5\" y=\"-1154.3\" font-family=\"Times,serif\" font-size=\"14.00\"> </text>\n<polyline fill=\"none\" stroke=\"black\" points=\"1902.5,-1146.5 2042.5,-1146.5 \"/>\n<text text-anchor=\"middle\" x=\"1972.5\" y=\"-1131.3\" font-family=\"Times,serif\" font-size=\"14.00\">&#45;0.3659728302824997</text>\n<polyline fill=\"none\" stroke=\"black\" points=\"1902.5,-1123.5 2042.5,-1123.5 \"/>\n<text text-anchor=\"middle\" x=\"1972.5\" y=\"-1108.3\" font-family=\"Times,serif\" font-size=\"14.00\">0.0</text>\n</g>\n<!-- 136744902244192+ -->\n<g id=\"node124\" class=\"node\">\n<title>136744902244192+</title>\n<ellipse fill=\"none\" stroke=\"black\" cx=\"2110\" cy=\"-959\" rx=\"27\" ry=\"18\"/>\n<text text-anchor=\"middle\" x=\"2110\" y=\"-955.3\" font-family=\"Times,serif\" font-size=\"14.00\">+</text>\n</g>\n<!-- 136744902243184&#45;&gt;136744902244192+ -->\n<g id=\"edge140\" class=\"edge\">\n<title>136744902243184&#45;&gt;136744902244192+</title>\n<path fill=\"none\" stroke=\"black\" d=\"M2037.21,-1100.41C2040.71,-1097.45 2044.01,-1094.31 2047,-1091 2054.57,-1082.63 2081.65,-1021.93 2097.41,-985.82\"/>\n<polygon fill=\"black\" stroke=\"black\" points=\"2100.75,-986.92 2101.53,-976.35 2094.33,-984.13 2100.75,-986.92\"/>\n</g>\n<!-- 136744902243184+ -->\n<g id=\"node89\" class=\"node\">\n<title>136744902243184+</title>\n<ellipse fill=\"none\" stroke=\"black\" cx=\"1835\" cy=\"-1135\" rx=\"27\" ry=\"18\"/>\n<text text-anchor=\"middle\" x=\"1835\" y=\"-1131.3\" font-family=\"Times,serif\" font-size=\"14.00\">+</text>\n</g>\n<!-- 136744902243184+&#45;&gt;136744902243184 -->\n<g id=\"edge38\" class=\"edge\">\n<title>136744902243184+&#45;&gt;136744902243184</title>\n<path fill=\"none\" stroke=\"black\" d=\"M1862.13,-1135C1871.02,-1135 1881.47,-1135 1892.32,-1135\"/>\n<polygon fill=\"black\" stroke=\"black\" points=\"1892.37,-1138.5 1902.37,-1135 1892.37,-1131.5 1892.37,-1138.5\"/>\n</g>\n<!-- 136744902235024 -->\n<g id=\"node90\" class=\"node\">\n<title>136744902235024</title>\n<polygon fill=\"none\" stroke=\"black\" points=\"1629,-484.5 1629,-553.5 1769,-553.5 1769,-484.5 1629,-484.5\"/>\n<text text-anchor=\"middle\" x=\"1699\" y=\"-538.3\" font-family=\"Times,serif\" font-size=\"14.00\"> </text>\n<polyline fill=\"none\" stroke=\"black\" points=\"1629,-530.5 1769,-530.5 \"/>\n<text text-anchor=\"middle\" x=\"1699\" y=\"-515.3\" font-family=\"Times,serif\" font-size=\"14.00\">&#45;0.3920476880553134</text>\n<polyline fill=\"none\" stroke=\"black\" points=\"1629,-507.5 1769,-507.5 \"/>\n<text text-anchor=\"middle\" x=\"1699\" y=\"-492.3\" font-family=\"Times,serif\" font-size=\"14.00\">0.0</text>\n</g>\n<!-- 136744902235024&#45;&gt;136744902646976* -->\n<g id=\"edge122\" class=\"edge\">\n<title>136744902235024&#45;&gt;136744902646976*</title>\n<path fill=\"none\" stroke=\"black\" d=\"M1769.36,-519C1779.16,-519 1788.9,-519 1797.73,-519\"/>\n<polygon fill=\"black\" stroke=\"black\" points=\"1797.99,-522.5 1807.99,-519 1797.99,-515.5 1797.99,-522.5\"/>\n</g>\n<!-- 136744902235120 -->\n<g id=\"node91\" class=\"node\">\n<title>136744902235120</title>\n<polygon fill=\"none\" stroke=\"black\" points=\"1360,-528.5 1360,-597.5 1500,-597.5 1500,-528.5 1360,-528.5\"/>\n<text text-anchor=\"middle\" x=\"1430\" y=\"-582.3\" font-family=\"Times,serif\" font-size=\"14.00\"> </text>\n<polyline fill=\"none\" stroke=\"black\" points=\"1360,-574.5 1500,-574.5 \"/>\n<text text-anchor=\"middle\" x=\"1430\" y=\"-559.3\" font-family=\"Times,serif\" font-size=\"14.00\">&#45;0.6109840091359873</text>\n<polyline fill=\"none\" stroke=\"black\" points=\"1360,-551.5 1500,-551.5 \"/>\n<text text-anchor=\"middle\" x=\"1430\" y=\"-536.3\" font-family=\"Times,serif\" font-size=\"14.00\">0.0</text>\n</g>\n<!-- 136744902235120&#45;&gt;136744902646592* -->\n<g id=\"edge120\" class=\"edge\">\n<title>136744902235120&#45;&gt;136744902646592*</title>\n<path fill=\"none\" stroke=\"black\" d=\"M1500.34,-563C1509.13,-563 1517.82,-563 1525.79,-563\"/>\n<polygon fill=\"black\" stroke=\"black\" points=\"1525.8,-566.5 1535.8,-563 1525.8,-559.5 1525.8,-566.5\"/>\n</g>\n<!-- 136744902243328 -->\n<g id=\"node92\" class=\"node\">\n<title>136744902243328</title>\n<polygon fill=\"none\" stroke=\"black\" points=\"1908.5,-1232.5 1908.5,-1301.5 2036.5,-1301.5 2036.5,-1232.5 1908.5,-1232.5\"/>\n<text text-anchor=\"middle\" x=\"1972.5\" y=\"-1286.3\" font-family=\"Times,serif\" font-size=\"14.00\"> </text>\n<polyline fill=\"none\" stroke=\"black\" points=\"1908.5,-1278.5 2036.5,-1278.5 \"/>\n<text text-anchor=\"middle\" x=\"1972.5\" y=\"-1263.3\" font-family=\"Times,serif\" font-size=\"14.00\">3.172677231462748</text>\n<polyline fill=\"none\" stroke=\"black\" points=\"1908.5,-1255.5 2036.5,-1255.5 \"/>\n<text text-anchor=\"middle\" x=\"1972.5\" y=\"-1240.3\" font-family=\"Times,serif\" font-size=\"14.00\">0.0</text>\n</g>\n<!-- 136744902243616tanh -->\n<g id=\"node105\" class=\"node\">\n<title>136744902243616tanh</title>\n<ellipse fill=\"none\" stroke=\"black\" cx=\"2110\" cy=\"-1245\" rx=\"27\" ry=\"18\"/>\n<text text-anchor=\"middle\" x=\"2110\" y=\"-1241.3\" font-family=\"Times,serif\" font-size=\"14.00\">tanh</text>\n</g>\n<!-- 136744902243328&#45;&gt;136744902243616tanh -->\n<g id=\"edge97\" class=\"edge\">\n<title>136744902243328&#45;&gt;136744902243616tanh</title>\n<path fill=\"none\" stroke=\"black\" d=\"M2036.89,-1256.71C2049.54,-1254.65 2062.4,-1252.57 2073.69,-1250.73\"/>\n<polygon fill=\"black\" stroke=\"black\" points=\"2074.25,-1254.19 2083.56,-1249.13 2073.13,-1247.28 2074.25,-1254.19\"/>\n</g>\n<!-- 136744902243328+&#45;&gt;136744902243328 -->\n<g id=\"edge39\" class=\"edge\">\n<title>136744902243328+&#45;&gt;136744902243328</title>\n<path fill=\"none\" stroke=\"black\" d=\"M1859.6,-1303.34C1870.63,-1299.75 1884.42,-1295.28 1898.52,-1290.7\"/>\n<polygon fill=\"black\" stroke=\"black\" points=\"1899.86,-1293.94 1908.29,-1287.52 1897.7,-1287.28 1899.86,-1293.94\"/>\n</g>\n<!-- 136744902308912 -->\n<g id=\"node94\" class=\"node\">\n<title>136744902308912</title>\n<polygon fill=\"none\" stroke=\"black\" points=\"2720.5,-1076.5 2720.5,-1145.5 2853.5,-1145.5 2853.5,-1076.5 2720.5,-1076.5\"/>\n<text text-anchor=\"middle\" x=\"2787\" y=\"-1130.3\" font-family=\"Times,serif\" font-size=\"14.00\"> </text>\n<polyline fill=\"none\" stroke=\"black\" points=\"2720.5,-1122.5 2853.5,-1122.5 \"/>\n<text text-anchor=\"middle\" x=\"2787\" y=\"-1107.3\" font-family=\"Times,serif\" font-size=\"14.00\">&#45;1.126407611626847</text>\n<polyline fill=\"none\" stroke=\"black\" points=\"2720.5,-1099.5 2853.5,-1099.5 \"/>\n<text text-anchor=\"middle\" x=\"2787\" y=\"-1084.3\" font-family=\"Times,serif\" font-size=\"14.00\">0.0</text>\n</g>\n<!-- 136744902310160tanh -->\n<g id=\"node141\" class=\"node\">\n<title>136744902310160tanh</title>\n<ellipse fill=\"none\" stroke=\"black\" cx=\"2920\" cy=\"-1111\" rx=\"27\" ry=\"18\"/>\n<text text-anchor=\"middle\" x=\"2920\" y=\"-1107.3\" font-family=\"Times,serif\" font-size=\"14.00\">tanh</text>\n</g>\n<!-- 136744902308912&#45;&gt;136744902310160tanh -->\n<g id=\"edge76\" class=\"edge\">\n<title>136744902308912&#45;&gt;136744902310160tanh</title>\n<path fill=\"none\" stroke=\"black\" d=\"M2853.88,-1111C2863.87,-1111 2873.84,-1111 2882.87,-1111\"/>\n<polygon fill=\"black\" stroke=\"black\" points=\"2882.99,-1114.5 2892.99,-1111 2882.99,-1107.5 2882.99,-1114.5\"/>\n</g>\n<!-- 136744902308912+&#45;&gt;136744902308912 -->\n<g id=\"edge40\" class=\"edge\">\n<title>136744902308912+&#45;&gt;136744902308912</title>\n<path fill=\"none\" stroke=\"black\" d=\"M2681.19,-1111C2689.8,-1111 2699.83,-1111 2710.22,-1111\"/>\n<polygon fill=\"black\" stroke=\"black\" points=\"2710.25,-1114.5 2720.25,-1111 2710.25,-1107.5 2710.25,-1114.5\"/>\n</g>\n<!-- 136744902243376 -->\n<g id=\"node96\" class=\"node\">\n<title>136744902243376</title>\n<polygon fill=\"none\" stroke=\"black\" points=\"1629,-1100.5 1629,-1169.5 1769,-1169.5 1769,-1100.5 1629,-1100.5\"/>\n<text text-anchor=\"middle\" x=\"1699\" y=\"-1154.3\" font-family=\"Times,serif\" font-size=\"14.00\"> </text>\n<polyline fill=\"none\" stroke=\"black\" points=\"1629,-1146.5 1769,-1146.5 \"/>\n<text text-anchor=\"middle\" x=\"1699\" y=\"-1131.3\" font-family=\"Times,serif\" font-size=\"14.00\">&#45;0.6285809123686857</text>\n<polyline fill=\"none\" stroke=\"black\" points=\"1629,-1123.5 1769,-1123.5 \"/>\n<text text-anchor=\"middle\" x=\"1699\" y=\"-1108.3\" font-family=\"Times,serif\" font-size=\"14.00\">0.0</text>\n</g>\n<!-- 136744902243376&#45;&gt;136744902243184+ -->\n<g id=\"edge190\" class=\"edge\">\n<title>136744902243376&#45;&gt;136744902243184+</title>\n<path fill=\"none\" stroke=\"black\" d=\"M1769.36,-1135C1779.16,-1135 1788.9,-1135 1797.73,-1135\"/>\n<polygon fill=\"black\" stroke=\"black\" points=\"1797.99,-1138.5 1807.99,-1135 1797.99,-1131.5 1797.99,-1138.5\"/>\n</g>\n<!-- 136744902243376*&#45;&gt;136744902243376 -->\n<g id=\"edge41\" class=\"edge\">\n<title>136744902243376*&#45;&gt;136744902243376</title>\n<path fill=\"none\" stroke=\"black\" d=\"M1590.15,-1135C1598.55,-1135 1608.33,-1135 1618.51,-1135\"/>\n<polygon fill=\"black\" stroke=\"black\" points=\"1618.79,-1138.5 1628.79,-1135 1618.79,-1131.5 1618.79,-1138.5\"/>\n</g>\n<!-- 136744902235216 -->\n<g id=\"node98\" class=\"node\">\n<title>136744902235216</title>\n<polygon fill=\"none\" stroke=\"black\" points=\"1626,-660.5 1626,-729.5 1772,-729.5 1772,-660.5 1626,-660.5\"/>\n<text text-anchor=\"middle\" x=\"1699\" y=\"-714.3\" font-family=\"Times,serif\" font-size=\"14.00\"> </text>\n<polyline fill=\"none\" stroke=\"black\" points=\"1626,-706.5 1772,-706.5 \"/>\n<text text-anchor=\"middle\" x=\"1699\" y=\"-691.3\" font-family=\"Times,serif\" font-size=\"14.00\">&#45;0.15557035184722467</text>\n<polyline fill=\"none\" stroke=\"black\" points=\"1626,-683.5 1772,-683.5 \"/>\n<text text-anchor=\"middle\" x=\"1699\" y=\"-668.3\" font-family=\"Times,serif\" font-size=\"14.00\">0.0</text>\n</g>\n<!-- 136744901833824+ -->\n<g id=\"node100\" class=\"node\">\n<title>136744901833824+</title>\n<ellipse fill=\"none\" stroke=\"black\" cx=\"1835\" cy=\"-871\" rx=\"27\" ry=\"18\"/>\n<text text-anchor=\"middle\" x=\"1835\" y=\"-867.3\" font-family=\"Times,serif\" font-size=\"14.00\">+</text>\n</g>\n<!-- 136744902235216&#45;&gt;136744901833824+ -->\n<g id=\"edge114\" class=\"edge\">\n<title>136744902235216&#45;&gt;136744901833824+</title>\n<path fill=\"none\" stroke=\"black\" d=\"M1762.41,-729.68C1765.83,-732.62 1769.07,-735.73 1772,-739 1779.53,-747.4 1806.63,-808.09 1822.4,-844.19\"/>\n<polygon fill=\"black\" stroke=\"black\" points=\"1819.32,-845.88 1826.52,-853.65 1825.74,-843.09 1819.32,-845.88\"/>\n</g>\n<!-- 136744901833824 -->\n<g id=\"node99\" class=\"node\">\n<title>136744901833824</title>\n<polygon fill=\"none\" stroke=\"black\" points=\"1905,-836.5 1905,-905.5 2040,-905.5 2040,-836.5 1905,-836.5\"/>\n<text text-anchor=\"middle\" x=\"1972.5\" y=\"-890.3\" font-family=\"Times,serif\" font-size=\"14.00\"> </text>\n<polyline fill=\"none\" stroke=\"black\" points=\"1905,-882.5 2040,-882.5 \"/>\n<text text-anchor=\"middle\" x=\"1972.5\" y=\"-867.3\" font-family=\"Times,serif\" font-size=\"14.00\">0.3171200994242741</text>\n<polyline fill=\"none\" stroke=\"black\" points=\"1905,-859.5 2040,-859.5 \"/>\n<text text-anchor=\"middle\" x=\"1972.5\" y=\"-844.3\" font-family=\"Times,serif\" font-size=\"14.00\">0.0</text>\n</g>\n<!-- 136744901833824&#45;&gt;136744901830560+ -->\n<g id=\"edge153\" class=\"edge\">\n<title>136744901833824&#45;&gt;136744901830560+</title>\n<path fill=\"none\" stroke=\"black\" d=\"M2040.06,-870.02C2051.38,-869.85 2062.75,-869.68 2072.9,-869.53\"/>\n<polygon fill=\"black\" stroke=\"black\" points=\"2073.03,-873.03 2082.98,-869.38 2072.93,-866.03 2073.03,-873.03\"/>\n</g>\n<!-- 136744901833824+&#45;&gt;136744901833824 -->\n<g id=\"edge42\" class=\"edge\">\n<title>136744901833824+&#45;&gt;136744901833824</title>\n<path fill=\"none\" stroke=\"black\" d=\"M1862.13,-871C1871.64,-871 1882.95,-871 1894.62,-871\"/>\n<polygon fill=\"black\" stroke=\"black\" points=\"1894.94,-874.5 1904.94,-871 1894.94,-867.5 1894.94,-874.5\"/>\n</g>\n<!-- 136744902235264 -->\n<g id=\"node101\" class=\"node\">\n<title>136744902235264</title>\n<polygon fill=\"none\" stroke=\"black\" points=\"2173,-1098.5 2173,-1167.5 2319,-1167.5 2319,-1098.5 2173,-1098.5\"/>\n<text text-anchor=\"middle\" x=\"2246\" y=\"-1152.3\" font-family=\"Times,serif\" font-size=\"14.00\"> </text>\n<polyline fill=\"none\" stroke=\"black\" points=\"2173,-1144.5 2319,-1144.5 \"/>\n<text text-anchor=\"middle\" x=\"2246\" y=\"-1129.3\" font-family=\"Times,serif\" font-size=\"14.00\">&#45;0.20319253825587547</text>\n<polyline fill=\"none\" stroke=\"black\" points=\"2173,-1121.5 2319,-1121.5 \"/>\n<text text-anchor=\"middle\" x=\"2246\" y=\"-1106.3\" font-family=\"Times,serif\" font-size=\"14.00\">0.0</text>\n</g>\n<!-- 136744902646016* -->\n<g id=\"node139\" class=\"node\">\n<title>136744902646016*</title>\n<ellipse fill=\"none\" stroke=\"black\" cx=\"2382\" cy=\"-1133\" rx=\"27\" ry=\"18\"/>\n<text text-anchor=\"middle\" x=\"2382\" y=\"-1129.3\" font-family=\"Times,serif\" font-size=\"14.00\">*</text>\n</g>\n<!-- 136744902235264&#45;&gt;136744902646016* -->\n<g id=\"edge142\" class=\"edge\">\n<title>136744902235264&#45;&gt;136744902646016*</title>\n<path fill=\"none\" stroke=\"black\" d=\"M2319.1,-1133C2327.97,-1133 2336.73,-1133 2344.73,-1133\"/>\n<polygon fill=\"black\" stroke=\"black\" points=\"2344.77,-1136.5 2354.77,-1133 2344.77,-1129.5 2344.77,-1136.5\"/>\n</g>\n<!-- 136744902235312 -->\n<g id=\"node102\" class=\"node\">\n<title>136744902235312</title>\n<polygon fill=\"none\" stroke=\"black\" points=\"1902.5,-220.5 1902.5,-289.5 2042.5,-289.5 2042.5,-220.5 1902.5,-220.5\"/>\n<text text-anchor=\"middle\" x=\"1972.5\" y=\"-274.3\" font-family=\"Times,serif\" font-size=\"14.00\"> </text>\n<polyline fill=\"none\" stroke=\"black\" points=\"1902.5,-266.5 2042.5,-266.5 \"/>\n<text text-anchor=\"middle\" x=\"1972.5\" y=\"-251.3\" font-family=\"Times,serif\" font-size=\"14.00\">&#45;0.2907935413429297</text>\n<polyline fill=\"none\" stroke=\"black\" points=\"1902.5,-243.5 2042.5,-243.5 \"/>\n<text text-anchor=\"middle\" x=\"1972.5\" y=\"-228.3\" font-family=\"Times,serif\" font-size=\"14.00\">0.0</text>\n</g>\n<!-- 136744902235312&#45;&gt;136744902645728* -->\n<g id=\"edge168\" class=\"edge\">\n<title>136744902235312&#45;&gt;136744902645728*</title>\n<path fill=\"none\" stroke=\"black\" d=\"M2032.4,-289.55C2037.38,-292.68 2042.3,-295.86 2047,-299 2059.35,-307.25 2072.61,-316.97 2083.7,-325.34\"/>\n<polygon fill=\"black\" stroke=\"black\" points=\"2081.62,-328.16 2091.69,-331.44 2085.86,-322.6 2081.62,-328.16\"/>\n</g>\n<!-- 136744902235360 -->\n<g id=\"node103\" class=\"node\">\n<title>136744902235360</title>\n<polygon fill=\"none\" stroke=\"black\" points=\"1628,-572.5 1628,-641.5 1770,-641.5 1770,-572.5 1628,-572.5\"/>\n<text text-anchor=\"middle\" x=\"1699\" y=\"-626.3\" font-family=\"Times,serif\" font-size=\"14.00\"> </text>\n<polyline fill=\"none\" stroke=\"black\" points=\"1628,-618.5 1770,-618.5 \"/>\n<text text-anchor=\"middle\" x=\"1699\" y=\"-603.3\" font-family=\"Times,serif\" font-size=\"14.00\">0.16587058067341842</text>\n<polyline fill=\"none\" stroke=\"black\" points=\"1628,-595.5 1770,-595.5 \"/>\n<text text-anchor=\"middle\" x=\"1699\" y=\"-580.3\" font-family=\"Times,serif\" font-size=\"14.00\">0.0</text>\n</g>\n<!-- 136744902235360&#45;&gt;136744901833536* -->\n<g id=\"edge104\" class=\"edge\">\n<title>136744902235360&#45;&gt;136744901833536*</title>\n<path fill=\"none\" stroke=\"black\" d=\"M1762.41,-641.68C1765.83,-644.62 1769.07,-647.73 1772,-651 1799.54,-681.73 1817.14,-726.84 1826.3,-755.56\"/>\n<polygon fill=\"black\" stroke=\"black\" points=\"1823.02,-756.8 1829.29,-765.34 1829.71,-754.75 1823.02,-756.8\"/>\n</g>\n<!-- 136744902243616 -->\n<g id=\"node104\" class=\"node\">\n<title>136744902243616</title>\n<polygon fill=\"none\" stroke=\"black\" points=\"2178.5,-1186.5 2178.5,-1255.5 2313.5,-1255.5 2313.5,-1186.5 2178.5,-1186.5\"/>\n<text text-anchor=\"middle\" x=\"2246\" y=\"-1240.3\" font-family=\"Times,serif\" font-size=\"14.00\"> </text>\n<polyline fill=\"none\" stroke=\"black\" points=\"2178.5,-1232.5 2313.5,-1232.5 \"/>\n<text text-anchor=\"middle\" x=\"2246\" y=\"-1217.3\" font-family=\"Times,serif\" font-size=\"14.00\">0.9964963872373384</text>\n<polyline fill=\"none\" stroke=\"black\" points=\"2178.5,-1209.5 2313.5,-1209.5 \"/>\n<text text-anchor=\"middle\" x=\"2246\" y=\"-1194.3\" font-family=\"Times,serif\" font-size=\"14.00\">0.0</text>\n</g>\n<!-- 136744902243616&#45;&gt;136744903550064* -->\n<g id=\"edge90\" class=\"edge\">\n<title>136744902243616&#45;&gt;136744903550064*</title>\n<path fill=\"none\" stroke=\"black\" d=\"M2304.6,-1255.71C2309.5,-1258.81 2314.35,-1261.94 2319,-1265 2331,-1272.91 2344.01,-1282.05 2355,-1289.95\"/>\n<polygon fill=\"black\" stroke=\"black\" points=\"2353.16,-1292.94 2363.32,-1295.96 2357.26,-1287.27 2353.16,-1292.94\"/>\n</g>\n<!-- 136744902243616&#45;&gt;136744902646016* -->\n<g id=\"edge208\" class=\"edge\">\n<title>136744902243616&#45;&gt;136744902646016*</title>\n<path fill=\"none\" stroke=\"black\" d=\"M2304.6,-1186.29C2309.5,-1183.19 2314.35,-1180.06 2319,-1177 2331,-1169.09 2344.01,-1159.95 2355,-1152.05\"/>\n<polygon fill=\"black\" stroke=\"black\" points=\"2357.26,-1154.73 2363.32,-1146.04 2353.16,-1149.06 2357.26,-1154.73\"/>\n</g>\n<!-- 136744902244864* -->\n<g id=\"node152\" class=\"node\">\n<title>136744902244864*</title>\n<ellipse fill=\"none\" stroke=\"black\" cx=\"2382\" cy=\"-1221\" rx=\"27\" ry=\"18\"/>\n<text text-anchor=\"middle\" x=\"2382\" y=\"-1217.3\" font-family=\"Times,serif\" font-size=\"14.00\">*</text>\n</g>\n<!-- 136744902243616&#45;&gt;136744902244864* -->\n<g id=\"edge179\" class=\"edge\">\n<title>136744902243616&#45;&gt;136744902244864*</title>\n<path fill=\"none\" stroke=\"black\" d=\"M2313.61,-1221C2324.41,-1221 2335.23,-1221 2344.94,-1221\"/>\n<polygon fill=\"black\" stroke=\"black\" points=\"2344.98,-1224.5 2354.98,-1221 2344.98,-1217.5 2344.98,-1224.5\"/>\n</g>\n<!-- 136744902243616&#45;&gt;136744902647744* -->\n<g id=\"edge159\" class=\"edge\">\n<title>136744902243616&#45;&gt;136744902647744*</title>\n<path fill=\"none\" stroke=\"black\" d=\"M2310.91,-1186.39C2313.88,-1183.46 2316.61,-1180.33 2319,-1177 2361.24,-1118.13 2332.7,-1086.94 2355,-1018 2358.77,-1006.34 2363.9,-993.84 2368.6,-983.2\"/>\n<polygon fill=\"black\" stroke=\"black\" points=\"2371.82,-984.59 2372.76,-974.04 2365.44,-981.7 2371.82,-984.59\"/>\n</g>\n<!-- 136744902243616tanh&#45;&gt;136744902243616 -->\n<g id=\"edge43\" class=\"edge\">\n<title>136744902243616tanh&#45;&gt;136744902243616</title>\n<path fill=\"none\" stroke=\"black\" d=\"M2136.2,-1240.49C2145.53,-1238.82 2156.65,-1236.82 2168.17,-1234.76\"/>\n<polygon fill=\"black\" stroke=\"black\" points=\"2169.13,-1238.14 2178.35,-1232.94 2167.89,-1231.25 2169.13,-1238.14\"/>\n</g>\n<!-- 136744902235456 -->\n<g id=\"node106\" class=\"node\">\n<title>136744902235456</title>\n<polygon fill=\"none\" stroke=\"black\" points=\"1360,-880.5 1360,-949.5 1500,-949.5 1500,-880.5 1360,-880.5\"/>\n<text text-anchor=\"middle\" x=\"1430\" y=\"-934.3\" font-family=\"Times,serif\" font-size=\"14.00\"> </text>\n<polyline fill=\"none\" stroke=\"black\" points=\"1360,-926.5 1500,-926.5 \"/>\n<text text-anchor=\"middle\" x=\"1430\" y=\"-911.3\" font-family=\"Times,serif\" font-size=\"14.00\">&#45;0.5636408440158369</text>\n<polyline fill=\"none\" stroke=\"black\" points=\"1360,-903.5 1500,-903.5 \"/>\n<text text-anchor=\"middle\" x=\"1430\" y=\"-888.3\" font-family=\"Times,serif\" font-size=\"14.00\">0.0</text>\n</g>\n<!-- 136744902235456&#45;&gt;136744901827344* -->\n<g id=\"edge139\" class=\"edge\">\n<title>136744902235456&#45;&gt;136744901827344*</title>\n<path fill=\"none\" stroke=\"black\" d=\"M1500.34,-915C1509.13,-915 1517.82,-915 1525.79,-915\"/>\n<polygon fill=\"black\" stroke=\"black\" points=\"1525.8,-918.5 1535.8,-915 1525.8,-911.5 1525.8,-918.5\"/>\n</g>\n<!-- 136744902235552 -->\n<g id=\"node107\" class=\"node\">\n<title>136744902235552</title>\n<polygon fill=\"none\" stroke=\"black\" points=\"1629,-1540.5 1629,-1609.5 1769,-1609.5 1769,-1540.5 1629,-1540.5\"/>\n<text text-anchor=\"middle\" x=\"1699\" y=\"-1594.3\" font-family=\"Times,serif\" font-size=\"14.00\"> </text>\n<polyline fill=\"none\" stroke=\"black\" points=\"1629,-1586.5 1769,-1586.5 \"/>\n<text text-anchor=\"middle\" x=\"1699\" y=\"-1571.3\" font-family=\"Times,serif\" font-size=\"14.00\">&#45;0.8117775499297712</text>\n<polyline fill=\"none\" stroke=\"black\" points=\"1629,-1563.5 1769,-1563.5 \"/>\n<text text-anchor=\"middle\" x=\"1699\" y=\"-1548.3\" font-family=\"Times,serif\" font-size=\"14.00\">0.0</text>\n</g>\n<!-- 136744902235552&#45;&gt;136744903919600+ -->\n<g id=\"edge192\" class=\"edge\">\n<title>136744902235552&#45;&gt;136744903919600+</title>\n<path fill=\"none\" stroke=\"black\" d=\"M1762.41,-1540.32C1765.83,-1537.38 1769.07,-1534.27 1772,-1531 1799.54,-1500.27 1817.14,-1455.16 1826.3,-1426.44\"/>\n<polygon fill=\"black\" stroke=\"black\" points=\"1829.71,-1427.25 1829.29,-1416.66 1823.02,-1425.2 1829.71,-1427.25\"/>\n</g>\n<!-- 136744902235600 -->\n<g id=\"node108\" class=\"node\">\n<title>136744902235600</title>\n<polygon fill=\"none\" stroke=\"black\" points=\"2179.5,-1362.5 2179.5,-1431.5 2312.5,-1431.5 2312.5,-1362.5 2179.5,-1362.5\"/>\n<text text-anchor=\"middle\" x=\"2246\" y=\"-1416.3\" font-family=\"Times,serif\" font-size=\"14.00\"> </text>\n<polyline fill=\"none\" stroke=\"black\" points=\"2179.5,-1408.5 2312.5,-1408.5 \"/>\n<text text-anchor=\"middle\" x=\"2246\" y=\"-1393.3\" font-family=\"Times,serif\" font-size=\"14.00\">&#45;0.501072629800666</text>\n<polyline fill=\"none\" stroke=\"black\" points=\"2179.5,-1385.5 2312.5,-1385.5 \"/>\n<text text-anchor=\"middle\" x=\"2246\" y=\"-1370.3\" font-family=\"Times,serif\" font-size=\"14.00\">0.0</text>\n</g>\n<!-- 136744902235600&#45;&gt;136744903550064* -->\n<g id=\"edge147\" class=\"edge\">\n<title>136744902235600&#45;&gt;136744903550064*</title>\n<path fill=\"none\" stroke=\"black\" d=\"M2304.6,-1362.29C2309.5,-1359.19 2314.35,-1356.06 2319,-1353 2331,-1345.09 2344.01,-1335.95 2355,-1328.05\"/>\n<polygon fill=\"black\" stroke=\"black\" points=\"2357.26,-1330.73 2363.32,-1322.04 2353.16,-1325.06 2357.26,-1330.73\"/>\n</g>\n<!-- 136744902235648 -->\n<g id=\"node109\" class=\"node\">\n<title>136744902235648</title>\n<polygon fill=\"none\" stroke=\"black\" points=\"1899.5,-660.5 1899.5,-729.5 2045.5,-729.5 2045.5,-660.5 1899.5,-660.5\"/>\n<text text-anchor=\"middle\" x=\"1972.5\" y=\"-714.3\" font-family=\"Times,serif\" font-size=\"14.00\"> </text>\n<polyline fill=\"none\" stroke=\"black\" points=\"1899.5,-706.5 2045.5,-706.5 \"/>\n<text text-anchor=\"middle\" x=\"1972.5\" y=\"-691.3\" font-family=\"Times,serif\" font-size=\"14.00\">&#45;0.40530644597726195</text>\n<polyline fill=\"none\" stroke=\"black\" points=\"1899.5,-683.5 2045.5,-683.5 \"/>\n<text text-anchor=\"middle\" x=\"1972.5\" y=\"-668.3\" font-family=\"Times,serif\" font-size=\"14.00\">0.0</text>\n</g>\n<!-- 136744902235648&#45;&gt;136744903553760* -->\n<g id=\"edge183\" class=\"edge\">\n<title>136744902235648&#45;&gt;136744903553760*</title>\n<path fill=\"none\" stroke=\"black\" d=\"M2045.61,-695C2054.95,-695 2064.17,-695 2072.57,-695\"/>\n<polygon fill=\"black\" stroke=\"black\" points=\"2072.71,-698.5 2082.71,-695 2072.71,-691.5 2072.71,-698.5\"/>\n</g>\n<!-- 136744902235696 -->\n<g id=\"node110\" class=\"node\">\n<title>136744902235696</title>\n<polygon fill=\"none\" stroke=\"black\" points=\"1628,-1012.5 1628,-1081.5 1770,-1081.5 1770,-1012.5 1628,-1012.5\"/>\n<text text-anchor=\"middle\" x=\"1699\" y=\"-1066.3\" font-family=\"Times,serif\" font-size=\"14.00\"> </text>\n<polyline fill=\"none\" stroke=\"black\" points=\"1628,-1058.5 1770,-1058.5 \"/>\n<text text-anchor=\"middle\" x=\"1699\" y=\"-1043.3\" font-family=\"Times,serif\" font-size=\"14.00\">0.24668086978817083</text>\n<polyline fill=\"none\" stroke=\"black\" points=\"1628,-1035.5 1770,-1035.5 \"/>\n<text text-anchor=\"middle\" x=\"1699\" y=\"-1020.3\" font-family=\"Times,serif\" font-size=\"14.00\">0.0</text>\n</g>\n<!-- 136744902235696&#45;&gt;136744903923392* -->\n<g id=\"edge160\" class=\"edge\">\n<title>136744902235696&#45;&gt;136744903923392*</title>\n<path fill=\"none\" stroke=\"black\" d=\"M1770.14,-1047C1779.68,-1047 1789.14,-1047 1797.74,-1047\"/>\n<polygon fill=\"black\" stroke=\"black\" points=\"1797.75,-1050.5 1807.75,-1047 1797.75,-1043.5 1797.75,-1050.5\"/>\n</g>\n<!-- 136744903923296 -->\n<g id=\"node111\" class=\"node\">\n<title>136744903923296</title>\n<polygon fill=\"none\" stroke=\"black\" points=\"2176,-1010.5 2176,-1079.5 2316,-1079.5 2316,-1010.5 2176,-1010.5\"/>\n<text text-anchor=\"middle\" x=\"2246\" y=\"-1064.3\" font-family=\"Times,serif\" font-size=\"14.00\"> </text>\n<polyline fill=\"none\" stroke=\"black\" points=\"2176,-1056.5 2316,-1056.5 \"/>\n<text text-anchor=\"middle\" x=\"2246\" y=\"-1041.3\" font-family=\"Times,serif\" font-size=\"14.00\">&#45;0.2278916132503826</text>\n<polyline fill=\"none\" stroke=\"black\" points=\"2176,-1033.5 2316,-1033.5 \"/>\n<text text-anchor=\"middle\" x=\"2246\" y=\"-1018.3\" font-family=\"Times,serif\" font-size=\"14.00\">0.0</text>\n</g>\n<!-- 136744903923296&#45;&gt;136744903547232+ -->\n<g id=\"edge155\" class=\"edge\">\n<title>136744903923296&#45;&gt;136744903547232+</title>\n<path fill=\"none\" stroke=\"black\" d=\"M2316.36,-1045C2326.16,-1045 2335.9,-1045 2344.73,-1045\"/>\n<polygon fill=\"black\" stroke=\"black\" points=\"2344.99,-1048.5 2354.99,-1045 2344.99,-1041.5 2344.99,-1048.5\"/>\n</g>\n<!-- 136744903923296+&#45;&gt;136744903923296 -->\n<g id=\"edge44\" class=\"edge\">\n<title>136744903923296+&#45;&gt;136744903923296</title>\n<path fill=\"none\" stroke=\"black\" d=\"M2137.15,-1046.61C2145.55,-1046.48 2155.33,-1046.34 2165.51,-1046.19\"/>\n<polygon fill=\"black\" stroke=\"black\" points=\"2165.84,-1049.68 2175.79,-1046.03 2165.74,-1042.68 2165.84,-1049.68\"/>\n</g>\n<!-- 136744902235792 -->\n<g id=\"node113\" class=\"node\">\n<title>136744902235792</title>\n<polygon fill=\"none\" stroke=\"black\" points=\"1360,-1364.5 1360,-1433.5 1500,-1433.5 1500,-1364.5 1360,-1364.5\"/>\n<text text-anchor=\"middle\" x=\"1430\" y=\"-1418.3\" font-family=\"Times,serif\" font-size=\"14.00\"> </text>\n<polyline fill=\"none\" stroke=\"black\" points=\"1360,-1410.5 1500,-1410.5 \"/>\n<text text-anchor=\"middle\" x=\"1430\" y=\"-1395.3\" font-family=\"Times,serif\" font-size=\"14.00\">&#45;0.9857501238882092</text>\n<polyline fill=\"none\" stroke=\"black\" points=\"1360,-1387.5 1500,-1387.5 \"/>\n<text text-anchor=\"middle\" x=\"1430\" y=\"-1372.3\" font-family=\"Times,serif\" font-size=\"14.00\">0.0</text>\n</g>\n<!-- 136744902235792&#45;&gt;136744903923488* -->\n<g id=\"edge133\" class=\"edge\">\n<title>136744902235792&#45;&gt;136744903923488*</title>\n<path fill=\"none\" stroke=\"black\" d=\"M1500.34,-1399C1509.13,-1399 1517.82,-1399 1525.79,-1399\"/>\n<polygon fill=\"black\" stroke=\"black\" points=\"1525.8,-1402.5 1535.8,-1399 1525.8,-1395.5 1525.8,-1402.5\"/>\n</g>\n<!-- 136744902244000 -->\n<g id=\"node114\" class=\"node\">\n<title>136744902244000</title>\n<polygon fill=\"none\" stroke=\"black\" points=\"1908.5,-924.5 1908.5,-993.5 2036.5,-993.5 2036.5,-924.5 1908.5,-924.5\"/>\n<text text-anchor=\"middle\" x=\"1972.5\" y=\"-978.3\" font-family=\"Times,serif\" font-size=\"14.00\"> </text>\n<polyline fill=\"none\" stroke=\"black\" points=\"1908.5,-970.5 2036.5,-970.5 \"/>\n<text text-anchor=\"middle\" x=\"1972.5\" y=\"-955.3\" font-family=\"Times,serif\" font-size=\"14.00\">0.536664545370418</text>\n<polyline fill=\"none\" stroke=\"black\" points=\"1908.5,-947.5 2036.5,-947.5 \"/>\n<text text-anchor=\"middle\" x=\"1972.5\" y=\"-932.3\" font-family=\"Times,serif\" font-size=\"14.00\">0.0</text>\n</g>\n<!-- 136744902244000&#45;&gt;136744902244192+ -->\n<g id=\"edge101\" class=\"edge\">\n<title>136744902244000&#45;&gt;136744902244192+</title>\n<path fill=\"none\" stroke=\"black\" d=\"M2036.89,-959C2049.2,-959 2061.72,-959 2072.78,-959\"/>\n<polygon fill=\"black\" stroke=\"black\" points=\"2072.9,-962.5 2082.9,-959 2072.9,-955.5 2072.9,-962.5\"/>\n</g>\n<!-- 136744902244000*&#45;&gt;136744902244000 -->\n<g id=\"edge45\" class=\"edge\">\n<title>136744902244000*&#45;&gt;136744902244000</title>\n<path fill=\"none\" stroke=\"black\" d=\"M1862.13,-959C1872.56,-959 1885.15,-959 1898.02,-959\"/>\n<polygon fill=\"black\" stroke=\"black\" points=\"1898.36,-962.5 1908.36,-959 1898.36,-955.5 1898.36,-962.5\"/>\n</g>\n<!-- 136744903923392 -->\n<g id=\"node116\" class=\"node\">\n<title>136744903923392</title>\n<polygon fill=\"none\" stroke=\"black\" points=\"1906,-1012.5 1906,-1081.5 2039,-1081.5 2039,-1012.5 1906,-1012.5\"/>\n<text text-anchor=\"middle\" x=\"1972.5\" y=\"-1066.3\" font-family=\"Times,serif\" font-size=\"14.00\"> </text>\n<polyline fill=\"none\" stroke=\"black\" points=\"1906,-1058.5 2039,-1058.5 \"/>\n<text text-anchor=\"middle\" x=\"1972.5\" y=\"-1043.3\" font-family=\"Times,serif\" font-size=\"14.00\">&#45;0.242801262888713</text>\n<polyline fill=\"none\" stroke=\"black\" points=\"1906,-1035.5 2039,-1035.5 \"/>\n<text text-anchor=\"middle\" x=\"1972.5\" y=\"-1020.3\" font-family=\"Times,serif\" font-size=\"14.00\">0.0</text>\n</g>\n<!-- 136744903923392&#45;&gt;136744903923296+ -->\n<g id=\"edge130\" class=\"edge\">\n<title>136744903923392&#45;&gt;136744903923296+</title>\n<path fill=\"none\" stroke=\"black\" d=\"M2039.27,-1047C2050.78,-1047 2062.36,-1047 2072.7,-1047\"/>\n<polygon fill=\"black\" stroke=\"black\" points=\"2072.95,-1050.5 2082.95,-1047 2072.95,-1043.5 2072.95,-1050.5\"/>\n</g>\n<!-- 136744903923392*&#45;&gt;136744903923392 -->\n<g id=\"edge46\" class=\"edge\">\n<title>136744903923392*&#45;&gt;136744903923392</title>\n<path fill=\"none\" stroke=\"black\" d=\"M1862.13,-1047C1871.92,-1047 1883.61,-1047 1895.64,-1047\"/>\n<polygon fill=\"black\" stroke=\"black\" points=\"1895.8,-1050.5 1905.8,-1047 1895.8,-1043.5 1895.8,-1050.5\"/>\n</g>\n<!-- 136744902235888 -->\n<g id=\"node118\" class=\"node\">\n<title>136744902235888</title>\n<polygon fill=\"none\" stroke=\"black\" points=\"1635,-1188.5 1635,-1257.5 1763,-1257.5 1763,-1188.5 1635,-1188.5\"/>\n<text text-anchor=\"middle\" x=\"1699\" y=\"-1242.3\" font-family=\"Times,serif\" font-size=\"14.00\"> </text>\n<polyline fill=\"none\" stroke=\"black\" points=\"1635,-1234.5 1763,-1234.5 \"/>\n<text text-anchor=\"middle\" x=\"1699\" y=\"-1219.3\" font-family=\"Times,serif\" font-size=\"14.00\">0.262608082086186</text>\n<polyline fill=\"none\" stroke=\"black\" points=\"1635,-1211.5 1763,-1211.5 \"/>\n<text text-anchor=\"middle\" x=\"1699\" y=\"-1196.3\" font-family=\"Times,serif\" font-size=\"14.00\">0.0</text>\n</g>\n<!-- 136744902235888&#45;&gt;136744902243184+ -->\n<g id=\"edge181\" class=\"edge\">\n<title>136744902235888&#45;&gt;136744902243184+</title>\n<path fill=\"none\" stroke=\"black\" d=\"M1757.6,-1188.29C1762.5,-1185.19 1767.35,-1182.06 1772,-1179 1784,-1171.09 1797.01,-1161.95 1808,-1154.05\"/>\n<polygon fill=\"black\" stroke=\"black\" points=\"1810.26,-1156.73 1816.32,-1148.04 1806.16,-1151.06 1810.26,-1156.73\"/>\n</g>\n<!-- 136744903923488 -->\n<g id=\"node119\" class=\"node\">\n<title>136744903923488</title>\n<polygon fill=\"none\" stroke=\"black\" points=\"1631.5,-1364.5 1631.5,-1433.5 1766.5,-1433.5 1766.5,-1364.5 1631.5,-1364.5\"/>\n<text text-anchor=\"middle\" x=\"1699\" y=\"-1418.3\" font-family=\"Times,serif\" font-size=\"14.00\"> </text>\n<polyline fill=\"none\" stroke=\"black\" points=\"1631.5,-1410.5 1766.5,-1410.5 \"/>\n<text text-anchor=\"middle\" x=\"1699\" y=\"-1395.3\" font-family=\"Times,serif\" font-size=\"14.00\">0.8266871995681017</text>\n<polyline fill=\"none\" stroke=\"black\" points=\"1631.5,-1387.5 1766.5,-1387.5 \"/>\n<text text-anchor=\"middle\" x=\"1699\" y=\"-1372.3\" font-family=\"Times,serif\" font-size=\"14.00\">0.0</text>\n</g>\n<!-- 136744903923488&#45;&gt;136744903919600+ -->\n<g id=\"edge171\" class=\"edge\">\n<title>136744903923488&#45;&gt;136744903919600+</title>\n<path fill=\"none\" stroke=\"black\" d=\"M1766.61,-1399C1777.41,-1399 1788.23,-1399 1797.94,-1399\"/>\n<polygon fill=\"black\" stroke=\"black\" points=\"1797.98,-1402.5 1807.98,-1399 1797.98,-1395.5 1797.98,-1402.5\"/>\n</g>\n<!-- 136744903923488*&#45;&gt;136744903923488 -->\n<g id=\"edge47\" class=\"edge\">\n<title>136744903923488*&#45;&gt;136744903923488</title>\n<path fill=\"none\" stroke=\"black\" d=\"M1590.15,-1399C1599.25,-1399 1609.97,-1399 1621.07,-1399\"/>\n<polygon fill=\"black\" stroke=\"black\" points=\"1621.32,-1402.5 1631.32,-1399 1621.32,-1395.5 1621.32,-1402.5\"/>\n</g>\n<!-- 136744902235936 -->\n<g id=\"node121\" class=\"node\">\n<title>136744902235936</title>\n<polygon fill=\"none\" stroke=\"black\" points=\"2176,-1274.5 2176,-1343.5 2316,-1343.5 2316,-1274.5 2176,-1274.5\"/>\n<text text-anchor=\"middle\" x=\"2246\" y=\"-1328.3\" font-family=\"Times,serif\" font-size=\"14.00\"> </text>\n<polyline fill=\"none\" stroke=\"black\" points=\"2176,-1320.5 2316,-1320.5 \"/>\n<text text-anchor=\"middle\" x=\"2246\" y=\"-1305.3\" font-family=\"Times,serif\" font-size=\"14.00\">&#45;0.9449798663230458</text>\n<polyline fill=\"none\" stroke=\"black\" points=\"2176,-1297.5 2316,-1297.5 \"/>\n<text text-anchor=\"middle\" x=\"2246\" y=\"-1282.3\" font-family=\"Times,serif\" font-size=\"14.00\">0.0</text>\n</g>\n<!-- 136744902235936&#45;&gt;136744902244864* -->\n<g id=\"edge79\" class=\"edge\">\n<title>136744902235936&#45;&gt;136744902244864*</title>\n<path fill=\"none\" stroke=\"black\" d=\"M2304.6,-1274.29C2309.5,-1271.19 2314.35,-1268.06 2319,-1265 2331,-1257.09 2344.01,-1247.95 2355,-1240.05\"/>\n<polygon fill=\"black\" stroke=\"black\" points=\"2357.26,-1242.73 2363.32,-1234.04 2353.16,-1237.06 2357.26,-1242.73\"/>\n</g>\n<!-- 136744902235984 -->\n<g id=\"node122\" class=\"node\">\n<title>136744902235984</title>\n<polygon fill=\"none\" stroke=\"black\" points=\"1899.5,-572.5 1899.5,-641.5 2045.5,-641.5 2045.5,-572.5 1899.5,-572.5\"/>\n<text text-anchor=\"middle\" x=\"1972.5\" y=\"-626.3\" font-family=\"Times,serif\" font-size=\"14.00\"> </text>\n<polyline fill=\"none\" stroke=\"black\" points=\"1899.5,-618.5 2045.5,-618.5 \"/>\n<text text-anchor=\"middle\" x=\"1972.5\" y=\"-603.3\" font-family=\"Times,serif\" font-size=\"14.00\">&#45;0.44392969377444236</text>\n<polyline fill=\"none\" stroke=\"black\" points=\"1899.5,-595.5 2045.5,-595.5 \"/>\n<text text-anchor=\"middle\" x=\"1972.5\" y=\"-580.3\" font-family=\"Times,serif\" font-size=\"14.00\">0.0</text>\n</g>\n<!-- 136744902235984&#45;&gt;136744902244432* -->\n<g id=\"edge89\" class=\"edge\">\n<title>136744902235984&#45;&gt;136744902244432*</title>\n<path fill=\"none\" stroke=\"black\" d=\"M2045.61,-605.94C2054.95,-605.8 2064.17,-605.66 2072.57,-605.54\"/>\n<polygon fill=\"black\" stroke=\"black\" points=\"2072.76,-609.04 2082.71,-605.39 2072.66,-602.04 2072.76,-609.04\"/>\n</g>\n<!-- 136744902244192 -->\n<g id=\"node123\" class=\"node\">\n<title>136744902244192</title>\n<polygon fill=\"none\" stroke=\"black\" points=\"2175,-922.5 2175,-991.5 2317,-991.5 2317,-922.5 2175,-922.5\"/>\n<text text-anchor=\"middle\" x=\"2246\" y=\"-976.3\" font-family=\"Times,serif\" font-size=\"14.00\"> </text>\n<polyline fill=\"none\" stroke=\"black\" points=\"2175,-968.5 2317,-968.5 \"/>\n<text text-anchor=\"middle\" x=\"2246\" y=\"-953.3\" font-family=\"Times,serif\" font-size=\"14.00\">0.17069171508791825</text>\n<polyline fill=\"none\" stroke=\"black\" points=\"2175,-945.5 2317,-945.5 \"/>\n<text text-anchor=\"middle\" x=\"2246\" y=\"-930.3\" font-family=\"Times,serif\" font-size=\"14.00\">0.0</text>\n</g>\n<!-- 136744902244624+ -->\n<g id=\"node143\" class=\"node\">\n<title>136744902244624+</title>\n<ellipse fill=\"none\" stroke=\"black\" cx=\"2382\" cy=\"-869\" rx=\"27\" ry=\"18\"/>\n<text text-anchor=\"middle\" x=\"2382\" y=\"-865.3\" font-family=\"Times,serif\" font-size=\"14.00\">+</text>\n</g>\n<!-- 136744902244192&#45;&gt;136744902244624+ -->\n<g id=\"edge92\" class=\"edge\">\n<title>136744902244192&#45;&gt;136744902244624+</title>\n<path fill=\"none\" stroke=\"black\" d=\"M2304.6,-922.29C2309.5,-919.19 2314.35,-916.06 2319,-913 2331,-905.09 2344.01,-895.95 2355,-888.05\"/>\n<polygon fill=\"black\" stroke=\"black\" points=\"2357.26,-890.73 2363.32,-882.04 2353.16,-885.06 2357.26,-890.73\"/>\n</g>\n<!-- 136744902244192+&#45;&gt;136744902244192 -->\n<g id=\"edge48\" class=\"edge\">\n<title>136744902244192+&#45;&gt;136744902244192</title>\n<path fill=\"none\" stroke=\"black\" d=\"M2137.15,-958.61C2145.38,-958.49 2154.93,-958.34 2164.89,-958.2\"/>\n<polygon fill=\"black\" stroke=\"black\" points=\"2165,-961.69 2174.95,-958.05 2164.9,-954.7 2165,-961.69\"/>\n</g>\n<!-- 136744902236032 -->\n<g id=\"node125\" class=\"node\">\n<title>136744902236032</title>\n<polygon fill=\"none\" stroke=\"black\" points=\"1629,-924.5 1629,-993.5 1769,-993.5 1769,-924.5 1629,-924.5\"/>\n<text text-anchor=\"middle\" x=\"1699\" y=\"-978.3\" font-family=\"Times,serif\" font-size=\"14.00\"> </text>\n<polyline fill=\"none\" stroke=\"black\" points=\"1629,-970.5 1769,-970.5 \"/>\n<text text-anchor=\"middle\" x=\"1699\" y=\"-955.3\" font-family=\"Times,serif\" font-size=\"14.00\">&#45;0.5452396551047844</text>\n<polyline fill=\"none\" stroke=\"black\" points=\"1629,-947.5 1769,-947.5 \"/>\n<text text-anchor=\"middle\" x=\"1699\" y=\"-932.3\" font-family=\"Times,serif\" font-size=\"14.00\">0.0</text>\n</g>\n<!-- 136744902236032&#45;&gt;136744902244000* -->\n<g id=\"edge185\" class=\"edge\">\n<title>136744902236032&#45;&gt;136744902244000*</title>\n<path fill=\"none\" stroke=\"black\" d=\"M1769.36,-959C1779.16,-959 1788.9,-959 1797.73,-959\"/>\n<polygon fill=\"black\" stroke=\"black\" points=\"1797.99,-962.5 1807.99,-959 1797.99,-955.5 1797.99,-962.5\"/>\n</g>\n<!-- 136744905111440 -->\n<g id=\"node126\" class=\"node\">\n<title>136744905111440</title>\n<polygon fill=\"none\" stroke=\"black\" points=\"2988.5,-1164.5 2988.5,-1233.5 3123.5,-1233.5 3123.5,-1164.5 2988.5,-1164.5\"/>\n<text text-anchor=\"middle\" x=\"3056\" y=\"-1218.3\" font-family=\"Times,serif\" font-size=\"14.00\"> </text>\n<polyline fill=\"none\" stroke=\"black\" points=\"2988.5,-1210.5 3123.5,-1210.5 \"/>\n<text text-anchor=\"middle\" x=\"3056\" y=\"-1195.3\" font-family=\"Times,serif\" font-size=\"14.00\">0.5905779544367558</text>\n<polyline fill=\"none\" stroke=\"black\" points=\"2988.5,-1187.5 3123.5,-1187.5 \"/>\n<text text-anchor=\"middle\" x=\"3056\" y=\"-1172.3\" font-family=\"Times,serif\" font-size=\"14.00\">0.0</text>\n</g>\n<!-- 136744905111440&#45;&gt;136744902648704* -->\n<g id=\"edge206\" class=\"edge\">\n<title>136744905111440&#45;&gt;136744902648704*</title>\n<path fill=\"none\" stroke=\"black\" d=\"M3114.6,-1164.29C3119.5,-1161.19 3124.35,-1158.06 3129,-1155 3141,-1147.09 3154.01,-1137.95 3165,-1130.05\"/>\n<polygon fill=\"black\" stroke=\"black\" points=\"3167.26,-1132.73 3173.32,-1124.04 3163.16,-1127.06 3167.26,-1132.73\"/>\n</g>\n<!-- 136744905111488 -->\n<g id=\"node127\" class=\"node\">\n<title>136744905111488</title>\n<polygon fill=\"none\" stroke=\"black\" points=\"2988.5,-988.5 2988.5,-1057.5 3123.5,-1057.5 3123.5,-988.5 2988.5,-988.5\"/>\n<text text-anchor=\"middle\" x=\"3056\" y=\"-1042.3\" font-family=\"Times,serif\" font-size=\"14.00\"> </text>\n<polyline fill=\"none\" stroke=\"black\" points=\"2988.5,-1034.5 3123.5,-1034.5 \"/>\n<text text-anchor=\"middle\" x=\"3056\" y=\"-1019.3\" font-family=\"Times,serif\" font-size=\"14.00\">0.0881574453171492</text>\n<polyline fill=\"none\" stroke=\"black\" points=\"2988.5,-1011.5 3123.5,-1011.5 \"/>\n<text text-anchor=\"middle\" x=\"3056\" y=\"-996.3\" font-family=\"Times,serif\" font-size=\"14.00\">0.0</text>\n</g>\n<!-- 136744905111488&#45;&gt;136744902648320* -->\n<g id=\"edge87\" class=\"edge\">\n<title>136744905111488&#45;&gt;136744902648320*</title>\n<path fill=\"none\" stroke=\"black\" d=\"M3123.61,-1007.59C3134.92,-1004.97 3146.24,-1002.35 3156.29,-1000.03\"/>\n<polygon fill=\"black\" stroke=\"black\" points=\"3157.3,-1003.39 3166.25,-997.73 3155.72,-996.57 3157.3,-1003.39\"/>\n</g>\n<!-- 136744902645728 -->\n<g id=\"node128\" class=\"node\">\n<title>136744902645728</title>\n<polygon fill=\"none\" stroke=\"black\" points=\"2173,-384.5 2173,-453.5 2319,-453.5 2319,-384.5 2173,-384.5\"/>\n<text text-anchor=\"middle\" x=\"2246\" y=\"-438.3\" font-family=\"Times,serif\" font-size=\"14.00\"> </text>\n<polyline fill=\"none\" stroke=\"black\" points=\"2173,-430.5 2319,-430.5 \"/>\n<text text-anchor=\"middle\" x=\"2246\" y=\"-415.3\" font-family=\"Times,serif\" font-size=\"14.00\">&#45;0.28641160926550147</text>\n<polyline fill=\"none\" stroke=\"black\" points=\"2173,-407.5 2319,-407.5 \"/>\n<text text-anchor=\"middle\" x=\"2246\" y=\"-392.3\" font-family=\"Times,serif\" font-size=\"14.00\">0.0</text>\n</g>\n<!-- 136744902645728&#45;&gt;136744902645824+ -->\n<g id=\"edge105\" class=\"edge\">\n<title>136744902645728&#45;&gt;136744902645824+</title>\n<path fill=\"none\" stroke=\"black\" d=\"M2305.12,-453.72C2310.38,-458.66 2315.16,-464.09 2319,-470 2349.45,-516.92 2370.62,-685.28 2378.06,-752.74\"/>\n<polygon fill=\"black\" stroke=\"black\" points=\"2374.62,-753.47 2379.17,-763.04 2381.58,-752.72 2374.62,-753.47\"/>\n</g>\n<!-- 136744902645728*&#45;&gt;136744902645728 -->\n<g id=\"edge49\" class=\"edge\">\n<title>136744902645728*&#45;&gt;136744902645728</title>\n<path fill=\"none\" stroke=\"black\" d=\"M2131.35,-356.24C2142.8,-362.56 2157.85,-370.87 2173.23,-379.37\"/>\n<polygon fill=\"black\" stroke=\"black\" points=\"2171.86,-382.61 2182.31,-384.38 2175.25,-376.48 2171.86,-382.61\"/>\n</g>\n<!-- 136744902236128 -->\n<g id=\"node130\" class=\"node\">\n<title>136744902236128</title>\n<polygon fill=\"none\" stroke=\"black\" points=\"1362.5,-1100.5 1362.5,-1169.5 1497.5,-1169.5 1497.5,-1100.5 1362.5,-1100.5\"/>\n<text text-anchor=\"middle\" x=\"1430\" y=\"-1154.3\" font-family=\"Times,serif\" font-size=\"14.00\"> </text>\n<polyline fill=\"none\" stroke=\"black\" points=\"1362.5,-1146.5 1497.5,-1146.5 \"/>\n<text text-anchor=\"middle\" x=\"1430\" y=\"-1131.3\" font-family=\"Times,serif\" font-size=\"14.00\">0.7495261963230042</text>\n<polyline fill=\"none\" stroke=\"black\" points=\"1362.5,-1123.5 1497.5,-1123.5 \"/>\n<text text-anchor=\"middle\" x=\"1430\" y=\"-1108.3\" font-family=\"Times,serif\" font-size=\"14.00\">0.0</text>\n</g>\n<!-- 136744902236128&#45;&gt;136744902243376* -->\n<g id=\"edge106\" class=\"edge\">\n<title>136744902236128&#45;&gt;136744902243376*</title>\n<path fill=\"none\" stroke=\"black\" d=\"M1497.65,-1135C1507.27,-1135 1516.85,-1135 1525.57,-1135\"/>\n<polygon fill=\"black\" stroke=\"black\" points=\"1525.73,-1138.5 1535.73,-1135 1525.73,-1131.5 1525.73,-1138.5\"/>\n</g>\n<!-- 136744902645824 -->\n<g id=\"node131\" class=\"node\">\n<title>136744902645824</title>\n<polygon fill=\"none\" stroke=\"black\" points=\"2445,-746.5 2445,-815.5 2591,-815.5 2591,-746.5 2445,-746.5\"/>\n<text text-anchor=\"middle\" x=\"2518\" y=\"-800.3\" font-family=\"Times,serif\" font-size=\"14.00\"> </text>\n<polyline fill=\"none\" stroke=\"black\" points=\"2445,-792.5 2591,-792.5 \"/>\n<text text-anchor=\"middle\" x=\"2518\" y=\"-777.3\" font-family=\"Times,serif\" font-size=\"14.00\">&#45;0.13255340565898485</text>\n<polyline fill=\"none\" stroke=\"black\" points=\"2445,-769.5 2591,-769.5 \"/>\n<text text-anchor=\"middle\" x=\"2518\" y=\"-754.3\" font-family=\"Times,serif\" font-size=\"14.00\">0.0</text>\n</g>\n<!-- 136744902646208+ -->\n<g id=\"node149\" class=\"node\">\n<title>136744902646208+</title>\n<ellipse fill=\"none\" stroke=\"black\" cx=\"2654\" cy=\"-847\" rx=\"27\" ry=\"18\"/>\n<text text-anchor=\"middle\" x=\"2654\" y=\"-843.3\" font-family=\"Times,serif\" font-size=\"14.00\">+</text>\n</g>\n<!-- 136744902645824&#45;&gt;136744902646208+ -->\n<g id=\"edge166\" class=\"edge\">\n<title>136744902645824&#45;&gt;136744902646208+</title>\n<path fill=\"none\" stroke=\"black\" d=\"M2589.14,-815.55C2600.94,-821.36 2612.62,-827.11 2622.69,-832.07\"/>\n<polygon fill=\"black\" stroke=\"black\" points=\"2621.3,-835.29 2631.81,-836.56 2624.39,-829.01 2621.3,-835.29\"/>\n</g>\n<!-- 136744902645824+&#45;&gt;136744902645824 -->\n<g id=\"edge50\" class=\"edge\">\n<title>136744902645824+&#45;&gt;136744902645824</title>\n<path fill=\"none\" stroke=\"black\" d=\"M2409.15,-781C2416.82,-781 2425.63,-781 2434.85,-781\"/>\n<polygon fill=\"black\" stroke=\"black\" points=\"2434.98,-784.5 2444.98,-781 2434.98,-777.5 2434.98,-784.5\"/>\n</g>\n<!-- 136744902244432 -->\n<g id=\"node133\" class=\"node\">\n<title>136744902244432</title>\n<polygon fill=\"none\" stroke=\"black\" points=\"2179.5,-570.5 2179.5,-639.5 2312.5,-639.5 2312.5,-570.5 2179.5,-570.5\"/>\n<text text-anchor=\"middle\" x=\"2246\" y=\"-624.3\" font-family=\"Times,serif\" font-size=\"14.00\"> </text>\n<polyline fill=\"none\" stroke=\"black\" points=\"2179.5,-616.5 2312.5,-616.5 \"/>\n<text text-anchor=\"middle\" x=\"2246\" y=\"-601.3\" font-family=\"Times,serif\" font-size=\"14.00\">&#45;0.437240171867286</text>\n<polyline fill=\"none\" stroke=\"black\" points=\"2179.5,-593.5 2312.5,-593.5 \"/>\n<text text-anchor=\"middle\" x=\"2246\" y=\"-578.3\" font-family=\"Times,serif\" font-size=\"14.00\">0.0</text>\n</g>\n<!-- 136744902244432&#45;&gt;136744902244624+ -->\n<g id=\"edge134\" class=\"edge\">\n<title>136744902244432&#45;&gt;136744902244624+</title>\n<path fill=\"none\" stroke=\"black\" d=\"M2310.91,-639.61C2313.88,-642.54 2316.61,-645.67 2319,-649 2361.24,-707.87 2332.7,-739.06 2355,-808 2358.77,-819.66 2363.9,-832.16 2368.6,-842.8\"/>\n<polygon fill=\"black\" stroke=\"black\" points=\"2365.44,-844.3 2372.76,-851.96 2371.82,-841.41 2365.44,-844.3\"/>\n</g>\n<!-- 136744902244432*&#45;&gt;136744902244432 -->\n<g id=\"edge51\" class=\"edge\">\n<title>136744902244432*&#45;&gt;136744902244432</title>\n<path fill=\"none\" stroke=\"black\" d=\"M2137.15,-605C2146.58,-605 2157.75,-605 2169.27,-605\"/>\n<polygon fill=\"black\" stroke=\"black\" points=\"2169.45,-608.5 2179.45,-605 2169.45,-601.5 2169.45,-608.5\"/>\n</g>\n<!-- 136744902236320 -->\n<g id=\"node135\" class=\"node\">\n<title>136744902236320</title>\n<polygon fill=\"none\" stroke=\"black\" points=\"1093.5,-1364.5 1093.5,-1433.5 1228.5,-1433.5 1228.5,-1364.5 1093.5,-1364.5\"/>\n<text text-anchor=\"middle\" x=\"1161\" y=\"-1418.3\" font-family=\"Times,serif\" font-size=\"14.00\"> </text>\n<polyline fill=\"none\" stroke=\"black\" points=\"1093.5,-1410.5 1228.5,-1410.5 \"/>\n<text text-anchor=\"middle\" x=\"1161\" y=\"-1395.3\" font-family=\"Times,serif\" font-size=\"14.00\">0.4651283596270852</text>\n<polyline fill=\"none\" stroke=\"black\" points=\"1093.5,-1387.5 1228.5,-1387.5 \"/>\n<text text-anchor=\"middle\" x=\"1161\" y=\"-1372.3\" font-family=\"Times,serif\" font-size=\"14.00\">0.0</text>\n</g>\n<!-- 136744902236320&#45;&gt;136744902240544+ -->\n<g id=\"edge128\" class=\"edge\">\n<title>136744902236320&#45;&gt;136744902240544+</title>\n<path fill=\"none\" stroke=\"black\" d=\"M1219.6,-1433.71C1224.5,-1436.81 1229.35,-1439.94 1234,-1443 1246,-1450.91 1259.01,-1460.05 1270,-1467.95\"/>\n<polygon fill=\"black\" stroke=\"black\" points=\"1268.16,-1470.94 1278.32,-1473.96 1272.26,-1465.27 1268.16,-1470.94\"/>\n</g>\n<!-- 136744902236368 -->\n<g id=\"node136\" class=\"node\">\n<title>136744902236368</title>\n<polygon fill=\"none\" stroke=\"black\" points=\"1360,-1276.5 1360,-1345.5 1500,-1345.5 1500,-1276.5 1360,-1276.5\"/>\n<text text-anchor=\"middle\" x=\"1430\" y=\"-1330.3\" font-family=\"Times,serif\" font-size=\"14.00\"> </text>\n<polyline fill=\"none\" stroke=\"black\" points=\"1360,-1322.5 1500,-1322.5 \"/>\n<text text-anchor=\"middle\" x=\"1430\" y=\"-1307.3\" font-family=\"Times,serif\" font-size=\"14.00\">&#45;0.3567997777627807</text>\n<polyline fill=\"none\" stroke=\"black\" points=\"1360,-1299.5 1500,-1299.5 \"/>\n<text text-anchor=\"middle\" x=\"1430\" y=\"-1284.3\" font-family=\"Times,serif\" font-size=\"14.00\">0.0</text>\n</g>\n<!-- 136744902236368&#45;&gt;136744902239392* -->\n<g id=\"edge138\" class=\"edge\">\n<title>136744902236368&#45;&gt;136744902239392*</title>\n<path fill=\"none\" stroke=\"black\" d=\"M1500.34,-1311C1509.13,-1311 1517.82,-1311 1525.79,-1311\"/>\n<polygon fill=\"black\" stroke=\"black\" points=\"1525.8,-1314.5 1535.8,-1311 1525.8,-1307.5 1525.8,-1314.5\"/>\n</g>\n<!-- 136744902236416 -->\n<g id=\"node137\" class=\"node\">\n<title>136744902236416</title>\n<polygon fill=\"none\" stroke=\"black\" points=\"1093.5,-1540.5 1093.5,-1609.5 1228.5,-1609.5 1228.5,-1540.5 1093.5,-1540.5\"/>\n<text text-anchor=\"middle\" x=\"1161\" y=\"-1594.3\" font-family=\"Times,serif\" font-size=\"14.00\"> </text>\n<polyline fill=\"none\" stroke=\"black\" points=\"1093.5,-1586.5 1228.5,-1586.5 \"/>\n<text text-anchor=\"middle\" x=\"1161\" y=\"-1571.3\" font-family=\"Times,serif\" font-size=\"14.00\">0.5492975364136661</text>\n<polyline fill=\"none\" stroke=\"black\" points=\"1093.5,-1563.5 1228.5,-1563.5 \"/>\n<text text-anchor=\"middle\" x=\"1161\" y=\"-1548.3\" font-family=\"Times,serif\" font-size=\"14.00\">0.0</text>\n</g>\n<!-- 136744902236416&#45;&gt;136744902240256* -->\n<g id=\"edge136\" class=\"edge\">\n<title>136744902236416&#45;&gt;136744902240256*</title>\n<path fill=\"none\" stroke=\"black\" d=\"M1228.61,-1575C1239.41,-1575 1250.23,-1575 1259.94,-1575\"/>\n<polygon fill=\"black\" stroke=\"black\" points=\"1259.98,-1578.5 1269.98,-1575 1259.98,-1571.5 1259.98,-1578.5\"/>\n</g>\n<!-- 136744902646016 -->\n<g id=\"node138\" class=\"node\">\n<title>136744902646016</title>\n<polygon fill=\"none\" stroke=\"black\" points=\"2445,-1098.5 2445,-1167.5 2591,-1167.5 2591,-1098.5 2445,-1098.5\"/>\n<text text-anchor=\"middle\" x=\"2518\" y=\"-1152.3\" font-family=\"Times,serif\" font-size=\"14.00\"> </text>\n<polyline fill=\"none\" stroke=\"black\" points=\"2445,-1144.5 2591,-1144.5 \"/>\n<text text-anchor=\"middle\" x=\"2518\" y=\"-1129.3\" font-family=\"Times,serif\" font-size=\"14.00\">&#45;0.20248063028556457</text>\n<polyline fill=\"none\" stroke=\"black\" points=\"2445,-1121.5 2591,-1121.5 \"/>\n<text text-anchor=\"middle\" x=\"2518\" y=\"-1106.3\" font-family=\"Times,serif\" font-size=\"14.00\">0.0</text>\n</g>\n<!-- 136744902646016&#45;&gt;136744902646208+ -->\n<g id=\"edge108\" class=\"edge\">\n<title>136744902646016&#45;&gt;136744902646208+</title>\n<path fill=\"none\" stroke=\"black\" d=\"M2583.02,-1098.47C2585.96,-1095.52 2588.65,-1092.36 2591,-1089 2637.94,-1021.74 2602.79,-986.37 2627,-908 2630.62,-896.29 2635.72,-883.78 2640.45,-873.15\"/>\n<polygon fill=\"black\" stroke=\"black\" points=\"2643.66,-874.55 2644.63,-864 2637.29,-871.64 2643.66,-874.55\"/>\n</g>\n<!-- 136744902646016*&#45;&gt;136744902646016 -->\n<g id=\"edge52\" class=\"edge\">\n<title>136744902646016*&#45;&gt;136744902646016</title>\n<path fill=\"none\" stroke=\"black\" d=\"M2409.15,-1133C2416.82,-1133 2425.63,-1133 2434.85,-1133\"/>\n<polygon fill=\"black\" stroke=\"black\" points=\"2434.98,-1136.5 2444.98,-1133 2434.98,-1129.5 2434.98,-1136.5\"/>\n</g>\n<!-- 136744902310160 -->\n<g id=\"node140\" class=\"node\">\n<title>136744902310160</title>\n<polygon fill=\"none\" stroke=\"black\" points=\"2989.5,-1076.5 2989.5,-1145.5 3122.5,-1145.5 3122.5,-1076.5 2989.5,-1076.5\"/>\n<text text-anchor=\"middle\" x=\"3056\" y=\"-1130.3\" font-family=\"Times,serif\" font-size=\"14.00\"> </text>\n<polyline fill=\"none\" stroke=\"black\" points=\"2989.5,-1122.5 3122.5,-1122.5 \"/>\n<text text-anchor=\"middle\" x=\"3056\" y=\"-1107.3\" font-family=\"Times,serif\" font-size=\"14.00\">&#45;0.809786187986151</text>\n<polyline fill=\"none\" stroke=\"black\" points=\"2989.5,-1099.5 3122.5,-1099.5 \"/>\n<text text-anchor=\"middle\" x=\"3056\" y=\"-1084.3\" font-family=\"Times,serif\" font-size=\"14.00\">0.0</text>\n</g>\n<!-- 136744902310160&#45;&gt;136744902648704* -->\n<g id=\"edge143\" class=\"edge\">\n<title>136744902310160&#45;&gt;136744902648704*</title>\n<path fill=\"none\" stroke=\"black\" d=\"M3122.82,-1111C3133.81,-1111 3144.83,-1111 3154.72,-1111\"/>\n<polygon fill=\"black\" stroke=\"black\" points=\"3154.95,-1114.5 3164.95,-1111 3154.95,-1107.5 3154.95,-1114.5\"/>\n</g>\n<!-- 136744902310160tanh&#45;&gt;136744902310160 -->\n<g id=\"edge53\" class=\"edge\">\n<title>136744902310160tanh&#45;&gt;136744902310160</title>\n<path fill=\"none\" stroke=\"black\" d=\"M2947.15,-1111C2956.58,-1111 2967.75,-1111 2979.27,-1111\"/>\n<polygon fill=\"black\" stroke=\"black\" points=\"2979.45,-1114.5 2989.45,-1111 2979.45,-1107.5 2979.45,-1114.5\"/>\n</g>\n<!-- 136744902244624 -->\n<g id=\"node142\" class=\"node\">\n<title>136744902244624</title>\n<polygon fill=\"none\" stroke=\"black\" points=\"2448,-834.5 2448,-903.5 2588,-903.5 2588,-834.5 2448,-834.5\"/>\n<text text-anchor=\"middle\" x=\"2518\" y=\"-888.3\" font-family=\"Times,serif\" font-size=\"14.00\"> </text>\n<polyline fill=\"none\" stroke=\"black\" points=\"2448,-880.5 2588,-880.5 \"/>\n<text text-anchor=\"middle\" x=\"2518\" y=\"-865.3\" font-family=\"Times,serif\" font-size=\"14.00\">&#45;0.2665484567793677</text>\n<polyline fill=\"none\" stroke=\"black\" points=\"2448,-857.5 2588,-857.5 \"/>\n<text text-anchor=\"middle\" x=\"2518\" y=\"-842.3\" font-family=\"Times,serif\" font-size=\"14.00\">0.0</text>\n</g>\n<!-- 136744902246352+ -->\n<g id=\"node199\" class=\"node\">\n<title>136744902246352+</title>\n<ellipse fill=\"none\" stroke=\"black\" cx=\"2654\" cy=\"-935\" rx=\"27\" ry=\"18\"/>\n<text text-anchor=\"middle\" x=\"2654\" y=\"-931.3\" font-family=\"Times,serif\" font-size=\"14.00\">+</text>\n</g>\n<!-- 136744902244624&#45;&gt;136744902246352+ -->\n<g id=\"edge177\" class=\"edge\">\n<title>136744902244624&#45;&gt;136744902246352+</title>\n<path fill=\"none\" stroke=\"black\" d=\"M2588.36,-903.16C2600.36,-909.07 2612.26,-914.93 2622.52,-919.99\"/>\n<polygon fill=\"black\" stroke=\"black\" points=\"2621.28,-923.28 2631.8,-924.56 2624.37,-917 2621.28,-923.28\"/>\n</g>\n<!-- 136744902244624+&#45;&gt;136744902244624 -->\n<g id=\"edge54\" class=\"edge\">\n<title>136744902244624+&#45;&gt;136744902244624</title>\n<path fill=\"none\" stroke=\"black\" d=\"M2409.15,-869C2417.55,-869 2427.33,-869 2437.51,-869\"/>\n<polygon fill=\"black\" stroke=\"black\" points=\"2437.79,-872.5 2447.79,-869 2437.79,-865.5 2437.79,-872.5\"/>\n</g>\n<!-- 136744902236512 -->\n<g id=\"node144\" class=\"node\">\n<title>136744902236512</title>\n<polygon fill=\"none\" stroke=\"black\" points=\"818,-1408.5 818,-1477.5 960,-1477.5 960,-1408.5 818,-1408.5\"/>\n<text text-anchor=\"middle\" x=\"889\" y=\"-1462.3\" font-family=\"Times,serif\" font-size=\"14.00\"> </text>\n<polyline fill=\"none\" stroke=\"black\" points=\"818,-1454.5 960,-1454.5 \"/>\n<text text-anchor=\"middle\" x=\"889\" y=\"-1439.3\" font-family=\"Times,serif\" font-size=\"14.00\">0.35142824241594184</text>\n<polyline fill=\"none\" stroke=\"black\" points=\"818,-1431.5 960,-1431.5 \"/>\n<text text-anchor=\"middle\" x=\"889\" y=\"-1416.3\" font-family=\"Times,serif\" font-size=\"14.00\">0.0</text>\n</g>\n<!-- 136744902236512&#45;&gt;136744902242992* -->\n<g id=\"edge210\" class=\"edge\">\n<title>136744902236512&#45;&gt;136744902242992*</title>\n<path fill=\"none\" stroke=\"black\" d=\"M960.14,-1466.03C970.84,-1469.54 981.42,-1473.02 990.81,-1476.1\"/>\n<polygon fill=\"black\" stroke=\"black\" points=\"989.88,-1479.48 1000.48,-1479.28 992.07,-1472.83 989.88,-1479.48\"/>\n</g>\n<!-- 136744903547232 -->\n<g id=\"node145\" class=\"node\">\n<title>136744903547232</title>\n<polygon fill=\"none\" stroke=\"black\" points=\"2448,-1010.5 2448,-1079.5 2588,-1079.5 2588,-1010.5 2448,-1010.5\"/>\n<text text-anchor=\"middle\" x=\"2518\" y=\"-1064.3\" font-family=\"Times,serif\" font-size=\"14.00\"> </text>\n<polyline fill=\"none\" stroke=\"black\" points=\"2448,-1056.5 2588,-1056.5 \"/>\n<text text-anchor=\"middle\" x=\"2518\" y=\"-1041.3\" font-family=\"Times,serif\" font-size=\"14.00\">&#45;0.6270905462869711</text>\n<polyline fill=\"none\" stroke=\"black\" points=\"2448,-1033.5 2588,-1033.5 \"/>\n<text text-anchor=\"middle\" x=\"2518\" y=\"-1018.3\" font-family=\"Times,serif\" font-size=\"14.00\">0.0</text>\n</g>\n<!-- 136744903547232&#45;&gt;136744902308912+ -->\n<g id=\"edge209\" class=\"edge\">\n<title>136744903547232&#45;&gt;136744902308912+</title>\n<path fill=\"none\" stroke=\"black\" d=\"M2588.36,-1079.16C2600.36,-1085.07 2612.26,-1090.93 2622.52,-1095.99\"/>\n<polygon fill=\"black\" stroke=\"black\" points=\"2621.28,-1099.28 2631.8,-1100.56 2624.37,-1093 2621.28,-1099.28\"/>\n</g>\n<!-- 136744903547232+&#45;&gt;136744903547232 -->\n<g id=\"edge55\" class=\"edge\">\n<title>136744903547232+&#45;&gt;136744903547232</title>\n<path fill=\"none\" stroke=\"black\" d=\"M2409.15,-1045C2417.55,-1045 2427.33,-1045 2437.51,-1045\"/>\n<polygon fill=\"black\" stroke=\"black\" points=\"2437.79,-1048.5 2447.79,-1045 2437.79,-1041.5 2437.79,-1048.5\"/>\n</g>\n<!-- 136744902236608 -->\n<g id=\"node147\" class=\"node\">\n<title>136744902236608</title>\n<polygon fill=\"none\" stroke=\"black\" points=\"819,-0.5 819,-69.5 959,-69.5 959,-0.5 819,-0.5\"/>\n<text text-anchor=\"middle\" x=\"889\" y=\"-54.3\" font-family=\"Times,serif\" font-size=\"14.00\"> </text>\n<polyline fill=\"none\" stroke=\"black\" points=\"819,-46.5 959,-46.5 \"/>\n<text text-anchor=\"middle\" x=\"889\" y=\"-31.3\" font-family=\"Times,serif\" font-size=\"14.00\">&#45;0.0912542473120106</text>\n<polyline fill=\"none\" stroke=\"black\" points=\"819,-23.5 959,-23.5 \"/>\n<text text-anchor=\"middle\" x=\"889\" y=\"-8.3\" font-family=\"Times,serif\" font-size=\"14.00\">0.0</text>\n</g>\n<!-- 136744902236608&#45;&gt;136744902239200+ -->\n<g id=\"edge187\" class=\"edge\">\n<title>136744902236608&#45;&gt;136744902239200+</title>\n<path fill=\"none\" stroke=\"black\" d=\"M947.6,-69.71C952.5,-72.81 957.35,-75.94 962,-79 974,-86.91 987.01,-96.05 998,-103.95\"/>\n<polygon fill=\"black\" stroke=\"black\" points=\"996.16,-106.94 1006.32,-109.96 1000.26,-101.27 996.16,-106.94\"/>\n</g>\n<!-- 136744902646208 -->\n<g id=\"node148\" class=\"node\">\n<title>136744902646208</title>\n<polygon fill=\"none\" stroke=\"black\" points=\"2717,-812.5 2717,-881.5 2857,-881.5 2857,-812.5 2717,-812.5\"/>\n<text text-anchor=\"middle\" x=\"2787\" y=\"-866.3\" font-family=\"Times,serif\" font-size=\"14.00\"> </text>\n<polyline fill=\"none\" stroke=\"black\" points=\"2717,-858.5 2857,-858.5 \"/>\n<text text-anchor=\"middle\" x=\"2787\" y=\"-843.3\" font-family=\"Times,serif\" font-size=\"14.00\">&#45;0.3350340359445494</text>\n<polyline fill=\"none\" stroke=\"black\" points=\"2717,-835.5 2857,-835.5 \"/>\n<text text-anchor=\"middle\" x=\"2787\" y=\"-820.3\" font-family=\"Times,serif\" font-size=\"14.00\">0.0</text>\n</g>\n<!-- 136744902646304tanh -->\n<g id=\"node155\" class=\"node\">\n<title>136744902646304tanh</title>\n<ellipse fill=\"none\" stroke=\"black\" cx=\"2920\" cy=\"-847\" rx=\"27\" ry=\"18\"/>\n<text text-anchor=\"middle\" x=\"2920\" y=\"-843.3\" font-family=\"Times,serif\" font-size=\"14.00\">tanh</text>\n</g>\n<!-- 136744902646208&#45;&gt;136744902646304tanh -->\n<g id=\"edge95\" class=\"edge\">\n<title>136744902646208&#45;&gt;136744902646304tanh</title>\n<path fill=\"none\" stroke=\"black\" d=\"M2857.34,-847C2866.13,-847 2874.82,-847 2882.79,-847\"/>\n<polygon fill=\"black\" stroke=\"black\" points=\"2882.8,-850.5 2892.8,-847 2882.8,-843.5 2882.8,-850.5\"/>\n</g>\n<!-- 136744902646208+&#45;&gt;136744902646208 -->\n<g id=\"edge56\" class=\"edge\">\n<title>136744902646208+&#45;&gt;136744902646208</title>\n<path fill=\"none\" stroke=\"black\" d=\"M2681.19,-847C2688.87,-847 2697.69,-847 2706.89,-847\"/>\n<polygon fill=\"black\" stroke=\"black\" points=\"2706.97,-850.5 2716.97,-847 2706.97,-843.5 2706.97,-850.5\"/>\n</g>\n<!-- 136744902236656 -->\n<g id=\"node150\" class=\"node\">\n<title>136744902236656</title>\n<polygon fill=\"none\" stroke=\"black\" points=\"1091,-352.5 1091,-421.5 1231,-421.5 1231,-352.5 1091,-352.5\"/>\n<text text-anchor=\"middle\" x=\"1161\" y=\"-406.3\" font-family=\"Times,serif\" font-size=\"14.00\"> </text>\n<polyline fill=\"none\" stroke=\"black\" points=\"1091,-398.5 1231,-398.5 \"/>\n<text text-anchor=\"middle\" x=\"1161\" y=\"-383.3\" font-family=\"Times,serif\" font-size=\"14.00\">&#45;0.5128158996071026</text>\n<polyline fill=\"none\" stroke=\"black\" points=\"1091,-375.5 1231,-375.5 \"/>\n<text text-anchor=\"middle\" x=\"1161\" y=\"-360.3\" font-family=\"Times,serif\" font-size=\"14.00\">0.0</text>\n</g>\n<!-- 136744902236656&#45;&gt;136744902239248* -->\n<g id=\"edge169\" class=\"edge\">\n<title>136744902236656&#45;&gt;136744902239248*</title>\n<path fill=\"none\" stroke=\"black\" d=\"M1219.6,-352.29C1224.5,-349.19 1229.35,-346.06 1234,-343 1246,-335.09 1259.01,-325.95 1270,-318.05\"/>\n<polygon fill=\"black\" stroke=\"black\" points=\"1272.26,-320.73 1278.32,-312.04 1268.16,-315.06 1272.26,-320.73\"/>\n</g>\n<!-- 136744902244864 -->\n<g id=\"node151\" class=\"node\">\n<title>136744902244864</title>\n<polygon fill=\"none\" stroke=\"black\" points=\"2448,-1186.5 2448,-1255.5 2588,-1255.5 2588,-1186.5 2448,-1186.5\"/>\n<text text-anchor=\"middle\" x=\"2518\" y=\"-1240.3\" font-family=\"Times,serif\" font-size=\"14.00\"> </text>\n<polyline fill=\"none\" stroke=\"black\" points=\"2448,-1232.5 2588,-1232.5 \"/>\n<text text-anchor=\"middle\" x=\"2518\" y=\"-1217.3\" font-family=\"Times,serif\" font-size=\"14.00\">&#45;0.9416690228029381</text>\n<polyline fill=\"none\" stroke=\"black\" points=\"2448,-1209.5 2588,-1209.5 \"/>\n<text text-anchor=\"middle\" x=\"2518\" y=\"-1194.3\" font-family=\"Times,serif\" font-size=\"14.00\">0.0</text>\n</g>\n<!-- 136744902244864&#45;&gt;136744902246352+ -->\n<g id=\"edge180\" class=\"edge\">\n<title>136744902244864&#45;&gt;136744902246352+</title>\n<path fill=\"none\" stroke=\"black\" d=\"M2582.8,-1186.31C2585.8,-1183.4 2588.56,-1180.3 2591,-1177 2616.25,-1142.84 2639.16,-1019.28 2648.52,-963.12\"/>\n<polygon fill=\"black\" stroke=\"black\" points=\"2652,-963.58 2650.16,-953.15 2645.09,-962.45 2652,-963.58\"/>\n</g>\n<!-- 136744902244864*&#45;&gt;136744902244864 -->\n<g id=\"edge57\" class=\"edge\">\n<title>136744902244864*&#45;&gt;136744902244864</title>\n<path fill=\"none\" stroke=\"black\" d=\"M2409.15,-1221C2417.55,-1221 2427.33,-1221 2437.51,-1221\"/>\n<polygon fill=\"black\" stroke=\"black\" points=\"2437.79,-1224.5 2447.79,-1221 2437.79,-1217.5 2437.79,-1224.5\"/>\n</g>\n<!-- 136744902236704 -->\n<g id=\"node153\" class=\"node\">\n<title>136744902236704</title>\n<polygon fill=\"none\" stroke=\"black\" points=\"821.5,-176.5 821.5,-245.5 956.5,-245.5 956.5,-176.5 821.5,-176.5\"/>\n<text text-anchor=\"middle\" x=\"889\" y=\"-230.3\" font-family=\"Times,serif\" font-size=\"14.00\"> </text>\n<polyline fill=\"none\" stroke=\"black\" points=\"821.5,-222.5 956.5,-222.5 \"/>\n<text text-anchor=\"middle\" x=\"889\" y=\"-207.3\" font-family=\"Times,serif\" font-size=\"14.00\">0.7840065880298226</text>\n<polyline fill=\"none\" stroke=\"black\" points=\"821.5,-199.5 956.5,-199.5 \"/>\n<text text-anchor=\"middle\" x=\"889\" y=\"-184.3\" font-family=\"Times,serif\" font-size=\"14.00\">0.0</text>\n</g>\n<!-- 136744902236704&#45;&gt;136744902239056* -->\n<g id=\"edge150\" class=\"edge\">\n<title>136744902236704&#45;&gt;136744902239056*</title>\n<path fill=\"none\" stroke=\"black\" d=\"M956.61,-211C967.41,-211 978.23,-211 987.94,-211\"/>\n<polygon fill=\"black\" stroke=\"black\" points=\"987.98,-214.5 997.98,-211 987.98,-207.5 987.98,-214.5\"/>\n</g>\n<!-- 136744902646304 -->\n<g id=\"node154\" class=\"node\">\n<title>136744902646304</title>\n<polygon fill=\"none\" stroke=\"black\" points=\"2983,-812.5 2983,-881.5 3129,-881.5 3129,-812.5 2983,-812.5\"/>\n<text text-anchor=\"middle\" x=\"3056\" y=\"-866.3\" font-family=\"Times,serif\" font-size=\"14.00\"> </text>\n<polyline fill=\"none\" stroke=\"black\" points=\"2983,-858.5 3129,-858.5 \"/>\n<text text-anchor=\"middle\" x=\"3056\" y=\"-843.3\" font-family=\"Times,serif\" font-size=\"14.00\">&#45;0.32303680294031645</text>\n<polyline fill=\"none\" stroke=\"black\" points=\"2983,-835.5 3129,-835.5 \"/>\n<text text-anchor=\"middle\" x=\"3056\" y=\"-820.3\" font-family=\"Times,serif\" font-size=\"14.00\">0.0</text>\n</g>\n<!-- 136744902646304&#45;&gt;136744902649088* -->\n<g id=\"edge172\" class=\"edge\">\n<title>136744902646304&#45;&gt;136744902649088*</title>\n<path fill=\"none\" stroke=\"black\" d=\"M3129.1,-839.47C3138.06,-838.53 3146.89,-837.61 3154.96,-836.76\"/>\n<polygon fill=\"black\" stroke=\"black\" points=\"3155.49,-840.23 3165.07,-835.71 3154.76,-833.27 3155.49,-840.23\"/>\n</g>\n<!-- 136744902646304tanh&#45;&gt;136744902646304 -->\n<g id=\"edge58\" class=\"edge\">\n<title>136744902646304tanh&#45;&gt;136744902646304</title>\n<path fill=\"none\" stroke=\"black\" d=\"M2947.15,-847C2954.82,-847 2963.63,-847 2972.85,-847\"/>\n<polygon fill=\"black\" stroke=\"black\" points=\"2972.98,-850.5 2982.98,-847 2972.98,-843.5 2972.98,-850.5\"/>\n</g>\n<!-- 136744902236800 -->\n<g id=\"node156\" class=\"node\">\n<title>136744902236800</title>\n<polygon fill=\"none\" stroke=\"black\" points=\"544,-44.5 544,-113.5 690,-113.5 690,-44.5 544,-44.5\"/>\n<text text-anchor=\"middle\" x=\"617\" y=\"-98.3\" font-family=\"Times,serif\" font-size=\"14.00\"> </text>\n<polyline fill=\"none\" stroke=\"black\" points=\"544,-90.5 690,-90.5 \"/>\n<text text-anchor=\"middle\" x=\"617\" y=\"-75.3\" font-family=\"Times,serif\" font-size=\"14.00\">&#45;0.16661370579140877</text>\n<polyline fill=\"none\" stroke=\"black\" points=\"544,-67.5 690,-67.5 \"/>\n<text text-anchor=\"middle\" x=\"617\" y=\"-52.3\" font-family=\"Times,serif\" font-size=\"14.00\">0.0</text>\n</g>\n<!-- 136744902236800&#45;&gt;136744902238384* -->\n<g id=\"edge152\" class=\"edge\">\n<title>136744902236800&#45;&gt;136744902238384*</title>\n<path fill=\"none\" stroke=\"black\" d=\"M690.1,-102.67C700.07,-105.95 709.89,-109.17 718.67,-112.06\"/>\n<polygon fill=\"black\" stroke=\"black\" points=\"717.86,-115.47 728.45,-115.27 720.04,-108.82 717.86,-115.47\"/>\n</g>\n<!-- 136744902245008 -->\n<g id=\"node157\" class=\"node\">\n<title>136744902245008</title>\n<polygon fill=\"none\" stroke=\"black\" points=\"2988.5,-724.5 2988.5,-793.5 3123.5,-793.5 3123.5,-724.5 2988.5,-724.5\"/>\n<text text-anchor=\"middle\" x=\"3056\" y=\"-778.3\" font-family=\"Times,serif\" font-size=\"14.00\"> </text>\n<polyline fill=\"none\" stroke=\"black\" points=\"2988.5,-770.5 3123.5,-770.5 \"/>\n<text text-anchor=\"middle\" x=\"3056\" y=\"-755.3\" font-family=\"Times,serif\" font-size=\"14.00\">0.5843785865834641</text>\n<polyline fill=\"none\" stroke=\"black\" points=\"2988.5,-747.5 3123.5,-747.5 \"/>\n<text text-anchor=\"middle\" x=\"3056\" y=\"-732.3\" font-family=\"Times,serif\" font-size=\"14.00\">0.0</text>\n</g>\n<!-- 136744902245008&#45;&gt;136744902649088* -->\n<g id=\"edge157\" class=\"edge\">\n<title>136744902245008&#45;&gt;136744902649088*</title>\n<path fill=\"none\" stroke=\"black\" d=\"M3119.68,-793.62C3134.34,-801.71 3149.27,-809.96 3161.66,-816.8\"/>\n<polygon fill=\"black\" stroke=\"black\" points=\"3160.14,-819.96 3170.59,-821.73 3163.53,-813.83 3160.14,-819.96\"/>\n</g>\n<!-- 136744902245056 -->\n<g id=\"node158\" class=\"node\">\n<title>136744902245056</title>\n<polygon fill=\"none\" stroke=\"black\" points=\"2992,-548.5 2992,-617.5 3120,-617.5 3120,-548.5 2992,-548.5\"/>\n<text text-anchor=\"middle\" x=\"3056\" y=\"-602.3\" font-family=\"Times,serif\" font-size=\"14.00\"> </text>\n<polyline fill=\"none\" stroke=\"black\" points=\"2992,-594.5 3120,-594.5 \"/>\n<text text-anchor=\"middle\" x=\"3056\" y=\"-579.3\" font-family=\"Times,serif\" font-size=\"14.00\">0.953758249489076</text>\n<polyline fill=\"none\" stroke=\"black\" points=\"2992,-571.5 3120,-571.5 \"/>\n<text text-anchor=\"middle\" x=\"3056\" y=\"-556.3\" font-family=\"Times,serif\" font-size=\"14.00\">0.0</text>\n</g>\n<!-- 136744902245056&#45;&gt;136744902649472* -->\n<g id=\"edge189\" class=\"edge\">\n<title>136744902245056&#45;&gt;136744902649472*</title>\n<path fill=\"none\" stroke=\"black\" d=\"M3114.6,-617.71C3119.5,-620.81 3124.35,-623.94 3129,-627 3141,-634.91 3154.01,-644.05 3165,-651.95\"/>\n<polygon fill=\"black\" stroke=\"black\" points=\"3163.16,-654.94 3173.32,-657.96 3167.26,-649.27 3163.16,-654.94\"/>\n</g>\n<!-- 136744902236896 -->\n<g id=\"node159\" class=\"node\">\n<title>136744902236896</title>\n<polygon fill=\"none\" stroke=\"black\" points=\"547,-660.5 547,-729.5 687,-729.5 687,-660.5 547,-660.5\"/>\n<text text-anchor=\"middle\" x=\"617\" y=\"-714.3\" font-family=\"Times,serif\" font-size=\"14.00\"> </text>\n<polyline fill=\"none\" stroke=\"black\" points=\"547,-706.5 687,-706.5 \"/>\n<text text-anchor=\"middle\" x=\"617\" y=\"-691.3\" font-family=\"Times,serif\" font-size=\"14.00\">&#45;0.9903029368170522</text>\n<polyline fill=\"none\" stroke=\"black\" points=\"547,-683.5 687,-683.5 \"/>\n<text text-anchor=\"middle\" x=\"617\" y=\"-668.3\" font-family=\"Times,serif\" font-size=\"14.00\">0.0</text>\n</g>\n<!-- 136744902236896&#45;&gt;136744902237088+ -->\n<g id=\"edge80\" class=\"edge\">\n<title>136744902236896&#45;&gt;136744902237088+</title>\n<path fill=\"none\" stroke=\"black\" d=\"M687.36,-695C697.16,-695 706.9,-695 715.73,-695\"/>\n<polygon fill=\"black\" stroke=\"black\" points=\"715.99,-698.5 725.99,-695 715.99,-691.5 715.99,-698.5\"/>\n</g>\n<!-- 136744902245104 -->\n<g id=\"node160\" class=\"node\">\n<title>136744902245104</title>\n<polygon fill=\"none\" stroke=\"black\" points=\"3258,-869.5 3258,-938.5 3398,-938.5 3398,-869.5 3258,-869.5\"/>\n<text text-anchor=\"middle\" x=\"3328\" y=\"-923.3\" font-family=\"Times,serif\" font-size=\"14.00\"> </text>\n<polyline fill=\"none\" stroke=\"black\" points=\"3258,-915.5 3398,-915.5 \"/>\n<text text-anchor=\"middle\" x=\"3328\" y=\"-900.3\" font-family=\"Times,serif\" font-size=\"14.00\">&#45;0.7841842815966091</text>\n<polyline fill=\"none\" stroke=\"black\" points=\"3258,-892.5 3398,-892.5 \"/>\n<text text-anchor=\"middle\" x=\"3328\" y=\"-877.3\" font-family=\"Times,serif\" font-size=\"14.00\">0.0</text>\n</g>\n<!-- 136744902245104&#45;&gt;136744902648512+ -->\n<g id=\"edge129\" class=\"edge\">\n<title>136744902245104&#45;&gt;136744902648512+</title>\n<path fill=\"none\" stroke=\"black\" d=\"M3398.08,-907.07C3423.52,-908.2 3451.33,-909.44 3472.73,-910.39\"/>\n<polygon fill=\"black\" stroke=\"black\" points=\"3472.85,-913.9 3482.99,-910.84 3473.16,-906.9 3472.85,-913.9\"/>\n</g>\n<!-- 136744902236944 -->\n<g id=\"node161\" class=\"node\">\n<title>136744902236944</title>\n<polygon fill=\"none\" stroke=\"black\" points=\"819,-836.5 819,-905.5 959,-905.5 959,-836.5 819,-836.5\"/>\n<text text-anchor=\"middle\" x=\"889\" y=\"-890.3\" font-family=\"Times,serif\" font-size=\"14.00\"> </text>\n<polyline fill=\"none\" stroke=\"black\" points=\"819,-882.5 959,-882.5 \"/>\n<text text-anchor=\"middle\" x=\"889\" y=\"-867.3\" font-family=\"Times,serif\" font-size=\"14.00\">&#45;0.8510178250898477</text>\n<polyline fill=\"none\" stroke=\"black\" points=\"819,-859.5 959,-859.5 \"/>\n<text text-anchor=\"middle\" x=\"889\" y=\"-844.3\" font-family=\"Times,serif\" font-size=\"14.00\">0.0</text>\n</g>\n<!-- 136744902237136* -->\n<g id=\"node172\" class=\"node\">\n<title>136744902237136*</title>\n<ellipse fill=\"none\" stroke=\"black\" cx=\"1025\" cy=\"-783\" rx=\"27\" ry=\"18\"/>\n<text text-anchor=\"middle\" x=\"1025\" y=\"-779.3\" font-family=\"Times,serif\" font-size=\"14.00\">*</text>\n</g>\n<!-- 136744902236944&#45;&gt;136744902237136* -->\n<g id=\"edge99\" class=\"edge\">\n<title>136744902236944&#45;&gt;136744902237136*</title>\n<path fill=\"none\" stroke=\"black\" d=\"M947.6,-836.29C952.5,-833.19 957.35,-830.06 962,-827 974,-819.09 987.01,-809.95 998,-802.05\"/>\n<polygon fill=\"black\" stroke=\"black\" points=\"1000.26,-804.73 1006.32,-796.04 996.16,-799.06 1000.26,-804.73\"/>\n</g>\n<!-- 136744901827344 -->\n<g id=\"node162\" class=\"node\">\n<title>136744901827344</title>\n<polygon fill=\"none\" stroke=\"black\" points=\"1631.5,-836.5 1631.5,-905.5 1766.5,-905.5 1766.5,-836.5 1631.5,-836.5\"/>\n<text text-anchor=\"middle\" x=\"1699\" y=\"-890.3\" font-family=\"Times,serif\" font-size=\"14.00\"> </text>\n<polyline fill=\"none\" stroke=\"black\" points=\"1631.5,-882.5 1766.5,-882.5 \"/>\n<text text-anchor=\"middle\" x=\"1699\" y=\"-867.3\" font-family=\"Times,serif\" font-size=\"14.00\">0.4726904512714988</text>\n<polyline fill=\"none\" stroke=\"black\" points=\"1631.5,-859.5 1766.5,-859.5 \"/>\n<text text-anchor=\"middle\" x=\"1699\" y=\"-844.3\" font-family=\"Times,serif\" font-size=\"14.00\">0.0</text>\n</g>\n<!-- 136744901827344&#45;&gt;136744901833824+ -->\n<g id=\"edge197\" class=\"edge\">\n<title>136744901827344&#45;&gt;136744901833824+</title>\n<path fill=\"none\" stroke=\"black\" d=\"M1766.61,-871C1777.41,-871 1788.23,-871 1797.94,-871\"/>\n<polygon fill=\"black\" stroke=\"black\" points=\"1797.98,-874.5 1807.98,-871 1797.98,-867.5 1797.98,-874.5\"/>\n</g>\n<!-- 136744901827344*&#45;&gt;136744901827344 -->\n<g id=\"edge59\" class=\"edge\">\n<title>136744901827344*&#45;&gt;136744901827344</title>\n<path fill=\"none\" stroke=\"black\" d=\"M1587.65,-907.23C1597.47,-904.01 1609.46,-900.07 1621.89,-895.99\"/>\n<polygon fill=\"black\" stroke=\"black\" points=\"1623.03,-899.3 1631.44,-892.86 1620.85,-892.65 1623.03,-899.3\"/>\n</g>\n<!-- 136744902245152 -->\n<g id=\"node164\" class=\"node\">\n<title>136744902245152</title>\n<polygon fill=\"none\" stroke=\"black\" points=\"2986,-900.5 2986,-969.5 3126,-969.5 3126,-900.5 2986,-900.5\"/>\n<text text-anchor=\"middle\" x=\"3056\" y=\"-954.3\" font-family=\"Times,serif\" font-size=\"14.00\"> </text>\n<polyline fill=\"none\" stroke=\"black\" points=\"2986,-946.5 3126,-946.5 \"/>\n<text text-anchor=\"middle\" x=\"3056\" y=\"-931.3\" font-family=\"Times,serif\" font-size=\"14.00\">&#45;0.8361439929327663</text>\n<polyline fill=\"none\" stroke=\"black\" points=\"2986,-923.5 3126,-923.5 \"/>\n<text text-anchor=\"middle\" x=\"3056\" y=\"-908.3\" font-family=\"Times,serif\" font-size=\"14.00\">0.0</text>\n</g>\n<!-- 136744902245152&#45;&gt;136744902648320* -->\n<g id=\"edge81\" class=\"edge\">\n<title>136744902245152&#45;&gt;136744902648320*</title>\n<path fill=\"none\" stroke=\"black\" d=\"M3126.36,-964.5C3137.95,-969.43 3149.44,-974.32 3159.46,-978.58\"/>\n<polygon fill=\"black\" stroke=\"black\" points=\"3158.35,-981.91 3168.92,-982.61 3161.09,-975.47 3158.35,-981.91\"/>\n</g>\n<!-- 136744902245152tanh -->\n<g id=\"node165\" class=\"node\">\n<title>136744902245152tanh</title>\n<ellipse fill=\"none\" stroke=\"black\" cx=\"2920\" cy=\"-935\" rx=\"27\" ry=\"18\"/>\n<text text-anchor=\"middle\" x=\"2920\" y=\"-931.3\" font-family=\"Times,serif\" font-size=\"14.00\">tanh</text>\n</g>\n<!-- 136744902245152tanh&#45;&gt;136744902245152 -->\n<g id=\"edge60\" class=\"edge\">\n<title>136744902245152tanh&#45;&gt;136744902245152</title>\n<path fill=\"none\" stroke=\"black\" d=\"M2947.15,-935C2955.55,-935 2965.33,-935 2975.51,-935\"/>\n<polygon fill=\"black\" stroke=\"black\" points=\"2975.79,-938.5 2985.79,-935 2975.79,-931.5 2975.79,-938.5\"/>\n</g>\n<!-- 136744902646592 -->\n<g id=\"node166\" class=\"node\">\n<title>136744902646592</title>\n<polygon fill=\"none\" stroke=\"black\" points=\"1635,-396.5 1635,-465.5 1763,-465.5 1763,-396.5 1635,-396.5\"/>\n<text text-anchor=\"middle\" x=\"1699\" y=\"-450.3\" font-family=\"Times,serif\" font-size=\"14.00\"> </text>\n<polyline fill=\"none\" stroke=\"black\" points=\"1635,-442.5 1763,-442.5 \"/>\n<text text-anchor=\"middle\" x=\"1699\" y=\"-427.3\" font-family=\"Times,serif\" font-size=\"14.00\">0.512394213557108</text>\n<polyline fill=\"none\" stroke=\"black\" points=\"1635,-419.5 1763,-419.5 \"/>\n<text text-anchor=\"middle\" x=\"1699\" y=\"-404.3\" font-family=\"Times,serif\" font-size=\"14.00\">0.0</text>\n</g>\n<!-- 136744902646592&#45;&gt;136744902646784+ -->\n<g id=\"edge100\" class=\"edge\">\n<title>136744902646592&#45;&gt;136744902646784+</title>\n<path fill=\"none\" stroke=\"black\" d=\"M1763.08,-431C1774.89,-431 1786.86,-431 1797.52,-431\"/>\n<polygon fill=\"black\" stroke=\"black\" points=\"1797.7,-434.5 1807.7,-431 1797.7,-427.5 1797.7,-434.5\"/>\n</g>\n<!-- 136744902646592*&#45;&gt;136744902646592 -->\n<g id=\"edge61\" class=\"edge\">\n<title>136744902646592*&#45;&gt;136744902646592</title>\n<path fill=\"none\" stroke=\"black\" d=\"M1573.01,-546.22C1583.78,-527.29 1603.22,-496.34 1626,-475 1626.96,-474.1 1627.95,-473.21 1628.95,-472.32\"/>\n<polygon fill=\"black\" stroke=\"black\" points=\"1631.45,-474.8 1636.95,-465.75 1627,-469.39 1631.45,-474.8\"/>\n</g>\n<!-- 136744902236992 -->\n<g id=\"node168\" class=\"node\">\n<title>136744902236992</title>\n<polygon fill=\"none\" stroke=\"black\" points=\"550.5,-572.5 550.5,-641.5 683.5,-641.5 683.5,-572.5 550.5,-572.5\"/>\n<text text-anchor=\"middle\" x=\"617\" y=\"-626.3\" font-family=\"Times,serif\" font-size=\"14.00\"> </text>\n<polyline fill=\"none\" stroke=\"black\" points=\"550.5,-618.5 683.5,-618.5 \"/>\n<text text-anchor=\"middle\" x=\"617\" y=\"-603.3\" font-family=\"Times,serif\" font-size=\"14.00\">&#45;0.620517605818997</text>\n<polyline fill=\"none\" stroke=\"black\" points=\"550.5,-595.5 683.5,-595.5 \"/>\n<text text-anchor=\"middle\" x=\"617\" y=\"-580.3\" font-family=\"Times,serif\" font-size=\"14.00\">0.0</text>\n</g>\n<!-- 136744902237808* -->\n<g id=\"node189\" class=\"node\">\n<title>136744902237808*</title>\n<ellipse fill=\"none\" stroke=\"black\" cx=\"753\" cy=\"-607\" rx=\"27\" ry=\"18\"/>\n<text text-anchor=\"middle\" x=\"753\" y=\"-603.3\" font-family=\"Times,serif\" font-size=\"14.00\">*</text>\n</g>\n<!-- 136744902236992&#45;&gt;136744902237808* -->\n<g id=\"edge200\" class=\"edge\">\n<title>136744902236992&#45;&gt;136744902237808*</title>\n<path fill=\"none\" stroke=\"black\" d=\"M683.82,-607C694.81,-607 705.83,-607 715.72,-607\"/>\n<polygon fill=\"black\" stroke=\"black\" points=\"715.95,-610.5 725.95,-607 715.95,-603.5 715.95,-610.5\"/>\n</g>\n<!-- 136744902237088 -->\n<g id=\"node169\" class=\"node\">\n<title>136744902237088</title>\n<polygon fill=\"none\" stroke=\"black\" points=\"819,-660.5 819,-729.5 959,-729.5 959,-660.5 819,-660.5\"/>\n<text text-anchor=\"middle\" x=\"889\" y=\"-714.3\" font-family=\"Times,serif\" font-size=\"14.00\"> </text>\n<polyline fill=\"none\" stroke=\"black\" points=\"819,-706.5 959,-706.5 \"/>\n<text text-anchor=\"middle\" x=\"889\" y=\"-691.3\" font-family=\"Times,serif\" font-size=\"14.00\">&#45;1.4082720707347405</text>\n<polyline fill=\"none\" stroke=\"black\" points=\"819,-683.5 959,-683.5 \"/>\n<text text-anchor=\"middle\" x=\"889\" y=\"-668.3\" font-family=\"Times,serif\" font-size=\"14.00\">0.0</text>\n</g>\n<!-- 136744902237520+ -->\n<g id=\"node182\" class=\"node\">\n<title>136744902237520+</title>\n<ellipse fill=\"none\" stroke=\"black\" cx=\"1025\" cy=\"-695\" rx=\"27\" ry=\"18\"/>\n<text text-anchor=\"middle\" x=\"1025\" y=\"-691.3\" font-family=\"Times,serif\" font-size=\"14.00\">+</text>\n</g>\n<!-- 136744902237088&#45;&gt;136744902237520+ -->\n<g id=\"edge205\" class=\"edge\">\n<title>136744902237088&#45;&gt;136744902237520+</title>\n<path fill=\"none\" stroke=\"black\" d=\"M959.36,-695C969.16,-695 978.9,-695 987.73,-695\"/>\n<polygon fill=\"black\" stroke=\"black\" points=\"987.99,-698.5 997.99,-695 987.99,-691.5 987.99,-698.5\"/>\n</g>\n<!-- 136744902237088+&#45;&gt;136744902237088 -->\n<g id=\"edge62\" class=\"edge\">\n<title>136744902237088+&#45;&gt;136744902237088</title>\n<path fill=\"none\" stroke=\"black\" d=\"M780.15,-695C788.55,-695 798.33,-695 808.51,-695\"/>\n<polygon fill=\"black\" stroke=\"black\" points=\"808.79,-698.5 818.79,-695 808.79,-691.5 808.79,-698.5\"/>\n</g>\n<!-- 136744902237136 -->\n<g id=\"node171\" class=\"node\">\n<title>136744902237136</title>\n<polygon fill=\"none\" stroke=\"black\" points=\"1093.5,-748.5 1093.5,-817.5 1228.5,-817.5 1228.5,-748.5 1093.5,-748.5\"/>\n<text text-anchor=\"middle\" x=\"1161\" y=\"-802.3\" font-family=\"Times,serif\" font-size=\"14.00\"> </text>\n<polyline fill=\"none\" stroke=\"black\" points=\"1093.5,-794.5 1228.5,-794.5 \"/>\n<text text-anchor=\"middle\" x=\"1161\" y=\"-779.3\" font-family=\"Times,serif\" font-size=\"14.00\">0.8510178250898477</text>\n<polyline fill=\"none\" stroke=\"black\" points=\"1093.5,-771.5 1228.5,-771.5 \"/>\n<text text-anchor=\"middle\" x=\"1161\" y=\"-756.3\" font-family=\"Times,serif\" font-size=\"14.00\">0.0</text>\n</g>\n<!-- 136744902237952+ -->\n<g id=\"node193\" class=\"node\">\n<title>136744902237952+</title>\n<ellipse fill=\"none\" stroke=\"black\" cx=\"1297\" cy=\"-783\" rx=\"27\" ry=\"18\"/>\n<text text-anchor=\"middle\" x=\"1297\" y=\"-779.3\" font-family=\"Times,serif\" font-size=\"14.00\">+</text>\n</g>\n<!-- 136744902237136&#45;&gt;136744902237952+ -->\n<g id=\"edge125\" class=\"edge\">\n<title>136744902237136&#45;&gt;136744902237952+</title>\n<path fill=\"none\" stroke=\"black\" d=\"M1228.61,-783C1239.41,-783 1250.23,-783 1259.94,-783\"/>\n<polygon fill=\"black\" stroke=\"black\" points=\"1259.98,-786.5 1269.98,-783 1259.98,-779.5 1259.98,-786.5\"/>\n</g>\n<!-- 136744902237136*&#45;&gt;136744902237136 -->\n<g id=\"edge63\" class=\"edge\">\n<title>136744902237136*&#45;&gt;136744902237136</title>\n<path fill=\"none\" stroke=\"black\" d=\"M1052.15,-783C1061.25,-783 1071.97,-783 1083.07,-783\"/>\n<polygon fill=\"black\" stroke=\"black\" points=\"1083.32,-786.5 1093.32,-783 1083.32,-779.5 1083.32,-786.5\"/>\n</g>\n<!-- 136744902646784 -->\n<g id=\"node173\" class=\"node\">\n<title>136744902646784</title>\n<polygon fill=\"none\" stroke=\"black\" points=\"1905,-396.5 1905,-465.5 2040,-465.5 2040,-396.5 1905,-396.5\"/>\n<text text-anchor=\"middle\" x=\"1972.5\" y=\"-450.3\" font-family=\"Times,serif\" font-size=\"14.00\"> </text>\n<polyline fill=\"none\" stroke=\"black\" points=\"1905,-442.5 2040,-442.5 \"/>\n<text text-anchor=\"middle\" x=\"1972.5\" y=\"-427.3\" font-family=\"Times,serif\" font-size=\"14.00\">1.0017142889342152</text>\n<polyline fill=\"none\" stroke=\"black\" points=\"1905,-419.5 2040,-419.5 \"/>\n<text text-anchor=\"middle\" x=\"1972.5\" y=\"-404.3\" font-family=\"Times,serif\" font-size=\"14.00\">0.0</text>\n</g>\n<!-- 136744902647168+ -->\n<g id=\"node184\" class=\"node\">\n<title>136744902647168+</title>\n<ellipse fill=\"none\" stroke=\"black\" cx=\"2110\" cy=\"-514\" rx=\"27\" ry=\"18\"/>\n<text text-anchor=\"middle\" x=\"2110\" y=\"-510.3\" font-family=\"Times,serif\" font-size=\"14.00\">+</text>\n</g>\n<!-- 136744902646784&#45;&gt;136744902647168+ -->\n<g id=\"edge124\" class=\"edge\">\n<title>136744902646784&#45;&gt;136744902647168+</title>\n<path fill=\"none\" stroke=\"black\" d=\"M2031.75,-465.71C2036.91,-468.84 2042.06,-471.97 2047,-475 2058.26,-481.91 2070.6,-489.64 2081.28,-496.38\"/>\n<polygon fill=\"black\" stroke=\"black\" points=\"2079.48,-499.38 2089.8,-501.77 2083.22,-493.47 2079.48,-499.38\"/>\n</g>\n<!-- 136744902646784+&#45;&gt;136744902646784 -->\n<g id=\"edge64\" class=\"edge\">\n<title>136744902646784+&#45;&gt;136744902646784</title>\n<path fill=\"none\" stroke=\"black\" d=\"M1862.13,-431C1871.64,-431 1882.95,-431 1894.62,-431\"/>\n<polygon fill=\"black\" stroke=\"black\" points=\"1894.94,-434.5 1904.94,-431 1894.94,-427.5 1894.94,-434.5\"/>\n</g>\n<!-- 136744902245488 -->\n<g id=\"node175\" class=\"node\">\n<title>136744902245488</title>\n<polygon fill=\"none\" stroke=\"black\" points=\"272,-660.5 272,-729.5 418,-729.5 418,-660.5 272,-660.5\"/>\n<text text-anchor=\"middle\" x=\"345\" y=\"-714.3\" font-family=\"Times,serif\" font-size=\"14.00\"> </text>\n<polyline fill=\"none\" stroke=\"black\" points=\"272,-706.5 418,-706.5 \"/>\n<text text-anchor=\"middle\" x=\"345\" y=\"-691.3\" font-family=\"Times,serif\" font-size=\"14.00\">&#45;0.20898456695884415</text>\n<polyline fill=\"none\" stroke=\"black\" points=\"272,-683.5 418,-683.5 \"/>\n<text text-anchor=\"middle\" x=\"345\" y=\"-668.3\" font-family=\"Times,serif\" font-size=\"14.00\">0.0</text>\n</g>\n<!-- 136744902245488&#45;&gt;136744902232144* -->\n<g id=\"edge158\" class=\"edge\">\n<title>136744902245488&#45;&gt;136744902232144*</title>\n<path fill=\"none\" stroke=\"black\" d=\"M403.6,-729.71C408.5,-732.81 413.35,-735.94 418,-739 430,-746.91 443.01,-756.05 454,-763.95\"/>\n<polygon fill=\"black\" stroke=\"black\" points=\"452.16,-766.94 462.32,-769.96 456.26,-761.27 452.16,-766.94\"/>\n</g>\n<!-- 136744902646976 -->\n<g id=\"node176\" class=\"node\">\n<title>136744902646976</title>\n<polygon fill=\"none\" stroke=\"black\" points=\"1905,-484.5 1905,-553.5 2040,-553.5 2040,-484.5 1905,-484.5\"/>\n<text text-anchor=\"middle\" x=\"1972.5\" y=\"-538.3\" font-family=\"Times,serif\" font-size=\"14.00\"> </text>\n<polyline fill=\"none\" stroke=\"black\" points=\"1905,-530.5 2040,-530.5 \"/>\n<text text-anchor=\"middle\" x=\"1972.5\" y=\"-515.3\" font-family=\"Times,serif\" font-size=\"14.00\">0.3858818636977052</text>\n<polyline fill=\"none\" stroke=\"black\" points=\"1905,-507.5 2040,-507.5 \"/>\n<text text-anchor=\"middle\" x=\"1972.5\" y=\"-492.3\" font-family=\"Times,serif\" font-size=\"14.00\">0.0</text>\n</g>\n<!-- 136744902646976&#45;&gt;136744902647168+ -->\n<g id=\"edge75\" class=\"edge\">\n<title>136744902646976&#45;&gt;136744902647168+</title>\n<path fill=\"none\" stroke=\"black\" d=\"M2040.06,-516.54C2051.38,-516.13 2062.75,-515.71 2072.9,-515.33\"/>\n<polygon fill=\"black\" stroke=\"black\" points=\"2073.12,-518.83 2082.98,-514.96 2072.86,-511.83 2073.12,-518.83\"/>\n</g>\n<!-- 136744902646976*&#45;&gt;136744902646976 -->\n<g id=\"edge65\" class=\"edge\">\n<title>136744902646976*&#45;&gt;136744902646976</title>\n<path fill=\"none\" stroke=\"black\" d=\"M1862.13,-519C1871.64,-519 1882.95,-519 1894.62,-519\"/>\n<polygon fill=\"black\" stroke=\"black\" points=\"1894.94,-522.5 1904.94,-519 1894.94,-515.5 1894.94,-522.5\"/>\n</g>\n<!-- 136744902245584 -->\n<g id=\"node178\" class=\"node\">\n<title>136744902245584</title>\n<polygon fill=\"none\" stroke=\"black\" points=\"275,-1012.5 275,-1081.5 415,-1081.5 415,-1012.5 275,-1012.5\"/>\n<text text-anchor=\"middle\" x=\"345\" y=\"-1066.3\" font-family=\"Times,serif\" font-size=\"14.00\"> </text>\n<polyline fill=\"none\" stroke=\"black\" points=\"275,-1058.5 415,-1058.5 \"/>\n<text text-anchor=\"middle\" x=\"345\" y=\"-1043.3\" font-family=\"Times,serif\" font-size=\"14.00\">&#45;0.4659661604819172</text>\n<polyline fill=\"none\" stroke=\"black\" points=\"275,-1035.5 415,-1035.5 \"/>\n<text text-anchor=\"middle\" x=\"345\" y=\"-1020.3\" font-family=\"Times,serif\" font-size=\"14.00\">0.0</text>\n</g>\n<!-- 136744902245584&#45;&gt;136744902232384+ -->\n<g id=\"edge202\" class=\"edge\">\n<title>136744902245584&#45;&gt;136744902232384+</title>\n<path fill=\"none\" stroke=\"black\" d=\"M415.36,-1047C425.16,-1047 434.9,-1047 443.73,-1047\"/>\n<polygon fill=\"black\" stroke=\"black\" points=\"443.99,-1050.5 453.99,-1047 443.99,-1043.5 443.99,-1050.5\"/>\n</g>\n<!-- 136744902237424 -->\n<g id=\"node179\" class=\"node\">\n<title>136744902237424</title>\n<polygon fill=\"none\" stroke=\"black\" points=\"862,-748.5 862,-817.5 916,-817.5 916,-748.5 862,-748.5\"/>\n<text text-anchor=\"middle\" x=\"889\" y=\"-802.3\" font-family=\"Times,serif\" font-size=\"14.00\"> </text>\n<polyline fill=\"none\" stroke=\"black\" points=\"862,-794.5 916,-794.5 \"/>\n<text text-anchor=\"middle\" x=\"889\" y=\"-779.3\" font-family=\"Times,serif\" font-size=\"14.00\">&#45;1.0</text>\n<polyline fill=\"none\" stroke=\"black\" points=\"862,-771.5 916,-771.5 \"/>\n<text text-anchor=\"middle\" x=\"889\" y=\"-756.3\" font-family=\"Times,serif\" font-size=\"14.00\">0.0</text>\n</g>\n<!-- 136744902237424&#45;&gt;136744902237136* -->\n<g id=\"edge113\" class=\"edge\">\n<title>136744902237424&#45;&gt;136744902237136*</title>\n<path fill=\"none\" stroke=\"black\" d=\"M916.15,-783C936.54,-783 965.08,-783 987.68,-783\"/>\n<polygon fill=\"black\" stroke=\"black\" points=\"987.91,-786.5 997.91,-783 987.91,-779.5 987.91,-786.5\"/>\n</g>\n<!-- 136744902245632 -->\n<g id=\"node180\" class=\"node\">\n<title>136744902245632</title>\n<polygon fill=\"none\" stroke=\"black\" points=\"549.5,-1100.5 549.5,-1169.5 684.5,-1169.5 684.5,-1100.5 549.5,-1100.5\"/>\n<text text-anchor=\"middle\" x=\"617\" y=\"-1154.3\" font-family=\"Times,serif\" font-size=\"14.00\"> </text>\n<polyline fill=\"none\" stroke=\"black\" points=\"549.5,-1146.5 684.5,-1146.5 \"/>\n<text text-anchor=\"middle\" x=\"617\" y=\"-1131.3\" font-family=\"Times,serif\" font-size=\"14.00\">0.7253134684147151</text>\n<polyline fill=\"none\" stroke=\"black\" points=\"549.5,-1123.5 684.5,-1123.5 \"/>\n<text text-anchor=\"middle\" x=\"617\" y=\"-1108.3\" font-family=\"Times,serif\" font-size=\"14.00\">0.0</text>\n</g>\n<!-- 136744902245632&#45;&gt;136744902232576* -->\n<g id=\"edge198\" class=\"edge\">\n<title>136744902245632&#45;&gt;136744902232576*</title>\n<path fill=\"none\" stroke=\"black\" d=\"M684.61,-1135C695.41,-1135 706.23,-1135 715.94,-1135\"/>\n<polygon fill=\"black\" stroke=\"black\" points=\"715.98,-1138.5 725.98,-1135 715.98,-1131.5 715.98,-1138.5\"/>\n</g>\n<!-- 136744902237520 -->\n<g id=\"node181\" class=\"node\">\n<title>136744902237520</title>\n<polygon fill=\"none\" stroke=\"black\" points=\"1091,-660.5 1091,-729.5 1231,-729.5 1231,-660.5 1091,-660.5\"/>\n<text text-anchor=\"middle\" x=\"1161\" y=\"-714.3\" font-family=\"Times,serif\" font-size=\"14.00\"> </text>\n<polyline fill=\"none\" stroke=\"black\" points=\"1091,-706.5 1231,-706.5 \"/>\n<text text-anchor=\"middle\" x=\"1161\" y=\"-691.3\" font-family=\"Times,serif\" font-size=\"14.00\">&#45;3.2698248881917316</text>\n<polyline fill=\"none\" stroke=\"black\" points=\"1091,-683.5 1231,-683.5 \"/>\n<text text-anchor=\"middle\" x=\"1161\" y=\"-668.3\" font-family=\"Times,serif\" font-size=\"14.00\">0.0</text>\n</g>\n<!-- 136744902237520&#45;&gt;136744902237952+ -->\n<g id=\"edge131\" class=\"edge\">\n<title>136744902237520&#45;&gt;136744902237952+</title>\n<path fill=\"none\" stroke=\"black\" d=\"M1219.6,-729.71C1224.5,-732.81 1229.35,-735.94 1234,-739 1246,-746.91 1259.01,-756.05 1270,-763.95\"/>\n<polygon fill=\"black\" stroke=\"black\" points=\"1268.16,-766.94 1278.32,-769.96 1272.26,-761.27 1268.16,-766.94\"/>\n</g>\n<!-- 136744902237520+&#45;&gt;136744902237520 -->\n<g id=\"edge66\" class=\"edge\">\n<title>136744902237520+&#45;&gt;136744902237520</title>\n<path fill=\"none\" stroke=\"black\" d=\"M1052.15,-695C1060.55,-695 1070.33,-695 1080.51,-695\"/>\n<polygon fill=\"black\" stroke=\"black\" points=\"1080.79,-698.5 1090.79,-695 1080.79,-691.5 1080.79,-698.5\"/>\n</g>\n<!-- 136744902647168 -->\n<g id=\"node183\" class=\"node\">\n<title>136744902647168</title>\n<polygon fill=\"none\" stroke=\"black\" points=\"2178.5,-479.5 2178.5,-548.5 2313.5,-548.5 2313.5,-479.5 2178.5,-479.5\"/>\n<text text-anchor=\"middle\" x=\"2246\" y=\"-533.3\" font-family=\"Times,serif\" font-size=\"14.00\"> </text>\n<polyline fill=\"none\" stroke=\"black\" points=\"2178.5,-525.5 2313.5,-525.5 \"/>\n<text text-anchor=\"middle\" x=\"2246\" y=\"-510.3\" font-family=\"Times,serif\" font-size=\"14.00\">1.3875961526319205</text>\n<polyline fill=\"none\" stroke=\"black\" points=\"2178.5,-502.5 2313.5,-502.5 \"/>\n<text text-anchor=\"middle\" x=\"2246\" y=\"-487.3\" font-family=\"Times,serif\" font-size=\"14.00\">0.0</text>\n</g>\n<!-- 136744902647552+ -->\n<g id=\"node191\" class=\"node\">\n<title>136744902647552+</title>\n<ellipse fill=\"none\" stroke=\"black\" cx=\"2382\" cy=\"-514\" rx=\"27\" ry=\"18\"/>\n<text text-anchor=\"middle\" x=\"2382\" y=\"-510.3\" font-family=\"Times,serif\" font-size=\"14.00\">+</text>\n</g>\n<!-- 136744902647168&#45;&gt;136744902647552+ -->\n<g id=\"edge98\" class=\"edge\">\n<title>136744902647168&#45;&gt;136744902647552+</title>\n<path fill=\"none\" stroke=\"black\" d=\"M2313.61,-514C2324.41,-514 2335.23,-514 2344.94,-514\"/>\n<polygon fill=\"black\" stroke=\"black\" points=\"2344.98,-517.5 2354.98,-514 2344.98,-510.5 2344.98,-517.5\"/>\n</g>\n<!-- 136744902647168+&#45;&gt;136744902647168 -->\n<g id=\"edge67\" class=\"edge\">\n<title>136744902647168+&#45;&gt;136744902647168</title>\n<path fill=\"none\" stroke=\"black\" d=\"M2137.15,-514C2146.25,-514 2156.97,-514 2168.07,-514\"/>\n<polygon fill=\"black\" stroke=\"black\" points=\"2168.32,-517.5 2178.32,-514 2168.32,-510.5 2168.32,-517.5\"/>\n</g>\n<!-- 136744902237760 -->\n<g id=\"node185\" class=\"node\">\n<title>136744902237760</title>\n<polygon fill=\"none\" stroke=\"black\" points=\"590,-484.5 590,-553.5 644,-553.5 644,-484.5 590,-484.5\"/>\n<text text-anchor=\"middle\" x=\"617\" y=\"-538.3\" font-family=\"Times,serif\" font-size=\"14.00\"> </text>\n<polyline fill=\"none\" stroke=\"black\" points=\"590,-530.5 644,-530.5 \"/>\n<text text-anchor=\"middle\" x=\"617\" y=\"-515.3\" font-family=\"Times,serif\" font-size=\"14.00\">3.0</text>\n<polyline fill=\"none\" stroke=\"black\" points=\"590,-507.5 644,-507.5 \"/>\n<text text-anchor=\"middle\" x=\"617\" y=\"-492.3\" font-family=\"Times,serif\" font-size=\"14.00\">0.0</text>\n</g>\n<!-- 136744902237760&#45;&gt;136744902237808* -->\n<g id=\"edge178\" class=\"edge\">\n<title>136744902237760&#45;&gt;136744902237808*</title>\n<path fill=\"none\" stroke=\"black\" d=\"M644.26,-534.46C658.03,-542.71 675.08,-553.16 690,-563 702,-570.91 715.01,-580.05 726,-587.95\"/>\n<polygon fill=\"black\" stroke=\"black\" points=\"724.16,-590.94 734.32,-593.96 728.26,-585.27 724.16,-590.94\"/>\n</g>\n<!-- 136744902647360 -->\n<g id=\"node186\" class=\"node\">\n<title>136744902647360</title>\n<polygon fill=\"none\" stroke=\"black\" points=\"2178.5,-283.5 2178.5,-352.5 2313.5,-352.5 2313.5,-283.5 2178.5,-283.5\"/>\n<text text-anchor=\"middle\" x=\"2246\" y=\"-337.3\" font-family=\"Times,serif\" font-size=\"14.00\"> </text>\n<polyline fill=\"none\" stroke=\"black\" points=\"2178.5,-329.5 2313.5,-329.5 \"/>\n<text text-anchor=\"middle\" x=\"2246\" y=\"-314.3\" font-family=\"Times,serif\" font-size=\"14.00\">0.5347423470649982</text>\n<polyline fill=\"none\" stroke=\"black\" points=\"2178.5,-306.5 2313.5,-306.5 \"/>\n<text text-anchor=\"middle\" x=\"2246\" y=\"-291.3\" font-family=\"Times,serif\" font-size=\"14.00\">0.0</text>\n</g>\n<!-- 136744902647360&#45;&gt;136744902647552+ -->\n<g id=\"edge83\" class=\"edge\">\n<title>136744902647360&#45;&gt;136744902647552+</title>\n<path fill=\"none\" stroke=\"black\" d=\"M2297.56,-352.82C2305.35,-359.59 2312.84,-367.07 2319,-375 2345.68,-409.35 2363.68,-456.99 2373.14,-486.63\"/>\n<polygon fill=\"black\" stroke=\"black\" points=\"2369.83,-487.79 2376.12,-496.31 2376.52,-485.72 2369.83,-487.79\"/>\n</g>\n<!-- 136744902647360*&#45;&gt;136744902647360 -->\n<g id=\"edge68\" class=\"edge\">\n<title>136744902647360*&#45;&gt;136744902647360</title>\n<path fill=\"none\" stroke=\"black\" d=\"M2136.2,-296.08C2145.62,-297.98 2156.87,-300.24 2168.52,-302.59\"/>\n<polygon fill=\"black\" stroke=\"black\" points=\"2167.86,-306.03 2178.35,-304.57 2169.24,-299.17 2167.86,-306.03\"/>\n</g>\n<!-- 136744902237808 -->\n<g id=\"node188\" class=\"node\">\n<title>136744902237808</title>\n<polygon fill=\"none\" stroke=\"black\" points=\"819,-572.5 819,-641.5 959,-641.5 959,-572.5 819,-572.5\"/>\n<text text-anchor=\"middle\" x=\"889\" y=\"-626.3\" font-family=\"Times,serif\" font-size=\"14.00\"> </text>\n<polyline fill=\"none\" stroke=\"black\" points=\"819,-618.5 959,-618.5 \"/>\n<text text-anchor=\"middle\" x=\"889\" y=\"-603.3\" font-family=\"Times,serif\" font-size=\"14.00\">&#45;1.8615528174569909</text>\n<polyline fill=\"none\" stroke=\"black\" points=\"819,-595.5 959,-595.5 \"/>\n<text text-anchor=\"middle\" x=\"889\" y=\"-580.3\" font-family=\"Times,serif\" font-size=\"14.00\">0.0</text>\n</g>\n<!-- 136744902237808&#45;&gt;136744902237520+ -->\n<g id=\"edge191\" class=\"edge\">\n<title>136744902237808&#45;&gt;136744902237520+</title>\n<path fill=\"none\" stroke=\"black\" d=\"M947.6,-641.71C952.5,-644.81 957.35,-647.94 962,-651 974,-658.91 987.01,-668.05 998,-675.95\"/>\n<polygon fill=\"black\" stroke=\"black\" points=\"996.16,-678.94 1006.32,-681.96 1000.26,-673.27 996.16,-678.94\"/>\n</g>\n<!-- 136744902237808*&#45;&gt;136744902237808 -->\n<g id=\"edge69\" class=\"edge\">\n<title>136744902237808*&#45;&gt;136744902237808</title>\n<path fill=\"none\" stroke=\"black\" d=\"M780.15,-607C788.55,-607 798.33,-607 808.51,-607\"/>\n<polygon fill=\"black\" stroke=\"black\" points=\"808.79,-610.5 818.79,-607 808.79,-603.5 808.79,-610.5\"/>\n</g>\n<!-- 136744902647552 -->\n<g id=\"node190\" class=\"node\">\n<title>136744902647552</title>\n<polygon fill=\"none\" stroke=\"black\" points=\"2450.5,-592.5 2450.5,-661.5 2585.5,-661.5 2585.5,-592.5 2450.5,-592.5\"/>\n<text text-anchor=\"middle\" x=\"2518\" y=\"-646.3\" font-family=\"Times,serif\" font-size=\"14.00\"> </text>\n<polyline fill=\"none\" stroke=\"black\" points=\"2450.5,-638.5 2585.5,-638.5 \"/>\n<text text-anchor=\"middle\" x=\"2518\" y=\"-623.3\" font-family=\"Times,serif\" font-size=\"14.00\">1.9223384996969188</text>\n<polyline fill=\"none\" stroke=\"black\" points=\"2450.5,-615.5 2585.5,-615.5 \"/>\n<text text-anchor=\"middle\" x=\"2518\" y=\"-600.3\" font-family=\"Times,serif\" font-size=\"14.00\">0.0</text>\n</g>\n<!-- 136744902647552&#45;&gt;136744902647936+ -->\n<g id=\"edge103\" class=\"edge\">\n<title>136744902647552&#45;&gt;136744902647936+</title>\n<path fill=\"none\" stroke=\"black\" d=\"M2585.61,-648.87C2597.55,-652.79 2609.52,-656.72 2619.98,-660.16\"/>\n<polygon fill=\"black\" stroke=\"black\" points=\"2618.9,-663.49 2629.5,-663.28 2621.09,-656.84 2618.9,-663.49\"/>\n</g>\n<!-- 136744902647552+&#45;&gt;136744902647552 -->\n<g id=\"edge70\" class=\"edge\">\n<title>136744902647552+&#45;&gt;136744902647552</title>\n<path fill=\"none\" stroke=\"black\" d=\"M2399.43,-527.86C2416.52,-542.27 2444.1,-565.53 2468.26,-585.9\"/>\n<polygon fill=\"black\" stroke=\"black\" points=\"2466.06,-588.62 2475.96,-592.4 2470.58,-583.27 2466.06,-588.62\"/>\n</g>\n<!-- 136744902237952 -->\n<g id=\"node192\" class=\"node\">\n<title>136744902237952</title>\n<polygon fill=\"none\" stroke=\"black\" points=\"1363.5,-748.5 1363.5,-817.5 1496.5,-817.5 1496.5,-748.5 1363.5,-748.5\"/>\n<text text-anchor=\"middle\" x=\"1430\" y=\"-802.3\" font-family=\"Times,serif\" font-size=\"14.00\"> </text>\n<polyline fill=\"none\" stroke=\"black\" points=\"1363.5,-794.5 1496.5,-794.5 \"/>\n<text text-anchor=\"middle\" x=\"1430\" y=\"-779.3\" font-family=\"Times,serif\" font-size=\"14.00\">&#45;2.418807063101884</text>\n<polyline fill=\"none\" stroke=\"black\" points=\"1363.5,-771.5 1496.5,-771.5 \"/>\n<text text-anchor=\"middle\" x=\"1430\" y=\"-756.3\" font-family=\"Times,serif\" font-size=\"14.00\">0.0</text>\n</g>\n<!-- 136744902237952&#45;&gt;136744902238240tanh -->\n<g id=\"edge165\" class=\"edge\">\n<title>136744902237952&#45;&gt;136744902238240tanh</title>\n<path fill=\"none\" stroke=\"black\" d=\"M1496.88,-783C1506.87,-783 1516.84,-783 1525.87,-783\"/>\n<polygon fill=\"black\" stroke=\"black\" points=\"1525.99,-786.5 1535.99,-783 1525.99,-779.5 1525.99,-786.5\"/>\n</g>\n<!-- 136744902237952+&#45;&gt;136744902237952 -->\n<g id=\"edge71\" class=\"edge\">\n<title>136744902237952+&#45;&gt;136744902237952</title>\n<path fill=\"none\" stroke=\"black\" d=\"M1324.19,-783C1332.8,-783 1342.83,-783 1353.22,-783\"/>\n<polygon fill=\"black\" stroke=\"black\" points=\"1353.25,-786.5 1363.25,-783 1353.25,-779.5 1353.25,-786.5\"/>\n</g>\n<!-- 136744902238096 -->\n<g id=\"node194\" class=\"node\">\n<title>136744902238096</title>\n<polygon fill=\"none\" stroke=\"black\" points=\"1134,-264.5 1134,-333.5 1188,-333.5 1188,-264.5 1134,-264.5\"/>\n<text text-anchor=\"middle\" x=\"1161\" y=\"-318.3\" font-family=\"Times,serif\" font-size=\"14.00\"> </text>\n<polyline fill=\"none\" stroke=\"black\" points=\"1134,-310.5 1188,-310.5 \"/>\n<text text-anchor=\"middle\" x=\"1161\" y=\"-295.3\" font-family=\"Times,serif\" font-size=\"14.00\">&#45;1.0</text>\n<polyline fill=\"none\" stroke=\"black\" points=\"1134,-287.5 1188,-287.5 \"/>\n<text text-anchor=\"middle\" x=\"1161\" y=\"-272.3\" font-family=\"Times,serif\" font-size=\"14.00\">0.0</text>\n</g>\n<!-- 136744902238096&#45;&gt;136744902239248* -->\n<g id=\"edge102\" class=\"edge\">\n<title>136744902238096&#45;&gt;136744902239248*</title>\n<path fill=\"none\" stroke=\"black\" d=\"M1188.15,-299C1208.54,-299 1237.08,-299 1259.68,-299\"/>\n<polygon fill=\"black\" stroke=\"black\" points=\"1259.91,-302.5 1269.91,-299 1259.91,-295.5 1259.91,-302.5\"/>\n</g>\n<!-- 136744902246304 -->\n<g id=\"node195\" class=\"node\">\n<title>136744902246304</title>\n<polygon fill=\"none\" stroke=\"black\" points=\"277.5,-836.5 277.5,-905.5 412.5,-905.5 412.5,-836.5 277.5,-836.5\"/>\n<text text-anchor=\"middle\" x=\"345\" y=\"-890.3\" font-family=\"Times,serif\" font-size=\"14.00\"> </text>\n<polyline fill=\"none\" stroke=\"black\" points=\"277.5,-882.5 412.5,-882.5 \"/>\n<text text-anchor=\"middle\" x=\"345\" y=\"-867.3\" font-family=\"Times,serif\" font-size=\"14.00\">0.2338582255367483</text>\n<polyline fill=\"none\" stroke=\"black\" points=\"277.5,-859.5 412.5,-859.5 \"/>\n<text text-anchor=\"middle\" x=\"345\" y=\"-844.3\" font-family=\"Times,serif\" font-size=\"14.00\">0.0</text>\n</g>\n<!-- 136744902246304&#45;&gt;136744902233008* -->\n<g id=\"edge91\" class=\"edge\">\n<title>136744902246304&#45;&gt;136744902233008*</title>\n<path fill=\"none\" stroke=\"black\" d=\"M403.6,-905.71C408.5,-908.81 413.35,-911.94 418,-915 430,-922.91 443.01,-932.05 454,-939.95\"/>\n<polygon fill=\"black\" stroke=\"black\" points=\"452.16,-942.94 462.32,-945.96 456.26,-937.27 452.16,-942.94\"/>\n</g>\n<!-- 136744902647744 -->\n<g id=\"node196\" class=\"node\">\n<title>136744902647744</title>\n<polygon fill=\"none\" stroke=\"black\" points=\"2445,-922.5 2445,-991.5 2591,-991.5 2591,-922.5 2445,-922.5\"/>\n<text text-anchor=\"middle\" x=\"2518\" y=\"-976.3\" font-family=\"Times,serif\" font-size=\"14.00\"> </text>\n<polyline fill=\"none\" stroke=\"black\" points=\"2445,-968.5 2591,-968.5 \"/>\n<text text-anchor=\"middle\" x=\"2518\" y=\"-953.3\" font-family=\"Times,serif\" font-size=\"14.00\">&#45;0.21604532697771306</text>\n<polyline fill=\"none\" stroke=\"black\" points=\"2445,-945.5 2591,-945.5 \"/>\n<text text-anchor=\"middle\" x=\"2518\" y=\"-930.3\" font-family=\"Times,serif\" font-size=\"14.00\">0.0</text>\n</g>\n<!-- 136744902647744&#45;&gt;136744902647936+ -->\n<g id=\"edge199\" class=\"edge\">\n<title>136744902647744&#45;&gt;136744902647936+</title>\n<path fill=\"none\" stroke=\"black\" d=\"M2582.8,-922.31C2585.8,-919.4 2588.56,-916.3 2591,-913 2616.25,-878.84 2639.16,-755.28 2648.52,-699.12\"/>\n<polygon fill=\"black\" stroke=\"black\" points=\"2652,-699.58 2650.16,-689.15 2645.09,-698.45 2652,-699.58\"/>\n</g>\n<!-- 136744902647744*&#45;&gt;136744902647744 -->\n<g id=\"edge72\" class=\"edge\">\n<title>136744902647744*&#45;&gt;136744902647744</title>\n<path fill=\"none\" stroke=\"black\" d=\"M2409.15,-957C2416.82,-957 2425.63,-957 2434.85,-957\"/>\n<polygon fill=\"black\" stroke=\"black\" points=\"2434.98,-960.5 2444.98,-957 2434.98,-953.5 2434.98,-960.5\"/>\n</g>\n<!-- 136744902246352 -->\n<g id=\"node198\" class=\"node\">\n<title>136744902246352</title>\n<polygon fill=\"none\" stroke=\"black\" points=\"2717,-900.5 2717,-969.5 2857,-969.5 2857,-900.5 2717,-900.5\"/>\n<text text-anchor=\"middle\" x=\"2787\" y=\"-954.3\" font-family=\"Times,serif\" font-size=\"14.00\"> </text>\n<polyline fill=\"none\" stroke=\"black\" points=\"2717,-946.5 2857,-946.5 \"/>\n<text text-anchor=\"middle\" x=\"2787\" y=\"-931.3\" font-family=\"Times,serif\" font-size=\"14.00\">&#45;1.2082174795823057</text>\n<polyline fill=\"none\" stroke=\"black\" points=\"2717,-923.5 2857,-923.5 \"/>\n<text text-anchor=\"middle\" x=\"2787\" y=\"-908.3\" font-family=\"Times,serif\" font-size=\"14.00\">0.0</text>\n</g>\n<!-- 136744902246352&#45;&gt;136744902245152tanh -->\n<g id=\"edge86\" class=\"edge\">\n<title>136744902246352&#45;&gt;136744902245152tanh</title>\n<path fill=\"none\" stroke=\"black\" d=\"M2857.34,-935C2866.13,-935 2874.82,-935 2882.79,-935\"/>\n<polygon fill=\"black\" stroke=\"black\" points=\"2882.8,-938.5 2892.8,-935 2882.8,-931.5 2882.8,-938.5\"/>\n</g>\n<!-- 136744902246352+&#45;&gt;136744902246352 -->\n<g id=\"edge73\" class=\"edge\">\n<title>136744902246352+&#45;&gt;136744902246352</title>\n<path fill=\"none\" stroke=\"black\" d=\"M2681.19,-935C2688.87,-935 2697.69,-935 2706.89,-935\"/>\n<polygon fill=\"black\" stroke=\"black\" points=\"2706.97,-938.5 2716.97,-935 2706.97,-931.5 2706.97,-938.5\"/>\n</g>\n</g>\n</svg>\n",
            "text/plain": [
              "<graphviz.graphs.Digraph at 0x7c5e67528580>"
            ]
          },
          "metadata": {},
          "execution_count": 97
        }
      ]
    },
    {
      "cell_type": "code",
      "source": [
        "xs = [\n",
        "    [2.0, 3.0, -1.0],\n",
        "    [3.0, -1.0, 0.5],\n",
        "    [0.5, 1.0, 1.0],\n",
        "    [1.0, 1.0, -1.0],\n",
        "]\n",
        "ys = [1.0, -1.0, -1.0, 1.0]"
      ],
      "metadata": {
        "id": "QqgaqWiAiN8h"
      },
      "execution_count": 121,
      "outputs": []
    },
    {
      "cell_type": "code",
      "source": [
        "# without any training\n",
        "ypred = [n(x) for x in xs]\n",
        "ypred"
      ],
      "metadata": {
        "colab": {
          "base_uri": "https://localhost:8080/"
        },
        "id": "yd2bG81KjJs_",
        "outputId": "3b5d332d-01fc-433f-c8e2-97fcdbf98a72"
      },
      "execution_count": 157,
      "outputs": [
        {
          "output_type": "execute_result",
          "data": {
            "text/plain": [
              "[Value(data=-0.6623685864241715),\n",
              " Value(data=-0.7270753545558064),\n",
              " Value(data=-0.8180538216234716),\n",
              " Value(data=-0.7668410934630643)]"
            ]
          },
          "metadata": {},
          "execution_count": 157
        }
      ]
    },
    {
      "cell_type": "code",
      "source": [
        "# the trick is to somehow come up with a single number to see the performance of net\n",
        "# this single number is called\n",
        "# the goal is get this number; loss as small as possible\n",
        "\n",
        "loss = sum((yout - ygt)**2 for ygt, yout in zip(ys, ypred))\n",
        "loss"
      ],
      "metadata": {
        "colab": {
          "base_uri": "https://localhost:8080/"
        },
        "id": "ln6URp1TjOJx",
        "outputId": "3d7f60c8-8a7f-405f-fce1-084e7dc5ae50"
      },
      "execution_count": 164,
      "outputs": [
        {
          "output_type": "execute_result",
          "data": {
            "text/plain": [
              "Value(data=5.992789040596317)"
            ]
          },
          "metadata": {},
          "execution_count": 164
        }
      ]
    },
    {
      "cell_type": "code",
      "source": [
        "loss.backward()"
      ],
      "metadata": {
        "id": "_uQkY9igj0Yz"
      },
      "execution_count": 162,
      "outputs": []
    },
    {
      "cell_type": "code",
      "source": [
        "draw_dot(loss)"
      ],
      "metadata": {
        "id": "0EsA-gbGlsNz"
      },
      "execution_count": null,
      "outputs": []
    },
    {
      "cell_type": "code",
      "source": [
        "n.layers[0].neurons[0].w[0].grad"
      ],
      "metadata": {
        "colab": {
          "base_uri": "https://localhost:8080/"
        },
        "id": "jxwZNR9Ql0KH",
        "outputId": "ee2141bd-8bd7-4116-86ee-39e7e1df1c23"
      },
      "execution_count": 125,
      "outputs": [
        {
          "output_type": "execute_result",
          "data": {
            "text/plain": [
              "-0.03512661493300333"
            ]
          },
          "metadata": {},
          "execution_count": 125
        }
      ]
    },
    {
      "cell_type": "code",
      "source": [
        "# now we want to slightly nudge the parameter value by small step size in direction of\n",
        "# think of this as gradient which in direction of loss\n",
        "# we want to minimise the loss; hence we use negative sign\n",
        "for p in n.parameters():\n",
        "  p.data += -0.1 * p.grad"
      ],
      "metadata": {
        "id": "IJ951DtimVNv"
      },
      "execution_count": 163,
      "outputs": []
    },
    {
      "cell_type": "code",
      "source": [
        "# since we tried to align our parameters; loss should have gone down"
      ],
      "metadata": {
        "id": "WugwQbOqoMvk"
      },
      "execution_count": 166,
      "outputs": []
    },
    {
      "cell_type": "code",
      "source": [
        "# let us implement a training loop now\n",
        "\n",
        "xs = [\n",
        "    [2.0, 3.0, -1.0],\n",
        "    [3.0, -1.0, 0.5],\n",
        "    [0.5, 1.0, 1.0],\n",
        "    [1.0, 1.0, -1.0],\n",
        "]\n",
        "ys = [1.0, -1.0, -1.0, 1.0]\n",
        "\n",
        "n = MLP(3, [4, 4, 1])\n",
        "\n",
        "\n",
        "for i in range(20):\n",
        "  ypred = [n(x) for x in xs]\n",
        "  # forward pass\n",
        "  loss = sum((yout - ygt)**2 for ygt, yout in zip(ys, ypred))\n",
        "  #backward pass\n",
        "  loss.backward()\n",
        "  # try to fix\n",
        "  for p in n.parameters():\n",
        "    p.data += -0.05 * p.grad\n",
        "\n",
        "  print(i, loss.data)\n",
        "\n",
        "[n(x) for x in xs]"
      ],
      "metadata": {
        "colab": {
          "base_uri": "https://localhost:8080/"
        },
        "id": "USy6eBsCpw5I",
        "outputId": "467e718f-2e2d-4a6a-abf7-db6152cc9f1c"
      },
      "execution_count": 173,
      "outputs": [
        {
          "output_type": "stream",
          "name": "stdout",
          "text": [
            "0 5.45211553810867\n",
            "1 4.91673015964924\n",
            "2 4.749114684668526\n",
            "3 4.062500671093211\n",
            "4 3.8815758959649456\n",
            "5 3.803504199025776\n",
            "6 3.6523399801669023\n",
            "7 3.2395043027649195\n",
            "8 2.887092545505319\n",
            "9 2.212041740837393\n",
            "10 0.37741817485919577\n",
            "11 0.07891654201164772\n",
            "12 0.02147073177199081\n",
            "13 0.007029889911390361\n",
            "14 0.0025543900114908076\n",
            "15 0.000950458150648182\n",
            "16 0.0003160906212144634\n",
            "17 0.00012231413718960532\n",
            "18 9.850759066148916e-05\n",
            "19 0.0001267005414959935\n"
          ]
        },
        {
          "output_type": "execute_result",
          "data": {
            "text/plain": [
              "[Value(data=0.9913179292717197),\n",
              " Value(data=-0.9999997389675931),\n",
              " Value(data=-0.9999999905141116),\n",
              " Value(data=0.9871419828507703)]"
            ]
          },
          "metadata": {},
          "execution_count": 173
        }
      ]
    },
    {
      "cell_type": "code",
      "source": [
        "# there is a bug in above code. We do not flush the grad after tweaking the data.\n",
        "# all the backward operation do a '+' and it just keep increasing.\n",
        "\n",
        "\n",
        "# xs = [\n",
        "#     [2.0, 3.0, -1.0],\n",
        "#     [3.0, -1.0, 0.5],\n",
        "#     [0.5, 1.0, 1.0],\n",
        "#     [1.0, 1.0, -1.0],\n",
        "# ]\n",
        "# ys = [1.0, -1.0, -1.0, 1.0]\n",
        "\n",
        "# n = MLP(3, [4, 4, 1])\n",
        "\n",
        "\n",
        "for i in range(20):\n",
        "  ypred = [n(x) for x in xs]\n",
        "  # forward pass\n",
        "  loss = sum((yout - ygt)**2 for ygt, yout in zip(ys, ypred))\n",
        "  #backward pass\n",
        "  for p in n.parameters():\n",
        "    p.grad = 0.0\n",
        "  loss.backward()\n",
        "  # try to fix\n",
        "  for p in n.parameters():\n",
        "    p.data += -0.05 * p.grad\n",
        "\n",
        "  print(i, loss.data)\n",
        "\n",
        "[n(x) for x in xs]"
      ],
      "metadata": {
        "colab": {
          "base_uri": "https://localhost:8080/"
        },
        "id": "1TD4OLsEqS1N",
        "outputId": "084462f2-8d0c-481a-c3b2-3ee9a1973aac"
      },
      "execution_count": 195,
      "outputs": [
        {
          "output_type": "stream",
          "name": "stdout",
          "text": [
            "0 0.0017091499183641051\n",
            "1 0.0017042943635970902\n",
            "2 0.0016994655547468956\n",
            "3 0.001694663273810487\n",
            "4 0.0016898873051337704\n",
            "5 0.0016851374353802438\n",
            "6 0.0016804134534999962\n",
            "7 0.0016757151506992976\n",
            "8 0.001671042320410651\n",
            "9 0.001666394758263284\n",
            "10 0.0016617722620541646\n",
            "11 0.001657174631719409\n",
            "12 0.0016526016693061908\n",
            "13 0.0016480531789450797\n",
            "14 0.001643528966822775\n",
            "15 0.0016390288411553577\n",
            "16 0.0016345526121618007\n",
            "17 0.001630100092038083\n",
            "18 0.0016256710949315485\n",
            "19 0.0016212654369157553\n"
          ]
        },
        {
          "output_type": "execute_result",
          "data": {
            "text/plain": [
              "[Value(data=0.9814549470594968),\n",
              " Value(data=-0.9861385907020344),\n",
              " Value(data=-0.9748781145220523),\n",
              " Value(data=0.9787934880353532)]"
            ]
          },
          "metadata": {},
          "execution_count": 195
        }
      ]
    },
    {
      "cell_type": "code",
      "source": [
        "# https://github.com/pytorch/pytorch/blob/main/aten/src/ATen/native/cpu/BinaryOpsKernel.cpp#L914"
      ],
      "metadata": {
        "id": "OQFJfyJCq6kz"
      },
      "execution_count": 196,
      "outputs": []
    },
    {
      "cell_type": "code",
      "source": [],
      "metadata": {
        "id": "buRhUnMhty0q"
      },
      "execution_count": null,
      "outputs": []
    }
  ]
}