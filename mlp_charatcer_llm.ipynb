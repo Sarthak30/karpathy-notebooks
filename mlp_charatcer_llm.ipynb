{
  "nbformat": 4,
  "nbformat_minor": 0,
  "metadata": {
    "colab": {
      "provenance": [],
      "authorship_tag": "ABX9TyPk1RTjyqqGIlenz8u9H00n"
    },
    "kernelspec": {
      "name": "python3",
      "display_name": "Python 3"
    },
    "language_info": {
      "name": "python"
    }
  },
  "cells": [
    {
      "cell_type": "code",
      "execution_count": 1,
      "metadata": {
        "id": "0lwNL4DERZrc"
      },
      "outputs": [],
      "source": [
        "import torch\n",
        "import torch.nn.functional as F\n",
        "import matplotlib.pyplot as plt\n",
        "%matplotlib inline"
      ]
    },
    {
      "cell_type": "code",
      "source": [
        "words = open('names.txt', 'r').read().splitlines()\n",
        "words[:8]"
      ],
      "metadata": {
        "colab": {
          "base_uri": "https://localhost:8080/"
        },
        "id": "9g7IDjV-Rotc",
        "outputId": "6401ce7d-72a2-4c2f-e3ca-67fd6c4b2ed3"
      },
      "execution_count": 2,
      "outputs": [
        {
          "output_type": "execute_result",
          "data": {
            "text/plain": [
              "['emma', 'olivia', 'ava', 'isabella', 'sophia', 'charlotte', 'mia', 'amelia']"
            ]
          },
          "metadata": {},
          "execution_count": 2
        }
      ]
    },
    {
      "cell_type": "code",
      "source": [
        "len(words)"
      ],
      "metadata": {
        "colab": {
          "base_uri": "https://localhost:8080/"
        },
        "id": "H4X0-kwSRw-2",
        "outputId": "b6ccae38-fbe9-48e6-c510-41f315fcdf20"
      },
      "execution_count": 3,
      "outputs": [
        {
          "output_type": "execute_result",
          "data": {
            "text/plain": [
              "32033"
            ]
          },
          "metadata": {},
          "execution_count": 3
        }
      ]
    },
    {
      "cell_type": "code",
      "source": [
        "chars = sorted(list(set(''.join(words))))\n",
        "stoi = {s:i+1 for i, s in enumerate(chars)}\n",
        "stoi['.'] = 0\n",
        "itos = {i:s for s, i in stoi.items()}\n",
        "print(itos)"
      ],
      "metadata": {
        "colab": {
          "base_uri": "https://localhost:8080/"
        },
        "id": "QFAjF6CkRy4l",
        "outputId": "334e8c8e-b8dc-45ff-cc4c-eee723584b9a"
      },
      "execution_count": 4,
      "outputs": [
        {
          "output_type": "stream",
          "name": "stdout",
          "text": [
            "{1: 'a', 2: 'b', 3: 'c', 4: 'd', 5: 'e', 6: 'f', 7: 'g', 8: 'h', 9: 'i', 10: 'j', 11: 'k', 12: 'l', 13: 'm', 14: 'n', 15: 'o', 16: 'p', 17: 'q', 18: 'r', 19: 's', 20: 't', 21: 'u', 22: 'v', 23: 'w', 24: 'x', 25: 'y', 26: 'z', 0: '.'}\n"
          ]
        }
      ]
    },
    {
      "cell_type": "code",
      "source": [
        "# build the dataset\n",
        "\n",
        "block_size = 3 # heard cotext length?\n",
        "X, Y = [], []\n",
        "for w in words[:5]:\n",
        "  print(w)\n",
        "  context = [0] * block_size\n",
        "  for ch in w + '.':\n",
        "    ix = stoi[ch]\n",
        "    X.append(context)\n",
        "    Y.append(ix)\n",
        "    print(''.join(itos[i] for i in context), '--->', itos[ix])\n",
        "    context = context[1:] + [ix]\n",
        "X = torch.tensor(X)\n",
        "Y = torch.tensor(Y)"
      ],
      "metadata": {
        "colab": {
          "base_uri": "https://localhost:8080/"
        },
        "id": "k0EjWZDWSEr0",
        "outputId": "66f27b38-6b5a-4ed7-b9d2-9df4c88b6f24"
      },
      "execution_count": 5,
      "outputs": [
        {
          "output_type": "stream",
          "name": "stdout",
          "text": [
            "emma\n",
            "... ---> e\n",
            "..e ---> m\n",
            ".em ---> m\n",
            "emm ---> a\n",
            "mma ---> .\n",
            "olivia\n",
            "... ---> o\n",
            "..o ---> l\n",
            ".ol ---> i\n",
            "oli ---> v\n",
            "liv ---> i\n",
            "ivi ---> a\n",
            "via ---> .\n",
            "ava\n",
            "... ---> a\n",
            "..a ---> v\n",
            ".av ---> a\n",
            "ava ---> .\n",
            "isabella\n",
            "... ---> i\n",
            "..i ---> s\n",
            ".is ---> a\n",
            "isa ---> b\n",
            "sab ---> e\n",
            "abe ---> l\n",
            "bel ---> l\n",
            "ell ---> a\n",
            "lla ---> .\n",
            "sophia\n",
            "... ---> s\n",
            "..s ---> o\n",
            ".so ---> p\n",
            "sop ---> h\n",
            "oph ---> i\n",
            "phi ---> a\n",
            "hia ---> .\n"
          ]
        }
      ]
    },
    {
      "cell_type": "code",
      "source": [
        "# X\n",
        "# Y\n",
        "X.shape, X.dtype, Y.shape, Y.dtype"
      ],
      "metadata": {
        "colab": {
          "base_uri": "https://localhost:8080/"
        },
        "id": "EdNAl3pjSkMi",
        "outputId": "0ef2d0f6-4126-4b8a-e53f-33b72f62de93"
      },
      "execution_count": 8,
      "outputs": [
        {
          "output_type": "execute_result",
          "data": {
            "text/plain": [
              "(torch.Size([32, 3]), torch.int64, torch.Size([32]), torch.int64)"
            ]
          },
          "metadata": {},
          "execution_count": 8
        }
      ]
    },
    {
      "cell_type": "code",
      "source": [
        "# let us create embeddings lookup table\n",
        "C = torch.randn((27, 2))"
      ],
      "metadata": {
        "id": "q2Q_NIi-TKT-"
      },
      "execution_count": 9,
      "outputs": []
    },
    {
      "cell_type": "code",
      "source": [
        "C[5]"
      ],
      "metadata": {
        "colab": {
          "base_uri": "https://localhost:8080/"
        },
        "id": "u9FA3kWIUAh6",
        "outputId": "2ee4c6bf-2b81-4e79-ae6e-049c17f404b9"
      },
      "execution_count": 10,
      "outputs": [
        {
          "output_type": "execute_result",
          "data": {
            "text/plain": [
              "tensor([-1.6882, -0.0698])"
            ]
          },
          "metadata": {},
          "execution_count": 10
        }
      ]
    },
    {
      "cell_type": "code",
      "source": [
        "# let us take something from previous notebook i.e. character_llm\n",
        "# if we do one hot encoding.\n",
        "# So basically we can directly index at '5'\n",
        "F.one_hot(torch.tensor(5), num_classes=27).float() @ C"
      ],
      "metadata": {
        "colab": {
          "base_uri": "https://localhost:8080/"
        },
        "id": "rfvt4MVHTeHX",
        "outputId": "cc830691-70dd-4d1d-c028-23cdf979a020"
      },
      "execution_count": 11,
      "outputs": [
        {
          "output_type": "execute_result",
          "data": {
            "text/plain": [
              "tensor([-1.6882, -0.0698])"
            ]
          },
          "metadata": {},
          "execution_count": 11
        }
      ]
    },
    {
      "cell_type": "code",
      "source": [
        "# We can either think of it as the integer indexing into a lookup table C\n",
        "# Equivalently we can think it as first layer of bigger neural network\n",
        "# Hint: see we just did a matrix multiplication above\n",
        "# But it has no non-linearity and\n",
        "# the weight matrix is C\n",
        "# we one hot the inputs and feed the this neural net first and this embeds them"
      ],
      "metadata": {
        "id": "S8tQsnH6UGyH"
      },
      "execution_count": 12,
      "outputs": []
    },
    {
      "cell_type": "code",
      "source": [
        "# indexing '5' is easy. We can simply index at 5 as shown above\n",
        "# but we need to simultaneously embed all [32, 3] (X.shape)\n",
        "# pytorch can help us here\n",
        "# this is 1D. [32, 3] is 2D\n",
        "C[[5, 6, 7]]"
      ],
      "metadata": {
        "colab": {
          "base_uri": "https://localhost:8080/"
        },
        "id": "aHvho5wSYsac",
        "outputId": "32480a30-7c84-40f7-9117-80395206f213"
      },
      "execution_count": 13,
      "outputs": [
        {
          "output_type": "execute_result",
          "data": {
            "text/plain": [
              "tensor([[-1.6882, -0.0698],\n",
              "        [-0.9089, -1.3089],\n",
              "        [ 0.6793,  0.5912]])"
            ]
          },
          "metadata": {},
          "execution_count": 13
        }
      ]
    },
    {
      "cell_type": "code",
      "source": [
        "# little pytorch trick\n",
        "C[X].shape"
      ],
      "metadata": {
        "colab": {
          "base_uri": "https://localhost:8080/"
        },
        "id": "78agx1v6Yvgl",
        "outputId": "ad14d20c-fe11-4d3f-f678-c1afc02726d8"
      },
      "execution_count": 14,
      "outputs": [
        {
          "output_type": "execute_result",
          "data": {
            "text/plain": [
              "torch.Size([32, 3, 2])"
            ]
          },
          "metadata": {},
          "execution_count": 14
        }
      ]
    },
    {
      "cell_type": "code",
      "source": [
        "# example\n",
        "X[13, 2]"
      ],
      "metadata": {
        "colab": {
          "base_uri": "https://localhost:8080/"
        },
        "id": "m5pmA-d3ZHBe",
        "outputId": "b9d9d47b-0a19-4b0e-d724-9875ad1a29df"
      },
      "execution_count": 15,
      "outputs": [
        {
          "output_type": "execute_result",
          "data": {
            "text/plain": [
              "tensor(1)"
            ]
          },
          "metadata": {},
          "execution_count": 15
        }
      ]
    },
    {
      "cell_type": "code",
      "source": [
        "C[X][13, 2]"
      ],
      "metadata": {
        "colab": {
          "base_uri": "https://localhost:8080/"
        },
        "id": "EgtPKjssZRct",
        "outputId": "4d5cba3c-886c-4e69-d1ec-51a2f459d363"
      },
      "execution_count": 16,
      "outputs": [
        {
          "output_type": "execute_result",
          "data": {
            "text/plain": [
              "tensor([-0.1966, -0.3407])"
            ]
          },
          "metadata": {},
          "execution_count": 16
        }
      ]
    },
    {
      "cell_type": "code",
      "source": [
        "C[1]"
      ],
      "metadata": {
        "colab": {
          "base_uri": "https://localhost:8080/"
        },
        "id": "b1818VJiZTxk",
        "outputId": "ec97a02d-fb96-4caa-f287-b1b29a0367da"
      },
      "execution_count": 17,
      "outputs": [
        {
          "output_type": "execute_result",
          "data": {
            "text/plain": [
              "tensor([-0.1966, -0.3407])"
            ]
          },
          "metadata": {},
          "execution_count": 17
        }
      ]
    },
    {
      "cell_type": "code",
      "source": [
        "emb = C[X]\n",
        "emb.shape"
      ],
      "metadata": {
        "colab": {
          "base_uri": "https://localhost:8080/"
        },
        "id": "udPkLEIrZXkt",
        "outputId": "918170c6-800c-47ed-d276-dbaac6f5cecb"
      },
      "execution_count": 18,
      "outputs": [
        {
          "output_type": "execute_result",
          "data": {
            "text/plain": [
              "torch.Size([32, 3, 2])"
            ]
          },
          "metadata": {},
          "execution_count": 18
        }
      ]
    },
    {
      "cell_type": "code",
      "source": [
        "W1 = torch.randn((6, 100)) # 6 because 3 * 2 from embedding shape\n",
        "b1 = torch.randn(100)\n",
        "\n",
        "# we can not simply emb @ W1 because shape is not same\n",
        "# we need to concatenate so that we have [32, 6]"
      ],
      "metadata": {
        "id": "7cqW1BrcZfgM"
      },
      "execution_count": 19,
      "outputs": []
    },
    {
      "cell_type": "code",
      "source": [
        "emb[:, 0, :].shape"
      ],
      "metadata": {
        "colab": {
          "base_uri": "https://localhost:8080/"
        },
        "id": "ac3c7sH3aXhx",
        "outputId": "a5cd10f0-0eaa-44e1-967e-738a920b0c17"
      },
      "execution_count": 20,
      "outputs": [
        {
          "output_type": "execute_result",
          "data": {
            "text/plain": [
              "torch.Size([32, 2])"
            ]
          },
          "metadata": {},
          "execution_count": 20
        }
      ]
    },
    {
      "cell_type": "code",
      "source": [
        "# we basically want 0, 1, 2\n",
        "torch.cat([emb[:, 0, :], emb[:, 1, :], emb[:, 2, :]], 1).shape"
      ],
      "metadata": {
        "colab": {
          "base_uri": "https://localhost:8080/"
        },
        "id": "-nuI6fiXadMi",
        "outputId": "6e0ed5c4-162b-4c88-fb27-d1dd1cfeeefb"
      },
      "execution_count": 21,
      "outputs": [
        {
          "output_type": "execute_result",
          "data": {
            "text/plain": [
              "torch.Size([32, 6])"
            ]
          },
          "metadata": {},
          "execution_count": 21
        }
      ]
    },
    {
      "cell_type": "code",
      "source": [
        "torch.unbind(emb, 1)[0].shape"
      ],
      "metadata": {
        "colab": {
          "base_uri": "https://localhost:8080/"
        },
        "id": "jsqdSDwJaoMn",
        "outputId": "57e9b94c-3110-49f9-9f4e-1168f850dd7d"
      },
      "execution_count": 22,
      "outputs": [
        {
          "output_type": "execute_result",
          "data": {
            "text/plain": [
              "torch.Size([32, 2])"
            ]
          },
          "metadata": {},
          "execution_count": 22
        }
      ]
    },
    {
      "cell_type": "code",
      "source": [
        "len(torch.unbind(emb, 1))"
      ],
      "metadata": {
        "colab": {
          "base_uri": "https://localhost:8080/"
        },
        "id": "wn2_2vlXa6as",
        "outputId": "a849aa88-dece-4384-ee95-a790c6e78e76"
      },
      "execution_count": 24,
      "outputs": [
        {
          "output_type": "execute_result",
          "data": {
            "text/plain": [
              "3"
            ]
          },
          "metadata": {},
          "execution_count": 24
        }
      ]
    },
    {
      "cell_type": "code",
      "source": [
        "torch.cat(torch.unbind(emb, 1), 1).shape # cat will create new memory and new tensors"
      ],
      "metadata": {
        "colab": {
          "base_uri": "https://localhost:8080/"
        },
        "id": "8JCEMGQfbA0b",
        "outputId": "7db3ce7e-1cb8-4c8f-e34d-58103543212d"
      },
      "execution_count": 25,
      "outputs": [
        {
          "output_type": "execute_result",
          "data": {
            "text/plain": [
              "torch.Size([32, 6])"
            ]
          },
          "metadata": {},
          "execution_count": 25
        }
      ]
    },
    {
      "cell_type": "code",
      "source": [
        "# this is one way to do it\n",
        "# we can do better\n",
        "a = torch.arange(18)"
      ],
      "metadata": {
        "id": "dHQr5ZBQbGWI"
      },
      "execution_count": 26,
      "outputs": []
    },
    {
      "cell_type": "code",
      "source": [
        "a.shape"
      ],
      "metadata": {
        "colab": {
          "base_uri": "https://localhost:8080/"
        },
        "id": "7PvTZLowba_B",
        "outputId": "d434a683-7123-4757-bd18-38309892a744"
      },
      "execution_count": 27,
      "outputs": [
        {
          "output_type": "execute_result",
          "data": {
            "text/plain": [
              "torch.Size([18])"
            ]
          },
          "metadata": {},
          "execution_count": 27
        }
      ]
    },
    {
      "cell_type": "code",
      "source": [
        "# a.view(9, 2)\n",
        "# a.view(2, 9)\n",
        "a.view(3, 3, 2)"
      ],
      "metadata": {
        "colab": {
          "base_uri": "https://localhost:8080/"
        },
        "id": "4SGk4JnVbb-t",
        "outputId": "dfec6b27-e6f8-4e96-f747-4560d6a1bda1"
      },
      "execution_count": 31,
      "outputs": [
        {
          "output_type": "execute_result",
          "data": {
            "text/plain": [
              "tensor([[[ 0,  1],\n",
              "         [ 2,  3],\n",
              "         [ 4,  5]],\n",
              "\n",
              "        [[ 6,  7],\n",
              "         [ 8,  9],\n",
              "         [10, 11]],\n",
              "\n",
              "        [[12, 13],\n",
              "         [14, 15],\n",
              "         [16, 17]]])"
            ]
          },
          "metadata": {},
          "execution_count": 31
        }
      ]
    },
    {
      "cell_type": "code",
      "source": [
        "# .view is very efficient\n",
        "# in each tensor we have underlying storage\n",
        "# storage is just one-dimensional vector\n",
        "# when we call view, we manipulate some attributes that dictate\n",
        "# how this sequence is interpreted.\n",
        "# BUT it is not moved, copied, extended, deleted etc"
      ],
      "metadata": {
        "id": "dAm_FCOubd4r"
      },
      "execution_count": 32,
      "outputs": []
    },
    {
      "cell_type": "code",
      "source": [
        "emb.view(32, 6) == torch.cat(torch.unbind(emb, 1), 1)"
      ],
      "metadata": {
        "colab": {
          "base_uri": "https://localhost:8080/"
        },
        "id": "_lYJ176VcbTK",
        "outputId": "48a830f3-076d-4315-887d-a78e58fafd72"
      },
      "execution_count": 34,
      "outputs": [
        {
          "output_type": "execute_result",
          "data": {
            "text/plain": [
              "tensor([[True, True, True, True, True, True],\n",
              "        [True, True, True, True, True, True],\n",
              "        [True, True, True, True, True, True],\n",
              "        [True, True, True, True, True, True],\n",
              "        [True, True, True, True, True, True],\n",
              "        [True, True, True, True, True, True],\n",
              "        [True, True, True, True, True, True],\n",
              "        [True, True, True, True, True, True],\n",
              "        [True, True, True, True, True, True],\n",
              "        [True, True, True, True, True, True],\n",
              "        [True, True, True, True, True, True],\n",
              "        [True, True, True, True, True, True],\n",
              "        [True, True, True, True, True, True],\n",
              "        [True, True, True, True, True, True],\n",
              "        [True, True, True, True, True, True],\n",
              "        [True, True, True, True, True, True],\n",
              "        [True, True, True, True, True, True],\n",
              "        [True, True, True, True, True, True],\n",
              "        [True, True, True, True, True, True],\n",
              "        [True, True, True, True, True, True],\n",
              "        [True, True, True, True, True, True],\n",
              "        [True, True, True, True, True, True],\n",
              "        [True, True, True, True, True, True],\n",
              "        [True, True, True, True, True, True],\n",
              "        [True, True, True, True, True, True],\n",
              "        [True, True, True, True, True, True],\n",
              "        [True, True, True, True, True, True],\n",
              "        [True, True, True, True, True, True],\n",
              "        [True, True, True, True, True, True],\n",
              "        [True, True, True, True, True, True],\n",
              "        [True, True, True, True, True, True],\n",
              "        [True, True, True, True, True, True]])"
            ]
          },
          "metadata": {},
          "execution_count": 34
        }
      ]
    },
    {
      "cell_type": "code",
      "source": [
        "# h = emb.view(32, 6) @ W1 + b1\n",
        "# care about broadcasting '+' here. Read the docs\n",
        "h = emb.view(emb.shape[0], 6) @ W1 + b1\n",
        "h.shape"
      ],
      "metadata": {
        "colab": {
          "base_uri": "https://localhost:8080/"
        },
        "id": "e8xAJqESce3W",
        "outputId": "d235c8b2-dfb6-4659-fec5-4f58daae6997"
      },
      "execution_count": 37,
      "outputs": [
        {
          "output_type": "execute_result",
          "data": {
            "text/plain": [
              "torch.Size([32, 100])"
            ]
          },
          "metadata": {},
          "execution_count": 37
        }
      ]
    },
    {
      "cell_type": "code",
      "source": [
        "h = torch.tanh(h)\n",
        "h.shape"
      ],
      "metadata": {
        "colab": {
          "base_uri": "https://localhost:8080/"
        },
        "id": "s0Vkr5LrcvXp",
        "outputId": "7eedf101-6d6d-46d3-b12b-4e0ac352ec98"
      },
      "execution_count": 38,
      "outputs": [
        {
          "output_type": "execute_result",
          "data": {
            "text/plain": [
              "torch.Size([32, 100])"
            ]
          },
          "metadata": {},
          "execution_count": 38
        }
      ]
    },
    {
      "cell_type": "code",
      "source": [
        "h"
      ],
      "metadata": {
        "colab": {
          "base_uri": "https://localhost:8080/"
        },
        "id": "3CLo5g-udU5U",
        "outputId": "09b3873b-c0c2-442a-c102-c754adb78ac7"
      },
      "execution_count": 39,
      "outputs": [
        {
          "output_type": "execute_result",
          "data": {
            "text/plain": [
              "tensor([[ 0.1083,  0.9295, -0.9845,  ...,  0.0195,  0.9743, -0.6886],\n",
              "        [ 0.6601,  0.9979, -0.8292,  ...,  0.9981,  0.6974,  0.8205],\n",
              "        [-0.3553, -0.6000, -0.9997,  ..., -0.9992,  0.9964, -0.9991],\n",
              "        ...,\n",
              "        [-0.9680,  0.9997, -0.8424,  ...,  0.9900,  0.9999,  0.9331],\n",
              "        [-0.0593, -0.9716, -0.9686,  ..., -1.0000, -0.8790, -0.9956],\n",
              "        [ 0.3729,  0.3755, -0.8379,  ...,  0.8823, -0.9769, -0.8639]])"
            ]
          },
          "metadata": {},
          "execution_count": 39
        }
      ]
    },
    {
      "cell_type": "code",
      "source": [
        "W2 = torch.randn((100, 27))\n",
        "b2 = torch.randn(27)"
      ],
      "metadata": {
        "id": "yMdv4aGMdV3b"
      },
      "execution_count": 40,
      "outputs": []
    },
    {
      "cell_type": "code",
      "source": [
        "logits = h @ W2 + b2\n",
        "logits.shape"
      ],
      "metadata": {
        "colab": {
          "base_uri": "https://localhost:8080/"
        },
        "id": "ENA3qEbldpH2",
        "outputId": "5acbc9a6-e375-4ea7-b16b-a099338bf411"
      },
      "execution_count": 41,
      "outputs": [
        {
          "output_type": "execute_result",
          "data": {
            "text/plain": [
              "torch.Size([32, 27])"
            ]
          },
          "metadata": {},
          "execution_count": 41
        }
      ]
    },
    {
      "cell_type": "code",
      "source": [
        "counts = logits.exp()"
      ],
      "metadata": {
        "id": "2qgCcNu8dsLb"
      },
      "execution_count": 43,
      "outputs": []
    },
    {
      "cell_type": "code",
      "source": [
        "prob = counts / counts.sum(1, keepdims=True)"
      ],
      "metadata": {
        "id": "a-PChrAtdvq2"
      },
      "execution_count": 44,
      "outputs": []
    },
    {
      "cell_type": "code",
      "source": [
        "prob.shape"
      ],
      "metadata": {
        "colab": {
          "base_uri": "https://localhost:8080/"
        },
        "id": "i9FBpLbudz5p",
        "outputId": "41b35a9b-b58f-4119-a164-b2ad02292082"
      },
      "execution_count": 45,
      "outputs": [
        {
          "output_type": "execute_result",
          "data": {
            "text/plain": [
              "torch.Size([32, 27])"
            ]
          },
          "metadata": {},
          "execution_count": 45
        }
      ]
    },
    {
      "cell_type": "code",
      "source": [
        "prob[0].sum()"
      ],
      "metadata": {
        "colab": {
          "base_uri": "https://localhost:8080/"
        },
        "id": "gp_o_865d00-",
        "outputId": "d4c6157a-34f2-4719-d2a2-04a9b5dd1d28"
      },
      "execution_count": 46,
      "outputs": [
        {
          "output_type": "execute_result",
          "data": {
            "text/plain": [
              "tensor(1.)"
            ]
          },
          "metadata": {},
          "execution_count": 46
        }
      ]
    },
    {
      "cell_type": "code",
      "source": [
        "prob[torch.arange(32), Y]"
      ],
      "metadata": {
        "colab": {
          "base_uri": "https://localhost:8080/"
        },
        "id": "QJPNCH3Md21e",
        "outputId": "bb1181b6-60e4-4245-a78c-b5e509e613e1"
      },
      "execution_count": 48,
      "outputs": [
        {
          "output_type": "execute_result",
          "data": {
            "text/plain": [
              "tensor([2.2684e-07, 4.0685e-10, 4.3028e-15, 1.0306e-08, 7.5497e-01, 2.2948e-12,\n",
              "        1.6408e-13, 4.5986e-11, 5.2164e-08, 9.6095e-06, 6.8127e-06, 2.7357e-20,\n",
              "        7.0481e-05, 6.2294e-08, 2.4091e-05, 1.4941e-05, 8.2367e-11, 4.7906e-12,\n",
              "        6.6535e-07, 8.3512e-08, 1.0281e-03, 3.0990e-12, 2.8499e-12, 1.4287e-07,\n",
              "        1.8022e-09, 2.1445e-06, 9.1335e-11, 1.6366e-09, 4.8460e-05, 5.2575e-10,\n",
              "        1.0431e-09, 3.5576e-05])"
            ]
          },
          "metadata": {},
          "execution_count": 48
        }
      ]
    },
    {
      "cell_type": "code",
      "source": [
        "loss = -prob[torch.arange(32), Y].log().mean()\n",
        "loss"
      ],
      "metadata": {
        "colab": {
          "base_uri": "https://localhost:8080/"
        },
        "id": "6lmpoUr4eFRX",
        "outputId": "70c85917-b0ff-46fd-d5d3-0d4f967eca96"
      },
      "execution_count": 49,
      "outputs": [
        {
          "output_type": "execute_result",
          "data": {
            "text/plain": [
              "tensor(18.6302)"
            ]
          },
          "metadata": {},
          "execution_count": 49
        }
      ]
    },
    {
      "cell_type": "code",
      "source": [
        "# bringing some of the things together to glance where we are\n",
        "\n",
        "# Our dataset are X, Y\n",
        "\n",
        "C = torch.randn((27, 2)) # this is embedding lookup\n",
        "W1 = torch.randn((6, 100))\n",
        "b1 = torch.randn(100)\n",
        "W2 = torch.randn((100, 27))\n",
        "b2 = torch.randn(27)\n",
        "parameters = [C, W1, b1, W2, b2]\n",
        "\n",
        "for p in parameters:\n",
        "  p.requires_grad = True"
      ],
      "metadata": {
        "id": "pF_1puv1ec7T"
      },
      "execution_count": 50,
      "outputs": []
    },
    {
      "cell_type": "code",
      "source": [
        "sum(p.nelement() for p in parameters)"
      ],
      "metadata": {
        "colab": {
          "base_uri": "https://localhost:8080/"
        },
        "id": "ahw37wE4e0Fu",
        "outputId": "d61703f3-e3fd-4593-9145-971ad1851bca"
      },
      "execution_count": 51,
      "outputs": [
        {
          "output_type": "execute_result",
          "data": {
            "text/plain": [
              "3481"
            ]
          },
          "metadata": {},
          "execution_count": 51
        }
      ]
    },
    {
      "cell_type": "code",
      "source": [
        "emb = C[X]\n",
        "h = emb.view(emb.shape[0], 6) @ W1 + b1\n",
        "h = torch.tanh(h)\n",
        "logits = h @ W2 + b2\n",
        "counts = logits.exp()\n",
        "prob = counts / counts.sum(1, keepdims=True)\n",
        "loss = -prob[torch.arange(32), Y].log().mean()\n",
        "loss"
      ],
      "metadata": {
        "colab": {
          "base_uri": "https://localhost:8080/"
        },
        "id": "h85j8H5Qe3gQ",
        "outputId": "9cd1d6c8-547e-4d88-ba52-5a4e32877fa3"
      },
      "execution_count": 52,
      "outputs": [
        {
          "output_type": "execute_result",
          "data": {
            "text/plain": [
              "tensor(19.6498, grad_fn=<NegBackward0>)"
            ]
          },
          "metadata": {},
          "execution_count": 52
        }
      ]
    },
    {
      "cell_type": "code",
      "source": [
        "# counts = logits.exp()\n",
        "# prob = counts / counts.sum(1, keepdims=True)\n",
        "# loss = -prob[torch.arange(32), Y].log().mean()\n",
        "# these lines are basically cross entropy\n",
        "F.cross_entropy(logits, Y)"
      ],
      "metadata": {
        "colab": {
          "base_uri": "https://localhost:8080/"
        },
        "id": "u2YYlCGxfrMZ",
        "outputId": "1d0a8fc1-2bd8-49a2-f7a5-9deb6b3c4380"
      },
      "execution_count": 53,
      "outputs": [
        {
          "output_type": "execute_result",
          "data": {
            "text/plain": [
              "tensor(19.6498, grad_fn=<NllLossBackward0>)"
            ]
          },
          "metadata": {},
          "execution_count": 53
        }
      ]
    },
    {
      "cell_type": "code",
      "source": [
        "# forward pass\n",
        "emb = C[X]\n",
        "h = emb.view(emb.shape[0], 6) @ W1 + b1\n",
        "h = torch.tanh(h)\n",
        "logits = h @ W2 + b2\n",
        "loss = F.cross_entropy(logits, Y)\n",
        "loss"
      ],
      "metadata": {
        "colab": {
          "base_uri": "https://localhost:8080/"
        },
        "id": "lkh-Agx2f-ZP",
        "outputId": "b82c27e1-3266-4d90-cab9-fce7d776cab5"
      },
      "execution_count": 54,
      "outputs": [
        {
          "output_type": "execute_result",
          "data": {
            "text/plain": [
              "tensor(19.6498, grad_fn=<NllLossBackward0>)"
            ]
          },
          "metadata": {},
          "execution_count": 54
        }
      ]
    },
    {
      "cell_type": "code",
      "source": [
        "# why use inbuilt function?\n",
        "# efficient: It will not create new tensors. It can create infused kernels etc\n",
        "# It can also have better mathematical equations which makes compute faster\n",
        "# our method will not behave very well numerically\n",
        "# see example below. Remember exp() rises very fast with postive numbers\n",
        "\n",
        "logits = torch.tensor([-1000, -3, 9, 1000])\n",
        "# logits = torch.tensor([1, 3, -9, 1])\n",
        "counts = logits.exp()\n",
        "prob = counts / counts.sum()\n",
        "prob\n",
        "\n",
        "# one of the ways to solve it take to max number and subtract from tensor\n",
        "# negatives are fine with exp"
      ],
      "metadata": {
        "colab": {
          "base_uri": "https://localhost:8080/"
        },
        "id": "rZoE8S2YgHpP",
        "outputId": "e1949726-ec3d-48b9-b055-77dd1ea80572"
      },
      "execution_count": 57,
      "outputs": [
        {
          "output_type": "execute_result",
          "data": {
            "text/plain": [
              "tensor([1.0651e-01, 7.8698e-01, 4.8354e-06, 1.0651e-01])"
            ]
          },
          "metadata": {},
          "execution_count": 57
        }
      ]
    },
    {
      "cell_type": "code",
      "source": [
        "# backward pass\n",
        "for p in parameters:\n",
        "  p.grad = None\n",
        "loss.backward()\n",
        "\n",
        "# update\n",
        "for p in parameters:\n",
        "  p.data += -0.1 * p.grad"
      ],
      "metadata": {
        "id": "ngOQy-EuhOV-"
      },
      "execution_count": 58,
      "outputs": []
    },
    {
      "cell_type": "code",
      "source": [
        "# let us bring it all together [the training algo]\n",
        "# it will fit very well because we only have 32 example in 3k+ parameters\n",
        "loop_count = 100\n",
        "for i in range(loop_count):\n",
        "  emb = C[X]\n",
        "  h = emb.view(emb.shape[0], 6) @ W1 + b1\n",
        "  h = torch.tanh(h)\n",
        "  logits = h @ W2 + b2\n",
        "  loss = F.cross_entropy(logits, Y)\n",
        "  if i % 10 == 0 or i == loop_count - 1:\n",
        "    print(loss.item())\n",
        "\n",
        "  for p in parameters:\n",
        "    p.grad = None\n",
        "  loss.backward()\n",
        "\n",
        "  for p in parameters:\n",
        "    p.data += -0.1 * p.grad"
      ],
      "metadata": {
        "colab": {
          "base_uri": "https://localhost:8080/"
        },
        "id": "TwMjDTfiiGja",
        "outputId": "b964cdd4-ddad-4b02-8d9b-9fa5f5fdd2a4"
      },
      "execution_count": 63,
      "outputs": [
        {
          "output_type": "stream",
          "name": "stdout",
          "text": [
            "10.7156982421875\n",
            "7.408116340637207\n",
            "6.042463302612305\n",
            "5.329652309417725\n",
            "4.851751327514648\n",
            "4.472996234893799\n",
            "4.158266544342041\n",
            "3.9013309478759766\n",
            "3.6936497688293457\n",
            "3.525590181350708\n",
            "3.4055824279785156\n"
          ]
        }
      ]
    },
    {
      "cell_type": "code",
      "source": [
        "# let us process full dataset and run it again\n",
        "block_size = 3\n",
        "X, Y = [], []\n",
        "for w in words:\n",
        "  context = [0] * block_size\n",
        "  for ch in w + '.':\n",
        "    ix = stoi[ch]\n",
        "    X.append(context)\n",
        "    Y.append(ix)\n",
        "    context = context[1:] + [ix]\n",
        "\n",
        "X = torch.tensor(X)\n",
        "Y = torch.tensor(Y)"
      ],
      "metadata": {
        "id": "66461yfViUsg"
      },
      "execution_count": 82,
      "outputs": []
    },
    {
      "cell_type": "code",
      "source": [
        "C = torch.randn((27, 2))\n",
        "W1 = torch.randn((6, 100))\n",
        "b1 = torch.randn(100)\n",
        "W2 = torch.randn((100, 27))\n",
        "b2 = torch.randn(27)\n",
        "parameters = [C, W1, b1, W2, b2]\n",
        "\n",
        "for p in parameters:\n",
        "  p.requires_grad = True"
      ],
      "metadata": {
        "id": "aQrtK60dpvDw"
      },
      "execution_count": 87,
      "outputs": []
    },
    {
      "cell_type": "code",
      "source": [
        "# the single loop is taking time and that is because we are running all examples\n",
        "# forward and backward.\n",
        "# We can optimise it\n",
        "# We can batch the inputs (randomly selected)\n",
        "\n",
        "torch.randint(0, X.shape[0], (32,))"
      ],
      "metadata": {
        "colab": {
          "base_uri": "https://localhost:8080/"
        },
        "id": "DkDXStyAjPMo",
        "outputId": "1bdd6a4b-60e3-4aea-d6dc-96eec5a23a76"
      },
      "execution_count": 66,
      "outputs": [
        {
          "output_type": "execute_result",
          "data": {
            "text/plain": [
              "tensor([182536, 127970, 173197, 146899, 159327, 154289,  54374, 159085, 214902,\n",
              "         56658, 144723, 164658, 146419, 204279,  89805,  28238,  54288,  73070,\n",
              "        177002, 176372,   2127, 166704, 147928, 185640,  95499, 219049, 113561,\n",
              "         42337, 226756, 147218,   4260, 174684])"
            ]
          },
          "metadata": {},
          "execution_count": 66
        }
      ]
    },
    {
      "cell_type": "code",
      "source": [
        "# let us batch now with size 32\n",
        "loop_count = 10000\n",
        "loss = 0\n",
        "for i in range(loop_count):\n",
        "  # mini batch\n",
        "  ix = torch.randint(0, X.shape[0], (32,))\n",
        "\n",
        "  # forward pass\n",
        "  emb = C[X[ix]]\n",
        "  h = emb.view(emb.shape[0], 6) @ W1 + b1\n",
        "  h = torch.tanh(h)\n",
        "  logits = h @ W2 + b2\n",
        "  loss = F.cross_entropy(logits, Y[ix])\n",
        "  # if i % 10 == 0 or i == loop_count - 1:\n",
        "  #   print(loss.item())\n",
        "\n",
        "  # backward pass\n",
        "  for p in parameters:\n",
        "    p.grad = None\n",
        "  loss.backward()\n",
        "\n",
        "  # update\n",
        "  for p in parameters:\n",
        "    p.data += -0.1 * p.grad\n",
        "\n",
        "print(loss.item())"
      ],
      "metadata": {
        "colab": {
          "base_uri": "https://localhost:8080/"
        },
        "id": "KeEqZCRRjwYX",
        "outputId": "5f583f88-db6c-4bfa-f686-4afd28ec12d4"
      },
      "execution_count": 71,
      "outputs": [
        {
          "output_type": "stream",
          "name": "stdout",
          "text": [
            "2.45331072807312\n"
          ]
        }
      ]
    },
    {
      "cell_type": "code",
      "source": [
        "# the above loss might look good and it is not\n",
        "# it is only the loss for that batch\n",
        "# let us how is it doing overall\n",
        "emb = C[X]\n",
        "h = emb.view(emb.shape[0], 6) @ W1 + b1\n",
        "h = torch.tanh(h)\n",
        "logits = h @ W2 + b2\n",
        "loss = F.cross_entropy(logits, Y)\n",
        "loss"
      ],
      "metadata": {
        "colab": {
          "base_uri": "https://localhost:8080/"
        },
        "id": "BpN_HgbjkTIP",
        "outputId": "4bc904b5-bfde-4d88-f252-367ba1ea1344"
      },
      "execution_count": 72,
      "outputs": [
        {
          "output_type": "execute_result",
          "data": {
            "text/plain": [
              "tensor(2.4660, grad_fn=<NllLossBackward0>)"
            ]
          },
          "metadata": {},
          "execution_count": 72
        }
      ]
    },
    {
      "cell_type": "code",
      "source": [
        "# one of the challenges is to identify our learning rate\n",
        "# our we learning too slow or too fast\n",
        "# we can run some loop_count with various step sizes\n",
        "# to find a agreeable search space.\n",
        "# In this case play with 0.000001, 0.0001, 0.001, 1, 10\n",
        "# You will find that it is between 0.001 and 1\n",
        "# we can create a linear rate space\n",
        "# we can make it linear of exponential.\n",
        "# we will make exponential here since linear is not very helpful\n",
        "\n",
        "lre = torch.linspace(-3, 0, steps=1000)\n",
        "lrs = 10**lre\n",
        "\n",
        "# sample lrs\n",
        "lrs[500:510]"
      ],
      "metadata": {
        "colab": {
          "base_uri": "https://localhost:8080/"
        },
        "id": "yH-a2FbVkwRp",
        "outputId": "effdb558-749c-4ee6-f052-788a89b800da"
      },
      "execution_count": 75,
      "outputs": [
        {
          "output_type": "execute_result",
          "data": {
            "text/plain": [
              "tensor([0.0317, 0.0320, 0.0322, 0.0324, 0.0326, 0.0328, 0.0331, 0.0333, 0.0335,\n",
              "        0.0338])"
            ]
          },
          "metadata": {},
          "execution_count": 75
        }
      ]
    },
    {
      "cell_type": "code",
      "source": [
        "loop_count = 1000\n",
        "loss = 0\n",
        "loss_at_i = []\n",
        "learning_rate_at_i = []\n",
        "for i in range(loop_count):\n",
        "  # mini batch\n",
        "  ix = torch.randint(0, X.shape[0], (32,))\n",
        "\n",
        "  # forward pass\n",
        "  emb = C[X[ix]]\n",
        "  h = emb.view(emb.shape[0], 6) @ W1 + b1\n",
        "  h = torch.tanh(h)\n",
        "  logits = h @ W2 + b2\n",
        "  loss = F.cross_entropy(logits, Y[ix])\n",
        "  # if i % 10 == 0 or i == loop_count - 1:\n",
        "  #   print(loss.item())\n",
        "\n",
        "  # backward pass\n",
        "  for p in parameters:\n",
        "    p.grad = None\n",
        "  loss.backward()\n",
        "\n",
        "  # update\n",
        "  lr = lrs[i]\n",
        "  for p in parameters:\n",
        "    p.data += -lr * p.grad\n",
        "\n",
        "  #stats\n",
        "  loss_at_i.append(loss.item())\n",
        "  learning_rate_at_i.append(lre[i])\n",
        "print(loss.item())"
      ],
      "metadata": {
        "colab": {
          "base_uri": "https://localhost:8080/"
        },
        "id": "hAuWw_rvnxe3",
        "outputId": "5c93a7a2-4348-45b9-b72d-a7dd1afb6f44"
      },
      "execution_count": 84,
      "outputs": [
        {
          "output_type": "stream",
          "name": "stdout",
          "text": [
            "5.564041614532471\n"
          ]
        }
      ]
    },
    {
      "cell_type": "code",
      "source": [
        "plt.plot(learning_rate_at_i, loss_at_i)"
      ],
      "metadata": {
        "colab": {
          "base_uri": "https://localhost:8080/",
          "height": 447
        },
        "id": "OSLWH2pFoYit",
        "outputId": "ca4f4515-d06c-4c3d-ac5f-ef827da6b941"
      },
      "execution_count": 85,
      "outputs": [
        {
          "output_type": "execute_result",
          "data": {
            "text/plain": [
              "[<matplotlib.lines.Line2D at 0x7a050e034880>]"
            ]
          },
          "metadata": {},
          "execution_count": 85
        },
        {
          "output_type": "display_data",
          "data": {
            "text/plain": [
              "<Figure size 640x480 with 1 Axes>"
            ],
            "image/png": "[encoded data removed]"
          },
          "metadata": {}
        }
      ]
    },
    {
      "cell_type": "code",
      "source": [
        "# with above graph we can narow down learning rate exp even more and we see\n",
        "# 0.1 was fairly good learning based on data and not just hunch"
      ],
      "metadata": {
        "id": "YiTyAlQdow4d"
      },
      "execution_count": 86,
      "outputs": []
    },
    {
      "cell_type": "code",
      "source": [
        "loop_count = 1000000\n",
        "loss = 0\n",
        "for i in range(loop_count):\n",
        "  # mini batch\n",
        "  ix = torch.randint(0, X.shape[0], (32,))\n",
        "\n",
        "  # forward pass\n",
        "  emb = C[X[ix]]\n",
        "  h = emb.view(emb.shape[0], 6) @ W1 + b1\n",
        "  h = torch.tanh(h)\n",
        "  logits = h @ W2 + b2\n",
        "  loss = F.cross_entropy(logits, Y[ix])\n",
        "  # if i % 10 == 0 or i == loop_count - 1:\n",
        "  #   print(loss.item())\n",
        "\n",
        "  # backward pass\n",
        "  for p in parameters:\n",
        "    p.grad = None\n",
        "  loss.backward()\n",
        "\n",
        "  # update\n",
        "  for p in parameters:\n",
        "    p.data += -0.1 * p.grad\n",
        "\n",
        "print(loss.item())"
      ],
      "metadata": {
        "colab": {
          "base_uri": "https://localhost:8080/"
        },
        "id": "tqrwf2ScqOFa",
        "outputId": "a46be22c-43e4-47f5-9bef-ae69dd46bea4"
      },
      "execution_count": 88,
      "outputs": [
        {
          "output_type": "stream",
          "name": "stdout",
          "text": [
            "2.1992580890655518\n"
          ]
        }
      ]
    },
    {
      "cell_type": "code",
      "source": [
        "# now let us try same thing with learning rate decay\n",
        "loop_count = 1000000\n",
        "loss = 0\n",
        "for i in range(loop_count):\n",
        "  # mini batch\n",
        "  ix = torch.randint(0, X.shape[0], (32,))\n",
        "\n",
        "  # forward pass\n",
        "  emb = C[X[ix]]\n",
        "  h = emb.view(emb.shape[0], 6) @ W1 + b1\n",
        "  h = torch.tanh(h)\n",
        "  logits = h @ W2 + b2\n",
        "  loss = F.cross_entropy(logits, Y[ix])\n",
        "  # if i % 10 == 0 or i == loop_count - 1:\n",
        "  #   print(loss.item())\n",
        "\n",
        "  # backward pass\n",
        "  for p in parameters:\n",
        "    p.grad = None\n",
        "  loss.backward()\n",
        "\n",
        "  # update\n",
        "  lr = 0.01\n",
        "  for p in parameters:\n",
        "    p.data += -lr * p.grad\n",
        "\n",
        "print(loss.item())"
      ],
      "metadata": {
        "id": "EKzHkTV5qcMo"
      },
      "execution_count": null,
      "outputs": []
    },
    {
      "cell_type": "code",
      "source": [
        "# we actually want to see loss at dataset level\n",
        "emb = C[X]\n",
        "h = emb.view(emb.shape[0], 6) @ W1 + b1\n",
        "h = torch.tanh(h)\n",
        "logits = h @ W2 + b2\n",
        "loss = F.cross_entropy(logits, Y)\n",
        "loss"
      ],
      "metadata": {
        "colab": {
          "base_uri": "https://localhost:8080/"
        },
        "id": "EJC96-vnq_OL",
        "outputId": "da8855a1-a890-47c3-b7bc-6d64aa40bdf6"
      },
      "execution_count": 89,
      "outputs": [
        {
          "output_type": "execute_result",
          "data": {
            "text/plain": [
              "tensor(2.2202, grad_fn=<NllLossBackward0>)"
            ]
          },
          "metadata": {},
          "execution_count": 89
        }
      ]
    },
    {
      "cell_type": "code",
      "source": [
        "# the bigram loss was 2.45 almost\n",
        "# we have already surpassed it\n",
        "# this is good here but not always good\n",
        "# think about overfitting\n",
        "# we could make this million parameters and basically make net learn out datset\n",
        "# we generally do training set, validation split, test split\n",
        "# generally the split is 80%, 10%, 10%\n",
        "# validation set is for hyper parameter optimisation\n",
        "# you are not allowed to learn from test set\n",
        "# experiment on dev split\n",
        "# run on test set only once or as few times as possible at end of training"
      ],
      "metadata": {
        "id": "P38Nt15tqzW9"
      },
      "execution_count": null,
      "outputs": []
    },
    {
      "cell_type": "code",
      "source": [
        "# build the dataset\n",
        "\n",
        "def build_dataset(words):\n",
        "  block_size = 3\n",
        "  X, Y = [], []\n",
        "  for w in words:\n",
        "    context = [0] * block_size\n",
        "    for ch in w + '.':\n",
        "      ix = stoi[ch]\n",
        "      X.append(context)\n",
        "      Y.append(ix)\n",
        "      context = context[1:] + [ix]\n",
        "  X = torch.tensor(X)\n",
        "  Y = torch.tensor(Y)\n",
        "  print(X.shape, Y.shape)\n",
        "  return X, Y\n",
        "\n",
        "import random\n",
        "\n",
        "random.shuffle(words)\n",
        "n = int(0.8 * len(words))\n",
        "n1 = int(0.9 * len(words))\n",
        "Xtr, Ytr = build_dataset(words[:n])\n",
        "Xdev, Ydev = build_dataset(words[n:n1])\n",
        "Xte, Yte = build_dataset(words[n1:])"
      ],
      "metadata": {
        "colab": {
          "base_uri": "https://localhost:8080/"
        },
        "id": "LEoJZBeLtD3B",
        "outputId": "058656c9-a08a-4160-ba3b-d350d8bf7555"
      },
      "execution_count": 90,
      "outputs": [
        {
          "output_type": "stream",
          "name": "stdout",
          "text": [
            "torch.Size([182494, 3]) torch.Size([182494])\n",
            "torch.Size([22833, 3]) torch.Size([22833])\n",
            "torch.Size([22819, 3]) torch.Size([22819])\n"
          ]
        }
      ]
    },
    {
      "cell_type": "code",
      "source": [
        "C = torch.randn((27, 2))\n",
        "# W1 = torch.randn((6, 100))\n",
        "# b1 = torch.randn(100)\n",
        "# W2 = torch.randn((100, 27))\n",
        "W1 = torch.randn((6, 300))\n",
        "b1 = torch.randn(300)\n",
        "W2 = torch.randn((300, 27))\n",
        "b2 = torch.randn(27)\n",
        "parameters = [C, W1, b1, W2, b2]\n",
        "\n",
        "for p in parameters:\n",
        "  p.requires_grad = True\n",
        "\n",
        "sum(p.nelement() for p in parameters)"
      ],
      "metadata": {
        "colab": {
          "base_uri": "https://localhost:8080/"
        },
        "id": "5EEJrgsMxEoo",
        "outputId": "c0cd2bdc-381b-4406-864d-543d2c6f6cec"
      },
      "execution_count": 102,
      "outputs": [
        {
          "output_type": "execute_result",
          "data": {
            "text/plain": [
              "10281"
            ]
          },
          "metadata": {},
          "execution_count": 102
        }
      ]
    },
    {
      "cell_type": "code",
      "source": [
        "loop_count = 60000\n",
        "loss = 0\n",
        "\n",
        "loss_at_i = []\n",
        "i_step = []\n",
        "for i in range(loop_count):\n",
        "  # mini batch\n",
        "  ix = torch.randint(0, Xtr.shape[0], (32,))\n",
        "\n",
        "  # forward pass\n",
        "  emb = C[Xtr[ix]]\n",
        "  h = emb.view(emb.shape[0], 6) @ W1 + b1\n",
        "  h = torch.tanh(h)\n",
        "  logits = h @ W2 + b2\n",
        "  loss = F.cross_entropy(logits, Ytr[ix])\n",
        "  # if i % 10 == 0 or i == loop_count - 1:\n",
        "  #   print(loss.item())\n",
        "\n",
        "  # backward pass\n",
        "  for p in parameters:\n",
        "    p.grad = None\n",
        "  loss.backward()\n",
        "\n",
        "  # update\n",
        "  lr = 0.1\n",
        "  for p in parameters:\n",
        "    p.data += -lr * p.grad\n",
        "\n",
        "  # track stats\n",
        "  loss_at_i.append(loss.item())\n",
        "  i_step.append(i)\n",
        "\n",
        "print(loss.item())"
      ],
      "metadata": {
        "colab": {
          "base_uri": "https://localhost:8080/"
        },
        "id": "gHw0E_EFxjze",
        "outputId": "d78950d1-ce06-4f85-ae83-0409d6d1fa1e"
      },
      "execution_count": 109,
      "outputs": [
        {
          "output_type": "stream",
          "name": "stdout",
          "text": [
            "2.072544813156128\n"
          ]
        }
      ]
    },
    {
      "cell_type": "code",
      "source": [
        "plt.plot(i_step, loss_at_i)"
      ],
      "metadata": {
        "colab": {
          "base_uri": "https://localhost:8080/",
          "height": 447
        },
        "id": "mXtYofbYzed_",
        "outputId": "12043aa4-7e6e-45fc-ee6c-c21c3277d974"
      },
      "execution_count": 110,
      "outputs": [
        {
          "output_type": "execute_result",
          "data": {
            "text/plain": [
              "[<matplotlib.lines.Line2D at 0x7a04f991f010>]"
            ]
          },
          "metadata": {},
          "execution_count": 110
        },
        {
          "output_type": "display_data",
          "data": {
            "text/plain": [
              "<Figure size 640x480 with 1 Axes>"
            ],
            "image/png": "[encoded data removed]"
          },
          "metadata": {}
        }
      ]
    },
    {
      "cell_type": "code",
      "source": [
        "# let us use the dev set here\n",
        "emb = C[Xdev]\n",
        "h = emb.view(emb.shape[0], 6) @ W1 + b1\n",
        "h = torch.tanh(h)\n",
        "logits = h @ W2 + b2\n",
        "loss = F.cross_entropy(logits, Ydev)\n",
        "loss"
      ],
      "metadata": {
        "colab": {
          "base_uri": "https://localhost:8080/"
        },
        "id": "NTOldMxIxz4m",
        "outputId": "80d77fdd-211b-4095-9941-79cbcc5fdcd2"
      },
      "execution_count": 111,
      "outputs": [
        {
          "output_type": "execute_result",
          "data": {
            "text/plain": [
              "tensor(2.3976, grad_fn=<NllLossBackward0>)"
            ]
          },
          "metadata": {},
          "execution_count": 111
        }
      ]
    },
    {
      "cell_type": "code",
      "source": [
        "# if you see training loss and dev loss to be equal\n",
        "# this generally means underfitting; scale the networks"
      ],
      "metadata": {
        "id": "by3_B27YyY5h"
      },
      "execution_count": null,
      "outputs": []
    },
    {
      "cell_type": "code",
      "source": [
        "# look at patterns in graph; hint: clustering\n",
        "plt.figure(figsize=(8, 8))\n",
        "plt.scatter(C[:, 0].data, C[:, 1].data, s=200)\n",
        "for i in range(C.shape[0]):\n",
        "  plt.text(C[i, 0].item(), C[i, 1].item(), itos[i], ha=\"center\", va=\"center\", color=\"white\")\n",
        "plt.grid('minor')"
      ],
      "metadata": {
        "colab": {
          "base_uri": "https://localhost:8080/",
          "height": 676
        },
        "id": "yJmJ2QXC0UXK",
        "outputId": "ba2b9326-d6b8-468f-93d7-791813d4677b"
      },
      "execution_count": 112,
      "outputs": [
        {
          "output_type": "display_data",
          "data": {
            "text/plain": [
              "<Figure size 800x800 with 1 Axes>"
            ],
            "image/png": "[encoded data removed]"
          },
          "metadata": {}
        }
      ]
    },
    {
      "cell_type": "code",
      "source": [
        "# we increase the neurons in layer but still the loss didn't go down\n",
        "# significantly\n",
        "# It could be that we are trying to put too much information in embedding\n",
        "# let us try to scale that\n",
        "\n",
        "C = torch.randn((27, 10))\n",
        "W1 = torch.randn((30, 200))\n",
        "b1 = torch.randn(200)\n",
        "W2 = torch.randn((200, 27))\n",
        "b2 = torch.randn(27)\n",
        "parameters = [C, W1, b1, W2, b2]\n",
        "\n",
        "for p in parameters:\n",
        "  p.requires_grad = True\n",
        "\n",
        "sum(p.nelement() for p in parameters)"
      ],
      "metadata": {
        "colab": {
          "base_uri": "https://localhost:8080/"
        },
        "id": "KTt4gVgGAMkf",
        "outputId": "da0190ea-394b-4d9d-bdf2-9b8be422133a"
      },
      "execution_count": 136,
      "outputs": [
        {
          "output_type": "execute_result",
          "data": {
            "text/plain": [
              "11897"
            ]
          },
          "metadata": {},
          "execution_count": 136
        }
      ]
    },
    {
      "cell_type": "code",
      "source": [
        "loop_count = 200_000\n",
        "loss = 0\n",
        "\n",
        "loss_at_i = []\n",
        "i_step = []"
      ],
      "metadata": {
        "id": "ckyG3Ji0Bavi"
      },
      "execution_count": 137,
      "outputs": []
    },
    {
      "cell_type": "code",
      "source": [
        "# for i in range(loop_count):\n",
        "#   # mini batch\n",
        "#   ix = torch.randint(0, Xtr.shape[0], (32,))\n",
        "\n",
        "#   # forward pass\n",
        "#   emb = C[Xtr[ix]]\n",
        "#   h = emb.view(emb.shape[0], 30) @ W1 + b1\n",
        "#   h = torch.tanh(h)\n",
        "#   logits = h @ W2 + b2\n",
        "#   loss = F.cross_entropy(logits, Ytr[ix])\n",
        "#   # if i % 10 == 0 or i == loop_count - 1:\n",
        "#   #   print(loss.item())\n",
        "\n",
        "#   # backward pass\n",
        "#   for p in parameters:\n",
        "#     p.grad = None\n",
        "#   loss.backward()\n",
        "\n",
        "#   # update\n",
        "#   lr = 0.1\n",
        "#   for p in parameters:\n",
        "#     p.data += -lr * p.grad\n",
        "\n",
        "#   # track stats\n",
        "#   loss_at_i.append(loss.log10().item())\n",
        "#   i_step.append(i)\n",
        "\n",
        "# print(loss.item())\n",
        "\n",
        "for i in range(loop_count):\n",
        "  # mini batch\n",
        "  ix = torch.randint(0, Xtr.shape[0], (32,))\n",
        "\n",
        "  # forward pass\n",
        "  emb = C[Xtr[ix]]\n",
        "  h = emb.view(emb.shape[0], 30) @ W1 + b1\n",
        "  h = torch.tanh(h)\n",
        "  logits = h @ W2 + b2\n",
        "  loss = F.cross_entropy(logits, Ytr[ix])\n",
        "  # if i % 10 == 0 or i == loop_count - 1:\n",
        "  #   print(loss.item())\n",
        "\n",
        "  # backward pass\n",
        "  for p in parameters:\n",
        "    p.grad = None\n",
        "  loss.backward()\n",
        "\n",
        "  # update\n",
        "  lr = 0.1 if i < 100_000 else 0.01\n",
        "  for p in parameters:\n",
        "    p.data += -lr * p.grad\n",
        "\n",
        "  # track stats\n",
        "  loss_at_i.append(loss.log10().item())\n",
        "  i_step.append(i)\n",
        "\n",
        "print(loss.item())"
      ],
      "metadata": {
        "colab": {
          "base_uri": "https://localhost:8080/"
        },
        "id": "YBR6PBI9BIB5",
        "outputId": "7f2d7ca3-ff0f-428f-ef89-9db9084cc5ab"
      },
      "execution_count": 138,
      "outputs": [
        {
          "output_type": "stream",
          "name": "stdout",
          "text": [
            "2.423798084259033\n"
          ]
        }
      ]
    },
    {
      "cell_type": "code",
      "source": [
        "plt.plot(i_step, loss_at_i)"
      ],
      "metadata": {
        "colab": {
          "base_uri": "https://localhost:8080/",
          "height": 447
        },
        "id": "fyv-0MC1B_go",
        "outputId": "39129601-1b89-44a4-ebd7-17de014562e7"
      },
      "execution_count": 139,
      "outputs": [
        {
          "output_type": "execute_result",
          "data": {
            "text/plain": [
              "[<matplotlib.lines.Line2D at 0x7a050c990d90>]"
            ]
          },
          "metadata": {},
          "execution_count": 139
        },
        {
          "output_type": "display_data",
          "data": {
            "text/plain": [
              "<Figure size 640x480 with 1 Axes>"
            ],
            "image/png": "[encoded data removed]"
          },
          "metadata": {}
        }
      ]
    },
    {
      "cell_type": "code",
      "source": [
        "emb = C[Xtr]\n",
        "h = emb.view(emb.shape[0], 30) @ W1 + b1\n",
        "h = torch.tanh(h)\n",
        "logits = h @ W2 + b2\n",
        "loss = F.cross_entropy(logits, Ytr)\n",
        "loss"
      ],
      "metadata": {
        "colab": {
          "base_uri": "https://localhost:8080/"
        },
        "id": "zdMlNqkxBnXN",
        "outputId": "699d0ae4-27a7-403f-c403-95d4d1795df2"
      },
      "execution_count": 140,
      "outputs": [
        {
          "output_type": "execute_result",
          "data": {
            "text/plain": [
              "tensor(2.1330, grad_fn=<NllLossBackward0>)"
            ]
          },
          "metadata": {},
          "execution_count": 140
        }
      ]
    },
    {
      "cell_type": "code",
      "source": [
        "emb = C[Xdev]\n",
        "h = emb.view(emb.shape[0], 30) @ W1 + b1\n",
        "h = torch.tanh(h)\n",
        "logits = h @ W2 + b2\n",
        "loss = F.cross_entropy(logits, Ydev)\n",
        "loss"
      ],
      "metadata": {
        "colab": {
          "base_uri": "https://localhost:8080/"
        },
        "id": "J1VpNdobBv4G",
        "outputId": "3881b21e-3aa3-45c2-989c-06bf0d9e33ec"
      },
      "execution_count": 141,
      "outputs": [
        {
          "output_type": "execute_result",
          "data": {
            "text/plain": [
              "tensor(2.1808, grad_fn=<NllLossBackward0>)"
            ]
          },
          "metadata": {},
          "execution_count": 141
        }
      ]
    },
    {
      "cell_type": "code",
      "source": [
        "# play with batch size, model size, learning rate to get better loss"
      ],
      "metadata": {
        "id": "UG6bZmxgB49B"
      },
      "execution_count": 142,
      "outputs": []
    },
    {
      "cell_type": "code",
      "source": [
        "for _ in range(20):\n",
        "  out = []\n",
        "  context = [0] * block_size\n",
        "  while True:\n",
        "    emb = C[torch.tensor([context])]\n",
        "    h = torch.tanh(emb.view(1, -1) @ W1 + b1)\n",
        "    logits = h @ W2 + b2\n",
        "    probs = F.softmax(logits, dim=1)\n",
        "    ix = torch.multinomial(probs, num_samples=1).item()\n",
        "    context = context[1:] + [ix]\n",
        "    out.append(ix)\n",
        "    if ix == 0:\n",
        "      break\n",
        "  print(''.join(itos[i] for i in out))"
      ],
      "metadata": {
        "colab": {
          "base_uri": "https://localhost:8080/"
        },
        "id": "3qVyHLPrEjwV",
        "outputId": "88d2156e-4fc2-4e69-e320-62d9cf645f78"
      },
      "execution_count": 143,
      "outputs": [
        {
          "output_type": "stream",
          "name": "stdout",
          "text": [
            "heaanue.\n",
            "ojdy.\n",
            "edian.\n",
            "gifgan.\n",
            "tan.\n",
            "zayvin.\n",
            "ahmoed.\n",
            "cobaliyah.\n",
            "ton.\n",
            "ina.\n",
            "audi.\n",
            "arthana.\n",
            "rham.\n",
            "taheigaviyannesmel.\n",
            "izzaraolizia.\n",
            "ed.\n",
            "jew.\n",
            "ken.\n",
            "martin.\n",
            "asii.\n"
          ]
        }
      ]
    },
    {
      "cell_type": "code",
      "source": [],
      "metadata": {
        "id": "CxbxE2DNE3SR"
      },
      "execution_count": null,
      "outputs": []
    }
  ]
}