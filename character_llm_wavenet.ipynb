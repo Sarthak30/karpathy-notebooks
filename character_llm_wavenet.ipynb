{
  "nbformat": 4,
  "nbformat_minor": 0,
  "metadata": {
    "colab": {
      "provenance": [],
      "authorship_tag": "ABX9TyOBiGNNAczMZwLTMqoo9Opg"
    },
    "kernelspec": {
      "name": "python3",
      "display_name": "Python 3"
    },
    "language_info": {
      "name": "python"
    }
  },
  "cells": [
    {
      "cell_type": "code",
      "execution_count": 2,
      "metadata": {
        "id": "H0KPV5AXm4kh"
      },
      "outputs": [],
      "source": [
        "import torch\n",
        "import torch.nn.functional as F\n",
        "import matplotlib.pyplot as plt\n",
        "%matplotlib inline"
      ]
    },
    {
      "cell_type": "code",
      "source": [
        "# starting code pasted from https://github.com/Sarthak30/karpathy-notebooks/blob/main/mlp_charatcer_llm.ipynb\n",
        "words = open('names.txt', 'r').read().splitlines()\n",
        "print(len(words))\n",
        "print(max(len(w) for w in words))\n",
        "print(words[:8])"
      ],
      "metadata": {
        "colab": {
          "base_uri": "https://localhost:8080/"
        },
        "id": "5fnMshrknC-X",
        "outputId": "8eb3ea54-8830-4b22-84ef-a9d1264df0d4"
      },
      "execution_count": 3,
      "outputs": [
        {
          "output_type": "stream",
          "name": "stdout",
          "text": [
            "32033\n",
            "15\n",
            "['emma', 'olivia', 'ava', 'isabella', 'sophia', 'charlotte', 'mia', 'amelia']\n"
          ]
        }
      ]
    },
    {
      "cell_type": "code",
      "source": [
        "chars = sorted(list(set(''.join(words))))\n",
        "stoi = {s:i+1 for i, s in enumerate(chars)}\n",
        "stoi['.'] = 0\n",
        "itos = {i:s for s, i in stoi.items()}\n",
        "print(itos)"
      ],
      "metadata": {
        "colab": {
          "base_uri": "https://localhost:8080/"
        },
        "id": "oPYty52unaYh",
        "outputId": "a660f436-0589-4a7e-a204-84d1b5dbe6ba"
      },
      "execution_count": 4,
      "outputs": [
        {
          "output_type": "stream",
          "name": "stdout",
          "text": [
            "{1: 'a', 2: 'b', 3: 'c', 4: 'd', 5: 'e', 6: 'f', 7: 'g', 8: 'h', 9: 'i', 10: 'j', 11: 'k', 12: 'l', 13: 'm', 14: 'n', 15: 'o', 16: 'p', 17: 'q', 18: 'r', 19: 's', 20: 't', 21: 'u', 22: 'v', 23: 'w', 24: 'x', 25: 'y', 26: 'z', 0: '.'}\n"
          ]
        }
      ]
    },
    {
      "cell_type": "code",
      "source": [
        "# build the dataset\n",
        "# block_size = 3 # context length: how many characters do we take to predict the next one?\n",
        "block_size = 8\n",
        "\n",
        "def build_dataset(words):\n",
        "  X, Y = [], []\n",
        "\n",
        "  for w in words:\n",
        "    context = [0] * block_size\n",
        "    for ch in w + '.':\n",
        "      ix = stoi[ch]\n",
        "      X.append(context)\n",
        "      Y.append(ix)\n",
        "      context = context[1:] + [ix] # crop and append\n",
        "\n",
        "  X = torch.tensor(X)\n",
        "  Y = torch.tensor(Y)\n",
        "  print(X.shape, Y.shape)\n",
        "  return X, Y\n",
        "\n",
        "n1 = int(0.8*len(words))\n",
        "n2 = int(0.9*len(words))\n",
        "Xtr,  Ytr  = build_dataset(words[:n1])     # 80%\n",
        "Xdev, Ydev = build_dataset(words[n1:n2])   # 10%\n",
        "Xte,  Yte  = build_dataset(words[n2:])     # 10%"
      ],
      "metadata": {
        "colab": {
          "base_uri": "https://localhost:8080/"
        },
        "id": "zvGunRZsnj53",
        "outputId": "0759575a-29c1-4c99-ea52-83f7ce3aa0fd"
      },
      "execution_count": 89,
      "outputs": [
        {
          "output_type": "stream",
          "name": "stdout",
          "text": [
            "torch.Size([182593, 8]) torch.Size([182593])\n",
            "torch.Size([22727, 8]) torch.Size([22727])\n",
            "torch.Size([22826, 8]) torch.Size([22826])\n"
          ]
        }
      ]
    },
    {
      "cell_type": "code",
      "source": [
        "class Linear:\n",
        "\n",
        "  def __init__(self, fan_in, fan_out, bias=True):\n",
        "    self.weight = torch.randn((fan_in, fan_out)) / fan_in**0.5 # note: kaiming init\n",
        "    self.bias = torch.zeros(fan_out) if bias else None\n",
        "\n",
        "  def __call__(self, x):\n",
        "    self.out = x @ self.weight\n",
        "    if self.bias is not None:\n",
        "      self.out += self.bias\n",
        "    return self.out\n",
        "\n",
        "  def parameters(self):\n",
        "    return [self.weight] + ([] if self.bias is None else [self.bias])\n",
        "\n",
        "class BatchNorm1d:\n",
        "\n",
        "  def __init__(self, dim, eps=1e-5, momentum=0.1):\n",
        "    self.eps = eps\n",
        "    self.momentum = momentum\n",
        "    self.training = True\n",
        "    # parameters (trained with backprop)\n",
        "    self.gamma = torch.ones(dim)\n",
        "    self.beta = torch.zeros(dim)\n",
        "    # buffers (trained with a running 'momentum update')\n",
        "    self.running_mean = torch.zeros(dim)\n",
        "    self.running_var = torch.ones(dim)\n",
        "\n",
        "  def __call__(self, x):\n",
        "    # calculate the forward pass\n",
        "    if self.training:\n",
        "      if x.ndim == 2:\n",
        "        dim = 0\n",
        "      elif x.ndim == 3:\n",
        "        dim = (0,1)\n",
        "      xmean = x.mean(dim, keepdim=True) # batch mean\n",
        "      xvar = x.var(dim, keepdim=True) # batch variance\n",
        "    else:\n",
        "      xmean = self.running_mean\n",
        "      xvar = self.running_var\n",
        "    xhat = (x - xmean) / torch.sqrt(xvar + self.eps) # normalize to unit variance\n",
        "    self.out = self.gamma * xhat + self.beta\n",
        "    # update the buffers\n",
        "    if self.training:\n",
        "      with torch.no_grad():\n",
        "        self.running_mean = (1 - self.momentum) * self.running_mean + self.momentum * xmean\n",
        "        self.running_var = (1 - self.momentum) * self.running_var + self.momentum * xvar\n",
        "    return self.out\n",
        "\n",
        "  def parameters(self):\n",
        "    return [self.gamma, self.beta]\n",
        "\n",
        "class Tanh:\n",
        "  def __call__(self, x):\n",
        "    self.out = torch.tanh(x)\n",
        "    return self.out\n",
        "  def parameters(self):\n",
        "    return []"
      ],
      "metadata": {
        "id": "6hAQFnZynvPy"
      },
      "execution_count": 30,
      "outputs": []
    },
    {
      "cell_type": "code",
      "source": [
        "n_embed = 10\n",
        "n_hidden = 200\n",
        "vocab_size = len(itos)\n",
        "\n",
        "C = torch.randn((vocab_size, n_embed))\n",
        "layers = [\n",
        "    Linear(n_embed * block_size, n_hidden, bias=False), BatchNorm1d(n_hidden), Tanh(),\n",
        "    Linear(n_hidden, vocab_size),\n",
        "]\n",
        "\n",
        "with torch.no_grad():\n",
        "  layers[-1].weight *= 0.1 # last layer is less confident\n",
        "\n",
        "parameters = [C] + [p for layer in layers for p in layer.parameters()]\n",
        "print(sum(p.nelement() for p in parameters))\n",
        "for p in parameters:\n",
        "  p.requires_grad = True"
      ],
      "metadata": {
        "colab": {
          "base_uri": "https://localhost:8080/"
        },
        "id": "qMSHBw7IpWjx",
        "outputId": "dec7bb27-d7a9-4276-c012-af740e45714b"
      },
      "execution_count": 22,
      "outputs": [
        {
          "output_type": "stream",
          "name": "stdout",
          "text": [
            "12097\n"
          ]
        }
      ]
    },
    {
      "cell_type": "code",
      "source": [
        "max_steps = 200_000\n",
        "batch_size = 32\n",
        "loss_at_i = []\n",
        "\n",
        "for i in range(max_steps):\n",
        "  ix = torch.randint(0, Xtr.shape[0], (batch_size,))\n",
        "  Xb, Yb = Xtr[ix], Ytr[ix]\n",
        "\n",
        "  # forward pass\n",
        "  emb = C[Xb]\n",
        "  emb = emb.view(emb.shape[0], -1)\n",
        "  for layer in layers:\n",
        "    emb = layer(emb)\n",
        "\n",
        "  loss = F.cross_entropy(emb, Yb)\n",
        "\n",
        "  # backward pass\n",
        "  for p in parameters:\n",
        "    p.grad = None\n",
        "  loss.backward()\n",
        "\n",
        "  # update\n",
        "  lr = 0.1 if i < 100_000 else 0.01\n",
        "  for p in parameters:\n",
        "    p.data += -lr * p.grad\n",
        "\n",
        "  # track stats\n",
        "  if i % 10000 == 0:\n",
        "    print(f'{i:7d}/{max_steps:7d}: {loss.item():.4f}')\n",
        "  loss_at_i.append(loss.log10().item())"
      ],
      "metadata": {
        "colab": {
          "base_uri": "https://localhost:8080/"
        },
        "id": "7q2xKlYWqAQ1",
        "outputId": "74e7611c-c304-4c48-9450-6d1d50c79811"
      },
      "execution_count": 32,
      "outputs": [
        {
          "output_type": "stream",
          "name": "stdout",
          "text": [
            "      0/ 200000: 9.4678\n",
            "  10000/ 200000: 2.1930\n",
            "  20000/ 200000: 2.3048\n",
            "  30000/ 200000: 2.1726\n",
            "  40000/ 200000: 1.9469\n",
            "  50000/ 200000: 2.2693\n",
            "  60000/ 200000: 2.0652\n",
            "  70000/ 200000: 2.2908\n",
            "  80000/ 200000: 2.0098\n",
            "  90000/ 200000: 2.2492\n",
            " 100000/ 200000: 2.0724\n",
            " 110000/ 200000: 1.9446\n",
            " 120000/ 200000: 2.2868\n",
            " 130000/ 200000: 1.9882\n",
            " 140000/ 200000: 1.9505\n",
            " 150000/ 200000: 1.9922\n",
            " 160000/ 200000: 2.1636\n",
            " 170000/ 200000: 2.1587\n",
            " 180000/ 200000: 2.1882\n",
            " 190000/ 200000: 2.1446\n"
          ]
        }
      ]
    },
    {
      "cell_type": "code",
      "source": [
        "plt.plot(loss_at_i)"
      ],
      "metadata": {
        "colab": {
          "base_uri": "https://localhost:8080/",
          "height": 447
        },
        "id": "Ly2NkqZvqxd3",
        "outputId": "c5526026-c4e5-4dfe-de12-fc872de5e167"
      },
      "execution_count": 33,
      "outputs": [
        {
          "output_type": "execute_result",
          "data": {
            "text/plain": [
              "[<matplotlib.lines.Line2D at 0x789836c29a10>]"
            ]
          },
          "metadata": {},
          "execution_count": 33
        },
        {
          "output_type": "display_data",
          "data": {
            "text/plain": [
              "<Figure size 640x480 with 1 Axes>"
            ],
            "image/png": "[encoded data removed]"
          },
          "metadata": {}
        }
      ]
    },
    {
      "cell_type": "code",
      "source": [
        "# layers in non training mode to evaluate. required in batch norm\n",
        "for layer in layers:\n",
        "  layer.training = False"
      ],
      "metadata": {
        "id": "79nvL50bq_Kw"
      },
      "execution_count": 34,
      "outputs": []
    },
    {
      "cell_type": "code",
      "source": [
        "@torch.no_grad()\n",
        "def split_loss(split):\n",
        "  x, y = {\n",
        "      'train': (Xtr, Ytr),\n",
        "      'val': (Xdev, Ydev),\n",
        "      'test': (Xte, Yte),\n",
        "  }[split]\n",
        "  emb = C[x]\n",
        "  emb = emb.view(emb.shape[0], -1)\n",
        "  for layer in layers:\n",
        "    emb = layer(emb)\n",
        "  loss = F.cross_entropy(emb, y)\n",
        "  print(split, loss.item())\n",
        "\n",
        "split_loss('train')\n",
        "split_loss('val')"
      ],
      "metadata": {
        "colab": {
          "base_uri": "https://localhost:8080/"
        },
        "id": "l91zLVlTrHgi",
        "outputId": "6bc99640-8e46-4851-d65e-c435fdf0aac4"
      },
      "execution_count": 35,
      "outputs": [
        {
          "output_type": "stream",
          "name": "stdout",
          "text": [
            "train 2.0493836402893066\n",
            "val 2.114321231842041\n"
          ]
        }
      ]
    },
    {
      "cell_type": "code",
      "source": [
        "# sample from the model\n",
        "\n",
        "for _ in range(20):\n",
        "\n",
        "  out = []\n",
        "  context = [0] * block_size\n",
        "  while True:\n",
        "    emb = C[torch.tensor([context])]\n",
        "    emb = emb.view(emb.shape[0], -1)\n",
        "    for layer in layers:\n",
        "      emb = layer(emb)\n",
        "    logits = emb\n",
        "    probs = F.softmax(logits, dim=1)\n",
        "    ix = torch.multinomial(probs, num_samples=1).item()\n",
        "    context = context[1:] + [ix]\n",
        "    out.append(ix)\n",
        "    if ix == 0:\n",
        "      break\n",
        "\n",
        "  print(''.join(itos[i] for i in out))"
      ],
      "metadata": {
        "colab": {
          "base_uri": "https://localhost:8080/"
        },
        "id": "1-lhODbVsVwK",
        "outputId": "81d9dc7d-7f00-4e9b-98a0-ccf641ac6f45"
      },
      "execution_count": 36,
      "outputs": [
        {
          "output_type": "stream",
          "name": "stdout",
          "text": [
            "maurie.\n",
            "rosianna.\n",
            "tita.\n",
            "soralyn.\n",
            "abnuchkinn.\n",
            "kaila.\n",
            "selyn.\n",
            "heon.\n",
            "ala.\n",
            "raiahney.\n",
            "elle.\n",
            "sando.\n",
            "zhy.\n",
            "masar.\n",
            "kaysha.\n",
            "brady.\n",
            "able.\n",
            "graceome.\n",
            "erotorianell.\n",
            "candrix.\n"
          ]
        }
      ]
    },
    {
      "cell_type": "code",
      "source": [
        "# referesher in view\n",
        "# torch.arange(10)\n",
        "# torch.arange(10).view(5, 2)\n",
        "torch.arange(10).view(5, -1) # torch will calculate what the other number in place of -1"
      ],
      "metadata": {
        "colab": {
          "base_uri": "https://localhost:8080/"
        },
        "id": "uY3vaV1dsvZb",
        "outputId": "a81b66db-31cf-453a-faf3-9ff7014d7046"
      },
      "execution_count": 38,
      "outputs": [
        {
          "output_type": "execute_result",
          "data": {
            "text/plain": [
              "tensor([[0, 1],\n",
              "        [2, 3],\n",
              "        [4, 5],\n",
              "        [6, 7],\n",
              "        [8, 9]])"
            ]
          },
          "metadata": {},
          "execution_count": 38
        }
      ]
    },
    {
      "cell_type": "code",
      "source": [
        "# make a better graph\n",
        "# torch.tensor(loss_at_i).view(-1, 1000).mean(1).shape\n",
        "plt.plot(torch.tensor(loss_at_i).view(-1, 1000).mean(1))"
      ],
      "metadata": {
        "colab": {
          "base_uri": "https://localhost:8080/",
          "height": 447
        },
        "id": "kE5L4a1xtMR7",
        "outputId": "bdc9ffdc-ba8c-4fda-98b9-e0773f067013"
      },
      "execution_count": 40,
      "outputs": [
        {
          "output_type": "execute_result",
          "data": {
            "text/plain": [
              "[<matplotlib.lines.Line2D at 0x789837c96010>]"
            ]
          },
          "metadata": {},
          "execution_count": 40
        },
        {
          "output_type": "display_data",
          "data": {
            "text/plain": [
              "<Figure size 640x480 with 1 Axes>"
            ],
            "image/png": "[encoded data removed]"
          },
          "metadata": {}
        }
      ]
    },
    {
      "cell_type": "code",
      "source": [
        "class Embedding:\n",
        "\n",
        "  def __init__(self, num_embeddings, embedding_dim):\n",
        "    self.weight = torch.randn((num_embeddings, embedding_dim))\n",
        "\n",
        "  def __call__(self, IX):\n",
        "    self.out = self.weight[IX]\n",
        "    return self.out\n",
        "\n",
        "  def parameters(self):\n",
        "    return [self.weight]\n",
        "\n",
        "class Flatten:\n",
        "\n",
        "  def __call__(self, x):\n",
        "    self.out = x.view(x.shape[0], -1)\n",
        "    return self.out\n",
        "\n",
        "  def parameters(self):\n",
        "    return []"
      ],
      "metadata": {
        "id": "PMuIHCztwcL4"
      },
      "execution_count": 43,
      "outputs": []
    },
    {
      "cell_type": "code",
      "source": [
        "n_embed = 10\n",
        "n_hidden = 200\n",
        "vocab_size = len(itos)\n",
        "\n",
        "# C = torch.randn((vocab_size, n_embed)) # instead of this we now have Embedding layer\n",
        "layers = [\n",
        "    Embedding(vocab_size, n_embed),\n",
        "    Flatten(),\n",
        "    Linear(n_embed * block_size, n_hidden, bias=False), BatchNorm1d(n_hidden), Tanh(),\n",
        "    Linear(n_hidden, vocab_size),\n",
        "]\n",
        "\n",
        "with torch.no_grad():\n",
        "  layers[-1].weight *= 0.1 # last layer is less confident\n",
        "\n",
        "parameters = [p for layer in layers for p in layer.parameters()]\n",
        "print(sum(p.nelement() for p in parameters))\n",
        "for p in parameters:\n",
        "  p.requires_grad = True"
      ],
      "metadata": {
        "colab": {
          "base_uri": "https://localhost:8080/"
        },
        "id": "OCi_CsYFw-G1",
        "outputId": "1c4dcd79-e325-4541-dedd-a036b560fed6"
      },
      "execution_count": 45,
      "outputs": [
        {
          "output_type": "stream",
          "name": "stdout",
          "text": [
            "12097\n"
          ]
        }
      ]
    },
    {
      "cell_type": "code",
      "source": [
        "max_steps = 200_000\n",
        "batch_size = 32\n",
        "loss_at_i = []\n",
        "\n",
        "for i in range(max_steps):\n",
        "  ix = torch.randint(0, Xtr.shape[0], (batch_size,))\n",
        "  Xb, Yb = Xtr[ix], Ytr[ix]\n",
        "\n",
        "  # forward pass\n",
        "  # emb = C[Xb]\n",
        "  # emb = emb.view(emb.shape[0], -1) # dont need these two now. part of layer\n",
        "  x = Xb\n",
        "  for layer in layers:\n",
        "    x = layer(x)\n",
        "  loss = F.cross_entropy(x, Yb)\n",
        "\n",
        "  # backward pass\n",
        "  for p in parameters:\n",
        "    p.grad = None\n",
        "  loss.backward()\n",
        "\n",
        "  # update\n",
        "  lr = 0.1 if i < 100_000 else 0.01\n",
        "  for p in parameters:\n",
        "    p.data += -lr * p.grad\n",
        "\n",
        "  # track stats\n",
        "  if i % 10000 == 0:\n",
        "    print(f'{i:7d}/{max_steps:7d}: {loss.item():.4f}')\n",
        "  loss_at_i.append(loss.log10().item())"
      ],
      "metadata": {
        "colab": {
          "base_uri": "https://localhost:8080/"
        },
        "id": "dJ-yp9cfyIXZ",
        "outputId": "ad6d4bc2-1b60-414c-fced-afc815ed7fc8"
      },
      "execution_count": 47,
      "outputs": [
        {
          "output_type": "stream",
          "name": "stdout",
          "text": [
            "      0/ 200000: 3.3092\n",
            "  10000/ 200000: 1.6836\n",
            "  20000/ 200000: 1.7150\n",
            "  30000/ 200000: 2.1240\n",
            "  40000/ 200000: 2.0604\n",
            "  50000/ 200000: 2.2046\n",
            "  60000/ 200000: 2.3882\n",
            "  70000/ 200000: 1.9053\n",
            "  80000/ 200000: 1.8545\n",
            "  90000/ 200000: 2.7124\n",
            " 100000/ 200000: 2.0191\n",
            " 110000/ 200000: 2.2716\n",
            " 120000/ 200000: 1.8834\n",
            " 130000/ 200000: 2.2657\n",
            " 140000/ 200000: 2.1789\n",
            " 150000/ 200000: 2.2136\n",
            " 160000/ 200000: 2.2511\n",
            " 170000/ 200000: 1.7167\n",
            " 180000/ 200000: 2.0312\n",
            " 190000/ 200000: 2.0370\n"
          ]
        }
      ]
    },
    {
      "cell_type": "code",
      "source": [
        "plt.plot(torch.tensor(loss_at_i).view(-1, 1000).mean(1))"
      ],
      "metadata": {
        "colab": {
          "base_uri": "https://localhost:8080/",
          "height": 447
        },
        "id": "EPzhfmByyhH_",
        "outputId": "57269a32-9906-4f29-dab9-fbfc9bd5a953"
      },
      "execution_count": 48,
      "outputs": [
        {
          "output_type": "execute_result",
          "data": {
            "text/plain": [
              "[<matplotlib.lines.Line2D at 0x789838374990>]"
            ]
          },
          "metadata": {},
          "execution_count": 48
        },
        {
          "output_type": "display_data",
          "data": {
            "text/plain": [
              "<Figure size 640x480 with 1 Axes>"
            ],
            "image/png": "[encoded data removed]"
          },
          "metadata": {}
        }
      ]
    },
    {
      "cell_type": "code",
      "source": [
        "# we can simplify it even more to not have a naked list. We can do something like Sequential\n",
        "# we are basically trying to mimic what torch has and do it ourselved\n",
        "# https://pytorch.org/docs/stable/nn.html#containers\n",
        "\n",
        "class Sequential:\n",
        "\n",
        "  def __init__(self, layers):\n",
        "    self.layers = layers\n",
        "\n",
        "  def __call__(self, x):\n",
        "    for layer in self.layers:\n",
        "      x = layer(x)\n",
        "    self.out = x\n",
        "    return self.out\n",
        "\n",
        "  def parameters(self):\n",
        "    return [p for layer in self.layers for p in layer.parameters()]"
      ],
      "metadata": {
        "id": "GDA6klTdyz7s"
      },
      "execution_count": 50,
      "outputs": []
    },
    {
      "cell_type": "code",
      "source": [
        "n_embed = 10\n",
        "n_hidden = 200\n",
        "vocab_size = len(itos)\n",
        "\n",
        "# C = torch.randn((vocab_size, n_embed)) # instead of this we now have Embedding layer\n",
        "model = Sequential([\n",
        "    Embedding(vocab_size, n_embed),\n",
        "    Flatten(),\n",
        "    Linear(n_embed * block_size, n_hidden, bias=False), BatchNorm1d(n_hidden), Tanh(),\n",
        "    Linear(n_hidden, vocab_size),\n",
        "])\n",
        "\n",
        "with torch.no_grad():\n",
        "  layers[-1].weight *= 0.1 # last layer is less confident\n",
        "\n",
        "parameters = model.parameters()\n",
        "print(sum(p.nelement() for p in parameters))\n",
        "for p in parameters:\n",
        "  p.requires_grad = True"
      ],
      "metadata": {
        "colab": {
          "base_uri": "https://localhost:8080/"
        },
        "id": "w75443dczRRk",
        "outputId": "3ba6ab95-c3e7-4be3-d37c-f4b8cfd507c4"
      },
      "execution_count": 60,
      "outputs": [
        {
          "output_type": "stream",
          "name": "stdout",
          "text": [
            "24097\n"
          ]
        }
      ]
    },
    {
      "cell_type": "code",
      "source": [
        "max_steps = 200_000\n",
        "batch_size = 32\n",
        "loss_at_i = []\n",
        "\n",
        "for i in range(max_steps):\n",
        "  ix = torch.randint(0, Xtr.shape[0], (batch_size,))\n",
        "  Xb, Yb = Xtr[ix], Ytr[ix]\n",
        "\n",
        "  # forward pass\n",
        "  # emb = C[Xb]\n",
        "  # emb = emb.view(emb.shape[0], -1) # dont need these two now. part of layer\n",
        "  # x = Xb\n",
        "  # for layer in layers:\n",
        "  #   x = layer(x)\n",
        "  logits = model(Xb)\n",
        "  loss = F.cross_entropy(logits, Yb)\n",
        "\n",
        "  # backward pass\n",
        "  for p in parameters:\n",
        "    p.grad = None\n",
        "  loss.backward()\n",
        "\n",
        "  # update\n",
        "  lr = 0.1 if i < 100_000 else 0.01\n",
        "  for p in parameters:\n",
        "    p.data += -lr * p.grad\n",
        "\n",
        "  # track stats\n",
        "  if i % 10000 == 0:\n",
        "    print(f'{i:7d}/{max_steps:7d}: {loss.item():.4f}')\n",
        "  loss_at_i.append(loss.log10().item())"
      ],
      "metadata": {
        "colab": {
          "base_uri": "https://localhost:8080/"
        },
        "id": "aI3_bVjUzJIn",
        "outputId": "3953df6e-c6e1-49a3-8c57-273c73a4e304"
      },
      "execution_count": 61,
      "outputs": [
        {
          "output_type": "stream",
          "name": "stdout",
          "text": [
            "      0/ 200000: 3.3270\n",
            "  10000/ 200000: 2.3185\n",
            "  20000/ 200000: 1.9772\n",
            "  30000/ 200000: 1.8233\n",
            "  40000/ 200000: 2.2998\n",
            "  50000/ 200000: 1.9965\n",
            "  60000/ 200000: 2.5866\n",
            "  70000/ 200000: 1.9132\n",
            "  80000/ 200000: 2.3008\n",
            "  90000/ 200000: 1.7143\n",
            " 100000/ 200000: 2.2452\n",
            " 110000/ 200000: 2.1051\n",
            " 120000/ 200000: 2.0149\n",
            " 130000/ 200000: 1.7232\n",
            " 140000/ 200000: 1.8108\n",
            " 150000/ 200000: 2.3331\n",
            " 160000/ 200000: 1.9736\n",
            " 170000/ 200000: 2.3632\n",
            " 180000/ 200000: 1.9604\n",
            " 190000/ 200000: 1.5496\n"
          ]
        }
      ]
    },
    {
      "cell_type": "code",
      "source": [
        "plt.plot(torch.tensor(loss_at_i).view(-1, 1000).mean(1))"
      ],
      "metadata": {
        "colab": {
          "base_uri": "https://localhost:8080/",
          "height": 447
        },
        "id": "Kd9JK1sGzrMu",
        "outputId": "0f7feba4-ee5e-4f05-cb93-c85dbba9b480"
      },
      "execution_count": 62,
      "outputs": [
        {
          "output_type": "execute_result",
          "data": {
            "text/plain": [
              "[<matplotlib.lines.Line2D at 0x7898380a09d0>]"
            ]
          },
          "metadata": {},
          "execution_count": 62
        },
        {
          "output_type": "display_data",
          "data": {
            "text/plain": [
              "<Figure size 640x480 with 1 Axes>"
            ],
            "image/png": "[encoded data removed]"
          },
          "metadata": {}
        }
      ]
    },
    {
      "cell_type": "code",
      "source": [
        "for layer in model.layers: # this needs to go as well\n",
        "  layer.training = False\n",
        "\n",
        "@torch.no_grad()\n",
        "def split_loss(split):\n",
        "  x, y = {\n",
        "      'train': (Xtr, Ytr),\n",
        "      'val': (Xdev, Ydev),\n",
        "      'test': (Xte, Yte),\n",
        "  }[split]\n",
        "  # emb = C[x]\n",
        "  # emb = emb.view(emb.shape[0], -1)\n",
        "  # for layer in layers:\n",
        "  #   emb = layer(emb)\n",
        "  logits = model(x)\n",
        "  loss = F.cross_entropy(logits, y)\n",
        "  print(split, loss.item())\n",
        "\n",
        "split_loss('train')\n",
        "split_loss('val')"
      ],
      "metadata": {
        "colab": {
          "base_uri": "https://localhost:8080/"
        },
        "id": "pPKNZG2Gzttl",
        "outputId": "f81e9988-466e-4ca1-e52d-71162d0f8670"
      },
      "execution_count": 63,
      "outputs": [
        {
          "output_type": "stream",
          "name": "stdout",
          "text": [
            "train 1.9275084733963013\n",
            "val 2.031700372695923\n"
          ]
        }
      ]
    },
    {
      "cell_type": "code",
      "source": [
        "for _ in range(20):\n",
        "\n",
        "  out = []\n",
        "  context = [0] * block_size\n",
        "  while True:\n",
        "    # emb = C[torch.tensor([context])]\n",
        "    # emb = emb.view(emb.shape[0], -1)\n",
        "    # for layer in layers:\n",
        "    #   emb = layer(emb)\n",
        "    # logits = emb\n",
        "    logits = model(torch.tensor([context]))\n",
        "    probs = F.softmax(logits, dim=1)\n",
        "    ix = torch.multinomial(probs, num_samples=1).item()\n",
        "    context = context[1:] + [ix]\n",
        "    out.append(ix)\n",
        "    if ix == 0:\n",
        "      break\n",
        "\n",
        "  print(''.join(itos[i] for i in out))"
      ],
      "metadata": {
        "colab": {
          "base_uri": "https://localhost:8080/"
        },
        "id": "5vweoHBBz7JW",
        "outputId": "590f9ce0-4667-43cc-a89e-f718b7dcbdd4"
      },
      "execution_count": 57,
      "outputs": [
        {
          "output_type": "stream",
          "name": "stdout",
          "text": [
            "tamonna.\n",
            "rimi.\n",
            "arvi.\n",
            "fion.\n",
            "chistia.\n",
            "jazari.\n",
            "sumatt.\n",
            "toriell.\n",
            "kylani.\n",
            "vion.\n",
            "zian.\n",
            "te.\n",
            "nohdangela.\n",
            "makeenayannikusa.\n",
            "les.\n",
            "gayalee.\n",
            "ray.\n",
            "azia.\n",
            "zayan.\n",
            "mosephaciola.\n"
          ]
        }
      ]
    },
    {
      "cell_type": "markdown",
      "source": [
        "We still are not overfitting based on evaluated numbers.\n",
        "\n",
        "We can do better by increasing the size of neural network and making everything bigger and deeper.\n",
        "We currently are doing model as represented in https://papers.nips.cc/paper_files/paper/2000/file/728f206c2a01bf572b5940d7d9a8fa4c-Paper.pdf page4.\n",
        "\n",
        "We are taking some number of characters and going into a single hidden layer and then going into the prediction of next character.\n",
        "\n",
        "the problem here is that we don't have a naive way of making this bigger in a productive way. We could use our building blocks to introduce additional layers and make it deeper. It will still remain the case that we are crushing all of the characters into a single layer all the way at beginning and even if we make this bigger layer and add neurons it is still kind of like silly to squash all that information so fast in a single step.\n",
        "\n",
        "We would like our network to look like wavent. https://deepmind.google/discover/blog/wavenet-a-generative-model-for-raw-audio/\n",
        "![Screenshot 2025-02-02 at 7.10.53 PM.png](data:image/png;base64,iVBORw0KGgoAAAANSUhEUgAAAsIAAAFFCAYAAADmT4skAAABWmlDQ1BJQ0MgUHJvZmlsZQAAGJVtkD1Iw1AUhU9qpSgFFRwcRCKWTlUk/q5thyI4hKqlCg5JGlMhTR9JRBxFBceCk+BQ6ubkpLgJCo4OioOIm4PgJnbREu9r1bTqhcv9OO9wOe8CASiMmUEABcu106mEmF1cEkPP9BBADyRMKprD4rI8SxZ8z9aq3kHg82aY78osXx1tZS+eBjvONl+GygN//S3VmdMdjeYHdVRjtgsIEWJ53WWcqdFrUyjiXc5Ggw84qw0+rnvm00niS+JuLa/kiG+JY2qTbjRxwVzTvjLw9GHdWpjjeaj7kUGK/j6FUbrL/77xui+JIhg2YGMVBvJwISJOCoMJnXgGFjSMIEYs0TYJE/y+v+/ma8UKMP0GtJV8Td0HTneAvntfi5SBrm3g5JoptvJzTaEadFbGpAaHE0D7o+e9RoHQHlAred57xfNqh7T/ATi3PgEe0WJp+OvVdQAAAFZlWElmTU0AKgAAAAgAAYdpAAQAAAABAAAAGgAAAAAAA5KGAAcAAAASAAAARKACAAQAAAABAAACwqADAAQAAAABAAABRQAAAABBU0NJSQAAAFNjcmVlbnNob3QlRRz6AAAB1mlUWHRYTUw6Y29tLmFkb2JlLnhtcAAAAAAAPHg6eG1wbWV0YSB4bWxuczp4PSJhZG9iZTpuczptZXRhLyIgeDp4bXB0az0iWE1QIENvcmUgNi4wLjAiPgogICA8cmRmOlJERiB4bWxuczpyZGY9Imh0dHA6Ly93d3cudzMub3JnLzE5OTkvMDIvMjItcmRmLXN5bnRheC1ucyMiPgogICAgICA8cmRmOkRlc2NyaXB0aW9uIHJkZjphYm91dD0iIgogICAgICAgICAgICB4bWxuczpleGlmPSJodHRwOi8vbnMuYWRvYmUuY29tL2V4aWYvMS4wLyI+CiAgICAgICAgIDxleGlmOlBpeGVsWURpbWVuc2lvbj4zMjU8L2V4aWY6UGl4ZWxZRGltZW5zaW9uPgogICAgICAgICA8ZXhpZjpQaXhlbFhEaW1lbnNpb24+NzA2PC9leGlmOlBpeGVsWERpbWVuc2lvbj4KICAgICAgICAgPGV4aWY6VXNlckNvbW1lbnQ+U2NyZWVuc2hvdDwvZXhpZjpVc2VyQ29tbWVudD4KICAgICAgPC9yZGY6RGVzY3JpcHRpb24+CiAgIDwvcmRmOlJERj4KPC94OnhtcG1ldGE+CnNcYdoAAEAASURBVHgB7N0JtGVHdSbok5rnKVOzlMpUSqkJzfOAZhBCQoAoXNhgu6hyg+mq9iq3e3VX02vZtdquto29qmwKg6uwwTY2g6tAgBCDJjSjeZ6VUqakVCpTqXlGU/b+zlWkbj7d9949590371jrvnvfvefEjvhjx44/9tkRMWdNpCpTIpAIJAKJQCKQCCQCiUAiMMsQWG+W1TermwgkAolAIpAIJAKJQCKQCNQIJBFORUgEEoFEIBFIBBKBRCARmJUIJBGelc2elU4EEoFEIBFIBBKBRCARSCKcOpAIJAKJQCKQCCQCiUAiMCsRSCI8K5s9K50IJAKJQCKQCCQCiUAikEQ4dSARSAQSgUQgEUgEEoFEYFYikER4VjZ7VjoRSAQSgUQgEUgEEoFEIIlw6kAikAgkAolAIpAIJAKJwKxEIInwrGz2rHQikAgkAolAIpAIJAKJQBLh1IFEIBFIBBKBRCARSAQSgVmJQBLhWdnsWelEIBFIBBKBRCARSAQSgSTCqQOJQCKQCCQCiUAikAgkArMSgSTCs7LZs9KJQCKQCCQCiUAikAgkAkmEUwcSgUQgEUgEEoFEIBFIBGYlAkmEZ2WzZ6UTgUQgEUgEEoFEIBFIBJIIpw4kAolAIpAIJAKJQCKQCMxKBJIIz8pmz0onAolAIpAIJAKJQCKQCCQRTh1IBBKBRCARSAQSgUQgEZiVCCQRnpXNnpVOBBKBRCARSAQSgUQgEUginDqQCCQCiUAikAgkAolAIjArEUgiPCubPSudCCQCiUAikAgkAolAIpBEOHUgEUgEEoFEIBFIBBKBRGBWIpBEeDo1+xuvVdWb8Vrz1oSVes2aNSHz9Xi9MWEya0FvvVlVb/yyqt6aYLnq+3rInej0VmDsVYX8iUzaFtYTmdaEPHX1PpFJv9GHJjRFe6rr669GfSe4baOuayajbfXbWWIv1rwVOjWZ9mKidWqi7QV59GmibQUbMSn2gplYU78m1EzNcmFzAvQJts6zHPEm1TdoP3xrVd11RVUtua3L4M6pqn2PqqrDz6yqnRdX1fobNMl19GuRz/uuqaqrz6uqp1bE9W+ryLY7VNXiI6tqn2M7ckfPqdkVzz9RVfdeXVV3Rn1XP/bOvVtuW1XHnxt1PqGqNt4svo/6DzI9+UhV3fCjqrrj8rerGvWdE3PEvQ6uqv1D5sLDQu7mg5TYmVysXlZV1/yPTtuu7YZRt90WVdURZ4XcQ6tqI/UdcLrtwqpafndVPXRHVb38Qifz7Xerqj32r6pFR1TVgkMGLDCye+mZqiL3jmjbZ5+ML97WqS22CYyPqaojz6mqLeYNXu4zob9Lrg+9uraqViztyJ0TGK+/YVWd+PGqOuSMqtpwk8HK1X+eeTzqemlVXffjd+pKbxfsV1WHhczdD6yqTbYYrFykYVnYi7sD4yXx/lqZ0IXcfaJdjzy7qnYJezFn/cHKZaceCHyv+X5VPbn8nby32T7kshfHjZO9WB12KuwFnVrdJZdOHf+xqtpvnOzFU4927MVtl71dV/YiMGYvyGQvBt22yPbj91XVjRe8bS+KMyTk7hr24ujoPwvCXmy48Tv4D+rT7RdV1VX/s6pefBZL6+S6/a7RrjEGLY6+u/3CQUnq5PN0tOXtF1fVPaFTzz/9dt5Rz50WVNWxH66qPUOXN9hosDJLbo/fX1XXnx96FTajrmr8gam2PeDEsJGHDF42e/FK2OEXQp9h/OzKTmm22bGqNo+xz/vGYSvWG3C/LXXO92paEeFnn322uvbaa6sbbrihev7556stttiiOvDAA6v3vveEavvtg6T1md58883qtddeqzbZZJOwX9HBBpBef/316o033qg22GCDasMNY5AdY1rz/OpqziV/W1UXfaPTSX75SnTMYvwic4Z2t32q6pgPhREM4zBv/hglxu2M3PI7q+rCr3dIIRLc7UFDHjbZPAzv3lX1/n9VVcf9ixgABkTCb/pR1PXvgpzd3qlvt9z1QsYWYRAMcL/6/1TVQe8LgjgA8oKc3fzTqvr5N4NA3NGRuxbF0IuNN62qTbcMwxtG8KO/F+9hBJVlrCnatrru+1X1gy+F4QtD/8uX180RMdt86w75P+03g0QE3mNNPINI4bf/UxClq97RqeIxNLBsFPVFiI/9SFW9719X1WaB9yCSSdV5/6WqHrwl5L7YmQSUfOG5aejUTjGYf+L/rqr3nFp+Gds7L9IV36mqy6NtH3+oql4Nuet47tarKhOs/Y6tqg/9uxjggpgOghAjSVeG3Ev+sYPxS8+uWw8YbxZte2SQ4dM/XVXzQ+6YU/RbOnVp9NsL/6GDMZ1ax14ExuzF0WEvjvlw2Is9xiy1zuDRO6PfhtzbL49J82O97cUu0bbv/3S15vhPDMzeVjcHIbzo70Onbu3gPNReIOH7Rtue+b90JnaDIE7sxS0xmft5tO3SqPcrz6+LoUk6e/Hec6vq5E+FTu81GHux+uHQpxgLrjwvJpShT8aCMpFUgtpeRF89/iNVdepvdiY765as+X/swnNByL71R+GIuSrI2RPxZCMIW0nwNBbM2z30KUj4GZ/p/F9+b/t+WbTpRaHDq5Z1+mz3kwWEdPsY5w4JG3Hqr8c4tF9bKe++74Unq+oXge9V/6OqHr2vI7tcxSlSxoK9j6iqj/+Hjk0ehAPq1SDAT0RdOWPgG9ykfgJLtvF2/fU77+zj3Kg7+5Fp4Ais/x8jDTzXccjwkUceqb71rW9Vl156aW1Mt9tuu+qXv/xldfPNN9fEePfd5wcZDuM3Snr11Ver2267rfre975X7bfffjUZHuWWvn6+9957qwsvvLBCiHfbLcjEWNKKJdWcb/2/0Sm/2+kgi8L4zQvjN/fVd15bhxF+JozT3fd0yNT8fcdGXBic5XdV1X/73Y6HZdtlYXSik3bL3C4G17dC7rIYdJeHsXgu5B9wfMd7Opb63nR+Vf3oK2Fwrw6yuyoMXJCWoXI3jkFoSRirpXdEucIbwQCPZXB7KQjoz/6mqs7/q5iJR567RJ26Zfq8TdT/0ajvqhjgn3485IbMbXeOwS0MY9v0+ANh6L9aVT/528hzSXhgn3u33G2j/k/H90uXdh4L7hAGcMt5bSV2DCxj+z//pKqu/WHkHQPc7qFTO0R7ljpv+1IMsCF3+VMdrx4iuccBYyeH9wcJ/s7/F17+GEy3jbbdOeQUmd7p1AaB8YOB/8N3xueo5m77h/H3oWVS9sv+KUhhYPzAzTGIhd7Mj7bsljs3+tOWoVP3RtvefW2UKwaa7XbpDDotxVYIy8+/UVU/Db168cHAL3RsHZl0KjBeFdg/Gtf+EhYhc5ud2krsTF7p1Lf/MIhS2IvVMaDuFfV6l72I+j8T+LMXz0cbz98vJlvbtJeLKHmqwF4gwdss620v1rAXgf/ye6s5z4b895zUXma506T5AvYidGqzyHO3wLQbZzq1cWB/16PhVfxF6N328ftuHc9eyaPpOxJ80ddi8vrFwG8Ee7E86vvoQ1W1Ml5k0ilEqm1aGTbi4tBjE6tnte0w9uKZ0KmHQubrodc77jF2e0GP/pm9+EHkF5/nDem3tb1gH6Pfrg6c9bmFB7e3yfTpiqjjD7/UsfE7hs7s1EPmG/H9XVFPjou9DunUc6zOLJ5YE3UOoNeif+wU/aNbn2pbEXVdFm37RGDBY7vr4qraat7Y2tZE6omw8avjZeJqDO6evPrsO5M81yLKCPkgJuxt9XGG3jctiPArr7xSfec736luueWW6sgjj6zOOeec6tBDD60OOOCAat68edWtt95aLVmypDr++ONrj+xbEbfF09vt7S0RIIjwnXfeWZPWk08+udpyyy3XNq3ryfKSeHdLKvf3ytM18rz66qurbbfdttpnn33WkV3y6OvdzPDyMAiXxuvl6KD7hPJvFx1i0zUx4x7y2uj1IHHRQZYtDwMYnYV3yyyyaeIJfjE6/3n/OR75/TQ6eRj97cMwbTZEHvnKUUWZlofh5THeboe4ft/2BmFpEJXv/2VnwNou6rJr5L3lMHKVZ1mU7bEl4e05uqq2jgGuzeMiBsbjr4vD+/DinTGQBkHZOr4biq//ydw6fl8Rxm9NYLvTwo4BbIqx6w2mHm1e8NchN9p572i/bUeQ+3wYx0eibaMI1e6BMW9Tm6SdzvvzqPMPA9+YvMyLtvUa2r7adsvA/61o26XqG9fwqrVJMDaI/+MfxMB1TeAWbbtT5LdFyHgXziFgw5C7NHTwsSB19Ngg06ZtlfWuy2JQ+1r0jetDZgym86IsWw2D84bRtg9HP3s1BvLdgxxuvWPo8hy5NEuvRVv94ntV9eP/FoPaw/H0IOqzzTAy4f5M2JgVQcJN5nbasz0p9Rj5im+Gvfin0Kmox76hU8PZi43jtxejHVYFmdosdKntEw5ti9R++d92+m1tL6K+m/doWzo1J35bHjKFTWwXfXbX8Ey3JYdLbwkyGvbibgR3BHuxSZRxo2hbE6xwLNQhXduErWqjUwiIflvbiyBgI9kLGGwWpGl59Lk1GwSJXBC6F3Vuk4TXXHteTNi/HmNB5DeSvYDzC+xF6JSJOlLa1nv4TPR99uLa73fsxdzot/If2m/X2oto24eifHBqYy8QvfuiPb/9R1H++2KSFn1jx5DZS582ju/fjD79YJTRZOOIM6MPbdyuz2oTNu6Kb8cENvrPW/eHQyR0ZqsedVV35dk6yrYs2mWjzaPfLmrfb9mLJ8NOrF4W5DvyHC0JezJxNr5vutXYHAWjyZqFv08LIvzAAw9UP/jBD6q99tqr+tjHPlYTTR5hHuCdd965Jp0/+tGPamKMiH7/+9+vNtpoo2qrrbaKJwvrV4899lh14403Vg8//HD9+YILLojJ80MVUrzjjjtWzzzzTE2M77nnnurKK6+sCe1dd90VTyneqObO3a568cWX6vt9t/fee69Vkx//+MfV008/Xed78cUX12T4ueeeqzbeeONqhx12qMuw9uJ+Ppj9MQjf/y9BmqKzGUwR0uHG5Y0iU8bopeggT0dn2m1xGJAYVJsmj2eu/0F4Kb8ahuCZyCPkhg3vmXxP5pwYaFbqzMs7j1sZ3aYEQn0v/JuQ/eMwPkGCkGB590owQCA2jteyIHMekRlQ28TirVoS3p2/i9n4leEJDNyQpOGS8jCAK6Nsj8egyivMG9DGG73kxs5guvKWeFwb+c0dQa56Mr7PR9s+9WIM+jvEPQcNV8rhv2dw77+uqr4bA9tLgfE+YVDVJ8bKd6WwsfVvb0S5loVOvBQD3MGntDP22vZHQVjEje4Q+ewceqxOvdL68eVm8dog5D4c+rfBhtWaxUdXczx6bZpM6M7/UngpL4tBK+Qi3xsNI1fetU7F+/LQqe326JDSNvHgjwRBuvxbQbquCU9w1B0JHi5pV1g8G23zYpAAOrXbvtF/ejXKcJnE94VAnPcXQYJWdOzFDlHf4eyF9iX71dD5J0O2Jw2t7EXo4w0/6DzFWRjl3ynqumHk2yt124tVIZOn8diPdrxaTe0Fr6MnZbdcHG0bkzX2Qvv1St32wkQHxruEvWgzmVz5YHhk/yFswBUN7UXoFK+wkJSm9sJko9iLJ27v3168EG3zVNgMpH+P9/RCZuTveB7v/HnHOaEvLQ57sd4wtxR74XH+spD7wtOdsIUmTxo4YYT1/O3/EXbqpiDBQUTZiuH6bG0r4h6Tqwcfj8lr2OJdYkxu+wTpsXtj8vrXMdG4OeSGbLaxVyr65PdHQ/YqsqPP7rCgnfNJKIYnSENDp3rJLt+xqTq3Ma/NuFfyyfd3ITCcir/rwsn8AkEVBiGUYWjYAY/uEUccUcfl3n777TW5/elPf1otW7asDlNQ7uXLl9cEF5Hl2RXL6x0RFi+8atWqmmhfdNFF1csvv1x7iR988MH47ofVTTfdHET4xUrel1122Tow/PznP6+uu+66+veS53pvPzYvHuR1bhjtH/GiHg8/HYbXYGpQGy3pmLyKYrjEfrZJFkzd+JOOl2eHkMvYjJQM4rtE2XaKge3BMNKP3t15hDPSPb1+e/qxWED189FJcLmXMUJslE/YyBNhSBjSpskj1YdujcE4jPdIJLg7Xx6Kl0Pevb/oPM7q/q2fz2bzZN5/Q4cE8ciOlpRty3jxfAgtQGqbpheDWFos9lIMNvMZ0j7SZiFz+xgUkJb7o75Nk0H85ZB79ffDixGka/v4fzgSXPLeINpR20rXnV/N8WSEF6RpejAG0wfitelTnScL/dxvsvnL6Hu3XdLBup97uq/xWFdYz33RtoiZ/jhacs3u0R4vhQfsgbgP6WiaPGF4+K6wF0s69oKOjpbYi81Cj5aH98vi0DZJnPfNF3bu1GbabqRU7IVJZ20vosxt2hZpsZB2q2ir3QK74UhwKUu3vbg7JijPhRe7O7a2XDfauz4vFnnDsJNN7QXHxhMPjSbh3b+/HJM49mL1bZ1+27e9iLZ4/MHQ5UuHxMS/W0TPb3iDr/9R6GUQNWMQDEdLnAW1vXg0+kDg3CTZTeXhGEPo4u4x0dklZA43qSr5+t3YiBjecEE7u1jyuuWiGL/u6fSJ4Uhwuba8m4AZo++JPm8Ma5qU21ivjZuml5+NCUe0DZuTaWAITAsi/Pjjj9dhCkgvD293Qjw322yzmrzy/AqLeOGFF2riXMiohXG+c61wiqOPPrr2Fp911lk1sUaIeXaFNHzkIx+pfu3Xfq0688wzw9H60lqiizC7rjv53QK+hQsXVgcffHCd1+GHH16HbyhT42TXBI+TeW0KKeg3E967WMCxBuFqkpAWs1KrzJskM3Zk2P1L4942A9uDQdBWLQtPXAyQw3mCe5WJx2B5eOCeWt6JTet1zXDfKa/FU+Ikm6Q6VCTujVjHeqBpcq9rnw/jhdC+GQawn0Gt5G/g3TQGYAuRGMCmiZfGIrUN4kbkod+BDakSt2a3haaJkX56RedpwY7hMRxtYCv5rxc6pYweCVu93c8jw3JveUdaYM3bbhLRJK1cGmQpJgxNyZI+J2b+1SDv/ZDgUiYhDBtE33s0dEq/b5peCB1e9VBnkqFPNEkvhefPgq91FhD2kUG07RqD+JLQqSap2148eGPzfkuWSQ6doJtN7IV7H47J+tDFfL4fLdHl+6O8YkObJPYCsaIXQjOaprptQx/fjDaWV7+JzrMXT7a0F5wi9HH9t/tiE3uhbcRkN0lszEPRruTo++xUv4kn+r5oG2Mfu94maR99oUkyNhujH4pJSvcuKf3m8UbwCLtENO178nePez0dyTQwBKYFERari8R2x+d2I1C8vMUb2/2bz2UnByQamZ47d27tQd5jjz2qTTfdtCa8dpA4/fTT6/ALYRfijRFjBPmpp56q5Qu36E4lhlgeQjK8y7+EZHRf29dnRoEHr03ieYtFC3PMGJskhh4RtuChTXL/spjRv9HCe7ciyE73au9+5fNsbhwXw4pHoUkSE6a+rzW8r8iwnc8LLdrII0ceAANVk0mOR+yIs0HG4sSmST2fDGLZJmnTVS30gk6YpCCU2mq4x5xDy8QaCQcyCHvC0UY31LVt2xpQXw1S23RQ1a76LhLcZJJT6s8bbOLQNJnMrVrW9K7O9fTJIN504vzWG9Uci4ueaKEXJHuCY7ERHWma7GJQPx5ueKM2eT7wFdfclHyQZ5Eh8tEmPR+2oo294O1Hhpsm9gJxRpTkMZGJvWiqF/DVLk0Tf9j27NPDHe9qC32q99jWNm1J5bPRD8r2k03KTwfb2LYiI/pg6zKXPPJ9HQSmBRHefffd61AG3lfe3e4kJAFZFb6w77771oQVMe4mxbzEPLpS92f3lrT55pvXRLbcJ84Xse3lCS73+A25Ho6gl+sm7N0g0yZUoKkHbJ0KhUzksCl5WCePhv88G2qr6XihbWjfJEVxa+PVdEBsImM8rjVgTJcy00FEC9bTKXnkD+Om5dY2BuJXwq31Uj8utAGBoqxtBuJ1xDesrLZ9q+E968ibhH9qz3vItVCuaVwyZbC9X9v9eTfZNCbt8WqaTOb0oUy9ETBZ9tRHd9P/Wox7c4xZnCJtnDi9S9Xft2zFmMZLlZ4W1K0/PKbAVdMCTQSXp9UWZRa52aJMQkTF915++eX1NmhCHgopdQ3Si+xaDIcol9/ciyyX0AmeXbHBQitK+ANyvXr16voahBhBRsLl6z6hFhbG8RKXcA3lIY/cVknAf1uD697NtorXNs1E21xf4P2m8WqT3L/XoeF2X9db3ldW9lNtukBIxvdtGH9icNpybmO81ti31sIZ+/S2SbauadNGsQCsxuj1MGIvNyBLv4xrX42XPUq33qF5iQ3+m8S9bZK2aaMXZFokhHS8GK/OHHT0EuBXz4fMNXFPvfiyhXlS1zY7AyjdvF2rNXSq6f0WYNnj+tmQvSL0q2miU/VBMQ1v3HpehCft2fCmty9nL7RtU7lWrdvTu41elJLWuxm0aFu2rWnbkHl/lPmtsBebhn1cv6Gd0m/ZC+3bJtmX2xZ5TZO+vs3OMTGLvtDEXrwW17MXcGpjp4QetrUXMUY21gvlNA40Tep5b7Slscu410Iv6rHALkBtF56Z4NCPpkl/bzNeFjn6bhu55f58fxcCLazRu/IY9y/23HPP6qijjqosmrP/7913312tWLGiJsUWrJ1//vnVKaecUgl1cJgF765rLXizrZqFbggzwosMe0da/Y4gC2tAcu0mcccdd9R526/YbhXz58+vwyUQcXnYJq0svnviiSfWeprJtaAPmfZ9t7e5b4C2iEF4+z3CaMcdjFmTZHDa+7DmnZrxItcpQU1SKaP7HQqgczZN+5/YGVRfC2PYL1kqMuxxa9uphiev1ZMhhtOBHOZTBpp+EkL6ZrwQjx3n93PHutfYlmvurkH0IqbjoQbGc1VgszIGcavADYxNkwF84XuCXMaNPJb9JG1Rk+8w9Psc3s8d615DF3ZYGBOV7WIBZ+D8auhIPwm+t8bgtl7cYyV4U5JGRr23aPQFA+UbfdZXXelzENo5bQ5q0ffm718T6X6qufYaumdLPjs32Du5adoi8N1+QUt7EXqxV9iLDRt6KxEO24HZvrBJKvbC5MrhJW0Gcqe2qXMbe7Fg/2qNvcebksPiKGhKXIq90Ge3ib7fNCHC84JEv9DCXjzOXrA3Ud+miYNgz2ifpvZCfU1wnHjaJNkZRrvqd+wEuf0muhgnJq7ZKuraggjXY4EdLuhiG3th7/7tduq3tO9cRweRYWNn06T/1PdHHpkGhkAL9jIw2X1nRGE/+tGP1tf/8Ic/rLc3Q0wRT97X97///dXnPve5muSKz/W/7dacQOf0OS/hFRawiQXedddd6/c//uM/rj7zmc9UW2+9df0bL/CXvvSlmsQ6ue64446rzj777Dqm2I4VdpX4gz/4gzo/cmzdhnQrn90sxBbbsUL61Kc+Vd9X/9PvH5uvLzg4DEIYh7tejq2rIgxktBXZBpi3onPsEOTsyA/2K2nd67YI4+e4WSuyxUuFfRlxURVjxXN3R3TGrYNU7ntclLOhp0UJDP72jL12ddThyU58ZWQ7YirkZtFBHaLF69g0HfeRzkr965ZHPQPjhW+MnIOfeaFfjPo6UrTNEcSOykQAnMr3fCxSkudovQ8h1b4xiFdHn9V8khO31l5zZb74H2PbqcDq2FdHblv3PBsKcH/UdZcgHSYrTRNjzbN69m/FIR5/EXUNmXRmpKbye+dBT2dS5uhwg0XTdHjgdNk/x/ZpS0Nm6LIV3qPp1F2hu69EYxwXNmZh6FXThCzxLO0QxGPVA51JnT40UtK2S0PmnLhv8RGh+y1IC7IzPyY5r4W9uDPsxSF92os1AQh5dKpNQpZO+pXOQRr92osXQubtoVNbhr3YL3SqTduyF4jWL1Y2sxeeAoW9mOMkwTbpoJM6O/I89XB/batv80IjsfTC05Gmib3QtrZqfO6OZvYCQTv27HYYm2gsDpt84TdiZ5A5HXsxWv95Li64N+q6azyhOPJDzWpKDzhSYrvE6parQodfiad1YfRC9LCJrTAOIIT7H1vN2bDF2FMyP/VT0VbXR/vG+GMsYC9GSuSyF6+F7PecEjYy2qdpsu+xA5Isfm66JogTZ/NoIzYn08AQCAsxPRIC+6u/+qv1grb777+/WrlyZb0ordeWar/+679enXjiidV9991X7+fLUyycAWHlDT7ooIOqL3/5y9WTTz5Zk9WrrrqqJtS/+7u/W4OBBO+00041YRYWIdkN4otf/GLtERYKYZcIRFy+SDlS/PnPf76OVxYu4bvGyWNHxPCjvxOncf1pVd0UHe7oGMxHSo9HEz65U1WdfHwQiCCkbZJHu4d/MDzKfx/bqN0Qm5THoGpV7HBJjO4dUbatokP+9n+OTh0eIuSnaTJAnf25WIF+UxjS56L8kcFIW0AhhdeFEUEijouBuI3HQxl3CjK695GdbbaqR3wzclJXA/nRp3dO0mv7KI3X3RG3/3x3EJfIE3EZKT0c+CyP1wmLggBE+7ZJHjseeHIcmRwG/2d/238O2+1cVR/4dFUtOLT/e7qv5KE59l/ESVH/PbZyeiGOxY66jrS3Lq/sDdG20kf/fehU6Fab5OnGiR/rbGu09N7ORMI2UKMl5GGv0Im2hx/se0Lo1NVR18s7+rlfYfXDCEaUVgdGZwTJOuyMdgObAXX/0At4ffuPo++GTh0zir1YGTJXB4E+Ke7b773DFG6Ur+2zfMgHor8GXjeFvTjspfCmj2AvEKXbo2yI6Of+S8er22YCy16YrNxzXcdeLI5yjrTwVJGuD4zsv33av+k8bRulaj1/3iv67XuinS64K3afeLizoLPnhW9/qW9zFBx1WtiLwHiTFmOBrBYHvseeE20bctmgQ0exF48EPo/G670BzEGnj1TC4X9jL95zchyJ/eudfeWHv3LdX7YLnTrjNwPjhet+P9p/9IBX9vSQd2+0681vhj5FPbdg7IdJLwa2d20V2B5TVWf9Tjw5Cn1sm0yujAW2E6weHz0XYzLv98kfDntxeOMnkmsFIMJsVVMizD6N5STKtQXID90ITIsDNboLjJjy6C5evLjetow3t37E0X1RfOaxRYAdmMET7D5k2rXifX0WEuEdsXY6nV0jxCPzHvtNuEPJ27sFdGR7IbvulW+JEfad8vBAI9ytElK6bRDbV5+J7YKCMBm4dgnjEH1vnfRQ5H9vDKbPxO8HhIflV/5D+0Fc5jy6HomteCDyjZnqIyGtnPDWLfjJkCc2y6luZ3+mqk791+3CIkqeOvZbYfjIXf5CxwNO7tDk0ZVBzePzf//fo84xMLV5dF7ydYDBepHXAw/F66WIwwvj6gSyoenmqOtL8VscVrLmI79XzTEgtngMV2frMSCvf2RX3XlTkLX4MNy2V0uibU1yDj+jqs4JY7/bfqEDUd42CU47LgrPR5CWO1cHztGGFpqEiHXSivjeIP5KGOjDz6yqc//Pdl4lmSqrmM7to74P3Bj69HLH09Nr71eTjNuibYW5/HYQpcNiUla3bbv6rtl1v2qOHTZsW7U6PEzRfd61rZnv6BPisHPo/W/8pyB2MbC2eWSvvnU4yO7xIXC9/eZObLT9k3uluwP4pwPrg04MAvDpqlp4WPu2Fatb24tnY0J5V+hM5Eun6Fh34n1mL9bEBOe4c4NAfK4zge2+pt/P2pYXbs+D41Suf47TAEMenXJq4FBC/FQU5J64dqvQKfbitN8KrIYqXr+C47rtF0TdQp69ch1n7IlZL3sh7ET78uD95h8GqYy2bRhGtU6pdt4z5EZdliyLfhT2gk3oZS9uiboiaseEDoe9qPY+unPfOpn1+U+xF+tHfndGH4LlcPbiwcBUfLrDSn7l/4qy7dFep4Q47Lgw6hk2iqf00Wjb0ezFYTExOjfktvH06zs77RX9NGzEstDhFdG+to0c6owx9twW+K6K67faoap+J8aBefOjnoHLWJKnQK9Fm97/cLTvq51wuaHbIOrK9Mk4tOCAwPjz0W8PibaNMrVJ6qx96wV7Mdb3k4Sb7Rw4ue9dhKCfDPKa4RCYdkS4EFnk06sQ1aEV9L3fkV6fy6tc5//yG8+wsIhjjjmm9hB331eu917uKff1ynPod9339/XZIGOG7NS0V5+Ljnl3x3PEyHW/no8OuFWQjFN/PQzuv48Osri9wVUwRt6xtosODTkxyDy5KgxvGCRkrFsuY7zNruEt/DdVdea/i04ZA/FYEiOG5O20IAzcI+FxWRnkf4hM8p/cJEILjgiP0hc73g6PiGDVNolJY1Q8Xlse9X0qSLh43O66+vxKlO/YD1VrPvH71ZwSy9ZWZt22W8cgsyDaON6fCfJyfxjBoTL9v2lcc+pvVtUH/9eqNrhjIQ8w5unZP7yWWCFP6eqw7EPlPhPX7Rh6dPa/Dbnx4rUYC8bk7hD1WHhAeFFeiUFudbRveGeHyn0+2nKvICrnhD6d8KsdnRqD3DkxyKwJL+CcuTt29iR+NEixCWW3XHrNs+OxLBIsvIdnqa1c91mM5bQpsZ2PPhp9N/pvt8zyGVE6+ZPRb//3IGhHdSah0TKtErl0SR/6ZRBDZBhhKLLK+3Px3VZBgk/8RIcE14QyytE2IQD0Y7+jg9SvjP4TGPeyF8qyddgp9uKD/9vY7QW5jnQv9mJZyO5lL1ZvEm17WFV99i8jxOz0zoKqtm0LIxOz2l4ESVweE6zh7IUJ9TFnVdWHgwQvCnvVJmSstInysnPsRThlqjtvqKonov6lTbvfNwnie0rYizM/Ezp4QHuCRraxgL3wdHLOmui3YS+eGMZe7LB3x16cHW3b2l5EPTmOFsbYs32MLUtujzoGMe019mwY5Tok2vNf/UnneoRyrMmit/mBGa/2M6HHj67qbS88tTrlV6o1n/yjag4SbOzokTwltuj+0bABZaH+Sy+9GN/9sl6LZP1Qvag+dHlOOL7W45AZzTMsBMMYz1E2VuLfo8yz/as50Wih6bM72QHC1myOReb1nRLpjdfD2D4SnrQY2G44P4xREOKy96B4YITVo1wd2MKKsRjc7grbkmzVss4m5w9cH6TpjuikQdgkXh2LZA48tUPUB/mIxj67vMIO5xCr/EjUV0K058ekgCE49MwgVmHw6x0FwniMNZmNO3wBxktikLFh/4qH3s418l+wX6euex/VIXT1avexCo37tSO5DkO47aLwNPz4nUx3WRQGL16ImXhxnnePwAeRbNvzzIqoa9TzjkujjWPAsW+uZNGH0A2Py+lU60Gtk906f+1V6wSmu68OInxbEIloZ/sES7yZR0S7ikW2ul6M4qCSwcVpZE6AuveaGMwf7eSsr4i71q76kIV5vIVjIUqlzPb41F/oFIy18SNRhpIcWc1LuDDaFmFu40EreXW/67dPRv3IvTHsxdJ4X2svdn/bXkR9xZ1uGwO+MINBJPt4rw65D90cnv9iLwJ3SegUnfKY3sR+oPbihXfsxV1hL5ywJ/GWCXPZOdr0sGIvBtS2tb14KohSyHJa45KoM6dBSXuEvRBihiRZ9DxIe2Gv3Ufu7GDMXiiLZPHuTouqNTFJn8NecGYMQ9Dq65v8sS3Zs4+HPb4sJuzXdXTq1Rc7OdAhbbs/exE6Re4gvJT2Pmb7l94SC2cvCZ1e3pFn7NnzoOivIRNhjh1eBtZ3SKg9s9Fv7Yl/z1WdQ4jKISrFXhx0Wsg/ouOFHmW8xSe+/e1v1wvuPSlGdjfaaOO1zjtPjoVbHhJhmpvqivb/V3fjQneKtRZrtphXzTEx4bxJEtyNzsA+JxEeGJTjkJE5ioHGAGdwLduy2dfSYiSkQecYj4SY2tDdhuOvB3GToiPXxGyQxLuTc+dvvRdryH1mZdT3uc53PAU8Xjwjdl4Yj2TBD9LECL38tqHHsy0i3DbImRg/XpKBpmhbkx2P8Fe/bezlv3nIMuvXvmMIDxixqIipQw3qzeRjsJN4RWzHhQAPaiDt5Pz236gvjO3b+XK08S9DryVyEWD1HQ8jjwySC+dXot6StrSbhsHb05fxkGuP3+dXh8wX3tFlsufuFHK375CkgctlL0Ku46lfGGovwlbU9iLwHo+knhb/rGMvYsJhIqffjkIcWhWpthcht7YXUV+p2Ave+Ta7NXRyGflvrVNPR13DPr4U8kvaMuyFdQv67aDb1ljwZuiykw+Rw/i3Tptt0bGN+m1tL0phBvjuwBi6bAwqe+9vHOOOth0Pe4GAsxMOmXn15U5FjD1izMkb61PIkaCxf7OTE7XtUHth3cTGgfcwE2YL9502a9co27xecskl9TsiXJ4m237V+iEL8U866aQ6DHN9oS/Gdno19IAotniDwHrg489IIMy+35IIz742zxonAolAIpAIJAKJwBgQEP7g1FlhlUIgEGBnD/hfuKXvnE9QiLAtW+0sJQQTEbbTlN+GJg/phU6U7V6H/p7/Dx6BJMKDxzRzTAQSgUQgEUgEEoEZggAS68wBIQ/OE0CAHaiF/CK+5YAtxBeR5QEuO0f5zXfz5s2rd7M69thj612pei2o51WWn8PDjjjiiHpB/gyBcEpXQ3RKpkQgEUgEEoFEIBFIBGY9AsiorVGRXl5d4Q7IKW8vAowI+x/pdRAX0muHKbtTLViwoNp+++3rRfdz585deziX3auEQiDBfrcgv1fiCbbtqzML9tprr3rdksX5mcYXgSTC44tv5p4IJAKJQCKQCCQCUxQBcbvCHIpXl6e3EN7HH3+8/t7/PMIlOUiLh3ebbbapwx28eyG5ziAQAmFrVaTW7hHCIZBg1yDOvRKvsXLccsst9Ym4TsW1qE4+mcYXgSTC44tv5p4IJAKJQCKQCCQCUwCB4u3lzXVwFm+vdx5eh3QhvsIdkGEEWUiE8wIQX7tKFfLLw+vlIC2eX2cHDN1xCrF1lsE555xTHXDAAaMSWt5gZbj77rtrj/RNN91Un5eQRHj8FSeJ8PhjnBISgUQgEUgEEoFEYAIRQESRy1deeaV+CWPg9RXigHA+HKcErlixovb0IsauFYZgAZswB4dyeSHACC/vrMO2/I+cjhaywPOLIIv17SfxBt9+++31Qjvxw7zJwjDK4V795JHXtEMgiXA73PKuRCARSAQSgUQgEZgiCPDeeiG8YnwRYJ7e5cuXV4888kj9GfEV91uuFduL+FrYhugKXeD1RXjLybS+77WwbZDV5qnmmb7tttvWxhwLx0CMd9lll9rrPEh5mde6CCQRXheP/C8RSAQSgUQgEUgEpjACvL3IIy9ueZUQB57eZcuW1bG5tjHjaUWOeXARWu9ieHl9d91112r+/Pm1lxf5Fd8rFGKikzKKCV66dOk6W6rddddd1VFHHVWXd7jY4oku60yUl0R4JrZq1ikRSAQSgUQgEZghCCC+5YUAI45ieXl7bTWGQIrrRYb95lrE0e4MPL68vGJ6kV6f99lnn3ofX7G/o4U4TASEdqi44YYb6rKXmGDldzCHugnNEGaRaXwQSCI8PrhmrolAIpAIJAKJQCIwRgR4fJFcnl5eUwRYqEO3t7eQZMQXYRTqIJZ30aJFsQ3Zojq8YN687ettzhDM7tcYizeQ23mqHbBxwgknVLzACD3vtPAM9UH+M40fAnmgxvhhmzknAolAIpAIJAKJQAMELGgTx4v4ehXSa/syuzyU+F7kkPfUbg3iaEuIg3ceVKEPCKYXgszziwBPxVS83Aj/n/3Zn9X1PvPMMysvHmyxzFPBcz0VsRtEmdIjPAgUM49EIBFIBBKBRCARaIQAby/PrkVswgC8CxNACBHiEt+LKCKzSC9PKaIrznfPPfesPb92VhDbi/S6xvt0Io7KitTbvaKQ9XJIx9Bt2RoBnBf3hUAS4b5gyosSgUQgEUgEEoFEoC0CSC+vLm+v8AYHTdjGzHZmSK9wADs9uE6oAwLIq8vba1Hb7rvvFqR3x9pDKra3bHPmOiS5EMi25Zvs+9Q5QyAmpxWSCE8O7ik1EUgEEoFEIBGYsQjwbiK4yG45ltiWYDzASK/fhDqUY4p5RHl7xfby8CK/TmoT7ytO1quEQkx30jtjG32aViyJ8DRtuCx2IpAIJAKJQCIwFRDgxUVuEV2nswlpQID9by9foQ5Ir/19xfgKXUBskV0xsEIdkF6f7dtbDrTwztubKREYTwSSCI8nupl3IpAIJAKJQCIwgxBAZIUwCHMQz8vDi+wKd0B8vfPyIr+ILyJbDq2wkA3hdSwx0osM8/6WY4pdl97eGaQs06QqSYSnSUNlMROBRCARSAQSgYlG4PXXX6+9uWURW/H8IsBeiK/feHzFufL28ury8pZtzCxsQ3iR347Xd6vw+k6NPXwnGs+UN/UQSCI89dokS5QIJAKJQCKQCEw4Ary9whrE7/LoIsG8vBa0CXkQ6+t73mBeYd5bi9XE7iK4xbtbQh0QYjG/E3FM8YSDlQJnDAJJhGdMU2ZFEoFEIBFIBBKB/hCwQwGiK3yhhDogwEjvY489Vu/f63vk18I33t6yhRlPr/jeQny9I7++4/21lVmGOPTXDnnV5COQRHjy2yBLkAgkAolAIpAIjCsCvL2IL4+vF3JbtjIrxFeYg9AHi98k3l4v3l4Ed5tttqljfHffffc4Ca2z0G3LLbfKBW3j2nKZ+XgjkER4vBHO/BOBRCARSAQSgQlEgPcWmfUqBFhIA+/u0qVLa28vzy8izAvsGt5e8b0WrPHweiG8XhazWeiGEDvoIVMiMJMQSCI8k1oz65IIJAKJQCIw6xAQ5oD8IrReJaTB8cS8vN4dV8zbyyssOc0MqXU4xVZbbVWTXPG8CxYsqPbaa686tteuDpkSgZmOQBLhmd7CWb9EIBFIBBKBGYuArcpsX1a8vffff399ahtvr98K8QUAj6/wBjG+TmxbvHhxfUzxLrvsHN9vW/8+Y4HKiiUCwyCQRHgYYPLrRCARSAQSgURgKiHA62ubMqT3wQcfrJYtW1Z7fG1jZgszsb88wuWoXh5fXl5hDXvssUcd3+uzE9wsaBMOwTNcXlOprlmWRGCiEEgiPFFIp5xEIBFIBBKBRKABAogtkmsxm/fly5ev9fZa7MbjWxa2IbNCGSxqE8uL8Apz2HHHHevty5BixNc7z3Du6tCgIfLSGY1AEuEZ3bxZuUQgEUgEEoHpgIAQhnJYxYoVK2rCa0EbT68wh7Lbg+3OJHv32p/XSW1Ir1AHpLdsX1b29y0EeDpgkGVMBCYDgSTCk4F6ykwEEoFEIBGYtQgIcbCgDcHl5RXqIM6X19fuDuXQihLqwHtrUZsdHJBdcb677bZb7fnlBfZCjIU7IL7p7Z21qpUVb4FAEuEWoOUtiUAikAgkAolAvwgIYeDZdUobkltOakN+vWxhhhgjvhJSi9wWL285qc02Zha6IbyF/AqJyJQIJALtEUgi3B67vDMRSAQSgUQgEVgHATG74ndLmAMvL7KLBPuM9PoNIXZt8fYKabCwTXyvcAf7+NrWjPfX58022yz38F0H6fwnERgMAkmEB4Nj5pIIJAKJQCIwyxAQ4sDb++KLL9ZEl9cXyS3kl+e3kF/X2dFB7C5yu2jRotq7y8uL+JZFbkgvb2/Z1WGWQZrVTQQmHIEkwhMOeQpMBBKBRCARmI4I8ODavgzxLV7fQnYtcCukt/u0NsRXOAPyi+wivkIdeH59X97t6JApEUgEJh6BJMITj3lKTAQSgUQgEZjiCPD2lp0aEF8EWDiDk9pWrlxZhzv4jAi7zvWOJxbCIMTBjg5IbiG/9u610A35dU2mRCARmBoIJBGeGu2QpUgEEoFEIBGYJASQWGELtibj6UVsLV5DcpFdOzvYy1esr+9dZ5Ga8AXkt3h1hTggvGV3B2EOdnuwb2+mRCARmJoIZO+cmu2SpUoEEoFEIBEYJwScvCbMQdyu/XsRX/G9PL0PPfRQTXptbVb270WUEV9bk9nRgcdXiINdHXh499xzz3o7M8Q3Se84NVpmmwiMEwJJhMcJ2Mw2EUgEEoFEYGogUI4dRn5LnO/jjz9ePfLII7XH1zuPrxAIvyO9CK2XnRuQXi/eXqe1OcBCyINFbZkSgURgeiOQRHh6t1+WPhFIBBKBRKALAd5bidfXZx7fJ59cXVnM9sADS6oHH3ywDnmwoE0YBJJsCzMvYQ5CGcppbfvss0/t6RXbixCnt7cL6PyYCMwQBJIIz5CGzGokAolAIjDbEUBqbV/G23v//fdXy5Ytq7c1W736iVjs9nId2+uaEupgRwee3l133bXe1WHfffetFi5cWBNhpJdnuJBk75kSgURg5iGQRHjmtWnWKBFIBBKBWYGAhWviei1ms6ithDiI9xX3K8yhhEXw9iK9Qhp4eBe8HeLgOzs8lBhgBDi3MpsV6pOVTARqBJIIpyIkAolAIpAITHkEkFoEF+Hl6UV+ndZmQRsvMOJbFr/x3lrYZjcHC9qQ3rJ9GdJrwRtvMHKM9CbxnfLNnwVMBMYNgSTC4wZtZpwIJAKJQCLQBgFeXPv2OqDi0Ucfrb2+SLD/7eWL+IrvRXzFAvPi2pvXrg0Oq9hjjz3qd55f34v7LcTXtRnm0KZV8p5EYGYikER4ZrZr1ioRSAQSgWmDgH15eXcRXR5e4Q48v0iv7+zmgPTy+vLeIrYlzAHx5e1Fgi1os5ODdwTYPr9JeqeNGmRBE4FJQSCJ8KTAnkITgUQgEZidCPD2IrYI76pVq2qiW7y9yLDfise37ACB3JY9exFfnwvxFepgL1+kVzhEpkQgEUgEmiAw5YnwNddcUxu4vfbaq57ll8oxnLbBsTXOkUceWW+Hc/3111ennXZa7QkY6gXwGM1G6R63HX744T23wZHnbbfdtnZz9KF5FNn5nggkAolAIjA6AsIWeHF5dpFcdtg7b69T2pzc5t33bLmEzPLmiusV2sDz632bbbapPcEWuyG/Qh0scMuUCCQCicBYEJjSRJg34Cc/+UltAMvsv1TW47JLL720NqCHHXZY7Vm46KKLquOOO642ouW68m7PyOuuu66+7pBDDulJhHknzj///OqDH/xg7XHIBRQFvXxPBBKBRGB0BJBZttareH3ZauTXPr4cEcXrKzfOBqTXvr1sPNKL8Hp1E2ChDumYGB3/vCIRSASaIzClibDqIKdiw8SQdSdeBt4Ev/EK8BAcccQRtZegXMfL4BGbxRGMMq+EV0mItt+93F8WZ9iSpzySK4advBJ/5n6eDmXilXC/cng0x6iTlykRSAQSgZmMQPH2srPsaglpsIdvt8fXkzbhEHZ9YCOFOQhvQHSRX8cVe/H62uXB7+xqpkQgEUgEJgKBacHYeGZ7eQMQ4PIbA7vbbrutJaGOy7zzzjvrfSUtrLBdDmNtuxwJcRUqceutt9Yxarvvvnv9CA8BLp5g1y9ZsqTemB3ZFZd28MEHV65FmoVi8GTIh7FnwJ1EtGjRop5e6Ylo0JSRCCQCicCgEWAXOQU4BNg+9pPXlzOCs8L+vQiw7xBjxJd9Zm/F73IicDawlxa2+ewQCwSY8yBDHAbdYpnfdEXAhNEr08QhMOWJMFLKAPMw8BIwyEixVcWMbvn9jjvuqP70T/+0+uY3v1kb4fPOO6+64YYbaiOLCLtWHu95z3vq3+1B+Td/8zfVstiP0klCyKxHdgy7/Bl6oRQXX3xxbfh5eX/xi19U5Hz2s5+t8/uv//W/1sacIecdNhgccMAB1Sc/+clq//33n7hWTEmJQCKQCAwQgeLBZQcL+RXLi+yycxa6CXXgADBo8w6L7WWjxfAW4uszB8X8+fPXxvnmE7MBNlRmNWMQwDu8TB459jjvcoI4Mc075YkwZeDZ5Z1FOJFiBpdXwv6SPLTdiRLx8l599dXVGWecUZ199tm1Ql1wwQXVd77znZo4e4T3s5/9rLr77rurP/zDP6zEDPP4/vmf/3lNlhnqhx9+uPr5z39eK+Tv/M7v1LJvueXm6gtf+LOaOJ988smVEApl+sxnPlMvsPvHf/zHmjzzIicR7m6V/JwIJAJTGYHihUJ8fWYPEV8OA84C75wEJvxeHBDssPcSziDcAeldEIvcPD0T58t+Z0oEEoH+EMAnLPg30TzwwANr/tHfnXnVWBCY8kSYB9hjNEaWd6GkEoPm96EJCRZ7duihh9ZG2u/IrrPnGXneYR5g3mE7SEiuP/300+tQCNfce++9teEXBnH77bfXpBcJVwae4hNOOKH2Tp911lm18TcgiHEzk0PSB5l4W7yKN7zMHMdztkiWV5GrPuR5kT9eaajMIrfUeSLkFpxLXcezvqVtu+s13nKHa1v1JHu8Uq+2LTLHE+NuuaVtJ0Ju6TtkljTebUtO0anuupb6lnJ49ztbh9iWY4rZSMTXQMxO8gaXfDgIeHwRXCENvLzifO3ogwAbxMkp9VXXcm+33EF+ln/BueQ7ERh3yy11nAi5pW1LXb2T6zVeSf2661tk9tKpQZVhzRpjXqdtu+WR6TWeqbuu3W07nhirD1n6Fx5S0njLLHJm+/uUJ8JI5X777VeHG4i9Lemuu+6q/v7v/76ORyvflXf3UKjuR3CMtFg1Bh6h9UhPSER3QoYZefcZHHihEe5CoHVAccC8vTwnEg/0eCorw/fYY8vjtaIuC/k8MAYipJz88Ui83erOC2TVtzoi+jw94vzGyxjxRPE+aSeJ18lgq87aZjySx8D0wWNf4TFkq6P6imM0uRmP+pIrvtKkrDvB2MRvvLxpdFsMvXb10lfKCn04j5dOaVuP1fWrkoQtOQWse5JbfhvEO4zJ07aw9jRI26ov8gbj8WhbNoYewZdntSRtS6dgPh6JvfCkTH31X/aitO1Qe8FOCvfydKx4e9k1A7Jkcs9uCnOAGfu7ePHieo2EPPVNCX7igrt1ync77dTpP3PnzhsXjMmeDHtRxg/6xF5oX/ZY7LP2HS97YdJiwuJpZWkjGHDWkD1eOsVeCIMpYwH7wE6wUfSCngw6rV79ZD3urVy5qh57yKNzXsbx8Uow1p5w1neLvTAWsBd0fjzshX5Hn7RtdzLZ1LbjZZO7Zc3mz1OeCGscpIyCDlVAhJWhHpoMNBayua8khpqC83BQZp3JYNGdDFwGTbIYFcbNHsXnnntufRmDYJBxfyG/Bp6Yy3VnM5DPOsay8MzwbjP2BnSDNqNjEkAuA8jrrbMMyhipu1CUe+65pzbyyqETMrxCSXxmEI4++ui6gw6kspEJ7Hnh77vvvvqztjWgqHdpMxOXk046aa3naayy1YkOiPtmgBADOkYucqqN6Ynt+RAApG0QyUBK7k033VQTQ3VEWMimpzfeeGNNwj3FQD4GZQTpjHp5omEAL3pOvpd6I6V0yiA3qKRON998c92+vIz6j/4FB32KXvMq6mue/gwqGbg9zRGqpAzaE5b+95ks7aq+vexIm3LA0USO/UEepJK3QVUbs0+eRsG6/NZGVvc9sGQvrrrqqnXshf6r3WGs35rEk1vsBfz1d+VwDWeAtnfNnnvuWd+DQNN9mOmX3r2kYi+0LzulXeVNbre9OOqoowaqU2w5W8FJ4fNQe6Gd7SJkzYa6DR07urHr9zN7gSDRqWIv3Au3pUuX1piwF/TJoulB2QtYmmQI+SNXew61F8Yq9kI/GqS9YKPYZfZ5qL3Q1sVemAAMIiGDxjd9lD1mK9THmQFwoJ/FHpM/yARbY4H+izvQ8aH2gh7DeFCyC6e45ZZb6jamY9pWYi+MBbCly8Z7eGQaPALTgghTjl5Jx0SSSqI4vrOX8JVXXlldeOGFtSIzhD4jAAcddFA9iz311FOrv/qrv6rjhk+OeF8G7rvf/W49eJHHmOkUjJ5By6yMIfrWt75Ve6flIzFKwxSvFKvxu07IwCPBOuO+++5bGwADDIOOTDD+XgY+sUQM/lg6iTrD0gEmZPMCGQh5YUun9ztDZYC3iPDEE0+sSXjjCg65QZ5DWh+FAABAAElEQVTqirgYVAzWPADqaoAvdS0kWey3wbkMxkOy6+tfhOWBBx6o2xSePBt77713TXzl63eTomVBLnjNlIFOjNVzqW0ZdQYOcaBX8mTgySWTLFgUUkPX4DKWxOA6LIZcuCLYxaun7ZULOVdfZTDYGMzHmtTx8ssvrwdwxMAgor7qo0zqipQjTd5NdAzqY2lbZUZMkDO6RYf1IfLVnY1QR08BDEDKcOyxx9Z4+L1toqv6DjsDTwNYaVt5shU84uTChF3RtvraWJJ+SS59gZu6lidb2hahIJOHuEz22QuDvD4uJpEu0An66F6TIr+zKfIc2h7y1X7FXsBW/1Ff9qLYEzLZi0suuWRg9kJ++iSPnXKrA31Sxm57oR308fe///31dUPr0ARz9gA5oy+97IW2hbH+c+2119Y4I6bKN5bUsRdLYuH3jbVcOsUhUCYy3faiOE2smxmrvSCXjsKPLBirC52QTCyLd1oZhBiOxV7QF0T0sssuqwkvPTQG0CV9ko4XW1Hs8THHHLN2bBoLxmSbDLKP6sIW60NlsqHt9Rs2RfmUQ9uO1TOtX5pk4BXqZ4LcbS/IJEsfsl6p2ORBTZ7HgtlMu3f9/xhpKldK56ZwBgxKUhIF4d3S4cXr8tSaSX7oQx9a63lAYt1v8EcsdCre0+OPP75Wdp2dgWa4GDjGzDVmfcIxfF4Whs018qG0jP2HP/zhMLidXSXI1ml5JJSBcSBDR2qTdIiHHnowDP21tWFHvjyWofwGJS+DDix0VEQDgWGsXNd2IDeAqCNPMM8Rw4ccksv4GRjJ40XzHbkGdaSlEIw29TV5YXALbogSg0te8fIYmNVXORhLngFyi5FsI5eHheFjbEp9ySmDvzrRO0YRcYKxgdQ15LZJ8qFPvCyMK+IB55KntoWx+pPPKJOrTdW3DH5NZRu0TOrIRbrKxI4sMkvbqqv+pG9pD/U0GLVNiBIDbgDRR/Qd7+pGLlnqTq666aOIK8+HdmirywYOdUVM5AVj+tOtU/SYXNgUjP3vmjapkFyDGruCFCxYsKDuL0Wn1JcM7UvveZ7oOIy9t0nsBYLGA61O7BY7UDAm22dytTcSh0jCG6miD8paPMX6PL2Hgzai873aodgLExgDOF0u9qJbp5RJGcjUtsIlNtusMyFpU199AuEv9gIpLP2n217A2P9sFHtB79r2W+VU/m57ob6lburLJhZ7oW+7Hm6lbG3qqtzLli0NXb65vh3BhTU52o/cYi+8l7GAXPVtS/zpL3uhvvoNe+EpQbEXcPSZTqn3WO2FvmNSw1mlPxo72WS6SXe0Y7EV8IQvmwIf/buXfjbBm03Wb8nWZ7vbVl3VUVlgQaZxXv/Q/tqgTZKPySuctROZZHfrlHamx90Yk8tetG3bNmWdDfdMaSJMwRl1HZEB0ClKoqDlUR+SQFEZc4aRsui4lMv/vufx4SnmPS3kzWMdj0a9m9G+973vrUmw74riu98LQUOQEV95b7hhx5vie4qqrIyDQZdcStwm8YrdcceddadUbx2hdHQzV0knYAgZB78xImaXjJ+yNE0IGsNdJh0GRoMnGUNTMfp+M5Azvurc69qh9/b6nwHi6TV5WBCGoGBZ6uoeeZPLSKi7wY0R9n8bAgErchEmekU23YJlt1z/wxgWZXauXRnENobIgGGigfDBjGz1Ku2rrqVtyaTHBn7lNQCob9Nk0CBP29JPRKkMpPIq9VUGWMJf31JWL7rcBmODG0NvMKWX6qtPdesJmf6HvTK5xwCnnm3JIYLGE2yw0s+1bekTpa7qDWf1gquBH7FSPv93l9G1/STtVLza7AWSKf/utpWPvLt1yn3F1vQjp/sa9VFu20SqNzunXxSZpb5Fp4q9YGPoFDsGd3oBI7ro2nJ/t6zuz0PtRQkb6oVb0SltrKzKpE3IaZrcy7lBr9j+BWEv1EkqdfVZOdQFruTQBZ/b2guTltHsBflwK21b+k9p29EwVe6hCV7k0hE6pb3Uh6xSX/+rb+m37LHyqmtbe0EuTz/doFMj2Qv1Jd9k0sRXmzS1F0ghZ5U82KfO+NohmKWe8COHbWIb6TunCNtCf9voE7xNDE0iYYwH6LdkdCeyu9vWuGGSbWyGTRvZ8mAvtBXbqM5D7YV8fad++o8xCMZsFLmZBofAlCbCqmlA9CpEpVTd/xTRqxiCQixcwzDoJGaMFJzh9H8hMZSMofC7lw7sdwqpo1F8HUL+JQ/5uN9vDK3rGYLSEcgsncM1TRMlXxazU4/ODRbqwxAgCMUglDz9TwYckB2dRHl15KYJEUBYECaPTBlvefeSKe9ikJQXGWakC2ZNZJuBI2gSY6DDD1dXZSntzJvr/4J/E5muRfoRUm2n7AjnULny94KD3yX4wJs+DjWW9QUj/NFGCLynGAzZgrcHDHKHJnLplPLB2ESHXDrcVK9gjDggmEitiWWpKzkllfoyvGS5jwePPqtv02Sg4rlj6Hl4yqDcLVOe/lcn/YkOGZC86D/cm9YXVsiSOuivo+kUjMmhx8qgrr5rmrStfksvRmtbeZOBACgvzMtA2EQub7B2pVOFKMGztG93XgVn5aOLiFpbe0Eue2EwZy+0rXbq1bbKoN9q2+JNg4/6N21buuSxuMReIAPD1VVZir3Q311H99noponHnb1QB3KVHYa96qtOxV5o26JTTe2FyYZ2JduEDmbyHq6+3faCnSJXH2qKcbe94ORhY9WzvAp25f9iL4wh5JqINbEXcDQxMw4Ydzw1kudw9VQfdfPSZ9Xb+Kyt2ySTJG3LzsFLO5HdnUpdydb2/jdZoA/4AFvTJGlb7WocgxW7rvxD5cqTLHUky31sozJql6Zt26SMs+3a5tPyCUaIglCEoY3uf9+XDuD/8rkU0XeUxqvk4b07+Z9x1PlKnt5L8lmn0wFc053IG3ptkdN9Xb+fGXrkg3FgtOXdq3OU/HQSRlcnVhYzap2lSZIHsqVTMmLyknzfK/neq3RG95KrzE2TwVjHZkyKgRlOrrxhwSAop0HGbL6tXESN4YXfSBj7zQsuSBWjrdxNk4FCmZEBAxv8RpNL3xhKZTTIyKNpQlroFHzVYSSZ8oY/uTCmy/SiaSJD2xgsGOzhiFLJt+iUtjWRgxOMm+qy/AyO6qyu8it5F1lD3+mPiYlreXl4SpsmuqS82lZd+2lbMshlW8jV95smpIU+6vv92gtlg402LgSxiVx40sNiL+gnO+X7XqngjywoI4+le9v0W5N999NNNrvk3Uuu7+hhsRfFCz6a/vfKC+F3H9z0xZHK7jp4wAXWbdsWxu6VhJz0o1PatDgx9CG2uWnSd9ga9oJdVtfh2lbeflM2Ns21+l+TpO/QB/YCvnR5NHnyZ4v1NfLUc6R7RiqPumozedHRkfTDb+SoK3zoBX1smspYIC917keua1wr0WXtlGlwCKzLCgeXb+bUAgFGQadmWCj+SAa3ZM/oupYB0Snl0STpjO7RsbonBCPl4R4vxoDsMlCMdE+v35AHdWSEEIJ+knoy0IwJ8tAPRt35MmbIN5Kn/CMN4uU+96indiEXAWmatGshWfLpN2kT5dQ+beTCp+iUvEYy9MqkXWGDQMC6jUx5aBtytZV8+k3KSB/bTnK0LfkIi3qMVl+/u453Udt6ub9JQoD1PbqEiMhvtESGwVx9tW0bIqyscKJPXv30hWIv9Ddym0424OU+9VX2fttWfekxue4drV164adt29oLZdb/+sGoW3apr/6vvv3YCzKKvShyu/Ps5zOd0n+QW23bj04qmzLqu+TSj6ZJ39M+ZXI4WjspV5GrrE3tBay0qzwK0eunrmTp4yYLZPZzTy8sTK5KW/l9tHyUt/Q3+gTnpkm7KDM7QfZoMku5XOse97eR27Scs+n60S32bEJjitS1n4F0aFF1Jkarn0419N7RjN3Q64ssxkvnZBzayC0GTH3l1W9i6A3gXk3lup4RKUaoidx+y9frOhgXnJWh33KX67yX+3vl3893/ZIWmLTRwVIGZaUT3anUo/u7oZ+7r2mrU0Pz7Od/9UXS6BMC0l2Ofu7XLu6Dr0Gy30SuF/KB9DRNpZz6oNRUP9zf9J5Sxib3lXK6dyx6xV6QiwD1q8tkulb7tLEX5HWXX3uNlso9SH/RqdHuGfo7md1yh/4+3P9kFuI8tA8Od0/390UuzJpg3A8u3XJ6fS4TjV6/DfcdrAvew10z3PfqilTCzGui0tDyNm3nUueJKu9skJNEeAq1skHCC1FjQPs1RAyezmGAMFNumsgxmBqMm3RKgwvZHgP2W9bushWPLGPUxGgX0lFmyN15jvYZvoyeeiIg/dSXkdcerlfPNhi7x0s95dNPIrcYPWUuhKefe8s1pb7KLy//j5TKgFZ0qgmxK/nKw33KXAheybdcM9x70UF17fee7ry621Z9+8nDdUWn3D8aRt3yfNauyisfOPeTlEtd6UK5v5/7uq/R33my5eHVT13dr2292vQfMmCkfUtbdZep12f3eMGYbWvbtuqrbdS1n35bysLbXsrdtG3dp7zkadt+5Lqn2AvytG/T5L42NrW7bZW7aVJWOMOsib1QX7Kb2gv1LPfQD//Db7SkHVyvrO7v555eecJIuZu0rXxcr33atBGZcJaHVz9lLzql3u7XBzMNDoGRR8XByRn3nCiIeB9xb5RrOibEUJiAjumRz2gdxO+uZbR4S8yom3YQhocxEXcnVKGfRy7kwtv1BiWPtOTTNO28c2dLIzLVY7REBuMsFMNjZSSg6SCj7B7Xy8dj5X4IBGPnWi8Yk900uc9jc3I9CpRGat+CMZkmCvRCHk0To+kxJ/2Q12iGm9xubExymibtpK7KXOKiR8ujyNWHDWzaqKkuk1HKq/+UgXUk2cpK/1zvSUMbjJUXxvqEfLyP1LalPMrHVsFq222bn5qo3yoz/aBTo/UFZSr2Qp3bYAwv9WWrmtgLOuUxtDJqI/k0TSW2ntwywRopDzJcV/oPrEbT/6H5uR5O2lTIQFN7QSY71TTB171wa2KTjQXqS6Y8mib1dR+9JNf/I+ly+Y19cY82apLog3vIsZZBfftJ6kifYKS8bfRJ2emifliIf6nPcGVQXriQr9+2sRfKawyhS2yyNJJcv9E/1+q/7Gqbth2uTvl9PKmaKSBQqh//+Mf1gRcM1nRMOpUFJQY4BIJh0Ql6dRLfMR46pGsRHiuae107GhYIB7nyMpGQRjMsBhgDEhLs3tGu71WG7babWxtBBpBR08mHK7/81RfRUEYrbRmi4a7vJa98ZzcOWMuLAR/J2MufcVZX7cFwIj1NE/IAJ0ZMXWHNqPYqv+/Ul04XIlkWzLSRWwYnK5WLTvXKp5RF/7EIBUYWuzVN8nGvhW+ILZyl4XTE9+5h6C0EsdsDjLVL00QmEiAvg9tIpJRMMrSta9W1Tdsqv10f9FuTNDo1UtuSa/C1yNS7tt1ii3ZkSdsWezFS/yFTOYu98D+53psmumyLRYRAHaTh2lb+2sC12pa9gFWbtkVIvdgLbTZSfZWHDLZCGcdiL+gUwkWPxYXKdzjcfF9Iv3d9XpmbJkQHVvKzswGd8rmXXN+p71B70WYiqZ52IGHfLXZlL4ZLpSzshTLq82xrk6SfsKkcMXbJ0G9H6rPqCVdlU1/brcmjbSq709AnbTscxvL3G51btmxZ3W+1bZtJjv6qD8DLWADr4XSKTL+5hv6pK70w3mcaHAIzhgjrsA7GsKcmoztc0sl0JArtvSTf90q+7/7NZ/d2f+e+8r93+Zb/e+U53HcUvgwUxYCXjlA6aHkvho9B0JkYa0S4TdIxGRQG2xZQ3cSlyPMuedcpESXGw32MZ/m9iXyd2oEhOrVtoHi1ygDWLbd8ZnC1r/+RJYakTWJ4kR6GD87ICLlSkeVd0ibIjfoyeoVE1z82/EMuA6ie9sCkR/KXuuUqC/0pbausC2NwapO0LRLgZbBSD6lbXqmrd0TJNQYk2621IcLyVwcHANANddV28vd9t2z/e+mzTrHSFkgWstUmmWgsWLCgzqfUo7t+Rba8YU8H6B4dLISnjVxta2DUJxy8A8debes79VU2hK7023JtE9n6DzIrDyvvEb5edfUdmWxkIZFFbhN55Vpt04+9IFO9tKn6IsLuQ/JKOUue/byTa89i9dZm7FSRUdq1+50O0yk6SJfbPMlRrtK2dAXO7B+5Ure88j974brSb/XBNomtUG71tD0fWfDsllk+w5gto3/k2vqsTVJW25Gxc7YhZDMkcsp79+due2H8oY9Nkry0D71AbO0pzxaUflLq5x3m7KI6sinaxdaM9KFt0meV2xjKUUBnuutX5MtfmfQxuqye2qdN28pTGym/PiE/9ZK/VGR6951xgj5xipDLlmcaLAJTfh/hfqvLyNuLkJF63/ve13OmRtmKR4RSIawUWQfTASSKRwElebqeIups/jegMziuMeMu17pOfuTzLrmnzWDuHgbbgGX/V/mZLRuola2UTzn8ziDoHI6bRALapFKXefPm1qfzkQ0TBkp5ilz4MRg2AoeBQclBJWMxRMoMe8ZAndSTXNiSqxxwZwjsXWowOuWUU2rj5do2SZ4wZXCXxeweMaUHXgVn12hDemJA0Lbqymj6rU2CJRJAP3g/1Ev9S11L2/oeHiYldMFxnohL2yR/3nN19ZJnqau2I1fbagflMugytk5gdF2bRKcK8VAPeau7/MgjF47kand7eSL+Dq1xkIwyt028pNpUXfVL+kRuwZlcgy5vNZ3yWV1NrtrKdZ/66q8wLDrlu4KxeiMsfveChwN+EI9iR5rWudgLdUHA5W9C291v5Q1jpBAm228/L+p7XOjE2OyFSTtboN1g2steGOhdo//aI9ahRmOxF9q2EFIY668mxN1tW+yFwyj0NW27ICZHY7EX+ikMtZs84Vv6kHb1IpdNpsv6m0m+ftvWXsgfpupL7nD2gk1GIF3jiQZ7gaS1TbBUfmMLfVEGuqrORZe77YXr2AvHo7fBGHbKS1fYHt7vIrPIg6G+TBY9J588hLJt34GPfPVRbWvc03/gPpy9cFgPfMgeS9sWPMskx/gCc3mXOiufNi97hRvnORfKEz6/ZxoMAnNCoXq7QgeT/4TlopP8/u//fu29+5M/+ZOehsBxht/85jdrYoPkUL6zzjqr+tznPlf95V/+ZU3yPv3pT9cGW8EdreyEHafOHXHEEdX5559ffe9736s7oc535plnVp/85CdrQvVP//RPtRHQkc1Y/+W//JfVGWec0ar+ymVgczytGbkOYvZYDKpOaxDQdGb+ymdmOxaDoKDk6nRXXnllXQfGoAyqfocxo+s6JNgpewzWWJPObrB0LC5jiKSWx4lICjwNBgwWMjoWj2EpK+zgaLBEdOmDwa770TgSjMDBFkErG66XPNq8kytfpxmpM6NnkC6JYVQuBpm8I488sv69tH25ruk7jHmqHEhARxliGDO8Eny1rf/hazCFxVh1Cq6OL9e2hQzLt3jzDXq8LAbZww47rJ7QGRjHmtRHf7/zzs4pjWSWx5j0t7Stcpx66qm1x10ZxpK0LV0tcrUhnSq6LG8THBMw/ZZN4Xlr27b6hhe8yHVUeS97AXd6pXw8jOzFWAmEuhR74eAU/XaovVBP5Sr2AnlwzViTyQbih5Rox+HsBdvEXvAaDqJtYWjipH172QsYsMvsBcJvglP6V9s6F3vhSdhdd93V016QSdfUk70gv61OlXKqH2JozEP89RMTn1If/QsedI+9QPrHai/oy8UXX1w7AMjpNfaoJ0LIHutDY62n+sKY7YMxks3m6bfGXanbXiD82hZxL1jUFzX4o8+qB+zoDLkmqfpGt7dX3zEWsN36rTqzF2O1yQ2KOmsunTVE2GD73e9+tzZkv/Zrv1YbC0btq1/9avXXf/3XtYfzy1/+cvXbv/3bNcFjCL7+9a/XnfLjH/94TUy/8Y1vVOeee249gDHEX/nKV6rPfvaz8Vhn3+pLX/qrmkQiEAjiWGduOh8DZAZMFqPjO4mBZ3QQKGSJkRoEeZC3TqfzMQiIE7k6rWQwYWQZIB3W/4PqlIwDeepqMDfYSYwUg8MQMLiFvA1CLjzJ4a1iiBhDmJfEGC6MkAT1ZRRhPCi5BhJe9eJ1KTKViZFVXx4HcpHlQSQ6bbDhoeU9Ymi1t4QYI0c83owtz84gBhl50x+y1JVs+lXyprv0GGkgf6yEhTyJ3pBrMCdTGyPdEtnaFoE66KCD6ncYD6ptTRh5SemyOnf3TZM5k0g4K0P3b3XhhvxRD/m98MLz0T9W18QPlvL3PfJz2mmn1e1Fp5aFB6/ocrEXMFZXHm/2gv0YTe6QYgz7b7EX6grrbntBh7QpTzCdGrS9WLVqZXhgH1g7uVBIeGlLfXY87AXM6RKdUleTjJK0J10m2+dB9VvtyC6ZwJrY6T8lFXtBn9jkYqfK72N5Zy/IYo85SJC2Yi+QNm3LTg3KXmg79mnFisei79xf65NxQVJPfYcukWn8GxS+JX9tq7+WsBv9SWIvyDMWkN9P/1FeY4s8YEhX9Fu6Y5zTF03S2Hg65HvtC+uS4K+/qq8xQf0H1W+LjHzvIDCYEXYaoKnjHnfcsdXRRx9dG8ji2TQ4epnRMl4ebYlXMsvW8Rk2Bl3YhZkoomvA3GefxfUjiuuuuy4MUOcoZOT3ox/9aN1ZyBtL0vl4sAyaSAIDYWAnG2lRJgOL90EM4KWsjItOr56MEONArvKQp15ebWfDRc7Qd/kxrGQjJ2QyJt1y1dv/g0rykiejhOCTqb7kFnzVVb0HLZdRY1gNInSPbAMBHLoxHqRcRpQRRxDUmd5rY/qjjgiT90G3LSz1Hf2LPtNlRl55/Fb0eZADW6mTgYYni0wDk4GcHHUt74PEWF7yNoB5hMlDVyZ16ltwVu/R5NIHHjlPDtgj7UVPyquQkKKf7IW2JbvUVR70qeiz9/GwF2zfxNuLnddOZmAy1F6o9yCJQ2lbYwJiQmaxF939trTHIO2Uti0TCm2r/0yEvWCP6XMve6HfwnhQ9oJeynP+/D3qvvPKK50xTz311WIXB42vdiptW5w8pW3J1me6ZY/Wf5BfTjZP35Bc/ZaelP5hPDdpYR/oJ7tYbEYZb5WpWy6MR5PrnkztEJg1RJiiUbprr72u+tnPflYbkjKzNshQdPF6PKEeWZqZGTwZHwaW9+7JJ1dXX/va1+pZnrw8lkMsdFjXUG4Gw3eDSBRfp/fSIcmQdNrx7BTFKJDFAJNNXnn5fjwSTGGnrcgsSXnGMzEyXhOJMSwZOi+kuLTteGMMx6JTpW19N946pW0Ncl5wLu073m1rAC2Et8iF8XjKlX/RKRiXti04e+8nyQdx5+EtZFodkCATKB4lE4tSF9eXti11Jcf3XuOVyNdnpaJTReZ4yu20rdP5Okdpl/oVPMr/g3xXn9JvYVzalszxrKu8J6Ntu+WWtoXneNa39B07qUwUvuo0qLZVfuOYxXe4BdunHvoyDPELzjbtOVSusYBele/HU6dqIfmnRmDWEGGPPC655NI6HvG9731v7SUycxNnRkEp34knvrd+nMkr7DGF2TCF5Rlm6Bcu3LM6++yz69kd5eZVpriFyFBsRnI8kg5B5kSn8RxUhquLuk6GAZgsjOEwGThPhkx1nYz2nQyZ6io1xZktMgkXi+oxLeIrqYMBVZiDeEED6nCTbteyYcgij7iJ/kSkpnUdRJkmq23JnQybPFn1nei2nSx86WRb2fotrmHtCe+ufCTY6Yv6bXn6XP/Q4w8PMsfbwnhiiFRnGn8EZhwRRmrFU5mJlUQJDSji2DyWOPnkk2via1FYecTk2sWLPVbcvV7I5NGI6zwCM/iIwRIXxuPLG0PhxRd7DCl/Cm8AK7O5IjvfE4FEIBHoBwF2xqNUdkoMNyJsbQNbxMawVYjX/vvvX5Pg7kV4vfK3IJNdsrhHiEimRCARGB8EkFcTTwsa7Rris6c4yK+k73p6IzQTp9CfeyXXLYs4fwv1P/WpT9VrYgqZ7nV9fjcYBGYUEeYd4aW1KK77EQPPLmXybrZ23nnn1YrJ8ytZ1S6WT6zOwQcfEsr8zTqmUbwQD6/4Ub97RPl3f/d3dbiEsIobb7yx/uwaM7fJ8A4MRg0yl0QgEZgsBBBgi2mQX5NtC6LsLuGJFTsmZEvyqNUgyhYJwxppgLQwx6DMMWAAFn8/3OA7WfVOuYnAdEeA000YpZBKL31YX9ZvDzjggJo7iBXGPU488cTaoTbSU2NxxLzJnlRbdC+fEkIx3bGayuWfMUTYzMsAgYyaVXWv5vWbEAfB6bZDo6y8KRZldW/RoqF4jMXxWIjC+ysJi7AYhJeZkhqsDEIf/OAH6zg9n830XJ+PMmrI8k8ikAiMgoCnR8KuDKQm2TzAVo8XAszm2BWCB5h36Yorrqgn3v1sB8YrZQtGj2eRao9Z2bVMiUAiMHYEyk4PJqcmnPov55g+ZuJq8okI4xy8xTvvvFPwjQNrYjucdLyl7G3uHtt6ehKdRHg4xAb3/YwiwkIZENKh4Qk8Icgskmw3BEpsmxmxc8itMAcxdLwoFJviGTjM4kpCmMUHe8xYZnw8xfLk0bEfMcKdRLgglu+JQCLQCwH2yaAp7AH5NeAhq0grD5ADRSzSFUtoQs6uCI9go+wn3m2XeuXvWk+5EGoDqidfdpNIItwLrfwuEegfAdxBv8UT7AzBKaaf4QyeICO/JrAIbFlAijdsueUWdb8d6SkOHoJUmwzr83aLsZ5pkFvi9V/T2XXljCHCFExoxHCLR0qzmqF5lWThiYTc2hj+0ksvreN+KfXQUAfKOfR+9yLaOchAIlMikAgMhwACbCC13y5y6pART6cMgOwHTy/CahGcgbTb/nic6vfREhk8zAboElss5tDiG+sZcqI+GoL5eyKwLgL6lAml/X/1Wwdg6Le+Q4AXxHZ6Jq4msJ7emMx2J5PZ0VKZHLMJwpnkq88KtyhbT46WR/7eHoEZQ4TbQ9C506NHSm4h3Ac+8IF6IBprnnl/IpAIJAIGOV4jYRA8PmIGrVVgcwyaBlGeJKFdBtVuAtwUPY9X7W1urYQJurw8bvXolhyxwpkSgURgdAQ86TVJ1ZdwAyc3IsCe3Hg6Y2KpT5m4msAWD/DoOb/7CragTGBLLD9CLFYYueYVHsmb/O4c85smCCQRfhstYQ6/93u/l8rWRHvy2kQgERgWgTKQWlDD03PZZZfVIRAWxBg0hV85Vlo4l8VvYyHAClEId1kkVwqGHHuUayU7O5cDakEm3xOBdyOg33qa4imxHVxMXIUwIcU8tfqQiavFbJ4c2xt9rEmolFALXuaymA4hRo6FYtj1ZaK2QBxrXabj/UmEu1otB4guMPJjIpAItEIAIeXNsf6Ad/biiy+uH3MipAY5niRrDewpykMr5GoQyQDukB+DtTUNBlcy7TQh9MLgrlwZHjEItDOPmYaAfqu/8ACbTAqVFKeLAOuj+pSJqyPNPbkphHUQOJDrJSRKjLC+bC2Al7VLJtNJhAeBdO885kTjv3OEV+9r8ttEIBFIBBKBPhEQiuBIdh5g3hweYAMpr44FcKecckr9eVAEuLtYzLlBlAf6H/7hH2oP0yc+8YmaePNCm+znhL8bsfycCHQQQIAtMrU7i1AIBFhfsY5I2NL73nd67Co1v+7Lg+5DhYQLn/rCF75QLYu4/nPOOaf60Ic+tHaR3aBlZru/g8BgXBHv5JefEoFEIBGYlQjw5Nie0UEWCLCBlPdVCAQCfHLsasOrxLNT4gAHDZTBUohFd/6+83/3d4OWm/klAtMVAR5XZwIIgXDwlnh+ydMa8b+e3tgalQd4rOFLw2FU+uhQslu+H+6+/H4wCCQRHgyOmUsikAjMUgR4b6699tp6GzQE2GNM3l7xg7ZSEkvosB472ozXQDpLoc9qJwKtEeB9FbqEBIuft6OL5MmNEIjDDz+8PlfAk5QMJ2oN87S4MYnwtGimLGQikAhMNQQsQBNDaJELMmwg5XUVA+xRqsG07Pub3tip1npZntmIgLAhBNjEVb+1GE0sv2TBqomrg7bKwVqDjAOejXhPlzonEZ4uLZXlTAQSgSmBgJXkYgidMmmvz7JVmRAIB/ZYUc6rJLYwPcBTosmyELMcAYtExe6Lndd/TWKFRAg9sAsE8osEm8RaoJYEeHYpTBLh2dXeWdtEIBFogYCBVNiDbZTs7YkA8ywJgbDS22b6DrzgSRIHnAS4Bch5SyIwYAT025UrV9ZhS/bSRoJNXC1Os5sKArzffvvVMcBOmrXjSqbZh0AS4dnX5lnjRCAR6BMBG90jwE54EgbBk8SzxGMkBhj59eINTg9wn6DmZYnAOCNgp5ZykIzJq/7LA4wYe1pz4IEH1odgmMQ6uS1jgMe5QaZ49kmEp3gDZfESgURg4hFwehRPEi/SPffcU4dCOBqZx8hpUosXL65PfDKQepQ6HluhTXytU2IiML0RsFc2AuyIceSXB9jTG4kHWN91UpuT4BDgfHIzvdt7UKVPIjwoJDOfRCARmPYIONnpiSeeqI9Stak+L7BDKpwexQPs5XEqIuzY01wEN+2bPCswAxAoBNiiVX3W5NWTHP0TAS7hS0jwDjvsMANqnFUYJAJJhAeJZuaVCCQC0xIBBBjhtY+o1eQGUkesCoEQ9rBo0aJ6FwjxhLZBG7rf57SsdBY6EZjmCJRFcA8//HB155131jH8ntzw9FoEhwCbuFrAygOcKRHohUAS4V6o5HeJQCIwKxBw6IXYwYceeqi64YYb6septlMS6mAgFf9rU32PVO0FnCkRSAQmFwEL3cQAm6jy+uq3FrCayIr1tVjVkxv9FgG2CC5TIjASAkmER0Inf0sEEoEZh4CB1KNUJ0iJJbz88strAvz888/XniSPTosH2HZoW2655YzDICuUCEw3BPRbHmD9VNyvk+AciFGe3JiomrjyAHuZyGZKBPpBIIlwPyjlNYlAIjDtESgDqTAIuz9cddVV9V7A5SAMMb8W0Zx44on1dmhCIDIlAonA5COAAFvA6gAME1deYARYDLCJqu0LHWPuEBu7t2RKBJogkES4CVp5bSKQCExLBJBgHmAHYVx22WX1o1SEWKwvwms7pVNPPbX2KCUBnpZNnIWegQiUpzcmrldccUUdA1wWwW2yySb1vt1nnHFGdcwxx1SOQs6UCLRBIIlwG9TynkQgEZg2CLz44guxkvye6sorr6wX1PAAO2rVwMmDhAALhfB/7gIxbZo1CzrDERC+ZOcWIRAWr9oWjWfYRHXBggXV+9///uqoo46q44Kz385wZRjn6iURHmeAM/tEIBGYHATEElpJbiDlCbYIzkAqBELs74knvjcG1IX1wGpxXO4EMTntlFITgW4EEOBbbrmlPg5Zv0WALY6zhaHFbyeddFL9BMfENU+C60YuP7dFIIlwW+TyvkQgEZiSCIgdtAXaTTfdVC+Gc6QqAmw1uRCII488st5WCSG2yjwJ8JRsxizULEPAKY5CIK655pq1HmCkmAfY4jfhD2L49dsMg5hlyjHO1U0iPM4AZ/aJQCIwMQjw+PIkedlY33ZKCLD9Q3mSDj744LVHIYsvzJQIJAKTi4AYYATYCY7XXnttPXF1oqOFcVtssUX95MYiOKFL8+bNq0nx5JY4pc9EBJIIz8RWzTolArMEAQMpAmwfUYOpI1VtqP/mm2/Wq8edJCUMwqEYBtIkwLNEMbKaUxqBsnhVn7311ltrT/Dy5csr+3rbBYL319MbB2LYBo0HOJ/cTOkmndaFSyI8rZsvC58IzE4EEF0hEA7CEAZhUU1ZTCMEwn6iSDBP0k477VTHF85OpLLWicDUQkDsPgLsKGTvToXjAbYPMO+v0xsdiOFoZHHBSYCnVvvNxNIkEZ6JrZp1SgRmKAJCHQoBLgOpMAjfO0EKARZH6CS4XXbZJT3AM1QPslrTDwGx+o4w99Tm3nvvrcOXhEUgwJ7a6LNI8K677lovgksCPP3aeLqWOInwdG25LHciMIsQQHQNpLxHBlIkGAG2mEYM8OLFi2sCbCBFgDfaaKNZhE5WNRGYugg4wvyRRx6pd26xi4s+rN9a9Ib8CoGwGK702yTAU7ctZ2rJkgjP1JbNeiUCMwCBQoCdKMWLVAbS4gHeY4896oVwPEoepa6//vozoNZZhURg+iOAADv8wh7A4oCRYf1WDHDx/prAeopj95ZMicBkIZBEeLKQT7mJQCIwLAIlBvixxx6r438NpMiwgzAcoTp//vzak+RADJ6kTIlAIjD5CFgEJ3SpLGC9/vrr635rH2AeYLG/iK8jkZHhJMCT32ZZgqpKIpxakAgkAlMGAQTYyW9PPPFEvRPEDTfcUCHDkoEUAUZ+vSyCy5QIJAKTj4B+6whzBBj59eTGYRhlH+Ddd9+9Jr/28LaDS4YuTX6bZQneQSCJ8DtY5KdEIBGYJAQMpC+//HL11FNP1RvqOw3ONmiSrZMMnrZUQoDFBGdKBBKByUfAExpk144tJq2e3AiF4Bm2VWGZuB577LEVMpwe4MlvsyzBuxFIIvxuTPKbRCARmCAEykDKA3z55ZdXV1xxRSW20IIZx6d6fIr8HnHEERkCMUFtkmISgdEQQHRNXvVV5Fff5QHWn8Xp2/v3+OOPj2PMT6w/O8I8UyIwVRFI7ZyqLZPlSgRmOAIGUmEPl112WX0anNXkBlheIyfBIb9HH310vS1ariSf4cqQ1ZtWCHhyIwTCxNVe3hbBrbfeenW40imnnFKTYE9ukgBPq2adtYVNIjxrmz4rnghMDgIGTYOn8AcHYaxYsaI+UUrcoJ0fTjvttDoMwupypDhJ8OS0U0pNBIYi4Pjj6667rn5ZvOogDB5goUs8wGKAd9hhh7rfIsaZEoHpgEAS4enQSlnGRGAGIGDluD2Ab7rppnortEKAeY2sJvcYVRgEAuxEqRxIZ0CjZxVmBAKe3Fx77bX1kxufLYxDgIUuHXXUUdXBBx9cE2D9NrcwnBFNPqsqkUR4VjV3VjYRmHgELKaxh+iNN95Y3XHHHfXeohbG8QA7BU74g+2UHI2MBGdKBBKByUdAmBKvrxAIB9j4bFcIT2n0W5NWx5jbvWWLLbZIAjz5TZYlaIlAEuGWwOVtiUAiMDICYoCFQPAAW0hjILU1mtXkBtBDDz20PhHOQOqY1UyJQCIw+Qh4cuNpjV0gPMERu48Am7guWLCg7rdOg3MUsolrxgFPfptlCcaGwJQnwmKQPCI1C+1+VGp1qg7r3eMYcYfOLbfVUq+YQrPbcr2BuFeSlzzIys7dC6H8LhEYGQH9jAfY8ce33XZb9cADD9SfEWD91ABaNtM3kNobuFd/HVlK/poIJAKDRsDYhwDb/sw+wEuWLKkPx7B7CwLs9EYnwdkGzdObHCMH3QKZ32QhMKWJsEH1pz/9aU1uDz/88GrevHlrcXryySfrDfcNumeeeWb14IMPVhdeeGH1G7/xG7V3aejgakZ7++2318H9FuP06sSMgDgoA7UO30281wrOD4lAIvAuBPRV4Q5CIDxG5QE2kL744ot1/z3ooIPqE6XKQJoE+F0Q5heJwKQgwNnkKGTeXyTYUxz7Ahv/EGDxv2L4Fy1aVG2zzTY9x85JKXgKTQQGhMCUJsLqeFlsraTz7bnnnusQYdu3XH311TWx/cAHPlC/e/TKM9wrGZARYfsennzyyT07M3J98cUX1/FOOn4S4V5I5neJwLoI6Fv6HvJrIPXuu80337xCgJHf/fbbrx5UfTd0krpubvlfIpAITAQChQB7aqPfmrgiwJ6IIsDigB2H7CV0KRfBTUSrpIzJQGDKE2GdVSA+j1N3En/oUQ7iq4OKM7R/ocevkjAHnRrxRWh5jt0jPKIkn5cvX17HLZLhGnm6rqTnn3++PuHq1VdfrQf2PfbYo5bn3meeeab+zmEABn552DrGYJ8pEZjpCAh38BTFAGoRHALMKyw8yUTSXsDigG2tJBwpCfDEagSbyZaxhZkSgYLAK6+8XK1cuSo8vw9GCMRdtSeYY0kIhPHNThBi+PVfBDj7bUFuYt67OcrESEwpU54IayJEt1dn9L3Oy+DbzkVQfzH8Hs8K9rfvoSB/5NTjH7NdCXG1iMeKWCTXo1okGhkuYRMGeSvd5YUgG+B5kw3uQi0uuOCC+rjXZREP+eyzz9Yy/GY1rfwyJQIzEQGTQ5M/nqRbbrmlfjdh1T88ueFB4k3ySFX/7NV3ZyIuU61O7N5wtnOqlTXLM/4IGOf0W6EPt912a4xr96yNARb3K/RBny0EePxLlBJ6IaDP6rucB/lUuhdCg/9uyhNhSsGz69ENb1NJOrMB2apVXuGlS5dW3/jGN6pzzz23vu5rX/ta/bvOLQn+d49YY9fzYP3FX/xFtdtuu9WDNu/WNddcUwmPMHAj1pdcckl15ZVX1t5mxJaMr371q9XnP//5Os9vfetb9fGRZtDCN+TpETFCbUuoTInATEJAH/EUxMTQBFJcvsEVAeb1RX7F1wuHYMgzTR4Cnk6ZlJvwe1pWJveTV6KUPBkIcBJx4ngyavxyGIZDbPRlk9Rddtml9gDTFeFLxrFMk4MA3qFNnKjJgcemph2dmLaY8kSYYiCxvLkl7AE0SDGyajPvkgzIrr8s4opt+v1bv/VbtQeXMokn/vrXv16TYIO5hXXSH/3RH61duf7FL36x+slPflJ7mO+9997a2+UR76c//en68aIwii984QvV+eefX33sYx+rCfMRRxxefeITv1oT4u9973u1bAuGBkmEhz7iNEucCE+PR6o87ORLZJI93h6+4tUnl6xS37oQ4/SHrO76FpnexzNNlbYt9R3atjBBdnl8PR0xMfTkxXf6FU+Sx6hlT9HRDHc3xqVtyR4qd5CYT2bbdte3YDwROsVu8c5LRe4gMe2VV3dd/Z72ohdKY/uuX3uhLTzd9ORSf70sxkTjqHHTU1EhfIiv8dMEdrQnmEPbtujUePXb7j4LMXKKPo0NwdHv7iXbRHK86tpdIk+uP/7xj9dfTVR9u+XP1s9TngjruBbbnH766bX3tjSUuEQL25Cmoenmm2+u9zi0PVMZmMU+2boJCZYnYm0W3L1/qZOtzJYZCrNn3l3Xf+UrX6ln1To/AoDoiuPRYXiYSx6IuA4z3IK9oeUc7X/5k8OrI/QC8VcGncXM3ft4dBaYqgMjyuuOBJHD+66u6un/QRsGMnkveCvUlyE3sSFz2223rWUO2rMFY3K1q7qqM8w33XSTau7ceXVd6RDcB1lfctUPtupKJ31nsqeu2lZdyR1kMqAVnaLb5KuXtqVTRYd951ptYScVfUrfgJM22XHHHWvv7wknnFB7lHw3UqJT5MK3YKx+PJfa1/0lbGmkfJr8Vtq2o1PP1zi//vobtSwYG/zJpMuDTN1yYUyv6Jg2te0UjItODVKu9iKHnSBXW0nkzTR7AWM6pQ/Bd6LtBZ3q1mX2Yrvt5tb9iE6NV7/VpkWnyOi2ycVewIYOeHKDANsNAj5+p3+eYJ4cIX4msHRypNTLXqy//nrRbztjAXulvoOyjd19R5m1rXYmh53QZ9Vj0H0WBkU2m6hti+zNNtu0btvx7Lf02BhArndtW2yjEIlBYjxSe8/W36Y8EdYwBl2xSyXMwXeUUiiCjjo06ZSU2quk8n95L9eU372X38p9BmcdsLx0vnPOOaeOgTTglOu68xjUZ/XSEe3FyjuNkHTX1VZyZvJec+fOHagh4k1Hekw2GIWSDN7Fk8CY6qiDSkhSWXRlkmKgKYnc8uid3EEZQe1nkkGuHUVWrVpVRNbvBhkDB69J96RqnYta/EMug8fDWnZY6M6GvgkxMHEbZNvSH49IhQCpazH0/z97dx5rX1UdDvwKiKJWcECcCl8FRRygTDIIggxfZLIWxQlL1FjTIU3slMY0Mb+kSWvSv0xqNTSxLeCEoCIIIogICgrIIFIUav1WRQUVUQZbQfzdz36uL+d7ucM555773j377Z3cd++795y99prXXnvtfcAm64IlmURw4Y4HSiA+8IEPpOExzgJIqx2HHXbYYMNwZznezGrwtZqiZt/kEq+jcWpw5JRNKrsMIAQDdEdZFadalWVwjB/MrnmLrviqhhre1SbwkKl1Jitd6kqWBQtwpLdwNobVthdKZTjxaGEv8JadItddNbKp1A2+9nKM2gu8BVMSpSsak2N2mL2QXbV8XW3sIXhqbNlnwUsXDR/xVj2+oJbNqjZ0BVNJEl0iC2RPqSBbTtYFkDLARx99dNK1SWfpV/sFV00xGzDJXvDJ4LIXXQTDdJS+CuKVKVZtBfrSHXzF3y7gBb5hk9GXTIEdDf3AxtODDjooxSPsVhcNXLAkGugPm1Vt4hwJu6jb7hLnKpz1/rkbbi6YioxrVSFmgWOMlC9wBtHsipXJZZwYDgaDwlUbBWDcBLl+56gEBW9605vSZYIXJRaEkZFflFCaHRrrpZdemgzvzjvvnGbxYdCNQ0BDeVy3//77pwCmikubz5RScMbwwQ0NvMJoMlIM4he/+MXkDARDaDRvw9/LhpkLDkZTtxb9ogXecXYMBUO4cePGNBGaFy7awXfTcLMjHMmNQE9Di5CZiy66KNHYJrBZGZRZY+Kk4CIY5aQY2GoZjWwPuAJz41MvBm7wflb/k36nP5yjkiCfBX8mF+GsGWATkKuuuiotpR566KGJD5xnnN998MEHD6ya4I/AuU7QSpeUUwjO4K4vMhV05NTRH1x7AZz8ghfz6hbnEk+0o6scZyz/GgdY4KKxSTYdit8n0bDO9/rEW/3jrUAh6Od+wRtauI5TFSQa3zyNjuiPDgnUlKuY0ITMsINkir2wTA5XE8ouGv0xwdHojn5H7YVxkb0jjjgi8X5euHAkU+wFOQIz5CnsBVlGa3jToRjTPLBN4uBrcoO3VXuhXzLHhxhXlBzEuNrCpT/shFUZ7/rTd+hH2IvYn2JiF7W+9BTvybcAGJ3IWsjFtDGBG/YCTdkLOhSyGvbCuMgUu0Du5mmC/QsuuCD5GDoj+GNnND4CL/kA8NBAgNhV49fYIDKDxmyuDLTGXuAtHeN32UH6Na9MobE+1W2bcIAnAVJtxkO/XMdP8H917G61j/J5NgV6EQhPQoMgxfKfazhV/3Pil19+eZoRCzrMqhhjAnXggQcmg80oC+j+7u/+bnDCCSekTNWnPvWpJJAEn/Fg1PSjT4ZAuQQD/Jd/+RfDQGklE/3QQw9nnY3BvcbVtrmXwfvSl76UjJ3MEYNmBio402x+YZwE7YyzwNVv8zg3wdENN9yQlJJDo3AUk9FkdL3AkJ0Hk6NBP0FpGIw2OMvk4A3nAS/GVkACLnheNjRG5hYPOHQ1qfjatglUOA+ORDCCxtUADL7PeMYzkuMGk8E3Fsa5bWZLhiWcGrhw2HHHHZNz0beGBmjiunC8ATecX1OcyQocbP4U+NIBPAuZCt6acHHynA05pyMmJGrtZcbxHs1DJmaNw7j1I7sjcCBT+gE3cHEN2pMnWVTt8OGyLRrHNbPgjP5uosipoZ8xwwvcwNP1YNIXjkZgKqOFt/MELnAgU4IPATC4ozKFnpwqmBwg/E2222aY6C08Y4I+zV5w9gL/sBcCubaNnZKh1JeVhGn2gkyxwyb2xx133Fw0phsRBOMtOrMXwVv0ZC8EamwKW6EJmubhbdgLwRi54Q8EaSGj3umuAI5MsaV0DY0jmGtKa/aCTJETARh7oX/9wVMLe4G+eGvy5zeB2ute97okiz7Tp5j0zhoHewEHpYfkUgA2yV6wU+h8xRWXp/LFpz1tp1ndP+J34zW5EQTzaehLd6p21jW+EywbG5po5D148IiOa36BxuwFGqKVBMEob8MXgM3vGY9xtg2G8ZZNFpOIL0xgJAhMNPStwQu/XUfHQ2+NcV6ca5Jm3Vy29f8btmXGlnILFsxyqwEXQyeYICiESKBk1igI9h1DRcCVFhAkxlrAw2BbytGnGSxjLvtGwcDwHYNDGVwTAaIlEwbixBNPTIEEQRYwyOq4TnDAWLkeDPe3aQwu5WBwLQEx6oQ+lCP6ZNQEF97B5XzDOMc1dd/hAt7FF1+cJglmw+hVnXkG/IAr4KecHOKGYfDaVjEFPyYcaDjq1GL8xsEoCmZkpWUEjI8DbBNAcKZ4bpbN+OCV/gNHcONzlEcw1GQMXK82DW/B9c6ICsbgFrCiT7JE1r3ji/FWs6hxXZ13fZMPEzq8kh3TV1WmAj7ewtc7hwRnjlzw5h5Gv0kQTHc5rMiwmGC5f7SBF5MfWShOiDy04S1cLFuDzXmRKXqiBZ4+ozt8/CYw9SJfxlGVe9fWaYJvQbCgj86CWw1Y9AE+uqMHeWNzOEG8BrdNIx+ylHXsRfCWPBgvWxcZviaw6T4ZFigZe2Qgq3QLWo/aC/ZRQFO9tgnssBdsvIAATlrA8zl4S2b5CfYieDtO/twzrdE/vOVHwGUvyE4VZnwmT2CZdOAv+rS1F2Qy7AU9ZC+MP2DFmH0X+oO3ZIrOkn96RN7q4s0XgGuygVfsBXzQNODG+6i9+MUv7kly35S3/KqJnCCTXeRP6M5ogwNc8Jy/w9cImNv6H7SiP4JgejvJF+gfjdECjfkhtA3bMjrWWf+DJzYhn3A2qavS2P3o7LuQHzqHP+S6OkmYBav8PpsCSx0IEz7BnYCQAao6RoJACQRtBJRyMMiEk4ISWM5IZpcyewlwGRTXUzR9u8f3fhdQu55CMHSus8nOcoXfLcfI3vieAyHAnIm+jNUYBMHG5f6mjeGh3DJoZvrGP6oc1T4ZBnRgqAX9xsFYNm3uF+gLQmROBCwapRtt8MQH+DFGAibj9L/fmjTGxCwXHAaI09DC0EZf/tc3/BhCMNEqMpRxXd13wYrgG/02DI0ufhrDKFz9oT/cvHNu7mGImgYQ+sdb5Thw4MSn8TbgwhOdZWLh25TGDP2mYcAvgIjg21i8xjW8RWcyYbmOMw1H2AS2YEl2SoBG5yIIHkdj40BXOJpcmXDQozYyxUnJAuIPPeSowByFG9/RH3iRKTSHa5uVBryVGTPm0IdJMgUeGH4XLLFXAhc0aNLwKGQqsqPTZEr/8BV4cKp4wq42bWTKZN1ko669AJccs1PkIWxmE9jshQmdRj5m2QsyQNfIP3mcx16wyfjGH9SxF8aKxuShjb0wXuOWbHH/hqGdmsbbcfaCf6v6zDq0JlPg8gfshT7oyiR7QabCXrCP/A/61G36NSm7bLgqSPf4ev2N6qv+fAdPv9MZgTOe8MFNdSfGZ3LDF5ATNPY+SW/BprdgCmR9FqQaS5Omf77W+N1PpvQ5Dmf9BtwoDyFT7HJp3VGg2y3p3Y1rc08UkXJhfrX53/deBEUQKpgKofS7/2V/Ba8Mp74YQ9fHPZZDLa8IqPXFeeqLYDKkAlL3xzVhfP0mmKE4rtUYAH3EDK463jqfORiOkUJEQD/JALnGb/BlKOHLyTCgTRu4nDhnBb/oe1w/foMvI2CMZrQcYhu4gqSojUJzPNH/uAZXMIyPwXSvgGkSfcb1Ed/JeDD4+CRQ0u80uO5DY8YWXA69aUNjQRo4ZIT8TBu76/BUsGJ8liD10bQxnoJLzoPsgzkJLph+cy3e+p+xbtrchzfuxVd0RjvfT2tkis5a6aEHbWRK8IE/4NJNbRJc34MBV9eCS56bNpl2vBVgRiA9TabApbd4S5eMWfa9aUNjATyeCaT1OYu3AiO0MWZBwCTaTBqL68mhQIBthIPvpsHVF9uCzuHMJ10/Ca7v6R4esQH0Fu0mjV//eOBatHEvGreFC2e81Z8+psE1Vr6G/rI1beyFQPquu36aJvwmK9N4C57xjNoL8ti04Y9EARuAv3CdRLPgO1sW9kLg3qThERrBl30iJ9Oa6zW8QBe2DZ6T+DGtL7/xP3RBf2DX4S1cNXrbxl6EDtBFOOPty70+fgAAQABJREFUtPH7jW00RmMFt40vSIMuf8ZSYOkD4bGjzvRLws1YUwwGN5R+ErqhPAwRw+V+GcQmTR8MCbgUjXJGv5P68Tsn5HpwOeRZ94zrKwJSE4hZxsD9jJSAClyGk0GZRaNxcDkmQXcTuOjC0YDZxvjhjfuMPwK0cWOrfofGrkVj/AG7aWM4wSUjjOkkpxb9Bm85BfDbOHEwjNdLoIS3dRp4gmY8BdfYmzYBDxzQTH+z8PU7vtI3MtXGwdA5OhCTa3Bn6YPfg7fubUNncOmufuraC2ODrxf+NKWxcZtEgisYrTPBwUNw6a37TRpm8WUc3/GWbMCVPM9qYBifcdKdNvZCHzKWwVt2YNbY/U7XvMBE56YNfe+/f+XEnrr6Y4xkAW/JVBt7Qf7Rmd42tRfgN5Vj8kceyIdkg/dZjQyFHTVhJo++a9rcY2LFVpgc1pFl8ocfYZPZjKYtfJd+ZgX+0Te6kGO8xaP//d/mcKOv8v5ICpRA+JE0WbNvKBkDyKBQtFkGd3SgFFsfTVrcQ9Ei+Jl1fxgdSlnHIU3qj0LrSx91DGD0Y5zwZERjLPHbrHfXM5xoDK73WQ0f3MdQgtt0sqF/9wVv9FV33ByvcRpD06BlFK86uLoHL+peOwrD/3ALGtWVqbgv+nN/XRrFPd6Dt8Zfl874SpZDpqr91fmMN8YLZl19MDaOEH/xNehVB171GjDZiib2AkzXG0PIZLXPaZ/d08Yu6RNMLfQ+/dPgj/vArqu31a7Rt429AC9kCr/q2Cn3oBM6o28b3urDK5r+6rR57QWYfBC9bWID6tBl3PjBw1eNDjbtJ/g6ru863+EtmjXhrX5dT57a2GT3NOUt/pN7Y33ooYd9SR0cyzWzKTA7CpjdR7miIwpwyBH0hPFt0jUjoo8mLe6haGaqdQxuGCsGjNFs28Lw6aMO3IBjnPBkFGIs8dusd9dH0ABu1SBNupdDcB+nBi4j2LS5L3ijr7rjZjSN0xjgO0+rg6v+8aLutePGA7egUV2Z0k+VJnUd0yj84K3x16UzvpLlkKnRPmf9jzfGC2ZdfTC2cOLhiGfBGfc7mGxFE3tBplxvDCGT4/oe9517mgRI+nCPBqYWep/+afDHfWDX1dtq1/jTxl6AFzKFX3XslHvgjM7oG7pQHc+sz/rwihY0jP8nvc9rL8Dkg+htExtQhy7jxgwevmp0sGk/wddxfdf5Dm/RrAlv9et68tTGJrunKW/xn9wb61ZbPexL6uBYrplNgYc1bfa15YoFU4BBsERDySzHzXJSYRwpCCfj/qZGVx8MH7iWqCha9DsJXb8zWK4HN+r1Jl0/6Xs1XgyR5TQ4z4LLeAhawJWxsHQ3i0bjYCuJYOSbwEUXhhpMy49NG964z/jrllagsWvRGH/AbtoYXXDJiKXSqgEe11fwNgJYtGrawDBeL0uPeFunwddSJ56C28bJxPIqmulvFr5+x1f6RqbCKdcZb1xD5+gAmbIMDu4sWfZ78Na9begMLt3VT117YWzw9cKfpjQ2bjoLruV38jwLV3QCN5bAlUjM4kvQtvoedfpwJc+zGhjGZ5x0p4290IdSjODtSiAy3W26h655gYnOTRv6eqKZVld/jJEs4C2ZamMvyD8609um9gL8pnJM/qJkJsqaZtGKvIUdVUpFHuvI4Gi/7lECwlbQ2zqyzDbhR9hkNqNpC9+lH3a2TqM/5Bhv8eixj20Otw6c9XrNdI3uEVUooc0fdsfXMZLLiBoBp9gUVEE8RZnkMFzjN9cwIBTETtI2gSG4Nv5RSk4m+h5HI79RSkbSGAVZNhi2gcvg2sgCJkOEh/of1+AKhms5VPcy9pPoM66P+C4CcEEX46LfaXDdF/WJ4DY19u5HYwYfHBuNyOi0sbsOTzkk44vNN/pq0jhDu6oZbru6wZwEF0y/uRZv/W+TadPmPrxxL77GxjffT2tkig5zTrHBbtr1436zkQV/wBUUaJPg+h5t4epacNtMcsKZC17IJjymyRS49BZv6ZIxtwmW0NiGJjyz6aeOvRDIoY0xP2e4MXESbcbRNmhJlm34tFEPDvqYJlPuY1vQmTzSoUnXT4Lre/fhERtAb9Fu0vj1jweuRRv3onFbuHDGW/3pYxpcY43NrWxNG3shWHryk5+SEhv2UkzjLXjGM2ovyGPThj9OTWID4iSVSTQLvrNlYS+cmNKk4REawZd9mhUYul7DC3SJIwAn8WPWWPgfuqA/sOvwFq4avW1jL0IH6CKc8Xba+P3GphijsYJLHkvrjgLZBMKU8cwzzxz8y7/8SzLO3ZFo9XqS4aGYnJsTIARMYewpQ/VFYUORGAS7Tx1L1KYxmBs2rBwdY9dvbHgIo1CFq38Gl6EX4MTRWJOM5bTxMH7u118cm+X6KjyfYxyMgWNnzNwZXIFAm2bCwICCi8beA8YobPRHDydjgBdHcjWFq38GTEAr6OJkJvFW33BkJDlxjlTgYWxNWwQtAku8ZUyNZRy+vmOUwWXs0YkstmkcFt7qc9PwOKbqRGeUxv4ny3arw9sJLpxFG3xNNgTgZIUOhWMdhWlcxmhcxkcWBYayf20aOtFBskKWI3AZhRs4oS8d4kgFHm2CFpkwcL3I0yx7gbbkCWx0IottGrhO46EPdeyFoApv2Ys47hL9mzY8Apetr2Mv8J69YFfJYpvJhjGGvYAHmapjL9CYzuFtm2CJbJIn/gDPwK1rL+DZlrfkkDyZcOCtBICGX6Oy7LvwQcbIRrm3SdOH8To2jR9jZ/F3FJb/XYsGJiN0ll0kD4LDto0fQCt6W8cXmPiBbWKFt+xU0wYPMsUfgAtvbRzOvqO3bAXbjcYbhr66tG4psNTnCDdBlfKcc845Sag87WyS0SNUrvWSgWRwCBvHpYUw+ux311O+UELXMYTVe/3uOs27a/TjnqZN4EK5GD4KYnwcjndNvxqjTHGdI8oxOc+TkrRp+tQHGI5RE6gZB6MIhyouAgzGyvgYaQ8w4aDaNsYsDCC66SvGEn2iNYPhaVwcPlyd/9wWLsPpXgaVw8I/+PoeroGv7+EJrgyU86QFSxxrmxa4gSkwANN3YcjB1cgmRx+8BXfD0PjF701gu8d4OWNBAXw4aLwNmQo5DbhkwDWHHHJIq2yW8YErqBRoMuL4h69eIVOBD5lCD+MTsDivG23i96b4wpVjRkN9g0mnAk/9kik85ewFaI5HFECD26a5z4tMwUWAAOaoTLEP+E+mfMZbk7oYW1PY+AguvgpaptkL12waOnH30CHOuE0zVnILliPy0NEYJtkLfACbvfAIbfxo26r2grziNdhV+uEtuUNjcoC3Ai1jbtPCXpBhk0Qt9JYseYHPXrBP4PoM7oah3oZ+N4UNBtzICxr67BX2J/QDHcgce4EHjgRts5JjfPrUB9llB/BNUOy7cfYi9HaHHbYfPmb50KHfbV5KpV+ywZ/xLf7HV3gGfY2NTgkG2Qk+ip2YR3f0iTdw1S9cyA5/O05v2THnwPO99EcA3Za3AYM8edEJvI3+Qqb4RKtk6EL22Qtwg/dwKG1+CmQTCFMST6chpJ6rPi4Qdg1D5SEODtHmADlrAki5GHTGJwyN3xmCMLiMq4PVPS1L8GZGx0CASVD173rOgWEkuE2b+xgB4woF0D+FoPzGSCHBYDhcxyA4/HyexvgIpMEXHKAT/OEu8Ic7gwwuHGUrDjvssDQzngcuxY8ZORoyRoKXCFQYKHQA12ycgRegMV7zNDRmfPSJ92iJzniIxpwex+JgeUbHY0YF3/PA1Q8DKMgkP8p4wgiC6cXhhQNyrQe5gIsvbRvekhMvuKInWYIrWuOtcXDgeBATHHyZp8FXxkVmjsx4oTd5Qmv4kjNP7RLEkWGBEh2cx9DTZxkbcOCD1uTYC0zBKnnyZCd85lw8SGeczWiCv/vZA8EXOQYXbUOWfYYr2PjpUdeClrA3TWDFtXhLTtiaTcMgF77wxtuwF2SbTrMbrmMvTDjmacYfDhk++Ii34+wF+OzFEcNHdpPBeRp7IesYusI+sI0hT2Ev4Gs89MdrHr013gi42UR0xtvQIWPBW9/Tac3DmcgzWW7b6AC4eEY/9I3OZAzMoEHVXoDrCarz2gs2yqtqL9CZLlftBRvJD7785S+fOxHDVrARbCAYZBg8eNIpcgaeCSR7LBidx04EX+htlNyQG7aQHMMX7OA5X8BnSP7gLTvTthk3XcBf8PCQTLEFwVs08JRMNLGCA+d5A/+24839vkcNZ671zmVZckpQmHe/+91JYd7znvc8IttBsL/whS8M/u3f/i0JWhgXSqyc4n3ve18KBP7qr/4qLbdA9+yzz05PMhJYe6jGBz/4wRREu5eycmR/+7d/m5Tmn//5n9M748vxvelNbxoce+yxrammD06asxagUArfRVNXJcvhxel3YRD0TRzgZqJAOdE1GgMsSBKYMQQccFeN0QFPoEDxObZo4MrEwhVczr+LBldGB1yPMmWQqo2BZIAEDpy+cXTRwBWMebQn52YM1cZ5Cs7IXJe8JT8ChSuvvDLhSr44FY2B5/jUioML9y5lSoDmaWRkC6+jCWzgyHlz4vM48Ogz3tGV7sjicGZVWQZnwzBbB2bXvEVXfBVECIirjeMzmZMtpEtdyTI+wpHewtkYVtteCCJMrKKFvcDbeTKy0V/1XbAvMIJvTGLjd3DxFkwBf1c0prfsMHshQBGUVht7CJ7JDfs8zwSn2i8+4u3111+fJubj7AWYygS6thcCUIkjtnGcvRCYgduVvSA/9FXCSWBYtRXoS3fwFX+7sk9oHTZZsEumwI7GVoCNpwcddFCa1EXmNq5p+w6uBJOnYdIfk6tqM4ET8OOvwLlLnKtw1vvndRMIM14CWwHIO9/5zrQEQfD+4i/+YvD+978/OY1//Md/HLz5zW9OmQuBs8DX9W94wxtSQHrZZZcN3vWudyWBZBD/5m/+ZnD88cenmZpg2mz1uOOOGxx55JEpEJ83C0FJqrNSSkIpOVNBi3dGvsvggUJwqmbjcGf8BBDgMHaUEV7+71opwRQAoy3DjwcCNDDN2MHsygCF4qMxuBwrXOGM5tttJ6v41IQrx4rGXeILLvzQFq4cgO8EwXDFW7h2yVv9e4VMmbSBDy+8JVN4C26XuIZMgYu+QWNwOBj8xeeuAodR3q7I1C8SnR944MEEC41NaMEkV102NA5ZRmNy5X88NbFC45CpruAGb8FhJ8DN2V7Al52iQ+i72vaCTFVlmb148pNXNuSRqa70VhAMV/pIf9ipkCkwqja5a3tBNsEftRdbby0wXPEF7BV8u7IXVd3BU7zFZ3DYCToLz651Fq4Bm03E24Dt9A68XaTekmM+ANyYTILHXnRNY7iWtiUF2leZb9nP0v9n2V+WlpCZ7W367TIWJfMyk7fkdsMNN6QNHZTQy3PAGYKvfe1r6TozVYEapWSIzJbNUCmRmZslIvd0oaiMC4cZTjsyPODqvyvjM8o8fXuZAYMNN813YC8KLgPnFUvb4IIV+I6Os4v/9c+Qg8vwWCEAN2B6X0QDV/CHv4LBRfGWUSfrZF5mG8wIOjmV4G3guyjehkzBl3Gv8hbsRcCt8pYzMbFZLd6GTIGrLGARcNkhmWdZfuVCYKEv2AKkRcnUqD4Eb1fTXuBt2AvyLBNalSljWkQblalF2Qu8/da3rATem1YP2OGwFyZUq8Vburma9mKUvlZNNN+H/1kEXwNG6C0a09v4nqwZQxeNTZaYM5naMMxs0xs+D53Z5NXibRe45NLHugmEBbuE77JhVldgK+gJgTPzI+hqfy6//PLNgTLFUwbgeoGEwPiLX/xi+p/C6EPwrB/9W2K1AUVfXTYK2HWfdcbHCHqtdgvHuppww9AuyoFOwmVRvOVIrXgorbFSYbJGZqMFb2UgjEEQ5X3RLeAuGk61/7Xk7SJkWemQ5WNLuGpHlVkIgKOFTLFZ4Jto5cpbOC+CxkHLSe+Lkik8szxPb/HZkjjdjBa8VR4hOywhkyNvF0XfoOO090XBZmvZZCUuynqUlFRr9QOuWEJJilhiNXg7jRbr5bduI7Ylppp6PUGwrMFrX/vaNPsSLFx44YVpNkbg1PzacKdOlSAKcgUQ6htjmUKZRDR9MlJmj5pgdbUDqRhLeS8UMCGLjRecqU1xHCv5VFs3blLD4dIJdZyyW6UtJwU4R5vdTObZJ7w1Mecs8Xac3VGTjedWqiKztpzYlVHxN/hqxZG/UTcqyy0rKVM42lzrmpe97GXputHfy//LQwF8itp9vDXBMYHB34gdYrT03CrPl770pcEpp5ySMsTxW3lfHAWyC4TNumx8soEimmUHMzHfcRwyt4Jg2V9NVoUACnxtFlIGIcNiI40lKTNvgYLNTZY1dt/9+cM6rbtTgTsns802K2UKAorSCgXWggKWx5X1cKRxYgFZNcFTqmOT4WijAwy0ciHlCiUQHqXQcvzPkbI9eMuG4TXeyvBPOldUxpAdtPxqN34JhJeDl6OjoIMmLDbfbRqWMKn/VS9Kb/HNZrTRrCBfZXOVoEpGUW3/uInQKKzy/+pRQCxAR5VOBm/FGXhrhVmCTRwyyje/kQcvpzKx29WVvNXDYH1ByiYQZizMsAjd5z73uc3LSQRLMEvoCJXZ1umnn54EkEMR/DoOzW5Q2V1H7XA6ZuKMEEHlRNTgmbV/8pOfTL8xYJwNY+U+MzxLkOOybutLpAq2a0EBBpZjFNhGuYNxyDiQY7Vno03JhFMcGGiG2XVWPkpbLgoIfGSABcI2wFl5YmfYNdlgdme0yRzLICv78u7UleoS++j15f/Vp4BgySqO0yfoLZ8S/kONtwls1KnG6FxPb/kxqz3e+TDBcGnLRwETG6UQgmINz9nkDcPaYHyrNry1yiPbz4Z7F7eILUpbLAWyCYQ5h8MPPzwFrYxJGBSBMMHzRCO1dIRPAMuJKIWQ0ZXxjVkXp0LwZIYJoSY7LFA4+eSTU7aYc5FZPuqoo1KfHJXP+o5+Fsu20nuhwJYUEOiSP4FsBMKMro0Ye+zxgs36EHeRWcdsCYIZX2U+dITcl7ZcFBDksDdWtjhUfNVM0E1ewtbFqJ0cYXWAnRI4C4rZL09FLG15KCB5Q19NZmQO+SVNQGR1RpJltCyC3krUSOLwbbL+Viv5rNHM8fJguv5GghfiBhl7PBRj+I5ustN4PpqcsHrDDitvcy3eOjvYpGhUx9cfRReLcVaBsMDWa1qLzW+EVLaXUyGcDIy6SpvhOByCWq3fkU1xvqrzXS0lu6a6rOFBAKUVCqwVBWSTBD6co8aZMsAmc7vssiF9V/1juV02KTIVMsMyyjKHVbmu3lM+rw0FYrKCtxwim4W3HvEak/UYmd84UpMcds31ysJkhZVRrMWm2xhbed+SAnjFl+CXIIjO0j08wluvavM7PTfJca9rZYdllMcFzdV7y+fVpUDwVj2w2ML/MVGR6TexrdpZv5sIyR7TWwk1JW421UlmjFv1WV2M8oaWTSBcl02MTNUZEE5CJ4t26aWXptocp0dMyoy5vhog14VbrisUWBQFyO4VV1yRNnpaipNxECgxtALb0cyDcTh1QL0pI+06WeFYSrdaUtpyUAA/L7744sRbQRMnyn6ZiMsGyxZVG4dqA6QyLg1vBVpKK2SnlI+VtvYUwCcTV3p7/vnnpyDIRCVKk+jtKK8ESPF0NRMcciAwNqElC4Kr0taeAjFhUed7zjnnpNgCb2Tt8ZwOj9pYk1z22AQ2eCuLLDBW0inmiEB67THMbwTrLhCexELBsCXIV77ylWknrmCitEKBZacAR/iVr3wlBUqyvDJDhw9LhCytCm6tbIwaUFlgtfSxFCtY8p3M4abhhh16MHrPstMht/EJlPDWCpVgSRCMt+wTJ4pf47LB4TxjZQBvZRutdlkNsymy8HZtpUWgJCBSDuEhT3jG32zcuDEFs3gtcBots8NzgZHrrVDio5facauVSmXwu7S1o0Dorc2M9hOZhKrz9pAtE1HJhg3D+uCY8MRI6TqbrOTFarWGt8qaZPz1Ed/HPeW9OwqUQPi3tDRbe+Mb39gdZUtPhQILpgDHKAiWUbJ8bgnNaobyIMESh8swjzaGVZDM0coIazIO6kmVSDjfsjjUUaqt3v/hTC8bHvf4iU98Iu00ly181atelfY0TFqRwm+ZYE7VKoCJju9MbGQTrRz4v/B29Xg5Cgn9BcGyhR/72MdSUCvzG08oHbd6ow/30XeBlYCXrvrO9QImvDbhGQ2wRuGX/xdHAXqLD1ZkTHBsZjTxxFulk/RWMDyumdxIZJAFfbDLURssUyzjr6/SFkOBbB6xvBjylF4LBZaPAgyuUyKceX3WWWeloJaRPPHEEwcHH3zwzF3GAiKZB5tuZBwZXueRevKczINscgmW1obvEQQ72vGMM85Ig8APT8W02XdaoONeAZJyCjvOP/3pTyfennTSSYN99tknBcSca+Ht2vE2MsEf/ehHE28kYJxNb/I6i7cC3R//+M5h7ejtg3//939Pem+TtnvVE+NttexvbbBcn1Dpnky+o1fx1oRFMuLVr351yvTPyuau8PbHKXh+//vfn4JiT6mVSbY6YMIzq4/1SflusC4Z4W7oWHopFFg1CgiCr7rqqsGZZ56ZAh8OkMHlECdllKqD43y9ZA4t4QmEZZmcGqG2uLS1owCeCII5U85VNtfB+oLgWcefyQzaVOPFEQuKOE99WHpXV1za2lHAJIW+4S0+W5ExwXF05yy9w1v8e9aznp3kQh2p5iSQDcOldjagtLWjAJuMtx/5yEeS7klMsMknnHBCrUHhv1InkyH6K5sskDbB8V7aYilQAuHF0rf0XijQKQVkHQTBH/7wh1MQzGjKKMnmNnWGyiNkIjTLrFEm0emAS2e1KYAfgmC1hWp8Oce3ve1tg7322muuIBZf8be0taOAwFcZkyVzE0/L5KeeempawWma6XvooYfLnWSYox587bBb35BjdY7eKm8QuMrmHnPMMY0IY+KrhKm01adACYRXn+YFYqFAKwqEM1U3ypnKKB177LFp2VsQLGvUpDG8pS0HBdR42xR3wQUXpFpQE5y3v/3tqV5bJrApb5cDqzIKFKCrJq9KVZQl0VVBkkxw0yBYf1W99bn6v99LWz0KSCSo977kkks2Z4IFwbLBo5sdV29UBVJTCpRAuCnFyvWFAmtAAZlgu4ovuuiiVAMqW6gm2GM4yykPa8CQDkHG5inHpPmsbMWSqnKIEgR3SOg16Eo5hCeXfv7zn0/L3XT1iCOOSHWjpVRlDRjSIUiZeCd/eJKtE3fw1ok9khMmsqX1hwIlEO4Pr8pI1ykFZJTsRJYtdEC7ZVVHLdmJrBYt6gXXKXl6jbYM4ZVXXpmcqQ2Mdo3jrdM/ZtUE9xrxdTB4k1flEIJgD0fAWxNXG6BMdkrrLwUEwXhr8uqIM0Ew3h599NGlpreHbC2BcA+ZVoa8figgCHZ2KIO7aXjGr0yDrIOsEsdalsz7KwuCYM7UMWmOtHM6BL4KgjnW0vpLAcdhRRBMb+kqvtJdn0vrLwXU3Mvys8keiSwx4dQdukuHS+sfBUog3D+elRGvEwpYVhUEyyh5opQTITjTYnD7LwDVINgh+051wNtDDjmknBfac/YKgtUEf+ELX0iPQI4gWO2o01lK6y8FIghWDlENgk1wykO4+svXEgj3l3dl5BlTwLLqDTfckJyppTdLqTbXKIdw1m9p/aWALL+Mkkzw//zP/6TgKIJgD0Uprb8UcIJAZAvxVhBscoO/JVDqL1+N3KbEr3/964PPfvaz6bHWVuciE+ypj6X1lwJb9XfoZeSFAnlSwBOkbIyTUfJoXGdL7rvvvikT7HD10vpLgfvvv2+4y/zqzdlCga9AyatkC/vLVyNXN+ohNQKl73znO2nJ3NneguCit/3mreMHPcraUzxvvfXWxFuJCatzznIuJWr95m/JCPebf2X0mVHAsiqDe+mll6alNxum9t5773QupcfsltZfCpjgePLUZz97UXqUtVIXTwIsS+b95WmM3JL5LbfcMjj33HNTEIy3gmAZwxIEB5X6+e5sX2UQ55xzTkpQqAkWBHuqn0xwCYL7ydfqqEsgXKVG+VwosIYUsKwqA6z+jFN1DqVMsJ3Iu+222xqOrICelwLOG5XlP/fcTw/UBDtLNgKlkgmel7pre79MsBp+D1RQDmEFB2+d/uHJYKX1lwJsMt56EIqTexxbecABBwxe+cpXDiQmyok9/eVtdeQlEK5So3wuFFgjCsg6qAU+77zzUjDs8bj77bdfcqa77rrrGo2qgJ2XAuoKBUrf/OY3Bx6E4vg7gZJMoYySx6qW1l8KCJSUQXzoQx9Kk9c4QeD4448vmeD+sjWNvBoEqw2WmHjJS14yOO644xJvSxDccwZXhl8C4QoxysdCgbWggPozmaSzzjorBcMMrEcmyzo85znPWYshFZgdUUAQbIJz+umnD37wgx+kJ4nF41fL5qmOiLxG3VSD4Jtuumlz3ainipVjtNaIKR2BlZhw7F1kgtnkF77whYO3vvWtqZa/BMEdEXpJuimB8JIwogxjfVJAbaHn03/wgx9MmSUZRNlCGSWbMErrLwUEwZzpv/7rv6aJjmVVm2tklEqg1F++Gjm9/e53v5sywYLgrbfeOj0O+6STThqUkz/6zVuJie9973vpKZ7KIQS9L3jBCwZ/8id/kk4BKUFwv/k7bvQlEB5HlfJdocAqUIAzveOOOwbvfe97k1P1v0DJo5PLxrhVYMACQQiCPXZVECwTrNRFhh9vn/SkJy0Qcul60RQQKOGtcgh133irlv8d73hHOuawbJ5aNAcW27/JqxI1Z0GbvD7vec8b/Nmf/VkKggtvF0v7teq9BMJrRfkCd11TQNArQDrttNOSU5Vl2GeffVKwZJd5Mbj9FY/YZa4cQtZQoHTssccOTjjhhPTEuMLb/vLWyG2e+tSnPpVOdxEoCYLf/va3pwfeFN72m7dOh/Aoe2dBs8kvetGLBqeeemp6yE3hbb95O230JRCeRp3yW6HAAiggCP7+97+fjlriVBlYQfDrX//6tMu8LL0tgOir1KUg+Oabb061hTZRbbvttoP9999/cxBceLtKjFgQGJsenSXriY8RBNNbD7wpgdKCiL5K3TqxxxnQ1113XZq8CoJf+9rXpgehFL1dJSasEZgSCK8R4QvY9UkBgZKNcQwuZ6omWBD8ute9Lp1JKXtYWj8pYILjsP2LLrooveOlo5ZOPvnkVA5RAqV+8jVG7XzvCy+8MD3xMY42tDHOpsfC26BSP99NcOitp3lqe+655+Z9Guq/S8ubAsXr5s3fgt0SUUCgJAh2TrCsg6B4r732SoHSLrvskjbcLNFwy1AaUABvnf2MtzZPRSZYoFQeqNCAkEt6qSz/xRdfnB6xq0b4xS9+cdr06IEKJVu4pEyrOawIgm2McxKII9KOOeaYgWMrTXhKy58CJRDOn8cFwyWggEBJGYQnxnm6mCCYwbV56rnPfe4SjLAMoS0F8FIQfMkll6SMksDIGdDl5I+2FF2u+yIIFijRY9lCJ3842rAEwcvFq6ajcTrE5z//+TTB8dAbExznez//+c9Pk9mm/ZXr+0mBrfo57DLqQoH+UEAGSb3oF77whcG1116bsg4MrQ1Uu+++e38QKSN9BAXwVkYpgmClLr/3e7+XNj2WCc4jyNW7L+ityasg2EkgJq9O/3CmbClj6h07txiwfRpRDuHR9mqCjzzyyPSu/ru09UOBkhFeP7wumK4BBQRKsg6XX3754JprrtkcBHtsMsNbMkprwJSOQOKtDTaWzKPeW6mLjJIjl0rrNwWUMeFtBMGyhfTWewmC+81bJ/aYvDoiTRC8xx57pCAYb7fbbrt+I1dG35gCJRBuTLJyQ6FAPQrIDso6XHbZZVsEwbIONsiVILgeHZf1KueNyihVg+CNGzemCc6yjrmMqx4FTF7VeztGy5K5SSveliC4Hv2W9SqT1zvvvDNNcK644orEW6tyJq946/Hnpa0/CpRAeP3xvGC8ShSQdbCs+pWvfGVw//33p7ozD8xQP1oySqvEhAWBESg5QUAQzLnKBEegVCY4CyL6KnRr8vqjH/0onepy5ZVXplp+ZRDKIQTDNkGW1k8KqO8WBMsEs8s2xilRw9sSBPeTp12NugTCXVGy9FMoUKGAxyZbVuVMf/nLXyaDKxPs8P0SBFcI1cOPAqVzzz03ZQs516gJtrxaguAeMvS3QzahobfOCVbKJCiOWn7BcAmC+8vbCIIFwI6u9L8TP2xWNsEp5RD95W0XIy+BcBdULH0UClQocPfdd6dHdH75y18e3HPPPan+TLZw7733Ls60Qqe+fRQY/exnPxt8/OMfTxMcp0XgqSfGWV4t5432jaMPj1dg9JOf/CTprVMENEHw7//+7w9e8IIXpIdnPHx1+dQnCpjg4K0g2CoOvd1xxx0Hb3rTm9Kmx7Ixrk/cXMxYSyC8GLqWXtcpBdQTnn322QNB8L333pueFFeC4P4LgyDYBOeMM85ImWAnCDgVQhAsYCpBcH95jLc//elPUxCsLtjDMXbaaaf0VDFBcMkE95u39Pbqq6/eHATvsMMO6SmeVnBKENxf3nY58hIId0nN0te6poDgyHPqbcJQDuFBCp4YZ2Nccab9Fg3O9PTTT08THBmlnXfeefC2t71tsNtuu5VSl36zNk1w6GwEwQKlP/qjP0pZ/qK3/Wbuz3/+87R688lPfjIdf4e3p556anriYylR6zdvuxx9CYS7pGbpa91SQOBr2e1Tn/pU2okso3TKKaekw/dL1qHfYnHXXXelCY5NjxEE/+mf/ml6oEJxpv3mrSVz53ur+Vbf/eQnP3nwx3/8xyUI7jdb0+iVMX3xi19MumuzsnKI17/+9SUIzoC3XaNQAuGuKVr6W3cU+MUvfpF2Ip933nnpTEpB8Bvf+Ma0CeOxj33suqNHTgjbZS5TaOOjjL9M8Dve8Y7Bhg0byuNXe85ovHW0Id6qEX7605+eJq/KIcqjdfvNXJlgGx7pLvssCH7Na14z2H///csKTr9Zu5DRl0B4IWQtna4XCsgWcqZ2Iss6RBDsCVSPf/zjU73heqFFbnj+8Ic/TI9flTGU8fdI3be85S2pHKIESv3mtpM/ZAvpLr199rOfPTjppJPSk+NKOUS/eauMic56sc9K1NTyC4JLYqLfvF3U6EsgvCjKln6zp4BlVc7ULnOnQ8gocaZ77rlnCYJ7zv3bb789OVK1o548teuuu6aMko1xJQjuN3MFwQLgL33pS6k++FnPetbgVa96VToLugRK/eat7K8AmF2W8X/a0542OOywwwYvfelLk03uN3Zl9IuiwNIHwh5z+ZjHbJtqt7bd9uHnf3NOZntq9szm77vvvoEMTixZ2vlbbZY11Qy53gxx9HfXyvpQnic96UmDJz7xidXby+dCgS0oQE4ESRyqDMQzn/nMwXHHHZvOCS6Z4C1I1bt/4mmATv5gV5wOceyxx6ZD90sQ3Dt2bjFgPgBfvZwUodTFAxUcg1eeKrYFqXr3j2QEvjq7/Y477kiJiZe//OWDl73sZYPf+Z3f6R0+ZcCrR4GtVg9Uc0iOtVF3qc7nxz/+yRYdCEQ83vQzn/lMCm6//e1vD0477bRUD+S+0aZmiJLEYdqjv/tfpuCcc84ZfOtb30pPixp3TfmuUIAz/drXvpYySg7gV3929NFHp00YT3jCE8ZOsgrV+kGBCIKvuuqqAZvh0H289dCMki3sBw8njdKEVd1oBMEywbKFnvRIb0vrLwVMWPFVJtgTPZWoCYIPOeSQZJ/7i1kZ+WpQYOkzwl//+tdThvalLz1gC3pYAvnmN7+ZHpMou8tJ7bTT01Ih/Lhsrwzyd77znZTxtTFi3G5vju8b3/hG2jHsEO7ylKgtSF7+GVJAEHzNNdekbLDJmHKIww8/fHDQQQcNnWn/sg7kfNzEcT0yW6mL5XJBMD7LFr7iFa9IWf4+Zgvx1gqY9/XeBMECJYGwhIcVHIGSJfOSLey3dPDtssBKIkxkJSYiE6w0om/NWfTFJq8u15Y+EEYOQeu4oNR3NjbEsTf77LPv5vNazRD/+7//Oz0yM+4VAMfSps9KK2699da0/MnREUDXxuH4nkWu3GLTpk0p4FYuYUexd8rne0ZUPaEg2pK4DTWCo4C5uuws0BZJAc702muvTeUQSnYY3EMPPTQFwttvv/0iQS+s7xIIr5DWMvloEBwTHHrd11Yc6iDZZpMbgVI1CD744IMHT33qU/vK2nU/brJto6PEhJM/qkGwTHAfg2A4FZ1dfdHuRSAsaCXwssDRBLrqfgWtfheMOsPVEqYg1MzfuZ/qhgTLznK1jP2UpzwlCZrPyi5kgAXHrpFVFtDKKOtTkKwfmWT/u07mT02ZjNHHPvaxpGwyg+AYjwyDpVRLM6XlQwEB43/913+lYMkEiJFlbAVLDmnvY1ML79HAZFdAEBPAPuIy75jpuppvuqwcwpK5QKmv2UITsxe/+MVpwm7Ctp55y357vC4fIUmBt+x4H4NgvknS5kUvelHS22c84+mbkz/z6kDf7hcwKoM4//zzUxCMn3grOUHm+9ZiZVsMQ07tfYrEXd9w6dt4lz4QZsDN9Cx9CECi+Y7TssQlSLGsqW6TcsgEn3nmmek3SiHIFRSrI3ZgusyvWeSHP/zh9Cx5GyUiMJYlJpD+V5usL30IdpRpeHyurK8gwpg2DM8TFRARWqcHyDwYU9eBMLxiiVOgb4yr0SJjCF68Fg0Xrl7RViu7Po3GfoslK0EwR2rZ3MSqixa8XS0aG7OTEDgPy+dWOVbL6Fb5u5q8DbhoXIUbfBdg7LLLLpsDpa42zAZv0bwK1/+Laso6Xve6k4c24zep/nW1eLuM9kKCQiKErsYEpwu9DbnBQ3wlV4tuYBj7G97whmFy5sFUjrXddtstGmzqP3jrn9XAdxZ9/W7VFv4mfpIS+Ntn3pp4/8Ef/EFKqvncx5KsVRHGjoEsfSAsiBXkqu8iFISfMZARtlQtAI3md2UUlw138lPa1772tWkDk9+dFCHzxem7TxAr8/POd74zbk/3fPSjH03/yxTLAAoWDjhgpT7ZEumNN96YniDmMY3a8ccfPzjiiCNS5ohSCp7tWO2ihaI7zUIphv7hTvEjy+29awOMduBxIGCDy/BxJrLmXotwrLLu4AZM46jChbf/u27wDPqCDW7QF67wNiGzqUYjR7Jt8xhcvAUXbQNf36FrlcaLwFdAD18vsgM/tLfq4vOieAvXgAsemqJzyPO4uv15eU3fA1/v/gcnbIV3ND7wwAMTKONxRNo8pS74CE7gCq4GX/QFE5yueVu1F2CSY418GQ/Y4OZiL1Z4y16s2MZRe0GP0Nz5sZoVRZnULvQWfUN3wa3qLTovird0FN70B7/973Po7aLgkmWw2KywGfR2Eb5gxR7/cjNf4Ulnwy4GffEWPz0tTsLKCk4XvIVr8BZsOlOF3bX+gAFnMkVX8VMLXxQ07hpuAlL+JAosfSBMGCwVeFKXTGwYu9tuuy1lZ0NoqvxUB2ZpoboTWBbP/UoaCJz33XbbrXpbcoCWVCidbLP64O9+97uDW265JV1HWJVOMKi/+tWKc3M9Rem6wfPee+8dqEV1ioXg3XeagFyGesMwGy3zw7EyCl00RjY2IqIBuIyCxgDJdKObCYj/u1JOtAUPrt/73vcSj8BkJDgZExLL+DL6/u8CLnqSBUum5IlMoHk0wRCZga/sID47imfeBq6JnGU9/N1UWenwm0kbfK0sgNtVgEhXGHkrIxxHHD8IH06NzjgqzG56uHblVMkPWHAFm3xF32SXHJuUgk+mumjkBlyTUjDxmCPXwMZbqzrOfPaOxl3xls1ig8gynKu6ySYJtNHZGKq/zYM33pIpshSyHPYCjeEo281esB9dwQ17AVe0rtoLMoSnz3ve85JMdW0v7rjjR8PytdvSiiG51vAdL+ls1V5EMDwPjdETb8kSmYKrSXE0/CTLYPvcld6Cyy7xRRI09Cda2AvyxCazF13xlkyBxR4rL1FHj9+a4Axv2amu7AXe4eMPfnD7UHduTfLEL2jwpDtkCUz+L+grKeE1Twve0le44i190tgL8PgC8LvUHzQmQ2QKf9E6mt/oK3z5BPh3xduAUd5XKLD0gbBhctKEr7pUOc1hEhaC7RUt/qdsgijCTdDif9f533XxnaCLMbUDVYs+zDotObruoYdW+kgXdPQHHKUZNndQDHhbwo7ggXFiiGWsGd199903BajzBofgMgRqJQUujB0aMOoaJwAuR8uZKwnBl3kb42qyobSFseW0o8aLITQWm9ScEqIkAU+m8b/OePCOAbrhhhtSyQvewzPg6iNOEYCv2m9GqQu4cLz66qsH//mf/5mMOecZjQEWzKhZBY8D93vwPq5r+o7GJhpKdxhcOhWTCn0x+uiLv+hr8sn4zytT6KqkCG/RG1z9Cs40wamypeuvv36wzz77pMxsF8ZevzfddFMKHHwGM3hLzvGWrKOzFR1OrgvemkwFXIE4mULnaEq6Qq+tMAgi5uUtGuOto6PG2Qt0D3vBqbIXgph5eRv2wiZDMj1qL2LSFfbCsrVr5m0mrwLv6667LvFxkr1gU9gLG5y74K0kiBVB/B1nL9AALeArO2lyN+/qCjulX6V8N99881h7IXBDD3iyF5IVXciUiY19NIJw+srvBT7sBd0Je6G8cF57ga/KC/UJDr3Rp8b30C0ruWGP+b558dQ3GrO7aMwG0ouqLwh7EZNMvBWYBi300aaBa8IMLpzoRnWFm99DY36C3vJB7MW8ettmrLnf04tAmCOLmWgdhihlcKYwpyBgYwQpF8NJgAVvBIrRogChwMovBAlgyca5juOO0gizNv1yYJzJIgSS0nFqlw3LO2QMzfQZOEoS8FzDKDOA8GKUOJl56pIZ9u9//3vJ8FFwS05oBP+Aiy6Uk9IyGBT5yCOPnMsg6APdZTrQG63hEbN9vwsoZOcZe6Un8N9jjz3mcm6CA8EZQyNAEggxfpHdD7jw5fzAVRNMnmJsdWRx9BoTHEGwjKyAkzEHE4294Cb4J2uu+epXv5rozBC2bfiGfs7cNokiu1ZI8DYciWvQhLE3OYD3UUcdlWjSFq77BLhwMJnba6+90iRHoAsuGpM7cPEBXTQGfx4nQ17IlEAIb8EFP/oEV5AGR3IsgER3NJ4nYNKfCRvHJWiQPTKBrQb2dBmN6S6nrySDHISOJQI0+GPcZMqmXjLDXuivqreuYS/AJVP3339fkuUdd2x/tBS+sa82KtGHcfbCNYK4sBfGQaaCDw3Q3Hwp3pEn9iJsM1mOPkNvw144TQBc9mKeIJzemLCR01hd5DfCXhigQA6u6Cxgw9sNw0nsPPbChI1eRMA5zl6QO3z1ErTSH9e1bfgW9oLcmKCyyZPsBfsoSLWJvG1iBEy8Qj+w2Fn0Dd3BV37ORJLuuJbOwLOt7gR94Ii3fD+fZ+Vkkr3gM9hRuEpUxPiirybv9BVv0Zr+8EHkOGwymrDL5AnO5B5vTbBK65YCW/+/Yeu2y257Y2gpoBknpxJNsMjJmilu3LgxCbEHbKgLJlCckZ3C3hklvzHcHAVjzJhxloTarOzcc89NDpExkwE2s6Ygl1xyScqQmo07lcIs+eSTT07KZ7Z86KEvT8rD2MnQMliU6SUveUkMtdE7gwIvSsKBc86Ug1Iw6F6MAqMeTtaY0KGtYuqPob/gggtS3wJ9EwZKHjADLl4EXIbX2ObJLjE+jAt8BAn4wrBV8fU/o+g3Th9c47OZIIxGEyLrW8DC6OqHk7TshA5VfPXJIDLuHDqHI1iWgWrT0DhqzzlIAQu5YewCtnd0B8dv8DUR5BzaOnJyTNbpDKcm6wBGwAze6h++/mecvXMKbRyNvsGT/cQnNA66VWmsbzIl+wNPkx3Bq3G0dTKxeiAY5VD1VcUVfHDRGF0FG+TQ9b5rgy/9M4Fgb8iUkgt9VeUYXDyFK7nFW9/5PzLkTeXKRB5ctk0Wn70w/iq+PuMt/MD/0Y/uGAYV9yd74f+mTX8mL7PshX7pTtgLthE89GlDY/3RH4FXHXuBt2jMPrJRdLytvWCjwra/8IUvTDJdpTE+aiG79Mdki8yD26bhrewzv7KhYi+qMmUMYZPJEFkmi2jcdlKHt+wFuvG7Aq9xviDshTFI2pjA871Nm4kr+sIVzwSFdEe/VVz5GvSkz2yLF38eiYSmcF3P9lqxMsHhY+jPNHtBnsULbCq5ZtvaNH6eHMfkVUCPxsZDlrzgT19iQkCm0IOMteVtm7Guh3uWOhBmLCmJ+h8CSuGjMWgMDKcugCJEhJKjD8fL8DMmmpnU4cNdpfohdBSKszKDZjw4I49RZeQoIoUUWAoEGDSCD45a5RBaiilYJajGQ2gpBxiCtqaNkDMokcmi5JQhXqP9gccICCAEaugBftMGPw6GMYBjBLZh3Ef7A5fRRTvGCL5tjBGll8lCWwELHmjj4JIF/MdTQQsj3NYgcI4mNmSGg2HcxsE0FrRHV2N1XzgdvG/aGD2BHlrBlzHD83GNPKGxLAi4PnNuTRveyigw9iZo4GrwGtfgZXyCdjIFZhtjj57KMOBMp/BNG6VzjAPccDJozfkaR9NGlgTC4HDKZCpgjPble3JEDjg3NHZ9Gyfj/uAt+6GvcbwF0wtN8Yb+wJPONQ3S0Al9R+3FKJ7xPzzBEiixeeSaDjVtkgXsBXyn2YvAFVz0CHshU47fTYNhcMmUQI0cT5Ip+Og7eItG4Lned00b/UNj/CFT6DYqx9U+w14IXNAbjdnMpk0WkN6SFTRDx6DpaF/6pz98AZmCZ1t7Aa6glBzzgRq44xq60pewF/TWOOo2/eKn1Vk0NZkjK+Pw9B0ewM1nkz/X8rVo06bhkYmkMfNjEQSP6wtMvCCH9J3fF0c05a1+2GQJHf2Bq49J9iL0h96iM5zb6O04nMp3KxRorp2rTDn1e4QE86uNEFpGJzwEhZN/zWtekwSasvifUMdOf8ZJP4TQOwVmxBlHAka5XG9WC5Y+OEUBNKNL+CkLwXcvmCeeeGIS5FBC5RT683ubxoiZhXOQoRwmAuMaPOAegVksj7VZZoUzuPqCgzbN0Pud8UMfS8vuRbOgg9/rtLvu+mky2iYd6Or+SXDje3w3RktknAND0tShcoxozZgYNzqi57jme+OCK6MpgDC5GpXHcfdWvyM/6CRQ4yzQWiAzDq7v4EuOTGw4Cs5YH02DNPdwjJoJHNnH73ENXLSkByaYspsMflOHqh/0NalDYzzTgoejsH1P3/CS/qjdRWM0aipTYKIXmHQePpPgGife461r4WriaxxNmv7JBr0V0JKNabzVtwAJXYO39957zzALtkKnurDZLbwNe4FW03hrnGEvyCGZYgOb6g+ZEgRXg61pNI7gBW/JFFptGE5AyWKTxsZ5sRd4VsdesBUmdOwF+SfbTfElUyakxs8H1LEX7Bk86bwxh12tiy/eGjcZZS9Cpsbd7xr0D3shWMJbstDUF8FTIMzOkGU8IsvjGrhhL4xRcoFtbRKk6ZtNlSG1akT39Os1rsGTPBmbQNIERaKsKZ7Rt6QK/RHw4+002H5DD7KLvngLb3rQpIFHNthIsozWk2QKTL+5hk0jx+RCXMCGlNYNBZpZom5gNuqFQRnXCGTVYRGUqgJSFssrXpMa5ZlloBigcUEPI8wwVhvBnEc4GT8OSt+EfpIxCJh+dy0nbowUi/FrMgaGhWIyRJwLpZ7k1KpwGUDXoyHFFEAYS5P2wx/+KAV3YNa5N4y9DACHKohgSJsYQTTjmCLwci9DM635nax5obHMVtPmPg4q5NL90/jrNzQGU/BCLvRBzps0BjMCd33NwhXcKm04qaYNn+BqzCaRdeQx4NJhzhSPTALqyEV1fDFe+gPuLFn2O/lzPZho3LQJDNEYv/TjfRpvo3/jY8fQ6mc/u7txIExvBS7kg52bFLAEPGMKewFn+LaxF/Blq8JezMI1eMuWR+ATmcYYW513QT/Y4NbRA7x1HfoIWtCK/KN53eZ6dMJTQXRTewEmO9W0oa976SJezWpobIx8AXzB1EcT2wgGfN2HRuD6fxp/4zf+xz0x6Z413vidPLgHHEEhfH2e1eBInuiO8eKze5s0Y2cv6CG6uT/wmdSP8aIL+GC3sRfGy4fgDZusTYPrN7x1Lf1lV/VRx65OwqN8vyUFmknOlveW/zqmAMMdjplRqWMQDIFyUGKOcZYzHDdkcARMjAmFq9soItiMSd2xVvumzJScUdFP3QZujBm9mjTXc/7wZIjq4GuM+BFOsA2N3eMFz7rOCVx89TLmSasD0/APfI1fP7PoBaYWMiXwaNr04T5jjoAl+p3VV8ggXOveU+2zylv41unDdSFT7p9Foyo8n/HVePWDznWaccGVLMT9de6rXkPfBTz68KqDq/vx1suYm+IKBhrhb/CqOqZxn93jhcaCiLa8ha/xwrWO3sZYBDkx7jb4Gi94eFsHLlhhL8DD36bNfW1sKrjBW+Nu2owVnSMwnEUvuGoBt6m90H/cQz78H31OGzs+uN5Y3V/nnnH9oRF6NeFt4Is/bXgEJjqD6VVn7K6JMbqfDpbWHQVKINwdLTvraZbxGQeIYeCI6xjq0fvd16QFLMoZhqQNXFkE99U1fjFGmZIwIk3hup4zBtPY6xihgDvPOxoHnY2h7rjjOu9xf9tx1DXaaNJGBmNcxsq5VFvgUf1u9HP1GvdX/x+9tsv/4WtSRqY416Zw8cV96BtOvc74wPUS2MWEoc59cU2MkxxrTeXD/U3vCdhN7otxunceuWIvwBX81JVlMF2LPxFI+K5uA686fvya1eIewUrI1Kx7Rn8Hswp39PdJ/5MFMujeUR2cdE/1+4CLZk1oXIcuVTjjPsuuNu0HrYPe4/qc9h1cJWHwaTUDy9HxNuVz4DwNt/JbMwo0i4Ca9V2ubkiBcIgMWQSYs7pgOFzLaMXS3ax7qr9TQnAFhwyRmeosYxTGUvAAtlIFytm0WeJkrC311DVE8LRUyYDJWjQ19sZpGZlDjoz0LEPknnAw4HLITZtARw2a1iRYwhPjxJ82cNEHbDD1NYtPaIE2sYzcBqY+8AZcvGriUI2RPMYyYFM64y34kT2cha/f4Suzirdes+RhdEyCLLpHbyyX1gn2wLA8Cl+8Ra+mzVjRCW+96uhC2Av6Bq5ArUlDL/fB19jr8ha+5Bhc987iy7gx4W1be2HM9K8OjaqwA1/6D1/0myUfYIS9CLjVPut8JlP0hz3G21kw9Wlsxkh3wSUfTRvdwx+lPlGaMa0P4wq4xtrUXqAVvupDiZ1WB1ew6LhSJDDr3DMOD+UVwas6sI039I08oXPThi/GzE6AXWfsrnGte9zfBm7Tca6n65tHL0tMHQIawc0SD3Pi0DhDdVKUTU0b4zDNYVAOxoAB4ZBsvmnq2PTB4NpcqE54ljFyvRda21zkXnCNuWkTCDOCgiV8i74n9YMWjLNxqh9tGyyBy+ALWtBvGo395oUuAhd14e5v2hgvY+bgotZxFlzGXtmJMaqdbePYGEwyhb5wmAYTTngALhozuuSiaQMDb2xoISMmOmRZ3+Na8B1vbUxCJzRuKsv6tskPznDVX/Q9Dq7vyG04fU41JiuTrh/3PVkyXryFK92YRuf4DVyBIbhtAmHOlDzS/br2wtjQBo/tj4ixjMNr3HfoSQ7DXpDPOrzlxI1RkOXeNvZC0OJ+singm8VbuIW9iI1uTfFFg5jooxtdnDZ2/aMHuqB1W96isXu12Cg7bex+w1M2DXw6xDY3bXQHvuwFuwxXdJ7U/AZPNs219K9Jozvkgb1AX7I8C57+2WK65l54Trtn2njYVbTTFxmdRWNw4Io+6EQem7bwBfqCcxNrqw8AAEAASURBVB24rnGtRpZLINyU6tOvzyYQZgQcg+JgbELax0ahBQ+MmJ3zDCBloZxVBY3vGDzGioNhSDYMd7O2aeA6gUG/zqxk7DUwfacFTN+hNUMvyLHphWJWx5duqPGHIwcXPDhEAFGFqxv/B1xH5gjQbM5zf5vG+AkOGVMbs6pwo7+ACW/OxW7d4E+bYImTYDjxliG1a5jRH8U16AxHNPYyWUBn1zZtjK57BVoRlOoj8PM5YPpOYEamOAZ0Quc2TRDr2DR9ox1aa1V8A67vyYAd3Iy9DXZo7PemTUAqwBMAwVe/gWu1v/jOuOyS55Dd1yYgNUa8RS9w8Rf/qri6JvD1vSCYzMPTznOy1bTFJId8oJ0+qzCiv/iOvUBfdGEvntPizFd9CvjpLTycrRv2topvwPQdmTLBIfPuwyPfN2144376inazeMtOVe1FG701RvojwMNb9qIKN3AIfL1bXSDz6CRJ0Eam6A8bFfYCz9AsXqNwR+0FvTWWpo29II/kA7/YAXJThRu4+g5vw07xXU3tBbtogkPnwYJn2EX9Bw4BEz4mQeSJzrpPH20bGtNdNg/s8AUBV7+Bu++Mka6hD96iV9OGt2yNIJocz7IXeGts+EGW2kxgm45xvV2/1OcIN2EGAX7f+96XDgI/9NBDk6A2uX9Zrl3Jgv0mKRsFkRVgUCljNIaJsZAZYXApqKBjwzAQripwXD/rXd+CSgaGodc/J8vARH9hlDgB4wLXNR4+QqHjulmwRn/nxAX84GoCAnDBMw6NIQCXAXLWMWfojMu2wRJ6MqIRFIDDwFRpbAzgMnybhmc+CpgcNQV229k4uGChH8OLZujuPejnd7xFE0EGZx5w2xh8OJEp/cNDUI9uxhL9BewIMEzC3ONMbs6tTdMn3qKxYAQe6BZjiT7hSu5cw7lxTB5mE3SJ6+q+w8m9dANsPCRT+F2VKXSGr+P/OHI0jgC8LqzqdegJZ7zlsMCDr++CvsYmcCBL5Bje9JZMreh9tcfZn/UbuNEf/YLpu6osh0yhSeg3uG0DYX2jsQA49BZc+AWurvEZjdEDvuzEQQcdmHQtrpuN5cNXuIee4hdZ8b9ABK19hqeG5+CSKXAdm+YBR20DYbz1orNwAUcgVKUx/lXthWDYUZZgo02b5r5tttk62QJ2CM3RGL5gacFbNHGcmMyhY8jAro6vLnz3hCx74BCZmmYvyDs644Mz9dvYCzDRk31CX32t4L5SthN8ZSuMhx8QQJJhR6ehSdsW+gMPLw386JNcGV/wFo3pLVwF/e5v09zHFrDzJrBgwBk8Lw3e7KYgmC/wPb9Hb11fWncUyCYQJjCeYmXW7slxFGu0EWYBlWDAdYwGgffyvz4IWAgZQXW9+xg6vzNIjJzvw2AQWE7Bu+8pitbGubnH2CmjgIQShGKA7xUBMANkrB4MQkFCeUfxrvO/fsxwjZ9BgiNnAif4o1XMho2LIguCLU3F+OrAGb0GDWWI4ARXzobBC3qjJePI+HkJlMA1QQg+jfZZ538OFb3A5UTgjd9wQWNwGUbnpZIXwQpnGsuVdWCMXmO8nArawUkQAQ64xgJuBI5orOGtl3vaNo5TZgl82U90xlMNrfGZMfYbmUIb529zpvM0POQYyQ1cwQArGqeGDiHnxuhR4W0zhtFv0JgsmbCRZXyFM1rTVbz1G0fEoQn6ZabayrL7Qqbg5AUOnqJD2BKOFL74zol7tQ3Q4KtvASYnSlYFCMYSTpTeorvAEW/9Ro67sBcyU/QGPniMtwHbZ9+BSW+Nkd4+85nz2Qt4mmCFvUBjDW9Db0Om4EymJEborbG1bXhUtRfgVu1FyFTVXuAtmWrbwHv849Xab5v0h36SG76B3oJftRd4HvaCXW3b2As6SD/p7ai9CJniJ/AWbeaxF/giyEcrPKOTcNPgia902G/gsceCfY+wNtZ5G9lAO7QkO2Ev9GscaI4GziwWJ+Ar/aHvbRvexmQKXvoftRfoQH/oFzzZKJP1eXxB2/Hmft+jhgIwextsD6hAiN797ncnB/ee97wnBXXVYUOT8bzuuuvSI5cJNyP5ile8Is3uPIKZQnqAhu81szDn1Vo68ahJTsxjRQktw+5xzp7+BrZnhocic7D6iYd5VMdR9zNjw9B41CXFZxBipsrJMPyWsIzL0h3F6qIxOp4aRekZBuNgVNHPbz5bJvQwkzaz/0ljxBvZOY7EZw6e04M3Z8sQmAkLlBjNeZxajAFODJ+nKDE2jJx+wSUfAkfGKgzQPAFLwPTOuILrsaIMOxwZVbDBNS4Bfzwydx6nVoVLZsiwZ9bjLX4yquB7wVtQSKZMirpqcKJ3+MvJ4CW46ECWybXMmUywIKerxpF4Mpdyn+AnWtJXvAWLY4EvmeqioSP9Zw84OC36FljgsckjZ4rW8du8sNGSvfCErqq9oL/4jsb0VhYN3K7tBf6Ci6/6BteYwl6wh13KlEkOWyHj6/OovQCX/RWwdGkv2H4yFfYC39A25Iu9IE8mkV3ZC7QUkCr9Axc/R+0FH8Ve0KMu7QUbRW/Z5FF7gddhL0yKumgmch7MQWfZY7YCPmCjAx8b9hj8Lhva8gX0N2wE2PGZvSDHaNwVbPZPsHv99dcnHrP9EWCHvUBbsszfo0dp3VNg3QTCsiJnn3324CMf+UhyfowyIyozdMYZZww+8YlPDD73uc8N3vWudyWHjNSnn356Cpo9sU4drACbwTXrZiA4vX/4h39IAcQ//dM/JYHmBCiKRzHvu+++c3OM0bv99u8PXz9IY6UkAnWGz6y9K6M3OlCGHW0EEzKmAgfBGaVUC9lFIDoK0/+ySAwRw6tRfLSH8zzZ2NTZhD/4SD4EpwJEsKOOWNAiQFwEvuAy/ILTakNj8snBLqKZWHCs+OrFqKMx/qLzomQKbwX+3qMJFjhTsryIhsbg4S1acy54C1+BIRovgreCQHKEvgK1aHgbG3ziuy7f2QuOFb70l70I3q6GvQiZQtOnP32nhOtTnvLUhdAY3dbCXuAte0Ge2Av8JVN0Fn8XZS8EgwJxAZuAKZoASVKiq+As+o139iIytfjLPrAT8IV3V5OqgOed7PJ7P/rRHcn3gEeOvUw2FtXQGD/RGa5hL9hG9oI/WoS9EOSTJ7ytNkkuvF2UTa7CWs+f100gzPErnTC7O+WUU5Ih4TDe+ta3Dj7wgQ8khf7rv/7rwdFHH50encyhfOhDH0rB7itf+crBZz7zmSSof//3f58Un8L8+Z//ecomu+e0005LQeOb3/zmlGUmuF0ZCGPxYvwoYbwEp4tqYHkFXHDA81qEIQg8RmEG3MA5rpvnnXHjzARBnJZWheszeIHrIvEN3lbx6RKuQNCkBpzItsKvii/YAdP7otooTHCqdO4CLlw5FVnAcB5VuD6HLAXOXcAd10foDpjRAmYXMkWG2TN9VYODkKkqrkHnGEfX72B5Bc76h2vg2wU8GUI4C+4lJLRRmL4LmF3QWH/jWhWuz0Ff713AJcMCUD6kmlkO3lbHFHSuftflZ/hV8dV30Nj7vE3feEuWTdbg/Jvf8HkPn2ce8Lqi77QxV3H1OXjbBa7gkuHIdq81b6fRYT391uwQyR5TxozumGOOSdmSiy++OGWmLK2F0JtpqgNVEmAZQjbHUp+lRAbJtbIA733ve1NgQYBlSy1XWdLVj3IByzZdZ/IoYFdKWJeFYXDWAm5XE4hxuHIwl19+efqpWgIAX3CD17L+vlt0WyRvBcGbflteY3OHl1blrfIfgYXMzqJ5HTReFE0tM5qwWj7FWzod+OItfbbaoBxikTIW+C2SngIiNkkZE76qmYwWMsWWySaZAC1yLEFj/F0UHImHj3/846kUDW8j8A+Zkr1js5WqLWoMQd/Ad1EyRG9jqRxvd911182gg7c33njjYMOGDYkOi8a3ai82D6SjD/ymcikrtWwu/4muj3rUVsP3leMNZaPpdmRkOwI9sZuQqYkXzPEDfJUvScYoZakGwviI90pv6POiVqvmGH62t84/nesJaSx3XHLJJYP/+I//SM7DEofAlSBykJp6YUppWUSNkqUmu8k5HQJKML04WpnEgw8+OAXXsk9+53AEFaUtJwUYoSuvvHJw2WWXpaU+PKs2/zO655133nBpbuUc5+rvffss6PvsZz+bJmuyEKNNVuKaa65JdfA+97nh7ec///k0yREU0dlqg7+yDJMg+t33pqzLvgZ7GASJo42jNeEXKMu09bnh3bnnnpsCCKUQeF1tfldedNVVV6Ul9epvffwsEMI7PmjURsHdqsell16aNrea2Pe58b2f/vSnE+8kIUYb/EzolCKa6PS9kVFxSOwNqeKDt+IPJZps9yjvq9eWz91SYN1khBX8O2NYrdHJJ5+clk1ldGOzjlmg2TfnQulkfwXBNmjZres+zlW9cDQbYgTUsUwX35f35aSAIIiDUSZTzbLEaAUPMi0c0De+cfNwY95Te8tbmWAG1SamSSsUgimbQ9Q5kvPIsgU9+vLOgdgAKDgQBI9zICbCVm/gq6ZSdqmvDW/JsiDXSte4xtEKDtk1NdjVzNO465f1O8GR4MEkR9AkEB4N/AVIsuMCSLxVu9rXBg8TdUeX4dvoBJUPYp8EhzZsxx6GPuKLl7KjV1xxRZqs8bmjE1g+Gk3UvNNZe2P62tge5ZnqgPFuNPAXi8DV5Bbv8bbEFqvD7ewywgrOzbjOOuustNxiyUXwox44NoD5zIk4AUI2geCZecroCn4FCAxQOBCG1XKcAv7IKBFqxtn9K0s5D59juTqsK1CaUEAQRC7MtEcdqX4EUwyxQJicmAwxVL7vWxPocy5wgAvnItNQbYJFci87KmCaRJfqPcv4mf6ZkMoq0U+4wtn30fCQQ7UbHY8FGaNOKK5d9neTcnbH0jkc8HE0WIqJgeCfLWMTx8n8suMKL0GwchdBk4avozop6MdbeAoQ8b+PTRBk8goHQRFZHuUbfscJHXyYid/oNX3AnT0Km+yzCRsfPI63Akc2zQSgr3obiQm2Fr/wcZRvVm7QhNx7Hzcx6ANv+zjGbAJh9TUbhjVTah0ZiGuvvTYFAoIBwY0Z2Mte9rIkgByJ7IHAV30vBaOE+lCn5F1t3XOf+5ykoE4rUAZx0EEHpX4F0LLLZqhqefSjNs09i6ob66NwLcOYORPBA2dqAsQAMboMKp5H4zwZKUYXDwVL7hs1VnH9sr5zjAJDci/DTZbRgGOtNkESfNHBPT73bekR/wR69NH44an5Hp+j4a2SF4EyRytwIgujTjeuX9Z3gZ7jFNk2TpIcw3OUt5FF8xuewnd0IrSsOMa48ExwK4lh/OQYvqONjNPZCPZ9VvfetybQkwnmq+A0Dlf8NHHlu9Aj+Nw33srsRxBML+Eyrpn88M1WrNgpwST+9q0Z84UXXpjkGR54S2er/scET9bbJMgm3/jc97KmvvAqm9IISwhqfG2EqTpBjFDDK7vrGsErwyG43TAMnBkTziJODyColpIdgbbTTitP1XKfY0xOOumkzRlDS4021/lesOTkCLXDsVO9LwKQ8zgFRvh7/vnnp+wnAxQOhhGqBrlkgOPlgJW7MNaybkoG/N+HFpkEZQLwjiB43Nhln1yjoYWgnzM2kexDwztOVKBk0lLl7ej4BfqCI7qNJiYBAg7lMSEPo/cs2/+CI3w1wREgwGNcIO87gRIc4YZOnKsJO/vUh/bAA79KAY9lZMFPdXlYYFC172SW7JJhNBE0CbKcH+z/PjT+6IorLt/sW4wbjoKj6iTHZ3Ir6DdZh7OVSWdS82d9kGU40Fe8pZPVxBHbW5VpvDfBjWAwgkN+tw+8hQu9tRJp8gqPwBdvvaK5LjL8/A06yfzjbVfnYAes8v5ICmQTCBMwJzx4TWvqbqpNoKMRRNkWm4tkeAXCERz7nTF2RqTXaCO4ntZU2nJRgCHiLDSbGPFYcOzl+wiEGSTOhYHWOBSGlkP1VCpyUHXG6aIl/AMPDpQ8Gq//4eo7QWA0AbMgX7CvwTVKJDiZPtST4i3+GTv+cBzwhG98hhsayP7KLPkdXdwH/8MPPzwd19QHpwoPzUQ7cIArXELG0QRvoyTG9XATTAgW2bpJ9eKuXZb20EMrjxmHpw3LwU/8Eyx51+ANLxljtOADyDk9ljFf1NnUXdPpwQfxduVx2XAIOYYf3DX4mQDhLZ7TcdfKNnop3+uD3sLDC2/JMhzjO8kInzXybrWHXSLXbLIJA96a2PalVhiv8ClsFPzwF34hx76Dk0mO71zvxWaxXSY51VgkEaj86ZQC/Zgyd4ry+M44ECcKMDaeHqPUobR+U0AQwGC+6lWvSkdpMag2hNn4yJGEIWJgZR9k0XyvccAyEAxvNYhcZooI9j3ERTYsgmFHiJnYRSBl/Byn4IiRRiNOifzL0Miw9aEZs9UdKzF4Chd44i2cwqHiqWBJptA9fuNkOBgZGPf1oSntUp5logIPLw4Sz4O35BlfybImeCAHginfKQ3pQxMgsb8eySy4gxceW62QHcNDzYoG3rLZeBoZUUGFIKov7YlP3H5wxBFHpNVFuMFf9p4847MmYKSb5BZP4QpnEwM2ipz3ocVJTMoMTcrYZLIdNjlwoK9whR+aeJEDNrkvvMUjuB1//HGbN7UKaG1wJddho/gXvIVb+B9855es5ngvbbEUyCYjPC+ZGB3GiMHlYBnc0vpNgWogwFkyunF2sAAilooj68L5MsCuFWTIKAmUwmAtOzUYT85C5htOatYPPPDA5HCqJQ+yZXbXc6QR/AuYI2u+7HgaH95yjgIEjsL/jkPEUzrspcVypBImuLoWrhwvXveFt3hFFvEWzvCxCgXfWKWCiyAwcBUoCqqsgglABBV9aHip4R1+CQ7wNiZ1kdX2m8CCLOMt2gg8lMH1JTCEZ/DWZBSPlffZtI23dFjDW3zfMCzno78mNeiC12hA7/vQ6Kwm+COPAkI2KnhLXjW0YIPJLj11PXrgdUz80oVL/gdvZfvJJh7hLb3FOzhrkR0mt8FbPH3OcAXH/fxWaYulQAmEf0tfgtfFI5EXy67Se1MKcCw2jzGmJjd4bEMkgxsOV5DoYSvqsZw2wokywG95y1vSdX1YckQXBlPmT2aX0d1ll51T3byAvmpMHeQOVyctOAVF8AB/34cjakrntbies8RbARGnaeMrR2NCELzFRysC8HU+NIek7MnTJTUBYh8a/skO4a+2++67D4499tiEd/A2AkYPBHLurjpM3x1//PEJfzauL80yufIV/JJBO+qoo1KCAl+DtwIF/JXZt2GSPOD/H/7hHya8+4KrcaoHjY1j6rk3btyYeBs44J3jPeF39tlnp5IBkz1HgQqO+5S4kflUxx6T9ciGB67e8RVu9NuRpoJFSYxXv/rVveOtOm4+hdzi4SGHHLJ5og5XCQgTPas9n/zkJ1N2mMzzP4LlvvgfuPS1lUC4r5wr455JAQEC58ihCogFQLJno8GPwIkxEhD6zbVa/D8T0JJcwFkIlNTVCX533XW3lEUxvAgefA6nCWffyzZxtFZF+tKMWeaeQ/VZBs1KjsCv2vzvFcuweCsr1Sdc4SMbaAnchE65j9WLwCF46z2cZiwl0wH8jmurtFnWz/gpcLAETjfVv+JtZBNj3HTVi+zC0+QPr/tSGxx40Fvn3MsGCnzgyvZUG9zxFn74TI7h7DqTwL40PLIfQwkP3k7ad4OnXibm5MELr2WF+9Twlv/hh2T3ZbRDRwMPWV+2mI7jafgffO2T3gY+fXwvNcJ95FoZcy0KMEJqCNVfMTYywbFkPq4DRrovy8fjxm+5VF0do8vB9OlUhHH4TPvOsjnecqqcpUw/x1m3cTh9arKFeCuLZgVDsBcB8Cw8+oarTZx4KzAUIHjsbl1c0aJv+MLV5FWwZ7IuYBoN+ifxmM1yX1+aTL/NjTL9glplAgLiOg2eESTWuX6tr8Eb+zGc0CPIlek30anL25jsrDUe6wF+CYTXA5fXKY7qyhzIzwgJgC0nj87GcyKNrJIHY8gaTcq05IKvbLDlZM5G5sSSMbxzbTLfJjqCfXK8YbgcnmtT2wxfE1lBvxrSJoFw3+jiMedwxlunHkVdcN/wqDNekzklPvRWpj/n05YEsp52yVbhbdT016FTuWZ1KVAC4dWld4G2ShRgaG0ccjawDJGlc1m0lc0LqzSIVQQjw6I2GM7qywRKuQb9AiSZ4Fg6d0pGk0zLKrKlE1BWKeAqU6p20qaaKG/pBMASdYK3akg3DUt8lLP06fzjNmS0eiNrKNNPbwWHsRmwTX/LfI+EhMkcG0V+lQnQ2xwbn0NvlYDwRUqZ6K7yjtKWjwIlEF4+npQRdUABgaEzN2VaLL05Ei/X4AG5ZIM5VMuHjK5Xrlk0vBUoybTgqWPF6i6vdiBaq94FZyrw51BlvjnUXHmrNhhv8VhZhFKBukvJq86YOQHSVRMcWVKfZfqdZpIrbwXBZJnewlNyIlfeCvo9wt4KHRxlg9Vz58rbOVVhzW8vgfCas6AMYBEU4EgdUM7ByLRwMrnOxmUfGFxBhCU4mZa+HDjfhvfqDAX+8LaMnHOwhD5ORcBbjlSmv2+bwZrwWMBvZUPwYNOYYCnXRn7jSYHqZZVF9GnjW1O+CPhNckxaybFTEnJtyvKUbtnLIOgXCOe6QpcDD0sgnAMXCw5bUIARskEujiOK2Xiu2QdZb08hEvzLFgogcg36LTfabCOzBEdlEXH6xRZCkMk/lpHVVFpCFzxYOs+1Fvr+++8b8vZ/UoYUTwXBuQaGJug//vGdqXRL9lBQOO5Em0zEONmm2BRoIgff0ZMxcsE1yvLoLT5LTKh1z3nVqu+8K4Fw3zlYxv8IClh6k0UTPHCknmKUa/AAeQZXcKg5KSLnpXO8FQTHgzGcfZzrBAc/LZ07UcCSqrIIDjXX5dU77/SkuE1Jb2PpPNeafrXQt9zyzVQzK0BSC81W5cpbSQmlW5IUVuicAZ2r3pqsW7EyiTVZd6KNbHCuvGWn+t5KINx3Dpbxb0EBM3DLyOqzLD0KCgWHuTpUO5OdLytAdOakrGGuS+d4G0vn+CnzzaHm2gRLTk+Q6RcYqvvONYuGt1ZxBEuCB09M23nn382SteySJXNL5/FQCTYq1z0MeGvyKhgWELJRVjZybHhrU6uyPJlhNsqKZK4rdLnwsATCuXCy4JEowMGol5VFUy8r08LB5Dobh6dsMIdqCY6D6dPT4ZqIrSzwpmGNoYDJ0rkMaa51dxEYOoNUQGwpWSYt15WNyPTbUGUit8LbJzQRj95ci5/qZfFWUxuspj/XpfPQW7X9avpN6HLVW7w1WRf4s8OeJEeec81+90bpZgy0BMIzCFR+7hcFPHkrggdH81g6z7kpAREMM7o2BOa8SQ6eSgVieVUAkWuTTZIxVP8t+I2l81zxNXlVQ6peNjZA5oor+bViFZtbZQxzzQbjoYk6/lq9skIn259rE/SzUSZ2gn3+J9cJTk48LIFwTtxc57gIHszGbRwTPDhNwNJ5rtlgWWDnJFs6lwm2vJrr0jknammVU5Xpd5Yup5pjs7yqztDyKh4ri8j57GC8leWXDXaGruXkXB8qgbf01WRd1j/qZXNdxcFb9bJ466FGeJtr6RbeSsRITvA5Nj8qAynZ4OW30iUQXn4elRHWpIDaLEvnMoeM7p57viTbMgFGV1BoiZWziY1UudZCx6NZZVoE+wJDAXGODT+Dt/CT+RY85MpbmVFHpnkXGFo6zzUwNLGhs7LfMoWWztmqXIMlKxp4Gw+DERjmqrcy/R4Gg79w3HPPPRNvc03E5GR7SyCcEzfXOS6ywTaOybQoEVAqkGuDYyydW1aV/bZZLscWQb+6O3irhc65LEKd+7XXXju4++6705L53nvvnRxqjryFk+yowBCfTXDIcq7NRM7ZwU60MaHzoJ+cN1LJjlrJEQxasaK7uTb6ajWS/joBZL/99ssV1ezwKoFwdixdnwjJojG4MsIyLCv1sjtlSQwBg+zD9ddfn2oqZdByXzqPOkPBg+x3rrvOBfrqDJVF4LMJXc5ZNOVMJjgyhzZAWjp3RFyODT8FS+qDNTKsXjbXTD/eKnkhzx4YAtdcz4XGW+UfJnUy/QJ+slxaPyhQAuF+8KmMcgYFOBhHL3m3jOxBC7k2DkYGzQYUmRabbXJ1MHjoPE6TnMi0WD7PdbnR0jk5hrMmG6xuNtcmUMJbm+RWjkzbOVveqg02UWej8NT5skpAcpVlvLVxDN72aqiZzbUEROmHCZ2yCJvklEWUTXL9sVolEO4Pr8pIp1BA8GBZiqGNOsMpl/f6J0HDlVdemTZSyX7LCOe861y5CycjYOBQnaCQa5M9u+aaa1LQ79STAw88MOtA2NK5CZ2gQaafLOfaTG5uuOGGpLd4qywi12wwHn71q19Nm5fZJk8JZJdzbXgrOWFl0opG7qcV5cbHEgjnxtF1iI9MoUBYZklmVC1arudUygbbmexBCz7nfr6sWkqbbSydx0MlBP85Nvy0YcwuexM6qxo5ny9Lb01yYhVHqYDyiByb82XpLRvlRBulTOthZQOPybAygVx5K/iV/TZZ53f4H7aqtP5QoATC/eFVGekECgiCYwmOc7GRKtclONlgBpdTlU2yIUNgmOvyqhNABA9KBtTdcTK58jaCfoGhDVTkONfTE6gyvcVfQaLA0NJ5rnJsk5wJncwhfbV0nnM2mD1W1x+TdcFwrnprkm5CZxKrLI/e5szbCW6411+XQLjX7CuDRwF1d4yu4EGwlPOB7TIsssECYktwMsK5HkdkA4pyF6eBqKnE11zPlyXHgiUbqQQP8FQfnHOdIVxN6ASGyiJy5q1gSXBoM6Tzr1/84hdjebbNRl5HHjrJRllErmcHY6DSHskJgT4bRZZL6xcFSiDcL36V0Y5QQPBgWcq75Sg1pLluLhL8yo7ecsstiQqWzu3GzjX7gKeCB5kWQRInk2vQL+NNjuNhMHirjjTXLJqstxIQNdEmrzmfemLyahOVDHjUy+YaGMbJGDKkZFrNt7KIXPUWbyVh2GW8hWvOG5dH3G82/5ZAOBtWrk9EzMQ5GHVaMi2WznNtjC4HE1k0u85zdTB4iK+yLbF0zsnkvXT+X6leVobUZptcJzh4K+AXPMiQ7rbbrqleNtegn77aSBXHiNnsmStvrWbI9OMtfjrG0mQ9V731AA0rkp4EqSzPCl2uvKW3ubYSCOfK2XWAF6PLwVg6t0nBeau5Lq9GpkU2WPCgnpLRzXXp3MTGmZyywZZXZfpz3YCCnytL57elgEHAn/OEDr7Ke2T8ZUZlDXfYId+HwQgK2Smb5KxqyH7n2qxaOfVE0K90ixznukmOHOOrbD87TG9zPvUkV5mFVwmEc+Zu5rjJtMgY2mRkxzkHk2uGNJbgZMBtoLIhQ4CYaxYtaiqdQSp4sHyeK2/Jr6wShypowFsPDsmxmdDJoimLEDQJlJ75zGcNZfoxOaKbMoX4CmeZURlSGf8cm8QEm2yyjs9qgyUmTABybPTWqhWc8ZaNypW3OfKvilMJhKvUKJ97RQHLq+qzGF3ZYAFTrk1NpSVHB7czuvvss0+2QTAe3nzzzWl5VabFI3dzPoM0nkgl6MfbnDdSyaLddNNNaRXHErJgCc65NqtVJjmeBBmbW3MtEzCxEQQ7GcNkXZ17rtlg8ioJY5KjdEsQnPMqTq76GXiVQDgoUd57RQFG19I5o2tTkWAp16VzmZY4okfwIOCHb67ZYLyNoB9vTXJy3YCCt7KFMksyZ0pecp3QmbBGsGQjlbIIqzi5BktRumWybjXDHoacS7eUQ1x77bXp1BNBP946ySfHhrf8D91VlqckIueSlxx5WMWpBMJVapTPvaGA80eVCdikwACZkedaLytTyJnKHHKoMg85ny+rpjI2yQkeONVceatOFq5RCy1DmmsJiGww3iqLEEjA1eQ1181FVnHYKJN1eKrpz/UJkLKist9W6WS8PfbdJDZX3gr6Zfrpr7I8exhy1dveBAVzDLQEwnMQr9y6NhSQWZIxlCUVEMoYOrA91wZPS47qhJUIHHDAAbmimspcvva1r6XggWNRJiAQzrUJgp0EYnOgbLAAItcmC3zVVVelmkpHHDoZI9dMPx4KCgVL7JXJes7ny8aJNibtssD7779/1oGhCY5kDN4Kgvmg0vpLgRII95d363bksg9qSNXLyhhalsp1c1EsnTO8luBk0eCca8PbG2+8cRCb5JSA5MpbGVKBsLIIEzqBcM68VSd73XXXpVNPZEhzPvMbb63gyPQL+vE21wmdYJAtprfwtjon8M91kxx8rWpIUNiwrJQp5zr3XH1NFa8SCFepUT73ggKCB5sUZNFkWXLeSGV5VVmEpzQxtjKGuW62iZpKS6xwFBQK/nNtHClZFvRbRibLufJWNthkDs7aXnvtlTVv1Y6qIbV07lgtQX+uZQKywY4Rw18lTJENzlWW2afbbrs1HREn4MffXHmbq+0dxasEwqMUKf8vPQVsyBAgyrTIBuf6lCaMECh5uhqnIqOU8xKcic2Xv/zlFDwIgD1iOGfefvvb3x542fRIjh2blmtz1NTVV1+davpN6DwMJtd6WTxUumUCi7e5L52rl1XeEydjCIRzrenHWxOcO+/8cQp+rVipES6t3xQogXC/+bfuRm8J7hvf+EaqlzUbtws7153JHAtnKhh2PiWjm2tNpSVVDtWDFpRHrJwv+8xseStDqn5UdkmwD9/ceQtfzVKyUoFcl87pLZ2Now6VCuTKW6s4sYdBVhRvreTkmiGlt/wP3vI9EhO5lm4lZV0nf0ogvE4YnQOagiVLcJYdfZZBkyXNdQmu+sAQeDqXM1cHI/i1uYhTlUUT9DtWK1fekmHBkmVlvLW8mutxeE52kTGEs+DXJjmrObnyVtmWum8BsSA456VzASHe2jhmFUfJS64THD7UCo4SEMcAslHK8nLV2xxihro4lEC4LqXKdWtOAZsUbrjhhvQkORkWWbScZ+MCJRlhy4ycqQx4rk3QcP3116fgQb2sSU7O9cGcqcDQyRiySgKmXJtgyUM08NjpLgLhnI//s5FKpl+w78i0nJfOHQ0HX2VN8Nxzzz1zFeOElw2BEhTkF29zPbs+ayaOQa4EwmOIUr5aPgrIAMsWcqiyhzEbzzX7oExAsCTToqZSDWmuNZWcqMBBXSU+Oxkj56Xze+75xTD7fVs6Ik5gmPOpJzJnZFiduwmdVQ1ZtFxXNgT9sobelQiY5OT6wBBlAiZzMuDssLIIqxs5NkmYqIW2iiPoZ6NMdkrrPwVKINx/Hq4LDAS/jl5ieC1FOT1BVrjr5VUGT+bK5h6f16pZWlUqYFlZLZrsd9dLcGjKmTHsPq9VQ2uZFsdNybTYJCcb3CVv1TLiqxd817Ldeuttw0nOd9Ly6u/+7rNTANE1b+EnCDWxWMsmeCDHjhEzkVtUNhh/11KGg8YmrwJD47FJblFL53i7lvYJvngKXxuXTdad+b2ICY6JstdaNrS2Se72229PdinON+9ab8Fhk0tbXQpss7rgCrRCgXYUYAjVB3N2nIuMcNdL54IwJQgx4+/ayDXBXFDoyDTBg5KIRZwvK3tjeU+mrmtaNsFVcKoERNCG/sbU9dI5/GTnwFjrh69wpjKGyno2bHjOcDzdZ9FkrHbfffe0ydJGy7VqdMnyOV0iw3jb5QQHXugo6JSVXISeNKGdlQ04CwyNyXuXDR3pCN7iMfvQNT3rjtexf8oEwGeT99hjj7q31r4O/SQBbCiVEFgrmyxAVaomSJXht2rV9QbIyKrrG85d28DaRF+HF5ZAeB0yvY8oC9YYf0GTJSnBTNfZBwHDoYceOthnn32ScwVzrRqjL3sGXw5mEWURsupq3DgyTnWtmjpZNcHGoVZWjXDXDg+eRx55ZDq2axErCU1oB0cyBkeB4XbbPa7J7bWulbFCR86VLK1VMwGBownsoo46FIQdccQRm89jXitcwRWI77fffkO6b5Pw7XrpnMyQnQiCBYprFQibgLBNTu3ZZZedOw8M0ZOubNy4MQWgJu5d2wUw6jQ0VvrhqZ7bbLN1mox0fVoRWdG/xAdfRHfWird1aJLTNY8aznTWbv03J0ouABeM+dWDDw3uuPuBwc/vfzB9xq3tHrPV4EmPf/Twtc1gu20XU93yi1/+enDXvQ8M7v3fXw/hrojI44awnvSERw+e/IRtBo/e+lGdY/zr4SoueODeM4QP922GcJ74uG0SzO232zotxxFZwUxXgeoDv/5Nou9P7nlg8L+/emjw4EO/SfhtP4T71Cc+evC4bbcebNU9uoMHhnT9yRDXu+59cAj318OlzsHgMY/earD9kK87/s6jBw898MuUXRIodllneN//PTT42X1DmbrvwcH/PfBQMraPe+zWgycN8d3+cVunMXTO3GGHdw9l+Kf3PDjk7XCpc0jzrYe8fcIQ7pOHMrX9Yx81zJL+PGVsZX+6cnjgkOWf/laWH8LbbbZKevP0HbYdPOExWw/x7x5bMnX3kL4J7hC+9tih/uww1NunDPXngf+7f/DAr/4v1Rh2NckZZy+2GgruY8nUkLerYS/YKXINLtuEt098zG8G9993T6KB4LyrNiTxw/bi/hV7QabYCzTeYfi+iDbVXgz19te/WuEtnaW7XTS24VdDhNnGnw3txS9H7MVTh3DZ50W0zfZiyNv/396XhsdZXWkebVWSatFe2qzFlncDxmAwGGzMkoCBQDoJIXQ6T5r0j0nS6Z7u6eGZP/nR+cEzz/yYeWb66U4nnZ7QprsTloY0dMJmdhvbYBtj412y9rWk2kuqKi2led8rfXZZyKX6virQBO6FsqSq+r773XPvfe97zj33nATwkeSsFPOG60BpUVISsXHV3+XlubN+Y5pKmHiBtkaBF5Q5+9ah6p1bgz4NTE7Fi3GsRTML8GImEZXpqUmVUa6oyJYTcbNvE1jriI3EZa5BLAZe1LgLxQ7M0uXTk4Amwp+ebLO6MyfkcGhSzg3F5J2TQWkfiYO4TAkBwlNWJBtXlMqNq92yCT+rsNiQMOaisN4Bf0I+uBCRo50R6fdPKpKYJ9j+Qr3XtDhl21qXtHmKVb25qJP3iAB0+lDXiZ5x+bAzLJ1oL0kxF/G2umK5bqVTbmhzyYrKYrXA5oK8GGDbMRKTI2jvkc6oIqWxxIw4SwpldW2x3LSuTK5pKpWGSlvOwIgyDoAknRuKy4FzIfm4J6oIMQGxHER0XaNDdqxn3zqk0pU7ECSoDwUnId+oHEed7cNxtbAWYEVpqLDJhkb4cLY61djimMqFjNm345CnF2P5YHtEDndEpGc0LhMAe3tRHvrTLltWumTbGmxv19gVMeY1uSgkwF2oi+39sAtj2ZdQC44LfeuBgrNzQ7lc2+KQpmq7Iv+5mEFUoqhgXMCYOowx9RHGc9/YnM8ficNG9OkNaOv6hhKpwzNQ8clF4ZgaIV6gT985GZDz+BmamFJjtgL1rq0vkRvb3HIVxnIVSBP7PBeFSvJQIKHaerQLYwp4xXlrw8JNnLqm2SE3rXXP4QXqzVUhXvSOAS96o/IR6qW8DbxYhXlLvLgReNFcU6xkkIuxbODFBWAT+/YI8NGPvo7hWRwGXqwFXjSXSiPmU676liRwFEo6+/RwexgYCZcE/M3nIV6sbZjDC8q6EjLOlZHiIl5Avie6x1F/7CJe1KN9m7EWXLfKqfqWRDxXhXjR55tUeHz0QvgSXhQi22QV8KLVpcZUrvGCimvXaAJzNirH0Ld9xAsYClxQqGqAwwovgI/NOcQL9i0NMGcGYnLwfFhO96FvQf5ZKmEQ2djkkF0by9T8pRJtgwx0yb0ENBHOvUyzviMnR5c3Lv/09og8d8SPQy9JcbqLldbNm8djOOQUnwLYFskDN1TJ17fVKBKR7eLGes9iIfvbl/pl39kwyMqslDrsUgSLKMtkAlbpxJQiDo/cXC3fvLlGWZnUh1n8wwXsrVMh+fUhn3zUHZU4LJY2OwhgcSEOnSRhTZqUPPh2bmgslh/tbpJb1rmytuSRdBKAXjkekF/tQ8QCAFGRDb6yTruA84vg80goBj+tfNl9Tbn80a0e2QQSQWKeTSFh6QXA/seHftmzf0wCIC/5BfmqXi7WsYlJJef6skK5+9pK+YMbqxUxzXZxY9/2AOT/fu+AvPjBmEzNok5XsRTOtycO0hRH3S3VNvnmLR556KYaRRazJRBxLCQcS0/tH5H3QYLRlVJcaoNcC7BdnsRYngQpE1lZVyp/eqdH7ryqXFl9sq2XJPgNEMKnDozJMSzimDxSgnrZt0nIIhqOq7G1c4Nbfnh3IxZ1B6xc+arrrfYviQMVx9996EN7vdLjm5ofU3OWo/HopMxMz4gbpOGeq8vloW1ViphmO6bYt90g/MSLfzv8SbzgmErEp6Wxski+Crx46GaPNFfZsibDrPdE34T8A8bU/jMRgeFO9W3R/JianAReAKdWgLx8C3jxre25w4u3T4fkiXe8UOjGsYsgUgS8KFZ4QeszFA/gxoZGuzz21Ra5HqQ4W8s/SSfJ6KvAi1+jb0/3T1zCi/kBY+AF+/aPdtSgbx05wYtOrAXPHBqT548GFsGLKYXJdcCLB2+oVnjRBkUgW7yggkOF9edvDAEvRmUyuQAvsAYlp2akxWOXr15fIY9s9yjrf7bzltbn92Ac+PmbXpBvWF8xxgy8mAZecCznAZxXNpTKjxReVCjlOdt6SYJ/d8wnT2MNOjsYR49iR8ORihcxmZmalp0by+X7wIstIMTZ4gVlTAXu+cM+efYDv4QwvgqgQKo1CE9AvJjCHGquKpKvbK2SB7ZWK+NMroxeVnHu83jd55IIc+ucp2q5vcrt88/Kz4b1ZlsXAbd9aEL+1+/65aUjPimrcsrKTfAZqnBJXooVJzgalr72QUlEx2X3dVXyV/c2SBOsllYLLVm0Pv/giS7pHRqXutZaqfSUoV6HFNrmtP0pkOCxwTEZ6BgW2+y0fHtXnfyXe1dkpaWy3mcOjsrfvzIgw9GkNKyslZqmGrGXgJDOF4LB4IUR6TnXh63kIvmbR9tkxzo3CJN1UhoCUfrnd4bxGpGI2FGvR7W11F2qiBkOfUs0CAtxz5AM9AcBfA75y/sa5SZY86wCEcn3BaXgDMuTbw8r+bZsaBJnudNoqvrpGwpI3/lBENOY3LulUr5/V51shLXWKtiToHV5E/Ljp7rkvTMhaWh0S3VLnbiqykAgCmQWRCI+kZDQsE9GekclD/6cD4KAP/aVJnHBHcVqQbUgwSH5yXN90glrUnVDlaxoqxNH2SWf2GksLsGRIPq2X6Yn4vLXf9gmXwNZy2ably41e9CvT4IY+uOzUtdcLeUNNVLiLMYcEmxtJlXfRgIT0n2mT9Z4bPLjh1pl22qXZeKCpsIyOil79nnlH98YlgL45rasaxRPU/Vl4psIw0J8fkB8w0HZCav/f/pyg9yEeulKYKVQxh2QLfHid4fHpKwShwKJF5W859z8iI/HJRIYl2H0bSIyLndjTD12f2PWeMEdhR880Sndg8CLllppXF0H0pIyb4EXvkGf9HcgkUaSeFErf3VfU9Z48ezBMfnZq/0yGElKPXDK03w5XkwDLwY6gRdn+6QYePG/v7tKboPCQzJstdDF5R9Azv753RGwbpvCKWJjqevSWFZ40Qu86Atip6FU/vL+FXIzrOGFWfQtSfAeYMWet4AXtW5p2dC8KF70Ei/GJ+Qe9O0Pv1Qvm7LACyo47NvHnmwHGZ3AmQzgRes8XkCBJY7N4YVfvL1egUYLgwzw4oEmcWeJFy8e9cvjz3ZhNxSHorEONK6uF2cKXrDe4W6v+IFViSjw4pE2+fqNlcpVw9oMglsC8OAXIPz/gr4NT+UpvKhoqAZeIOkLptAMPo8EuBYM4sBcSNZgh/LH32jFWmAdLzhvT0GZ+sXrg/IijF3V9eWyYm2jONyOy4aot88nvcCLGbhjUJH8450eaatlMprLvqb/yFICBX+NkuU9/r+7nCGnnnnmGRUCi/6GuXZqX6zBJN5G2JNsDnENYuv6aRDDp971SlNLpay/aaOUuu0An0sjPx94XuqygyS7lHX4fAc0dkzWm7GNb9UqzO3cP/9lh5yCW8L6ratlxepaAG4pFtNLi0chQLCs2iWVNS4JgYgfOx+EJQ+HYQAMVhUAbh0//m/dEpzMkzWbV0ltq0dZWgi2LJzwRSC8ZTVOLPJu6QMJP9wTk+1YYOg7lW8REX71nlctLgm7U9ZtaZXKujKxFRcpUmjUXeK0SQXIWyGiSZy94Ie/7jQsIMVwEbGmcNAd4gUA/S9hyaqodsvGm9cDbG2qzrnWzv3rLMe2eYsH7yflxHkfXAuScn0bLBAWfQCH4GP+N69AsTrqk9aNzbJq80pxoG/zgPIkwSy0wLvQtw7IOAzLxLlOv+TDssftZSuFMuRY/uH/RSxkLGqbtq2TFWvqlIxpbTcKLSDOilIoBRUyOuSXd8+EYfF3K2u01bH88kcB+SUWNt9ssay6ulU8rTXKYsi28rmUjyPnT7VTyqvccvb8KIj6uLK8N1RcInLGM2byMwHrzlPv++UfXx+SwmK7bLhhtVTVl2H+oM55GfM+dlilqRAU5SXlZIcfFuKkrIO7BP13rRS6ujwDYvivIP7NLRWyaccmRfglBS9s2LZ3QcblwIsEdnXagRf0SbwNW65W5i1lGIjOyF880T6HF9e3SeOaWpBgKMwpfUu8cEORp4wj/pAcPQe8qHcoq5bVeUu8+O/P9Qi8t2Q1xjEVdu7kGHP2Il5gLLPefijQxAsqsHTtslIvDRzPHhqVX2PnKFnikLVbVkqVgRcp7VV4UQ+8wOGxc50BGecOSw3mMnzRrRT2LXerfoExVdNQAbzYcEW8qEB7k+jT011BmYBrAQm4VdcM1vs/XuiVfaeC83jRCrzgwS3gxXx7DbxwXsQLn+RjLlOZtFJ4X+LFf/3XLvHHkrLppnXStLb+E3jBviZWV9RWyBjwgrtNRt9aVTieRt/SMBHOK1V4Uavw4tJaoPACa3BlYzX8lIukswsKQCgh62CVttq33F34FXarngcJrmmolLXXr1aWb0O+hgxdlXDLg3EoEUtg/vhhhEHoUOxelWS5M2ncX/+ck8CcyeBzJg0GrH/nnXdUxpvPKmboiRMn5Kc//am8++67lqXJw2L0FXrho5CUe9zSvHk1tkqgkS4IoZiEtZLv2UtsIEw1UuAqk4PnwvIBfCGtFPrbvXIiKB/C761p7QoFNHkgwKwjdWJyQec2ZAm01uarV0kS1va/e2MEh6CSl30v02fgAvMvsMoOw5JWt2aFuGGBJs6yDqOwfvUc2Jqr8Lhk8y3rxQefxJePjsEn0lrsW/q67YPfdSSvWOphCS52FKs6KNfUwnr5qmupglJSIQe7JmT/+YiEIS8r5Ri2+l46CosrOnXFmgZFknj/hYXPwQW9prEKJNElR9uD8upH/oVfy+hvkuhj8PF7AVurK2AJblnPCAL5n+hbypzPUgorSPPqGpnFqfdnsAjTgm2lcEvz53sHZXh0XBraGmAFLlGEMJUU8r7sX75nB4kiSY+E4vILXMdDI1aKFwdOnsNWox+KVdOqali9nWn7lkStGZbb04OT8NcOizdsrd7j6NtDp/1SwGxi14I4oL3G+Elth+pboG5tW6O4ayrkEHw+958OQg4c+eYKLXcngRf/fgxxXKGcNm9eo26wcEwZeGEDXtTCOl5QViYHYKl/77w1vBjHQa03QJKO4Nkb1zRKJaxZVJhZb2oz2K98lULparq6DRptkfzt68NKsUv9Xqat5lby/3l1REZh5W9c3yJlnvI0eJGnMPQa4IUfpOUVuKsMg2hZKcd6JuQ1KFfhWe4c1SpFg229Il40V0Kxc8n+jnE5CHcg+sNbKfQF3nvcL25Y99eBKFGpWti3vC+fgxjWgN0WF4jpCRgz9n4csFIlSDSUbygbb2A9WLmxBbsawIu8T/atgRe0mhIvCqD8/fZYwDJezGBAkPAPe2GBXgUrMIwBxvhJbQjHjcILWPq580EXp6dh1KBrg5UyCrx481RYoskCaV5VpRS3dH3b2FYDnGqSI904u4N5axUv9mP+vX0CGepKuQbVzlmeF1lWDLygYcTuKJH9p0D+zwStNFVfk0YCn0sijJmrwvUwqDkXGMYONV4M3j866lWuE4Zc+B1jIWJ8T2YwW0igeT3vl1oY25bX8X0GF2d8UMZ+Zagg436p31/qdz8WfzrLjwGwK2orYYkEAF1e5WW3oJXYUeYAYaoUH7ToN477Lvs80z94Ovc/sK1aDH/gxjZkfQLBJeAsVhQ4od5SLPT1IDgXekI4BBVWER4W+36693pw2IWHP5yeShA+bAmB/fH+Vyo4i65IOq3hr52OWF7YjmBx6vLG1PZxeY17SatYHlag8vpqgQeXWmR4kM9sobJxFofjhmIFAHouWI5PLKSp9+RCU4yt/Jo6WGin8+Qo/FxjU1folNQLF/w+Gp5UgD2DOVHd2rBkyDm63xRjcXPXVYsfVovXTphfUDl2Qmjv6yfDUgZLZBW2dPMRcuiKY4rNgrWpsq5cmrE9eKQ3Bj9q+EqD+JgthzvC0oWtenuZGwTMuaQFkO1VyqS9SD7Atb1j5vuWc/1DkKUzI5PK8krr2Wzy0g7OwjZwcaMlvBqWoHDSpvxcuSCbLVQEj+KZGXWE26qZ40WVchnZaxEvGNHlhcOj83hRlx4v2IXAC2KLu7pCOnvDcrJvXEUBMNveM4MT0g68sSO0VKkbGb2WwgvUS3cC+sLz4K/PopJzDActu4EXzgpYt4kX+C9dIV7UYWcLHSLn+8dx+Ng8AechvJO94zIE9/ZauH6wbxcS79Rn4Fqg8ALtjcBo8CGs4FSUzJbRCPACRIt40YhdwYKiSzuCi92L1tJiV4k4a6ug9OKAKLDVbKGbAA+IvY5zIiTAVcC8/HRrEJtFvEBb6+pcsg/GiQEYU6h8my0X8cKNMQWjw1I7BjzPofAC7oLGwV+zdYYQ4eQUFNgAFCu69pTC9SNd3/IzfsdT65KRiVn5uC8mcQvYaPY5v0jft7Yf93smoQMHDqj0rXRdYMauaDSCVJAeeeSRR1QcxFOnTsnLL7+s/IlJZhkonDH8du7cKbt27VKxXA8ePKhI7qOPPnqx9Xv27FExbUl8X331VVUHEyGQNN99992m4yrSx/A0gJNAyq1MWgVTtxovVpzySwEmZgm2Vf0AhnMjyBIGslSC0/iZFlqhA7DonhlOiBvb9HZsowJllrycsRTd2HpM4MAET27fBn9HcAlThaeuCQoVtQ61Nb9UW/k5t98qoST4vQFlEeZhLDOHjUhazkJOQfiCVcEKSfkRiNMVkvMSlwP+W6UyhoM4JJcil/typbuen5G0dA1PIAQSEgCwb9HHs2mUHF5DULaVwrJYYJMBLDL9vjjcUMyl9KSSw5P8Dhy2dKG/SLDTFba1oBAhr7CNHugvlI+7ubCZizHMBZh+qyO+GPw3PVjE4aeP/5YQMw7uISQTFrfTPSPYGZlQLjc2LIhmCg+ZTqEukpYibFEv1V4uMvSTLsXBmAsg3yNh84Q0Ek8qpWwK/VSJeunvm25hU+3BFGOfFMIdh1ElLkBejGRhpjCUFhU67t7QapgpXpQaeIE5PwG8KDWDF+jEIObsmaGElJnACxJ/V6VTBjuHYIkOy9WIcGADhpgpZzEmGNKqDHOAW+RLlnm8oFGhd9Qv/XARWmcSL0iuunHocRq7OBXl9ozxwuF2wkWiSPVPD5Qruo+ZKSSGdFHIw/h3waKeSSFeFMHCmJgtku4hGFSgyNabdMuIoG/PDwIvcGjYhsOHS41jKrd0F6BPerB/RB12pi+rmcIzDN2YtyNjMWnBrpAN50MywwtEf2mtlzPHOtHuQFUvAAAaI0lEQVS/cVmLceEsMDemeOgRep15vMDYp9JAl0KzpR9+PT04JDeLNdsJhS4TvOB3bE6HTM4GpW90QuFNK6JX6JIbCXxOLcKXC4cpL99++22V+pIBq3fuvE2YAejJJ59UX2QaUBLd9vZ2lbp39+7dKm7ra6+9plwd6P/Le9D9IbXw75MnT6qYgsx0xsDuDB7P361khWHYGFp3CrBA0Gl+KRBSz4IFtQA+rPnYkmWUB0ZgMFOSQLI4yCwOlUtx2fyBvCV4MMGPFohCbJ/zJP4YSN5SZHKxZ6JliXFdeUCN98q08PDeBPzvVMxSk1YAEn9uVZJ02Y3DM2hPusL20hLAxZxbcFbAj9ZNxodkVbxXpsVWjAgLWBjoA85DHWYL20tlgWNKHYxboq28P62ktEDxJ7dKzRbsryg/Rfq/cseC1uBMC59TRQpBvXx2s4WhvChr3icT/1f2LYe7AyGSaGRJgBguRZ4XPhPHUxiL4jTay92UTEsxSIsdW8o83BezsH3Oa+j6wgNh+SAAGeMFXBQKkMRjQo0pc3hB0sLdDVqkaHXnAq0EmKbRSsZc9Gkph4wHQQR4H7OF4SR5uJZ4oSyGGY4PKmJhKA1BvMxaSTnlON/RRYoEq2de4tENvGC/ILiCioNrtq0RKLDEN8qXuJNpoftLEV7jOM/AuN1mC/t1FFZHJ4geFSu2ZalCnGBkIRwVV2ESl/r+ws85FniOgPOn0M56l1iAjBvga4XAR0aB4Y6KlR0kP+ct6jeDF6zeASMKlmoZt7BLx/MEBpabWQvsOIhaBPlwLeBLl9xJIHPUzl2dn/md6A7BDEubN2+Wu+66Sx1qY8au3/zmNxfdHfid7du3qwxFzJjDjDbPPvusfPzxxyrTCy2JC90d6BrBg3nMJkSXCuZdZ3pEZtuxEki9AABAh38Cy9zEzBCIsMjk05lYCHwZIFdKDxBz5raDQABA+DMtCiDxzzRIdFGWsQ0ZOYAHw2jZyrSQZJEwZQLUqfeEaNW6zYNYS22DpV5n/J4pRhvfz/ZnPuJD02qddcGwSOd2knr/ub5Nfcf674pQZ7iuWa/l0pWqKgv18RDKJDpX9a/J66lMTmMszphVyuD3lKTvk0UU5ljmiwSCJdO5wLmWnKbd3Jj76vKM/5kTD+YPMDWTQpmS3BjKLvFi7h6ZXH3pO0wqwOsYxoqDmXiRaZsLcLiokNebrJgzrxDPqwj/pUfJ6DeSHO6FWLmW47HIwrxPchxiPOTbQU4tXM/xZMufRSi8zIkW+0C9IBXOA7OFfcKY4ia75rJqGF8Xm2ymy9yYMF/zNMgsN1JM6Cimn23hBVSIuB7oknsJWBg6uX+IT/uODCPE9IzM382UlHR74N90aaAbA10hmAWIKW2ZjpS/M+UrUx3ys2AwiEk2F4ot9VmN8ES0/vLFaBFMk8hMUcZnqd9f6neGqqrByWaC2WQc22IZ9s70JNoBYl+DwPlmQwSRDDqL4a/oyJfxSExp10tyaTUXEQMWoWwYiqoFQeutnNitLZ9LBDIRhj8bCHWmZSYO/14EF690Qe4mSTgXpYpSuCVgMY3BDJ7JQsp+mEpMor2TKoA9g9abLQz15oKcZ9BOxlbNtEwipNg0+pbtLbcQWYAnx6sQDJ5xp9nWpRYLLkpsL0kdn7UOgfPNFip0Ndjmp0Vswh8G6cqsb6nCxeB6wudkZjArsVCbqjEWMYA5Nkky2Z6lCi3AEViGHAWz4rBhQc3gmtR7cs5V4lS5vdCcMhlHW9kvzJZlpW+ZGISJDFR8b+DFUn2rnhmynWJWMii9NU64hJiMRMKFnxkeiRfRYAR9xV5buvB7CfQJZctICswSZrYQZ0iix4EXVMAzZU4ToXFk4yxQCYDMZujiGPRg/sDgiYx5mSnec3iBWO/ACyfmvVu5m5lrbbljLnMbSa0ZvJiKw9oOF0AnLJZWxhQJaRXqjkQwfzAvlhpTnF9UrOJRfF/hhfnteuIFXTgYdSSBuOLcJcyo4GvEZEaw8CCSj80C8SeW50GpMoMXNCgwIogLWOEwOX/YLibKcCGjJtc8zt1MSyI6AWPVlLixFmQT1jLT+r5I38uQav1+i4QElRZaw12B5JcWYaPQWkGLcWrMYf7O62j1pWvEYoVEmtdZIb2L3a/GbVNZgmaxx8l4vUsVghBJRjQ8IQVTcWQiKzGdcpkLkxuTktnTwgA/EhFAW9qquYQlIZew1w/iX6iykVmxCm9EBrWq8mIZD0UV2LM9fF2pcIGJIyMDYyivhs+dyt5kQSWnLxlBLIw4sgTAdHXyWfh5FIRuAnJuQiY0ZkMzW0hYWhF6rTgP7i/esBIx23OlwjpVjN0xkI0YfOdwrZXsTUzXzGxmJFyMhZmuTvUsqJcWt2hwQhHKLavMh0Oitb0RMloFOfuH/ehf+MPRgpeub1kvFv3hnlGhgsT+tZI+nEkMHFjMI2MhEBH4z6apk+2lPCJoaxjPuLLGphbUK/XJld4nEW5DWxl5LQwZT2FxS1ev+gxTbDw0IbOwzK4AMWTSCbOFCs5qZIyDR7Kai0v1LetlQo8JkJZC9AezUppVNqg4M5vZZmRPC46GJIZ7Le39jbGMBXy0HwfsoBxdj0yCVkgLY2lXAy9IbJWhAAJLK2cDL3xhaa5AdjCEWzTdXtyDWfncwItQAIeUMsSLcYSLm4zFkYWs2FrfQhFsBfEvLUTf+hHdA+MlXf9SDsQLzltbckqNRysxfZmKmxktiRehMdS7xPzhmJ3BWhBBn1AB3Y4QnmYLjRONmDzEi8BwQJFDtidt36qxDJcK4EUT5g5x2UYTrclCvHASL3zAi/HM8IIyjmEdYgZDj0kfbD4ew/i1IotmAWIDh3w4g8G+TfPo/IyYEsC6UTTDkHzFKr21yabqr6eRQJqlOM1Vv2cfMarDwogPqU2ghZhRIk6fPq1cHPhZf3+/epEQ04pMUkzrMF0oaN0YHh4Wn8+n3jeIMIkxD+Slqyu13oW/V0ATvwqHSFqR9WmkdwygxoMwiwMgJwctXgGQwgCC89cDSLavK194y4z+pnZ559WVwtCEg53DIJtUEj5Jhlknn4ftCwIkwziwtnVNmazHQmHFIrwCCUBuQaaevERcgiBMk7BmqPYuAgpqEYDcRwB8UYDQDqR5JmFKByBXajwzTTFL3GQY6SyRvIJAvth9jPZOROIyNuCTyuJZpJh2qHTEV7r3ld6nRZjpqTfU2RQ5jGBxZjOvWC8+jGABDIxGpAHtZNIFM4cCjedgfFqmpmaK0L7zQ8qCkpcHb74FM99oK3cjwj7UO+RTC9M2C3GEeS8qV/dfV4FBOiveft+cVQvvL9pePAvHchBxQX1YCL90TYVa3MySFrZ5HcjSVZDzbGxCAiNY3LCgpxtT00j6wDFfUoA43Ii9ykXVbKHV7OqmElmNxBxB/7giiEqe7OAFhe/z++NI1hIYCUi9M1+obDCltdlSDtLChXwVsgFSxlygVVsX9C3vy3op4xDGXcAbxNyxyfb15kkL7+XEIaq70EdMLMPkOrFoDO8uhRcRjCk/8MKNjG847GbBIkzFd/vGCsmfRPpojFEm2knXt3wmJohhgo1dG4AXICBWyrUYT2uhmMUD4YzxYnTAD7wQuRZYw+c2W7hLwHixmxrsEkR/ES84bhadP/PziklT/FgP6tDOm5HswWZBxhyHOzaU4eAm8IIJmxTxv3Lfqh1VKHSxQETNPc4hs4XGGK59911bIYlQRLx9Y0rRIUAu2l7IYRY4FcCaQbzYud6JeL4wZPFGJgszxG3CmptEMhI/EvtkhBddI1CMZpEW3gWjiPm+pYJ/LeZ8S0W+asM4DRRXauv8+1Q6x0bC0oLskHxmszsbJsXyhfv65zKhBgnr3r17pbm5Wfnrnjt3TpHWq666Surr6xVZpT8v/X8ffvhhGRoaUnGH6QJB6zAJ7r59+1SEieuuu05uuOEGFVLt6NGjyqrMEGn8/ciRI9La2qp8j1nn8ePHFaH2eDzqAB1JtJlCa4uK+ADCdxJxScNIsViCRUcd1MK2D58N/6uShNWYSS0GLwxL8UxC7kdmn/uRVcgKGNAfrRrW6L7QtBw/M6q2pngquwiH0uiTxDr5Iuhx6y2ESTnSPSYVRTPyn+9tlPUgHxYwCMCObTgAL0MM9Q/BSopKinDSmjFJ6Sdt1Mu9clqUgtCIu8/2q/z2f3xbLdIBF1tKIEJyyEMzXUiiMIhIDFRkbKjX8Ms26uUiS6VgAEH5ucV/9+ZyuR9pLhssLGzsNAfIIeNlnkWUDR8IEw+GMDUsI0gYdfJ7JCxRLC5D3SNSMhOX+66vlq9cV2nJQkrC4US9TDl8+JwPfYjTxxhT7FslY9Rn1E2LUggWaC/IQ2kyLt/eUYs899aUK45VWjk7kNa5sxdxL9Gn3MLkoS72u1EnlUpa96jMDbf3SwuUwL9ARrvmKmt9y61+psXuRHbGfpzMRmUq2xmjnLAY9XJM0bpHhdMP0n/bepd846ZqZcFTXzT5D7e/ExhTHQPj4kW0DGZYmztwuLBvpyUeQd9eGJJZKNX3YEzdh761klCDlvcSHlLCvDzaHpIIDoNxh2YxvJjC/Al4QzLU5ZWS6bg8uM0j91nGC4TiA150IprCqXNjKmxVCaIM0Af4sr6dx4swcMoLOdeVzMqf7W6UdVCc+T2zhddUw1LaDhkPIBIDulAdeuX8ZbKH1L6dhlEi6I2o7HLXgjh8b9ccXlg5F8C+nQTx6hiIot6Ywgni1GJ4EcPu1kAnwnOC0N21yS33IE261aQLxAseivqoIyghKDk8GEZcXhQvsFs1jL61o293o1+ZkdKs2wv7w8ALHog8fMavDkETGxf2LWXNnSPiha9/TMolLt+5vU6sKM6sF4ig8IKx1ruBF7PEC+AUDVCXjal5vPADL4aAF0wV/qf3NGLeYvxZGFOUEeXZjagtA4g8gT9UqL9P4AWekWuBwgtkS7wTffsA0h5z58tKoVsTE5+cR7jUIFx91FqgDiinjGPcOImgxlRwBqCsu/MmVQrtu66ptGQUsfKcX5RrPpdEmFbZjo4O5RO8atUqCYVCakKtXbtWqqurlbsDSS+tu7fffrt0d3crYkv/YIZXYzQIkuGtW7eqw3X0J6YLBEOrHTp0SH2f1l/D75j3pVV5bGxMfUYCzHrpL2y2kLTQLzMGP74zyGZGDX8KjvkEHh5wmaHVGf5JtIiM9HjnSDAm5LewiNOv0krhvYuxPcSt0gsgLn29AVi/4aNM8o0t1BnUS7LCCTmKBS3Q75Vqe1K+ifzyD6FeK4uL8Zy00pSgzQShIS8t7vA75qEjLKJsL+sdR9D0MVhuR7qGZIW7QP7bg01yDbT4bLTiBgBYHkCWYYYGBxEHmaf252WchIzjyOQTDcax9TYmCV9Atq0qlT8EMdwIGVnNeEZLQBV90vDfOcRTHR4Oq8WcsiDgsW9Jzuj6MdSFNL2wapIoffNmpBq1YHkwZMx66VrR45+Wrgu0qMM3Gs9ASzjbShnT6u0fhtUBKVMdIMH3bkU6z9sQxN2C6wnr5ZjiTgPH8gXEf+0ZCKrMfPxsFkRf9S38AUn4R2FtH+0ZlkZYof4MKbtvwfaqWd9v3tco3B2hm+EAxpN3bEISiKbC/yhfpiqljKNwhRgEcQhiLG9pc8v3v9QASyXSiVtYTFkvn7cOfooFsLaf7QkDC6KIjAAhsGb0LRU5uh0FYNWhjHHKVm7fVCbfQN9y691qIV54MIfCiBLQ0R1QbjdzeAF/5fkxRbwYGwxCxiPilEkozTXy3R01ytfXSr0GXrRhe7c3MC2dPX7MWTV9VN9exIsg8ALWPYUXtqR8Z1edfA2pu3OBF/3DUenHmIrCnQscFWK+HC98g/N44SqQx4AXV8NybnUsc0jQB3UakXK6BqEoDkcUQaUc2NYkCKHCCySDGUBa58lgWKXP/vaO7FKjc966YfVnFsD2noiMKLzgmOIcmlsLFF6MQdFA3+bHJ+TLV5XLw8BlK5ZKdWP8w52nlUjj2xOYks4L2Jlkchs01sCLqXm88M3jRZnE5Os3e1AvsvxZsEKzXgMvyhGtop+hIgfhdsOoF5jHdBW8hBcxtTvnBV40oG9/dG+T3IpMlFaz6LFunitg/X0jURkGXnAtoJI1Mz15EZOJF1QiI0OjshmuPX9yR73a2bCKF7T40z95ElEn2vuYuyCKOtm3C/ACxp9BKM3F0wko6jXy1W3Vlnc22FZdFpdAHiwy6PLPV1Fb9yC6TK1MMkq3B/r68hAb/YQNH2ES4aqqKvntb38rTzzxhDz++OOK8NK6S8JMy66Rnpli4vsk2LRArFu3TvkO832SYJJf1sNQbNRiGXmC5NlqYQzIPch9/vwBrzAWbB4sAXZlLc1DW7Dq4FUDcKaF8uFtVepwktW6jOs4EHoQ0/Sf3oSFHJmjQiAQBfNWHp5Mn8I2cgHaS7/Eh2/1IMd7NQBkDpiNe1j9uR+pMp9+fwzZqkIqBBwtLkUIcTYLRsMtUPo0rl9ZJn/+5Vr4JzqzIkrGM9Lq8SYyzD29fwSJTJCwgieBYXUphSWCW2Q8pMIt/js2V8p3bqsDYbF2KNCoz/g5hlA/ryBRxZNIi+v1w38WET/siCdLUfLwBA/yVcDitvu6Ksi4StpAYrMtjGzALEg/2zskb53AliJ+z0Pf2tFWHk5hW+nj14a+fQBE6WsAXB7oyEX54EJUnkBbP7oAP2sAP8NZ8bQ2o37Q9w1eI7K6ySnfv6tOdmJRy0VhiCL27bMHUC8yLibQRqbQphVvfALkBWOZRH3b2jL5wd2NioxmQ76NZ+a8ZWKAX783Kj3IhpCvdlbmFNQEDmeSEHsqimEprFDzpw1+hrkoPliDnwRePIcsWwy7lYoX9AuexYsuV9w5ug/jymzM4is9I/Hif748pNKtT0Dm+Z/Ai6TyV3341lr5BsZUrvDiPWQB3PPWkBxFNkzAlNpJuogXmD8FUKQ3AC9+9KVa2QIXA5tFhS613Uxy8RbG1HOHvHIayS4WwwvOmTs2V8iju+pVzG8sFVkXZsR7HtkS/x2vQcSQLcBujoEXPDSYBD7Wgcx9GTj1lS0VKoV1tpUSL4hTP0OWxzeR3W4MeMFMotxxICYbeEG/3ge31UBZ95iKX5/u+Q5jvj6BNPTHOkIqxB/DZV6OF1iDVrgUXuwAXuRiCSJevIp2PoP5w7WAf9vgz07L8Dhi4M1i3pK8ci34LtYCxnPPBV4MInfAix/65dmDo+IL4nwOZExMZmE6dFjB4BdvBx7XyAPXV2al4KST+Rf9s88lETbTqSTFL730koop/JOf/ESFP8sVWJt5jsW+S8soU9y+ggl6FpNzOAoXAYB+PTThG9qcctuGclnlwZaQRS18sTr5Hsn9oY6ovHUqgBSucYkkQPbB6Zvhn3Q9fEZvhcXOit/bleoz3meg/vfOI/XrmZD0ILkB81bQVWRNTREO5LnUlh99bXNDvY1aRfqR+elNEH+mu+0LMqcSDjQghn09rMZ3Xl0hW1c5FQheuiL73xjzsteXkHeRpvPAuZDACKKsmPQrpA/Y7bDscAvZil/wUk/3EVKovo4UrF1wHRiJJgX4LnWwxtKfcQf8RnlIJ9eFrhnvI+sU29vuTSD+JixPqHdlVZHcgjrpW5grcpb67FxomMCBGQwZqxQhbFUEgNXVRbLrqkq5c2N21qTUuozfGZeUmfH2QuE41TchXbDEs+BMnFIid2+pkvUNONhKp/wcFtbbCdm+goxxxIsh4gWspXXzeHE73FxW12InJBfMIeW5aYE+3BVVyjNTPoeJF1jLmyoLgRduNaY+DbwYATl7H/3KVzeyVC7EiwexU5YLspLSVPUrs5hRyWJGTQMvPMAL7jLdQbzAPKKlPpdFuXJht+7FI2NyDq5kyKOi8GJFeYFsbChVeMGdBSt+wUs953GQ/tehuB9FtroI4lZDR1d4cQ1waif8iVd+GngBI8UH83hxHgmQUvHiVtTJeukjn+tCvDgAvGCWyWEkYCFe2LG+bl5hl60Yy3dgFyfXmMw471zn950OqXq5FrBUAy94voNrEA/XWd3RmLub/jedBL7wRFiRPrg7MLPc9773PRUyLdcLRboOMPOZShSAtdPq1ryZuozvUj5q6xFv5JpwG3Vc6SfrZvks+4NVcmG3cgL5Su3I5P3laCufiwsst6rhBfOZFaOtrPCz7FvwROV282mQo3TCM9r7WbaVz6PxIl2v5OYz7qZwg07jRW7kudhdjPnDzz7LOfRFw4vFZP9Fee8LT4S/KB2t26kloCWgJaAloCWgJaAloCVwuQQ+QzvQ5RXrv7QEtAS0BLQEtAS0BLQEtAS0BJZTApoIL6f0dd1aAloCWgJaAloCWgJaAloCyyYBTYSXTfS6Yi0BLQEtAS0BLQEtAS0BLYHllIAmwsspfV23loCWgJaAloCWgJaAloCWwLJJQBPhZRO9rlhLQEtAS0BLQEtAS0BLQEtgOSWgifBySl/XrSWgJaAloCWgJaAloCWgJbBsEtBEeNlEryvWEtAS0BLQEtAS0BLQEtASWE4JaCK8nNLXdWsJaAloCWgJaAloCWgJaAksmwQ0EV420euKtQS0BLQEtAS0BLQEtAS0BJZTApoIL6f0dd1aAloCWgJaAloCWgJaAloCyyYBTYSXTfS6Yi0BLQEtAS0BLQEtAS0BLYHllIAmwsspfV23loCWgJaAloCWgJaAloCWwLJJQBPhZRO9rlhLQEtAS0BLQEtAS0BLQEtgOSWgifBySl/XrSWgJaAloCWgJaAloCWgJbBsEtBEeNlEryvWEtAS0BLQEtAS0BLQEtASWE4JaCK8nNLXdWsJaAloCWgJaAloCWgJaAksmwQ0EV420euKtQS0BLQEtAS0BLQEtAS0BJZTApoIL6f0dd1aAloCWgJaAloCWgJaAloCyyaB/wcSTYxbjjTxswAAAABJRU5ErkJggg==)"
      ],
      "metadata": {
        "id": "xRvk9VUQ1RTp"
      }
    },
    {
      "cell_type": "markdown",
      "source": [
        "You see in the wavenet when we are trying to make the prediction for next layer in the sequence; it is a function of the previous character that feed in but not all of these characters are just crushed to a single layer. They are crushed slowly.\n",
        "\n",
        "In particular we take characters and we fue them into sort of bigram representation and we do that for all character consecutively. We then take bigrams and fuse those into four character level chunks. We keep doing this in tree like hierarchical manner.\n",
        "\n",
        "So basically we fuse the information from previous context slowly into the network as it gets deep."
      ],
      "metadata": {
        "id": "d0p8AAYI3DPv"
      }
    },
    {
      "cell_type": "code",
      "source": [
        "# from here go back and try with block_size 8"
      ],
      "metadata": {
        "id": "YK0ugPjN0bEv"
      },
      "execution_count": 64,
      "outputs": []
    },
    {
      "cell_type": "code",
      "source": [
        "# let us evaluate what is happening\n",
        "\n",
        "# take four examples at random\n",
        "ix = torch.randint(0, Xtr.shape[0], (4,))\n",
        "Xb, Yb = Xtr[ix], Ytr[ix]\n",
        "logits = model(Xb)\n",
        "print(Xb.shape) # sample size and block size\n",
        "Xb"
      ],
      "metadata": {
        "colab": {
          "base_uri": "https://localhost:8080/"
        },
        "id": "JDuaeY8w64pD",
        "outputId": "83bc3e8a-d934-403f-dada-ea5665a8fdb0"
      },
      "execution_count": 67,
      "outputs": [
        {
          "output_type": "stream",
          "name": "stdout",
          "text": [
            "torch.Size([4, 9])\n"
          ]
        },
        {
          "output_type": "execute_result",
          "data": {
            "text/plain": [
              "tensor([[ 0,  0,  0,  0,  0,  1, 20, 26,  5],\n",
              "        [ 0,  0,  0,  0,  0,  1, 14,  7,  5],\n",
              "        [ 0,  0,  0,  2, 18,  9, 20, 20,  1],\n",
              "        [ 0,  0,  0, 19,  8, 21, 12,  1, 13]])"
            ]
          },
          "metadata": {},
          "execution_count": 67
        }
      ]
    },
    {
      "cell_type": "code",
      "source": [
        "# first layer is embedding layer\n",
        "model.layers[0].out.shape # embedding layer\n",
        "\n",
        "# our embedding table has for each character a 10 dimensional vector that we are trying to learn.\n",
        "# what embedding layer does here is; it plucks out the embedding vector for each one fo these integers\n",
        "# and organizes it in 4 * 9 * 10 tensor."
      ],
      "metadata": {
        "colab": {
          "base_uri": "https://localhost:8080/"
        },
        "id": "qWDefXs57Ex8",
        "outputId": "b2178c30-c827-404a-ecd4-6fae93b445bc"
      },
      "execution_count": 68,
      "outputs": [
        {
          "output_type": "execute_result",
          "data": {
            "text/plain": [
              "torch.Size([4, 9, 10])"
            ]
          },
          "metadata": {},
          "execution_count": 68
        }
      ]
    },
    {
      "cell_type": "code",
      "source": [
        "model.layers[1].out.shape # flatten layer\n",
        "\n",
        "# what it effectively does is that all 10 dimensional embedding for al these 9 ccharcter just end up being stretched out into a long row.\n",
        "# basically concatenation"
      ],
      "metadata": {
        "colab": {
          "base_uri": "https://localhost:8080/"
        },
        "id": "dtuD8nM37UX1",
        "outputId": "d746c631-eca5-4e32-c57e-032e7d1d9059"
      },
      "execution_count": 69,
      "outputs": [
        {
          "output_type": "execute_result",
          "data": {
            "text/plain": [
              "torch.Size([4, 90])"
            ]
          },
          "metadata": {},
          "execution_count": 69
        }
      ]
    },
    {
      "cell_type": "code",
      "source": [
        "model.layers[2].out.shape # linear layer"
      ],
      "metadata": {
        "colab": {
          "base_uri": "https://localhost:8080/"
        },
        "id": "TEjvIrr_8CJT",
        "outputId": "242d86f0-dbce-4dec-9d2d-595b941cb1ff"
      },
      "execution_count": 70,
      "outputs": [
        {
          "output_type": "execute_result",
          "data": {
            "text/plain": [
              "torch.Size([4, 200])"
            ]
          },
          "metadata": {},
          "execution_count": 70
        }
      ]
    },
    {
      "cell_type": "markdown",
      "source": [
        "Let us look at the linear layer in the forward pass.\n",
        "Effectively in terms of shape looks like below.\n",
        "Basically a 4 * 80 input comes into input layer; get multiplied by 80 * 200 matrix inside and added with some bias. The shape is 4 * 200\n",
        "\n",
        "Torch's '@' operation is very powerful. You can give it higher dimensional matrixes (within rule) and it will be all right.\n",
        "\n",
        "this is because the multiplication work on last dimension and dimension before it in the input tensor are left unchanged.\n",
        "\n",
        "Dimension on the left are just treated as batch dimension and we can have multiple batch dimensions.\n",
        "\n",
        "We can use this fact in our network now.\n",
        "\n",
        "Remember we have this `n` character coming in and we do not want to flatten them out into large 1d tensor.\n",
        "\n",
        "Instead we want to group these\n",
        "\n",
        "`(1, 2), (3, 4), (5, 6), (7, 8)`\n",
        "\n",
        "```python\n",
        "(torch.randn(4, 4, 20) @ torch.randn(20, 200) + torch.randn(200)).shape\n",
        "```\n",
        "\n",
        "20 in this case is two chars each of 10 dimension. so we need to change the flatten layer so it does not outpu _4 * 80_ but outputs `4 * 4 * 20`\n",
        "\n",
        "We will have to change linear layer as well to how much input it expects."
      ],
      "metadata": {
        "id": "lsi-8GoK8k0t"
      }
    },
    {
      "cell_type": "code",
      "source": [
        "# (torch.randn(4, 80) @ torch.randn(80, 200) + torch.randn(200)).shape\n",
        "# (torch.randn(4, 5, 80) @ torch.randn(80, 200) + torch.randn(200)).shape\n",
        "(torch.randn(4, 4, 20) @ torch.randn(20, 200) + torch.randn(200)).shape"
      ],
      "metadata": {
        "colab": {
          "base_uri": "https://localhost:8080/"
        },
        "id": "of7L2VFO8ddJ",
        "outputId": "6c89c0a2-6262-4292-a569-284a8fdfb7b5"
      },
      "execution_count": 75,
      "outputs": [
        {
          "output_type": "execute_result",
          "data": {
            "text/plain": [
              "torch.Size([4, 4, 200])"
            ]
          },
          "metadata": {},
          "execution_count": 75
        }
      ]
    },
    {
      "cell_type": "code",
      "source": [
        "e = torch.randn(4, 8, 10) # goals: want this to be (4, 4, 20) where consecutive 10-d vectors gets concatenated\n",
        "# e.view(4, -1).shape # this is happening currently"
      ],
      "metadata": {
        "id": "YAFb9ITA9Bf0"
      },
      "execution_count": 81,
      "outputs": []
    },
    {
      "cell_type": "code",
      "source": [
        "# python way of getting all even/odd parts\n",
        "list(range(10))[::2]\n",
        "list(range(10))[1::2]"
      ],
      "metadata": {
        "colab": {
          "base_uri": "https://localhost:8080/"
        },
        "id": "ywYRl-wlHZ5E",
        "outputId": "ce06e490-ad79-483d-bc0f-dd3b7de04ea1"
      },
      "execution_count": 82,
      "outputs": [
        {
          "output_type": "execute_result",
          "data": {
            "text/plain": [
              "[1, 3, 5, 7, 9]"
            ]
          },
          "metadata": {},
          "execution_count": 82
        }
      ]
    },
    {
      "cell_type": "code",
      "source": [
        "torch.cat([e[:, ::2, :], e[:, 1::2, :]], dim=2).shape # grabbing even and odd parts and then concatenating"
      ],
      "metadata": {
        "colab": {
          "base_uri": "https://localhost:8080/"
        },
        "id": "brhNkg-8HqYN",
        "outputId": "8d35d67e-fce0-4ac9-b49d-003aeffcc029"
      },
      "execution_count": 84,
      "outputs": [
        {
          "output_type": "execute_result",
          "data": {
            "text/plain": [
              "torch.Size([4, 4, 20])"
            ]
          },
          "metadata": {},
          "execution_count": 84
        }
      ]
    },
    {
      "cell_type": "code",
      "source": [
        "# we can also do\n",
        "e.view(4, 4, 20).shape"
      ],
      "metadata": {
        "colab": {
          "base_uri": "https://localhost:8080/"
        },
        "id": "IklQzU1iH_Hy",
        "outputId": "1db04174-94a1-4f53-a63d-4ea6dd76627f"
      },
      "execution_count": 86,
      "outputs": [
        {
          "output_type": "execute_result",
          "data": {
            "text/plain": [
              "torch.Size([4, 4, 20])"
            ]
          },
          "metadata": {},
          "execution_count": 86
        }
      ]
    },
    {
      "cell_type": "code",
      "source": [
        "explicit = torch.cat([e[:, ::2, :], e[:, 1::2, :]], dim=2)\n",
        "implicit = e.view(4, 4, 20)\n",
        "# explicit == implicit\n",
        "(explicit == implicit).all()"
      ],
      "metadata": {
        "colab": {
          "base_uri": "https://localhost:8080/"
        },
        "id": "-3timJ5_IYoX",
        "outputId": "991f02c3-b3a0-4853-8e5e-83c711960ebb"
      },
      "execution_count": 88,
      "outputs": [
        {
          "output_type": "execute_result",
          "data": {
            "text/plain": [
              "tensor(True)"
            ]
          },
          "metadata": {},
          "execution_count": 88
        }
      ]
    },
    {
      "cell_type": "code",
      "source": [
        "class FlattenConsecutive:\n",
        "\n",
        "  def __init__(self, n):\n",
        "    self.n = n\n",
        "\n",
        "  def __call__(self, x):\n",
        "    B, T, C = x.shape\n",
        "    x = x.view(B, T//self.n, C*self.n)\n",
        "    if x.shape[1] == 1:\n",
        "      x = x.squeeze(1) # https://pytorch.org/docs/main/generated/torch.squeeze.html\n",
        "    self.out = x\n",
        "    return self.out\n",
        "\n",
        "  def parameters(self):\n",
        "    return []"
      ],
      "metadata": {
        "id": "utzlQsarIhyf"
      },
      "execution_count": 90,
      "outputs": []
    },
    {
      "cell_type": "code",
      "source": [
        "n_embed = 10\n",
        "# n_hidden = 200\n",
        "n_hidden = 68 # this helps us keep the number of parameters same as previous model for fair comparision\n",
        "vocab_size = len(itos)\n",
        "\n",
        "# C = torch.randn((vocab_size, n_embed)) # instead of this we now have Embedding layer\n",
        "# model = Sequential([\n",
        "#     Embedding(vocab_size, n_embed),\n",
        "#     FlattenConsecutive(block_size), # this will replicate the current behaviour\n",
        "#     Linear(n_embed * block_size, n_hidden, bias=False), BatchNorm1d(n_hidden), Tanh(),\n",
        "#     Linear(n_hidden, vocab_size),\n",
        "# ])\n",
        "\n",
        "model = Sequential([\n",
        "    Embedding(vocab_size, n_embed),\n",
        "    FlattenConsecutive(2), Linear(n_embed * 2, n_hidden, bias=False), BatchNorm1d(n_hidden), Tanh(),\n",
        "    FlattenConsecutive(2), Linear(n_hidden * 2, n_hidden, bias=False), BatchNorm1d(n_hidden), Tanh(),\n",
        "    FlattenConsecutive(2), Linear(n_hidden * 2, n_hidden, bias=False), BatchNorm1d(n_hidden), Tanh(),\n",
        "    Linear(n_hidden, vocab_size),\n",
        "])\n",
        "\n",
        "with torch.no_grad():\n",
        "  layers[-1].weight *= 0.1 # last layer is less confident\n",
        "\n",
        "parameters = model.parameters()\n",
        "print(sum(p.nelement() for p in parameters))\n",
        "for p in parameters:\n",
        "  p.requires_grad = True"
      ],
      "metadata": {
        "colab": {
          "base_uri": "https://localhost:8080/"
        },
        "id": "5R_8EdA9JmBE",
        "outputId": "4b5e0f56-bcac-4931-ebb0-a9d336642000"
      },
      "execution_count": 101,
      "outputs": [
        {
          "output_type": "stream",
          "name": "stdout",
          "text": [
            "22397\n"
          ]
        }
      ]
    },
    {
      "cell_type": "code",
      "source": [
        "ix = torch.randint(0, Xtr.shape[0], (4,))\n",
        "Xb, Yb = Xtr[ix], Ytr[ix]\n",
        "logits = model(Xb)\n",
        "print(Xb.shape) # sample size and block size\n",
        "Xb"
      ],
      "metadata": {
        "colab": {
          "base_uri": "https://localhost:8080/"
        },
        "id": "xp3ZVKdCKO3f",
        "outputId": "2e3cd387-2e8d-4be7-f30c-3cbf20563098"
      },
      "execution_count": 102,
      "outputs": [
        {
          "output_type": "stream",
          "name": "stdout",
          "text": [
            "torch.Size([4, 8])\n"
          ]
        },
        {
          "output_type": "execute_result",
          "data": {
            "text/plain": [
              "tensor([[ 0,  0, 14,  1, 19,  9,  1,  8],\n",
              "        [ 0,  0,  0,  0,  0,  0,  0,  0],\n",
              "        [ 0,  0,  0,  0,  0, 14,  9, 14],\n",
              "        [ 0,  0,  0,  0,  0,  0, 11,  1]])"
            ]
          },
          "metadata": {},
          "execution_count": 102
        }
      ]
    },
    {
      "cell_type": "code",
      "source": [
        "for layer in model.layers:\n",
        "  print(layer.__class__.__name__, ':', tuple(layer.out.shape))"
      ],
      "metadata": {
        "colab": {
          "base_uri": "https://localhost:8080/"
        },
        "id": "7vuWNIvqKU_6",
        "outputId": "6ddc9ac8-b93e-4f00-f5f0-1f15cf14e1a0"
      },
      "execution_count": 104,
      "outputs": [
        {
          "output_type": "stream",
          "name": "stdout",
          "text": [
            "Embedding : (4, 8, 10)\n",
            "FlattenConsecutive : (4, 4, 20)\n",
            "Linear : (4, 4, 68)\n",
            "BatchNorm1d : (4, 4, 68)\n",
            "Tanh : (4, 4, 68)\n",
            "FlattenConsecutive : (4, 2, 136)\n",
            "Linear : (4, 2, 68)\n",
            "BatchNorm1d : (4, 2, 68)\n",
            "Tanh : (4, 2, 68)\n",
            "FlattenConsecutive : (4, 136)\n",
            "Linear : (4, 68)\n",
            "BatchNorm1d : (4, 68)\n",
            "Tanh : (4, 68)\n",
            "Linear : (4, 27)\n"
          ]
        }
      ]
    },
    {
      "cell_type": "code",
      "source": [
        "max_steps = 200_000\n",
        "batch_size = 32\n",
        "loss_at_i = []\n",
        "\n",
        "for i in range(max_steps):\n",
        "  ix = torch.randint(0, Xtr.shape[0], (batch_size,))\n",
        "  Xb, Yb = Xtr[ix], Ytr[ix]\n",
        "\n",
        "  # forward pass\n",
        "  logits = model(Xb)\n",
        "  loss = F.cross_entropy(logits, Yb)\n",
        "\n",
        "  # backward pass\n",
        "  for p in parameters:\n",
        "    p.grad = None\n",
        "  loss.backward()\n",
        "\n",
        "  # update\n",
        "  lr = 0.1 if i < 100_000 else 0.01\n",
        "  for p in parameters:\n",
        "    p.data += -lr * p.grad\n",
        "\n",
        "  # track stats\n",
        "  if i % 10000 == 0:\n",
        "    print(f'{i:7d}/{max_steps:7d}: {loss.item():.4f}')\n",
        "  loss_at_i.append(loss.log10().item())"
      ],
      "metadata": {
        "colab": {
          "base_uri": "https://localhost:8080/"
        },
        "id": "rNM9tNL6J68k",
        "outputId": "3fe9005a-ea52-4c25-d7aa-72e08bcc858a"
      },
      "execution_count": 105,
      "outputs": [
        {
          "output_type": "stream",
          "name": "stdout",
          "text": [
            "      0/ 200000: 3.5593\n",
            "  10000/ 200000: 2.2404\n",
            "  20000/ 200000: 2.2285\n",
            "  30000/ 200000: 2.0989\n",
            "  40000/ 200000: 2.1360\n",
            "  50000/ 200000: 1.9549\n",
            "  60000/ 200000: 2.2716\n",
            "  70000/ 200000: 2.2079\n",
            "  80000/ 200000: 2.0955\n",
            "  90000/ 200000: 2.0917\n",
            " 100000/ 200000: 1.9160\n",
            " 110000/ 200000: 2.1351\n",
            " 120000/ 200000: 2.0349\n",
            " 130000/ 200000: 1.9514\n",
            " 140000/ 200000: 1.5495\n",
            " 150000/ 200000: 1.7090\n",
            " 160000/ 200000: 1.8804\n",
            " 170000/ 200000: 2.2339\n",
            " 180000/ 200000: 2.1941\n",
            " 190000/ 200000: 2.3983\n"
          ]
        }
      ]
    },
    {
      "cell_type": "code",
      "source": [
        "plt.plot(torch.tensor(loss_at_i).view(-1, 1000).mean(1))"
      ],
      "metadata": {
        "colab": {
          "base_uri": "https://localhost:8080/",
          "height": 447
        },
        "id": "befvom6DKBAh",
        "outputId": "46902305-b2a1-4b36-fb05-32dcab4d1482"
      },
      "execution_count": 106,
      "outputs": [
        {
          "output_type": "execute_result",
          "data": {
            "text/plain": [
              "[<matplotlib.lines.Line2D at 0x789835ee8810>]"
            ]
          },
          "metadata": {},
          "execution_count": 106
        },
        {
          "output_type": "display_data",
          "data": {
            "text/plain": [
              "<Figure size 640x480 with 1 Axes>"
            ],
            "image/png": "[encoded data removed]"
          },
          "metadata": {}
        }
      ]
    },
    {
      "cell_type": "code",
      "source": [
        "for layer in model.layers: # this needs to go as well\n",
        "  layer.training = False\n",
        "\n",
        "@torch.no_grad()\n",
        "def split_loss(split):\n",
        "  x, y = {\n",
        "      'train': (Xtr, Ytr),\n",
        "      'val': (Xdev, Ydev),\n",
        "      'test': (Xte, Yte),\n",
        "  }[split]\n",
        "  # emb = C[x]\n",
        "  # emb = emb.view(emb.shape[0], -1)\n",
        "  # for layer in layers:\n",
        "  #   emb = layer(emb)\n",
        "  logits = model(x)\n",
        "  loss = F.cross_entropy(logits, y)\n",
        "  print(split, loss.item())\n",
        "\n",
        "split_loss('train')\n",
        "split_loss('val')"
      ],
      "metadata": {
        "colab": {
          "base_uri": "https://localhost:8080/"
        },
        "id": "6NWdklR9KFEV",
        "outputId": "3aae2fec-ad27-4da1-f663-4f1422e0b0c9"
      },
      "execution_count": 107,
      "outputs": [
        {
          "output_type": "stream",
          "name": "stdout",
          "text": [
            "train 1.9228019714355469\n",
            "val 2.018551826477051\n"
          ]
        }
      ]
    },
    {
      "cell_type": "code",
      "source": [
        "n_embed = 24\n",
        "n_hidden = 128\n",
        "vocab_size = len(itos)\n",
        "\n",
        "model = Sequential([\n",
        "    Embedding(vocab_size, n_embed),\n",
        "    FlattenConsecutive(2), Linear(n_embed * 2, n_hidden, bias=False), BatchNorm1d(n_hidden), Tanh(),\n",
        "    FlattenConsecutive(2), Linear(n_hidden * 2, n_hidden, bias=False), BatchNorm1d(n_hidden), Tanh(),\n",
        "    FlattenConsecutive(2), Linear(n_hidden * 2, n_hidden, bias=False), BatchNorm1d(n_hidden), Tanh(),\n",
        "    Linear(n_hidden, vocab_size),\n",
        "])\n",
        "\n",
        "with torch.no_grad():\n",
        "  layers[-1].weight *= 0.1 # last layer is less confident\n",
        "\n",
        "parameters = model.parameters()\n",
        "print(sum(p.nelement() for p in parameters))\n",
        "for p in parameters:\n",
        "  p.requires_grad = True\n",
        "\n",
        "max_steps = 200_000\n",
        "batch_size = 32\n",
        "loss_at_i = []\n",
        "\n",
        "for i in range(max_steps):\n",
        "  ix = torch.randint(0, Xtr.shape[0], (batch_size,))\n",
        "  Xb, Yb = Xtr[ix], Ytr[ix]\n",
        "\n",
        "  # forward pass\n",
        "  logits = model(Xb)\n",
        "  loss = F.cross_entropy(logits, Yb)\n",
        "\n",
        "  # backward pass\n",
        "  for p in parameters:\n",
        "    p.grad = None\n",
        "  loss.backward()\n",
        "\n",
        "  # update\n",
        "  lr = 0.1 if i < 100_000 else 0.01\n",
        "  for p in parameters:\n",
        "    p.data += -lr * p.grad\n",
        "\n",
        "  # track stats\n",
        "  if i % 10000 == 0:\n",
        "    print(f'{i:7d}/{max_steps:7d}: {loss.item():.4f}')\n",
        "  loss_at_i.append(loss.log10().item())\n",
        "\n",
        "plt.plot(torch.tensor(loss_at_i).view(-1, 1000).mean(1))"
      ],
      "metadata": {
        "colab": {
          "base_uri": "https://localhost:8080/",
          "height": 812
        },
        "id": "z3146TzCMFmr",
        "outputId": "d46ae583-c90b-4df0-d460-5bd0e0ab0bcd"
      },
      "execution_count": 108,
      "outputs": [
        {
          "output_type": "stream",
          "name": "stdout",
          "text": [
            "76579\n",
            "      0/ 200000: 3.4425\n",
            "  10000/ 200000: 1.6663\n",
            "  20000/ 200000: 1.6922\n",
            "  30000/ 200000: 1.9636\n",
            "  40000/ 200000: 2.1615\n",
            "  50000/ 200000: 2.0950\n",
            "  60000/ 200000: 2.0591\n",
            "  70000/ 200000: 2.2480\n",
            "  80000/ 200000: 1.8272\n",
            "  90000/ 200000: 1.8757\n",
            " 100000/ 200000: 1.7776\n",
            " 110000/ 200000: 1.9053\n",
            " 120000/ 200000: 1.7185\n",
            " 130000/ 200000: 2.1554\n",
            " 140000/ 200000: 1.6722\n",
            " 150000/ 200000: 1.7633\n",
            " 160000/ 200000: 2.1334\n",
            " 170000/ 200000: 1.8472\n",
            " 180000/ 200000: 1.7768\n",
            " 190000/ 200000: 1.7091\n"
          ]
        },
        {
          "output_type": "execute_result",
          "data": {
            "text/plain": [
              "[<matplotlib.lines.Line2D at 0x789838381310>]"
            ]
          },
          "metadata": {},
          "execution_count": 108
        },
        {
          "output_type": "display_data",
          "data": {
            "text/plain": [
              "<Figure size 640x480 with 1 Axes>"
            ],
            "image/png": "[encoded data removed]"
          },
          "metadata": {}
        }
      ]
    },
    {
      "cell_type": "code",
      "source": [
        "for layer in model.layers: # this needs to go as well\n",
        "  layer.training = False\n",
        "\n",
        "@torch.no_grad()\n",
        "def split_loss(split):\n",
        "  x, y = {\n",
        "      'train': (Xtr, Ytr),\n",
        "      'val': (Xdev, Ydev),\n",
        "      'test': (Xte, Yte),\n",
        "  }[split]\n",
        "  # emb = C[x]\n",
        "  # emb = emb.view(emb.shape[0], -1)\n",
        "  # for layer in layers:\n",
        "  #   emb = layer(emb)\n",
        "  logits = model(x)\n",
        "  loss = F.cross_entropy(logits, y)\n",
        "  print(split, loss.item())\n",
        "\n",
        "split_loss('train')\n",
        "split_loss('val')"
      ],
      "metadata": {
        "colab": {
          "base_uri": "https://localhost:8080/"
        },
        "id": "cKTvqTkDOOda",
        "outputId": "5ee62e0c-b88e-4554-f7d1-4a605d8e46a3"
      },
      "execution_count": 113,
      "outputs": [
        {
          "output_type": "stream",
          "name": "stdout",
          "text": [
            "train nan\n",
            "val nan\n"
          ]
        }
      ]
    },
    {
      "cell_type": "code",
      "source": [
        "# why convolutions?\n",
        "\n",
        "for x, y in zip(Xtr[7:15], Ytr[7:15]):\n",
        "  print(''.join(itos[ix.item()] for ix in x), '---->', itos[y.item()])"
      ],
      "metadata": {
        "colab": {
          "base_uri": "https://localhost:8080/"
        },
        "id": "gCBnLPTRO3Po",
        "outputId": "cc471ac3-986b-43ac-dbfd-8fc235a7dc80"
      },
      "execution_count": 109,
      "outputs": [
        {
          "output_type": "stream",
          "name": "stdout",
          "text": [
            "........ ----> l\n",
            ".......l ----> i\n",
            "......li ----> n\n",
            ".....lin ----> d\n",
            "....lind ----> o\n",
            "...lindo ----> n\n",
            "..lindon ----> .\n",
            "........ ----> l\n"
          ]
        }
      ]
    },
    {
      "cell_type": "code",
      "source": [
        "# forward single example\n",
        "logits = model(Xtr[[7]])\n",
        "logits.shape"
      ],
      "metadata": {
        "colab": {
          "base_uri": "https://localhost:8080/"
        },
        "id": "gz6V2bCRPAKY",
        "outputId": "ca2949d6-898c-4a52-a116-52b3d881d1ca"
      },
      "execution_count": 110,
      "outputs": [
        {
          "output_type": "stream",
          "name": "stderr",
          "text": [
            "<ipython-input-30-09735dcd9d03>:37: UserWarning: var(): degrees of freedom is <= 0. Correction should be strictly less than the reduction factor (input numel divided by output numel). (Triggered internally at ../aten/src/ATen/native/ReduceOps.cpp:1823.)\n",
            "  xvar = x.var(dim, keepdim=True) # batch variance\n"
          ]
        },
        {
          "output_type": "execute_result",
          "data": {
            "text/plain": [
              "torch.Size([1, 27])"
            ]
          },
          "metadata": {},
          "execution_count": 110
        }
      ]
    },
    {
      "cell_type": "code",
      "source": [
        "# forward all of them\n",
        "logits = torch.zeros(8, 27)\n",
        "for i in range(8):\n",
        "  logits[i] = model(Xtr[[7+i]])\n",
        "logits.shape\n",
        "\n",
        "# so basically this \"for\" loop outside in python\n",
        "# move to CUDA in kernels.\n",
        "# it gets hidden in the convolution\n",
        "# this is efficient because:\n",
        "# 1. it executes in kernel\n",
        "# 2. some computations can be re-used"
      ],
      "metadata": {
        "colab": {
          "base_uri": "https://localhost:8080/"
        },
        "id": "JUfvsxVfPGhv",
        "outputId": "26741b1b-cea8-4998-9db3-d336ec8bc72d"
      },
      "execution_count": 111,
      "outputs": [
        {
          "output_type": "stream",
          "name": "stderr",
          "text": [
            "<ipython-input-30-09735dcd9d03>:37: UserWarning: var(): degrees of freedom is <= 0. Correction should be strictly less than the reduction factor (input numel divided by output numel). (Triggered internally at ../aten/src/ATen/native/ReduceOps.cpp:1823.)\n",
            "  xvar = x.var(dim, keepdim=True) # batch variance\n"
          ]
        },
        {
          "output_type": "execute_result",
          "data": {
            "text/plain": [
              "torch.Size([8, 27])"
            ]
          },
          "metadata": {},
          "execution_count": 111
        }
      ]
    },
    {
      "cell_type": "code",
      "source": [
        "# convolution is a \"for loop\"\n",
        "# allows us to forward Linear layers efficiently over space"
      ],
      "metadata": {
        "id": "iaxq8pyOPUwt"
      },
      "execution_count": 112,
      "outputs": []
    },
    {
      "cell_type": "code",
      "source": [],
      "metadata": {
        "id": "qumdfqJaP-LB"
      },
      "execution_count": null,
      "outputs": []
    }
  ]
}